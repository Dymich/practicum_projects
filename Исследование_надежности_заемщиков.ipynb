{
 "cells": [
  {
   "cell_type": "markdown",
   "id": "9ec64a4f",
   "metadata": {},
   "source": [
    "<div style=\"border:solid Chocolate 2px; padding: 40px\">\n",
    "\n",
    "<b>Евгений, приветствую!</b>\n",
    "\n",
    "Буду рада с тобой познакомиться. Меня зовут Евгения Маракова и я буду ревьюером твоего проекта. Если ты не против, то предлагаю общаться на \"ты\":) Если удобнее на \"вы\", то нет проблем, только скажи об этом.\n",
    "\n",
    "В процессе работы ты встретишь комментарии <font color='green'>зеленого</font>, <font color='gold'>желтого</font> и <font color='red'>красного</font> цветов. Что они значат, смотри ниже:\n",
    "    <br/>\n",
    "\n",
    "<div class=\"alert alert-success\">\n",
    "<h2> Комментарий ревьюера <a class=\"tocSkip\"> </h2>\n",
    "\n",
    "<b>Отлично!✅:</b> Решение на этом шаге является полностью правильным.\n",
    "</div>\n",
    "\n",
    "<br/>\n",
    "\n",
    "<div class=\"alert alert-warning\">\n",
    "    <h2> Комментарий ревьюера <a class=\"tocSkip\"> </h2>\n",
    "    \n",
    "<b>Можно лучше⚠️:</b> Решение на этом шаге станет еще лучше, если внести небольшие коррективы.\n",
    "</div>\n",
    "\n",
    "\n",
    "<br/>\n",
    "<div class=\"alert alert-block alert-danger\">\n",
    "<h2> Комментарий ревьюера <a class=\"tocSkip\"></h2>\n",
    "\n",
    "    \n",
    "<b>Необходимо исправить❌:</b>\n",
    " Решение на этом шаге требует существенной переработки и внесения правок. Напоминаю, что проект не может быть принят с первого раза, если ревью содержит комментарии, рекомендующие доработать шаги.\n",
    "</div>\n",
    "    \n",
    "Увидев мой комментарий, не удаляй его, он будет очень полезен в случае повторной проверки работы😊\n",
    "    \n",
    "Свой комментарий помечай так, как показано ниже, тогда нам будет легче вести диалог, а мне выполнить повторную проверку проекта.\n",
    "    <div class=\"alert alert-info\"> <b>Комментарий студента: </b> </div>\n",
    "   "
   ]
  },
  {
   "cell_type": "markdown",
   "id": "cf385f7f",
   "metadata": {
    "deletable": false,
    "editable": false,
    "id": "c81daeeb"
   },
   "source": [
    "# Исследование надежности заемщиков\n"
   ]
  },
  {
   "cell_type": "markdown",
   "id": "5da8c22c",
   "metadata": {
    "deletable": false,
    "editable": false,
    "id": "827c20bf"
   },
   "source": [
    "Во второй части проекта вы выполните шаги 3 и 4. Их вручную проверит ревьюер.\n",
    "Чтобы вам не пришлось писать код заново для шагов 1 и 2, мы добавили авторские решения в ячейки с кодом. \n",
    "\n"
   ]
  },
  {
   "cell_type": "markdown",
   "id": "13f38875",
   "metadata": {
    "deletable": false,
    "editable": false,
    "id": "744d7639"
   },
   "source": [
    "## Откройте таблицу и изучите общую информацию о данных"
   ]
  },
  {
   "cell_type": "markdown",
   "id": "0fb20ab8",
   "metadata": {
    "deletable": false,
    "editable": false,
    "id": "e7a14c31"
   },
   "source": [
    "**Задание 1. Импортируйте библиотеку pandas. Считайте данные из csv-файла в датафрейм и сохраните в переменную `data`. Путь к файлу:**\n",
    "\n",
    "`/datasets/data.csv`"
   ]
  },
  {
   "cell_type": "code",
   "execution_count": 1,
   "id": "9f5ecedb",
   "metadata": {
    "deletable": false,
    "id": "7bcf75c9"
   },
   "outputs": [],
   "source": [
    "import pandas as pd\n",
    "\n",
    "try:\n",
    "    data = pd.read_csv('/datasets/data.csv')\n",
    "except:\n",
    "    data = pd.read_csv('https://code.s3.yandex.net/datasets/data.csv')"
   ]
  },
  {
   "cell_type": "markdown",
   "id": "8098f76a",
   "metadata": {
    "deletable": false,
    "editable": false,
    "id": "b8038fe3"
   },
   "source": [
    "**Задание 2. Выведите первые 20 строчек датафрейма `data` на экран.**"
   ]
  },
  {
   "cell_type": "code",
   "execution_count": 2,
   "id": "15536679",
   "metadata": {
    "deletable": false,
    "id": "2a7cab99",
    "outputId": "1a8f3ef2-d323-4ec2-ddf7-89670b5944c4"
   },
   "outputs": [
    {
     "data": {
      "text/html": [
       "<div>\n",
       "<style scoped>\n",
       "    .dataframe tbody tr th:only-of-type {\n",
       "        vertical-align: middle;\n",
       "    }\n",
       "\n",
       "    .dataframe tbody tr th {\n",
       "        vertical-align: top;\n",
       "    }\n",
       "\n",
       "    .dataframe thead th {\n",
       "        text-align: right;\n",
       "    }\n",
       "</style>\n",
       "<table border=\"1\" class=\"dataframe\">\n",
       "  <thead>\n",
       "    <tr style=\"text-align: right;\">\n",
       "      <th></th>\n",
       "      <th>children</th>\n",
       "      <th>days_employed</th>\n",
       "      <th>dob_years</th>\n",
       "      <th>education</th>\n",
       "      <th>education_id</th>\n",
       "      <th>family_status</th>\n",
       "      <th>family_status_id</th>\n",
       "      <th>gender</th>\n",
       "      <th>income_type</th>\n",
       "      <th>debt</th>\n",
       "      <th>total_income</th>\n",
       "      <th>purpose</th>\n",
       "    </tr>\n",
       "  </thead>\n",
       "  <tbody>\n",
       "    <tr>\n",
       "      <th>0</th>\n",
       "      <td>1</td>\n",
       "      <td>-8437.673028</td>\n",
       "      <td>42</td>\n",
       "      <td>высшее</td>\n",
       "      <td>0</td>\n",
       "      <td>женат / замужем</td>\n",
       "      <td>0</td>\n",
       "      <td>F</td>\n",
       "      <td>сотрудник</td>\n",
       "      <td>0</td>\n",
       "      <td>253875.639453</td>\n",
       "      <td>покупка жилья</td>\n",
       "    </tr>\n",
       "    <tr>\n",
       "      <th>1</th>\n",
       "      <td>1</td>\n",
       "      <td>-4024.803754</td>\n",
       "      <td>36</td>\n",
       "      <td>среднее</td>\n",
       "      <td>1</td>\n",
       "      <td>женат / замужем</td>\n",
       "      <td>0</td>\n",
       "      <td>F</td>\n",
       "      <td>сотрудник</td>\n",
       "      <td>0</td>\n",
       "      <td>112080.014102</td>\n",
       "      <td>приобретение автомобиля</td>\n",
       "    </tr>\n",
       "    <tr>\n",
       "      <th>2</th>\n",
       "      <td>0</td>\n",
       "      <td>-5623.422610</td>\n",
       "      <td>33</td>\n",
       "      <td>Среднее</td>\n",
       "      <td>1</td>\n",
       "      <td>женат / замужем</td>\n",
       "      <td>0</td>\n",
       "      <td>M</td>\n",
       "      <td>сотрудник</td>\n",
       "      <td>0</td>\n",
       "      <td>145885.952297</td>\n",
       "      <td>покупка жилья</td>\n",
       "    </tr>\n",
       "    <tr>\n",
       "      <th>3</th>\n",
       "      <td>3</td>\n",
       "      <td>-4124.747207</td>\n",
       "      <td>32</td>\n",
       "      <td>среднее</td>\n",
       "      <td>1</td>\n",
       "      <td>женат / замужем</td>\n",
       "      <td>0</td>\n",
       "      <td>M</td>\n",
       "      <td>сотрудник</td>\n",
       "      <td>0</td>\n",
       "      <td>267628.550329</td>\n",
       "      <td>дополнительное образование</td>\n",
       "    </tr>\n",
       "    <tr>\n",
       "      <th>4</th>\n",
       "      <td>0</td>\n",
       "      <td>340266.072047</td>\n",
       "      <td>53</td>\n",
       "      <td>среднее</td>\n",
       "      <td>1</td>\n",
       "      <td>гражданский брак</td>\n",
       "      <td>1</td>\n",
       "      <td>F</td>\n",
       "      <td>пенсионер</td>\n",
       "      <td>0</td>\n",
       "      <td>158616.077870</td>\n",
       "      <td>сыграть свадьбу</td>\n",
       "    </tr>\n",
       "    <tr>\n",
       "      <th>5</th>\n",
       "      <td>0</td>\n",
       "      <td>-926.185831</td>\n",
       "      <td>27</td>\n",
       "      <td>высшее</td>\n",
       "      <td>0</td>\n",
       "      <td>гражданский брак</td>\n",
       "      <td>1</td>\n",
       "      <td>M</td>\n",
       "      <td>компаньон</td>\n",
       "      <td>0</td>\n",
       "      <td>255763.565419</td>\n",
       "      <td>покупка жилья</td>\n",
       "    </tr>\n",
       "    <tr>\n",
       "      <th>6</th>\n",
       "      <td>0</td>\n",
       "      <td>-2879.202052</td>\n",
       "      <td>43</td>\n",
       "      <td>высшее</td>\n",
       "      <td>0</td>\n",
       "      <td>женат / замужем</td>\n",
       "      <td>0</td>\n",
       "      <td>F</td>\n",
       "      <td>компаньон</td>\n",
       "      <td>0</td>\n",
       "      <td>240525.971920</td>\n",
       "      <td>операции с жильем</td>\n",
       "    </tr>\n",
       "    <tr>\n",
       "      <th>7</th>\n",
       "      <td>0</td>\n",
       "      <td>-152.779569</td>\n",
       "      <td>50</td>\n",
       "      <td>СРЕДНЕЕ</td>\n",
       "      <td>1</td>\n",
       "      <td>женат / замужем</td>\n",
       "      <td>0</td>\n",
       "      <td>M</td>\n",
       "      <td>сотрудник</td>\n",
       "      <td>0</td>\n",
       "      <td>135823.934197</td>\n",
       "      <td>образование</td>\n",
       "    </tr>\n",
       "    <tr>\n",
       "      <th>8</th>\n",
       "      <td>2</td>\n",
       "      <td>-6929.865299</td>\n",
       "      <td>35</td>\n",
       "      <td>ВЫСШЕЕ</td>\n",
       "      <td>0</td>\n",
       "      <td>гражданский брак</td>\n",
       "      <td>1</td>\n",
       "      <td>F</td>\n",
       "      <td>сотрудник</td>\n",
       "      <td>0</td>\n",
       "      <td>95856.832424</td>\n",
       "      <td>на проведение свадьбы</td>\n",
       "    </tr>\n",
       "    <tr>\n",
       "      <th>9</th>\n",
       "      <td>0</td>\n",
       "      <td>-2188.756445</td>\n",
       "      <td>41</td>\n",
       "      <td>среднее</td>\n",
       "      <td>1</td>\n",
       "      <td>женат / замужем</td>\n",
       "      <td>0</td>\n",
       "      <td>M</td>\n",
       "      <td>сотрудник</td>\n",
       "      <td>0</td>\n",
       "      <td>144425.938277</td>\n",
       "      <td>покупка жилья для семьи</td>\n",
       "    </tr>\n",
       "    <tr>\n",
       "      <th>10</th>\n",
       "      <td>2</td>\n",
       "      <td>-4171.483647</td>\n",
       "      <td>36</td>\n",
       "      <td>высшее</td>\n",
       "      <td>0</td>\n",
       "      <td>женат / замужем</td>\n",
       "      <td>0</td>\n",
       "      <td>M</td>\n",
       "      <td>компаньон</td>\n",
       "      <td>0</td>\n",
       "      <td>113943.491460</td>\n",
       "      <td>покупка недвижимости</td>\n",
       "    </tr>\n",
       "    <tr>\n",
       "      <th>11</th>\n",
       "      <td>0</td>\n",
       "      <td>-792.701887</td>\n",
       "      <td>40</td>\n",
       "      <td>среднее</td>\n",
       "      <td>1</td>\n",
       "      <td>женат / замужем</td>\n",
       "      <td>0</td>\n",
       "      <td>F</td>\n",
       "      <td>сотрудник</td>\n",
       "      <td>0</td>\n",
       "      <td>77069.234271</td>\n",
       "      <td>покупка коммерческой недвижимости</td>\n",
       "    </tr>\n",
       "    <tr>\n",
       "      <th>12</th>\n",
       "      <td>0</td>\n",
       "      <td>NaN</td>\n",
       "      <td>65</td>\n",
       "      <td>среднее</td>\n",
       "      <td>1</td>\n",
       "      <td>гражданский брак</td>\n",
       "      <td>1</td>\n",
       "      <td>M</td>\n",
       "      <td>пенсионер</td>\n",
       "      <td>0</td>\n",
       "      <td>NaN</td>\n",
       "      <td>сыграть свадьбу</td>\n",
       "    </tr>\n",
       "    <tr>\n",
       "      <th>13</th>\n",
       "      <td>0</td>\n",
       "      <td>-1846.641941</td>\n",
       "      <td>54</td>\n",
       "      <td>неоконченное высшее</td>\n",
       "      <td>2</td>\n",
       "      <td>женат / замужем</td>\n",
       "      <td>0</td>\n",
       "      <td>F</td>\n",
       "      <td>сотрудник</td>\n",
       "      <td>0</td>\n",
       "      <td>130458.228857</td>\n",
       "      <td>приобретение автомобиля</td>\n",
       "    </tr>\n",
       "    <tr>\n",
       "      <th>14</th>\n",
       "      <td>0</td>\n",
       "      <td>-1844.956182</td>\n",
       "      <td>56</td>\n",
       "      <td>высшее</td>\n",
       "      <td>0</td>\n",
       "      <td>гражданский брак</td>\n",
       "      <td>1</td>\n",
       "      <td>F</td>\n",
       "      <td>компаньон</td>\n",
       "      <td>1</td>\n",
       "      <td>165127.911772</td>\n",
       "      <td>покупка жилой недвижимости</td>\n",
       "    </tr>\n",
       "    <tr>\n",
       "      <th>15</th>\n",
       "      <td>1</td>\n",
       "      <td>-972.364419</td>\n",
       "      <td>26</td>\n",
       "      <td>среднее</td>\n",
       "      <td>1</td>\n",
       "      <td>женат / замужем</td>\n",
       "      <td>0</td>\n",
       "      <td>F</td>\n",
       "      <td>сотрудник</td>\n",
       "      <td>0</td>\n",
       "      <td>116820.904450</td>\n",
       "      <td>строительство собственной недвижимости</td>\n",
       "    </tr>\n",
       "    <tr>\n",
       "      <th>16</th>\n",
       "      <td>0</td>\n",
       "      <td>-1719.934226</td>\n",
       "      <td>35</td>\n",
       "      <td>среднее</td>\n",
       "      <td>1</td>\n",
       "      <td>женат / замужем</td>\n",
       "      <td>0</td>\n",
       "      <td>F</td>\n",
       "      <td>сотрудник</td>\n",
       "      <td>0</td>\n",
       "      <td>289202.704229</td>\n",
       "      <td>недвижимость</td>\n",
       "    </tr>\n",
       "    <tr>\n",
       "      <th>17</th>\n",
       "      <td>0</td>\n",
       "      <td>-2369.999720</td>\n",
       "      <td>33</td>\n",
       "      <td>высшее</td>\n",
       "      <td>0</td>\n",
       "      <td>гражданский брак</td>\n",
       "      <td>1</td>\n",
       "      <td>M</td>\n",
       "      <td>сотрудник</td>\n",
       "      <td>0</td>\n",
       "      <td>90410.586745</td>\n",
       "      <td>строительство недвижимости</td>\n",
       "    </tr>\n",
       "    <tr>\n",
       "      <th>18</th>\n",
       "      <td>0</td>\n",
       "      <td>400281.136913</td>\n",
       "      <td>53</td>\n",
       "      <td>среднее</td>\n",
       "      <td>1</td>\n",
       "      <td>вдовец / вдова</td>\n",
       "      <td>2</td>\n",
       "      <td>F</td>\n",
       "      <td>пенсионер</td>\n",
       "      <td>0</td>\n",
       "      <td>56823.777243</td>\n",
       "      <td>на покупку подержанного автомобиля</td>\n",
       "    </tr>\n",
       "    <tr>\n",
       "      <th>19</th>\n",
       "      <td>0</td>\n",
       "      <td>-10038.818549</td>\n",
       "      <td>48</td>\n",
       "      <td>СРЕДНЕЕ</td>\n",
       "      <td>1</td>\n",
       "      <td>в разводе</td>\n",
       "      <td>3</td>\n",
       "      <td>F</td>\n",
       "      <td>сотрудник</td>\n",
       "      <td>0</td>\n",
       "      <td>242831.107982</td>\n",
       "      <td>на покупку своего автомобиля</td>\n",
       "    </tr>\n",
       "  </tbody>\n",
       "</table>\n",
       "</div>"
      ],
      "text/plain": [
       "    children  days_employed  dob_years            education  education_id  \\\n",
       "0          1   -8437.673028         42               высшее             0   \n",
       "1          1   -4024.803754         36              среднее             1   \n",
       "2          0   -5623.422610         33              Среднее             1   \n",
       "3          3   -4124.747207         32              среднее             1   \n",
       "4          0  340266.072047         53              среднее             1   \n",
       "5          0    -926.185831         27               высшее             0   \n",
       "6          0   -2879.202052         43               высшее             0   \n",
       "7          0    -152.779569         50              СРЕДНЕЕ             1   \n",
       "8          2   -6929.865299         35               ВЫСШЕЕ             0   \n",
       "9          0   -2188.756445         41              среднее             1   \n",
       "10         2   -4171.483647         36               высшее             0   \n",
       "11         0    -792.701887         40              среднее             1   \n",
       "12         0            NaN         65              среднее             1   \n",
       "13         0   -1846.641941         54  неоконченное высшее             2   \n",
       "14         0   -1844.956182         56               высшее             0   \n",
       "15         1    -972.364419         26              среднее             1   \n",
       "16         0   -1719.934226         35              среднее             1   \n",
       "17         0   -2369.999720         33               высшее             0   \n",
       "18         0  400281.136913         53              среднее             1   \n",
       "19         0  -10038.818549         48              СРЕДНЕЕ             1   \n",
       "\n",
       "       family_status  family_status_id gender income_type  debt  \\\n",
       "0    женат / замужем                 0      F   сотрудник     0   \n",
       "1    женат / замужем                 0      F   сотрудник     0   \n",
       "2    женат / замужем                 0      M   сотрудник     0   \n",
       "3    женат / замужем                 0      M   сотрудник     0   \n",
       "4   гражданский брак                 1      F   пенсионер     0   \n",
       "5   гражданский брак                 1      M   компаньон     0   \n",
       "6    женат / замужем                 0      F   компаньон     0   \n",
       "7    женат / замужем                 0      M   сотрудник     0   \n",
       "8   гражданский брак                 1      F   сотрудник     0   \n",
       "9    женат / замужем                 0      M   сотрудник     0   \n",
       "10   женат / замужем                 0      M   компаньон     0   \n",
       "11   женат / замужем                 0      F   сотрудник     0   \n",
       "12  гражданский брак                 1      M   пенсионер     0   \n",
       "13   женат / замужем                 0      F   сотрудник     0   \n",
       "14  гражданский брак                 1      F   компаньон     1   \n",
       "15   женат / замужем                 0      F   сотрудник     0   \n",
       "16   женат / замужем                 0      F   сотрудник     0   \n",
       "17  гражданский брак                 1      M   сотрудник     0   \n",
       "18    вдовец / вдова                 2      F   пенсионер     0   \n",
       "19         в разводе                 3      F   сотрудник     0   \n",
       "\n",
       "     total_income                                 purpose  \n",
       "0   253875.639453                           покупка жилья  \n",
       "1   112080.014102                 приобретение автомобиля  \n",
       "2   145885.952297                           покупка жилья  \n",
       "3   267628.550329              дополнительное образование  \n",
       "4   158616.077870                         сыграть свадьбу  \n",
       "5   255763.565419                           покупка жилья  \n",
       "6   240525.971920                       операции с жильем  \n",
       "7   135823.934197                             образование  \n",
       "8    95856.832424                   на проведение свадьбы  \n",
       "9   144425.938277                 покупка жилья для семьи  \n",
       "10  113943.491460                    покупка недвижимости  \n",
       "11   77069.234271       покупка коммерческой недвижимости  \n",
       "12            NaN                         сыграть свадьбу  \n",
       "13  130458.228857                 приобретение автомобиля  \n",
       "14  165127.911772              покупка жилой недвижимости  \n",
       "15  116820.904450  строительство собственной недвижимости  \n",
       "16  289202.704229                            недвижимость  \n",
       "17   90410.586745              строительство недвижимости  \n",
       "18   56823.777243      на покупку подержанного автомобиля  \n",
       "19  242831.107982            на покупку своего автомобиля  "
      ]
     },
     "execution_count": 2,
     "metadata": {},
     "output_type": "execute_result"
    }
   ],
   "source": [
    "data.head(20)"
   ]
  },
  {
   "cell_type": "markdown",
   "id": "9b06123f",
   "metadata": {
    "deletable": false,
    "editable": false,
    "id": "1c12e233"
   },
   "source": [
    "**Задание 3. Выведите основную информацию о датафрейме с помощью метода `info()`.**"
   ]
  },
  {
   "cell_type": "code",
   "execution_count": 3,
   "id": "bcb10795",
   "metadata": {
    "deletable": false,
    "id": "2b757bca",
    "outputId": "15376089-8dad-46c9-b520-c05248d43158",
    "scrolled": true
   },
   "outputs": [
    {
     "name": "stdout",
     "output_type": "stream",
     "text": [
      "<class 'pandas.core.frame.DataFrame'>\n",
      "RangeIndex: 21525 entries, 0 to 21524\n",
      "Data columns (total 12 columns):\n",
      " #   Column            Non-Null Count  Dtype  \n",
      "---  ------            --------------  -----  \n",
      " 0   children          21525 non-null  int64  \n",
      " 1   days_employed     19351 non-null  float64\n",
      " 2   dob_years         21525 non-null  int64  \n",
      " 3   education         21525 non-null  object \n",
      " 4   education_id      21525 non-null  int64  \n",
      " 5   family_status     21525 non-null  object \n",
      " 6   family_status_id  21525 non-null  int64  \n",
      " 7   gender            21525 non-null  object \n",
      " 8   income_type       21525 non-null  object \n",
      " 9   debt              21525 non-null  int64  \n",
      " 10  total_income      19351 non-null  float64\n",
      " 11  purpose           21525 non-null  object \n",
      "dtypes: float64(2), int64(5), object(5)\n",
      "memory usage: 2.0+ MB\n"
     ]
    }
   ],
   "source": [
    "data.info()"
   ]
  },
  {
   "cell_type": "code",
   "execution_count": 4,
   "id": "760d845b",
   "metadata": {},
   "outputs": [
    {
     "data": {
      "text/html": [
       "<div>\n",
       "<style scoped>\n",
       "    .dataframe tbody tr th:only-of-type {\n",
       "        vertical-align: middle;\n",
       "    }\n",
       "\n",
       "    .dataframe tbody tr th {\n",
       "        vertical-align: top;\n",
       "    }\n",
       "\n",
       "    .dataframe thead th {\n",
       "        text-align: right;\n",
       "    }\n",
       "</style>\n",
       "<table border=\"1\" class=\"dataframe\">\n",
       "  <thead>\n",
       "    <tr style=\"text-align: right;\">\n",
       "      <th></th>\n",
       "      <th>children</th>\n",
       "      <th>days_employed</th>\n",
       "      <th>dob_years</th>\n",
       "      <th>education</th>\n",
       "      <th>education_id</th>\n",
       "      <th>family_status</th>\n",
       "      <th>family_status_id</th>\n",
       "      <th>gender</th>\n",
       "      <th>income_type</th>\n",
       "      <th>debt</th>\n",
       "      <th>total_income</th>\n",
       "      <th>purpose</th>\n",
       "    </tr>\n",
       "  </thead>\n",
       "  <tbody>\n",
       "    <tr>\n",
       "      <th>12</th>\n",
       "      <td>0</td>\n",
       "      <td>NaN</td>\n",
       "      <td>65</td>\n",
       "      <td>среднее</td>\n",
       "      <td>1</td>\n",
       "      <td>гражданский брак</td>\n",
       "      <td>1</td>\n",
       "      <td>M</td>\n",
       "      <td>пенсионер</td>\n",
       "      <td>0</td>\n",
       "      <td>NaN</td>\n",
       "      <td>сыграть свадьбу</td>\n",
       "    </tr>\n",
       "    <tr>\n",
       "      <th>26</th>\n",
       "      <td>0</td>\n",
       "      <td>NaN</td>\n",
       "      <td>41</td>\n",
       "      <td>среднее</td>\n",
       "      <td>1</td>\n",
       "      <td>женат / замужем</td>\n",
       "      <td>0</td>\n",
       "      <td>M</td>\n",
       "      <td>госслужащий</td>\n",
       "      <td>0</td>\n",
       "      <td>NaN</td>\n",
       "      <td>образование</td>\n",
       "    </tr>\n",
       "    <tr>\n",
       "      <th>29</th>\n",
       "      <td>0</td>\n",
       "      <td>NaN</td>\n",
       "      <td>63</td>\n",
       "      <td>среднее</td>\n",
       "      <td>1</td>\n",
       "      <td>Не женат / не замужем</td>\n",
       "      <td>4</td>\n",
       "      <td>F</td>\n",
       "      <td>пенсионер</td>\n",
       "      <td>0</td>\n",
       "      <td>NaN</td>\n",
       "      <td>строительство жилой недвижимости</td>\n",
       "    </tr>\n",
       "    <tr>\n",
       "      <th>41</th>\n",
       "      <td>0</td>\n",
       "      <td>NaN</td>\n",
       "      <td>50</td>\n",
       "      <td>среднее</td>\n",
       "      <td>1</td>\n",
       "      <td>женат / замужем</td>\n",
       "      <td>0</td>\n",
       "      <td>F</td>\n",
       "      <td>госслужащий</td>\n",
       "      <td>0</td>\n",
       "      <td>NaN</td>\n",
       "      <td>сделка с подержанным автомобилем</td>\n",
       "    </tr>\n",
       "    <tr>\n",
       "      <th>55</th>\n",
       "      <td>0</td>\n",
       "      <td>NaN</td>\n",
       "      <td>54</td>\n",
       "      <td>среднее</td>\n",
       "      <td>1</td>\n",
       "      <td>гражданский брак</td>\n",
       "      <td>1</td>\n",
       "      <td>F</td>\n",
       "      <td>пенсионер</td>\n",
       "      <td>1</td>\n",
       "      <td>NaN</td>\n",
       "      <td>сыграть свадьбу</td>\n",
       "    </tr>\n",
       "    <tr>\n",
       "      <th>...</th>\n",
       "      <td>...</td>\n",
       "      <td>...</td>\n",
       "      <td>...</td>\n",
       "      <td>...</td>\n",
       "      <td>...</td>\n",
       "      <td>...</td>\n",
       "      <td>...</td>\n",
       "      <td>...</td>\n",
       "      <td>...</td>\n",
       "      <td>...</td>\n",
       "      <td>...</td>\n",
       "      <td>...</td>\n",
       "    </tr>\n",
       "    <tr>\n",
       "      <th>21489</th>\n",
       "      <td>2</td>\n",
       "      <td>NaN</td>\n",
       "      <td>47</td>\n",
       "      <td>Среднее</td>\n",
       "      <td>1</td>\n",
       "      <td>женат / замужем</td>\n",
       "      <td>0</td>\n",
       "      <td>M</td>\n",
       "      <td>компаньон</td>\n",
       "      <td>0</td>\n",
       "      <td>NaN</td>\n",
       "      <td>сделка с автомобилем</td>\n",
       "    </tr>\n",
       "    <tr>\n",
       "      <th>21495</th>\n",
       "      <td>1</td>\n",
       "      <td>NaN</td>\n",
       "      <td>50</td>\n",
       "      <td>среднее</td>\n",
       "      <td>1</td>\n",
       "      <td>гражданский брак</td>\n",
       "      <td>1</td>\n",
       "      <td>F</td>\n",
       "      <td>сотрудник</td>\n",
       "      <td>0</td>\n",
       "      <td>NaN</td>\n",
       "      <td>свадьба</td>\n",
       "    </tr>\n",
       "    <tr>\n",
       "      <th>21497</th>\n",
       "      <td>0</td>\n",
       "      <td>NaN</td>\n",
       "      <td>48</td>\n",
       "      <td>ВЫСШЕЕ</td>\n",
       "      <td>0</td>\n",
       "      <td>женат / замужем</td>\n",
       "      <td>0</td>\n",
       "      <td>F</td>\n",
       "      <td>компаньон</td>\n",
       "      <td>0</td>\n",
       "      <td>NaN</td>\n",
       "      <td>строительство недвижимости</td>\n",
       "    </tr>\n",
       "    <tr>\n",
       "      <th>21502</th>\n",
       "      <td>1</td>\n",
       "      <td>NaN</td>\n",
       "      <td>42</td>\n",
       "      <td>среднее</td>\n",
       "      <td>1</td>\n",
       "      <td>женат / замужем</td>\n",
       "      <td>0</td>\n",
       "      <td>F</td>\n",
       "      <td>сотрудник</td>\n",
       "      <td>0</td>\n",
       "      <td>NaN</td>\n",
       "      <td>строительство жилой недвижимости</td>\n",
       "    </tr>\n",
       "    <tr>\n",
       "      <th>21510</th>\n",
       "      <td>2</td>\n",
       "      <td>NaN</td>\n",
       "      <td>28</td>\n",
       "      <td>среднее</td>\n",
       "      <td>1</td>\n",
       "      <td>женат / замужем</td>\n",
       "      <td>0</td>\n",
       "      <td>F</td>\n",
       "      <td>сотрудник</td>\n",
       "      <td>0</td>\n",
       "      <td>NaN</td>\n",
       "      <td>приобретение автомобиля</td>\n",
       "    </tr>\n",
       "  </tbody>\n",
       "</table>\n",
       "<p>2174 rows × 12 columns</p>\n",
       "</div>"
      ],
      "text/plain": [
       "       children  days_employed  dob_years education  education_id  \\\n",
       "12            0            NaN         65   среднее             1   \n",
       "26            0            NaN         41   среднее             1   \n",
       "29            0            NaN         63   среднее             1   \n",
       "41            0            NaN         50   среднее             1   \n",
       "55            0            NaN         54   среднее             1   \n",
       "...         ...            ...        ...       ...           ...   \n",
       "21489         2            NaN         47   Среднее             1   \n",
       "21495         1            NaN         50   среднее             1   \n",
       "21497         0            NaN         48    ВЫСШЕЕ             0   \n",
       "21502         1            NaN         42   среднее             1   \n",
       "21510         2            NaN         28   среднее             1   \n",
       "\n",
       "               family_status  family_status_id gender  income_type  debt  \\\n",
       "12          гражданский брак                 1      M    пенсионер     0   \n",
       "26           женат / замужем                 0      M  госслужащий     0   \n",
       "29     Не женат / не замужем                 4      F    пенсионер     0   \n",
       "41           женат / замужем                 0      F  госслужащий     0   \n",
       "55          гражданский брак                 1      F    пенсионер     1   \n",
       "...                      ...               ...    ...          ...   ...   \n",
       "21489        женат / замужем                 0      M    компаньон     0   \n",
       "21495       гражданский брак                 1      F    сотрудник     0   \n",
       "21497        женат / замужем                 0      F    компаньон     0   \n",
       "21502        женат / замужем                 0      F    сотрудник     0   \n",
       "21510        женат / замужем                 0      F    сотрудник     0   \n",
       "\n",
       "       total_income                           purpose  \n",
       "12              NaN                   сыграть свадьбу  \n",
       "26              NaN                       образование  \n",
       "29              NaN  строительство жилой недвижимости  \n",
       "41              NaN  сделка с подержанным автомобилем  \n",
       "55              NaN                   сыграть свадьбу  \n",
       "...             ...                               ...  \n",
       "21489           NaN              сделка с автомобилем  \n",
       "21495           NaN                           свадьба  \n",
       "21497           NaN        строительство недвижимости  \n",
       "21502           NaN  строительство жилой недвижимости  \n",
       "21510           NaN           приобретение автомобиля  \n",
       "\n",
       "[2174 rows x 12 columns]"
      ]
     },
     "execution_count": 4,
     "metadata": {},
     "output_type": "execute_result"
    }
   ],
   "source": [
    "data[data['days_employed'].isna()==True]"
   ]
  },
  {
   "cell_type": "markdown",
   "id": "2c6cadfb",
   "metadata": {
    "deletable": false,
    "editable": false,
    "id": "333ec665"
   },
   "source": [
    "## Предобработка данных"
   ]
  },
  {
   "cell_type": "markdown",
   "id": "08b564b2",
   "metadata": {
    "deletable": false,
    "editable": false,
    "id": "02d92d53"
   },
   "source": [
    "### Удаление пропусков"
   ]
  },
  {
   "cell_type": "markdown",
   "id": "63131a09",
   "metadata": {
    "deletable": false,
    "editable": false,
    "id": "cd84967c"
   },
   "source": [
    "**Задание 4. Выведите количество пропущенных значений для каждого столбца. Используйте комбинацию двух методов.**"
   ]
  },
  {
   "cell_type": "code",
   "execution_count": 5,
   "id": "c6b009bd",
   "metadata": {
    "deletable": false,
    "id": "7f9b2309",
    "outputId": "81f4d817-781c-465c-ed15-91ce4446810d"
   },
   "outputs": [
    {
     "data": {
      "text/plain": [
       "children               0\n",
       "days_employed       2174\n",
       "dob_years              0\n",
       "education              0\n",
       "education_id           0\n",
       "family_status          0\n",
       "family_status_id       0\n",
       "gender                 0\n",
       "income_type            0\n",
       "debt                   0\n",
       "total_income        2174\n",
       "purpose                0\n",
       "dtype: int64"
      ]
     },
     "execution_count": 5,
     "metadata": {},
     "output_type": "execute_result"
    }
   ],
   "source": [
    "data.isna().sum()"
   ]
  },
  {
   "cell_type": "markdown",
   "id": "a7657172",
   "metadata": {
    "deletable": false,
    "editable": false,
    "id": "db86e27b"
   },
   "source": [
    "**Задание 5. В двух столбцах есть пропущенные значения. Один из них — `days_employed`. Пропуски в этом столбце вы обработаете на следующем этапе. Другой столбец с пропущенными значениями — `total_income` — хранит данные о доходах. На сумму дохода сильнее всего влияет тип занятости, поэтому заполнить пропуски в этом столбце нужно медианным значением по каждому типу из столбца `income_type`. Например, у человека с типом занятости `сотрудник` пропуск в столбце `total_income` должен быть заполнен медианным доходом среди всех записей с тем же типом.**"
   ]
  },
  {
   "cell_type": "code",
   "execution_count": 6,
   "id": "4564d9a9",
   "metadata": {
    "deletable": false,
    "id": "42006a93"
   },
   "outputs": [],
   "source": [
    "for t in data['income_type'].unique():\n",
    "    data.loc[(data['income_type'] == t) & (data['total_income'].isna()), 'total_income'] = \\\n",
    "    data.loc[(data['income_type'] == t), 'total_income'].median()"
   ]
  },
  {
   "cell_type": "markdown",
   "id": "227f5aa7",
   "metadata": {
    "deletable": false,
    "editable": false,
    "id": "89da5ece"
   },
   "source": [
    "### Обработка аномальных значений"
   ]
  },
  {
   "cell_type": "markdown",
   "id": "63a57581",
   "metadata": {
    "deletable": false,
    "editable": false,
    "id": "57964554"
   },
   "source": [
    "**Задание 6. В данных могут встречаться артефакты (аномалии) — значения, которые не отражают действительность и появились по какой-то ошибке. таким артефактом будет отрицательное количество дней трудового стажа в столбце `days_employed`. Для реальных данных это нормально. Обработайте значения в этом столбце: замените все отрицательные значения положительными с помощью метода `abs()`.**"
   ]
  },
  {
   "cell_type": "code",
   "execution_count": 7,
   "id": "4c776796",
   "metadata": {
    "deletable": false,
    "id": "f6f055bf"
   },
   "outputs": [],
   "source": [
    "data['days_employed'] = data['days_employed'].abs()"
   ]
  },
  {
   "cell_type": "markdown",
   "id": "75af5b84",
   "metadata": {
    "deletable": false,
    "editable": false,
    "id": "6107dd2f"
   },
   "source": [
    "**Задание 7. Для каждого типа занятости выведите медианное значение трудового стажа `days_employed` в днях.**"
   ]
  },
  {
   "cell_type": "code",
   "execution_count": 8,
   "id": "acac78c8",
   "metadata": {
    "deletable": false,
    "id": "85a5faf6",
    "outputId": "801ef80e-522b-4668-f34e-565af7432bcf"
   },
   "outputs": [
    {
     "data": {
      "text/plain": [
       "income_type\n",
       "безработный        366413.652744\n",
       "в декрете            3296.759962\n",
       "госслужащий          2689.368353\n",
       "компаньон            1547.382223\n",
       "пенсионер          365213.306266\n",
       "предприниматель       520.848083\n",
       "сотрудник            1574.202821\n",
       "студент               578.751554\n",
       "Name: days_employed, dtype: float64"
      ]
     },
     "execution_count": 8,
     "metadata": {},
     "output_type": "execute_result"
    }
   ],
   "source": [
    "data.groupby('income_type')['days_employed'].agg('median')"
   ]
  },
  {
   "cell_type": "markdown",
   "id": "ed43de81",
   "metadata": {
    "deletable": false,
    "editable": false,
    "id": "38d1a030"
   },
   "source": [
    "У двух типов (безработные и пенсионеры) получатся аномально большие значения. Исправить такие значения сложно, поэтому оставьте их как есть. Тем более этот столбец не понадобится вам для исследования."
   ]
  },
  {
   "cell_type": "markdown",
   "id": "0ac08048",
   "metadata": {
    "deletable": false,
    "editable": false,
    "id": "d8a9f147"
   },
   "source": [
    "**Задание 8. Выведите перечень уникальных значений столбца `children`.**"
   ]
  },
  {
   "cell_type": "code",
   "execution_count": 9,
   "id": "332da6b7",
   "metadata": {
    "deletable": false,
    "id": "ef5056eb",
    "outputId": "6975b15c-7f95-4697-d16d-a0c79b657b03"
   },
   "outputs": [
    {
     "data": {
      "text/plain": [
       "array([ 1,  0,  3,  2, -1,  4, 20,  5])"
      ]
     },
     "execution_count": 9,
     "metadata": {},
     "output_type": "execute_result"
    }
   ],
   "source": [
    "data['children'].unique()"
   ]
  },
  {
   "cell_type": "markdown",
   "id": "8bf0b497",
   "metadata": {
    "deletable": false,
    "editable": false,
    "id": "40b9ebf2"
   },
   "source": [
    "**Задание 9. В столбце `children` есть два аномальных значения. Удалите строки, в которых встречаются такие аномальные значения из датафрейма `data`.**"
   ]
  },
  {
   "cell_type": "code",
   "execution_count": 10,
   "id": "12ddd36c",
   "metadata": {
    "deletable": false,
    "id": "3ff9801d"
   },
   "outputs": [],
   "source": [
    "data = data[(data['children'] != -1) & (data['children'] != 20)]"
   ]
  },
  {
   "cell_type": "markdown",
   "id": "ff78818f",
   "metadata": {
    "deletable": false,
    "editable": false,
    "id": "bbc4d0ce"
   },
   "source": [
    "**Задание 10. Ещё раз выведите перечень уникальных значений столбца `children`, чтобы убедиться, что артефакты удалены.**"
   ]
  },
  {
   "cell_type": "code",
   "execution_count": 11,
   "id": "0dc6e4e6",
   "metadata": {
    "deletable": false,
    "id": "ad4fa8b7",
    "outputId": "b2097101-d49d-44d9-901b-32a65c9463d1"
   },
   "outputs": [
    {
     "data": {
      "text/plain": [
       "array([1, 0, 3, 2, 4, 5])"
      ]
     },
     "execution_count": 11,
     "metadata": {},
     "output_type": "execute_result"
    }
   ],
   "source": [
    "data['children'].unique()"
   ]
  },
  {
   "cell_type": "markdown",
   "id": "da66d87c",
   "metadata": {
    "deletable": false,
    "editable": false,
    "id": "75440b63"
   },
   "source": [
    "### Удаление пропусков (продолжение)"
   ]
  },
  {
   "cell_type": "markdown",
   "id": "5fd3d3e1",
   "metadata": {
    "deletable": false,
    "editable": false,
    "id": "f4ea573f"
   },
   "source": [
    "**Задание 11. Заполните пропуски в столбце `days_employed` медианными значениями по каждого типа занятости `income_type`.**"
   ]
  },
  {
   "cell_type": "code",
   "execution_count": 12,
   "id": "9c12bcb9",
   "metadata": {
    "deletable": false,
    "id": "af6b1a7e"
   },
   "outputs": [],
   "source": [
    "for t in data['income_type'].unique():\n",
    "    data.loc[(data['income_type'] == t) & (data['days_employed'].isna()), 'days_employed'] = \\\n",
    "    data.loc[(data['income_type'] == t), 'days_employed'].median()"
   ]
  },
  {
   "cell_type": "markdown",
   "id": "568fda3f",
   "metadata": {
    "deletable": false,
    "editable": false,
    "id": "2753f40d"
   },
   "source": [
    "**Задание 12. Убедитесь, что все пропуски заполнены. Проверьте себя и ещё раз выведите количество пропущенных значений для каждого столбца с помощью двух методов.**"
   ]
  },
  {
   "cell_type": "code",
   "execution_count": 13,
   "id": "c84536b2",
   "metadata": {
    "deletable": false,
    "id": "55f78bc2",
    "outputId": "8da1e4e1-358e-4e87-98c9-f261bce0a7b2"
   },
   "outputs": [
    {
     "data": {
      "text/plain": [
       "children            0\n",
       "days_employed       0\n",
       "dob_years           0\n",
       "education           0\n",
       "education_id        0\n",
       "family_status       0\n",
       "family_status_id    0\n",
       "gender              0\n",
       "income_type         0\n",
       "debt                0\n",
       "total_income        0\n",
       "purpose             0\n",
       "dtype: int64"
      ]
     },
     "execution_count": 13,
     "metadata": {},
     "output_type": "execute_result"
    }
   ],
   "source": [
    "data.isna().sum()"
   ]
  },
  {
   "cell_type": "markdown",
   "id": "09c3061f",
   "metadata": {
    "deletable": false,
    "editable": false,
    "id": "ddc81e43"
   },
   "source": [
    "### Изменение типов данных"
   ]
  },
  {
   "cell_type": "markdown",
   "id": "1bc2c712",
   "metadata": {
    "deletable": false,
    "editable": false,
    "id": "42d19d24"
   },
   "source": [
    "**Задание 13. Замените вещественный тип данных в столбце `total_income` на целочисленный с помощью метода `astype()`.**"
   ]
  },
  {
   "cell_type": "code",
   "execution_count": 14,
   "id": "7c43ea83",
   "metadata": {
    "deletable": false,
    "id": "920b65ad"
   },
   "outputs": [],
   "source": [
    "data['total_income'] = data['total_income'].astype(int)"
   ]
  },
  {
   "cell_type": "markdown",
   "id": "d05250c5",
   "metadata": {
    "deletable": false,
    "editable": false,
    "id": "80c420ba"
   },
   "source": [
    "### Обработка дубликатов"
   ]
  },
  {
   "cell_type": "markdown",
   "id": "f4479682",
   "metadata": {
    "deletable": false,
    "editable": false
   },
   "source": [
    "**Задание 14. Обработайте неявные дубликаты в столбце `education`. В этом столбце есть одни и те же значения, но записанные по-разному: с использованием заглавных и строчных букв. Приведите их к нижнему регистру. Проверьте остальные столбцы.**"
   ]
  },
  {
   "cell_type": "code",
   "execution_count": 15,
   "id": "76409921",
   "metadata": {
    "deletable": false
   },
   "outputs": [],
   "source": [
    "data['education'] = data['education'].str.lower()"
   ]
  },
  {
   "cell_type": "markdown",
   "id": "c0a73056",
   "metadata": {
    "deletable": false,
    "editable": false,
    "id": "dc587695"
   },
   "source": [
    "**Задание 15. Выведите на экран количество строк-дубликатов в данных. Если такие строки присутствуют, удалите их.**"
   ]
  },
  {
   "cell_type": "code",
   "execution_count": 16,
   "id": "c4f742e2",
   "metadata": {
    "deletable": false,
    "id": "3ee445e4",
    "outputId": "9684deba-1934-42d1-99e1-cda61740f822"
   },
   "outputs": [
    {
     "data": {
      "text/plain": [
       "71"
      ]
     },
     "execution_count": 16,
     "metadata": {},
     "output_type": "execute_result"
    }
   ],
   "source": [
    "data.duplicated().sum()"
   ]
  },
  {
   "cell_type": "code",
   "execution_count": 17,
   "id": "ed12dee9",
   "metadata": {},
   "outputs": [
    {
     "data": {
      "text/html": [
       "<div>\n",
       "<style scoped>\n",
       "    .dataframe tbody tr th:only-of-type {\n",
       "        vertical-align: middle;\n",
       "    }\n",
       "\n",
       "    .dataframe tbody tr th {\n",
       "        vertical-align: top;\n",
       "    }\n",
       "\n",
       "    .dataframe thead th {\n",
       "        text-align: right;\n",
       "    }\n",
       "</style>\n",
       "<table border=\"1\" class=\"dataframe\">\n",
       "  <thead>\n",
       "    <tr style=\"text-align: right;\">\n",
       "      <th></th>\n",
       "      <th>children</th>\n",
       "      <th>days_employed</th>\n",
       "      <th>dob_years</th>\n",
       "      <th>education</th>\n",
       "      <th>education_id</th>\n",
       "      <th>family_status</th>\n",
       "      <th>family_status_id</th>\n",
       "      <th>gender</th>\n",
       "      <th>income_type</th>\n",
       "      <th>debt</th>\n",
       "      <th>total_income</th>\n",
       "      <th>purpose</th>\n",
       "    </tr>\n",
       "  </thead>\n",
       "  <tbody>\n",
       "    <tr>\n",
       "      <th>2849</th>\n",
       "      <td>0</td>\n",
       "      <td>1572.328285</td>\n",
       "      <td>41</td>\n",
       "      <td>среднее</td>\n",
       "      <td>1</td>\n",
       "      <td>женат / замужем</td>\n",
       "      <td>0</td>\n",
       "      <td>F</td>\n",
       "      <td>сотрудник</td>\n",
       "      <td>0</td>\n",
       "      <td>142594</td>\n",
       "      <td>покупка жилья для семьи</td>\n",
       "    </tr>\n",
       "    <tr>\n",
       "      <th>3290</th>\n",
       "      <td>0</td>\n",
       "      <td>365286.622650</td>\n",
       "      <td>58</td>\n",
       "      <td>среднее</td>\n",
       "      <td>1</td>\n",
       "      <td>гражданский брак</td>\n",
       "      <td>1</td>\n",
       "      <td>F</td>\n",
       "      <td>пенсионер</td>\n",
       "      <td>0</td>\n",
       "      <td>118514</td>\n",
       "      <td>сыграть свадьбу</td>\n",
       "    </tr>\n",
       "    <tr>\n",
       "      <th>4182</th>\n",
       "      <td>1</td>\n",
       "      <td>1572.328285</td>\n",
       "      <td>34</td>\n",
       "      <td>высшее</td>\n",
       "      <td>0</td>\n",
       "      <td>гражданский брак</td>\n",
       "      <td>1</td>\n",
       "      <td>F</td>\n",
       "      <td>сотрудник</td>\n",
       "      <td>0</td>\n",
       "      <td>142594</td>\n",
       "      <td>свадьба</td>\n",
       "    </tr>\n",
       "    <tr>\n",
       "      <th>4851</th>\n",
       "      <td>0</td>\n",
       "      <td>365286.622650</td>\n",
       "      <td>60</td>\n",
       "      <td>среднее</td>\n",
       "      <td>1</td>\n",
       "      <td>гражданский брак</td>\n",
       "      <td>1</td>\n",
       "      <td>F</td>\n",
       "      <td>пенсионер</td>\n",
       "      <td>0</td>\n",
       "      <td>118514</td>\n",
       "      <td>свадьба</td>\n",
       "    </tr>\n",
       "    <tr>\n",
       "      <th>5557</th>\n",
       "      <td>0</td>\n",
       "      <td>365286.622650</td>\n",
       "      <td>58</td>\n",
       "      <td>среднее</td>\n",
       "      <td>1</td>\n",
       "      <td>гражданский брак</td>\n",
       "      <td>1</td>\n",
       "      <td>F</td>\n",
       "      <td>пенсионер</td>\n",
       "      <td>0</td>\n",
       "      <td>118514</td>\n",
       "      <td>сыграть свадьбу</td>\n",
       "    </tr>\n",
       "    <tr>\n",
       "      <th>...</th>\n",
       "      <td>...</td>\n",
       "      <td>...</td>\n",
       "      <td>...</td>\n",
       "      <td>...</td>\n",
       "      <td>...</td>\n",
       "      <td>...</td>\n",
       "      <td>...</td>\n",
       "      <td>...</td>\n",
       "      <td>...</td>\n",
       "      <td>...</td>\n",
       "      <td>...</td>\n",
       "      <td>...</td>\n",
       "    </tr>\n",
       "    <tr>\n",
       "      <th>20702</th>\n",
       "      <td>0</td>\n",
       "      <td>365286.622650</td>\n",
       "      <td>64</td>\n",
       "      <td>среднее</td>\n",
       "      <td>1</td>\n",
       "      <td>женат / замужем</td>\n",
       "      <td>0</td>\n",
       "      <td>F</td>\n",
       "      <td>пенсионер</td>\n",
       "      <td>0</td>\n",
       "      <td>118514</td>\n",
       "      <td>дополнительное образование</td>\n",
       "    </tr>\n",
       "    <tr>\n",
       "      <th>21032</th>\n",
       "      <td>0</td>\n",
       "      <td>365286.622650</td>\n",
       "      <td>60</td>\n",
       "      <td>среднее</td>\n",
       "      <td>1</td>\n",
       "      <td>женат / замужем</td>\n",
       "      <td>0</td>\n",
       "      <td>F</td>\n",
       "      <td>пенсионер</td>\n",
       "      <td>0</td>\n",
       "      <td>118514</td>\n",
       "      <td>заняться образованием</td>\n",
       "    </tr>\n",
       "    <tr>\n",
       "      <th>21132</th>\n",
       "      <td>0</td>\n",
       "      <td>1572.328285</td>\n",
       "      <td>47</td>\n",
       "      <td>среднее</td>\n",
       "      <td>1</td>\n",
       "      <td>женат / замужем</td>\n",
       "      <td>0</td>\n",
       "      <td>F</td>\n",
       "      <td>сотрудник</td>\n",
       "      <td>0</td>\n",
       "      <td>142594</td>\n",
       "      <td>ремонт жилью</td>\n",
       "    </tr>\n",
       "    <tr>\n",
       "      <th>21281</th>\n",
       "      <td>1</td>\n",
       "      <td>1572.328285</td>\n",
       "      <td>30</td>\n",
       "      <td>высшее</td>\n",
       "      <td>0</td>\n",
       "      <td>женат / замужем</td>\n",
       "      <td>0</td>\n",
       "      <td>F</td>\n",
       "      <td>сотрудник</td>\n",
       "      <td>0</td>\n",
       "      <td>142594</td>\n",
       "      <td>покупка коммерческой недвижимости</td>\n",
       "    </tr>\n",
       "    <tr>\n",
       "      <th>21415</th>\n",
       "      <td>0</td>\n",
       "      <td>365286.622650</td>\n",
       "      <td>54</td>\n",
       "      <td>среднее</td>\n",
       "      <td>1</td>\n",
       "      <td>женат / замужем</td>\n",
       "      <td>0</td>\n",
       "      <td>F</td>\n",
       "      <td>пенсионер</td>\n",
       "      <td>0</td>\n",
       "      <td>118514</td>\n",
       "      <td>операции с жильем</td>\n",
       "    </tr>\n",
       "  </tbody>\n",
       "</table>\n",
       "<p>71 rows × 12 columns</p>\n",
       "</div>"
      ],
      "text/plain": [
       "       children  days_employed  dob_years education  education_id  \\\n",
       "2849          0    1572.328285         41   среднее             1   \n",
       "3290          0  365286.622650         58   среднее             1   \n",
       "4182          1    1572.328285         34    высшее             0   \n",
       "4851          0  365286.622650         60   среднее             1   \n",
       "5557          0  365286.622650         58   среднее             1   \n",
       "...         ...            ...        ...       ...           ...   \n",
       "20702         0  365286.622650         64   среднее             1   \n",
       "21032         0  365286.622650         60   среднее             1   \n",
       "21132         0    1572.328285         47   среднее             1   \n",
       "21281         1    1572.328285         30    высшее             0   \n",
       "21415         0  365286.622650         54   среднее             1   \n",
       "\n",
       "          family_status  family_status_id gender income_type  debt  \\\n",
       "2849    женат / замужем                 0      F   сотрудник     0   \n",
       "3290   гражданский брак                 1      F   пенсионер     0   \n",
       "4182   гражданский брак                 1      F   сотрудник     0   \n",
       "4851   гражданский брак                 1      F   пенсионер     0   \n",
       "5557   гражданский брак                 1      F   пенсионер     0   \n",
       "...                 ...               ...    ...         ...   ...   \n",
       "20702   женат / замужем                 0      F   пенсионер     0   \n",
       "21032   женат / замужем                 0      F   пенсионер     0   \n",
       "21132   женат / замужем                 0      F   сотрудник     0   \n",
       "21281   женат / замужем                 0      F   сотрудник     0   \n",
       "21415   женат / замужем                 0      F   пенсионер     0   \n",
       "\n",
       "       total_income                            purpose  \n",
       "2849         142594            покупка жилья для семьи  \n",
       "3290         118514                    сыграть свадьбу  \n",
       "4182         142594                            свадьба  \n",
       "4851         118514                            свадьба  \n",
       "5557         118514                    сыграть свадьбу  \n",
       "...             ...                                ...  \n",
       "20702        118514         дополнительное образование  \n",
       "21032        118514              заняться образованием  \n",
       "21132        142594                       ремонт жилью  \n",
       "21281        142594  покупка коммерческой недвижимости  \n",
       "21415        118514                  операции с жильем  \n",
       "\n",
       "[71 rows x 12 columns]"
      ]
     },
     "execution_count": 17,
     "metadata": {},
     "output_type": "execute_result"
    }
   ],
   "source": [
    "data[data.duplicated() == True]"
   ]
  },
  {
   "cell_type": "code",
   "execution_count": 18,
   "id": "94735a6f",
   "metadata": {
    "deletable": false,
    "id": "8575fe05"
   },
   "outputs": [],
   "source": [
    "data = data.drop_duplicates()"
   ]
  },
  {
   "cell_type": "markdown",
   "id": "2408a3f0",
   "metadata": {
    "deletable": false,
    "editable": false,
    "id": "9904cf55"
   },
   "source": [
    "### Категоризация данных"
   ]
  },
  {
   "cell_type": "markdown",
   "id": "535bcd05",
   "metadata": {
    "deletable": false,
    "editable": false,
    "id": "72fcc8a2"
   },
   "source": [
    "**Задание 16. На основании диапазонов, указанных ниже, создайте в датафрейме `data` столбец `total_income_category` с категориями:**\n",
    "\n",
    "- 0–30000 — `'E'`;\n",
    "- 30001–50000 — `'D'`;\n",
    "- 50001–200000 — `'C'`;\n",
    "- 200001–1000000 — `'B'`;\n",
    "- 1000001 и выше — `'A'`.\n",
    "\n",
    "\n",
    "**Например, кредитополучателю с доходом 25000 нужно назначить категорию `'E'`, а клиенту, получающему 235000, — `'B'`. Используйте собственную функцию с именем `categorize_income()` и метод `apply()`.**"
   ]
  },
  {
   "cell_type": "code",
   "execution_count": 19,
   "id": "30787753",
   "metadata": {
    "deletable": false,
    "id": "e1771346"
   },
   "outputs": [],
   "source": [
    "def categorize_income(income):\n",
    "    try:\n",
    "        if 0 <= income <= 30000:\n",
    "            return 'E'\n",
    "        elif 30001 <= income <= 50000:\n",
    "            return 'D'\n",
    "        elif 50001 <= income <= 200000:\n",
    "            return 'C'\n",
    "        elif 200001 <= income <= 1000000:\n",
    "            return 'B'\n",
    "        elif income >= 1000001:\n",
    "            return 'A'\n",
    "    except:\n",
    "        pass"
   ]
  },
  {
   "cell_type": "code",
   "execution_count": 20,
   "id": "179bba29",
   "metadata": {
    "deletable": false,
    "id": "d5f3586d"
   },
   "outputs": [],
   "source": [
    "data['total_income_category'] = data['total_income'].apply(categorize_income)"
   ]
  },
  {
   "cell_type": "markdown",
   "id": "192477b0",
   "metadata": {
    "deletable": false,
    "editable": false,
    "id": "dde49b5c"
   },
   "source": [
    "**Задание 17. Выведите на экран перечень уникальных целей взятия кредита из столбца `purpose`.**"
   ]
  },
  {
   "cell_type": "code",
   "execution_count": 21,
   "id": "dacb7132",
   "metadata": {
    "deletable": false,
    "id": "f67ce9b3",
    "outputId": "673c12d9-7d7e-4ae0-9812-c622c89dd244"
   },
   "outputs": [
    {
     "data": {
      "text/plain": [
       "array(['покупка жилья', 'приобретение автомобиля',\n",
       "       'дополнительное образование', 'сыграть свадьбу',\n",
       "       'операции с жильем', 'образование', 'на проведение свадьбы',\n",
       "       'покупка жилья для семьи', 'покупка недвижимости',\n",
       "       'покупка коммерческой недвижимости', 'покупка жилой недвижимости',\n",
       "       'строительство собственной недвижимости', 'недвижимость',\n",
       "       'строительство недвижимости', 'на покупку подержанного автомобиля',\n",
       "       'на покупку своего автомобиля',\n",
       "       'операции с коммерческой недвижимостью',\n",
       "       'строительство жилой недвижимости', 'жилье',\n",
       "       'операции со своей недвижимостью', 'автомобили',\n",
       "       'заняться образованием', 'сделка с подержанным автомобилем',\n",
       "       'получение образования', 'автомобиль', 'свадьба',\n",
       "       'получение дополнительного образования', 'покупка своего жилья',\n",
       "       'операции с недвижимостью', 'получение высшего образования',\n",
       "       'свой автомобиль', 'сделка с автомобилем',\n",
       "       'профильное образование', 'высшее образование',\n",
       "       'покупка жилья для сдачи', 'на покупку автомобиля', 'ремонт жилью',\n",
       "       'заняться высшим образованием'], dtype=object)"
      ]
     },
     "execution_count": 21,
     "metadata": {},
     "output_type": "execute_result"
    }
   ],
   "source": [
    "data['purpose'].unique()"
   ]
  },
  {
   "cell_type": "markdown",
   "id": "d1b7d645",
   "metadata": {
    "deletable": false,
    "editable": false,
    "id": "85d0aef0"
   },
   "source": [
    "**Задание 18. Создайте функцию, которая на основании данных из столбца `purpose` сформирует новый столбец `purpose_category`, в который войдут следующие категории:**\n",
    "\n",
    "- `'операции с автомобилем'`,\n",
    "- `'операции с недвижимостью'`,\n",
    "- `'проведение свадьбы'`,\n",
    "- `'получение образования'`.\n",
    "\n",
    "**Например, если в столбце `purpose` находится подстрока `'на покупку автомобиля'`, то в столбце `purpose_category` должна появиться строка `'операции с автомобилем'`.**\n",
    "\n",
    "**Используйте собственную функцию с именем `categorize_purpose()` и метод `apply()`. Изучите данные в столбце `purpose` и определите, какие подстроки помогут вам правильно определить категорию.**"
   ]
  },
  {
   "cell_type": "code",
   "execution_count": 22,
   "id": "6a638726",
   "metadata": {
    "deletable": false,
    "id": "e149fab4"
   },
   "outputs": [],
   "source": [
    "def categorize_purpose(row):\n",
    "    try:\n",
    "        if 'автом' in row:\n",
    "            return 'операции с автомобилем'\n",
    "        elif 'жил' in row or 'недвиж' in row:\n",
    "            return 'операции с недвижимостью'\n",
    "        elif 'свад' in row:\n",
    "            return 'проведение свадьбы'\n",
    "        elif 'образов' in row:\n",
    "            return 'получение образования'\n",
    "    except:\n",
    "        return 'нет категории'"
   ]
  },
  {
   "cell_type": "code",
   "execution_count": 23,
   "id": "cd2ae398",
   "metadata": {
    "deletable": false,
    "id": "bf36e69b"
   },
   "outputs": [],
   "source": [
    "data['purpose_category'] = data['purpose'].apply(categorize_purpose)"
   ]
  },
  {
   "cell_type": "markdown",
   "id": "c3ff7549",
   "metadata": {
    "deletable": false,
    "editable": false,
    "id": "09b242bf"
   },
   "source": [
    "### Шаг 3. Исследуйте данные и ответьте на вопросы"
   ]
  },
  {
   "cell_type": "markdown",
   "id": "10e82aaa",
   "metadata": {
    "deletable": false,
    "editable": false,
    "id": "c5d66278"
   },
   "source": [
    "#### 3.1 Есть ли зависимость между количеством детей и возвратом кредита в срок?"
   ]
  },
  {
   "cell_type": "code",
   "execution_count": 24,
   "id": "6ce79fb1",
   "metadata": {},
   "outputs": [],
   "source": [
    "import matplotlib.pyplot as plt\n",
    "%matplotlib inline"
   ]
  },
  {
   "cell_type": "code",
   "execution_count": 25,
   "id": "531f910e",
   "metadata": {
    "deletable": false,
    "id": "2cacfc4a"
   },
   "outputs": [
    {
     "data": {
      "text/html": [
       "<div>\n",
       "<style scoped>\n",
       "    .dataframe tbody tr th:only-of-type {\n",
       "        vertical-align: middle;\n",
       "    }\n",
       "\n",
       "    .dataframe tbody tr th {\n",
       "        vertical-align: top;\n",
       "    }\n",
       "\n",
       "    .dataframe thead th {\n",
       "        text-align: right;\n",
       "    }\n",
       "</style>\n",
       "<table border=\"1\" class=\"dataframe\">\n",
       "  <thead>\n",
       "    <tr style=\"text-align: right;\">\n",
       "      <th>debt</th>\n",
       "      <th>0</th>\n",
       "      <th>1</th>\n",
       "      <th>percent</th>\n",
       "    </tr>\n",
       "    <tr>\n",
       "      <th>children</th>\n",
       "      <th></th>\n",
       "      <th></th>\n",
       "      <th></th>\n",
       "    </tr>\n",
       "  </thead>\n",
       "  <tbody>\n",
       "    <tr>\n",
       "      <th>4</th>\n",
       "      <td>37.0</td>\n",
       "      <td>4.0</td>\n",
       "      <td>9.76</td>\n",
       "    </tr>\n",
       "    <tr>\n",
       "      <th>2</th>\n",
       "      <td>1858.0</td>\n",
       "      <td>194.0</td>\n",
       "      <td>9.45</td>\n",
       "    </tr>\n",
       "    <tr>\n",
       "      <th>1</th>\n",
       "      <td>4364.0</td>\n",
       "      <td>444.0</td>\n",
       "      <td>9.23</td>\n",
       "    </tr>\n",
       "    <tr>\n",
       "      <th>3</th>\n",
       "      <td>303.0</td>\n",
       "      <td>27.0</td>\n",
       "      <td>8.18</td>\n",
       "    </tr>\n",
       "    <tr>\n",
       "      <th>0</th>\n",
       "      <td>13028.0</td>\n",
       "      <td>1063.0</td>\n",
       "      <td>7.54</td>\n",
       "    </tr>\n",
       "    <tr>\n",
       "      <th>5</th>\n",
       "      <td>9.0</td>\n",
       "      <td>NaN</td>\n",
       "      <td>NaN</td>\n",
       "    </tr>\n",
       "  </tbody>\n",
       "</table>\n",
       "</div>"
      ],
      "text/plain": [
       "debt            0       1  percent\n",
       "children                          \n",
       "4            37.0     4.0     9.76\n",
       "2          1858.0   194.0     9.45\n",
       "1          4364.0   444.0     9.23\n",
       "3           303.0    27.0     8.18\n",
       "0         13028.0  1063.0     7.54\n",
       "5             9.0     NaN      NaN"
      ]
     },
     "execution_count": 25,
     "metadata": {},
     "output_type": "execute_result"
    }
   ],
   "source": [
    "child = data.pivot_table(index='children', columns = 'debt', values = 'family_status', aggfunc='count')\n",
    "child['percent'] =round((child[1] / (child[1] + child[0]))*100, 2)\n",
    "child.sort_values(by='percent', ascending=False)\n",
    "\n",
    "# Ваш код будет здесь. Вы можете создавать новые ячейки."
   ]
  },
  {
   "cell_type": "markdown",
   "id": "b697a1bc",
   "metadata": {},
   "source": [
    "Явную зависимость между количеством детей и возвратом кредита в срок, глядя на таблицу выше, обнаружить сложно.\n",
    "\n",
    "Разобьем количество детей на 3 группы:\n",
    "1. есть дети\n",
    "2. нет детей\n",
    "3. для 5 детей в семье - недостаточно данных для исследования"
   ]
  },
  {
   "cell_type": "code",
   "execution_count": 26,
   "id": "b37eb88a",
   "metadata": {},
   "outputs": [],
   "source": [
    "def child_grup(c):\n",
    "    if c == 0:\n",
    "        return 'no child'\n",
    "    if 1<=c<=4:\n",
    "        return 'have kids'\n",
    "    return 'not enough data'"
   ]
  },
  {
   "cell_type": "code",
   "execution_count": 27,
   "id": "ff308837",
   "metadata": {},
   "outputs": [
    {
     "data": {
      "text/html": [
       "<div>\n",
       "<style scoped>\n",
       "    .dataframe tbody tr th:only-of-type {\n",
       "        vertical-align: middle;\n",
       "    }\n",
       "\n",
       "    .dataframe tbody tr th {\n",
       "        vertical-align: top;\n",
       "    }\n",
       "\n",
       "    .dataframe thead th {\n",
       "        text-align: right;\n",
       "    }\n",
       "</style>\n",
       "<table border=\"1\" class=\"dataframe\">\n",
       "  <thead>\n",
       "    <tr style=\"text-align: right;\">\n",
       "      <th>debt</th>\n",
       "      <th>0</th>\n",
       "      <th>1</th>\n",
       "      <th>percent</th>\n",
       "    </tr>\n",
       "    <tr>\n",
       "      <th>child_groups</th>\n",
       "      <th></th>\n",
       "      <th></th>\n",
       "      <th></th>\n",
       "    </tr>\n",
       "  </thead>\n",
       "  <tbody>\n",
       "    <tr>\n",
       "      <th>have kids</th>\n",
       "      <td>6562.0</td>\n",
       "      <td>669.0</td>\n",
       "      <td>9.25</td>\n",
       "    </tr>\n",
       "    <tr>\n",
       "      <th>no child</th>\n",
       "      <td>13028.0</td>\n",
       "      <td>1063.0</td>\n",
       "      <td>7.54</td>\n",
       "    </tr>\n",
       "    <tr>\n",
       "      <th>not enough data</th>\n",
       "      <td>9.0</td>\n",
       "      <td>NaN</td>\n",
       "      <td>NaN</td>\n",
       "    </tr>\n",
       "  </tbody>\n",
       "</table>\n",
       "</div>"
      ],
      "text/plain": [
       "debt                   0       1  percent\n",
       "child_groups                             \n",
       "have kids         6562.0   669.0     9.25\n",
       "no child         13028.0  1063.0     7.54\n",
       "not enough data      9.0     NaN      NaN"
      ]
     },
     "execution_count": 27,
     "metadata": {},
     "output_type": "execute_result"
    }
   ],
   "source": [
    "data['child_groups']=data['children'].apply(child_grup)\n",
    "child_gr = data.pivot_table(index='child_groups', columns = 'debt', values = 'family_status', aggfunc='count')\n",
    "child_gr['percent'] =round((child_gr[1] / (child_gr[1] + child_gr[0]))*100, 2)\n",
    "child_gr.sort_values(by='percent', ascending=False)"
   ]
  },
  {
   "cell_type": "code",
   "execution_count": 28,
   "id": "a461d33f",
   "metadata": {},
   "outputs": [
    {
     "data": {
      "text/plain": [
       "<AxesSubplot:xlabel='child_groups'>"
      ]
     },
     "execution_count": 28,
     "metadata": {},
     "output_type": "execute_result"
    },
    {
     "data": {
      "image/png": "[encoded data removed]",
      "text/plain": [
       "<Figure size 576x288 with 1 Axes>"
      ]
     },
     "metadata": {
      "needs_background": "light"
     },
     "output_type": "display_data"
    }
   ],
   "source": [
    "ch_perc=child_gr['percent'].sort_values(ascending=False)\n",
    "ch_perc.plot(kind='bar', figsize=(8, 4))"
   ]
  },
  {
   "cell_type": "markdown",
   "id": "2371959d",
   "metadata": {
    "deletable": false,
    "id": "3a6b99ec"
   },
   "source": [
    "**Вывод:** \n",
    "\n",
    "Можно предположить, что отсутствие детей у заемщика уменьшает возможность невозврата кредита."
   ]
  },
  {
   "cell_type": "markdown",
   "id": "01253388",
   "metadata": {},
   "source": [
    "<div class=\"alert alert-success\">\n",
    "<h2> Комментарий ревьюера <a class=\"tocSkip\"> </h2>\n",
    "\n",
    "<b>Отлично!✅:</b> Совершенно верно. Молодец, что так подробно рассмотрел вопрос и сделал визуализацию!\n",
    "\n",
    "</div>"
   ]
  },
  {
   "cell_type": "markdown",
   "id": "22fb518d",
   "metadata": {
    "deletable": false,
    "editable": false,
    "id": "97be82ca"
   },
   "source": [
    "#### 3.2 Есть ли зависимость между семейным положением и возвратом кредита в срок?"
   ]
  },
  {
   "cell_type": "code",
   "execution_count": 29,
   "id": "f9211ed4",
   "metadata": {
    "deletable": false,
    "id": "dc3f7ee8"
   },
   "outputs": [
    {
     "data": {
      "text/plain": [
       "array(['женат / замужем', 'гражданский брак', 'вдовец / вдова',\n",
       "       'в разводе', 'Не женат / не замужем'], dtype=object)"
      ]
     },
     "execution_count": 29,
     "metadata": {},
     "output_type": "execute_result"
    }
   ],
   "source": [
    "data['family_status'].unique()\n",
    "\n",
    "# Ваш код будет здесь. Вы можете создавать новые ячейки."
   ]
  },
  {
   "cell_type": "code",
   "execution_count": 30,
   "id": "0bbfe7cf",
   "metadata": {},
   "outputs": [
    {
     "data": {
      "text/html": [
       "<div>\n",
       "<style scoped>\n",
       "    .dataframe tbody tr th:only-of-type {\n",
       "        vertical-align: middle;\n",
       "    }\n",
       "\n",
       "    .dataframe tbody tr th {\n",
       "        vertical-align: top;\n",
       "    }\n",
       "\n",
       "    .dataframe thead th {\n",
       "        text-align: right;\n",
       "    }\n",
       "</style>\n",
       "<table border=\"1\" class=\"dataframe\">\n",
       "  <thead>\n",
       "    <tr style=\"text-align: right;\">\n",
       "      <th>debt</th>\n",
       "      <th>0</th>\n",
       "      <th>1</th>\n",
       "      <th>percent</th>\n",
       "    </tr>\n",
       "    <tr>\n",
       "      <th>family_status</th>\n",
       "      <th></th>\n",
       "      <th></th>\n",
       "      <th></th>\n",
       "    </tr>\n",
       "  </thead>\n",
       "  <tbody>\n",
       "    <tr>\n",
       "      <th>Не женат / не замужем</th>\n",
       "      <td>2523</td>\n",
       "      <td>273</td>\n",
       "      <td>9.76</td>\n",
       "    </tr>\n",
       "    <tr>\n",
       "      <th>гражданский брак</th>\n",
       "      <td>3749</td>\n",
       "      <td>385</td>\n",
       "      <td>9.31</td>\n",
       "    </tr>\n",
       "    <tr>\n",
       "      <th>женат / замужем</th>\n",
       "      <td>11334</td>\n",
       "      <td>927</td>\n",
       "      <td>7.56</td>\n",
       "    </tr>\n",
       "    <tr>\n",
       "      <th>в разводе</th>\n",
       "      <td>1105</td>\n",
       "      <td>84</td>\n",
       "      <td>7.06</td>\n",
       "    </tr>\n",
       "    <tr>\n",
       "      <th>вдовец / вдова</th>\n",
       "      <td>888</td>\n",
       "      <td>63</td>\n",
       "      <td>6.62</td>\n",
       "    </tr>\n",
       "  </tbody>\n",
       "</table>\n",
       "</div>"
      ],
      "text/plain": [
       "debt                       0    1  percent\n",
       "family_status                             \n",
       "Не женат / не замужем   2523  273     9.76\n",
       "гражданский брак        3749  385     9.31\n",
       "женат / замужем        11334  927     7.56\n",
       "в разводе               1105   84     7.06\n",
       "вдовец / вдова           888   63     6.62"
      ]
     },
     "execution_count": 30,
     "metadata": {},
     "output_type": "execute_result"
    }
   ],
   "source": [
    "fs=data.pivot_table(index='family_status', columns='debt', values='family_status_id', aggfunc='count')\n",
    "fs['percent']=round((fs[1] / (fs[1] + fs[0]))*100, 2)\n",
    "fs.sort_values(by='percent', ascending=False)"
   ]
  },
  {
   "cell_type": "code",
   "execution_count": 31,
   "id": "8a5dd826",
   "metadata": {},
   "outputs": [
    {
     "data": {
      "text/plain": [
       "<AxesSubplot:xlabel='family_status'>"
      ]
     },
     "execution_count": 31,
     "metadata": {},
     "output_type": "execute_result"
    },
    {
     "data": {
      "image/png": "[encoded data removed]",
      "text/plain": [
       "<Figure size 576x288 with 1 Axes>"
      ]
     },
     "metadata": {
      "needs_background": "light"
     },
     "output_type": "display_data"
    }
   ],
   "source": [
    "fs_perc = fs['percent'].sort_values(ascending=False)\n",
    "fs_perc.plot(kind='bar', figsize=(8, 4))"
   ]
  },
  {
   "cell_type": "markdown",
   "id": "3c75a148",
   "metadata": {
    "deletable": false,
    "id": "1cef7837"
   },
   "source": [
    "**Вывод:** \n",
    "\n",
    "Люди, не обремененные семейными узами ни в данный момент, ни в прошлом менее охотно гасят кредиты, нежели их побывавшие или находящиеся в браке сограждане."
   ]
  },
  {
   "cell_type": "markdown",
   "id": "302dc1bd",
   "metadata": {},
   "source": [
    "<div class=\"alert alert-success\">\n",
    "<h2> Комментарий ревьюера <a class=\"tocSkip\"> </h2>\n",
    "\n",
    "<b>Отлично!✅:</b> Супер!\n",
    "\n",
    "</div>"
   ]
  },
  {
   "cell_type": "markdown",
   "id": "f980e66e",
   "metadata": {
    "deletable": false,
    "editable": false,
    "id": "1e8b2fca"
   },
   "source": [
    "#### 3.3 Есть ли зависимость между уровнем дохода и возвратом кредита в срок?"
   ]
  },
  {
   "cell_type": "code",
   "execution_count": 32,
   "id": "9c46ed40",
   "metadata": {
    "deletable": false,
    "id": "cd7e3720"
   },
   "outputs": [
    {
     "data": {
      "text/plain": [
       "count    2.133100e+04\n",
       "mean     1.653427e+05\n",
       "std      9.831399e+04\n",
       "min      2.066700e+04\n",
       "25%      1.075070e+05\n",
       "50%      1.425940e+05\n",
       "75%      1.958420e+05\n",
       "max      2.265604e+06\n",
       "Name: total_income, dtype: float64"
      ]
     },
     "execution_count": 32,
     "metadata": {},
     "output_type": "execute_result"
    }
   ],
   "source": [
    "data['total_income'].describe()\n",
    "\n",
    "# Ваш код будет здесь. Вы можете создавать новые ячейки."
   ]
  },
  {
   "cell_type": "code",
   "execution_count": 33,
   "id": "954b3b80",
   "metadata": {},
   "outputs": [
    {
     "name": "stdout",
     "output_type": "stream",
     "text": [
      "mean 165342.70\n",
      "min 20667.00\n",
      "25% 107507.00\n",
      "50% 142594.00\n",
      "75% 195842.00\n",
      "max 2265604.00\n"
     ]
    }
   ],
   "source": [
    "print('mean', f\"{1.653427e+05:.2f}\")\n",
    "print('min', f\"{2.066700e+04:.2f}\")\n",
    "print('25%', f\"{1.075070e+05:.2f}\")\n",
    "print('50%', f\"{1.425940e+05:.2f}\")\n",
    "print('75%', f\"{1.958420e+05:.2f}\")\n",
    "print('max', f\"{2.265604e+06:.2f}\")"
   ]
  },
  {
   "cell_type": "code",
   "execution_count": 34,
   "id": "51d6427f",
   "metadata": {},
   "outputs": [
    {
     "data": {
      "text/plain": [
       "<AxesSubplot:>"
      ]
     },
     "execution_count": 34,
     "metadata": {},
     "output_type": "execute_result"
    },
    {
     "data": {
      "image/png": "[encoded data removed]",
      "text/plain": [
       "<Figure size 288x720 with 1 Axes>"
      ]
     },
     "metadata": {
      "needs_background": "light"
     },
     "output_type": "display_data"
    }
   ],
   "source": [
    "data['total_income'].plot(kind ='box', figsize=(4, 10))"
   ]
  },
  {
   "cell_type": "code",
   "execution_count": 35,
   "id": "f656b7e3",
   "metadata": {},
   "outputs": [
    {
     "data": {
      "text/plain": [
       "0.025      54195.5\n",
       "0.050      64561.5\n",
       "0.100      78710.0\n",
       "0.200      98514.0\n",
       "0.300     115973.0\n",
       "0.400     132113.0\n",
       "0.500     142594.0\n",
       "0.600     161380.0\n",
       "0.700     179844.0\n",
       "0.800     214604.0\n",
       "0.900     269801.0\n",
       "0.950     331767.5\n",
       "0.990     506081.3\n",
       "1.000    2265604.0\n",
       "Name: total_income, dtype: float64"
      ]
     },
     "execution_count": 35,
     "metadata": {},
     "output_type": "execute_result"
    }
   ],
   "source": [
    "data['total_income'].quantile([.025, .05, .10, .20, .30, .40, .50, .60, .70, .80, .90, .95, .99, 1])"
   ]
  },
  {
   "cell_type": "markdown",
   "id": "e2d8300f",
   "metadata": {},
   "source": [
    "Разобьем уровень дохода на группы:\n",
    "1. меньше 50000\n",
    "2. 50000 - 100000\n",
    "3. 100000 - 200000\n",
    "4. 200000 - 500000\n",
    "5. 500000 - 1000000\n",
    "6. 1000000 - 1500000\n",
    "7. больше 1500000"
   ]
  },
  {
   "cell_type": "code",
   "execution_count": 36,
   "id": "df259d8f",
   "metadata": {},
   "outputs": [],
   "source": [
    "def income_gr(gr):\n",
    "    if gr < 50000:\n",
    "        return 1\n",
    "    if gr < 100000:\n",
    "        return 2\n",
    "    if gr < 200000:\n",
    "        return 3\n",
    "    if gr < 500000:\n",
    "        return 4\n",
    "    if gr < 1000000:\n",
    "        return 5\n",
    "    if gr < 1500000:\n",
    "        return 6\n",
    "    return 7"
   ]
  },
  {
   "cell_type": "code",
   "execution_count": 37,
   "id": "6c503631",
   "metadata": {},
   "outputs": [
    {
     "data": {
      "text/html": [
       "<div>\n",
       "<style scoped>\n",
       "    .dataframe tbody tr th:only-of-type {\n",
       "        vertical-align: middle;\n",
       "    }\n",
       "\n",
       "    .dataframe tbody tr th {\n",
       "        vertical-align: top;\n",
       "    }\n",
       "\n",
       "    .dataframe thead th {\n",
       "        text-align: right;\n",
       "    }\n",
       "</style>\n",
       "<table border=\"1\" class=\"dataframe\">\n",
       "  <thead>\n",
       "    <tr style=\"text-align: right;\">\n",
       "      <th></th>\n",
       "      <th>children</th>\n",
       "      <th>days_employed</th>\n",
       "      <th>dob_years</th>\n",
       "      <th>education</th>\n",
       "      <th>education_id</th>\n",
       "      <th>family_status</th>\n",
       "      <th>family_status_id</th>\n",
       "      <th>gender</th>\n",
       "      <th>income_type</th>\n",
       "      <th>debt</th>\n",
       "      <th>total_income</th>\n",
       "      <th>purpose</th>\n",
       "      <th>total_income_category</th>\n",
       "      <th>purpose_category</th>\n",
       "      <th>child_groups</th>\n",
       "      <th>income_cat</th>\n",
       "    </tr>\n",
       "  </thead>\n",
       "  <tbody>\n",
       "    <tr>\n",
       "      <th>0</th>\n",
       "      <td>1</td>\n",
       "      <td>8437.673028</td>\n",
       "      <td>42</td>\n",
       "      <td>высшее</td>\n",
       "      <td>0</td>\n",
       "      <td>женат / замужем</td>\n",
       "      <td>0</td>\n",
       "      <td>F</td>\n",
       "      <td>сотрудник</td>\n",
       "      <td>0</td>\n",
       "      <td>253875</td>\n",
       "      <td>покупка жилья</td>\n",
       "      <td>B</td>\n",
       "      <td>операции с недвижимостью</td>\n",
       "      <td>have kids</td>\n",
       "      <td>4</td>\n",
       "    </tr>\n",
       "    <tr>\n",
       "      <th>1</th>\n",
       "      <td>1</td>\n",
       "      <td>4024.803754</td>\n",
       "      <td>36</td>\n",
       "      <td>среднее</td>\n",
       "      <td>1</td>\n",
       "      <td>женат / замужем</td>\n",
       "      <td>0</td>\n",
       "      <td>F</td>\n",
       "      <td>сотрудник</td>\n",
       "      <td>0</td>\n",
       "      <td>112080</td>\n",
       "      <td>приобретение автомобиля</td>\n",
       "      <td>C</td>\n",
       "      <td>операции с автомобилем</td>\n",
       "      <td>have kids</td>\n",
       "      <td>3</td>\n",
       "    </tr>\n",
       "    <tr>\n",
       "      <th>2</th>\n",
       "      <td>0</td>\n",
       "      <td>5623.422610</td>\n",
       "      <td>33</td>\n",
       "      <td>среднее</td>\n",
       "      <td>1</td>\n",
       "      <td>женат / замужем</td>\n",
       "      <td>0</td>\n",
       "      <td>M</td>\n",
       "      <td>сотрудник</td>\n",
       "      <td>0</td>\n",
       "      <td>145885</td>\n",
       "      <td>покупка жилья</td>\n",
       "      <td>C</td>\n",
       "      <td>операции с недвижимостью</td>\n",
       "      <td>no child</td>\n",
       "      <td>3</td>\n",
       "    </tr>\n",
       "    <tr>\n",
       "      <th>3</th>\n",
       "      <td>3</td>\n",
       "      <td>4124.747207</td>\n",
       "      <td>32</td>\n",
       "      <td>среднее</td>\n",
       "      <td>1</td>\n",
       "      <td>женат / замужем</td>\n",
       "      <td>0</td>\n",
       "      <td>M</td>\n",
       "      <td>сотрудник</td>\n",
       "      <td>0</td>\n",
       "      <td>267628</td>\n",
       "      <td>дополнительное образование</td>\n",
       "      <td>B</td>\n",
       "      <td>получение образования</td>\n",
       "      <td>have kids</td>\n",
       "      <td>4</td>\n",
       "    </tr>\n",
       "    <tr>\n",
       "      <th>4</th>\n",
       "      <td>0</td>\n",
       "      <td>340266.072047</td>\n",
       "      <td>53</td>\n",
       "      <td>среднее</td>\n",
       "      <td>1</td>\n",
       "      <td>гражданский брак</td>\n",
       "      <td>1</td>\n",
       "      <td>F</td>\n",
       "      <td>пенсионер</td>\n",
       "      <td>0</td>\n",
       "      <td>158616</td>\n",
       "      <td>сыграть свадьбу</td>\n",
       "      <td>C</td>\n",
       "      <td>проведение свадьбы</td>\n",
       "      <td>no child</td>\n",
       "      <td>3</td>\n",
       "    </tr>\n",
       "  </tbody>\n",
       "</table>\n",
       "</div>"
      ],
      "text/plain": [
       "   children  days_employed  dob_years education  education_id  \\\n",
       "0         1    8437.673028         42    высшее             0   \n",
       "1         1    4024.803754         36   среднее             1   \n",
       "2         0    5623.422610         33   среднее             1   \n",
       "3         3    4124.747207         32   среднее             1   \n",
       "4         0  340266.072047         53   среднее             1   \n",
       "\n",
       "      family_status  family_status_id gender income_type  debt  total_income  \\\n",
       "0   женат / замужем                 0      F   сотрудник     0        253875   \n",
       "1   женат / замужем                 0      F   сотрудник     0        112080   \n",
       "2   женат / замужем                 0      M   сотрудник     0        145885   \n",
       "3   женат / замужем                 0      M   сотрудник     0        267628   \n",
       "4  гражданский брак                 1      F   пенсионер     0        158616   \n",
       "\n",
       "                      purpose total_income_category          purpose_category  \\\n",
       "0               покупка жилья                     B  операции с недвижимостью   \n",
       "1     приобретение автомобиля                     C    операции с автомобилем   \n",
       "2               покупка жилья                     C  операции с недвижимостью   \n",
       "3  дополнительное образование                     B     получение образования   \n",
       "4             сыграть свадьбу                     C        проведение свадьбы   \n",
       "\n",
       "  child_groups  income_cat  \n",
       "0    have kids           4  \n",
       "1    have kids           3  \n",
       "2     no child           3  \n",
       "3    have kids           4  \n",
       "4     no child           3  "
      ]
     },
     "execution_count": 37,
     "metadata": {},
     "output_type": "execute_result"
    }
   ],
   "source": [
    "data['income_cat'] = data['total_income'].apply(income_gr)\n",
    "data.head(5)"
   ]
  },
  {
   "cell_type": "code",
   "execution_count": 38,
   "id": "6be67c03",
   "metadata": {},
   "outputs": [
    {
     "data": {
      "text/html": [
       "<div>\n",
       "<style scoped>\n",
       "    .dataframe tbody tr th:only-of-type {\n",
       "        vertical-align: middle;\n",
       "    }\n",
       "\n",
       "    .dataframe tbody tr th {\n",
       "        vertical-align: top;\n",
       "    }\n",
       "\n",
       "    .dataframe thead th {\n",
       "        text-align: right;\n",
       "    }\n",
       "</style>\n",
       "<table border=\"1\" class=\"dataframe\">\n",
       "  <thead>\n",
       "    <tr style=\"text-align: right;\">\n",
       "      <th>debt</th>\n",
       "      <th>0</th>\n",
       "      <th>1</th>\n",
       "      <th>percent</th>\n",
       "    </tr>\n",
       "    <tr>\n",
       "      <th>income_cat</th>\n",
       "      <th></th>\n",
       "      <th></th>\n",
       "      <th></th>\n",
       "    </tr>\n",
       "  </thead>\n",
       "  <tbody>\n",
       "    <tr>\n",
       "      <th>7</th>\n",
       "      <td>6</td>\n",
       "      <td>1</td>\n",
       "      <td>14.29</td>\n",
       "    </tr>\n",
       "    <tr>\n",
       "      <th>3</th>\n",
       "      <td>10826</td>\n",
       "      <td>1022</td>\n",
       "      <td>8.63</td>\n",
       "    </tr>\n",
       "    <tr>\n",
       "      <th>2</th>\n",
       "      <td>3742</td>\n",
       "      <td>331</td>\n",
       "      <td>8.13</td>\n",
       "    </tr>\n",
       "    <tr>\n",
       "      <th>4</th>\n",
       "      <td>4475</td>\n",
       "      <td>342</td>\n",
       "      <td>7.10</td>\n",
       "    </tr>\n",
       "    <tr>\n",
       "      <th>1</th>\n",
       "      <td>348</td>\n",
       "      <td>23</td>\n",
       "      <td>6.20</td>\n",
       "    </tr>\n",
       "    <tr>\n",
       "      <th>5</th>\n",
       "      <td>185</td>\n",
       "      <td>12</td>\n",
       "      <td>6.09</td>\n",
       "    </tr>\n",
       "    <tr>\n",
       "      <th>6</th>\n",
       "      <td>17</td>\n",
       "      <td>1</td>\n",
       "      <td>5.56</td>\n",
       "    </tr>\n",
       "  </tbody>\n",
       "</table>\n",
       "</div>"
      ],
      "text/plain": [
       "debt            0     1  percent\n",
       "income_cat                      \n",
       "7               6     1    14.29\n",
       "3           10826  1022     8.63\n",
       "2            3742   331     8.13\n",
       "4            4475   342     7.10\n",
       "1             348    23     6.20\n",
       "5             185    12     6.09\n",
       "6              17     1     5.56"
      ]
     },
     "execution_count": 38,
     "metadata": {},
     "output_type": "execute_result"
    }
   ],
   "source": [
    "income = data.pivot_table(index='income_cat', columns='debt', values='family_status_id', aggfunc='count')\n",
    "income['percent']=round((income[1] / (income[1] + income[0]))*100, 2)\n",
    "income.sort_values(by='percent', ascending=False)"
   ]
  },
  {
   "cell_type": "code",
   "execution_count": 39,
   "id": "c518b5de",
   "metadata": {},
   "outputs": [
    {
     "data": {
      "text/plain": [
       "<AxesSubplot:xlabel='income_cat'>"
      ]
     },
     "execution_count": 39,
     "metadata": {},
     "output_type": "execute_result"
    },
    {
     "data": {
      "image/png": "[encoded data removed]",
      "text/plain": [
       "<Figure size 576x288 with 1 Axes>"
      ]
     },
     "metadata": {
      "needs_background": "light"
     },
     "output_type": "display_data"
    }
   ],
   "source": [
    "income_perc = income['percent'].sort_values(ascending=False)\n",
    "income_perc.plot(kind='bar', figsize=(8, 4))"
   ]
  },
  {
   "cell_type": "code",
   "execution_count": 40,
   "id": "25c5009a",
   "metadata": {},
   "outputs": [
    {
     "data": {
      "text/html": [
       "<div>\n",
       "<style scoped>\n",
       "    .dataframe tbody tr th:only-of-type {\n",
       "        vertical-align: middle;\n",
       "    }\n",
       "\n",
       "    .dataframe tbody tr th {\n",
       "        vertical-align: top;\n",
       "    }\n",
       "\n",
       "    .dataframe thead th {\n",
       "        text-align: right;\n",
       "    }\n",
       "</style>\n",
       "<table border=\"1\" class=\"dataframe\">\n",
       "  <thead>\n",
       "    <tr style=\"text-align: right;\">\n",
       "      <th>debt</th>\n",
       "      <th>0</th>\n",
       "      <th>1</th>\n",
       "      <th>percent</th>\n",
       "    </tr>\n",
       "    <tr>\n",
       "      <th>total_income_category</th>\n",
       "      <th></th>\n",
       "      <th></th>\n",
       "      <th></th>\n",
       "    </tr>\n",
       "  </thead>\n",
       "  <tbody>\n",
       "    <tr>\n",
       "      <th>E</th>\n",
       "      <td>20</td>\n",
       "      <td>2</td>\n",
       "      <td>9.09</td>\n",
       "    </tr>\n",
       "    <tr>\n",
       "      <th>C</th>\n",
       "      <td>14568</td>\n",
       "      <td>1353</td>\n",
       "      <td>8.50</td>\n",
       "    </tr>\n",
       "    <tr>\n",
       "      <th>A</th>\n",
       "      <td>23</td>\n",
       "      <td>2</td>\n",
       "      <td>8.00</td>\n",
       "    </tr>\n",
       "    <tr>\n",
       "      <th>B</th>\n",
       "      <td>4660</td>\n",
       "      <td>354</td>\n",
       "      <td>7.06</td>\n",
       "    </tr>\n",
       "    <tr>\n",
       "      <th>D</th>\n",
       "      <td>328</td>\n",
       "      <td>21</td>\n",
       "      <td>6.02</td>\n",
       "    </tr>\n",
       "  </tbody>\n",
       "</table>\n",
       "</div>"
      ],
      "text/plain": [
       "debt                       0     1  percent\n",
       "total_income_category                      \n",
       "E                         20     2     9.09\n",
       "C                      14568  1353     8.50\n",
       "A                         23     2     8.00\n",
       "B                       4660   354     7.06\n",
       "D                        328    21     6.02"
      ]
     },
     "execution_count": 40,
     "metadata": {},
     "output_type": "execute_result"
    }
   ],
   "source": [
    "tic = data.pivot_table(index='total_income_category', columns='debt', values='family_status_id', aggfunc='count')\n",
    "tic['percent']=round((tic[1] / (tic[1] + tic[0]))*100, 2)\n",
    "tic.sort_values(by='percent', ascending=False)"
   ]
  },
  {
   "cell_type": "code",
   "execution_count": 41,
   "id": "94cfc8b8",
   "metadata": {},
   "outputs": [
    {
     "data": {
      "text/plain": [
       "<AxesSubplot:xlabel='total_income_category'>"
      ]
     },
     "execution_count": 41,
     "metadata": {},
     "output_type": "execute_result"
    },
    {
     "data": {
      "image/png": "[encoded data removed]",
      "text/plain": [
       "<Figure size 576x288 with 1 Axes>"
      ]
     },
     "metadata": {
      "needs_background": "light"
     },
     "output_type": "display_data"
    }
   ],
   "source": [
    "tic = tic['percent'].sort_values(ascending=False)\n",
    "tic.plot(kind='bar', figsize=(8, 4))"
   ]
  },
  {
   "cell_type": "markdown",
   "id": "37cdcfe4",
   "metadata": {
    "deletable": false,
    "id": "e8593def"
   },
   "source": [
    "**Вывод:** \n",
    "\n",
    "Разбивка на классы с учетом квантилей дает более значимые результаты выборок:\n",
    "\n",
    "    самые обеспеченные заемщики чаще остальных имеют просрочку по кредиту;\n",
    "    заемщики выше среднего класса и самые малообеспеченные граждане реже остальных пропускают платежи;\n",
    "    средний класс довольно часто задерживают платежи по кредитам."
   ]
  },
  {
   "cell_type": "markdown",
   "id": "9870e769",
   "metadata": {},
   "source": [
    "<div class=\"alert alert-warning\">\n",
    "    <h2> Комментарий ревьюера <a class=\"tocSkip\"> </h2>\n",
    "    \n",
    "<b>Можно лучше⚠️:</b> Здесь также стоит обратить внимание на то, что выборки несбалансированны. Рекомендую сравнить для выявления зависимости категории с наибольшими значениями - В и С. \n",
    "</div>"
   ]
  },
  {
   "cell_type": "markdown",
   "id": "8e2bc5b2",
   "metadata": {},
   "source": [
    " <div class=\"alert alert-info\"> <b>\n",
    "    Вывод 2: Так как выборки несбалансированны, не следует опираться на значения из подвыборок A, D, E. Самые надежные клиенты находятся в группе B с доходом от 200001 до 1000000. Самые ненадежные, в свою очередь, в группе С с доходом от 50001 до 200000</b> </div>"
   ]
  },
  {
   "cell_type": "markdown",
   "id": "0c013054",
   "metadata": {},
   "source": [
    "<div class=\"alert alert-success\">\n",
    "<h2> Комментарий ревьюера v2<a class=\"tocSkip\"> </h2>\n",
    "\n",
    "<b>Отлично!✅:</b> Отлично!\n",
    "\n",
    "</div>"
   ]
  },
  {
   "cell_type": "markdown",
   "id": "bb259176",
   "metadata": {
    "deletable": false,
    "editable": false,
    "id": "99ecbd1f"
   },
   "source": [
    "#### 3.4 Как разные цели кредита влияют на его возврат в срок?"
   ]
  },
  {
   "cell_type": "code",
   "execution_count": 42,
   "id": "19156722",
   "metadata": {
    "deletable": false,
    "id": "2b687290"
   },
   "outputs": [
    {
     "data": {
      "text/html": [
       "<div>\n",
       "<style scoped>\n",
       "    .dataframe tbody tr th:only-of-type {\n",
       "        vertical-align: middle;\n",
       "    }\n",
       "\n",
       "    .dataframe tbody tr th {\n",
       "        vertical-align: top;\n",
       "    }\n",
       "\n",
       "    .dataframe thead th {\n",
       "        text-align: right;\n",
       "    }\n",
       "</style>\n",
       "<table border=\"1\" class=\"dataframe\">\n",
       "  <thead>\n",
       "    <tr style=\"text-align: right;\">\n",
       "      <th>debt</th>\n",
       "      <th>0</th>\n",
       "      <th>1</th>\n",
       "      <th>percent</th>\n",
       "    </tr>\n",
       "    <tr>\n",
       "      <th>purpose_category</th>\n",
       "      <th></th>\n",
       "      <th></th>\n",
       "      <th></th>\n",
       "    </tr>\n",
       "  </thead>\n",
       "  <tbody>\n",
       "    <tr>\n",
       "      <th>операции с автомобилем</th>\n",
       "      <td>3879</td>\n",
       "      <td>400</td>\n",
       "      <td>9.35</td>\n",
       "    </tr>\n",
       "    <tr>\n",
       "      <th>получение образования</th>\n",
       "      <td>3619</td>\n",
       "      <td>369</td>\n",
       "      <td>9.25</td>\n",
       "    </tr>\n",
       "    <tr>\n",
       "      <th>проведение свадьбы</th>\n",
       "      <td>2130</td>\n",
       "      <td>183</td>\n",
       "      <td>7.91</td>\n",
       "    </tr>\n",
       "    <tr>\n",
       "      <th>операции с недвижимостью</th>\n",
       "      <td>9971</td>\n",
       "      <td>780</td>\n",
       "      <td>7.26</td>\n",
       "    </tr>\n",
       "  </tbody>\n",
       "</table>\n",
       "</div>"
      ],
      "text/plain": [
       "debt                         0    1  percent\n",
       "purpose_category                            \n",
       "операции с автомобилем    3879  400     9.35\n",
       "получение образования     3619  369     9.25\n",
       "проведение свадьбы        2130  183     7.91\n",
       "операции с недвижимостью  9971  780     7.26"
      ]
     },
     "execution_count": 42,
     "metadata": {},
     "output_type": "execute_result"
    }
   ],
   "source": [
    "purpose = data.pivot_table(index='purpose_category', columns='debt', values='family_status_id', aggfunc='count')\n",
    "purpose['percent']=round((purpose[1] / (purpose[1] + purpose[0]))*100, 2)\n",
    "purpose.sort_values(by='percent', ascending=False)\n",
    "# Ваш код будет здесь. Вы можете создавать новые ячейки."
   ]
  },
  {
   "cell_type": "code",
   "execution_count": 43,
   "id": "b744ba2a",
   "metadata": {},
   "outputs": [
    {
     "data": {
      "text/plain": [
       "<AxesSubplot:xlabel='purpose_category'>"
      ]
     },
     "execution_count": 43,
     "metadata": {},
     "output_type": "execute_result"
    },
    {
     "data": {
      "image/png": "[encoded data removed]",
      "text/plain": [
       "<Figure size 576x288 with 1 Axes>"
      ]
     },
     "metadata": {
      "needs_background": "light"
     },
     "output_type": "display_data"
    }
   ],
   "source": [
    "purp = purpose['percent'].sort_values(ascending=False)\n",
    "purp.plot(kind='bar', figsize=(8, 4))"
   ]
  },
  {
   "cell_type": "markdown",
   "id": "0660e304",
   "metadata": {
    "deletable": false,
    "id": "b4bb2ce6"
   },
   "source": [
    "**Вывод:** \n",
    "\n",
    "Самые рисковые цели для выдачи кредита:\n",
    "\n",
    "    -операции с автомобилем;\n",
    "    -получение образования."
   ]
  },
  {
   "cell_type": "markdown",
   "id": "e32c825e",
   "metadata": {},
   "source": [
    "<div class=\"alert alert-success\">\n",
    "<h2> Комментарий ревьюера <a class=\"tocSkip\"> </h2>\n",
    "\n",
    "<b>Отлично!✅:</b> Согласна!\n",
    "\n",
    "</div>"
   ]
  },
  {
   "cell_type": "markdown",
   "id": "18e7c958",
   "metadata": {
    "deletable": false,
    "editable": false,
    "id": "09c3ac4c"
   },
   "source": [
    "#### 3.5 Приведите возможные причины появления пропусков в исходных данных."
   ]
  },
  {
   "cell_type": "markdown",
   "id": "f39156d3",
   "metadata": {
    "deletable": false,
    "id": "9da2ceda"
   },
   "source": [
    "*Ответ:*  Можно заметить, что количество пропусков в столбцах одинаково и содержатся они в одной строке: где пропуск в одном столбце - пропуск и в другом. Возможно, при заполнении анкеты, если имеется пропуск в одном значении - зависящее от него значение автоматически становится неактивным при заполнении. "
   ]
  },
  {
   "cell_type": "markdown",
   "id": "8dd69986",
   "metadata": {},
   "source": [
    "<div class=\"alert alert-warning\">\n",
    "    <h2> Комментарий ревьюера <a class=\"tocSkip\"> </h2>\n",
    "    \n",
    "<b>Можно лучше⚠️:</b> Необходимо указать два фактора, влияющие на появление пропусков.\n",
    "</div>"
   ]
  },
  {
   "cell_type": "markdown",
   "id": "7c06dc18",
   "metadata": {},
   "source": [
    "<div class=\"alert alert-info\"> <b>\n",
    "Вторая причина - человеческий фактор. Возможно, значение случайно не заполнили, либо умышленно. </b> </div>"
   ]
  },
  {
   "cell_type": "markdown",
   "id": "0fb042ea",
   "metadata": {},
   "source": [
    "<div class=\"alert alert-success\">\n",
    "<h2> Комментарий ревьюера v2<a class=\"tocSkip\"> </h2>\n",
    "\n",
    "<b>Отлично!✅:</b> Стоит указать также технический сбой.\n",
    "\n",
    "</div>"
   ]
  },
  {
   "cell_type": "markdown",
   "id": "e16b56a0",
   "metadata": {
    "deletable": false,
    "editable": false,
    "id": "7b0487d6"
   },
   "source": [
    "#### 3.6 Объясните, почему заполнить пропуски медианным значением — лучшее решение для количественных переменных."
   ]
  },
  {
   "cell_type": "markdown",
   "id": "24884934",
   "metadata": {
    "deletable": false,
    "id": "7ecf2b8e"
   },
   "source": [
    "*Ответ:* В данном случае имеются большие выбросы в данных, что хорошо видно на графике для столбца total income."
   ]
  },
  {
   "cell_type": "markdown",
   "id": "ec173f94",
   "metadata": {},
   "source": [
    "<div class=\"alert alert-success\">\n",
    "<h2> Комментарий ревьюера <a class=\"tocSkip\"> </h2>\n",
    "\n",
    "<b>Отлично!✅:</b> Да, верно! Здесь имеется ввиду не относительно данного проекта, а в целом, проверяется теория:)\n",
    "\n",
    "</div>"
   ]
  },
  {
   "cell_type": "markdown",
   "id": "eb2980c6",
   "metadata": {
    "deletable": false,
    "editable": false,
    "id": "6db5255a"
   },
   "source": [
    "### Шаг 4: общий вывод."
   ]
  },
  {
   "cell_type": "markdown",
   "id": "7a556cdf",
   "metadata": {
    "deletable": false,
    "id": "bad65432"
   },
   "source": [
    "**Ненадежный заемщик**\n",
    "\n",
    "    Берет кредит на операции с автомобилем или образование;\n",
    "    Имеет доход более 1500000 или в диапозоне от 50000 до 200000 рублей;\n",
    "    Не состоит и не состоял ранее в браке;\n",
    "    Наличие детей.\n",
    "\n",
    "**Надежный заемщик**\n",
    "\n",
    "    Берет кредит на операции с недвижимостью или проведение свадьбы (но после проведения свадьбы, заемщик перейдет в разряд женатых, процент отдачи кредита вовремя может понизиться);\n",
    "    Доход от 500000 до 1500000 рублей;\n",
    "    Вдовец или вдова;\n",
    "    Отсутствие детей.\n",
    "    "
   ]
  },
  {
   "cell_type": "markdown",
   "id": "675458cf",
   "metadata": {},
   "source": [
    "<br/>\n",
    "<div class=\"alert alert-block alert-danger\">\n",
    "<h2> Комментарий ревьюера <a class=\"tocSkip\"></h2>\n",
    "<b>Необходимо исправить❌:</b>\n",
    "Женя, общий вывод - обязательный и важный элемент работы. Его нужно сформулировать, взяв основные результаты из всех шагов проекта. Начать нужно с того, с какими данными мы работали и какие действия провели на этапе предобработки, а закончить выявленными при ответе на вопросы зависимостями и рекомендациями заказчику по улучшению сбора данных и скоринга. Заказчик, зачастую, читает только общий вывод исследования - поэтому он должен быть максимально информативным. \n",
    "</div>"
   ]
  },
  {
   "cell_type": "markdown",
   "id": "6be0659b",
   "metadata": {},
   "source": [
    "<div class=\"alert alert-info\">  \n",
    "  <p><strong>Общий вывод 2.</strong></p>\n",
    "  <p><strong>Входные данные</strong> &ndash; статистика о платежеспособности клиентов банка, были предоставлены в формате .csv. Всего 21525 строк и 12 столбцов:</p>\n",
    "<p>children <br />days_employed<br />dob_years<br />education<br />education_id<br />family_status<br />family_status_id<br />gender<br />income_type<br />debt<br />total_income<br />purpose</p>\n",
    "<p>В таблице присутствовали <strong>пропущенные значения</strong> в столбцах: &laquo;days_employed&raquo; и &laquo;total_income&raquo;. Доля пропусков в обоих столбцах составила 10%. Возможные причины пропусков: человеческий фактор(невнимательность при заполнении, либо умышленное незаполнение граф) и технический аспект (можно заметить, что количество пропусков в столбцах одинаково и содержатся они в одной строке: где пропуск в одном столбце - пропуск и в другом. Возможно, при заполнении анкеты, если имеется пропуск в одном значении - зависящее от него значение автоматически становится неактивным при заполнении.) Пропуски были заполнены медианным значением, так как в выборке присутствовали выбросы.</p>\n",
    "<p>В данных обнаружены <strong>аномальные значения</strong> в столбцах: &laquo;days_employed&raquo; - отрицательные значения - были заменены на положительные;<br />&laquo;children&raquo; - отрицательное значение и слишком большое значение(всего 2 строки) &ndash; эти строки были удалены.</p>\n",
    "<p>Тип данных в столбце &laquo;total_income&raquo; был приведен к цельночисленному значению.<br />В данных присутствовали <strong>дубликаты</strong> в количестве 71 строки. Они были удалены из датасета методом drop_duplicates(). Также, были обнаружены <strong>неявные дубликаты</strong> в столбце &laquo;education&raquo; - значения были записаны с помощью строчных и заглавных букв &ndash; все дубликаты были приведены к нижнему регистру с помощью .str.lower(). Причины появления дубликатов &ndash; человеческий фактор (2 раза отправленная анкета (в случае дублирования строк)), некорректный ручной ввод(в случае самостоятельного заполнения)) а также системная ошибка (в случае дублирования строк)</p>\n",
    "<p><br />В данных были выявлены зависимости для определения надежности заемщиков такие как:<br /><strong>Зависимость между количеством детей и возвратом кредита в срок:</strong><br />Можно предположить, что отсутствие детей у заемщика уменьшает возможность невозврата кредита.<br /><strong>Зависимость между семейным положением и возвратом кредита в срок:</strong><br />Люди, не обремененные семейными узами ни в данный момент, ни в прошлом менее охотно гасят кредиты, нежели их побывавшие или находящиеся в браке сограждане.<br />Зависимость между уровнем дохода и возвратом кредита в срок:<br />Самые надежные клиенты находятся в группе B с доходом от 200001 до 1000000. Самые ненадежные, в свою очередь, в группе С с доходом от 50001 до 200000<br /><strong>Зависимость между целью кредита и возвратом его в срок:</strong><br />Самые рисковые цели для выдачи кредита:<br />-операции с автомобилем;<br />-получение образования.</p>\n",
    "<p>Исходя из полученных выводов, можно описать ненадежных и надежных клиентов банка:<br /><strong><em>Ненадежный заемщик</em></strong><br />Берет кредит на операции с автомобилем или образование;<br />Имеет доход более 1500000 или в диапазоне от 50000 до 200000 рублей;<br />Не состоит и не состоял ранее в браке;<br />Наличие детей.<br /><strong><em>Надежный заемщик</em></strong><br />Берет кредит на операции с недвижимостью или проведение свадьбы (но после проведения свадьбы, заемщик перейдет в разряд женатых, процент отдачи кредита вовремя может понизиться);<br />Доход от 500000 до 1500000 рублей;<br />Вдовец или вдова;<br />Отсутствие детей.<br /><strong>Рекомендации:</strong><br />Автоматизировать сбор данных: убрать ручной ввод, в каждой графе категориальных признаков сделать выпадающее меню с выбором ответов либо, для удобства пользователя, меню с возможностью выбора;<br />в графах с количественными переменными:<br />В графе &laquo;children&raquo; - меню с возможностью выбора;<br />В графе &laquo;total_income&raquo; сделать ползунок диапазона;<br />В графе &laquo;dob_years&raquo; ввод по календарю.</p><p>Также, следует разрешить редактирование анкеты после внесения в нее данных(на случай изменения данных о заемщике), но запретить повторное заполнение анкеты одним и тем же заемщиком.</p>\n",
    " </b> </div>"
   ]
  },
  {
   "cell_type": "markdown",
   "id": "76f351d6",
   "metadata": {},
   "source": [
    "<div class=\"alert alert-info\"> <b>Комментарий студента: <p>Евгения, спасибо за быструю проверку и указание ошибок, постаралась все поправить в соответствии с твоими рекомендациями.</p>\n",
    "<p style=\"text-align: right;\">С уважением, Евгения Дымич.</p>\n",
    "    </b> </div>"
   ]
  },
  {
   "cell_type": "markdown",
   "id": "aa676f38",
   "metadata": {},
   "source": [
    "<div class=\"alert alert-success\">\n",
    "<h2> Комментарий ревьюера v2<a class=\"tocSkip\"> </h2>\n",
    "\n",
    "<b>Отлично!✅:</b> Евгения, извиняюсь, что неправильно указала имя. Молодец, что учла все замечания. Работа принята, хорошего дня:)\n",
    "\n",
    "</div>"
   ]
  },
  {
   "cell_type": "markdown",
   "id": "d95bcb12",
   "metadata": {},
   "source": [
    "<div style=\"border:solid Chocolate 2px; padding: 40px\">\n",
    "Евгений, давай подведем итоги. Ты большой молодец, что старался и проделал такую большую работу. Мне понравилось, что ты верно вывел таблицы и детально подошел к рассмотрению заданий:)\n",
    "    \n",
    "    Разберем над чем стоит поработать:\n",
    "\n",
    "    1. Необходимо учитывать несбалансированность выборок.\n",
    "    \n",
    "    2. Нужно указать два фактора, влияющие на появление пропусков.\n",
    "    \n",
    "    3. Общий вывод раскрыть более детально:)\n",
    "    \n",
    "    \n",
    "    Пересмотри работу и исправь ошибки. Обязательно пиши, если я могу тебе еще чем-то помочь. Удачи!)\n",
    "  "
   ]
  }
 ],
 "metadata": {
  "ExecuteTimeLog": [
   {
    "duration": 515,
    "start_time": "2023-01-18T09:58:13.953Z"
   },
   {
    "duration": 23,
    "start_time": "2023-01-18T09:58:14.470Z"
   },
   {
    "duration": 16,
    "start_time": "2023-01-18T09:58:14.494Z"
   },
   {
    "duration": 29,
    "start_time": "2023-01-18T09:58:14.512Z"
   },
   {
    "duration": 34,
    "start_time": "2023-01-18T09:58:14.543Z"
   },
   {
    "duration": 3,
    "start_time": "2023-01-18T09:58:14.579Z"
   },
   {
    "duration": 14,
    "start_time": "2023-01-18T09:58:14.583Z"
   },
   {
    "duration": 4,
    "start_time": "2023-01-18T09:58:14.599Z"
   },
   {
    "duration": 8,
    "start_time": "2023-01-18T09:58:14.604Z"
   },
   {
    "duration": 5,
    "start_time": "2023-01-18T09:58:14.637Z"
   },
   {
    "duration": 47,
    "start_time": "2023-01-18T09:58:14.644Z"
   },
   {
    "duration": 10,
    "start_time": "2023-01-18T09:58:14.692Z"
   },
   {
    "duration": 4,
    "start_time": "2023-01-18T09:58:14.704Z"
   },
   {
    "duration": 27,
    "start_time": "2023-01-18T09:58:14.710Z"
   },
   {
    "duration": 27,
    "start_time": "2023-01-18T09:58:14.739Z"
   },
   {
    "duration": 17,
    "start_time": "2023-01-18T09:58:14.768Z"
   },
   {
    "duration": 3,
    "start_time": "2023-01-18T09:58:14.787Z"
   },
   {
    "duration": 14,
    "start_time": "2023-01-18T09:58:14.792Z"
   },
   {
    "duration": 9,
    "start_time": "2023-01-18T09:58:14.808Z"
   },
   {
    "duration": 4,
    "start_time": "2023-01-18T09:58:14.838Z"
   },
   {
    "duration": 12,
    "start_time": "2023-01-18T09:58:14.844Z"
   },
   {
    "duration": 33,
    "start_time": "2023-01-18T10:02:50.122Z"
   },
   {
    "duration": 40,
    "start_time": "2023-01-18T10:04:01.831Z"
   },
   {
    "duration": 9,
    "start_time": "2023-01-18T10:05:33.137Z"
   },
   {
    "duration": 70,
    "start_time": "2023-01-18T10:06:11.328Z"
   },
   {
    "duration": 8,
    "start_time": "2023-01-18T10:06:22.056Z"
   },
   {
    "duration": 8,
    "start_time": "2023-01-18T10:06:33.592Z"
   },
   {
    "duration": 17,
    "start_time": "2023-01-18T10:09:09.161Z"
   },
   {
    "duration": 55,
    "start_time": "2023-01-18T10:09:52.611Z"
   },
   {
    "duration": 19,
    "start_time": "2023-01-18T10:11:52.924Z"
   },
   {
    "duration": 18,
    "start_time": "2023-01-18T10:12:38.452Z"
   },
   {
    "duration": 20,
    "start_time": "2023-01-18T10:17:34.630Z"
   },
   {
    "duration": 17,
    "start_time": "2023-01-18T10:18:02.466Z"
   },
   {
    "duration": 22,
    "start_time": "2023-01-18T10:18:19.406Z"
   },
   {
    "duration": 18,
    "start_time": "2023-01-18T10:18:41.710Z"
   },
   {
    "duration": 22,
    "start_time": "2023-01-18T10:19:14.168Z"
   },
   {
    "duration": 901,
    "start_time": "2023-01-18T10:20:13.881Z"
   },
   {
    "duration": 21,
    "start_time": "2023-01-18T10:20:28.238Z"
   },
   {
    "duration": 23,
    "start_time": "2023-01-18T10:21:43.661Z"
   },
   {
    "duration": 19,
    "start_time": "2023-01-18T10:21:50.455Z"
   },
   {
    "duration": 1229,
    "start_time": "2023-01-18T10:23:47.183Z"
   },
   {
    "duration": 17,
    "start_time": "2023-01-18T10:32:01.261Z"
   },
   {
    "duration": 24,
    "start_time": "2023-01-18T10:33:15.675Z"
   },
   {
    "duration": 389,
    "start_time": "2023-01-18T10:37:48.381Z"
   },
   {
    "duration": 252,
    "start_time": "2023-01-18T10:40:29.953Z"
   },
   {
    "duration": 37,
    "start_time": "2023-01-18T10:42:09.152Z"
   },
   {
    "duration": 40,
    "start_time": "2023-01-18T10:42:14.089Z"
   },
   {
    "duration": 37,
    "start_time": "2023-01-18T10:42:34.156Z"
   },
   {
    "duration": 358,
    "start_time": "2023-01-18T10:42:52.064Z"
   },
   {
    "duration": 9,
    "start_time": "2023-01-18T10:44:12.762Z"
   },
   {
    "duration": 118,
    "start_time": "2023-01-18T10:44:28.587Z"
   },
   {
    "duration": 12,
    "start_time": "2023-01-18T10:44:49.258Z"
   },
   {
    "duration": 13,
    "start_time": "2023-01-18T10:45:04.766Z"
   },
   {
    "duration": 10,
    "start_time": "2023-01-18T10:45:09.810Z"
   },
   {
    "duration": 31,
    "start_time": "2023-01-18T10:45:25.396Z"
   },
   {
    "duration": 253,
    "start_time": "2023-01-18T10:45:40.563Z"
   },
   {
    "duration": 132,
    "start_time": "2023-01-18T10:46:23.298Z"
   },
   {
    "duration": 276,
    "start_time": "2023-01-18T10:46:31.035Z"
   },
   {
    "duration": 13,
    "start_time": "2023-01-18T10:49:05.635Z"
   },
   {
    "duration": 73,
    "start_time": "2023-01-18T10:50:51.560Z"
   },
   {
    "duration": 9,
    "start_time": "2023-01-18T10:51:17.156Z"
   },
   {
    "duration": 9,
    "start_time": "2023-01-18T10:51:32.656Z"
   },
   {
    "duration": 19,
    "start_time": "2023-01-18T10:51:44.596Z"
   },
   {
    "duration": 72,
    "start_time": "2023-01-18T10:57:03.852Z"
   },
   {
    "duration": 10,
    "start_time": "2023-01-18T10:57:16.672Z"
   },
   {
    "duration": 12,
    "start_time": "2023-01-18T10:57:24.823Z"
   },
   {
    "duration": 8,
    "start_time": "2023-01-18T10:59:35.585Z"
   },
   {
    "duration": 8,
    "start_time": "2023-01-18T10:59:41.089Z"
   },
   {
    "duration": 279,
    "start_time": "2023-01-18T11:01:46.165Z"
   },
   {
    "duration": 15,
    "start_time": "2023-01-18T11:02:04.889Z"
   },
   {
    "duration": 21,
    "start_time": "2023-01-18T11:08:08.301Z"
   },
   {
    "duration": 21,
    "start_time": "2023-01-18T11:08:15.222Z"
   },
   {
    "duration": 21,
    "start_time": "2023-01-18T11:08:23.260Z"
   },
   {
    "duration": 20,
    "start_time": "2023-01-18T11:09:11.999Z"
   },
   {
    "duration": 21,
    "start_time": "2023-01-18T11:09:17.718Z"
   },
   {
    "duration": 74,
    "start_time": "2023-01-18T11:09:56.375Z"
   },
   {
    "duration": 65,
    "start_time": "2023-01-18T11:10:54.751Z"
   },
   {
    "duration": 22,
    "start_time": "2023-01-18T11:11:30.641Z"
   },
   {
    "duration": 21,
    "start_time": "2023-01-18T11:14:11.376Z"
   },
   {
    "duration": 28,
    "start_time": "2023-01-18T11:14:19.368Z"
   },
   {
    "duration": 23,
    "start_time": "2023-01-18T11:14:42.360Z"
   },
   {
    "duration": 22,
    "start_time": "2023-01-18T11:15:12.762Z"
   },
   {
    "duration": 319,
    "start_time": "2023-01-18T11:15:54.602Z"
   },
   {
    "duration": 26,
    "start_time": "2023-01-18T11:17:06.796Z"
   },
   {
    "duration": 4,
    "start_time": "2023-01-18T11:28:33.309Z"
   },
   {
    "duration": 3,
    "start_time": "2023-01-18T11:28:40.046Z"
   },
   {
    "duration": 5,
    "start_time": "2023-01-18T11:28:43.262Z"
   },
   {
    "duration": 1200,
    "start_time": "2023-01-18T11:34:13.338Z"
   },
   {
    "duration": 28,
    "start_time": "2023-01-18T11:35:53.556Z"
   },
   {
    "duration": 71,
    "start_time": "2023-01-18T11:36:37.507Z"
   },
   {
    "duration": 17,
    "start_time": "2023-01-18T11:36:37.580Z"
   },
   {
    "duration": 26,
    "start_time": "2023-01-18T11:36:37.598Z"
   },
   {
    "duration": 20,
    "start_time": "2023-01-18T11:36:37.626Z"
   },
   {
    "duration": 36,
    "start_time": "2023-01-18T11:36:37.649Z"
   },
   {
    "duration": 3,
    "start_time": "2023-01-18T11:36:37.687Z"
   },
   {
    "duration": 12,
    "start_time": "2023-01-18T11:36:37.692Z"
   },
   {
    "duration": 4,
    "start_time": "2023-01-18T11:36:37.706Z"
   },
   {
    "duration": 6,
    "start_time": "2023-01-18T11:36:37.739Z"
   },
   {
    "duration": 13,
    "start_time": "2023-01-18T11:36:37.746Z"
   },
   {
    "duration": 40,
    "start_time": "2023-01-18T11:36:37.761Z"
   },
   {
    "duration": 11,
    "start_time": "2023-01-18T11:36:37.803Z"
   },
   {
    "duration": 22,
    "start_time": "2023-01-18T11:36:37.816Z"
   },
   {
    "duration": 16,
    "start_time": "2023-01-18T11:36:37.841Z"
   },
   {
    "duration": 30,
    "start_time": "2023-01-18T11:36:37.859Z"
   },
   {
    "duration": 20,
    "start_time": "2023-01-18T11:36:37.891Z"
   },
   {
    "duration": 27,
    "start_time": "2023-01-18T11:36:37.912Z"
   },
   {
    "duration": 14,
    "start_time": "2023-01-18T11:36:37.940Z"
   },
   {
    "duration": 34,
    "start_time": "2023-01-18T11:36:37.956Z"
   },
   {
    "duration": 35,
    "start_time": "2023-01-18T11:36:37.992Z"
   },
   {
    "duration": 30,
    "start_time": "2023-01-18T11:36:38.029Z"
   },
   {
    "duration": 38,
    "start_time": "2023-01-18T11:36:38.061Z"
   },
   {
    "duration": 14,
    "start_time": "2023-01-18T11:36:38.101Z"
   },
   {
    "duration": 35,
    "start_time": "2023-01-18T11:37:24.757Z"
   },
   {
    "duration": 26,
    "start_time": "2023-01-18T11:37:51.938Z"
   },
   {
    "duration": 73,
    "start_time": "2023-01-18T11:37:57.659Z"
   },
   {
    "duration": 15,
    "start_time": "2023-01-18T11:37:57.734Z"
   },
   {
    "duration": 83,
    "start_time": "2023-01-18T11:37:57.751Z"
   },
   {
    "duration": 38,
    "start_time": "2023-01-18T11:37:57.837Z"
   },
   {
    "duration": 82,
    "start_time": "2023-01-18T11:37:57.877Z"
   },
   {
    "duration": 41,
    "start_time": "2023-01-18T11:37:57.961Z"
   },
   {
    "duration": 75,
    "start_time": "2023-01-18T11:37:58.004Z"
   },
   {
    "duration": 49,
    "start_time": "2023-01-18T11:37:58.081Z"
   },
   {
    "duration": 42,
    "start_time": "2023-01-18T11:37:58.132Z"
   },
   {
    "duration": 51,
    "start_time": "2023-01-18T11:37:58.177Z"
   },
   {
    "duration": 73,
    "start_time": "2023-01-18T11:37:58.231Z"
   },
   {
    "duration": 10,
    "start_time": "2023-01-18T11:37:58.306Z"
   },
   {
    "duration": 35,
    "start_time": "2023-01-18T11:37:58.318Z"
   },
   {
    "duration": 46,
    "start_time": "2023-01-18T11:37:58.355Z"
   },
   {
    "duration": 56,
    "start_time": "2023-01-18T11:37:58.403Z"
   },
   {
    "duration": 31,
    "start_time": "2023-01-18T11:37:58.460Z"
   },
   {
    "duration": 21,
    "start_time": "2023-01-18T11:37:58.493Z"
   },
   {
    "duration": 60,
    "start_time": "2023-01-18T11:37:58.516Z"
   },
   {
    "duration": 39,
    "start_time": "2023-01-18T11:37:58.578Z"
   },
   {
    "duration": 52,
    "start_time": "2023-01-18T11:37:58.618Z"
   },
   {
    "duration": 54,
    "start_time": "2023-01-18T11:37:58.672Z"
   },
   {
    "duration": 62,
    "start_time": "2023-01-18T11:37:58.728Z"
   },
   {
    "duration": 39,
    "start_time": "2023-01-18T11:37:58.791Z"
   },
   {
    "duration": 32,
    "start_time": "2023-01-18T11:38:01.274Z"
   },
   {
    "duration": 32,
    "start_time": "2023-01-18T11:38:21.435Z"
   },
   {
    "duration": 768,
    "start_time": "2023-01-19T06:06:25.786Z"
   },
   {
    "duration": 38,
    "start_time": "2023-01-19T06:06:26.557Z"
   },
   {
    "duration": 17,
    "start_time": "2023-01-19T06:06:26.597Z"
   },
   {
    "duration": 9,
    "start_time": "2023-01-19T06:06:26.616Z"
   },
   {
    "duration": 34,
    "start_time": "2023-01-19T06:06:26.627Z"
   },
   {
    "duration": 21,
    "start_time": "2023-01-19T06:06:26.662Z"
   },
   {
    "duration": 14,
    "start_time": "2023-01-19T06:06:26.684Z"
   },
   {
    "duration": 6,
    "start_time": "2023-01-19T06:06:26.700Z"
   },
   {
    "duration": 12,
    "start_time": "2023-01-19T06:06:26.707Z"
   },
   {
    "duration": 5,
    "start_time": "2023-01-19T06:06:26.721Z"
   },
   {
    "duration": 62,
    "start_time": "2023-01-19T06:06:26.727Z"
   },
   {
    "duration": 8,
    "start_time": "2023-01-19T06:06:26.791Z"
   },
   {
    "duration": 4,
    "start_time": "2023-01-19T06:06:26.801Z"
   },
   {
    "duration": 12,
    "start_time": "2023-01-19T06:06:26.807Z"
   },
   {
    "duration": 28,
    "start_time": "2023-01-19T06:06:26.821Z"
   },
   {
    "duration": 52,
    "start_time": "2023-01-19T06:06:26.851Z"
   },
   {
    "duration": 4,
    "start_time": "2023-01-19T06:06:26.906Z"
   },
   {
    "duration": 12,
    "start_time": "2023-01-19T06:06:26.911Z"
   },
   {
    "duration": 9,
    "start_time": "2023-01-19T06:06:26.925Z"
   },
   {
    "duration": 4,
    "start_time": "2023-01-19T06:06:26.936Z"
   },
   {
    "duration": 13,
    "start_time": "2023-01-19T06:06:26.941Z"
   },
   {
    "duration": 42,
    "start_time": "2023-01-19T06:06:26.956Z"
   },
   {
    "duration": 3,
    "start_time": "2023-01-19T06:06:27.000Z"
   },
   {
    "duration": 29,
    "start_time": "2023-01-19T06:06:27.005Z"
   },
   {
    "duration": 5,
    "start_time": "2023-01-19T06:17:50.129Z"
   },
   {
    "duration": 68,
    "start_time": "2023-01-19T06:25:04.891Z"
   },
   {
    "duration": 18,
    "start_time": "2023-01-19T06:25:14.906Z"
   },
   {
    "duration": 14,
    "start_time": "2023-01-19T06:25:57.501Z"
   },
   {
    "duration": 22,
    "start_time": "2023-01-19T06:27:39.861Z"
   },
   {
    "duration": 539,
    "start_time": "2023-01-19T06:32:40.509Z"
   },
   {
    "duration": 533,
    "start_time": "2023-01-19T06:33:17.474Z"
   },
   {
    "duration": 711,
    "start_time": "2023-01-19T06:35:38.666Z"
   },
   {
    "duration": 153,
    "start_time": "2023-01-19T06:35:54.334Z"
   },
   {
    "duration": 10,
    "start_time": "2023-01-19T06:36:57.572Z"
   },
   {
    "duration": 513,
    "start_time": "2023-01-19T06:37:19.976Z"
   },
   {
    "duration": 497,
    "start_time": "2023-01-19T06:38:40.571Z"
   },
   {
    "duration": 511,
    "start_time": "2023-01-19T06:38:49.302Z"
   },
   {
    "duration": 174,
    "start_time": "2023-01-19T06:39:25.568Z"
   },
   {
    "duration": 53,
    "start_time": "2023-01-19T06:39:47.088Z"
   },
   {
    "duration": 247,
    "start_time": "2023-01-19T06:39:57.924Z"
   },
   {
    "duration": 192,
    "start_time": "2023-01-19T06:40:04.089Z"
   },
   {
    "duration": 179,
    "start_time": "2023-01-19T06:40:14.930Z"
   },
   {
    "duration": 172,
    "start_time": "2023-01-19T06:40:21.232Z"
   },
   {
    "duration": 170,
    "start_time": "2023-01-19T06:40:28.458Z"
   },
   {
    "duration": 150,
    "start_time": "2023-01-19T06:40:53.194Z"
   },
   {
    "duration": 70,
    "start_time": "2023-01-19T06:48:20.357Z"
   },
   {
    "duration": 9,
    "start_time": "2023-01-19T06:48:25.036Z"
   },
   {
    "duration": 9,
    "start_time": "2023-01-19T06:48:41.264Z"
   },
   {
    "duration": 7,
    "start_time": "2023-01-19T06:48:48.423Z"
   },
   {
    "duration": 9,
    "start_time": "2023-01-19T06:49:40.494Z"
   },
   {
    "duration": 826,
    "start_time": "2023-01-19T06:51:29.668Z"
   },
   {
    "duration": 795,
    "start_time": "2023-01-19T06:51:33.421Z"
   },
   {
    "duration": 8,
    "start_time": "2023-01-19T06:51:59.220Z"
   },
   {
    "duration": 836,
    "start_time": "2023-01-19T06:52:19.830Z"
   },
   {
    "duration": 847,
    "start_time": "2023-01-19T06:52:31.046Z"
   },
   {
    "duration": 723,
    "start_time": "2023-01-19T06:52:43.446Z"
   },
   {
    "duration": 8,
    "start_time": "2023-01-19T06:52:52.749Z"
   },
   {
    "duration": 815,
    "start_time": "2023-01-19T06:55:17.687Z"
   },
   {
    "duration": 820,
    "start_time": "2023-01-19T06:55:52.591Z"
   },
   {
    "duration": 14,
    "start_time": "2023-01-19T06:56:05.336Z"
   },
   {
    "duration": 794,
    "start_time": "2023-01-19T06:56:13.824Z"
   },
   {
    "duration": 5,
    "start_time": "2023-01-19T06:58:32.914Z"
   },
   {
    "duration": 122,
    "start_time": "2023-01-19T06:58:40.831Z"
   },
   {
    "duration": 137,
    "start_time": "2023-01-19T06:59:11.080Z"
   },
   {
    "duration": 110,
    "start_time": "2023-01-19T07:00:38.496Z"
   },
   {
    "duration": 492,
    "start_time": "2023-01-19T07:10:39.256Z"
   },
   {
    "duration": 21,
    "start_time": "2023-01-19T07:10:39.750Z"
   },
   {
    "duration": 15,
    "start_time": "2023-01-19T07:10:39.773Z"
   },
   {
    "duration": 9,
    "start_time": "2023-01-19T07:10:39.790Z"
   },
   {
    "duration": 46,
    "start_time": "2023-01-19T07:10:39.801Z"
   },
   {
    "duration": 3,
    "start_time": "2023-01-19T07:10:39.849Z"
   },
   {
    "duration": 25,
    "start_time": "2023-01-19T07:10:39.854Z"
   },
   {
    "duration": 10,
    "start_time": "2023-01-19T07:10:39.880Z"
   },
   {
    "duration": 26,
    "start_time": "2023-01-19T07:10:39.892Z"
   },
   {
    "duration": 5,
    "start_time": "2023-01-19T07:10:39.920Z"
   },
   {
    "duration": 36,
    "start_time": "2023-01-19T07:10:39.926Z"
   },
   {
    "duration": 9,
    "start_time": "2023-01-19T07:10:39.963Z"
   },
   {
    "duration": 7,
    "start_time": "2023-01-19T07:10:39.974Z"
   },
   {
    "duration": 18,
    "start_time": "2023-01-19T07:10:39.984Z"
   },
   {
    "duration": 22,
    "start_time": "2023-01-19T07:10:40.003Z"
   },
   {
    "duration": 17,
    "start_time": "2023-01-19T07:10:40.027Z"
   },
   {
    "duration": 4,
    "start_time": "2023-01-19T07:10:40.045Z"
   },
   {
    "duration": 35,
    "start_time": "2023-01-19T07:10:40.051Z"
   },
   {
    "duration": 5,
    "start_time": "2023-01-19T07:10:40.088Z"
   },
   {
    "duration": 3,
    "start_time": "2023-01-19T07:10:40.095Z"
   },
   {
    "duration": 14,
    "start_time": "2023-01-19T07:10:40.100Z"
   },
   {
    "duration": 26,
    "start_time": "2023-01-19T07:10:40.116Z"
   },
   {
    "duration": 3,
    "start_time": "2023-01-19T07:10:40.143Z"
   },
   {
    "duration": 43,
    "start_time": "2023-01-19T07:10:40.148Z"
   },
   {
    "duration": 355,
    "start_time": "2023-01-19T07:10:40.192Z"
   },
   {
    "duration": 77,
    "start_time": "2023-01-19T07:10:40.548Z"
   },
   {
    "duration": 0,
    "start_time": "2023-01-19T07:10:40.627Z"
   },
   {
    "duration": 0,
    "start_time": "2023-01-19T07:10:40.628Z"
   },
   {
    "duration": 0,
    "start_time": "2023-01-19T07:10:40.630Z"
   },
   {
    "duration": 0,
    "start_time": "2023-01-19T07:10:40.631Z"
   },
   {
    "duration": 8,
    "start_time": "2023-01-19T07:10:54.845Z"
   },
   {
    "duration": 75,
    "start_time": "2023-01-19T07:11:11.202Z"
   },
   {
    "duration": 14,
    "start_time": "2023-01-19T07:11:11.279Z"
   },
   {
    "duration": 19,
    "start_time": "2023-01-19T07:11:11.295Z"
   },
   {
    "duration": 12,
    "start_time": "2023-01-19T07:11:11.316Z"
   },
   {
    "duration": 37,
    "start_time": "2023-01-19T07:11:11.330Z"
   },
   {
    "duration": 3,
    "start_time": "2023-01-19T07:11:11.381Z"
   },
   {
    "duration": 27,
    "start_time": "2023-01-19T07:11:11.386Z"
   },
   {
    "duration": 11,
    "start_time": "2023-01-19T07:11:11.415Z"
   },
   {
    "duration": 27,
    "start_time": "2023-01-19T07:11:11.428Z"
   },
   {
    "duration": 11,
    "start_time": "2023-01-19T07:11:11.457Z"
   },
   {
    "duration": 36,
    "start_time": "2023-01-19T07:11:11.470Z"
   },
   {
    "duration": 10,
    "start_time": "2023-01-19T07:11:11.507Z"
   },
   {
    "duration": 4,
    "start_time": "2023-01-19T07:11:11.519Z"
   },
   {
    "duration": 13,
    "start_time": "2023-01-19T07:11:11.524Z"
   },
   {
    "duration": 21,
    "start_time": "2023-01-19T07:11:11.539Z"
   },
   {
    "duration": 36,
    "start_time": "2023-01-19T07:11:11.561Z"
   },
   {
    "duration": 4,
    "start_time": "2023-01-19T07:11:11.598Z"
   },
   {
    "duration": 29,
    "start_time": "2023-01-19T07:11:11.603Z"
   },
   {
    "duration": 9,
    "start_time": "2023-01-19T07:11:11.634Z"
   },
   {
    "duration": 15,
    "start_time": "2023-01-19T07:11:11.644Z"
   },
   {
    "duration": 15,
    "start_time": "2023-01-19T07:11:11.661Z"
   },
   {
    "duration": 38,
    "start_time": "2023-01-19T07:11:11.677Z"
   },
   {
    "duration": 3,
    "start_time": "2023-01-19T07:11:11.717Z"
   },
   {
    "duration": 40,
    "start_time": "2023-01-19T07:11:11.721Z"
   },
   {
    "duration": 104,
    "start_time": "2023-01-19T07:11:11.763Z"
   },
   {
    "duration": 13,
    "start_time": "2023-01-19T07:11:11.869Z"
   },
   {
    "duration": 0,
    "start_time": "2023-01-19T07:11:11.884Z"
   },
   {
    "duration": 21,
    "start_time": "2023-01-19T07:11:21.668Z"
   },
   {
    "duration": 130,
    "start_time": "2023-01-19T07:11:25.516Z"
   },
   {
    "duration": 486,
    "start_time": "2023-01-19T07:15:38.678Z"
   },
   {
    "duration": 22,
    "start_time": "2023-01-19T07:15:39.166Z"
   },
   {
    "duration": 14,
    "start_time": "2023-01-19T07:15:39.190Z"
   },
   {
    "duration": 22,
    "start_time": "2023-01-19T07:15:39.206Z"
   },
   {
    "duration": 34,
    "start_time": "2023-01-19T07:15:39.231Z"
   },
   {
    "duration": 3,
    "start_time": "2023-01-19T07:15:39.281Z"
   },
   {
    "duration": 11,
    "start_time": "2023-01-19T07:15:39.286Z"
   },
   {
    "duration": 5,
    "start_time": "2023-01-19T07:15:39.299Z"
   },
   {
    "duration": 12,
    "start_time": "2023-01-19T07:15:39.305Z"
   },
   {
    "duration": 5,
    "start_time": "2023-01-19T07:15:39.320Z"
   },
   {
    "duration": 65,
    "start_time": "2023-01-19T07:15:39.326Z"
   },
   {
    "duration": 11,
    "start_time": "2023-01-19T07:15:39.393Z"
   },
   {
    "duration": 4,
    "start_time": "2023-01-19T07:15:39.406Z"
   },
   {
    "duration": 12,
    "start_time": "2023-01-19T07:15:39.414Z"
   },
   {
    "duration": 23,
    "start_time": "2023-01-19T07:15:39.429Z"
   },
   {
    "duration": 35,
    "start_time": "2023-01-19T07:15:39.454Z"
   },
   {
    "duration": 4,
    "start_time": "2023-01-19T07:15:39.491Z"
   },
   {
    "duration": 15,
    "start_time": "2023-01-19T07:15:39.496Z"
   },
   {
    "duration": 9,
    "start_time": "2023-01-19T07:15:39.513Z"
   },
   {
    "duration": 4,
    "start_time": "2023-01-19T07:15:39.524Z"
   },
   {
    "duration": 13,
    "start_time": "2023-01-19T07:15:39.529Z"
   },
   {
    "duration": 265,
    "start_time": "2023-01-19T07:15:39.544Z"
   },
   {
    "duration": 29,
    "start_time": "2023-01-19T07:15:39.811Z"
   },
   {
    "duration": 3,
    "start_time": "2023-01-19T07:15:39.842Z"
   },
   {
    "duration": 50,
    "start_time": "2023-01-19T07:15:39.847Z"
   },
   {
    "duration": 65,
    "start_time": "2023-01-19T07:15:39.898Z"
   },
   {
    "duration": 90,
    "start_time": "2023-01-19T07:15:39.965Z"
   },
   {
    "duration": 0,
    "start_time": "2023-01-19T07:15:40.056Z"
   },
   {
    "duration": 0,
    "start_time": "2023-01-19T07:15:40.058Z"
   },
   {
    "duration": 0,
    "start_time": "2023-01-19T07:15:40.059Z"
   },
   {
    "duration": 0,
    "start_time": "2023-01-19T07:15:40.060Z"
   },
   {
    "duration": 69,
    "start_time": "2023-01-19T07:16:40.473Z"
   },
   {
    "duration": 15,
    "start_time": "2023-01-19T07:16:40.545Z"
   },
   {
    "duration": 19,
    "start_time": "2023-01-19T07:16:40.562Z"
   },
   {
    "duration": 8,
    "start_time": "2023-01-19T07:16:40.583Z"
   },
   {
    "duration": 31,
    "start_time": "2023-01-19T07:16:40.593Z"
   },
   {
    "duration": 3,
    "start_time": "2023-01-19T07:16:40.625Z"
   },
   {
    "duration": 12,
    "start_time": "2023-01-19T07:16:40.630Z"
   },
   {
    "duration": 14,
    "start_time": "2023-01-19T07:16:40.644Z"
   },
   {
    "duration": 24,
    "start_time": "2023-01-19T07:16:40.660Z"
   },
   {
    "duration": 5,
    "start_time": "2023-01-19T07:16:40.686Z"
   },
   {
    "duration": 38,
    "start_time": "2023-01-19T07:16:40.692Z"
   },
   {
    "duration": 10,
    "start_time": "2023-01-19T07:16:40.732Z"
   },
   {
    "duration": 4,
    "start_time": "2023-01-19T07:16:40.744Z"
   },
   {
    "duration": 34,
    "start_time": "2023-01-19T07:16:40.749Z"
   },
   {
    "duration": 20,
    "start_time": "2023-01-19T07:16:40.785Z"
   },
   {
    "duration": 18,
    "start_time": "2023-01-19T07:16:40.807Z"
   },
   {
    "duration": 3,
    "start_time": "2023-01-19T07:16:40.827Z"
   },
   {
    "duration": 18,
    "start_time": "2023-01-19T07:16:40.832Z"
   },
   {
    "duration": 5,
    "start_time": "2023-01-19T07:16:40.851Z"
   },
   {
    "duration": 26,
    "start_time": "2023-01-19T07:16:40.858Z"
   },
   {
    "duration": 14,
    "start_time": "2023-01-19T07:16:40.885Z"
   },
   {
    "duration": 23,
    "start_time": "2023-01-19T07:16:40.900Z"
   },
   {
    "duration": 3,
    "start_time": "2023-01-19T07:16:40.925Z"
   },
   {
    "duration": 35,
    "start_time": "2023-01-19T07:16:40.929Z"
   },
   {
    "duration": 43,
    "start_time": "2023-01-19T07:16:40.965Z"
   },
   {
    "duration": 5,
    "start_time": "2023-01-19T07:16:41.009Z"
   },
   {
    "duration": 28,
    "start_time": "2023-01-19T07:16:41.016Z"
   },
   {
    "duration": 32,
    "start_time": "2023-01-19T07:17:26.127Z"
   },
   {
    "duration": 37,
    "start_time": "2023-01-19T07:17:31.047Z"
   },
   {
    "duration": 75,
    "start_time": "2023-01-19T07:22:50.980Z"
   },
   {
    "duration": 17,
    "start_time": "2023-01-19T07:22:51.057Z"
   },
   {
    "duration": 17,
    "start_time": "2023-01-19T07:22:51.076Z"
   },
   {
    "duration": 10,
    "start_time": "2023-01-19T07:22:51.095Z"
   },
   {
    "duration": 32,
    "start_time": "2023-01-19T07:22:51.107Z"
   },
   {
    "duration": 4,
    "start_time": "2023-01-19T07:22:51.141Z"
   },
   {
    "duration": 38,
    "start_time": "2023-01-19T07:22:51.146Z"
   },
   {
    "duration": 13,
    "start_time": "2023-01-19T07:22:51.185Z"
   },
   {
    "duration": 21,
    "start_time": "2023-01-19T07:22:51.200Z"
   },
   {
    "duration": 5,
    "start_time": "2023-01-19T07:22:51.222Z"
   },
   {
    "duration": 33,
    "start_time": "2023-01-19T07:22:51.229Z"
   },
   {
    "duration": 18,
    "start_time": "2023-01-19T07:22:51.264Z"
   },
   {
    "duration": 4,
    "start_time": "2023-01-19T07:22:51.283Z"
   },
   {
    "duration": 12,
    "start_time": "2023-01-19T07:22:51.289Z"
   },
   {
    "duration": 18,
    "start_time": "2023-01-19T07:22:51.302Z"
   },
   {
    "duration": 16,
    "start_time": "2023-01-19T07:22:51.322Z"
   },
   {
    "duration": 3,
    "start_time": "2023-01-19T07:22:51.340Z"
   },
   {
    "duration": 37,
    "start_time": "2023-01-19T07:22:51.344Z"
   },
   {
    "duration": 6,
    "start_time": "2023-01-19T07:22:51.383Z"
   },
   {
    "duration": 10,
    "start_time": "2023-01-19T07:22:51.390Z"
   },
   {
    "duration": 13,
    "start_time": "2023-01-19T07:22:51.401Z"
   },
   {
    "duration": 23,
    "start_time": "2023-01-19T07:22:51.415Z"
   },
   {
    "duration": 2,
    "start_time": "2023-01-19T07:22:51.440Z"
   },
   {
    "duration": 49,
    "start_time": "2023-01-19T07:22:51.444Z"
   },
   {
    "duration": 31,
    "start_time": "2023-01-19T07:22:51.494Z"
   },
   {
    "duration": 6,
    "start_time": "2023-01-19T07:22:51.527Z"
   },
   {
    "duration": 47,
    "start_time": "2023-01-19T07:22:51.534Z"
   },
   {
    "duration": 49,
    "start_time": "2023-01-19T07:22:51.583Z"
   },
   {
    "duration": 34,
    "start_time": "2023-01-19T07:23:49.419Z"
   },
   {
    "duration": 39,
    "start_time": "2023-01-19T07:23:59.090Z"
   },
   {
    "duration": 4,
    "start_time": "2023-01-19T07:26:04.858Z"
   },
   {
    "duration": 98,
    "start_time": "2023-01-19T07:38:11.685Z"
   },
   {
    "duration": 19,
    "start_time": "2023-01-19T07:38:11.786Z"
   },
   {
    "duration": 20,
    "start_time": "2023-01-19T07:38:11.807Z"
   },
   {
    "duration": 11,
    "start_time": "2023-01-19T07:38:11.829Z"
   },
   {
    "duration": 65,
    "start_time": "2023-01-19T07:38:11.842Z"
   },
   {
    "duration": 4,
    "start_time": "2023-01-19T07:38:11.909Z"
   },
   {
    "duration": 13,
    "start_time": "2023-01-19T07:38:11.914Z"
   },
   {
    "duration": 8,
    "start_time": "2023-01-19T07:38:11.929Z"
   },
   {
    "duration": 42,
    "start_time": "2023-01-19T07:38:11.939Z"
   },
   {
    "duration": 5,
    "start_time": "2023-01-19T07:38:11.983Z"
   },
   {
    "duration": 44,
    "start_time": "2023-01-19T07:38:11.989Z"
   },
   {
    "duration": 9,
    "start_time": "2023-01-19T07:38:12.035Z"
   },
   {
    "duration": 35,
    "start_time": "2023-01-19T07:38:12.046Z"
   },
   {
    "duration": 14,
    "start_time": "2023-01-19T07:38:12.084Z"
   },
   {
    "duration": 33,
    "start_time": "2023-01-19T07:38:12.100Z"
   },
   {
    "duration": 20,
    "start_time": "2023-01-19T07:38:12.134Z"
   },
   {
    "duration": 4,
    "start_time": "2023-01-19T07:38:12.155Z"
   },
   {
    "duration": 9,
    "start_time": "2023-01-19T07:38:12.182Z"
   },
   {
    "duration": 15,
    "start_time": "2023-01-19T07:38:12.192Z"
   },
   {
    "duration": 4,
    "start_time": "2023-01-19T07:38:12.208Z"
   },
   {
    "duration": 14,
    "start_time": "2023-01-19T07:38:12.214Z"
   },
   {
    "duration": 4,
    "start_time": "2023-01-19T07:38:23.787Z"
   },
   {
    "duration": 32,
    "start_time": "2023-01-19T07:38:24.763Z"
   },
   {
    "duration": 4,
    "start_time": "2023-01-19T07:38:28.218Z"
   },
   {
    "duration": 30,
    "start_time": "2023-01-19T07:38:29.917Z"
   },
   {
    "duration": 148,
    "start_time": "2023-01-19T07:38:46.187Z"
   },
   {
    "duration": 7,
    "start_time": "2023-01-19T07:38:50.193Z"
   },
   {
    "duration": 20,
    "start_time": "2023-01-19T07:38:54.322Z"
   },
   {
    "duration": 150,
    "start_time": "2023-01-19T07:38:59.274Z"
   },
   {
    "duration": 1086,
    "start_time": "2023-01-19T07:44:25.822Z"
   },
   {
    "duration": 728,
    "start_time": "2023-01-19T07:45:46.045Z"
   },
   {
    "duration": 565,
    "start_time": "2023-01-19T07:45:52.477Z"
   },
   {
    "duration": 9,
    "start_time": "2023-01-19T07:53:42.562Z"
   },
   {
    "duration": 49,
    "start_time": "2023-01-19T07:59:29.263Z"
   },
   {
    "duration": 38,
    "start_time": "2023-01-19T08:00:08.813Z"
   },
   {
    "duration": 10,
    "start_time": "2023-01-19T08:00:24.341Z"
   },
   {
    "duration": 50,
    "start_time": "2023-01-19T08:01:12.867Z"
   },
   {
    "duration": 14,
    "start_time": "2023-01-19T08:01:22.525Z"
   },
   {
    "duration": 9,
    "start_time": "2023-01-19T08:03:27.542Z"
   },
   {
    "duration": 5,
    "start_time": "2023-01-19T08:05:39.096Z"
   },
   {
    "duration": 4,
    "start_time": "2023-01-19T08:07:22.712Z"
   },
   {
    "duration": 6,
    "start_time": "2023-01-19T08:07:42.465Z"
   },
   {
    "duration": 5,
    "start_time": "2023-01-19T08:10:21.401Z"
   },
   {
    "duration": 53,
    "start_time": "2023-01-19T08:12:17.959Z"
   },
   {
    "duration": 56,
    "start_time": "2023-01-19T08:12:36.499Z"
   },
   {
    "duration": 110,
    "start_time": "2023-01-19T08:12:45.115Z"
   },
   {
    "duration": 8,
    "start_time": "2023-01-19T08:14:21.772Z"
   },
   {
    "duration": 8,
    "start_time": "2023-01-19T08:14:52.605Z"
   },
   {
    "duration": 8,
    "start_time": "2023-01-19T08:15:15.164Z"
   },
   {
    "duration": 8,
    "start_time": "2023-01-19T08:15:33.779Z"
   },
   {
    "duration": 7,
    "start_time": "2023-01-19T08:15:45.220Z"
   },
   {
    "duration": 8,
    "start_time": "2023-01-19T08:16:07.372Z"
   },
   {
    "duration": 134,
    "start_time": "2023-01-19T08:24:09.526Z"
   },
   {
    "duration": 116,
    "start_time": "2023-01-19T08:24:18.538Z"
   },
   {
    "duration": 8,
    "start_time": "2023-01-19T08:31:53.386Z"
   },
   {
    "duration": 8,
    "start_time": "2023-01-19T08:36:45.529Z"
   },
   {
    "duration": 8,
    "start_time": "2023-01-19T08:38:01.038Z"
   },
   {
    "duration": 40,
    "start_time": "2023-01-19T08:38:28.422Z"
   },
   {
    "duration": 10,
    "start_time": "2023-01-19T08:38:33.214Z"
   },
   {
    "duration": 9,
    "start_time": "2023-01-19T08:38:51.073Z"
   },
   {
    "duration": 9,
    "start_time": "2023-01-19T08:39:27.447Z"
   },
   {
    "duration": 5,
    "start_time": "2023-01-19T08:46:07.586Z"
   },
   {
    "duration": 29,
    "start_time": "2023-01-19T08:48:41.821Z"
   },
   {
    "duration": 33,
    "start_time": "2023-01-19T08:53:11.487Z"
   },
   {
    "duration": 16,
    "start_time": "2023-01-19T08:53:35.279Z"
   },
   {
    "duration": 20,
    "start_time": "2023-01-19T08:53:44.245Z"
   },
   {
    "duration": 24,
    "start_time": "2023-01-19T08:54:36.429Z"
   },
   {
    "duration": 70,
    "start_time": "2023-01-19T08:56:53.170Z"
   },
   {
    "duration": 19,
    "start_time": "2023-01-19T08:56:58.006Z"
   },
   {
    "duration": 161,
    "start_time": "2023-01-19T08:58:11.565Z"
   },
   {
    "duration": 147,
    "start_time": "2023-01-19T08:59:04.185Z"
   },
   {
    "duration": 164,
    "start_time": "2023-01-19T08:59:10.848Z"
   },
   {
    "duration": 214,
    "start_time": "2023-01-19T08:59:24.778Z"
   },
   {
    "duration": 22,
    "start_time": "2023-01-19T09:13:57.162Z"
   },
   {
    "duration": 141,
    "start_time": "2023-01-19T09:14:49.385Z"
   },
   {
    "duration": 36,
    "start_time": "2023-01-19T09:20:38.316Z"
   },
   {
    "duration": 21,
    "start_time": "2023-01-19T09:24:30.181Z"
   },
   {
    "duration": 29,
    "start_time": "2023-01-19T09:24:39.879Z"
   },
   {
    "duration": 19,
    "start_time": "2023-01-19T09:25:01.178Z"
   },
   {
    "duration": 33,
    "start_time": "2023-01-19T09:25:11.782Z"
   },
   {
    "duration": 13,
    "start_time": "2023-01-19T09:26:56.663Z"
   },
   {
    "duration": 444,
    "start_time": "2023-01-19T09:49:39.340Z"
   },
   {
    "duration": 24,
    "start_time": "2023-01-19T09:49:39.786Z"
   },
   {
    "duration": 29,
    "start_time": "2023-01-19T09:49:39.812Z"
   },
   {
    "duration": 19,
    "start_time": "2023-01-19T09:49:39.842Z"
   },
   {
    "duration": 48,
    "start_time": "2023-01-19T09:49:39.864Z"
   },
   {
    "duration": 4,
    "start_time": "2023-01-19T09:49:39.914Z"
   },
   {
    "duration": 29,
    "start_time": "2023-01-19T09:49:39.919Z"
   },
   {
    "duration": 5,
    "start_time": "2023-01-19T09:49:39.950Z"
   },
   {
    "duration": 30,
    "start_time": "2023-01-19T09:49:39.956Z"
   },
   {
    "duration": 11,
    "start_time": "2023-01-19T09:49:39.989Z"
   },
   {
    "duration": 56,
    "start_time": "2023-01-19T09:49:40.001Z"
   },
   {
    "duration": 10,
    "start_time": "2023-01-19T09:49:40.059Z"
   },
   {
    "duration": 12,
    "start_time": "2023-01-19T09:49:40.070Z"
   },
   {
    "duration": 19,
    "start_time": "2023-01-19T09:49:40.085Z"
   },
   {
    "duration": 43,
    "start_time": "2023-01-19T09:49:40.106Z"
   },
   {
    "duration": 18,
    "start_time": "2023-01-19T09:49:40.150Z"
   },
   {
    "duration": 18,
    "start_time": "2023-01-19T09:49:40.169Z"
   },
   {
    "duration": 22,
    "start_time": "2023-01-19T09:49:40.189Z"
   },
   {
    "duration": 9,
    "start_time": "2023-01-19T09:49:40.212Z"
   },
   {
    "duration": 9,
    "start_time": "2023-01-19T09:49:40.223Z"
   },
   {
    "duration": 19,
    "start_time": "2023-01-19T09:49:40.233Z"
   },
   {
    "duration": 229,
    "start_time": "2023-01-19T09:49:40.253Z"
   },
   {
    "duration": 25,
    "start_time": "2023-01-19T09:49:40.484Z"
   },
   {
    "duration": 3,
    "start_time": "2023-01-19T09:49:40.511Z"
   },
   {
    "duration": 40,
    "start_time": "2023-01-19T09:49:40.515Z"
   },
   {
    "duration": 139,
    "start_time": "2023-01-19T09:49:40.557Z"
   },
   {
    "duration": 6,
    "start_time": "2023-01-19T09:49:40.698Z"
   },
   {
    "duration": 51,
    "start_time": "2023-01-19T09:49:40.706Z"
   },
   {
    "duration": 139,
    "start_time": "2023-01-19T09:49:40.758Z"
   },
   {
    "duration": 9,
    "start_time": "2023-01-19T09:49:40.898Z"
   },
   {
    "duration": 17,
    "start_time": "2023-01-19T09:49:40.909Z"
   },
   {
    "duration": 113,
    "start_time": "2023-01-19T09:49:40.928Z"
   },
   {
    "duration": 8,
    "start_time": "2023-01-19T09:49:41.043Z"
   },
   {
    "duration": 25,
    "start_time": "2023-01-19T09:49:41.053Z"
   },
   {
    "duration": 49,
    "start_time": "2023-01-19T09:49:41.080Z"
   },
   {
    "duration": 31,
    "start_time": "2023-01-19T09:49:41.131Z"
   },
   {
    "duration": 186,
    "start_time": "2023-01-19T09:49:41.164Z"
   },
   {
    "duration": 31,
    "start_time": "2023-01-19T09:49:41.351Z"
   },
   {
    "duration": 123,
    "start_time": "2023-01-19T09:49:41.384Z"
   },
   {
    "duration": 21,
    "start_time": "2023-01-19T09:49:41.509Z"
   },
   {
    "duration": 147,
    "start_time": "2023-01-19T09:49:41.534Z"
   },
   {
    "duration": 710,
    "start_time": "2023-01-20T05:28:10.540Z"
   },
   {
    "duration": 29,
    "start_time": "2023-01-20T05:28:14.534Z"
   },
   {
    "duration": 15,
    "start_time": "2023-01-20T05:28:21.932Z"
   },
   {
    "duration": 95,
    "start_time": "2023-01-20T05:30:44.473Z"
   },
   {
    "duration": 18,
    "start_time": "2023-01-20T05:30:49.992Z"
   },
   {
    "duration": 25,
    "start_time": "2023-01-20T05:31:11.801Z"
   },
   {
    "duration": 47,
    "start_time": "2023-01-20T05:38:25.510Z"
   },
   {
    "duration": 49,
    "start_time": "2023-01-20T05:38:38.916Z"
   },
   {
    "duration": 58,
    "start_time": "2023-01-20T05:39:07.475Z"
   },
   {
    "duration": 44,
    "start_time": "2023-01-20T05:39:47.082Z"
   },
   {
    "duration": 46,
    "start_time": "2023-01-20T05:39:53.901Z"
   },
   {
    "duration": 45,
    "start_time": "2023-01-20T05:40:05.499Z"
   },
   {
    "duration": 73,
    "start_time": "2023-01-20T06:22:31.455Z"
   },
   {
    "duration": 78,
    "start_time": "2023-01-20T06:22:35.363Z"
   },
   {
    "duration": 35,
    "start_time": "2023-01-20T06:23:08.833Z"
   },
   {
    "duration": 71,
    "start_time": "2023-01-20T07:01:24.584Z"
   },
   {
    "duration": 67,
    "start_time": "2023-01-20T07:28:42.540Z"
   },
   {
    "duration": 20,
    "start_time": "2023-01-20T07:28:42.609Z"
   },
   {
    "duration": 25,
    "start_time": "2023-01-20T07:28:42.631Z"
   },
   {
    "duration": 19,
    "start_time": "2023-01-20T07:28:42.658Z"
   },
   {
    "duration": 9,
    "start_time": "2023-01-20T07:28:42.678Z"
   },
   {
    "duration": 68,
    "start_time": "2023-01-20T07:28:42.688Z"
   },
   {
    "duration": 4,
    "start_time": "2023-01-20T07:28:42.758Z"
   },
   {
    "duration": 14,
    "start_time": "2023-01-20T07:28:42.764Z"
   },
   {
    "duration": 11,
    "start_time": "2023-01-20T07:28:42.780Z"
   },
   {
    "duration": 9,
    "start_time": "2023-01-20T07:28:42.794Z"
   },
   {
    "duration": 6,
    "start_time": "2023-01-20T07:28:42.805Z"
   },
   {
    "duration": 67,
    "start_time": "2023-01-20T07:28:42.813Z"
   },
   {
    "duration": 14,
    "start_time": "2023-01-20T07:28:42.882Z"
   },
   {
    "duration": 3,
    "start_time": "2023-01-20T07:28:42.898Z"
   },
   {
    "duration": 30,
    "start_time": "2023-01-20T07:28:42.903Z"
   },
   {
    "duration": 30,
    "start_time": "2023-01-20T07:28:42.934Z"
   },
   {
    "duration": 28,
    "start_time": "2023-01-20T07:28:42.966Z"
   },
   {
    "duration": 17,
    "start_time": "2023-01-20T07:28:42.995Z"
   },
   {
    "duration": 5,
    "start_time": "2023-01-20T07:28:43.014Z"
   },
   {
    "duration": 30,
    "start_time": "2023-01-20T07:28:43.020Z"
   },
   {
    "duration": 7,
    "start_time": "2023-01-20T07:28:43.053Z"
   },
   {
    "duration": 8,
    "start_time": "2023-01-20T07:28:43.062Z"
   },
   {
    "duration": 20,
    "start_time": "2023-01-20T07:28:43.072Z"
   },
   {
    "duration": 389,
    "start_time": "2023-01-20T07:28:43.093Z"
   },
   {
    "duration": 28,
    "start_time": "2023-01-20T07:28:43.484Z"
   },
   {
    "duration": 2,
    "start_time": "2023-01-20T07:28:43.514Z"
   },
   {
    "duration": 51,
    "start_time": "2023-01-20T07:28:43.518Z"
   },
   {
    "duration": 125,
    "start_time": "2023-01-20T07:28:43.572Z"
   },
   {
    "duration": 6,
    "start_time": "2023-01-20T07:28:43.698Z"
   },
   {
    "duration": 22,
    "start_time": "2023-01-20T07:28:43.705Z"
   },
   {
    "duration": 130,
    "start_time": "2023-01-20T07:28:43.744Z"
   },
   {
    "duration": 13,
    "start_time": "2023-01-20T07:28:43.876Z"
   },
   {
    "duration": 11,
    "start_time": "2023-01-20T07:28:43.890Z"
   },
   {
    "duration": 158,
    "start_time": "2023-01-20T07:28:43.903Z"
   },
   {
    "duration": 10,
    "start_time": "2023-01-20T07:28:44.063Z"
   },
   {
    "duration": 3,
    "start_time": "2023-01-20T07:28:44.074Z"
   },
   {
    "duration": 30,
    "start_time": "2023-01-20T07:28:44.078Z"
   },
   {
    "duration": 42,
    "start_time": "2023-01-20T07:28:44.110Z"
   },
   {
    "duration": 132,
    "start_time": "2023-01-20T07:28:44.153Z"
   },
   {
    "duration": 26,
    "start_time": "2023-01-20T07:28:44.287Z"
   },
   {
    "duration": 130,
    "start_time": "2023-01-20T07:28:44.315Z"
   },
   {
    "duration": 20,
    "start_time": "2023-01-20T07:28:44.447Z"
   },
   {
    "duration": 166,
    "start_time": "2023-01-20T07:28:44.469Z"
   },
   {
    "duration": 709,
    "start_time": "2023-01-20T18:57:30.017Z"
   },
   {
    "duration": 20,
    "start_time": "2023-01-20T18:57:30.728Z"
   },
   {
    "duration": 25,
    "start_time": "2023-01-20T18:57:30.749Z"
   },
   {
    "duration": 34,
    "start_time": "2023-01-20T18:57:30.775Z"
   },
   {
    "duration": 21,
    "start_time": "2023-01-20T18:57:30.811Z"
   },
   {
    "duration": 38,
    "start_time": "2023-01-20T18:57:30.834Z"
   },
   {
    "duration": 3,
    "start_time": "2023-01-20T18:57:30.873Z"
   },
   {
    "duration": 11,
    "start_time": "2023-01-20T18:57:30.877Z"
   },
   {
    "duration": 6,
    "start_time": "2023-01-20T18:57:30.889Z"
   },
   {
    "duration": 21,
    "start_time": "2023-01-20T18:57:30.896Z"
   },
   {
    "duration": 11,
    "start_time": "2023-01-20T18:57:30.918Z"
   },
   {
    "duration": 45,
    "start_time": "2023-01-20T18:57:30.931Z"
   },
   {
    "duration": 9,
    "start_time": "2023-01-20T18:57:30.977Z"
   },
   {
    "duration": 13,
    "start_time": "2023-01-20T18:57:30.989Z"
   },
   {
    "duration": 32,
    "start_time": "2023-01-20T18:57:31.004Z"
   },
   {
    "duration": 18,
    "start_time": "2023-01-20T18:57:31.038Z"
   },
   {
    "duration": 34,
    "start_time": "2023-01-20T18:57:31.057Z"
   },
   {
    "duration": 16,
    "start_time": "2023-01-20T18:57:31.092Z"
   },
   {
    "duration": 3,
    "start_time": "2023-01-20T18:57:31.110Z"
   },
   {
    "duration": 21,
    "start_time": "2023-01-20T18:57:31.114Z"
   },
   {
    "duration": 38,
    "start_time": "2023-01-20T18:57:31.136Z"
   },
   {
    "duration": 6,
    "start_time": "2023-01-20T18:57:31.175Z"
   },
   {
    "duration": 19,
    "start_time": "2023-01-20T18:57:31.182Z"
   },
   {
    "duration": 357,
    "start_time": "2023-01-20T18:57:31.203Z"
   },
   {
    "duration": 32,
    "start_time": "2023-01-20T18:57:31.562Z"
   },
   {
    "duration": 33,
    "start_time": "2023-01-20T18:57:31.595Z"
   },
   {
    "duration": 40,
    "start_time": "2023-01-20T18:57:31.630Z"
   },
   {
    "duration": 124,
    "start_time": "2023-01-20T18:57:31.672Z"
   },
   {
    "duration": 6,
    "start_time": "2023-01-20T18:57:31.797Z"
   },
   {
    "duration": 43,
    "start_time": "2023-01-20T18:57:31.804Z"
   },
   {
    "duration": 122,
    "start_time": "2023-01-20T18:57:31.849Z"
   },
   {
    "duration": 8,
    "start_time": "2023-01-20T18:57:31.973Z"
   },
   {
    "duration": 14,
    "start_time": "2023-01-20T18:57:31.983Z"
   },
   {
    "duration": 158,
    "start_time": "2023-01-20T18:57:31.999Z"
   },
   {
    "duration": 9,
    "start_time": "2023-01-20T18:57:32.158Z"
   },
   {
    "duration": 4,
    "start_time": "2023-01-20T18:57:32.169Z"
   },
   {
    "duration": 30,
    "start_time": "2023-01-20T18:57:32.174Z"
   },
   {
    "duration": 17,
    "start_time": "2023-01-20T18:57:32.206Z"
   },
   {
    "duration": 139,
    "start_time": "2023-01-20T18:57:32.225Z"
   },
   {
    "duration": 18,
    "start_time": "2023-01-20T18:57:32.365Z"
   },
   {
    "duration": 107,
    "start_time": "2023-01-20T18:57:32.387Z"
   },
   {
    "duration": 19,
    "start_time": "2023-01-20T18:57:32.496Z"
   },
   {
    "duration": 116,
    "start_time": "2023-01-20T18:57:32.517Z"
   }
  ],
  "colab": {
   "name": "dpp_template_part2.ipynb",
   "provenance": []
  },
  "kernelspec": {
   "display_name": "Python 3 (ipykernel)",
   "language": "python",
   "name": "python3"
  },
  "language_info": {
   "codemirror_mode": {
    "name": "ipython",
    "version": 3
   },
   "file_extension": ".py",
   "mimetype": "text/x-python",
   "name": "python",
   "nbconvert_exporter": "python",
   "pygments_lexer": "ipython3",
   "version": "3.9.5"
  },
  "toc": {
   "base_numbering": 1,
   "nav_menu": {},
   "number_sections": true,
   "sideBar": true,
   "skip_h1_title": true,
   "title_cell": "Table of Contents",
   "title_sidebar": "Contents",
   "toc_cell": false,
   "toc_position": {},
   "toc_section_display": true,
   "toc_window_display": false
  }
 },
 "nbformat": 4,
 "nbformat_minor": 5
}
