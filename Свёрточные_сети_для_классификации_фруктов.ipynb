{
  "nbformat": 4,
  "nbformat_minor": 0,
  "metadata": {
    "colab": {
      "provenance": []
    },
    "kernelspec": {
      "name": "python3",
      "display_name": "Python 3"
    },
    "language_info": {
      "name": "python"
    }
  },
  "cells": [
    {
      "cell_type": "code",
      "source": [
        "from tensorflow.keras.preprocessing.image import ImageDataGenerator\n",
        "from tensorflow.keras.layers import Conv2D, Flatten, Dense, AvgPool2D\n",
        "from tensorflow.keras.models import Sequential\n",
        "from tensorflow.keras.optimizers import Adam\n"
      ],
      "metadata": {
        "id": "ayqFcCJWzaYF"
      },
      "execution_count": null,
      "outputs": []
    },
    {
      "cell_type": "code",
      "source": [
        "def load_train(path):\n",
        "    train_datagen = ImageDataGenerator(validation_split=0.25, rescale=1./255)\n",
        "\n",
        "    train_datagen_flow = train_datagen.flow_from_directory(\n",
        "        path,\n",
        "        target_size=(150, 150),\n",
        "        batch_size=16,\n",
        "        class_mode='sparse',\n",
        "        subset='training',\n",
        "        seed=12345)\n",
        "    return train_datagen_flow\n",
        "\n"
      ],
      "metadata": {
        "id": "vB1uM-F40AKJ"
      },
      "execution_count": null,
      "outputs": []
    },
    {
      "cell_type": "code",
      "source": [
        "def create_model(input_shape):\n",
        "    model = Sequential()\n",
        "    optimizer = Adam(lr=0.001)\n",
        "    model.add(Conv2D(filters=6, kernel_size=(5, 5), padding='same',\n",
        "                    activation=\"relu\", input_shape=input_shape))\n",
        "    model.add(AvgPool2D(pool_size=(2, 2)))\n",
        "    model.add(Conv2D(filters=16, kernel_size=(5, 5), padding='valid',\n",
        "                    activation=\"relu\"))\n",
        "    model.add(AvgPool2D(pool_size=(2, 2)))\n",
        "    model.add(Flatten())\n",
        "    model.add(Dense(units=300, activation='relu'))\n",
        "    model.add(Dense(units=100, activation='relu'))\n",
        "    model.add(Dense(units=50, activation='softmax'))\n",
        "    model.compile(loss='sparse_categorical_crossentropy', optimizer=optimizer, metrics=['acc'])\n",
        "\n",
        "    return model\n",
        "\n"
      ],
      "metadata": {
        "id": "sXtPH1KY0WDT"
      },
      "execution_count": null,
      "outputs": []
    },
    {
      "cell_type": "code",
      "source": [
        "def train_model(model, train_data, test_data, batch_size=None, epochs=3,\n",
        "               steps_per_epoch=None, validation_steps=None):\n",
        "    model.fit(train_data,\n",
        "              validation_data=test_data,\n",
        "              batch_size=batch_size, epochs=epochs,\n",
        "              steps_per_epoch=steps_per_epoch,\n",
        "              validation_steps=validation_steps,\n",
        "              verbose=2, shuffle=True)\n",
        "\n",
        "    return model"
      ],
      "metadata": {
        "id": "LkaiPtFj0X6d"
      },
      "execution_count": null,
      "outputs": []
    }
  ]
}