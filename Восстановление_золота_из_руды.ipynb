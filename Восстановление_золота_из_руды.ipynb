{
 "cells": [
  {
   "cell_type": "markdown",
   "metadata": {},
   "source": [
    "# Комментарий ревьюера\n",
    "<div class=\"alert alert-block alert-info\">\n",
    "Привет, Евгения! Меня зовут Анвар Ганиев, и я буду проверять твой проект. Предлагаю общаться на «ты» :) Но если это не удобно - дай знать, и мы перейдем на \"вы\". Моя основная цель — не указать на совершенные тобою ошибки, а поделиться своим опытом и помочь тебе стать data scientist'ом.\n",
    "\n",
    "Видно, что ты старалась, делая проект. Все ключевые этапы в работе выполнены, так что в целом справиться с задачей тебе удалось. Есть ещё несколько аспектов, которые требуют твоего внимания. Комментарии по ним помечены <span style='color:Red'> красным цветом ❌ </span>. Комментарии я буду оставлять под ячейками, к которым они относятся. А еще писать в заголовке v{номер версии}, чтобы знать, при какой проверке, я их оставлял. После их доработки проект будет принят. Осталось совсем немного, буду ждать твою работу на повторное ревью 🙂\n",
    "\n",
    "<span style='color:Green'> Зелёным цветом ✅  </span> отмечены удачные и элегантные решения, на которые можно опираться в будущих проектах. <span style='color:Gold'> Жёлтым цветом ⚠️</span>выделено то, что в следующий раз можно сделать по-другому. Ты можешь учесть эти комментарии при выполнении будущих заданий или доработать проект сейчас (однако это не обязательно).\n",
    "\n",
    "Давай работать над проектом в диалоге: если ты что-то меняешь в проекте по моим рекомендациям — пиши об этом. Выбери для своих комментариев какой-то заметный цвет, так мне будет легче отследить изменения. Пожалуйста, не перемещай, не изменяй и не удаляй мои комментарии. Всё это поможет выполнить повторную проверку твоего проекта оперативнее\n",
    "</div>\n"
   ]
  },
  {
   "cell_type": "markdown",
   "metadata": {
    "toc": true
   },
   "source": [
    "<h1>Содержание<span class=\"tocSkip\"></span></h1>\n",
    "<div class=\"toc\"><ul class=\"toc-item\"><li><span><a href=\"#Подготовка-данных\" data-toc-modified-id=\"Подготовка-данных-1\"><span class=\"toc-item-num\">1&nbsp;&nbsp;</span>Подготовка данных</a></span><ul class=\"toc-item\"><li><span><a href=\"#Импортируем-библиотеки\" data-toc-modified-id=\"Импортируем-библиотеки-1.1\"><span class=\"toc-item-num\">1.1&nbsp;&nbsp;</span>Импортируем библиотеки</a></span></li><li><span><a href=\"#Загрузим-данные\" data-toc-modified-id=\"Загрузим-данные-1.2\"><span class=\"toc-item-num\">1.2&nbsp;&nbsp;</span>Загрузим данные</a></span></li><li><span><a href=\"#Выведем-инфо-и-наличие-явных-дубликатов\" data-toc-modified-id=\"Выведем-инфо-и-наличие-явных-дубликатов-1.3\"><span class=\"toc-item-num\">1.3&nbsp;&nbsp;</span>Выведем инфо и наличие явных дубликатов</a></span></li><li><span><a href=\"#Посмотрим-на-пропущенные-значения\" data-toc-modified-id=\"Посмотрим-на-пропущенные-значения-1.4\"><span class=\"toc-item-num\">1.4&nbsp;&nbsp;</span>Посмотрим на пропущенные значения</a></span></li><li><span><a href=\"#-Комментарий-ревьюера-v1\" data-toc-modified-id=\"-Комментарий-ревьюера-v1-1.5\"><span class=\"toc-item-num\">1.5&nbsp;&nbsp;</span> Комментарий ревьюера v1</a></span></li><li><span><a href=\"#Пропущенные-колонки-в-test\" data-toc-modified-id=\"Пропущенные-колонки-в-test-1.6\"><span class=\"toc-item-num\">1.6&nbsp;&nbsp;</span>Пропущенные колонки в test</a></span></li><li><span><a href=\"#-Комментарий-ревьюера-v1\" data-toc-modified-id=\"-Комментарий-ревьюера-v1-1.7\"><span class=\"toc-item-num\">1.7&nbsp;&nbsp;</span> Комментарий ревьюера v1</a></span></li><li><span><a href=\"#Проверим,-что-эффективность-обогащения-рассчитана-правильно.-Вычислим-её-на-обучающей-выборке-для-признака-rougher.output.recovery.-Найдем-MAE-между-нашими-расчётами-и-значением-признака.\" data-toc-modified-id=\"Проверим,-что-эффективность-обогащения-рассчитана-правильно.-Вычислим-её-на-обучающей-выборке-для-признака-rougher.output.recovery.-Найдем-MAE-между-нашими-расчётами-и-значением-признака.-1.8\"><span class=\"toc-item-num\">1.8&nbsp;&nbsp;</span>Проверим, что эффективность обогащения рассчитана правильно. Вычислим её на обучающей выборке для признака rougher.output.recovery. Найдем MAE между нашими расчётами и значением признака.</a></span></li><li><span><a href=\"#-Комментарий-ревьюера-v1\" data-toc-modified-id=\"-Комментарий-ревьюера-v1-1.9\"><span class=\"toc-item-num\">1.9&nbsp;&nbsp;</span> Комментарий ревьюера v1</a></span></li></ul></li><li><span><a href=\"#Анализ-данных\" data-toc-modified-id=\"Анализ-данных-2\"><span class=\"toc-item-num\">2&nbsp;&nbsp;</span>Анализ данных</a></span><ul class=\"toc-item\"><li><span><a href=\"#Изменение-концентрации-металлов-(Au,-Ag,-Pb)-на-различных-этапах-очистки.\" data-toc-modified-id=\"Изменение-концентрации-металлов-(Au,-Ag,-Pb)-на-различных-этапах-очистки.-2.1\"><span class=\"toc-item-num\">2.1&nbsp;&nbsp;</span>Изменение концентрации металлов (Au, Ag, Pb) на различных этапах очистки.</a></span></li><li><span><a href=\"#-Комментарий-ревьюера-v1\" data-toc-modified-id=\"-Комментарий-ревьюера-v1-2.2\"><span class=\"toc-item-num\">2.2&nbsp;&nbsp;</span> Комментарий ревьюера v1</a></span></li><li><span><a href=\"#Сравним-распределения-размеров-гранул-сырья-на-обучающей-и-тестовой-выборках\" data-toc-modified-id=\"Сравним-распределения-размеров-гранул-сырья-на-обучающей-и-тестовой-выборках-2.3\"><span class=\"toc-item-num\">2.3&nbsp;&nbsp;</span>Сравним распределения размеров гранул сырья на обучающей и тестовой выборках</a></span></li><li><span><a href=\"#-Комментарий-ревьюера-v1\" data-toc-modified-id=\"-Комментарий-ревьюера-v1-2.4\"><span class=\"toc-item-num\">2.4&nbsp;&nbsp;</span> Комментарий ревьюера v1</a></span></li><li><span><a href=\"#-Комментарий-ревьюера-v2\" data-toc-modified-id=\"-Комментарий-ревьюера-v2-2.5\"><span class=\"toc-item-num\">2.5&nbsp;&nbsp;</span> Комментарий ревьюера v2</a></span></li><li><span><a href=\"#Исследуем-суммарную-концентрацию-всех-веществ-на-разных-стадиях:-в-сырье,-в-черновом-и-финальном-концентратах.\" data-toc-modified-id=\"Исследуем-суммарную-концентрацию-всех-веществ-на-разных-стадиях:-в-сырье,-в-черновом-и-финальном-концентратах.-2.6\"><span class=\"toc-item-num\">2.6&nbsp;&nbsp;</span>Исследуем суммарную концентрацию всех веществ на разных стадиях: в сырье, в черновом и финальном концентратах.</a></span></li><li><span><a href=\"#-Комментарий-ревьюера-v1\" data-toc-modified-id=\"-Комментарий-ревьюера-v1-2.7\"><span class=\"toc-item-num\">2.7&nbsp;&nbsp;</span> Комментарий ревьюера v1</a></span></li><li><span><a href=\"#-Комментарий-ревьюера-v2\" data-toc-modified-id=\"-Комментарий-ревьюера-v2-2.8\"><span class=\"toc-item-num\">2.8&nbsp;&nbsp;</span> Комментарий ревьюера v2</a></span></li><li><span><a href=\"#Удаление-нулевых-выбросов\" data-toc-modified-id=\"Удаление-нулевых-выбросов-2.9\"><span class=\"toc-item-num\">2.9&nbsp;&nbsp;</span>Удаление нулевых выбросов</a></span></li></ul></li><li><span><a href=\"#Модель\" data-toc-modified-id=\"Модель-3\"><span class=\"toc-item-num\">3&nbsp;&nbsp;</span>Модель</a></span><ul class=\"toc-item\"><li><span><a href=\"#-Комментарий-ревьюера-v1\" data-toc-modified-id=\"-Комментарий-ревьюера-v1-3.1\"><span class=\"toc-item-num\">3.1&nbsp;&nbsp;</span> Комментарий ревьюера v1</a></span></li><li><span><a href=\"#-Комментарий-ревьюера-v1\" data-toc-modified-id=\"-Комментарий-ревьюера-v1-3.2\"><span class=\"toc-item-num\">3.2&nbsp;&nbsp;</span> Комментарий ревьюера v1</a></span></li><li><span><a href=\"#-Комментарий-ревьюера-v1\" data-toc-modified-id=\"-Комментарий-ревьюера-v1-3.3\"><span class=\"toc-item-num\">3.3&nbsp;&nbsp;</span> Комментарий ревьюера v1</a></span></li><li><span><a href=\"#-Комментарий-ревьюера-v1\" data-toc-modified-id=\"-Комментарий-ревьюера-v1-3.4\"><span class=\"toc-item-num\">3.4&nbsp;&nbsp;</span> Комментарий ревьюера v1</a></span></li><li><span><a href=\"#-Комментарий-ревьюера-v1\" data-toc-modified-id=\"-Комментарий-ревьюера-v1-3.5\"><span class=\"toc-item-num\">3.5&nbsp;&nbsp;</span> Комментарий ревьюера v1</a></span></li></ul></li><li><span><a href=\"#Вывод\" data-toc-modified-id=\"Вывод-4\"><span class=\"toc-item-num\">4&nbsp;&nbsp;</span>Вывод</a></span></li><li><span><a href=\"#Чек-лист-готовности-проекта\" data-toc-modified-id=\"Чек-лист-готовности-проекта-5\"><span class=\"toc-item-num\">5&nbsp;&nbsp;</span>Чек-лист готовности проекта</a></span><ul class=\"toc-item\"><li><span><a href=\"#-Итоговый-комментарий\" data-toc-modified-id=\"-Итоговый-комментарий-5.1\"><span class=\"toc-item-num\">5.1&nbsp;&nbsp;</span> Итоговый комментарий</a></span></li><li><span><a href=\"#-Комментарий-ревьюера-v2\" data-toc-modified-id=\"-Комментарий-ревьюера-v2-5.2\"><span class=\"toc-item-num\">5.2&nbsp;&nbsp;</span> Комментарий ревьюера v2</a></span></li></ul></li></ul></div>"
   ]
  },
  {
   "cell_type": "markdown",
   "metadata": {},
   "source": [
    "# Восстановление золота из руды"
   ]
  },
  {
   "cell_type": "markdown",
   "metadata": {},
   "source": [
    "Подготовьте прототип модели машинного обучения для «Цифры». Компания разрабатывает решения для эффективной работы промышленных предприятий.\n",
    "\n",
    "Модель должна предсказать коэффициент восстановления золота из золотосодержащей руды. Используйте данные с параметрами добычи и очистки. \n",
    "\n",
    "Модель поможет оптимизировать производство, чтобы не запускать предприятие с убыточными характеристиками.\n",
    "\n",
    "Вам нужно:\n",
    "\n",
    "1. Подготовить данные;\n",
    "2. Провести исследовательский анализ данных;\n",
    "3. Построить и обучить модель.\n",
    "\n",
    "Чтобы выполнить проект, обращайтесь к библиотекам *pandas*, *matplotlib* и *sklearn.* Вам поможет их документация."
   ]
  },
  {
   "cell_type": "markdown",
   "metadata": {},
   "source": [
    "## Подготовка данных"
   ]
  },
  {
   "cell_type": "markdown",
   "metadata": {},
   "source": [
    "### Импортируем библиотеки"
   ]
  },
  {
   "cell_type": "code",
   "execution_count": 1,
   "metadata": {},
   "outputs": [],
   "source": [
    "import pandas as pd\n",
    "import numpy as np\n",
    "\n",
    "from sklearn.ensemble import RandomForestRegressor\n",
    "from sklearn.linear_model import LinearRegression\n",
    "from sklearn.tree import DecisionTreeRegressor\n",
    "\n",
    "from sklearn.dummy import DummyRegressor\n",
    "\n",
    "from sklearn.metrics import make_scorer, mean_absolute_error\n",
    "\n",
    "from sklearn.model_selection import cross_val_score, GridSearchCV\n",
    "\n",
    "from sklearn.pipeline import make_pipeline\n",
    "\n",
    "from sklearn.preprocessing import StandardScaler\n",
    "\n",
    "\n",
    "from tqdm import tqdm\n",
    "\n",
    "import matplotlib.pyplot as plt\n",
    "from matplotlib.pyplot import figure\n",
    "import seaborn as sns\n",
    "\n",
    "\n",
    "%matplotlib inline\n",
    "import warnings\n",
    "warnings.filterwarnings(\"ignore\")"
   ]
  },
  {
   "cell_type": "markdown",
   "metadata": {},
   "source": [
    "### Загрузим данные"
   ]
  },
  {
   "cell_type": "code",
   "execution_count": 2,
   "metadata": {},
   "outputs": [],
   "source": [
    "try:\n",
    "    train = pd.read_csv('/datasets/gold_recovery_train_new.csv', index_col='date')\n",
    "    test = pd.read_csv('/datasets/gold_recovery_test_new.csv', index_col='date')\n",
    "    df = pd.read_csv('/datasets/gold_recovery_full_new.csv', index_col='date')\n",
    "except:\n",
    "    train = pd.read_csv('https://code.s3.yandex.net/datasets/gold_recovery_train_new.csv', index_col='date')\n",
    "    test = pd.read_csv('https://code.s3.yandex.net/datasets/gold_recovery_test_new.csv', index_col='date')\n",
    "    df = pd.read_csv('https://code.s3.yandex.net/datasets/gold_recovery_full_new.csv', index_col='date')\n"
   ]
  },
  {
   "cell_type": "code",
   "execution_count": 3,
   "metadata": {},
   "outputs": [
    {
     "data": {
      "text/html": [
       "<div>\n",
       "<style scoped>\n",
       "    .dataframe tbody tr th:only-of-type {\n",
       "        vertical-align: middle;\n",
       "    }\n",
       "\n",
       "    .dataframe tbody tr th {\n",
       "        vertical-align: top;\n",
       "    }\n",
       "\n",
       "    .dataframe thead th {\n",
       "        text-align: right;\n",
       "    }\n",
       "</style>\n",
       "<table border=\"1\" class=\"dataframe\">\n",
       "  <thead>\n",
       "    <tr style=\"text-align: right;\">\n",
       "      <th></th>\n",
       "      <th>final.output.concentrate_ag</th>\n",
       "      <th>final.output.concentrate_pb</th>\n",
       "      <th>final.output.concentrate_sol</th>\n",
       "      <th>final.output.concentrate_au</th>\n",
       "      <th>final.output.recovery</th>\n",
       "      <th>final.output.tail_ag</th>\n",
       "      <th>final.output.tail_pb</th>\n",
       "      <th>final.output.tail_sol</th>\n",
       "      <th>final.output.tail_au</th>\n",
       "      <th>primary_cleaner.input.sulfate</th>\n",
       "      <th>...</th>\n",
       "      <th>secondary_cleaner.state.floatbank4_a_air</th>\n",
       "      <th>secondary_cleaner.state.floatbank4_a_level</th>\n",
       "      <th>secondary_cleaner.state.floatbank4_b_air</th>\n",
       "      <th>secondary_cleaner.state.floatbank4_b_level</th>\n",
       "      <th>secondary_cleaner.state.floatbank5_a_air</th>\n",
       "      <th>secondary_cleaner.state.floatbank5_a_level</th>\n",
       "      <th>secondary_cleaner.state.floatbank5_b_air</th>\n",
       "      <th>secondary_cleaner.state.floatbank5_b_level</th>\n",
       "      <th>secondary_cleaner.state.floatbank6_a_air</th>\n",
       "      <th>secondary_cleaner.state.floatbank6_a_level</th>\n",
       "    </tr>\n",
       "    <tr>\n",
       "      <th>date</th>\n",
       "      <th></th>\n",
       "      <th></th>\n",
       "      <th></th>\n",
       "      <th></th>\n",
       "      <th></th>\n",
       "      <th></th>\n",
       "      <th></th>\n",
       "      <th></th>\n",
       "      <th></th>\n",
       "      <th></th>\n",
       "      <th></th>\n",
       "      <th></th>\n",
       "      <th></th>\n",
       "      <th></th>\n",
       "      <th></th>\n",
       "      <th></th>\n",
       "      <th></th>\n",
       "      <th></th>\n",
       "      <th></th>\n",
       "      <th></th>\n",
       "      <th></th>\n",
       "    </tr>\n",
       "  </thead>\n",
       "  <tbody>\n",
       "    <tr>\n",
       "      <th>2016-01-15 00:00:00</th>\n",
       "      <td>6.055403</td>\n",
       "      <td>9.889648</td>\n",
       "      <td>5.507324</td>\n",
       "      <td>42.192020</td>\n",
       "      <td>70.541216</td>\n",
       "      <td>10.411962</td>\n",
       "      <td>0.895447</td>\n",
       "      <td>16.904297</td>\n",
       "      <td>2.143149</td>\n",
       "      <td>127.092003</td>\n",
       "      <td>...</td>\n",
       "      <td>14.016835</td>\n",
       "      <td>-502.488007</td>\n",
       "      <td>12.099931</td>\n",
       "      <td>-504.715942</td>\n",
       "      <td>9.925633</td>\n",
       "      <td>-498.310211</td>\n",
       "      <td>8.079666</td>\n",
       "      <td>-500.470978</td>\n",
       "      <td>14.151341</td>\n",
       "      <td>-605.841980</td>\n",
       "    </tr>\n",
       "    <tr>\n",
       "      <th>2016-01-15 01:00:00</th>\n",
       "      <td>6.029369</td>\n",
       "      <td>9.968944</td>\n",
       "      <td>5.257781</td>\n",
       "      <td>42.701629</td>\n",
       "      <td>69.266198</td>\n",
       "      <td>10.462676</td>\n",
       "      <td>0.927452</td>\n",
       "      <td>16.634514</td>\n",
       "      <td>2.224930</td>\n",
       "      <td>125.629232</td>\n",
       "      <td>...</td>\n",
       "      <td>13.992281</td>\n",
       "      <td>-505.503262</td>\n",
       "      <td>11.950531</td>\n",
       "      <td>-501.331529</td>\n",
       "      <td>10.039245</td>\n",
       "      <td>-500.169983</td>\n",
       "      <td>7.984757</td>\n",
       "      <td>-500.582168</td>\n",
       "      <td>13.998353</td>\n",
       "      <td>-599.787184</td>\n",
       "    </tr>\n",
       "  </tbody>\n",
       "</table>\n",
       "<p>2 rows × 86 columns</p>\n",
       "</div>"
      ],
      "text/plain": [
       "                     final.output.concentrate_ag  final.output.concentrate_pb  \\\n",
       "date                                                                            \n",
       "2016-01-15 00:00:00                     6.055403                     9.889648   \n",
       "2016-01-15 01:00:00                     6.029369                     9.968944   \n",
       "\n",
       "                     final.output.concentrate_sol  \\\n",
       "date                                                \n",
       "2016-01-15 00:00:00                      5.507324   \n",
       "2016-01-15 01:00:00                      5.257781   \n",
       "\n",
       "                     final.output.concentrate_au  final.output.recovery  \\\n",
       "date                                                                      \n",
       "2016-01-15 00:00:00                    42.192020              70.541216   \n",
       "2016-01-15 01:00:00                    42.701629              69.266198   \n",
       "\n",
       "                     final.output.tail_ag  final.output.tail_pb  \\\n",
       "date                                                              \n",
       "2016-01-15 00:00:00             10.411962              0.895447   \n",
       "2016-01-15 01:00:00             10.462676              0.927452   \n",
       "\n",
       "                     final.output.tail_sol  final.output.tail_au  \\\n",
       "date                                                               \n",
       "2016-01-15 00:00:00              16.904297              2.143149   \n",
       "2016-01-15 01:00:00              16.634514              2.224930   \n",
       "\n",
       "                     primary_cleaner.input.sulfate  ...  \\\n",
       "date                                                ...   \n",
       "2016-01-15 00:00:00                     127.092003  ...   \n",
       "2016-01-15 01:00:00                     125.629232  ...   \n",
       "\n",
       "                     secondary_cleaner.state.floatbank4_a_air  \\\n",
       "date                                                            \n",
       "2016-01-15 00:00:00                                 14.016835   \n",
       "2016-01-15 01:00:00                                 13.992281   \n",
       "\n",
       "                     secondary_cleaner.state.floatbank4_a_level  \\\n",
       "date                                                              \n",
       "2016-01-15 00:00:00                                 -502.488007   \n",
       "2016-01-15 01:00:00                                 -505.503262   \n",
       "\n",
       "                     secondary_cleaner.state.floatbank4_b_air  \\\n",
       "date                                                            \n",
       "2016-01-15 00:00:00                                 12.099931   \n",
       "2016-01-15 01:00:00                                 11.950531   \n",
       "\n",
       "                     secondary_cleaner.state.floatbank4_b_level  \\\n",
       "date                                                              \n",
       "2016-01-15 00:00:00                                 -504.715942   \n",
       "2016-01-15 01:00:00                                 -501.331529   \n",
       "\n",
       "                     secondary_cleaner.state.floatbank5_a_air  \\\n",
       "date                                                            \n",
       "2016-01-15 00:00:00                                  9.925633   \n",
       "2016-01-15 01:00:00                                 10.039245   \n",
       "\n",
       "                     secondary_cleaner.state.floatbank5_a_level  \\\n",
       "date                                                              \n",
       "2016-01-15 00:00:00                                 -498.310211   \n",
       "2016-01-15 01:00:00                                 -500.169983   \n",
       "\n",
       "                     secondary_cleaner.state.floatbank5_b_air  \\\n",
       "date                                                            \n",
       "2016-01-15 00:00:00                                  8.079666   \n",
       "2016-01-15 01:00:00                                  7.984757   \n",
       "\n",
       "                     secondary_cleaner.state.floatbank5_b_level  \\\n",
       "date                                                              \n",
       "2016-01-15 00:00:00                                 -500.470978   \n",
       "2016-01-15 01:00:00                                 -500.582168   \n",
       "\n",
       "                     secondary_cleaner.state.floatbank6_a_air  \\\n",
       "date                                                            \n",
       "2016-01-15 00:00:00                                 14.151341   \n",
       "2016-01-15 01:00:00                                 13.998353   \n",
       "\n",
       "                     secondary_cleaner.state.floatbank6_a_level  \n",
       "date                                                             \n",
       "2016-01-15 00:00:00                                 -605.841980  \n",
       "2016-01-15 01:00:00                                 -599.787184  \n",
       "\n",
       "[2 rows x 86 columns]"
      ]
     },
     "execution_count": 3,
     "metadata": {},
     "output_type": "execute_result"
    }
   ],
   "source": [
    "train.head(2)"
   ]
  },
  {
   "cell_type": "code",
   "execution_count": 4,
   "metadata": {
    "scrolled": true
   },
   "outputs": [
    {
     "data": {
      "text/html": [
       "<div>\n",
       "<style scoped>\n",
       "    .dataframe tbody tr th:only-of-type {\n",
       "        vertical-align: middle;\n",
       "    }\n",
       "\n",
       "    .dataframe tbody tr th {\n",
       "        vertical-align: top;\n",
       "    }\n",
       "\n",
       "    .dataframe thead th {\n",
       "        text-align: right;\n",
       "    }\n",
       "</style>\n",
       "<table border=\"1\" class=\"dataframe\">\n",
       "  <thead>\n",
       "    <tr style=\"text-align: right;\">\n",
       "      <th></th>\n",
       "      <th>primary_cleaner.input.sulfate</th>\n",
       "      <th>primary_cleaner.input.depressant</th>\n",
       "      <th>primary_cleaner.input.feed_size</th>\n",
       "      <th>primary_cleaner.input.xanthate</th>\n",
       "      <th>primary_cleaner.state.floatbank8_a_air</th>\n",
       "      <th>primary_cleaner.state.floatbank8_a_level</th>\n",
       "      <th>primary_cleaner.state.floatbank8_b_air</th>\n",
       "      <th>primary_cleaner.state.floatbank8_b_level</th>\n",
       "      <th>primary_cleaner.state.floatbank8_c_air</th>\n",
       "      <th>primary_cleaner.state.floatbank8_c_level</th>\n",
       "      <th>...</th>\n",
       "      <th>secondary_cleaner.state.floatbank4_a_air</th>\n",
       "      <th>secondary_cleaner.state.floatbank4_a_level</th>\n",
       "      <th>secondary_cleaner.state.floatbank4_b_air</th>\n",
       "      <th>secondary_cleaner.state.floatbank4_b_level</th>\n",
       "      <th>secondary_cleaner.state.floatbank5_a_air</th>\n",
       "      <th>secondary_cleaner.state.floatbank5_a_level</th>\n",
       "      <th>secondary_cleaner.state.floatbank5_b_air</th>\n",
       "      <th>secondary_cleaner.state.floatbank5_b_level</th>\n",
       "      <th>secondary_cleaner.state.floatbank6_a_air</th>\n",
       "      <th>secondary_cleaner.state.floatbank6_a_level</th>\n",
       "    </tr>\n",
       "    <tr>\n",
       "      <th>date</th>\n",
       "      <th></th>\n",
       "      <th></th>\n",
       "      <th></th>\n",
       "      <th></th>\n",
       "      <th></th>\n",
       "      <th></th>\n",
       "      <th></th>\n",
       "      <th></th>\n",
       "      <th></th>\n",
       "      <th></th>\n",
       "      <th></th>\n",
       "      <th></th>\n",
       "      <th></th>\n",
       "      <th></th>\n",
       "      <th></th>\n",
       "      <th></th>\n",
       "      <th></th>\n",
       "      <th></th>\n",
       "      <th></th>\n",
       "      <th></th>\n",
       "      <th></th>\n",
       "    </tr>\n",
       "  </thead>\n",
       "  <tbody>\n",
       "    <tr>\n",
       "      <th>2016-09-01 00:59:59</th>\n",
       "      <td>210.800909</td>\n",
       "      <td>14.993118</td>\n",
       "      <td>8.08</td>\n",
       "      <td>1.005021</td>\n",
       "      <td>1398.981301</td>\n",
       "      <td>-500.225577</td>\n",
       "      <td>1399.144926</td>\n",
       "      <td>-499.919735</td>\n",
       "      <td>1400.102998</td>\n",
       "      <td>-500.704369</td>\n",
       "      <td>...</td>\n",
       "      <td>12.023554</td>\n",
       "      <td>-497.795834</td>\n",
       "      <td>8.016656</td>\n",
       "      <td>-501.289139</td>\n",
       "      <td>7.946562</td>\n",
       "      <td>-432.317850</td>\n",
       "      <td>4.872511</td>\n",
       "      <td>-500.037437</td>\n",
       "      <td>26.705889</td>\n",
       "      <td>-499.709414</td>\n",
       "    </tr>\n",
       "    <tr>\n",
       "      <th>2016-09-01 01:59:59</th>\n",
       "      <td>215.392455</td>\n",
       "      <td>14.987471</td>\n",
       "      <td>8.08</td>\n",
       "      <td>0.990469</td>\n",
       "      <td>1398.777912</td>\n",
       "      <td>-500.057435</td>\n",
       "      <td>1398.055362</td>\n",
       "      <td>-499.778182</td>\n",
       "      <td>1396.151033</td>\n",
       "      <td>-499.240168</td>\n",
       "      <td>...</td>\n",
       "      <td>12.058140</td>\n",
       "      <td>-498.695773</td>\n",
       "      <td>8.130979</td>\n",
       "      <td>-499.634209</td>\n",
       "      <td>7.958270</td>\n",
       "      <td>-525.839648</td>\n",
       "      <td>4.878850</td>\n",
       "      <td>-500.162375</td>\n",
       "      <td>25.019940</td>\n",
       "      <td>-499.819438</td>\n",
       "    </tr>\n",
       "  </tbody>\n",
       "</table>\n",
       "<p>2 rows × 52 columns</p>\n",
       "</div>"
      ],
      "text/plain": [
       "                     primary_cleaner.input.sulfate  \\\n",
       "date                                                 \n",
       "2016-09-01 00:59:59                     210.800909   \n",
       "2016-09-01 01:59:59                     215.392455   \n",
       "\n",
       "                     primary_cleaner.input.depressant  \\\n",
       "date                                                    \n",
       "2016-09-01 00:59:59                         14.993118   \n",
       "2016-09-01 01:59:59                         14.987471   \n",
       "\n",
       "                     primary_cleaner.input.feed_size  \\\n",
       "date                                                   \n",
       "2016-09-01 00:59:59                             8.08   \n",
       "2016-09-01 01:59:59                             8.08   \n",
       "\n",
       "                     primary_cleaner.input.xanthate  \\\n",
       "date                                                  \n",
       "2016-09-01 00:59:59                        1.005021   \n",
       "2016-09-01 01:59:59                        0.990469   \n",
       "\n",
       "                     primary_cleaner.state.floatbank8_a_air  \\\n",
       "date                                                          \n",
       "2016-09-01 00:59:59                             1398.981301   \n",
       "2016-09-01 01:59:59                             1398.777912   \n",
       "\n",
       "                     primary_cleaner.state.floatbank8_a_level  \\\n",
       "date                                                            \n",
       "2016-09-01 00:59:59                               -500.225577   \n",
       "2016-09-01 01:59:59                               -500.057435   \n",
       "\n",
       "                     primary_cleaner.state.floatbank8_b_air  \\\n",
       "date                                                          \n",
       "2016-09-01 00:59:59                             1399.144926   \n",
       "2016-09-01 01:59:59                             1398.055362   \n",
       "\n",
       "                     primary_cleaner.state.floatbank8_b_level  \\\n",
       "date                                                            \n",
       "2016-09-01 00:59:59                               -499.919735   \n",
       "2016-09-01 01:59:59                               -499.778182   \n",
       "\n",
       "                     primary_cleaner.state.floatbank8_c_air  \\\n",
       "date                                                          \n",
       "2016-09-01 00:59:59                             1400.102998   \n",
       "2016-09-01 01:59:59                             1396.151033   \n",
       "\n",
       "                     primary_cleaner.state.floatbank8_c_level  ...  \\\n",
       "date                                                           ...   \n",
       "2016-09-01 00:59:59                               -500.704369  ...   \n",
       "2016-09-01 01:59:59                               -499.240168  ...   \n",
       "\n",
       "                     secondary_cleaner.state.floatbank4_a_air  \\\n",
       "date                                                            \n",
       "2016-09-01 00:59:59                                 12.023554   \n",
       "2016-09-01 01:59:59                                 12.058140   \n",
       "\n",
       "                     secondary_cleaner.state.floatbank4_a_level  \\\n",
       "date                                                              \n",
       "2016-09-01 00:59:59                                 -497.795834   \n",
       "2016-09-01 01:59:59                                 -498.695773   \n",
       "\n",
       "                     secondary_cleaner.state.floatbank4_b_air  \\\n",
       "date                                                            \n",
       "2016-09-01 00:59:59                                  8.016656   \n",
       "2016-09-01 01:59:59                                  8.130979   \n",
       "\n",
       "                     secondary_cleaner.state.floatbank4_b_level  \\\n",
       "date                                                              \n",
       "2016-09-01 00:59:59                                 -501.289139   \n",
       "2016-09-01 01:59:59                                 -499.634209   \n",
       "\n",
       "                     secondary_cleaner.state.floatbank5_a_air  \\\n",
       "date                                                            \n",
       "2016-09-01 00:59:59                                  7.946562   \n",
       "2016-09-01 01:59:59                                  7.958270   \n",
       "\n",
       "                     secondary_cleaner.state.floatbank5_a_level  \\\n",
       "date                                                              \n",
       "2016-09-01 00:59:59                                 -432.317850   \n",
       "2016-09-01 01:59:59                                 -525.839648   \n",
       "\n",
       "                     secondary_cleaner.state.floatbank5_b_air  \\\n",
       "date                                                            \n",
       "2016-09-01 00:59:59                                  4.872511   \n",
       "2016-09-01 01:59:59                                  4.878850   \n",
       "\n",
       "                     secondary_cleaner.state.floatbank5_b_level  \\\n",
       "date                                                              \n",
       "2016-09-01 00:59:59                                 -500.037437   \n",
       "2016-09-01 01:59:59                                 -500.162375   \n",
       "\n",
       "                     secondary_cleaner.state.floatbank6_a_air  \\\n",
       "date                                                            \n",
       "2016-09-01 00:59:59                                 26.705889   \n",
       "2016-09-01 01:59:59                                 25.019940   \n",
       "\n",
       "                     secondary_cleaner.state.floatbank6_a_level  \n",
       "date                                                             \n",
       "2016-09-01 00:59:59                                 -499.709414  \n",
       "2016-09-01 01:59:59                                 -499.819438  \n",
       "\n",
       "[2 rows x 52 columns]"
      ]
     },
     "execution_count": 4,
     "metadata": {},
     "output_type": "execute_result"
    }
   ],
   "source": [
    "test.head(2)"
   ]
  },
  {
   "cell_type": "code",
   "execution_count": 5,
   "metadata": {},
   "outputs": [
    {
     "data": {
      "text/html": [
       "<div>\n",
       "<style scoped>\n",
       "    .dataframe tbody tr th:only-of-type {\n",
       "        vertical-align: middle;\n",
       "    }\n",
       "\n",
       "    .dataframe tbody tr th {\n",
       "        vertical-align: top;\n",
       "    }\n",
       "\n",
       "    .dataframe thead th {\n",
       "        text-align: right;\n",
       "    }\n",
       "</style>\n",
       "<table border=\"1\" class=\"dataframe\">\n",
       "  <thead>\n",
       "    <tr style=\"text-align: right;\">\n",
       "      <th></th>\n",
       "      <th>final.output.concentrate_ag</th>\n",
       "      <th>final.output.concentrate_pb</th>\n",
       "      <th>final.output.concentrate_sol</th>\n",
       "      <th>final.output.concentrate_au</th>\n",
       "      <th>final.output.recovery</th>\n",
       "      <th>final.output.tail_ag</th>\n",
       "      <th>final.output.tail_pb</th>\n",
       "      <th>final.output.tail_sol</th>\n",
       "      <th>final.output.tail_au</th>\n",
       "      <th>primary_cleaner.input.sulfate</th>\n",
       "      <th>...</th>\n",
       "      <th>secondary_cleaner.state.floatbank4_a_air</th>\n",
       "      <th>secondary_cleaner.state.floatbank4_a_level</th>\n",
       "      <th>secondary_cleaner.state.floatbank4_b_air</th>\n",
       "      <th>secondary_cleaner.state.floatbank4_b_level</th>\n",
       "      <th>secondary_cleaner.state.floatbank5_a_air</th>\n",
       "      <th>secondary_cleaner.state.floatbank5_a_level</th>\n",
       "      <th>secondary_cleaner.state.floatbank5_b_air</th>\n",
       "      <th>secondary_cleaner.state.floatbank5_b_level</th>\n",
       "      <th>secondary_cleaner.state.floatbank6_a_air</th>\n",
       "      <th>secondary_cleaner.state.floatbank6_a_level</th>\n",
       "    </tr>\n",
       "    <tr>\n",
       "      <th>date</th>\n",
       "      <th></th>\n",
       "      <th></th>\n",
       "      <th></th>\n",
       "      <th></th>\n",
       "      <th></th>\n",
       "      <th></th>\n",
       "      <th></th>\n",
       "      <th></th>\n",
       "      <th></th>\n",
       "      <th></th>\n",
       "      <th></th>\n",
       "      <th></th>\n",
       "      <th></th>\n",
       "      <th></th>\n",
       "      <th></th>\n",
       "      <th></th>\n",
       "      <th></th>\n",
       "      <th></th>\n",
       "      <th></th>\n",
       "      <th></th>\n",
       "      <th></th>\n",
       "    </tr>\n",
       "  </thead>\n",
       "  <tbody>\n",
       "    <tr>\n",
       "      <th>2016-01-15 00:00:00</th>\n",
       "      <td>6.055403</td>\n",
       "      <td>9.889648</td>\n",
       "      <td>5.507324</td>\n",
       "      <td>42.192020</td>\n",
       "      <td>70.541216</td>\n",
       "      <td>10.411962</td>\n",
       "      <td>0.895447</td>\n",
       "      <td>16.904297</td>\n",
       "      <td>2.143149</td>\n",
       "      <td>127.092003</td>\n",
       "      <td>...</td>\n",
       "      <td>14.016835</td>\n",
       "      <td>-502.488007</td>\n",
       "      <td>12.099931</td>\n",
       "      <td>-504.715942</td>\n",
       "      <td>9.925633</td>\n",
       "      <td>-498.310211</td>\n",
       "      <td>8.079666</td>\n",
       "      <td>-500.470978</td>\n",
       "      <td>14.151341</td>\n",
       "      <td>-605.841980</td>\n",
       "    </tr>\n",
       "    <tr>\n",
       "      <th>2016-01-15 01:00:00</th>\n",
       "      <td>6.029369</td>\n",
       "      <td>9.968944</td>\n",
       "      <td>5.257781</td>\n",
       "      <td>42.701629</td>\n",
       "      <td>69.266198</td>\n",
       "      <td>10.462676</td>\n",
       "      <td>0.927452</td>\n",
       "      <td>16.634514</td>\n",
       "      <td>2.224930</td>\n",
       "      <td>125.629232</td>\n",
       "      <td>...</td>\n",
       "      <td>13.992281</td>\n",
       "      <td>-505.503262</td>\n",
       "      <td>11.950531</td>\n",
       "      <td>-501.331529</td>\n",
       "      <td>10.039245</td>\n",
       "      <td>-500.169983</td>\n",
       "      <td>7.984757</td>\n",
       "      <td>-500.582168</td>\n",
       "      <td>13.998353</td>\n",
       "      <td>-599.787184</td>\n",
       "    </tr>\n",
       "  </tbody>\n",
       "</table>\n",
       "<p>2 rows × 86 columns</p>\n",
       "</div>"
      ],
      "text/plain": [
       "                     final.output.concentrate_ag  final.output.concentrate_pb  \\\n",
       "date                                                                            \n",
       "2016-01-15 00:00:00                     6.055403                     9.889648   \n",
       "2016-01-15 01:00:00                     6.029369                     9.968944   \n",
       "\n",
       "                     final.output.concentrate_sol  \\\n",
       "date                                                \n",
       "2016-01-15 00:00:00                      5.507324   \n",
       "2016-01-15 01:00:00                      5.257781   \n",
       "\n",
       "                     final.output.concentrate_au  final.output.recovery  \\\n",
       "date                                                                      \n",
       "2016-01-15 00:00:00                    42.192020              70.541216   \n",
       "2016-01-15 01:00:00                    42.701629              69.266198   \n",
       "\n",
       "                     final.output.tail_ag  final.output.tail_pb  \\\n",
       "date                                                              \n",
       "2016-01-15 00:00:00             10.411962              0.895447   \n",
       "2016-01-15 01:00:00             10.462676              0.927452   \n",
       "\n",
       "                     final.output.tail_sol  final.output.tail_au  \\\n",
       "date                                                               \n",
       "2016-01-15 00:00:00              16.904297              2.143149   \n",
       "2016-01-15 01:00:00              16.634514              2.224930   \n",
       "\n",
       "                     primary_cleaner.input.sulfate  ...  \\\n",
       "date                                                ...   \n",
       "2016-01-15 00:00:00                     127.092003  ...   \n",
       "2016-01-15 01:00:00                     125.629232  ...   \n",
       "\n",
       "                     secondary_cleaner.state.floatbank4_a_air  \\\n",
       "date                                                            \n",
       "2016-01-15 00:00:00                                 14.016835   \n",
       "2016-01-15 01:00:00                                 13.992281   \n",
       "\n",
       "                     secondary_cleaner.state.floatbank4_a_level  \\\n",
       "date                                                              \n",
       "2016-01-15 00:00:00                                 -502.488007   \n",
       "2016-01-15 01:00:00                                 -505.503262   \n",
       "\n",
       "                     secondary_cleaner.state.floatbank4_b_air  \\\n",
       "date                                                            \n",
       "2016-01-15 00:00:00                                 12.099931   \n",
       "2016-01-15 01:00:00                                 11.950531   \n",
       "\n",
       "                     secondary_cleaner.state.floatbank4_b_level  \\\n",
       "date                                                              \n",
       "2016-01-15 00:00:00                                 -504.715942   \n",
       "2016-01-15 01:00:00                                 -501.331529   \n",
       "\n",
       "                     secondary_cleaner.state.floatbank5_a_air  \\\n",
       "date                                                            \n",
       "2016-01-15 00:00:00                                  9.925633   \n",
       "2016-01-15 01:00:00                                 10.039245   \n",
       "\n",
       "                     secondary_cleaner.state.floatbank5_a_level  \\\n",
       "date                                                              \n",
       "2016-01-15 00:00:00                                 -498.310211   \n",
       "2016-01-15 01:00:00                                 -500.169983   \n",
       "\n",
       "                     secondary_cleaner.state.floatbank5_b_air  \\\n",
       "date                                                            \n",
       "2016-01-15 00:00:00                                  8.079666   \n",
       "2016-01-15 01:00:00                                  7.984757   \n",
       "\n",
       "                     secondary_cleaner.state.floatbank5_b_level  \\\n",
       "date                                                              \n",
       "2016-01-15 00:00:00                                 -500.470978   \n",
       "2016-01-15 01:00:00                                 -500.582168   \n",
       "\n",
       "                     secondary_cleaner.state.floatbank6_a_air  \\\n",
       "date                                                            \n",
       "2016-01-15 00:00:00                                 14.151341   \n",
       "2016-01-15 01:00:00                                 13.998353   \n",
       "\n",
       "                     secondary_cleaner.state.floatbank6_a_level  \n",
       "date                                                             \n",
       "2016-01-15 00:00:00                                 -605.841980  \n",
       "2016-01-15 01:00:00                                 -599.787184  \n",
       "\n",
       "[2 rows x 86 columns]"
      ]
     },
     "execution_count": 5,
     "metadata": {},
     "output_type": "execute_result"
    }
   ],
   "source": [
    "df.head(2)"
   ]
  },
  {
   "cell_type": "markdown",
   "metadata": {},
   "source": [
    "### Выведем инфо и наличие явных дубликатов"
   ]
  },
  {
   "cell_type": "code",
   "execution_count": 6,
   "metadata": {},
   "outputs": [],
   "source": [
    "def dfs(df):\n",
    "    print(df.info())\n",
    "    print('\\n\\nДубликаты:', df.duplicated().sum())"
   ]
  },
  {
   "cell_type": "code",
   "execution_count": 7,
   "metadata": {
    "scrolled": true
   },
   "outputs": [
    {
     "name": "stdout",
     "output_type": "stream",
     "text": [
      "<class 'pandas.core.frame.DataFrame'>\n",
      "Index: 14149 entries, 2016-01-15 00:00:00 to 2018-08-18 10:59:59\n",
      "Data columns (total 86 columns):\n",
      " #   Column                                              Non-Null Count  Dtype  \n",
      "---  ------                                              --------------  -----  \n",
      " 0   final.output.concentrate_ag                         14148 non-null  float64\n",
      " 1   final.output.concentrate_pb                         14148 non-null  float64\n",
      " 2   final.output.concentrate_sol                        13938 non-null  float64\n",
      " 3   final.output.concentrate_au                         14149 non-null  float64\n",
      " 4   final.output.recovery                               14149 non-null  float64\n",
      " 5   final.output.tail_ag                                14149 non-null  float64\n",
      " 6   final.output.tail_pb                                14049 non-null  float64\n",
      " 7   final.output.tail_sol                               14144 non-null  float64\n",
      " 8   final.output.tail_au                                14149 non-null  float64\n",
      " 9   primary_cleaner.input.sulfate                       14129 non-null  float64\n",
      " 10  primary_cleaner.input.depressant                    14117 non-null  float64\n",
      " 11  primary_cleaner.input.feed_size                     14149 non-null  float64\n",
      " 12  primary_cleaner.input.xanthate                      14049 non-null  float64\n",
      " 13  primary_cleaner.output.concentrate_ag               14149 non-null  float64\n",
      " 14  primary_cleaner.output.concentrate_pb               14063 non-null  float64\n",
      " 15  primary_cleaner.output.concentrate_sol              13863 non-null  float64\n",
      " 16  primary_cleaner.output.concentrate_au               14149 non-null  float64\n",
      " 17  primary_cleaner.output.tail_ag                      14148 non-null  float64\n",
      " 18  primary_cleaner.output.tail_pb                      14134 non-null  float64\n",
      " 19  primary_cleaner.output.tail_sol                     14103 non-null  float64\n",
      " 20  primary_cleaner.output.tail_au                      14149 non-null  float64\n",
      " 21  primary_cleaner.state.floatbank8_a_air              14145 non-null  float64\n",
      " 22  primary_cleaner.state.floatbank8_a_level            14148 non-null  float64\n",
      " 23  primary_cleaner.state.floatbank8_b_air              14145 non-null  float64\n",
      " 24  primary_cleaner.state.floatbank8_b_level            14148 non-null  float64\n",
      " 25  primary_cleaner.state.floatbank8_c_air              14147 non-null  float64\n",
      " 26  primary_cleaner.state.floatbank8_c_level            14148 non-null  float64\n",
      " 27  primary_cleaner.state.floatbank8_d_air              14146 non-null  float64\n",
      " 28  primary_cleaner.state.floatbank8_d_level            14148 non-null  float64\n",
      " 29  rougher.calculation.sulfate_to_au_concentrate       14148 non-null  float64\n",
      " 30  rougher.calculation.floatbank10_sulfate_to_au_feed  14148 non-null  float64\n",
      " 31  rougher.calculation.floatbank11_sulfate_to_au_feed  14148 non-null  float64\n",
      " 32  rougher.calculation.au_pb_ratio                     14149 non-null  float64\n",
      " 33  rougher.input.feed_ag                               14149 non-null  float64\n",
      " 34  rougher.input.feed_pb                               14049 non-null  float64\n",
      " 35  rougher.input.feed_rate                             14141 non-null  float64\n",
      " 36  rougher.input.feed_size                             14005 non-null  float64\n",
      " 37  rougher.input.feed_sol                              14071 non-null  float64\n",
      " 38  rougher.input.feed_au                               14149 non-null  float64\n",
      " 39  rougher.input.floatbank10_sulfate                   14120 non-null  float64\n",
      " 40  rougher.input.floatbank10_xanthate                  14141 non-null  float64\n",
      " 41  rougher.input.floatbank11_sulfate                   14113 non-null  float64\n",
      " 42  rougher.input.floatbank11_xanthate                  13721 non-null  float64\n",
      " 43  rougher.output.concentrate_ag                       14149 non-null  float64\n",
      " 44  rougher.output.concentrate_pb                       14149 non-null  float64\n",
      " 45  rougher.output.concentrate_sol                      14127 non-null  float64\n",
      " 46  rougher.output.concentrate_au                       14149 non-null  float64\n",
      " 47  rougher.output.recovery                             14149 non-null  float64\n",
      " 48  rougher.output.tail_ag                              14148 non-null  float64\n",
      " 49  rougher.output.tail_pb                              14149 non-null  float64\n",
      " 50  rougher.output.tail_sol                             14149 non-null  float64\n",
      " 51  rougher.output.tail_au                              14149 non-null  float64\n",
      " 52  rougher.state.floatbank10_a_air                     14148 non-null  float64\n",
      " 53  rougher.state.floatbank10_a_level                   14148 non-null  float64\n",
      " 54  rougher.state.floatbank10_b_air                     14148 non-null  float64\n",
      " 55  rougher.state.floatbank10_b_level                   14148 non-null  float64\n",
      " 56  rougher.state.floatbank10_c_air                     14148 non-null  float64\n",
      " 57  rougher.state.floatbank10_c_level                   14148 non-null  float64\n",
      " 58  rougher.state.floatbank10_d_air                     14149 non-null  float64\n",
      " 59  rougher.state.floatbank10_d_level                   14149 non-null  float64\n",
      " 60  rougher.state.floatbank10_e_air                     13713 non-null  float64\n",
      " 61  rougher.state.floatbank10_e_level                   14149 non-null  float64\n",
      " 62  rougher.state.floatbank10_f_air                     14149 non-null  float64\n",
      " 63  rougher.state.floatbank10_f_level                   14149 non-null  float64\n",
      " 64  secondary_cleaner.output.tail_ag                    14147 non-null  float64\n",
      " 65  secondary_cleaner.output.tail_pb                    14139 non-null  float64\n",
      " 66  secondary_cleaner.output.tail_sol                   12544 non-null  float64\n",
      " 67  secondary_cleaner.output.tail_au                    14149 non-null  float64\n",
      " 68  secondary_cleaner.state.floatbank2_a_air            13932 non-null  float64\n",
      " 69  secondary_cleaner.state.floatbank2_a_level          14148 non-null  float64\n",
      " 70  secondary_cleaner.state.floatbank2_b_air            14128 non-null  float64\n",
      " 71  secondary_cleaner.state.floatbank2_b_level          14148 non-null  float64\n",
      " 72  secondary_cleaner.state.floatbank3_a_air            14145 non-null  float64\n",
      " 73  secondary_cleaner.state.floatbank3_a_level          14148 non-null  float64\n",
      " 74  secondary_cleaner.state.floatbank3_b_air            14148 non-null  float64\n",
      " 75  secondary_cleaner.state.floatbank3_b_level          14148 non-null  float64\n",
      " 76  secondary_cleaner.state.floatbank4_a_air            14143 non-null  float64\n",
      " 77  secondary_cleaner.state.floatbank4_a_level          14148 non-null  float64\n",
      " 78  secondary_cleaner.state.floatbank4_b_air            14148 non-null  float64\n",
      " 79  secondary_cleaner.state.floatbank4_b_level          14148 non-null  float64\n",
      " 80  secondary_cleaner.state.floatbank5_a_air            14148 non-null  float64\n",
      " 81  secondary_cleaner.state.floatbank5_a_level          14148 non-null  float64\n",
      " 82  secondary_cleaner.state.floatbank5_b_air            14148 non-null  float64\n",
      " 83  secondary_cleaner.state.floatbank5_b_level          14148 non-null  float64\n",
      " 84  secondary_cleaner.state.floatbank6_a_air            14147 non-null  float64\n",
      " 85  secondary_cleaner.state.floatbank6_a_level          14148 non-null  float64\n",
      "dtypes: float64(86)\n",
      "memory usage: 9.4+ MB\n",
      "None\n",
      "\n",
      "\n",
      "Дубликаты: 0\n"
     ]
    }
   ],
   "source": [
    "dfs(train)"
   ]
  },
  {
   "cell_type": "code",
   "execution_count": 8,
   "metadata": {
    "scrolled": true
   },
   "outputs": [
    {
     "name": "stdout",
     "output_type": "stream",
     "text": [
      "<class 'pandas.core.frame.DataFrame'>\n",
      "Index: 5290 entries, 2016-09-01 00:59:59 to 2017-12-31 23:59:59\n",
      "Data columns (total 52 columns):\n",
      " #   Column                                      Non-Null Count  Dtype  \n",
      "---  ------                                      --------------  -----  \n",
      " 0   primary_cleaner.input.sulfate               5286 non-null   float64\n",
      " 1   primary_cleaner.input.depressant            5285 non-null   float64\n",
      " 2   primary_cleaner.input.feed_size             5290 non-null   float64\n",
      " 3   primary_cleaner.input.xanthate              5286 non-null   float64\n",
      " 4   primary_cleaner.state.floatbank8_a_air      5290 non-null   float64\n",
      " 5   primary_cleaner.state.floatbank8_a_level    5290 non-null   float64\n",
      " 6   primary_cleaner.state.floatbank8_b_air      5290 non-null   float64\n",
      " 7   primary_cleaner.state.floatbank8_b_level    5290 non-null   float64\n",
      " 8   primary_cleaner.state.floatbank8_c_air      5290 non-null   float64\n",
      " 9   primary_cleaner.state.floatbank8_c_level    5290 non-null   float64\n",
      " 10  primary_cleaner.state.floatbank8_d_air      5290 non-null   float64\n",
      " 11  primary_cleaner.state.floatbank8_d_level    5290 non-null   float64\n",
      " 12  rougher.input.feed_ag                       5290 non-null   float64\n",
      " 13  rougher.input.feed_pb                       5290 non-null   float64\n",
      " 14  rougher.input.feed_rate                     5287 non-null   float64\n",
      " 15  rougher.input.feed_size                     5289 non-null   float64\n",
      " 16  rougher.input.feed_sol                      5269 non-null   float64\n",
      " 17  rougher.input.feed_au                       5290 non-null   float64\n",
      " 18  rougher.input.floatbank10_sulfate           5285 non-null   float64\n",
      " 19  rougher.input.floatbank10_xanthate          5290 non-null   float64\n",
      " 20  rougher.input.floatbank11_sulfate           5282 non-null   float64\n",
      " 21  rougher.input.floatbank11_xanthate          5265 non-null   float64\n",
      " 22  rougher.state.floatbank10_a_air             5290 non-null   float64\n",
      " 23  rougher.state.floatbank10_a_level           5290 non-null   float64\n",
      " 24  rougher.state.floatbank10_b_air             5290 non-null   float64\n",
      " 25  rougher.state.floatbank10_b_level           5290 non-null   float64\n",
      " 26  rougher.state.floatbank10_c_air             5290 non-null   float64\n",
      " 27  rougher.state.floatbank10_c_level           5290 non-null   float64\n",
      " 28  rougher.state.floatbank10_d_air             5290 non-null   float64\n",
      " 29  rougher.state.floatbank10_d_level           5290 non-null   float64\n",
      " 30  rougher.state.floatbank10_e_air             5290 non-null   float64\n",
      " 31  rougher.state.floatbank10_e_level           5290 non-null   float64\n",
      " 32  rougher.state.floatbank10_f_air             5290 non-null   float64\n",
      " 33  rougher.state.floatbank10_f_level           5290 non-null   float64\n",
      " 34  secondary_cleaner.state.floatbank2_a_air    5287 non-null   float64\n",
      " 35  secondary_cleaner.state.floatbank2_a_level  5290 non-null   float64\n",
      " 36  secondary_cleaner.state.floatbank2_b_air    5288 non-null   float64\n",
      " 37  secondary_cleaner.state.floatbank2_b_level  5290 non-null   float64\n",
      " 38  secondary_cleaner.state.floatbank3_a_air    5281 non-null   float64\n",
      " 39  secondary_cleaner.state.floatbank3_a_level  5290 non-null   float64\n",
      " 40  secondary_cleaner.state.floatbank3_b_air    5290 non-null   float64\n",
      " 41  secondary_cleaner.state.floatbank3_b_level  5290 non-null   float64\n",
      " 42  secondary_cleaner.state.floatbank4_a_air    5290 non-null   float64\n",
      " 43  secondary_cleaner.state.floatbank4_a_level  5290 non-null   float64\n",
      " 44  secondary_cleaner.state.floatbank4_b_air    5290 non-null   float64\n",
      " 45  secondary_cleaner.state.floatbank4_b_level  5290 non-null   float64\n",
      " 46  secondary_cleaner.state.floatbank5_a_air    5290 non-null   float64\n",
      " 47  secondary_cleaner.state.floatbank5_a_level  5290 non-null   float64\n",
      " 48  secondary_cleaner.state.floatbank5_b_air    5290 non-null   float64\n",
      " 49  secondary_cleaner.state.floatbank5_b_level  5290 non-null   float64\n",
      " 50  secondary_cleaner.state.floatbank6_a_air    5290 non-null   float64\n",
      " 51  secondary_cleaner.state.floatbank6_a_level  5290 non-null   float64\n",
      "dtypes: float64(52)\n",
      "memory usage: 2.1+ MB\n",
      "None\n",
      "\n",
      "\n",
      "Дубликаты: 0\n"
     ]
    }
   ],
   "source": [
    "dfs(test)"
   ]
  },
  {
   "cell_type": "code",
   "execution_count": 9,
   "metadata": {
    "scrolled": true
   },
   "outputs": [
    {
     "name": "stdout",
     "output_type": "stream",
     "text": [
      "<class 'pandas.core.frame.DataFrame'>\n",
      "Index: 19439 entries, 2016-01-15 00:00:00 to 2018-08-18 10:59:59\n",
      "Data columns (total 86 columns):\n",
      " #   Column                                              Non-Null Count  Dtype  \n",
      "---  ------                                              --------------  -----  \n",
      " 0   final.output.concentrate_ag                         19438 non-null  float64\n",
      " 1   final.output.concentrate_pb                         19438 non-null  float64\n",
      " 2   final.output.concentrate_sol                        19228 non-null  float64\n",
      " 3   final.output.concentrate_au                         19439 non-null  float64\n",
      " 4   final.output.recovery                               19439 non-null  float64\n",
      " 5   final.output.tail_ag                                19438 non-null  float64\n",
      " 6   final.output.tail_pb                                19338 non-null  float64\n",
      " 7   final.output.tail_sol                               19433 non-null  float64\n",
      " 8   final.output.tail_au                                19439 non-null  float64\n",
      " 9   primary_cleaner.input.sulfate                       19415 non-null  float64\n",
      " 10  primary_cleaner.input.depressant                    19402 non-null  float64\n",
      " 11  primary_cleaner.input.feed_size                     19439 non-null  float64\n",
      " 12  primary_cleaner.input.xanthate                      19335 non-null  float64\n",
      " 13  primary_cleaner.output.concentrate_ag               19439 non-null  float64\n",
      " 14  primary_cleaner.output.concentrate_pb               19323 non-null  float64\n",
      " 15  primary_cleaner.output.concentrate_sol              19069 non-null  float64\n",
      " 16  primary_cleaner.output.concentrate_au               19439 non-null  float64\n",
      " 17  primary_cleaner.output.tail_ag                      19435 non-null  float64\n",
      " 18  primary_cleaner.output.tail_pb                      19418 non-null  float64\n",
      " 19  primary_cleaner.output.tail_sol                     19377 non-null  float64\n",
      " 20  primary_cleaner.output.tail_au                      19439 non-null  float64\n",
      " 21  primary_cleaner.state.floatbank8_a_air              19435 non-null  float64\n",
      " 22  primary_cleaner.state.floatbank8_a_level            19438 non-null  float64\n",
      " 23  primary_cleaner.state.floatbank8_b_air              19435 non-null  float64\n",
      " 24  primary_cleaner.state.floatbank8_b_level            19438 non-null  float64\n",
      " 25  primary_cleaner.state.floatbank8_c_air              19437 non-null  float64\n",
      " 26  primary_cleaner.state.floatbank8_c_level            19438 non-null  float64\n",
      " 27  primary_cleaner.state.floatbank8_d_air              19436 non-null  float64\n",
      " 28  primary_cleaner.state.floatbank8_d_level            19438 non-null  float64\n",
      " 29  rougher.calculation.sulfate_to_au_concentrate       19437 non-null  float64\n",
      " 30  rougher.calculation.floatbank10_sulfate_to_au_feed  19437 non-null  float64\n",
      " 31  rougher.calculation.floatbank11_sulfate_to_au_feed  19437 non-null  float64\n",
      " 32  rougher.calculation.au_pb_ratio                     19439 non-null  float64\n",
      " 33  rougher.input.feed_ag                               19439 non-null  float64\n",
      " 34  rougher.input.feed_pb                               19339 non-null  float64\n",
      " 35  rougher.input.feed_rate                             19428 non-null  float64\n",
      " 36  rougher.input.feed_size                             19294 non-null  float64\n",
      " 37  rougher.input.feed_sol                              19340 non-null  float64\n",
      " 38  rougher.input.feed_au                               19439 non-null  float64\n",
      " 39  rougher.input.floatbank10_sulfate                   19405 non-null  float64\n",
      " 40  rougher.input.floatbank10_xanthate                  19431 non-null  float64\n",
      " 41  rougher.input.floatbank11_sulfate                   19395 non-null  float64\n",
      " 42  rougher.input.floatbank11_xanthate                  18986 non-null  float64\n",
      " 43  rougher.output.concentrate_ag                       19439 non-null  float64\n",
      " 44  rougher.output.concentrate_pb                       19439 non-null  float64\n",
      " 45  rougher.output.concentrate_sol                      19416 non-null  float64\n",
      " 46  rougher.output.concentrate_au                       19439 non-null  float64\n",
      " 47  rougher.output.recovery                             19439 non-null  float64\n",
      " 48  rougher.output.tail_ag                              19438 non-null  float64\n",
      " 49  rougher.output.tail_pb                              19439 non-null  float64\n",
      " 50  rougher.output.tail_sol                             19439 non-null  float64\n",
      " 51  rougher.output.tail_au                              19439 non-null  float64\n",
      " 52  rougher.state.floatbank10_a_air                     19438 non-null  float64\n",
      " 53  rougher.state.floatbank10_a_level                   19438 non-null  float64\n",
      " 54  rougher.state.floatbank10_b_air                     19438 non-null  float64\n",
      " 55  rougher.state.floatbank10_b_level                   19438 non-null  float64\n",
      " 56  rougher.state.floatbank10_c_air                     19438 non-null  float64\n",
      " 57  rougher.state.floatbank10_c_level                   19438 non-null  float64\n",
      " 58  rougher.state.floatbank10_d_air                     19439 non-null  float64\n",
      " 59  rougher.state.floatbank10_d_level                   19439 non-null  float64\n",
      " 60  rougher.state.floatbank10_e_air                     19003 non-null  float64\n",
      " 61  rougher.state.floatbank10_e_level                   19439 non-null  float64\n",
      " 62  rougher.state.floatbank10_f_air                     19439 non-null  float64\n",
      " 63  rougher.state.floatbank10_f_level                   19439 non-null  float64\n",
      " 64  secondary_cleaner.output.tail_ag                    19437 non-null  float64\n",
      " 65  secondary_cleaner.output.tail_pb                    19427 non-null  float64\n",
      " 66  secondary_cleaner.output.tail_sol                   17691 non-null  float64\n",
      " 67  secondary_cleaner.output.tail_au                    19439 non-null  float64\n",
      " 68  secondary_cleaner.state.floatbank2_a_air            19219 non-null  float64\n",
      " 69  secondary_cleaner.state.floatbank2_a_level          19438 non-null  float64\n",
      " 70  secondary_cleaner.state.floatbank2_b_air            19416 non-null  float64\n",
      " 71  secondary_cleaner.state.floatbank2_b_level          19438 non-null  float64\n",
      " 72  secondary_cleaner.state.floatbank3_a_air            19426 non-null  float64\n",
      " 73  secondary_cleaner.state.floatbank3_a_level          19438 non-null  float64\n",
      " 74  secondary_cleaner.state.floatbank3_b_air            19438 non-null  float64\n",
      " 75  secondary_cleaner.state.floatbank3_b_level          19438 non-null  float64\n",
      " 76  secondary_cleaner.state.floatbank4_a_air            19433 non-null  float64\n",
      " 77  secondary_cleaner.state.floatbank4_a_level          19438 non-null  float64\n",
      " 78  secondary_cleaner.state.floatbank4_b_air            19438 non-null  float64\n",
      " 79  secondary_cleaner.state.floatbank4_b_level          19438 non-null  float64\n",
      " 80  secondary_cleaner.state.floatbank5_a_air            19438 non-null  float64\n",
      " 81  secondary_cleaner.state.floatbank5_a_level          19438 non-null  float64\n",
      " 82  secondary_cleaner.state.floatbank5_b_air            19438 non-null  float64\n",
      " 83  secondary_cleaner.state.floatbank5_b_level          19438 non-null  float64\n",
      " 84  secondary_cleaner.state.floatbank6_a_air            19437 non-null  float64\n",
      " 85  secondary_cleaner.state.floatbank6_a_level          19438 non-null  float64\n",
      "dtypes: float64(86)\n",
      "memory usage: 12.9+ MB\n",
      "None\n",
      "\n",
      "\n",
      "Дубликаты: 0\n"
     ]
    }
   ],
   "source": [
    "dfs(df)"
   ]
  },
  {
   "cell_type": "markdown",
   "metadata": {},
   "source": [
    "Дубликатов нет, пропущенные значения есть"
   ]
  },
  {
   "cell_type": "markdown",
   "metadata": {},
   "source": [
    "### Посмотрим на пропущенные значения"
   ]
  },
  {
   "cell_type": "code",
   "execution_count": 10,
   "metadata": {
    "scrolled": true
   },
   "outputs": [
    {
     "name": "stdout",
     "output_type": "stream",
     "text": [
      "secondary_cleaner.output.tail_sol             1605\n",
      "rougher.state.floatbank10_e_air                436\n",
      "rougher.input.floatbank11_xanthate             428\n",
      "primary_cleaner.output.concentrate_sol         286\n",
      "secondary_cleaner.state.floatbank2_a_air       217\n",
      "                                              ... \n",
      "rougher.state.floatbank10_a_air                  1\n",
      "rougher.state.floatbank10_a_level                1\n",
      "rougher.state.floatbank10_b_air                  1\n",
      "rougher.state.floatbank10_b_level                1\n",
      "secondary_cleaner.state.floatbank6_a_level       1\n",
      "Length: 62, dtype: int64\n",
      "---------------------------------\n",
      "rougher.input.floatbank11_xanthate          25\n",
      "rougher.input.feed_sol                      21\n",
      "secondary_cleaner.state.floatbank3_a_air     9\n",
      "rougher.input.floatbank11_sulfate            8\n",
      "primary_cleaner.input.depressant             5\n",
      "rougher.input.floatbank10_sulfate            5\n",
      "primary_cleaner.input.sulfate                4\n",
      "primary_cleaner.input.xanthate               4\n",
      "rougher.input.feed_rate                      3\n",
      "secondary_cleaner.state.floatbank2_a_air     3\n",
      "secondary_cleaner.state.floatbank2_b_air     2\n",
      "rougher.input.feed_size                      1\n",
      "dtype: int64\n",
      "---------------------------------\n",
      "secondary_cleaner.output.tail_sol             1748\n",
      "rougher.input.floatbank11_xanthate             453\n",
      "rougher.state.floatbank10_e_air                436\n",
      "primary_cleaner.output.concentrate_sol         370\n",
      "secondary_cleaner.state.floatbank2_a_air       220\n",
      "                                              ... \n",
      "primary_cleaner.state.floatbank8_c_level         1\n",
      "primary_cleaner.state.floatbank8_b_level         1\n",
      "primary_cleaner.state.floatbank8_a_level         1\n",
      "final.output.tail_ag                             1\n",
      "secondary_cleaner.state.floatbank6_a_level       1\n",
      "Length: 63, dtype: int64\n",
      "---------------------------------\n"
     ]
    }
   ],
   "source": [
    "for df in (train, test, df):\n",
    "    print((df.isna().sum()[df.isna().sum()!=0]).sort_values(ascending=False))\n",
    "    print('---------------------------------')\n",
    "    "
   ]
  },
  {
   "cell_type": "markdown",
   "metadata": {},
   "source": [
    "Так как в условии задачи сказано, что \"Соседние по времени параметры часто похожи\", заменим пропущенные значения методом interpolate()"
   ]
  },
  {
   "cell_type": "code",
   "execution_count": 11,
   "metadata": {},
   "outputs": [],
   "source": [
    "train = train.interpolate()\n",
    "test = test.interpolate()\n",
    "df = df.interpolate()"
   ]
  },
  {
   "cell_type": "markdown",
   "metadata": {},
   "source": [
    "<div class=\"alert alert-success\"> ✅ \n",
    "<h3> Комментарий ревьюера v1</h3>\n",
    "\n",
    "Хорошо, что внимательно читаешь задание =) Тут было бы неправильно заполнять медианой или средним, так как значения фичей сильно зависят от этапа обработки\n",
    "\n",
    "PS заполнить пропуски также можно было методами pandas: bfill/ ffill , это вполне уместно. Хочу посоветовать тебе статью, которая рассматривает разные способы обработки пропусков, выделяет их плюсы и минусы, думаю, тебе может быть интересно: https://loginom.ru/blog/missing\n",
    "\n"
   ]
  },
  {
   "cell_type": "code",
   "execution_count": 12,
   "metadata": {},
   "outputs": [
    {
     "name": "stdout",
     "output_type": "stream",
     "text": [
      "0\n",
      "0\n",
      "0\n"
     ]
    }
   ],
   "source": [
    "for df in (train, test, df):\n",
    "    print(df.isna().sum().sum())"
   ]
  },
  {
   "cell_type": "markdown",
   "metadata": {},
   "source": [
    "### Пропущенные колонки в test"
   ]
  },
  {
   "cell_type": "code",
   "execution_count": 13,
   "metadata": {
    "scrolled": true
   },
   "outputs": [
    {
     "data": {
      "text/plain": [
       "{'final.output.concentrate_ag',\n",
       " 'final.output.concentrate_au',\n",
       " 'final.output.concentrate_pb',\n",
       " 'final.output.concentrate_sol',\n",
       " 'final.output.recovery',\n",
       " 'final.output.tail_ag',\n",
       " 'final.output.tail_au',\n",
       " 'final.output.tail_pb',\n",
       " 'final.output.tail_sol',\n",
       " 'primary_cleaner.output.concentrate_ag',\n",
       " 'primary_cleaner.output.concentrate_au',\n",
       " 'primary_cleaner.output.concentrate_pb',\n",
       " 'primary_cleaner.output.concentrate_sol',\n",
       " 'primary_cleaner.output.tail_ag',\n",
       " 'primary_cleaner.output.tail_au',\n",
       " 'primary_cleaner.output.tail_pb',\n",
       " 'primary_cleaner.output.tail_sol',\n",
       " 'rougher.calculation.au_pb_ratio',\n",
       " 'rougher.calculation.floatbank10_sulfate_to_au_feed',\n",
       " 'rougher.calculation.floatbank11_sulfate_to_au_feed',\n",
       " 'rougher.calculation.sulfate_to_au_concentrate',\n",
       " 'rougher.output.concentrate_ag',\n",
       " 'rougher.output.concentrate_au',\n",
       " 'rougher.output.concentrate_pb',\n",
       " 'rougher.output.concentrate_sol',\n",
       " 'rougher.output.recovery',\n",
       " 'rougher.output.tail_ag',\n",
       " 'rougher.output.tail_au',\n",
       " 'rougher.output.tail_pb',\n",
       " 'rougher.output.tail_sol',\n",
       " 'secondary_cleaner.output.tail_ag',\n",
       " 'secondary_cleaner.output.tail_au',\n",
       " 'secondary_cleaner.output.tail_pb',\n",
       " 'secondary_cleaner.output.tail_sol'}"
      ]
     },
     "execution_count": 13,
     "metadata": {},
     "output_type": "execute_result"
    }
   ],
   "source": [
    "mis_col = set(train.columns) - set(test.columns)\n",
    "mis_col"
   ]
  },
  {
   "cell_type": "code",
   "execution_count": 14,
   "metadata": {},
   "outputs": [
    {
     "data": {
      "text/plain": [
       "(14149, 34)"
      ]
     },
     "execution_count": 14,
     "metadata": {},
     "output_type": "execute_result"
    }
   ],
   "source": [
    "train[mis_col].shape"
   ]
  },
  {
   "cell_type": "code",
   "execution_count": 15,
   "metadata": {},
   "outputs": [
    {
     "data": {
      "text/plain": [
       "(5290, 52)"
      ]
     },
     "execution_count": 15,
     "metadata": {},
     "output_type": "execute_result"
    }
   ],
   "source": [
    "test.shape"
   ]
  },
  {
   "cell_type": "markdown",
   "metadata": {},
   "source": [
    "в test нет 34 признаков, которые есть в train из них:\n",
    "4 признака с подсчетами:\n",
    "\n",
    "    'rougher.calculation.au_pb_ratio',\n",
    "    'rougher.calculation.floatbank10_sulfate_to_au_feed',\n",
    "    'rougher.calculation.floatbank11_sulfate_to_au_feed',\n",
    "    'rougher.calculation.sulfate_to_au_concentrate'\n",
    " \n",
    "остальные признаки типа output\n",
    "\n",
    "целевые признаки: `rougher.output.recovery` и `final.output.recovery`"
   ]
  },
  {
   "cell_type": "markdown",
   "metadata": {},
   "source": [
    "<div class=\"alert alert-success\"> ✅ \n",
    "<h3> Комментарий ревьюера v1</h3>\n",
    "\n",
    "Правильно. Значит, на этих признаках нельзя обучать, так как они не будут доступны на тестах\n"
   ]
  },
  {
   "cell_type": "markdown",
   "metadata": {},
   "source": [
    "Добавим целевые признаки в тест"
   ]
  },
  {
   "cell_type": "code",
   "execution_count": 16,
   "metadata": {},
   "outputs": [
    {
     "data": {
      "text/plain": [
       "(5290, 54)"
      ]
     },
     "execution_count": 16,
     "metadata": {},
     "output_type": "execute_result"
    }
   ],
   "source": [
    "test = test.join(df.loc[test.index][['final.output.recovery','rougher.output.recovery']])\n",
    "test.shape"
   ]
  },
  {
   "cell_type": "markdown",
   "metadata": {},
   "source": [
    "### Проверим, что эффективность обогащения рассчитана правильно. Вычислим её на обучающей выборке для признака rougher.output.recovery. Найдем MAE между нашими расчётами и значением признака."
   ]
  },
  {
   "cell_type": "code",
   "execution_count": 17,
   "metadata": {},
   "outputs": [],
   "source": [
    "def recovery(row):\n",
    "    c = row['rougher.output.concentrate_au']\n",
    "    f = row['rougher.input.feed_au']\n",
    "    t = row['rougher.output.tail_au']\n",
    "    r = 100*((c*(f-t))/(f*(c-t)))   \n",
    "    return r"
   ]
  },
  {
   "cell_type": "code",
   "execution_count": 18,
   "metadata": {},
   "outputs": [],
   "source": [
    "mae_index = train['rougher.output.recovery'].notna()"
   ]
  },
  {
   "cell_type": "code",
   "execution_count": 19,
   "metadata": {},
   "outputs": [],
   "source": [
    "train['rougher.calculation.recovery'] = train.apply(recovery,axis=1)"
   ]
  },
  {
   "cell_type": "code",
   "execution_count": 20,
   "metadata": {},
   "outputs": [
    {
     "data": {
      "text/plain": [
       "9.73512347450521e-15"
      ]
     },
     "execution_count": 20,
     "metadata": {},
     "output_type": "execute_result"
    }
   ],
   "source": [
    "mean_absolute_error(train.loc[mae_index]['rougher.output.recovery'], train.loc[mae_index]['rougher.calculation.recovery'])"
   ]
  },
  {
   "cell_type": "markdown",
   "metadata": {},
   "source": [
    "MAE между нашими расчётами и значением признака мала, соответственно эффективность обогащения рассчитана правильно."
   ]
  },
  {
   "cell_type": "markdown",
   "metadata": {},
   "source": [
    "<div class=\"alert alert-success\"> ✅ \n",
    "<h3> Комментарий ревьюера v1</h3>\n",
    "\n",
    "Верно, полученное значение оказалось в достаточной степени маленьким, чтобы можно было утверждать о правильности рассчёта.\n",
    "\n"
   ]
  },
  {
   "cell_type": "markdown",
   "metadata": {},
   "source": [
    "## Анализ данных"
   ]
  },
  {
   "cell_type": "markdown",
   "metadata": {},
   "source": [
    "### Изменение концентрации металлов (Au, Ag, Pb) на различных этапах очистки. "
   ]
  },
  {
   "cell_type": "code",
   "execution_count": 21,
   "metadata": {},
   "outputs": [
    {
     "data": {
      "text/plain": [
       "rougher.input.feed_au                     8.266097\n",
       "rougher.output.concentrate_au            19.772000\n",
       "primary_cleaner.output.concentrate_au    32.119400\n",
       "final.output.concentrate_au              44.076513\n",
       "dtype: float64"
      ]
     },
     "execution_count": 21,
     "metadata": {},
     "output_type": "execute_result"
    }
   ],
   "source": [
    "concentrate_au = df[['rougher.input.feed_au', \n",
    "                     'rougher.output.concentrate_au', \n",
    "                     'primary_cleaner.output.concentrate_au', \n",
    "                     'final.output.concentrate_au']].mean()\n",
    "concentrate_au"
   ]
  },
  {
   "cell_type": "code",
   "execution_count": 22,
   "metadata": {},
   "outputs": [
    {
     "data": {
      "text/plain": [
       "rougher.input.feed_ag                     8.794927\n",
       "rougher.output.concentrate_ag            11.994759\n",
       "primary_cleaner.output.concentrate_ag     8.442408\n",
       "final.output.concentrate_ag               5.168385\n",
       "dtype: float64"
      ]
     },
     "execution_count": 22,
     "metadata": {},
     "output_type": "execute_result"
    }
   ],
   "source": [
    "concentrate_ag = df[['rougher.input.feed_ag', \n",
    "                     'rougher.output.concentrate_ag', \n",
    "                     'primary_cleaner.output.concentrate_ag', \n",
    "                     'final.output.concentrate_ag']].mean()\n",
    "concentrate_ag"
   ]
  },
  {
   "cell_type": "code",
   "execution_count": 23,
   "metadata": {},
   "outputs": [
    {
     "data": {
      "text/plain": [
       "rougher.input.feed_pb                    3.585473\n",
       "rougher.output.concentrate_pb            7.606272\n",
       "primary_cleaner.output.concentrate_pb    9.810373\n",
       "final.output.concentrate_pb              9.978819\n",
       "dtype: float64"
      ]
     },
     "execution_count": 23,
     "metadata": {},
     "output_type": "execute_result"
    }
   ],
   "source": [
    "concentrate_pb = df[['rougher.input.feed_pb', \n",
    "                     'rougher.output.concentrate_pb', \n",
    "                     'primary_cleaner.output.concentrate_pb', \n",
    "                     'final.output.concentrate_pb']].mean()\n",
    "concentrate_pb"
   ]
  },
  {
   "cell_type": "code",
   "execution_count": 24,
   "metadata": {},
   "outputs": [
    {
     "data": {
      "image/png": "[encoded data removed]",
      "text/plain": [
       "<Figure size 720x432 with 1 Axes>"
      ]
     },
     "metadata": {
      "needs_background": "light"
     },
     "output_type": "display_data"
    }
   ],
   "source": [
    "concentrate_au.plot(style='o-', label='Au')\n",
    "concentrate_ag.plot(style='o-', label='Ag') \n",
    "concentrate_pb.plot(figsize=(10, 6), grid=True, style='o-', label='Pb')\n",
    "\n",
    "plt.title('Изменения концентраций Ag, Pb, Au на этапах очистки')\n",
    "plt.legend()\n",
    "plt.show()"
   ]
  },
  {
   "cell_type": "markdown",
   "metadata": {},
   "source": [
    "Концентрация золота сильно увеличивается на всех этапах очистки, концентрация серебра падает, концентрация свинца увеличивается, но не так сильно, как концентрация золота."
   ]
  },
  {
   "cell_type": "markdown",
   "metadata": {},
   "source": [
    "<div class=\"alert alert-success\"> ✅ \n",
    "<h3> Комментарий ревьюера v1</h3>\n",
    "\n",
    "Все верно. Концентрация золота увеличивается, значит, мы на верном пути =)\n",
    "\n"
   ]
  },
  {
   "cell_type": "markdown",
   "metadata": {},
   "source": [
    "### Сравним распределения размеров гранул сырья на обучающей и тестовой выборках"
   ]
  },
  {
   "cell_type": "code",
   "execution_count": 25,
   "metadata": {},
   "outputs": [
    {
     "data": {
      "image/png": "[encoded data removed]",
      "text/plain": [
       "<Figure size 720x432 with 1 Axes>"
      ]
     },
     "metadata": {
      "needs_background": "light"
     },
     "output_type": "display_data"
    }
   ],
   "source": [
    "figure(figsize=(10, 6))\n",
    "ax = train['rougher.input.feed_size'].plot.kde(label='train')\n",
    "ax = test['rougher.input.feed_size'].plot.kde(label='test',ax=ax)\n",
    "plt.legend()\n",
    "plt.title('Распределение размеров гранул сырья на обучающей и тестовой выборках на этапе флотации')\n",
    "plt.show()"
   ]
  },
  {
   "cell_type": "code",
   "execution_count": 26,
   "metadata": {},
   "outputs": [
    {
     "data": {
      "image/png": "[encoded data removed]",
      "text/plain": [
       "<Figure size 720x432 with 1 Axes>"
      ]
     },
     "metadata": {
      "needs_background": "light"
     },
     "output_type": "display_data"
    }
   ],
   "source": [
    "figure(figsize=(10, 6))\n",
    "a = train['rougher.input.feed_size']\n",
    "b = test['rougher.input.feed_size']\n",
    "plt.hist(a, bins = 200, label='train', range=(30, 100), alpha=0.5, density=True)\n",
    "plt.hist(b, bins = 200, label='test',  range=(30, 100), alpha=0.5, density=True)\n",
    "plt.legend()\n",
    "plt.title('Распределение размеров гранул сырья на обучающей и тестовой выборках на этапе флотации')\n",
    "plt.show()"
   ]
  },
  {
   "cell_type": "code",
   "execution_count": 27,
   "metadata": {
    "scrolled": true
   },
   "outputs": [
    {
     "data": {
      "text/plain": [
       "count    14149.000000\n",
       "mean        60.097903\n",
       "std         23.023690\n",
       "min          9.659576\n",
       "25%         48.950593\n",
       "50%         55.269784\n",
       "75%         65.982466\n",
       "max        484.967466\n",
       "Name: rougher.input.feed_size, dtype: float64"
      ]
     },
     "execution_count": 27,
     "metadata": {},
     "output_type": "execute_result"
    }
   ],
   "source": [
    "train['rougher.input.feed_size'].describe()"
   ]
  },
  {
   "cell_type": "code",
   "execution_count": 28,
   "metadata": {},
   "outputs": [
    {
     "data": {
      "text/plain": [
       "count    5290.000000\n",
       "mean       55.952835\n",
       "std        19.080372\n",
       "min         0.046369\n",
       "25%        43.906504\n",
       "50%        50.846843\n",
       "75%        62.451165\n",
       "max       392.494040\n",
       "Name: rougher.input.feed_size, dtype: float64"
      ]
     },
     "execution_count": 28,
     "metadata": {},
     "output_type": "execute_result"
    }
   ],
   "source": [
    "test['rougher.input.feed_size'].describe()"
   ]
  },
  {
   "cell_type": "code",
   "execution_count": 29,
   "metadata": {},
   "outputs": [
    {
     "data": {
      "image/png": "[encoded data removed]",
      "text/plain": [
       "<Figure size 720x432 with 1 Axes>"
      ]
     },
     "metadata": {
      "needs_background": "light"
     },
     "output_type": "display_data"
    }
   ],
   "source": [
    "figure(figsize=(10, 6))\n",
    "ax = train['primary_cleaner.input.feed_size'].plot.kde(label='train')\n",
    "ax = test['primary_cleaner.input.feed_size'].plot.kde(label='test',ax=ax)\n",
    "plt.legend()\n",
    "plt.title('Распределение размеров гранул сырья на обучающей и тестовой выборках на этапе первичной очистки')\n",
    "plt.show()"
   ]
  },
  {
   "cell_type": "code",
   "execution_count": 30,
   "metadata": {},
   "outputs": [
    {
     "data": {
      "image/png": "[encoded data removed]",
      "text/plain": [
       "<Figure size 720x432 with 1 Axes>"
      ]
     },
     "metadata": {
      "needs_background": "light"
     },
     "output_type": "display_data"
    }
   ],
   "source": [
    "figure(figsize=(10, 6))\n",
    "a = train['primary_cleaner.input.feed_size']\n",
    "b = test['primary_cleaner.input.feed_size']\n",
    "plt.hist(a, bins = 200, label='train', range=(6, 9), alpha=0.5, density=True)\n",
    "plt.hist(b, bins = 200, label='test', range=(6, 9), alpha=0.5, density=True)\n",
    "plt.legend()\n",
    "plt.title('Распределение размеров гранул сырья на обучающей и тестовой выборках на этапе первичной очистки')\n",
    "plt.show()"
   ]
  },
  {
   "cell_type": "code",
   "execution_count": 31,
   "metadata": {},
   "outputs": [
    {
     "data": {
      "text/plain": [
       "count    14149.000000\n",
       "mean         7.322310\n",
       "std          0.614062\n",
       "min          1.080000\n",
       "25%          6.960000\n",
       "50%          7.290000\n",
       "75%          7.700000\n",
       "max         10.470000\n",
       "Name: primary_cleaner.input.feed_size, dtype: float64"
      ]
     },
     "execution_count": 31,
     "metadata": {},
     "output_type": "execute_result"
    }
   ],
   "source": [
    "train['primary_cleaner.input.feed_size'].describe()"
   ]
  },
  {
   "cell_type": "code",
   "execution_count": 32,
   "metadata": {},
   "outputs": [
    {
     "data": {
      "text/plain": [
       "count    5290.000000\n",
       "mean        7.266339\n",
       "std         0.610219\n",
       "min         5.650000\n",
       "25%         6.890000\n",
       "50%         7.250000\n",
       "75%         7.600000\n",
       "max        15.500000\n",
       "Name: primary_cleaner.input.feed_size, dtype: float64"
      ]
     },
     "execution_count": 32,
     "metadata": {},
     "output_type": "execute_result"
    }
   ],
   "source": [
    "test['primary_cleaner.input.feed_size'].describe()"
   ]
  },
  {
   "cell_type": "markdown",
   "metadata": {},
   "source": [
    "Распределение размеров гранул сырья на обучающей и тестовой выборках практически одинаково.\n",
    "\n",
    "На этапе флотации средние размеры гранул на обучающей выборке 60, на тестовой 56\n",
    "\n",
    "На этапе первичной очистки средние размеры 7.3, 7.2 соответственно"
   ]
  },
  {
   "cell_type": "markdown",
   "metadata": {},
   "source": [
    "<div class=\"alert alert-danger\"> ❌\n",
    "<h3> Комментарий ревьюера v1</h3>\n",
    "\n",
    "Да, они действительно похожи. Только было бы корректнее строить графики плотности, так как количество данных в train/test датасетах отличается. Например, с помощью `sns.distplot()` или же просто добавить `density=True` в параметры `plt.hist()`.\n"
   ]
  },
  {
   "cell_type": "markdown",
   "metadata": {},
   "source": [
    "<div class=\"alert alert-info\"> <b>Комментарий студента v1:</b> Исправлено, добавлено density=True. </div>"
   ]
  },
  {
   "cell_type": "markdown",
   "metadata": {},
   "source": [
    "<div class=\"alert alert-success\"> ✅ \n",
    "<h3> Комментарий ревьюера v2</h3>\n",
    "\n",
    "👍 "
   ]
  },
  {
   "cell_type": "markdown",
   "metadata": {},
   "source": [
    "### Исследуем суммарную концентрацию всех веществ на разных стадиях: в сырье, в черновом и финальном концентратах."
   ]
  },
  {
   "cell_type": "code",
   "execution_count": 140,
   "metadata": {},
   "outputs": [],
   "source": [
    "total = pd.DataFrame()\n",
    "total['rougher_input_feed'] = train['rougher.input.feed_au']+train['rougher.input.feed_ag']+train['rougher.input.feed_pb']\n",
    "total['rougher_output'] = train['rougher.output.concentrate_au']+train['rougher.output.concentrate_ag']+train['rougher.output.concentrate_pb']\n",
    "total['primary_cleaner_output'] = train['primary_cleaner.output.concentrate_au']+train['primary_cleaner.output.concentrate_ag']+train['primary_cleaner.output.concentrate_pb']\n",
    "total['final_output'] = train['final.output.concentrate_au']+train['final.output.concentrate_ag']+train['final.output.concentrate_pb']"
   ]
  },
  {
   "cell_type": "code",
   "execution_count": 141,
   "metadata": {},
   "outputs": [
    {
     "data": {
      "text/html": [
       "<div>\n",
       "<style scoped>\n",
       "    .dataframe tbody tr th:only-of-type {\n",
       "        vertical-align: middle;\n",
       "    }\n",
       "\n",
       "    .dataframe tbody tr th {\n",
       "        vertical-align: top;\n",
       "    }\n",
       "\n",
       "    .dataframe thead th {\n",
       "        text-align: right;\n",
       "    }\n",
       "</style>\n",
       "<table border=\"1\" class=\"dataframe\">\n",
       "  <thead>\n",
       "    <tr style=\"text-align: right;\">\n",
       "      <th></th>\n",
       "      <th>rougher_input_feed</th>\n",
       "      <th>rougher_output</th>\n",
       "      <th>primary_cleaner_output</th>\n",
       "      <th>final_output</th>\n",
       "    </tr>\n",
       "  </thead>\n",
       "  <tbody>\n",
       "    <tr>\n",
       "      <th>count</th>\n",
       "      <td>14149.000000</td>\n",
       "      <td>14149.000000</td>\n",
       "      <td>14149.000000</td>\n",
       "      <td>14149.000000</td>\n",
       "    </tr>\n",
       "    <tr>\n",
       "      <th>mean</th>\n",
       "      <td>19.951755</td>\n",
       "      <td>38.880325</td>\n",
       "      <td>50.156252</td>\n",
       "      <td>59.278554</td>\n",
       "    </tr>\n",
       "    <tr>\n",
       "      <th>std</th>\n",
       "      <td>4.430553</td>\n",
       "      <td>6.927062</td>\n",
       "      <td>7.958490</td>\n",
       "      <td>5.707729</td>\n",
       "    </tr>\n",
       "    <tr>\n",
       "      <th>min</th>\n",
       "      <td>0.030000</td>\n",
       "      <td>0.000000</td>\n",
       "      <td>0.000000</td>\n",
       "      <td>0.000000</td>\n",
       "    </tr>\n",
       "    <tr>\n",
       "      <th>25%</th>\n",
       "      <td>16.850944</td>\n",
       "      <td>37.925621</td>\n",
       "      <td>49.631769</td>\n",
       "      <td>59.201505</td>\n",
       "    </tr>\n",
       "    <tr>\n",
       "      <th>50%</th>\n",
       "      <td>19.179708</td>\n",
       "      <td>39.860389</td>\n",
       "      <td>51.792243</td>\n",
       "      <td>60.260341</td>\n",
       "    </tr>\n",
       "    <tr>\n",
       "      <th>75%</th>\n",
       "      <td>22.571605</td>\n",
       "      <td>41.796805</td>\n",
       "      <td>53.439969</td>\n",
       "      <td>61.054829</td>\n",
       "    </tr>\n",
       "    <tr>\n",
       "      <th>max</th>\n",
       "      <td>32.840164</td>\n",
       "      <td>55.568687</td>\n",
       "      <td>60.269003</td>\n",
       "      <td>64.968881</td>\n",
       "    </tr>\n",
       "  </tbody>\n",
       "</table>\n",
       "</div>"
      ],
      "text/plain": [
       "       rougher_input_feed  rougher_output  primary_cleaner_output  \\\n",
       "count        14149.000000    14149.000000            14149.000000   \n",
       "mean            19.951755       38.880325               50.156252   \n",
       "std              4.430553        6.927062                7.958490   \n",
       "min              0.030000        0.000000                0.000000   \n",
       "25%             16.850944       37.925621               49.631769   \n",
       "50%             19.179708       39.860389               51.792243   \n",
       "75%             22.571605       41.796805               53.439969   \n",
       "max             32.840164       55.568687               60.269003   \n",
       "\n",
       "       final_output  \n",
       "count  14149.000000  \n",
       "mean      59.278554  \n",
       "std        5.707729  \n",
       "min        0.000000  \n",
       "25%       59.201505  \n",
       "50%       60.260341  \n",
       "75%       61.054829  \n",
       "max       64.968881  "
      ]
     },
     "execution_count": 141,
     "metadata": {},
     "output_type": "execute_result"
    }
   ],
   "source": [
    "total.describe()"
   ]
  },
  {
   "cell_type": "code",
   "execution_count": 142,
   "metadata": {},
   "outputs": [
    {
     "data": {
      "image/png": "[encoded data removed]",
      "text/plain": [
       "<Figure size 720x432 with 1 Axes>"
      ]
     },
     "metadata": {
      "needs_background": "light"
     },
     "output_type": "display_data"
    }
   ],
   "source": [
    "figure(figsize=(10, 6))\n",
    "a = total['rougher_input_feed']\n",
    "b = total['rougher_output']\n",
    "c = total['primary_cleaner_output']\n",
    "d = total['final_output']\n",
    "plt.hist(a, bins = 200, label='Исходное сырье', alpha=0.5)\n",
    "plt.hist(b, bins = 200, label='Флотация', alpha=0.5)\n",
    "plt.hist(c, bins = 200, label='Первичная очистка', alpha=0.5)\n",
    "plt.hist(d, bins = 200, label='Финальная концентрация', alpha=0.5)\n",
    "plt.legend()\n",
    "plt.title('Концентрация всех веществ на основных этапах')\n",
    "plt.show()"
   ]
  },
  {
   "cell_type": "code",
   "execution_count": 143,
   "metadata": {},
   "outputs": [],
   "source": [
    "#figure(figsize=(10, 6))\n",
    "#a = train['rougher.input.feed_ag']\n",
    "#b = train['rougher.output.concentrate_ag']\n",
    "#c = train['primary_cleaner.output.concentrate_ag']\n",
    "#d = train['final.output.concentrate_ag']\n",
    "#plt.hist(a, bins = 200, label='Исходное сырье', alpha=0.5)\n",
    "#plt.hist(b, bins = 200, label='Флотация', alpha=0.5)\n",
    "#plt.hist(c, bins = 200, label='Первичная очистка', alpha=0.5)\n",
    "#plt.hist(d, bins = 200, label='Финальная концентрация', alpha=0.5)\n",
    "#plt.legend()\n",
    "#plt.title('Концентрация серебра на основных этапах')\n",
    "#plt.show()"
   ]
  },
  {
   "cell_type": "code",
   "execution_count": 144,
   "metadata": {},
   "outputs": [],
   "source": [
    "#figure(figsize=(10, 6))\n",
    "#a = train['rougher.input.feed_pb']\n",
    "#b = train['rougher.output.concentrate_pb']\n",
    "#c = train['primary_cleaner.output.concentrate_pb']\n",
    "#d = train['final.output.concentrate_pb']\n",
    "#plt.hist(a, bins = 200, label='Исходное сырье', alpha=0.5)\n",
    "#plt.hist(b, bins = 200, label='Флотация', alpha=0.5)\n",
    "#plt.hist(c, bins = 200, label='Первичная очистка', alpha=0.5)\n",
    "#plt.hist(d, bins = 200, label='Финальная концентрация', alpha=0.5)\n",
    "#plt.legend()\n",
    "#plt.title('Концентрация свинца на основных этапах')\n",
    "#plt.show()"
   ]
  },
  {
   "cell_type": "markdown",
   "metadata": {},
   "source": [
    "<div class=\"alert alert-danger\"> ❌\n",
    "<h3> Комментарий ревьюера v1</h3>\n",
    "\n",
    "В задании требуется следующее: Исследуйте суммарную концентрацию всех веществ на разных стадиях: в сырье, в черновом и финальном концентратах.\n",
    "    \n",
    "\n",
    "в сырье — это столбец rougher.input.feed_\n",
    "\n",
    "в черновом концентрате - это столбец rougher.output.concentrate_\n",
    "\n",
    "в финальном концентрате - это столбец final.output.concentrate_ ",
    "\n",
    "\n",
    "Здесь же ты не исследуешь суммарную концетрацию"
   ]
  },
  {
   "cell_type": "markdown",
   "metadata": {},
   "source": [
    "<div class=\"alert alert-info\"> <b>Комментарий студента v1:</b> Исправлено. </div>"
   ]
  },
  {
   "cell_type": "markdown",
   "metadata": {},
   "source": [
    "<div class=\"alert alert-success\"> ✅ \n",
    "<h3> Комментарий ревьюера v2</h3>\n",
    "\n",
    "Хорошо"
   ]
  },
  {
   "cell_type": "markdown",
   "metadata": {},
   "source": [
    "Везде видим выбросы на отметке 0, удалим их.\n",
    "\n",
    "После финальной очистки можно наблюдать наибольшее количество вещества."
   ]
  },
  {
   "cell_type": "markdown",
   "metadata": {},
   "source": [
    "### Удаление нулевых выбросов"
   ]
  },
  {
   "cell_type": "code",
   "execution_count": 145,
   "metadata": {},
   "outputs": [
    {
     "data": {
      "text/plain": [
       "(18435, 86)"
      ]
     },
     "execution_count": 145,
     "metadata": {},
     "output_type": "execute_result"
    }
   ],
   "source": [
    "df = df[(df['rougher.input.feed_ag'] >= 1) &\n",
    "            (df['rougher.input.feed_pb'] >= 1) &\n",
    "            (df['rougher.input.feed_sol'] >= 1) &\n",
    "            (df['rougher.input.feed_au'] >= 1) &\n",
    "            (df['rougher.output.concentrate_ag'] >= 1) &\n",
    "            (df['rougher.output.concentrate_pb'] >= 1) &\n",
    "            (df['rougher.output.concentrate_sol'] >= 1) &\n",
    "            (df['rougher.output.concentrate_au'] >= 1) &\n",
    "            (df['rougher.output.recovery'] >= 1) &\n",
    "            (df['rougher.output.recovery'] >= 1) &\n",
    "            (df['primary_cleaner.output.concentrate_ag'] >= 1) &\n",
    "            (df['primary_cleaner.output.concentrate_pb'] >= 1) &\n",
    "            (df['primary_cleaner.output.concentrate_sol'] >= 1) &\n",
    "            (df['primary_cleaner.output.concentrate_au'] >= 1) &\n",
    "            (df['final.output.concentrate_ag'] >= 1) &\n",
    "            (df['final.output.concentrate_pb'] >= 1) &\n",
    "            (df['final.output.concentrate_sol'] >= 1) &\n",
    "            (df['final.output.concentrate_au'] >= 1)]\n",
    "df.shape"
   ]
  },
  {
   "cell_type": "code",
   "execution_count": 146,
   "metadata": {},
   "outputs": [
    {
     "data": {
      "text/plain": [
       "(13344, 87)"
      ]
     },
     "execution_count": 146,
     "metadata": {},
     "output_type": "execute_result"
    }
   ],
   "source": [
    "train = train[(train['rougher.input.feed_ag'] >= 1) &\n",
    "            (train['rougher.input.feed_pb'] >= 1) &\n",
    "            (train['rougher.input.feed_sol'] >= 1) &\n",
    "            (train['rougher.input.feed_au'] >= 1) &\n",
    "            (train['rougher.output.concentrate_ag'] >= 1) &\n",
    "            (train['rougher.output.concentrate_pb'] >= 1) &\n",
    "            (train['rougher.output.concentrate_sol'] >= 1) &\n",
    "            (train['rougher.output.concentrate_au'] >= 1) &\n",
    "            (train['rougher.output.recovery'] >= 1) &\n",
    "            (train['rougher.output.recovery'] >= 1) &\n",
    "            (train['primary_cleaner.output.concentrate_ag'] >= 1) &\n",
    "            (train['primary_cleaner.output.concentrate_pb'] >= 1) &\n",
    "            (train['primary_cleaner.output.concentrate_sol'] >= 1) &\n",
    "            (train['primary_cleaner.output.concentrate_au'] >= 1) &\n",
    "            (train['final.output.concentrate_ag'] >= 1) &\n",
    "            (train['final.output.concentrate_pb'] >= 1) &\n",
    "            (train['final.output.concentrate_sol'] >= 1) &\n",
    "            (train['final.output.concentrate_au'] >= 1)]\n",
    "train.shape"
   ]
  },
  {
   "cell_type": "code",
   "execution_count": 147,
   "metadata": {},
   "outputs": [
    {
     "data": {
      "text/plain": [
       "(5180, 54)"
      ]
     },
     "execution_count": 147,
     "metadata": {},
     "output_type": "execute_result"
    }
   ],
   "source": [
    "test = test[(test['rougher.input.feed_ag'] >= 1) &\n",
    "            (test['rougher.input.feed_pb'] >= 1) &\n",
    "            (test['rougher.input.feed_sol'] >= 1) &\n",
    "            (test['rougher.input.feed_au'] >= 1) &\n",
    "            (test['rougher.output.recovery'] >= 1) &\n",
    "            (test['rougher.output.recovery'] >= 1)]\n",
    "test.shape"
   ]
  },
  {
   "cell_type": "markdown",
   "metadata": {},
   "source": []
  },
  {
   "cell_type": "markdown",
   "metadata": {},
   "source": [
    "## Модель"
   ]
  },
  {
   "cell_type": "code",
   "execution_count": 148,
   "metadata": {
    "scrolled": true
   },
   "outputs": [
    {
     "data": {
      "text/plain": [
       "{'final.output.concentrate_ag',\n",
       " 'final.output.concentrate_au',\n",
       " 'final.output.concentrate_pb',\n",
       " 'final.output.concentrate_sol',\n",
       " 'final.output.tail_ag',\n",
       " 'final.output.tail_au',\n",
       " 'final.output.tail_pb',\n",
       " 'final.output.tail_sol',\n",
       " 'primary_cleaner.output.concentrate_ag',\n",
       " 'primary_cleaner.output.concentrate_au',\n",
       " 'primary_cleaner.output.concentrate_pb',\n",
       " 'primary_cleaner.output.concentrate_sol',\n",
       " 'primary_cleaner.output.tail_ag',\n",
       " 'primary_cleaner.output.tail_au',\n",
       " 'primary_cleaner.output.tail_pb',\n",
       " 'primary_cleaner.output.tail_sol',\n",
       " 'rougher.calculation.au_pb_ratio',\n",
       " 'rougher.calculation.floatbank10_sulfate_to_au_feed',\n",
       " 'rougher.calculation.floatbank11_sulfate_to_au_feed',\n",
       " 'rougher.calculation.recovery',\n",
       " 'rougher.calculation.sulfate_to_au_concentrate',\n",
       " 'rougher.output.concentrate_ag',\n",
       " 'rougher.output.concentrate_au',\n",
       " 'rougher.output.concentrate_pb',\n",
       " 'rougher.output.concentrate_sol',\n",
       " 'rougher.output.tail_ag',\n",
       " 'rougher.output.tail_au',\n",
       " 'rougher.output.tail_pb',\n",
       " 'rougher.output.tail_sol',\n",
       " 'secondary_cleaner.output.tail_ag',\n",
       " 'secondary_cleaner.output.tail_au',\n",
       " 'secondary_cleaner.output.tail_pb',\n",
       " 'secondary_cleaner.output.tail_sol'}"
      ]
     },
     "execution_count": 148,
     "metadata": {},
     "output_type": "execute_result"
    }
   ],
   "source": [
    "mis_col = set(train.columns) - set(test.columns)\n",
    "mis_col"
   ]
  },
  {
   "cell_type": "markdown",
   "metadata": {},
   "source": [
    "В тренировочной выборке есть признаки, отсутствующие в тестовой выборке, в основном это выходы вещества и подсчитанные характеристики, их стоит удалить для дальнейшего построения модели."
   ]
  },
  {
   "cell_type": "code",
   "execution_count": 149,
   "metadata": {},
   "outputs": [
    {
     "name": "stdout",
     "output_type": "stream",
     "text": [
      "Количество лишних признаков в тренировочной выборке: 33\n"
     ]
    }
   ],
   "source": [
    "print('Количество лишних признаков в тренировочной выборке:', train[mis_col].shape[1])"
   ]
  },
  {
   "cell_type": "code",
   "execution_count": 150,
   "metadata": {},
   "outputs": [
    {
     "data": {
      "text/plain": [
       "(13344, 54)"
      ]
     },
     "execution_count": 150,
     "metadata": {},
     "output_type": "execute_result"
    }
   ],
   "source": [
    "train = train.drop(columns=mis_col, axis=1)\n",
    "train.shape"
   ]
  },
  {
   "cell_type": "markdown",
   "metadata": {},
   "source": [
    "Функция для вычисления sMAPE"
   ]
  },
  {
   "cell_type": "code",
   "execution_count": 151,
   "metadata": {},
   "outputs": [],
   "source": [
    "def smape(target, predict):\n",
    "    s = (1/len(target))*np.sum((np.abs(target-predict))/((np.abs(target)+np.abs(predict))/2))*100\n",
    "    return s"
   ]
  },
  {
   "cell_type": "code",
   "execution_count": 152,
   "metadata": {},
   "outputs": [],
   "source": [
    "smape_scorer = make_scorer(smape, greater_is_better = False)"
   ]
  },
  {
   "cell_type": "markdown",
   "metadata": {},
   "source": [
    "<div class=\"alert alert-success\"> ✅ \n",
    "<h3> Комментарий ревьюера v1</h3>\n",
    "\n",
    "1) Хорошо, что делаешь все рассчеты векторно, а не в цикле. Иначе это будет занимать достаточно много времени. Если интересно, то вот статья про векторизацию в пандас:\n",
    "\n",
    "https://medium.com/nuances-of-programming/%D1%8D%D1%84%D1%84%D0%B5%D0%BA%D1%82%D0%B8%D0%B2%D0%BD%D0%BE%D0%B5-%D0%B8%D1%82%D0%B5%D1%80%D0%B8%D1%80%D0%BE%D0%B2%D0%B0%D0%BD%D0%B8%D0%B5-%D0%BF%D0%BE-%D1%81%D1%82%D1%80%D0%BE%D0%BA%D0%B0%D0%BC-%D0%B2-pandas-dataframe-43aa7d2588cb\n",
    "    \n",
    "2) `greater_is_better=False` - отлично! Обычно забывают, что нам нужно минимизировать функцию, а дефолтно она максимизируется=)\n",
    "\n",
    "\n",
    "<div class=\"alert alert-warning\"> ⚠️\n",
    "\n",
    "Немного про кастомный скоринг и параметр `greater_is_better=False` в `make_scorer` : вот очень хорошая статья - https://kiwidamien.github.io/custom-loss-vs-custom-scoring.html\n",
    "    \n",
    "Если кратко, то твой результат при использовании cross_val_score со своей метрикой и флагом `greater_is_better=False` остается таким же, только с отрицательным значением (знак минус - особенность библиотечной реализации скорера, можно брать значения по модулю), так как есть метрика (по которой мы выбираем модель) и есть лосс (по которой обучается модель). Так вот make_scorer создает метрику из лосса, по которой ты выбираешь лучшую модель, но сама модель будет обучаться по встроенной функции потерь (скорее всего MSE), так что это нужно только для выбора модели. Просто принято ставить флаг greater_is_better=False для метрик, которые являются лоссами (не все метрики лоссы, например, recall, precision и тп).\n",
    "    \n",
    "НО если ты используешься гридсерч, то `greater_is_better=False` нужно указывать обязательно, так как best_estimator_ выбирает лучшую модель по метрике уже самостоятельно =)\n",
    "\n",
    "\n"
   ]
  },
  {
   "cell_type": "markdown",
   "metadata": {},
   "source": [
    "Итоговое sMAPE"
   ]
  },
  {
   "cell_type": "code",
   "execution_count": 180,
   "metadata": {},
   "outputs": [],
   "source": [
    "def final_smape(rougher, final):\n",
    "    fs = 0.25 * rougher + 0.75 * final\n",
    "    return fs"
   ]
  },
  {
   "cell_type": "markdown",
   "metadata": {},
   "source": [
    "Подготовим данные для модели"
   ]
  },
  {
   "cell_type": "code",
   "execution_count": 154,
   "metadata": {},
   "outputs": [
    {
     "name": "stdout",
     "output_type": "stream",
     "text": [
      "(13344, 52)\n",
      "(13344,)\n",
      "(13344,)\n"
     ]
    }
   ],
   "source": [
    "features_train = train.drop(['rougher.output.recovery','final.output.recovery'], axis=1)\n",
    "target_rougher_train = train['rougher.output.recovery']\n",
    "target_final_train = train['final.output.recovery']\n",
    "print(features_train.shape)\n",
    "print(target_rougher_train.shape)\n",
    "print(target_final_train.shape)"
   ]
  },
  {
   "cell_type": "code",
   "execution_count": 155,
   "metadata": {},
   "outputs": [
    {
     "name": "stdout",
     "output_type": "stream",
     "text": [
      "(5180, 52)\n",
      "(5180,)\n",
      "(5180,)\n"
     ]
    }
   ],
   "source": [
    "features_test = test.drop(['rougher.output.recovery','final.output.recovery'], axis=1)\n",
    "target_rougher_test = test['rougher.output.recovery']\n",
    "target_final_test = test['final.output.recovery']\n",
    "print(features_test.shape)\n",
    "print(target_rougher_test.shape)\n",
    "print(target_final_test.shape)"
   ]
  },
  {
   "cell_type": "markdown",
   "metadata": {},
   "source": [
    "Оптимизация"
   ]
  },
  {
   "cell_type": "code",
   "execution_count": 156,
   "metadata": {},
   "outputs": [],
   "source": [
    "model_rf = make_pipeline(StandardScaler(), RandomForestRegressor())\n",
    "\n",
    "model_dt = make_pipeline(StandardScaler(), DecisionTreeRegressor())\n",
    "\n",
    "model_lr = make_pipeline(StandardScaler(), LinearRegression())"
   ]
  },
  {
   "cell_type": "markdown",
   "metadata": {},
   "source": [
    "Параметры"
   ]
  },
  {
   "cell_type": "code",
   "execution_count": 157,
   "metadata": {},
   "outputs": [],
   "source": [
    "param_rf = {'randomforestregressor__n_estimators':[10, 100, 10],\n",
    "                  'randomforestregressor__max_depth':[1, 10],\n",
    "                  'randomforestregressor__random_state':[12345]}\n",
    "\n",
    "param_dt = {'decisiontreeregressor__max_depth':[1,10]}\n",
    "\n",
    "param_lr = {'linearregression__normalize':[False]}\n"
   ]
  },
  {
   "cell_type": "markdown",
   "metadata": {},
   "source": [
    "Перебор гиперпараметров и кросс-валидация"
   ]
  },
  {
   "cell_type": "code",
   "execution_count": 158,
   "metadata": {},
   "outputs": [],
   "source": [
    "grid_rougher_rf = GridSearchCV(model_rf, param_grid=param_rf, cv=5, scoring=smape_scorer)\n",
    "grid_final_rf = GridSearchCV(model_rf, param_grid=param_rf, cv=5, scoring=smape_scorer)\n",
    "\n",
    "grid_rougher_dt = GridSearchCV(model_dt, param_grid=param_dt, cv=5, scoring=smape_scorer)\n",
    "grid_final_dt = GridSearchCV(model_dt, param_grid=param_dt, cv=5, scoring=smape_scorer)\n",
    "\n",
    "grid_rougher_lr = GridSearchCV(model_lr, param_grid=param_lr,  scoring=smape_scorer)\n",
    "grid_final_lr = GridSearchCV(model_lr, param_grid=param_lr, scoring=smape_scorer)"
   ]
  },
  {
   "cell_type": "markdown",
   "metadata": {},
   "source": [
    "<div class=\"alert alert-warning\"> ⚠️\n",
    "<h3> Комментарий ревьюера v1</h3>\n",
    "\n",
    "Обычный GridSearchCV довольно долго делает расчеты, так как проверяет все комбинации. На практике обычно какие-то параметры сильно важнее других, поэтому по ним нет особого смысла итерироваться, поэтому рекомендую использовать RandomizedSearchCV. Скорее всего ты немного просядешь по метрикам, зато сильно выиграешь в скорости обучения. А еще очень советую изучить, как работать с либой optuna для подбора параметров\n",
    "\n"
   ]
  },
  {
   "cell_type": "markdown",
   "metadata": {},
   "source": [
    "Обучение моделей"
   ]
  },
  {
   "cell_type": "code",
   "execution_count": 159,
   "metadata": {},
   "outputs": [
    {
     "name": "stdout",
     "output_type": "stream",
     "text": [
      "CPU times: user 1.61 s, sys: 2.03 s, total: 3.64 s\n",
      "Wall time: 3.58 s\n"
     ]
    },
    {
     "data": {
      "text/plain": [
       "GridSearchCV(estimator=Pipeline(steps=[('standardscaler', StandardScaler()),\n",
       "                                       ('linearregression',\n",
       "                                        LinearRegression())]),\n",
       "             param_grid={'linearregression__normalize': [False]},\n",
       "             scoring=make_scorer(smape, greater_is_better=False))"
      ]
     },
     "execution_count": 159,
     "metadata": {},
     "output_type": "execute_result"
    }
   ],
   "source": [
    "%%time\n",
    "grid_rougher_lr.fit(features_train, target_rougher_train)\n",
    "grid_final_lr.fit(features_train, target_final_train)"
   ]
  },
  {
   "cell_type": "code",
   "execution_count": 160,
   "metadata": {},
   "outputs": [
    {
     "name": "stdout",
     "output_type": "stream",
     "text": [
      "{'linearregression__normalize': False}\n",
      "{'linearregression__normalize': False}\n"
     ]
    }
   ],
   "source": [
    "print(grid_rougher_lr.best_params_)\n",
    "print(grid_final_lr.best_params_)"
   ]
  },
  {
   "cell_type": "code",
   "execution_count": 161,
   "metadata": {},
   "outputs": [
    {
     "name": "stdout",
     "output_type": "stream",
     "text": [
      "CPU times: user 5.9 s, sys: 27.3 ms, total: 5.93 s\n",
      "Wall time: 5.93 s\n"
     ]
    },
    {
     "data": {
      "text/plain": [
       "GridSearchCV(cv=5,\n",
       "             estimator=Pipeline(steps=[('standardscaler', StandardScaler()),\n",
       "                                       ('decisiontreeregressor',\n",
       "                                        DecisionTreeRegressor())]),\n",
       "             param_grid={'decisiontreeregressor__max_depth': [1, 10]},\n",
       "             scoring=make_scorer(smape, greater_is_better=False))"
      ]
     },
     "execution_count": 161,
     "metadata": {},
     "output_type": "execute_result"
    }
   ],
   "source": [
    "%%time\n",
    "grid_rougher_dt.fit(features_train, target_rougher_train)\n",
    "grid_final_dt.fit(features_train, target_final_train)"
   ]
  },
  {
   "cell_type": "code",
   "execution_count": 162,
   "metadata": {},
   "outputs": [
    {
     "name": "stdout",
     "output_type": "stream",
     "text": [
      "{'decisiontreeregressor__max_depth': 1}\n",
      "{'decisiontreeregressor__max_depth': 1}\n"
     ]
    }
   ],
   "source": [
    "print(grid_rougher_dt.best_params_)\n",
    "print(grid_final_dt.best_params_)"
   ]
  },
  {
   "cell_type": "code",
   "execution_count": 163,
   "metadata": {},
   "outputs": [
    {
     "name": "stdout",
     "output_type": "stream",
     "text": [
      "CPU times: user 7min 49s, sys: 902 ms, total: 7min 50s\n",
      "Wall time: 7min 51s\n"
     ]
    },
    {
     "data": {
      "text/plain": [
       "GridSearchCV(cv=5,\n",
       "             estimator=Pipeline(steps=[('standardscaler', StandardScaler()),\n",
       "                                       ('randomforestregressor',\n",
       "                                        RandomForestRegressor())]),\n",
       "             param_grid={'randomforestregressor__max_depth': [1, 10],\n",
       "                         'randomforestregressor__n_estimators': [10, 100, 10],\n",
       "                         'randomforestregressor__random_state': [12345]},\n",
       "             scoring=make_scorer(smape, greater_is_better=False))"
      ]
     },
     "execution_count": 163,
     "metadata": {},
     "output_type": "execute_result"
    }
   ],
   "source": [
    "%%time\n",
    "\n",
    "grid_rougher_rf.fit(features_train, target_rougher_train)\n",
    "grid_final_rf.fit(features_train, target_final_train)"
   ]
  },
  {
   "cell_type": "code",
   "execution_count": 164,
   "metadata": {},
   "outputs": [
    {
     "name": "stdout",
     "output_type": "stream",
     "text": [
      "{'randomforestregressor__max_depth': 10, 'randomforestregressor__n_estimators': 100, 'randomforestregressor__random_state': 12345}\n",
      "{'randomforestregressor__max_depth': 10, 'randomforestregressor__n_estimators': 100, 'randomforestregressor__random_state': 12345}\n"
     ]
    }
   ],
   "source": [
    "print(grid_rougher_rf.best_params_)\n",
    "print(grid_final_rf.best_params_)"
   ]
  },
  {
   "cell_type": "code",
   "execution_count": 165,
   "metadata": {},
   "outputs": [
    {
     "name": "stdout",
     "output_type": "stream",
     "text": [
      "rougher\n",
      "\n",
      "LinearRegression -7.122851390141767\n",
      "DecisionTreeRegressor -7.795956855121017\n",
      "RandomForestRegressor -6.722936941567515\n",
      "\n",
      "final\n",
      "\n",
      "LinearRegression -10.678586472146145\n",
      "DecisionTreeRegressor -9.241266658023005\n",
      "RandomForestRegressor -9.070875839994319\n"
     ]
    }
   ],
   "source": [
    "best_score_rougher_lr = grid_rougher_lr.best_score_\n",
    "best_score_final_lr = grid_final_lr.best_score_\n",
    "\n",
    "best_score_rougher_dt = grid_rougher_dt.best_score_\n",
    "best_score_final_dt = grid_final_dt.best_score_\n",
    "\n",
    "best_score_rougher_rf = grid_rougher_rf.best_score_\n",
    "best_score_final_rf = grid_final_rf.best_score_\n",
    "\n",
    "print('rougher\\n')\n",
    "print('LinearRegression', best_score_rougher_lr)\n",
    "print('DecisionTreeRegressor', best_score_rougher_dt)\n",
    "print('RandomForestRegressor', best_score_rougher_rf)\n",
    "\n",
    "print('\\nfinal\\n')\n",
    "print('LinearRegression', best_score_final_lr)\n",
    "print('DecisionTreeRegressor', best_score_final_dt)\n",
    "print('RandomForestRegressor', best_score_final_rf)\n",
    "\n"
   ]
  },
  {
   "cell_type": "code",
   "execution_count": 166,
   "metadata": {},
   "outputs": [
    {
     "name": "stdout",
     "output_type": "stream",
     "text": [
      "LinearRegression итоговое sMAPE -9.789652701645052\n",
      "DecisionTreeRegressor итоговое sMAPE -8.879939207297507\n",
      "RandomForestRegressor итоговое sMAPE -8.483891115387618\n"
     ]
    }
   ],
   "source": [
    "print('LinearRegression итоговое sMAPE', final_smape(best_score_rougher_lr, best_score_final_lr))\n",
    "print('DecisionTreeRegressor итоговое sMAPE', final_smape(best_score_rougher_dt, best_score_final_dt))\n",
    "print('RandomForestRegressor итоговое sMAPE', final_smape(best_score_rougher_rf, best_score_final_rf))"
   ]
  },
  {
   "cell_type": "markdown",
   "metadata": {},
   "source": [
    "<div class=\"alert alert-warning\"> ⚠️\n",
    "<h3> Комментарий ревьюера v1</h3>\n",
    "\n",
    "Я бы для такой задачки еще использовал catboost. Советую почитать-поразбираться, как эта штука запускается. Примерно так же, как рандом форест, на самом деле. И еще он может \"съесть\" категориальные фичи (например, страну и тп). Оставлю ссылочку на статью на Хабре:\n",
    "https://habr.com/ru/company/otus/blog/527554/\n",
    "\n",
    "Еще можно попробовать регрессионые модели с регуляризацией: Ridge, Lasso. Они отличаются только тем, что у одной модели L1, а у второй L2 регуляризация. И еще есть ElasticNet с комбинацией L1 и L2. Можешь подробнее почитать о них и в целом о линейных моделях в учебнике по МЛ от ШАД вот в этой главе: \n",
    "    \n",
    "https://academy.yandex.ru/handbook/ml/article/linear-models\n"
   ]
  },
  {
   "cell_type": "code",
   "execution_count": 181,
   "metadata": {},
   "outputs": [
    {
     "name": "stdout",
     "output_type": "stream",
     "text": [
      "sMAPE на тестовой выборке 8.134300074205182\n"
     ]
    }
   ],
   "source": [
    "rougher_test = grid_rougher_rf.predict(features_test) \n",
    "final_test = grid_final_rf.predict(features_test)\n",
    "\n",
    "rougher_smape_test = smape(target_rougher_test, rougher_test)\n",
    "final_smape_test = smape(target_final_test, final_test)\n",
    "\n",
    "final_smape_rf = final_smape(rougher_smape_test, final_smape_test)\n",
    "print('sMAPE на тестовой выборке', final_smape_rf)"
   ]
  },
  {
   "cell_type": "code",
   "execution_count": 178,
   "metadata": {},
   "outputs": [
    {
     "name": "stdout",
     "output_type": "stream",
     "text": [
      "<class 'numpy.float64'>\n",
      "<class 'numpy.float64'>\n"
     ]
    }
   ],
   "source": [
    "print(type(rougher_smape_test))\n",
    "print(type(final_smape_test))"
   ]
  },
  {
   "cell_type": "code",
   "execution_count": 168,
   "metadata": {},
   "outputs": [
    {
     "data": {
      "image/png": "[encoded data removed]",
      "text/plain": [
       "<Figure size 720x432 with 1 Axes>"
      ]
     },
     "metadata": {
      "needs_background": "light"
     },
     "output_type": "display_data"
    }
   ],
   "source": [
    "figure(figsize=(10, 6))\n",
    "a = rougher_test\n",
    "b = target_rougher_test\n",
    "\n",
    "plt.hist(a, bins = 300, label='Predict', alpha=0.5, range=(60, 100))\n",
    "plt.hist(b, bins = 300, label='Actual', alpha=0.5, range=(60, 100))\n",
    "\n",
    "plt.legend()\n",
    "plt.title('Predict vs Actual')\n",
    "plt.show()"
   ]
  },
  {
   "cell_type": "code",
   "execution_count": 183,
   "metadata": {},
   "outputs": [
    {
     "name": "stdout",
     "output_type": "stream",
     "text": [
      "sMAPE dummy-модели 8.728354462727209\n"
     ]
    }
   ],
   "source": [
    "dummy_rougher = DummyRegressor(strategy='mean').fit(features_train, target_rougher_train)\n",
    "rougher = dummy_rougher.predict(features_test)\n",
    "\n",
    "dummy_final = DummyRegressor(strategy='mean').fit(features_train, target_final_train)\n",
    "final = dummy_final.predict(features_test)\n",
    "\n",
    "rougher_s = smape(target_rougher_test, rougher)\n",
    "final_s = smape(target_final_test, final)\n",
    "\n",
    "\n",
    "print('sMAPE dummy-модели', final_smape(rougher_s, final_s)) \n"
   ]
  },
  {
   "cell_type": "markdown",
   "metadata": {},
   "source": [
    "<div class=\"alert alert-success\"> ✅ \n",
    "<h3> Комментарий ревьюера v1</h3>\n",
    "\n",
    "Здорово, что сравниваешь модель с константной! Из одного значения метрики не ясно, насколько адекватны предсказания моделей\n"
   ]
  },
  {
   "cell_type": "markdown",
   "metadata": {},
   "source": [
    "<div class=\"alert alert-info\">Привет!\n",
    "<p>Подскажи, пожалуйста, почему не работает       print(final_smape(rougher_smape, final_smape))?<p>\n",
    "<p>Выдает ошибку 'numpy.float64' object is not callable</p>\n",
    "</div>"
   ]
  },
  {
   "cell_type": "markdown",
   "metadata": {},
   "source": [
    "\n",
    "<div class=\"alert alert-success\"> ✅ \n",
    "<h3> Комментарий ревьюера v1</h3>\n",
    "\n",
    "Я не скажу в чем проблема, но скажу как ее обнаружить =) У тебя эта функция уже вызывалась и отрабатывала корректно, но в послдений раз упала с ошибкой. Значит что-то не так с типом данных скорее всего. Проверь тип данных в тех случаях, когда функция работала верно и в случае с ошибкой."
   ]
  },
  {
   "cell_type": "markdown",
   "metadata": {},
   "source": [
    "<div class=\"alert alert-info\"> <b>Комментарий студента v1:</b> Исправлено. Переменную перезаписала случайно </div>"
   ]
  },
  {
   "cell_type": "markdown",
   "metadata": {},
   "source": [
    "## Вывод"
   ]
  },
  {
   "cell_type": "markdown",
   "metadata": {},
   "source": [
    "<div class=\"paragraph\">В нашем распоряжении сырые данные с параметрами добычи и очистки золотосодержащей руды.</div>\n",
    "<div class=\"paragraph\">Данные находятся в трёх файлах:</div>\n",
    "<ul>\n",
    "<li><code class=\"code-inline code-inline_theme_light\">gold_recovery_train_new.csv</code> &mdash; обучающая выборка;</li>\n",
    "<li><code class=\"code-inline code-inline_theme_light\">gold_recovery_test_new.csv</code> &mdash; тестовая выборка;</li>\n",
    "<li><code class=\"code-inline code-inline_theme_light\">gold_recovery_full_new.csv</code> &mdash; исходные данные.</li>\n",
    "</ul>\n",
    "\n",
    "\n",
    "\n",
    "<p>В ходе предобработки данных были загружены 3 датасета с индексами по столбцу date.</p>\n",
    "<p>Дубликаты не выявлены.</p>\n",
    "<p>Обнаруженные пропущенные значения были восстановлены c помощью процесса интерполяции.</p>\n",
    "<p>Было выявлено, что в наборе данных test отсутствуют 34 признака, имеющиеся в train, из них: 4 признака с подсчетами, остальные типа output.&nbsp;</p>\n",
    "<p>Целевые признаки: <code>rougher.output.recovery</code>&nbsp;и&nbsp;<code>final.output.recovery</code> были добавлены в test.</p>\n",
    "<p>Была проведена проверка расчета эффективности обогащения, MAE между нашими расчётами и значением признака мала (9.73512347450521e-15), соответственно эффективность обогащения рассчитана правильно.</p>\n",
    "<p>&nbsp;</p>\n",
    "\n",
    "<p>В ходе анализа данных были рассмотрены изменения концентрации металлов (Au, Ag, Pb) на различных этапах очистки:</p>\n",
    "<ul>\n",
    "<li>концентрация золота сильно увеличивается на всех этапах очистки,</li>\n",
    "<li>концентрация серебра падает,</li>\n",
    "<li>концентрация свинца увеличивается, но не так сильно, как концентрация золота.</li>\n",
    "</ul>\n",
    "<p>При сравнии распределения размеров гранул сырья на обучающей и тестовой выборках было установлено, что распределения размеров гранул сырья на обучающей и тестовой выборках практически одинаково. На этапе флотации средние размеры гранул на обучающей выборке 60, на тестовой 56. На этапе первичной очистки средние размеры 7.3, 7.2 соответственно.</p>\n",
    "<p>Исследовав суммарную концентрацию всех веществ на разных стадиях, было выявлено наибольшее количество вещества после финальной очистки. Также, были обнаружены выбросы на нолевой отметке, которые были устранены.<p>&nbsp;</p>\n",
    "\n",
    "\n",
    "<p>Для построения моделей машинного обучения были удалены признаки, отсутствующие в тестовой выборке.</p>\n",
    "<p>Были написаны функции для вычисления sMAPE и итогового sMAPE.</p>\n",
    "<p>При помощи GridSearchCV был произведен подбор гипрепараметров моделей линейной регрессии, дерева решений и случайного леса.</p>\n",
    "<p>Наилучшие результаты на тренировочной выборке показала модель случайного леса, sMAPE = -8.483891115387618</p>\n",
    "<p>sMAPE на тестовой выборке 8.134300074205182</p>\n",
    "<p>sMAPE dummy-модели 8.728354462727209</p>\n",
    "<p>sMAPE на тестовой выборке лучше метрики dummy-модели, модель случайного леса можно с натяжкой назвать удачной и отправить в продакшн.</p>\n",
    "<p>&nbsp;</p>"
   ]
  },
  {
   "cell_type": "markdown",
   "metadata": {},
   "source": [
    "## Чек-лист готовности проекта"
   ]
  },
  {
   "cell_type": "markdown",
   "metadata": {},
   "source": [
    "- [x]  Jupyter Notebook открыт\n",
    "- [x]  Весь код выполняется без ошибок\n",
    "- [x]  Ячейки с кодом расположены в порядке выполнения\n",
    "- [x]  Выполнен шаг 1: данные подготовлены\n",
    "    - [x]  Проверена формула вычисления эффективности обогащения\n",
    "    - [x]  Проанализированы признаки, недоступные в тестовой выборке\n",
    "    - [x]  Проведена предобработка данных\n",
    "- [x]  Выполнен шаг 2: данные проанализированы\n",
    "    - [x]  Исследовано изменение концентрации элементов на каждом этапе\n",
    "    - [x]  Проанализированы распределения размеров гранул на обучающей и тестовой выборках\n",
    "    - [x]  Исследованы суммарные концентрации\n",
    "- [x]  Выполнен шаг 3: построена модель прогнозирования\n",
    "    - [x]  Написана функция для вычисления итогового *sMAPE*\n",
    "    - [x]  Обучено и проверено несколько моделей\n",
    "    - [x]  Выбрана лучшая модель, её качество проверено на тестовой выборке"
   ]
  },
  {
   "cell_type": "markdown",
   "metadata": {},
   "source": [
    "<div class=\"alert alert-block alert-info\">\n",
    "<h3> Итоговый комментарий</h3>\n",
    "\n",
    "Большое спасибо за проделанную работу. Видно, что приложено много усилий. Работа в целом и каждый шаг в отдельности сделаны хорошо. Я оставил несколько советов, надеюсь они будут учтены в этом или будущих проектах. Осталось совсем чуть-чуть, чтобы я принял твой проект:\n",
    "\n",
    "1) Построить графики плотности при сравнении размеров гранул сырья в анализе данных\n",
    "\n",
    "2) Выполнить анализа суммарных концетраций веществ\n",
    "\n",
    "\n",
    "Жду исправлений =)"
   ]
  },
  {
   "cell_type": "markdown",
   "metadata": {},
   "source": [
    "<div class=\"alert alert-success\"> ✅ \n",
    "<h3> Комментарий ревьюера v2</h3>\n",
    "\n",
    "Спасибо за ответные комментарии и исправления! Успехов в следующих проектах!\n"
   ]
  },
  {
   "cell_type": "code",
   "execution_count": null,
   "metadata": {},
   "outputs": [],
   "source": []
  }
 ],
 "metadata": {
  "ExecuteTimeLog": [
   {
    "duration": 7325,
    "start_time": "2023-04-24T11:56:41.527Z"
   },
   {
    "duration": 4076,
    "start_time": "2023-04-24T11:56:59.064Z"
   },
   {
    "duration": 1402,
    "start_time": "2023-04-24T11:57:10.209Z"
   },
   {
    "duration": 1365,
    "start_time": "2023-04-24T12:00:42.187Z"
   },
   {
    "duration": 956,
    "start_time": "2023-04-24T12:01:00.807Z"
   },
   {
    "duration": 679,
    "start_time": "2023-04-24T12:01:29.284Z"
   },
   {
    "duration": 253,
    "start_time": "2023-04-24T12:02:07.515Z"
   },
   {
    "duration": 100,
    "start_time": "2023-04-24T12:02:15.851Z"
   },
   {
    "duration": 363,
    "start_time": "2023-04-24T12:02:18.283Z"
   },
   {
    "duration": 259,
    "start_time": "2023-04-24T12:02:24.853Z"
   },
   {
    "duration": 7,
    "start_time": "2023-04-24T12:05:37.703Z"
   },
   {
    "duration": 40578,
    "start_time": "2023-04-24T12:05:49.638Z"
   },
   {
    "duration": 4,
    "start_time": "2023-04-24T12:06:57.052Z"
   },
   {
    "duration": 46153,
    "start_time": "2023-04-24T12:07:03.207Z"
   },
   {
    "duration": 3,
    "start_time": "2023-04-24T12:09:17.584Z"
   },
   {
    "duration": 140,
    "start_time": "2023-04-24T12:09:18.485Z"
   },
   {
    "duration": 3,
    "start_time": "2023-04-24T12:09:35.144Z"
   },
   {
    "duration": 129,
    "start_time": "2023-04-24T12:09:35.845Z"
   },
   {
    "duration": 4,
    "start_time": "2023-04-24T12:10:24.255Z"
   },
   {
    "duration": 128,
    "start_time": "2023-04-24T12:10:24.837Z"
   },
   {
    "duration": 3,
    "start_time": "2023-04-24T12:10:42.411Z"
   },
   {
    "duration": 133,
    "start_time": "2023-04-24T12:10:43.111Z"
   },
   {
    "duration": 4,
    "start_time": "2023-04-24T12:13:49.345Z"
   },
   {
    "duration": 143,
    "start_time": "2023-04-24T12:13:50.112Z"
   },
   {
    "duration": 4,
    "start_time": "2023-04-24T12:14:13.665Z"
   },
   {
    "duration": 152,
    "start_time": "2023-04-24T12:14:14.255Z"
   },
   {
    "duration": 8,
    "start_time": "2023-04-24T12:14:34.393Z"
   },
   {
    "duration": 123,
    "start_time": "2023-04-24T12:14:35.108Z"
   },
   {
    "duration": 28,
    "start_time": "2023-04-24T12:14:57.833Z"
   },
   {
    "duration": 100,
    "start_time": "2023-04-24T12:15:10.417Z"
   },
   {
    "duration": 75,
    "start_time": "2023-04-24T12:21:53.714Z"
   },
   {
    "duration": 124,
    "start_time": "2023-04-24T12:21:54.418Z"
   },
   {
    "duration": 3,
    "start_time": "2023-04-24T12:22:09.179Z"
   },
   {
    "duration": 127,
    "start_time": "2023-04-24T12:22:10.379Z"
   },
   {
    "duration": 29,
    "start_time": "2023-04-24T12:22:16.475Z"
   },
   {
    "duration": 96,
    "start_time": "2023-04-24T12:22:24.026Z"
   },
   {
    "duration": 3,
    "start_time": "2023-04-24T12:28:09.956Z"
   },
   {
    "duration": 114,
    "start_time": "2023-04-24T12:28:14.628Z"
   },
   {
    "duration": 26,
    "start_time": "2023-04-24T12:28:21.997Z"
   },
   {
    "duration": 101,
    "start_time": "2023-04-24T12:28:26.276Z"
   },
   {
    "duration": 3,
    "start_time": "2023-04-24T12:29:56.573Z"
   },
   {
    "duration": 120,
    "start_time": "2023-04-24T12:29:58.029Z"
   },
   {
    "duration": 3,
    "start_time": "2023-04-24T12:30:34.749Z"
   },
   {
    "duration": 110,
    "start_time": "2023-04-24T12:30:35.541Z"
   },
   {
    "duration": 26,
    "start_time": "2023-04-24T12:30:38.469Z"
   },
   {
    "duration": 27,
    "start_time": "2023-04-24T12:31:13.783Z"
   },
   {
    "duration": 25,
    "start_time": "2023-04-24T12:31:25.431Z"
   },
   {
    "duration": 11,
    "start_time": "2023-04-24T12:31:53.903Z"
   },
   {
    "duration": 76,
    "start_time": "2023-04-24T12:32:13.623Z"
   },
   {
    "duration": 71,
    "start_time": "2023-04-24T12:32:42.871Z"
   },
   {
    "duration": 24,
    "start_time": "2023-04-24T12:33:03.966Z"
   },
   {
    "duration": 17,
    "start_time": "2023-04-24T12:33:38.480Z"
   },
   {
    "duration": 23,
    "start_time": "2023-04-24T12:33:55.689Z"
   },
   {
    "duration": 59,
    "start_time": "2023-04-24T12:34:09.768Z"
   },
   {
    "duration": 24,
    "start_time": "2023-04-24T12:34:23.775Z"
   },
   {
    "duration": 76,
    "start_time": "2023-04-24T12:42:08.218Z"
   },
   {
    "duration": 6,
    "start_time": "2023-04-24T12:42:40.212Z"
   },
   {
    "duration": 421,
    "start_time": "2023-04-24T12:43:04.540Z"
   },
   {
    "duration": 17,
    "start_time": "2023-04-24T12:43:11.508Z"
   },
   {
    "duration": 9,
    "start_time": "2023-04-24T12:43:23.507Z"
   },
   {
    "duration": 9,
    "start_time": "2023-04-24T12:43:36.684Z"
   },
   {
    "duration": 15,
    "start_time": "2023-04-24T12:43:54.867Z"
   },
   {
    "duration": 3,
    "start_time": "2023-04-24T12:45:31.908Z"
   },
   {
    "duration": 3,
    "start_time": "2023-04-24T12:45:44.605Z"
   },
   {
    "duration": 6,
    "start_time": "2023-04-24T12:46:09.117Z"
   },
   {
    "duration": 9,
    "start_time": "2023-04-24T12:46:27.804Z"
   },
   {
    "duration": 66,
    "start_time": "2023-04-24T12:47:52.228Z"
   },
   {
    "duration": 22,
    "start_time": "2023-04-24T12:48:04.684Z"
   },
   {
    "duration": 56,
    "start_time": "2023-04-24T12:49:06.079Z"
   },
   {
    "duration": 23,
    "start_time": "2023-04-24T12:49:07.174Z"
   },
   {
    "duration": 88,
    "start_time": "2023-04-24T12:49:29.589Z"
   },
   {
    "duration": 71,
    "start_time": "2023-04-24T12:49:37.517Z"
   },
   {
    "duration": 13,
    "start_time": "2023-04-24T12:49:43.453Z"
   },
   {
    "duration": 13,
    "start_time": "2023-04-24T12:49:52.542Z"
   },
   {
    "duration": 632,
    "start_time": "2023-04-24T12:51:00.880Z"
   },
   {
    "duration": 639,
    "start_time": "2023-04-24T12:51:25.120Z"
   },
   {
    "duration": 637,
    "start_time": "2023-04-24T12:51:51.488Z"
   },
   {
    "duration": 588,
    "start_time": "2023-04-24T12:52:02.045Z"
   },
   {
    "duration": 618,
    "start_time": "2023-04-24T12:52:08.783Z"
   },
   {
    "duration": 20,
    "start_time": "2023-04-24T12:52:18.119Z"
   },
   {
    "duration": 620,
    "start_time": "2023-04-24T12:53:02.898Z"
   },
   {
    "duration": 611,
    "start_time": "2023-04-24T12:53:21.456Z"
   },
   {
    "duration": 21,
    "start_time": "2023-04-24T12:53:41.735Z"
   },
   {
    "duration": 26,
    "start_time": "2023-04-24T12:53:54.082Z"
   },
   {
    "duration": 19,
    "start_time": "2023-04-24T12:54:02.440Z"
   },
   {
    "duration": 0,
    "start_time": "2023-04-24T13:06:04.747Z"
   },
   {
    "duration": 87,
    "start_time": "2023-04-24T13:06:10.045Z"
   },
   {
    "duration": 0,
    "start_time": "2023-04-24T13:07:59.340Z"
   },
   {
    "duration": 35686,
    "start_time": "2023-04-24T13:08:09.311Z"
   },
   {
    "duration": 6,
    "start_time": "2023-04-24T13:09:57.724Z"
   },
   {
    "duration": 43565,
    "start_time": "2023-04-24T13:11:29.159Z"
   },
   {
    "duration": 64011,
    "start_time": "2023-04-24T13:12:29.288Z"
   },
   {
    "duration": 132,
    "start_time": "2023-04-24T13:13:37.400Z"
   },
   {
    "duration": 93,
    "start_time": "2023-04-24T13:14:43.218Z"
   },
   {
    "duration": 1939,
    "start_time": "2023-04-24T13:15:10.028Z"
   },
   {
    "duration": 1927,
    "start_time": "2023-04-24T13:15:11.969Z"
   },
   {
    "duration": 8,
    "start_time": "2023-04-24T13:15:13.898Z"
   },
   {
    "duration": 704,
    "start_time": "2023-04-24T13:15:13.908Z"
   },
   {
    "duration": 18,
    "start_time": "2023-04-24T13:15:14.615Z"
   },
   {
    "duration": 17,
    "start_time": "2023-04-24T13:15:14.635Z"
   },
   {
    "duration": 25,
    "start_time": "2023-04-24T13:15:14.654Z"
   },
   {
    "duration": 2,
    "start_time": "2023-04-24T13:15:14.694Z"
   },
   {
    "duration": 127,
    "start_time": "2023-04-24T13:15:14.698Z"
   },
   {
    "duration": 28,
    "start_time": "2023-04-24T13:15:14.827Z"
   },
   {
    "duration": 111,
    "start_time": "2023-04-24T13:15:14.857Z"
   },
   {
    "duration": 8,
    "start_time": "2023-04-24T13:15:14.970Z"
   },
   {
    "duration": 49,
    "start_time": "2023-04-24T13:15:14.994Z"
   },
   {
    "duration": 10,
    "start_time": "2023-04-24T13:15:15.046Z"
   },
   {
    "duration": 32,
    "start_time": "2023-04-24T13:15:15.057Z"
   },
   {
    "duration": 78,
    "start_time": "2023-04-24T13:15:15.091Z"
   },
   {
    "duration": 12,
    "start_time": "2023-04-24T13:15:15.170Z"
   },
   {
    "duration": 17,
    "start_time": "2023-04-24T13:15:28.898Z"
   },
   {
    "duration": 16,
    "start_time": "2023-04-24T13:15:32.354Z"
   },
   {
    "duration": 16,
    "start_time": "2023-04-24T13:15:50.314Z"
   },
   {
    "duration": 35321,
    "start_time": "2023-04-24T13:16:03.833Z"
   },
   {
    "duration": 0,
    "start_time": "2023-04-24T13:17:42.363Z"
   },
   {
    "duration": 36460,
    "start_time": "2023-04-24T13:17:53.355Z"
   },
   {
    "duration": 3,
    "start_time": "2023-04-24T13:33:25.696Z"
   },
   {
    "duration": 4,
    "start_time": "2023-04-24T13:33:33.696Z"
   },
   {
    "duration": 8,
    "start_time": "2023-04-24T13:35:56.827Z"
   },
   {
    "duration": 18,
    "start_time": "2023-04-24T13:36:24.844Z"
   },
   {
    "duration": 19,
    "start_time": "2023-04-24T13:36:57.886Z"
   },
   {
    "duration": 4,
    "start_time": "2023-04-24T13:37:33.306Z"
   },
   {
    "duration": 9,
    "start_time": "2023-04-24T13:37:54.509Z"
   },
   {
    "duration": 6,
    "start_time": "2023-04-24T13:38:23.460Z"
   },
   {
    "duration": 7,
    "start_time": "2023-04-24T13:38:31.916Z"
   },
   {
    "duration": 4,
    "start_time": "2023-04-24T13:38:51.011Z"
   },
   {
    "duration": 6,
    "start_time": "2023-04-24T13:38:55.307Z"
   },
   {
    "duration": 22,
    "start_time": "2023-04-24T13:43:59.485Z"
   },
   {
    "duration": 15,
    "start_time": "2023-04-24T13:44:27.831Z"
   },
   {
    "duration": 21,
    "start_time": "2023-04-24T13:44:47.693Z"
   },
   {
    "duration": 14,
    "start_time": "2023-04-24T13:45:52.628Z"
   },
   {
    "duration": 13,
    "start_time": "2023-04-24T13:46:00.191Z"
   },
   {
    "duration": 1938,
    "start_time": "2023-04-24T13:46:40.923Z"
   },
   {
    "duration": 2005,
    "start_time": "2023-04-24T13:46:42.863Z"
   },
   {
    "duration": 8,
    "start_time": "2023-04-24T13:46:44.871Z"
   },
   {
    "duration": 632,
    "start_time": "2023-04-24T13:46:44.882Z"
   },
   {
    "duration": 18,
    "start_time": "2023-04-24T13:46:45.516Z"
   },
   {
    "duration": 20,
    "start_time": "2023-04-24T13:46:45.535Z"
   },
   {
    "duration": 17,
    "start_time": "2023-04-24T13:46:45.556Z"
   },
   {
    "duration": 19,
    "start_time": "2023-04-24T13:46:45.575Z"
   },
   {
    "duration": 128,
    "start_time": "2023-04-24T13:46:45.596Z"
   },
   {
    "duration": 26,
    "start_time": "2023-04-24T13:46:45.728Z"
   },
   {
    "duration": 122,
    "start_time": "2023-04-24T13:46:45.756Z"
   },
   {
    "duration": 19,
    "start_time": "2023-04-24T13:46:51.296Z"
   },
   {
    "duration": 13,
    "start_time": "2023-04-24T13:48:29.840Z"
   },
   {
    "duration": 11,
    "start_time": "2023-04-24T13:49:45.286Z"
   },
   {
    "duration": 14,
    "start_time": "2023-04-24T13:49:56.513Z"
   },
   {
    "duration": 14,
    "start_time": "2023-04-24T13:50:48.843Z"
   },
   {
    "duration": 14,
    "start_time": "2023-04-24T13:51:59.386Z"
   },
   {
    "duration": 10,
    "start_time": "2023-04-24T13:55:10.595Z"
   },
   {
    "duration": 1970,
    "start_time": "2023-04-24T13:55:40.025Z"
   },
   {
    "duration": 1956,
    "start_time": "2023-04-24T13:55:41.997Z"
   },
   {
    "duration": 9,
    "start_time": "2023-04-24T13:55:43.955Z"
   },
   {
    "duration": 686,
    "start_time": "2023-04-24T13:55:43.965Z"
   },
   {
    "duration": 18,
    "start_time": "2023-04-24T13:55:44.654Z"
   },
   {
    "duration": 36,
    "start_time": "2023-04-24T13:55:44.674Z"
   },
   {
    "duration": 22,
    "start_time": "2023-04-24T13:55:44.712Z"
   },
   {
    "duration": 5,
    "start_time": "2023-04-24T13:55:44.736Z"
   },
   {
    "duration": 142,
    "start_time": "2023-04-24T13:55:44.742Z"
   },
   {
    "duration": 35,
    "start_time": "2023-04-24T13:55:44.886Z"
   },
   {
    "duration": 114,
    "start_time": "2023-04-24T13:55:44.923Z"
   },
   {
    "duration": 8,
    "start_time": "2023-04-24T13:55:45.039Z"
   },
   {
    "duration": 14,
    "start_time": "2023-04-24T13:55:45.049Z"
   },
   {
    "duration": 18,
    "start_time": "2023-04-24T13:55:45.066Z"
   },
   {
    "duration": 31,
    "start_time": "2023-04-24T13:55:45.086Z"
   },
   {
    "duration": 93,
    "start_time": "2023-04-24T13:55:45.119Z"
   },
   {
    "duration": 13,
    "start_time": "2023-04-24T13:55:45.213Z"
   },
   {
    "duration": 4,
    "start_time": "2023-04-24T13:55:45.228Z"
   },
   {
    "duration": 8,
    "start_time": "2023-04-24T13:55:45.233Z"
   },
   {
    "duration": 3,
    "start_time": "2023-04-24T13:55:50.114Z"
   },
   {
    "duration": 8,
    "start_time": "2023-04-24T13:56:03.506Z"
   },
   {
    "duration": 2578,
    "start_time": "2023-04-24T14:03:16.502Z"
   },
   {
    "duration": 4,
    "start_time": "2023-04-24T14:06:40.832Z"
   },
   {
    "duration": 242,
    "start_time": "2023-04-24T14:07:06.135Z"
   },
   {
    "duration": 12,
    "start_time": "2023-04-24T14:08:05.606Z"
   },
   {
    "duration": 169,
    "start_time": "2023-04-24T14:08:50.951Z"
   },
   {
    "duration": 7,
    "start_time": "2023-04-24T14:08:57.047Z"
   },
   {
    "duration": 151,
    "start_time": "2023-04-24T14:09:30.141Z"
   },
   {
    "duration": 6,
    "start_time": "2023-04-24T14:09:47.040Z"
   },
   {
    "duration": 11,
    "start_time": "2023-04-24T14:09:54.578Z"
   },
   {
    "duration": 11,
    "start_time": "2023-04-24T14:11:31.387Z"
   },
   {
    "duration": 2,
    "start_time": "2023-04-24T14:11:36.174Z"
   },
   {
    "duration": 221,
    "start_time": "2023-04-24T14:11:37.540Z"
   },
   {
    "duration": 22,
    "start_time": "2023-04-24T14:11:38.886Z"
   },
   {
    "duration": 3,
    "start_time": "2023-04-24T14:12:07.698Z"
   },
   {
    "duration": 515,
    "start_time": "2023-04-24T14:12:08.490Z"
   },
   {
    "duration": 12,
    "start_time": "2023-04-24T14:12:09.817Z"
   },
   {
    "duration": 3,
    "start_time": "2023-04-24T14:17:00.436Z"
   },
   {
    "duration": 4,
    "start_time": "2023-04-24T14:17:01.250Z"
   },
   {
    "duration": 73,
    "start_time": "2023-04-24T14:17:01.984Z"
   },
   {
    "duration": 3,
    "start_time": "2023-04-24T14:17:38.220Z"
   },
   {
    "duration": 3,
    "start_time": "2023-04-24T14:17:39.051Z"
   },
   {
    "duration": 214,
    "start_time": "2023-04-24T14:17:39.915Z"
   },
   {
    "duration": 13,
    "start_time": "2023-04-24T14:17:41.449Z"
   },
   {
    "duration": 3,
    "start_time": "2023-04-24T14:18:22.140Z"
   },
   {
    "duration": 4,
    "start_time": "2023-04-24T14:18:22.796Z"
   },
   {
    "duration": 224,
    "start_time": "2023-04-24T14:18:23.381Z"
   },
   {
    "duration": 11,
    "start_time": "2023-04-24T14:18:23.923Z"
   },
   {
    "duration": 9,
    "start_time": "2023-04-24T14:24:18.742Z"
   },
   {
    "duration": 10,
    "start_time": "2023-04-24T14:25:12.108Z"
   },
   {
    "duration": 7,
    "start_time": "2023-04-24T14:25:52.985Z"
   },
   {
    "duration": 8,
    "start_time": "2023-04-24T14:26:27.415Z"
   },
   {
    "duration": 10,
    "start_time": "2023-04-24T14:27:51.686Z"
   },
   {
    "duration": 9,
    "start_time": "2023-04-24T14:28:34.400Z"
   },
   {
    "duration": 165,
    "start_time": "2023-04-24T14:28:39.624Z"
   },
   {
    "duration": 29,
    "start_time": "2023-04-24T14:29:13.982Z"
   },
   {
    "duration": 13,
    "start_time": "2023-04-24T14:29:30.546Z"
   },
   {
    "duration": 11,
    "start_time": "2023-04-24T14:29:47.577Z"
   },
   {
    "duration": 7,
    "start_time": "2023-04-24T14:30:28.921Z"
   },
   {
    "duration": 175,
    "start_time": "2023-04-24T14:31:08.240Z"
   },
   {
    "duration": 183,
    "start_time": "2023-04-24T14:33:41.731Z"
   },
   {
    "duration": 196,
    "start_time": "2023-04-24T14:33:51.442Z"
   },
   {
    "duration": 187,
    "start_time": "2023-04-24T14:33:58.589Z"
   },
   {
    "duration": 166,
    "start_time": "2023-04-24T14:34:09.035Z"
   },
   {
    "duration": 178,
    "start_time": "2023-04-24T14:34:27.870Z"
   },
   {
    "duration": 180,
    "start_time": "2023-04-24T14:34:50.777Z"
   },
   {
    "duration": 174,
    "start_time": "2023-04-24T14:35:04.787Z"
   },
   {
    "duration": 185,
    "start_time": "2023-04-24T14:35:18.931Z"
   },
   {
    "duration": 362,
    "start_time": "2023-04-24T14:40:21.511Z"
   },
   {
    "duration": 407,
    "start_time": "2023-04-24T14:40:37.077Z"
   },
   {
    "duration": 186,
    "start_time": "2023-04-24T14:40:47.981Z"
   },
   {
    "duration": 962,
    "start_time": "2023-04-24T14:41:10.206Z"
   },
   {
    "duration": 643,
    "start_time": "2023-04-24T14:41:30.732Z"
   },
   {
    "duration": 609,
    "start_time": "2023-04-24T14:42:13.214Z"
   },
   {
    "duration": 594,
    "start_time": "2023-04-24T14:42:21.793Z"
   },
   {
    "duration": 10,
    "start_time": "2023-04-24T14:45:33.144Z"
   },
   {
    "duration": 9,
    "start_time": "2023-04-24T14:45:36.823Z"
   },
   {
    "duration": 5,
    "start_time": "2023-04-24T14:45:39.881Z"
   },
   {
    "duration": 1085,
    "start_time": "2023-04-24T14:46:51.677Z"
   },
   {
    "duration": 640,
    "start_time": "2023-04-24T14:47:34.700Z"
   },
   {
    "duration": 639,
    "start_time": "2023-04-24T14:47:46.777Z"
   },
   {
    "duration": 1054,
    "start_time": "2023-04-24T14:48:00.017Z"
   },
   {
    "duration": 655,
    "start_time": "2023-04-24T14:48:17.473Z"
   },
   {
    "duration": 5,
    "start_time": "2023-04-24T14:50:06.834Z"
   },
   {
    "duration": 10,
    "start_time": "2023-04-24T14:50:19.793Z"
   },
   {
    "duration": 8,
    "start_time": "2023-04-24T14:50:48.581Z"
   },
   {
    "duration": 20,
    "start_time": "2023-04-24T14:52:00.181Z"
   },
   {
    "duration": 10,
    "start_time": "2023-04-24T14:52:16.012Z"
   },
   {
    "duration": 10,
    "start_time": "2023-04-24T14:52:39.109Z"
   },
   {
    "duration": 14,
    "start_time": "2023-04-24T14:52:42.488Z"
   },
   {
    "duration": 703,
    "start_time": "2023-04-24T14:53:26.473Z"
   },
   {
    "duration": 699,
    "start_time": "2023-04-24T14:53:46.981Z"
   },
   {
    "duration": 1164,
    "start_time": "2023-04-24T14:54:16.815Z"
   },
   {
    "duration": 14,
    "start_time": "2023-04-24T15:03:13.031Z"
   },
   {
    "duration": 140,
    "start_time": "2023-04-24T15:04:03.288Z"
   },
   {
    "duration": 10,
    "start_time": "2023-04-24T15:04:09.552Z"
   },
   {
    "duration": 9,
    "start_time": "2023-04-24T15:04:15.143Z"
   },
   {
    "duration": 12,
    "start_time": "2023-04-24T15:04:23.815Z"
   },
   {
    "duration": 133,
    "start_time": "2023-04-24T15:04:27.983Z"
   },
   {
    "duration": 1101,
    "start_time": "2023-04-24T15:06:53.857Z"
   },
   {
    "duration": 714,
    "start_time": "2023-04-24T15:12:39.490Z"
   },
   {
    "duration": 52,
    "start_time": "2023-04-24T15:13:37.807Z"
   },
   {
    "duration": 11,
    "start_time": "2023-04-24T15:13:52.939Z"
   },
   {
    "duration": 80,
    "start_time": "2023-04-24T15:14:07.556Z"
   },
   {
    "duration": 70,
    "start_time": "2023-04-24T15:15:11.156Z"
   },
   {
    "duration": 18,
    "start_time": "2023-04-24T15:16:13.607Z"
   },
   {
    "duration": 12,
    "start_time": "2023-04-24T15:16:48.299Z"
   },
   {
    "duration": 4,
    "start_time": "2023-04-24T15:17:35.613Z"
   },
   {
    "duration": 2070,
    "start_time": "2023-04-24T15:19:50.709Z"
   },
   {
    "duration": 1968,
    "start_time": "2023-04-24T15:20:16.047Z"
   },
   {
    "duration": 99,
    "start_time": "2023-04-24T15:21:11.160Z"
   },
   {
    "duration": 2060,
    "start_time": "2023-04-24T15:21:22.654Z"
   },
   {
    "duration": 1970,
    "start_time": "2023-04-24T15:21:45.433Z"
   },
   {
    "duration": 4,
    "start_time": "2023-04-24T15:24:39.855Z"
   },
   {
    "duration": 182,
    "start_time": "2023-04-24T15:24:56.484Z"
   },
   {
    "duration": 3489,
    "start_time": "2023-04-24T15:25:00.988Z"
   },
   {
    "duration": 1954,
    "start_time": "2023-04-24T15:28:20.250Z"
   },
   {
    "duration": 4,
    "start_time": "2023-04-24T15:30:37.202Z"
   },
   {
    "duration": 114,
    "start_time": "2023-04-24T15:30:49.792Z"
   },
   {
    "duration": 2093,
    "start_time": "2023-04-24T15:30:56.992Z"
   },
   {
    "duration": 5,
    "start_time": "2023-04-24T15:34:27.435Z"
   },
   {
    "duration": 12,
    "start_time": "2023-04-24T15:34:45.884Z"
   },
   {
    "duration": 2164,
    "start_time": "2023-04-24T15:35:42.947Z"
   },
   {
    "duration": 12,
    "start_time": "2023-04-24T15:36:19.644Z"
   },
   {
    "duration": 1884,
    "start_time": "2023-04-24T15:36:37.930Z"
   },
   {
    "duration": 1990,
    "start_time": "2023-04-24T15:36:39.816Z"
   },
   {
    "duration": 9,
    "start_time": "2023-04-24T15:36:41.808Z"
   },
   {
    "duration": 610,
    "start_time": "2023-04-24T15:36:41.819Z"
   },
   {
    "duration": 21,
    "start_time": "2023-04-24T15:36:42.432Z"
   },
   {
    "duration": 20,
    "start_time": "2023-04-24T15:36:42.454Z"
   },
   {
    "duration": 17,
    "start_time": "2023-04-24T15:36:42.495Z"
   },
   {
    "duration": 3,
    "start_time": "2023-04-24T15:36:42.514Z"
   },
   {
    "duration": 141,
    "start_time": "2023-04-24T15:36:42.519Z"
   },
   {
    "duration": 38,
    "start_time": "2023-04-24T15:36:42.662Z"
   },
   {
    "duration": 116,
    "start_time": "2023-04-24T15:36:42.702Z"
   },
   {
    "duration": 11,
    "start_time": "2023-04-24T15:36:42.820Z"
   },
   {
    "duration": 7,
    "start_time": "2023-04-24T15:36:42.832Z"
   },
   {
    "duration": 8,
    "start_time": "2023-04-24T15:36:42.843Z"
   },
   {
    "duration": 43,
    "start_time": "2023-04-24T15:36:42.852Z"
   },
   {
    "duration": 79,
    "start_time": "2023-04-24T15:36:42.897Z"
   },
   {
    "duration": 23,
    "start_time": "2023-04-24T15:36:42.978Z"
   },
   {
    "duration": 5,
    "start_time": "2023-04-24T15:36:43.002Z"
   },
   {
    "duration": 8,
    "start_time": "2023-04-24T15:36:43.008Z"
   },
   {
    "duration": 8,
    "start_time": "2023-04-24T15:36:43.017Z"
   },
   {
    "duration": 15,
    "start_time": "2023-04-24T15:36:43.026Z"
   },
   {
    "duration": 3,
    "start_time": "2023-04-24T15:36:43.042Z"
   },
   {
    "duration": 4,
    "start_time": "2023-04-24T15:36:43.047Z"
   },
   {
    "duration": 248,
    "start_time": "2023-04-24T15:36:43.052Z"
   },
   {
    "duration": 15,
    "start_time": "2023-04-24T15:36:43.302Z"
   },
   {
    "duration": 7,
    "start_time": "2023-04-24T15:36:43.318Z"
   },
   {
    "duration": 7,
    "start_time": "2023-04-24T15:36:43.327Z"
   },
   {
    "duration": 6,
    "start_time": "2023-04-24T15:36:43.336Z"
   },
   {
    "duration": 230,
    "start_time": "2023-04-24T15:36:43.343Z"
   },
   {
    "duration": 661,
    "start_time": "2023-04-24T15:36:43.575Z"
   },
   {
    "duration": 11,
    "start_time": "2023-04-24T15:36:44.238Z"
   },
   {
    "duration": 10,
    "start_time": "2023-04-24T15:36:44.251Z"
   },
   {
    "duration": 655,
    "start_time": "2023-04-24T15:36:44.263Z"
   },
   {
    "duration": 7,
    "start_time": "2023-04-24T15:36:44.920Z"
   },
   {
    "duration": 8,
    "start_time": "2023-04-24T15:36:44.929Z"
   },
   {
    "duration": 16,
    "start_time": "2023-04-24T15:36:48.295Z"
   },
   {
    "duration": 143,
    "start_time": "2023-04-24T15:36:56.493Z"
   },
   {
    "duration": 4,
    "start_time": "2023-04-24T15:37:18.496Z"
   },
   {
    "duration": 1116,
    "start_time": "2023-04-24T15:37:30.245Z"
   },
   {
    "duration": 1399,
    "start_time": "2023-04-24T15:40:51.143Z"
   },
   {
    "duration": 949,
    "start_time": "2023-04-24T15:41:16.398Z"
   },
   {
    "duration": 137,
    "start_time": "2023-04-24T15:43:42.712Z"
   },
   {
    "duration": 801,
    "start_time": "2023-04-24T15:43:50.321Z"
   },
   {
    "duration": 1201,
    "start_time": "2023-04-24T15:44:13.704Z"
   },
   {
    "duration": 597,
    "start_time": "2023-04-24T15:45:13.107Z"
   },
   {
    "duration": 568,
    "start_time": "2023-04-24T15:45:20.492Z"
   },
   {
    "duration": 540,
    "start_time": "2023-04-24T15:45:40.808Z"
   },
   {
    "duration": 1072,
    "start_time": "2023-04-24T15:46:30.032Z"
   },
   {
    "duration": 586,
    "start_time": "2023-04-24T15:46:36.792Z"
   },
   {
    "duration": 564,
    "start_time": "2023-04-24T15:46:45.432Z"
   },
   {
    "duration": 710,
    "start_time": "2023-04-24T15:47:12.218Z"
   },
   {
    "duration": 1149,
    "start_time": "2023-04-24T15:47:21.616Z"
   },
   {
    "duration": 994,
    "start_time": "2023-04-24T15:47:42.840Z"
   },
   {
    "duration": 1516,
    "start_time": "2023-04-24T15:49:37.107Z"
   },
   {
    "duration": 1087,
    "start_time": "2023-04-24T15:50:08.203Z"
   },
   {
    "duration": 1248,
    "start_time": "2023-04-24T15:52:27.029Z"
   },
   {
    "duration": 12,
    "start_time": "2023-04-24T15:53:08.419Z"
   },
   {
    "duration": 1036,
    "start_time": "2023-04-24T15:53:26.589Z"
   },
   {
    "duration": 6,
    "start_time": "2023-04-24T15:53:46.420Z"
   },
   {
    "duration": 1008,
    "start_time": "2023-04-24T15:54:10.725Z"
   },
   {
    "duration": 1653,
    "start_time": "2023-04-24T15:54:18.348Z"
   },
   {
    "duration": 1081,
    "start_time": "2023-04-24T15:54:26.589Z"
   },
   {
    "duration": 1390,
    "start_time": "2023-04-24T15:54:37.901Z"
   },
   {
    "duration": 979,
    "start_time": "2023-04-24T15:54:45.043Z"
   },
   {
    "duration": 1087,
    "start_time": "2023-04-24T15:54:52.168Z"
   },
   {
    "duration": 696,
    "start_time": "2023-04-24T15:54:59.139Z"
   },
   {
    "duration": 197,
    "start_time": "2023-04-24T15:55:19.757Z"
   },
   {
    "duration": 13,
    "start_time": "2023-04-24T15:59:29.587Z"
   },
   {
    "duration": 15,
    "start_time": "2023-04-24T15:59:53.705Z"
   },
   {
    "duration": 20,
    "start_time": "2023-04-24T16:00:46.911Z"
   },
   {
    "duration": 1931,
    "start_time": "2023-04-24T16:01:20.311Z"
   },
   {
    "duration": 2219,
    "start_time": "2023-04-24T16:01:43.916Z"
   },
   {
    "duration": 1916,
    "start_time": "2023-04-24T16:02:00.047Z"
   },
   {
    "duration": 133,
    "start_time": "2023-04-24T16:02:11.231Z"
   },
   {
    "duration": 132,
    "start_time": "2023-04-24T16:02:16.697Z"
   },
   {
    "duration": 111,
    "start_time": "2023-04-24T16:02:23.501Z"
   },
   {
    "duration": 9,
    "start_time": "2023-04-24T16:02:38.256Z"
   },
   {
    "duration": 7688,
    "start_time": "2023-04-25T08:44:43.744Z"
   },
   {
    "duration": 3774,
    "start_time": "2023-04-25T08:44:51.434Z"
   },
   {
    "duration": 1432,
    "start_time": "2023-04-25T08:44:55.210Z"
   },
   {
    "duration": 2565,
    "start_time": "2023-04-25T08:44:56.644Z"
   },
   {
    "duration": 22,
    "start_time": "2023-04-25T08:44:59.211Z"
   },
   {
    "duration": 21,
    "start_time": "2023-04-25T08:44:59.235Z"
   },
   {
    "duration": 30,
    "start_time": "2023-04-25T08:44:59.258Z"
   },
   {
    "duration": 15,
    "start_time": "2023-04-25T08:44:59.290Z"
   },
   {
    "duration": 148,
    "start_time": "2023-04-25T08:44:59.307Z"
   },
   {
    "duration": 34,
    "start_time": "2023-04-25T08:44:59.456Z"
   },
   {
    "duration": 134,
    "start_time": "2023-04-25T08:44:59.492Z"
   },
   {
    "duration": 8,
    "start_time": "2023-04-25T08:44:59.628Z"
   },
   {
    "duration": 15,
    "start_time": "2023-04-25T08:44:59.638Z"
   },
   {
    "duration": 13,
    "start_time": "2023-04-25T08:44:59.655Z"
   },
   {
    "duration": 47,
    "start_time": "2023-04-25T08:44:59.669Z"
   },
   {
    "duration": 107,
    "start_time": "2023-04-25T08:44:59.717Z"
   },
   {
    "duration": 15,
    "start_time": "2023-04-25T08:44:59.826Z"
   },
   {
    "duration": 4,
    "start_time": "2023-04-25T08:44:59.843Z"
   },
   {
    "duration": 35,
    "start_time": "2023-04-25T08:44:59.849Z"
   },
   {
    "duration": 15,
    "start_time": "2023-04-25T08:44:59.887Z"
   },
   {
    "duration": 17,
    "start_time": "2023-04-25T08:44:59.904Z"
   },
   {
    "duration": 15,
    "start_time": "2023-04-25T08:44:59.922Z"
   },
   {
    "duration": 18,
    "start_time": "2023-04-25T08:44:59.939Z"
   },
   {
    "duration": 303,
    "start_time": "2023-04-25T08:44:59.958Z"
   },
   {
    "duration": 28,
    "start_time": "2023-04-25T08:45:00.263Z"
   },
   {
    "duration": 68,
    "start_time": "2023-04-25T08:45:00.293Z"
   },
   {
    "duration": 38,
    "start_time": "2023-04-25T08:45:00.362Z"
   },
   {
    "duration": 133,
    "start_time": "2023-04-25T08:45:00.401Z"
   },
   {
    "duration": 332,
    "start_time": "2023-04-25T08:45:00.536Z"
   },
   {
    "duration": 823,
    "start_time": "2023-04-25T08:45:00.870Z"
   },
   {
    "duration": 9,
    "start_time": "2023-04-25T08:45:01.695Z"
   },
   {
    "duration": 71,
    "start_time": "2023-04-25T08:45:01.706Z"
   },
   {
    "duration": 947,
    "start_time": "2023-04-25T08:45:01.778Z"
   },
   {
    "duration": 11,
    "start_time": "2023-04-25T08:45:02.727Z"
   },
   {
    "duration": 17,
    "start_time": "2023-04-25T08:45:02.740Z"
   },
   {
    "duration": 1135,
    "start_time": "2023-04-25T08:45:29.905Z"
   },
   {
    "duration": 1185,
    "start_time": "2023-04-25T08:46:21.321Z"
   },
   {
    "duration": 1252,
    "start_time": "2023-04-25T08:46:37.186Z"
   },
   {
    "duration": 1234,
    "start_time": "2023-04-25T08:46:56.090Z"
   },
   {
    "duration": 744,
    "start_time": "2023-04-25T08:47:28.696Z"
   },
   {
    "duration": 1009,
    "start_time": "2023-04-25T08:48:09.486Z"
   },
   {
    "duration": 2322,
    "start_time": "2023-04-25T08:48:34.995Z"
   },
   {
    "duration": 2436,
    "start_time": "2023-04-25T08:48:37.321Z"
   },
   {
    "duration": 15,
    "start_time": "2023-04-25T08:48:39.759Z"
   },
   {
    "duration": 826,
    "start_time": "2023-04-25T08:48:39.777Z"
   },
   {
    "duration": 23,
    "start_time": "2023-04-25T08:48:40.605Z"
   },
   {
    "duration": 24,
    "start_time": "2023-04-25T08:48:40.630Z"
   },
   {
    "duration": 42,
    "start_time": "2023-04-25T08:48:40.656Z"
   },
   {
    "duration": 11,
    "start_time": "2023-04-25T08:48:40.700Z"
   },
   {
    "duration": 199,
    "start_time": "2023-04-25T08:48:40.714Z"
   },
   {
    "duration": 34,
    "start_time": "2023-04-25T08:48:40.916Z"
   },
   {
    "duration": 179,
    "start_time": "2023-04-25T08:48:40.952Z"
   },
   {
    "duration": 7,
    "start_time": "2023-04-25T08:48:41.134Z"
   },
   {
    "duration": 38,
    "start_time": "2023-04-25T08:48:41.143Z"
   },
   {
    "duration": 20,
    "start_time": "2023-04-25T08:48:41.182Z"
   },
   {
    "duration": 33,
    "start_time": "2023-04-25T08:48:41.204Z"
   },
   {
    "duration": 101,
    "start_time": "2023-04-25T08:48:41.239Z"
   },
   {
    "duration": 15,
    "start_time": "2023-04-25T08:48:41.341Z"
   },
   {
    "duration": 5,
    "start_time": "2023-04-25T08:48:41.358Z"
   },
   {
    "duration": 8,
    "start_time": "2023-04-25T08:48:41.384Z"
   },
   {
    "duration": 11,
    "start_time": "2023-04-25T08:48:41.394Z"
   },
   {
    "duration": 15,
    "start_time": "2023-04-25T08:48:41.408Z"
   },
   {
    "duration": 13,
    "start_time": "2023-04-25T08:48:41.425Z"
   },
   {
    "duration": 24,
    "start_time": "2023-04-25T08:48:41.440Z"
   },
   {
    "duration": 288,
    "start_time": "2023-04-25T08:48:41.466Z"
   },
   {
    "duration": 31,
    "start_time": "2023-04-25T08:48:41.756Z"
   },
   {
    "duration": 11,
    "start_time": "2023-04-25T08:48:41.789Z"
   },
   {
    "duration": 15,
    "start_time": "2023-04-25T08:48:41.802Z"
   },
   {
    "duration": 15,
    "start_time": "2023-04-25T08:48:41.822Z"
   },
   {
    "duration": 262,
    "start_time": "2023-04-25T08:48:41.839Z"
   },
   {
    "duration": 1058,
    "start_time": "2023-04-25T08:48:42.103Z"
   },
   {
    "duration": 10,
    "start_time": "2023-04-25T08:48:43.163Z"
   },
   {
    "duration": 68,
    "start_time": "2023-04-25T08:48:43.175Z"
   },
   {
    "duration": 966,
    "start_time": "2023-04-25T08:48:43.245Z"
   },
   {
    "duration": 10,
    "start_time": "2023-04-25T08:48:44.213Z"
   },
   {
    "duration": 81,
    "start_time": "2023-04-25T08:48:44.225Z"
   },
   {
    "duration": 1380,
    "start_time": "2023-04-25T08:48:44.308Z"
   },
   {
    "duration": 1358,
    "start_time": "2023-04-25T08:48:45.690Z"
   },
   {
    "duration": 1444,
    "start_time": "2023-04-25T08:48:47.050Z"
   },
   {
    "duration": 18,
    "start_time": "2023-04-25T08:48:48.496Z"
   },
   {
    "duration": 29,
    "start_time": "2023-04-25T08:48:48.516Z"
   },
   {
    "duration": 43,
    "start_time": "2023-04-25T08:48:48.547Z"
   },
   {
    "duration": 6,
    "start_time": "2023-04-25T09:53:20.622Z"
   },
   {
    "duration": 7,
    "start_time": "2023-04-25T09:53:53.776Z"
   },
   {
    "duration": 6,
    "start_time": "2023-04-25T09:54:20.381Z"
   },
   {
    "duration": 4,
    "start_time": "2023-04-25T09:55:50.672Z"
   },
   {
    "duration": 123,
    "start_time": "2023-04-25T09:57:34.462Z"
   },
   {
    "duration": 9,
    "start_time": "2023-04-25T09:57:37.592Z"
   },
   {
    "duration": 6,
    "start_time": "2023-04-25T09:58:01.639Z"
   },
   {
    "duration": 7,
    "start_time": "2023-04-25T09:58:25.000Z"
   },
   {
    "duration": 55,
    "start_time": "2023-04-25T09:59:10.010Z"
   },
   {
    "duration": 5,
    "start_time": "2023-04-25T09:59:15.712Z"
   },
   {
    "duration": 5,
    "start_time": "2023-04-25T09:59:26.280Z"
   },
   {
    "duration": 6,
    "start_time": "2023-04-25T09:59:46.184Z"
   },
   {
    "duration": 6,
    "start_time": "2023-04-25T10:02:57.354Z"
   },
   {
    "duration": 3,
    "start_time": "2023-04-25T10:05:40.122Z"
   },
   {
    "duration": 4,
    "start_time": "2023-04-25T10:06:19.435Z"
   },
   {
    "duration": 4,
    "start_time": "2023-04-25T10:07:46.513Z"
   },
   {
    "duration": 3,
    "start_time": "2023-04-25T10:07:47.893Z"
   },
   {
    "duration": 3,
    "start_time": "2023-04-25T10:07:52.291Z"
   },
   {
    "duration": 7,
    "start_time": "2023-04-25T10:11:27.100Z"
   },
   {
    "duration": 6,
    "start_time": "2023-04-25T10:13:18.420Z"
   },
   {
    "duration": 124,
    "start_time": "2023-04-25T10:20:03.096Z"
   },
   {
    "duration": 7,
    "start_time": "2023-04-25T10:23:42.489Z"
   },
   {
    "duration": 5,
    "start_time": "2023-04-25T10:23:56.870Z"
   },
   {
    "duration": 16,
    "start_time": "2023-04-25T10:24:06.184Z"
   },
   {
    "duration": 2122,
    "start_time": "2023-04-25T10:24:18.830Z"
   },
   {
    "duration": 2147,
    "start_time": "2023-04-25T10:24:20.954Z"
   },
   {
    "duration": 10,
    "start_time": "2023-04-25T10:24:23.103Z"
   },
   {
    "duration": 645,
    "start_time": "2023-04-25T10:24:23.115Z"
   },
   {
    "duration": 23,
    "start_time": "2023-04-25T10:24:23.762Z"
   },
   {
    "duration": 20,
    "start_time": "2023-04-25T10:24:23.787Z"
   },
   {
    "duration": 23,
    "start_time": "2023-04-25T10:24:23.809Z"
   },
   {
    "duration": 13,
    "start_time": "2023-04-25T10:24:23.833Z"
   },
   {
    "duration": 150,
    "start_time": "2023-04-25T10:24:23.847Z"
   },
   {
    "duration": 34,
    "start_time": "2023-04-25T10:24:23.999Z"
   },
   {
    "duration": 122,
    "start_time": "2023-04-25T10:24:24.035Z"
   },
   {
    "duration": 8,
    "start_time": "2023-04-25T10:24:24.159Z"
   },
   {
    "duration": 38,
    "start_time": "2023-04-25T10:24:24.168Z"
   },
   {
    "duration": 31,
    "start_time": "2023-04-25T10:24:24.207Z"
   },
   {
    "duration": 30,
    "start_time": "2023-04-25T10:24:24.239Z"
   },
   {
    "duration": 96,
    "start_time": "2023-04-25T10:24:24.270Z"
   },
   {
    "duration": 15,
    "start_time": "2023-04-25T10:24:24.368Z"
   },
   {
    "duration": 9,
    "start_time": "2023-04-25T10:24:24.385Z"
   },
   {
    "duration": 18,
    "start_time": "2023-04-25T10:24:24.396Z"
   },
   {
    "duration": 14,
    "start_time": "2023-04-25T10:24:24.416Z"
   },
   {
    "duration": 11,
    "start_time": "2023-04-25T10:24:24.432Z"
   },
   {
    "duration": 6,
    "start_time": "2023-04-25T10:24:24.445Z"
   },
   {
    "duration": 6,
    "start_time": "2023-04-25T10:24:24.452Z"
   },
   {
    "duration": 261,
    "start_time": "2023-04-25T10:24:24.459Z"
   },
   {
    "duration": 16,
    "start_time": "2023-04-25T10:24:24.722Z"
   },
   {
    "duration": 7,
    "start_time": "2023-04-25T10:24:24.739Z"
   },
   {
    "duration": 11,
    "start_time": "2023-04-25T10:24:24.747Z"
   },
   {
    "duration": 29,
    "start_time": "2023-04-25T10:24:24.762Z"
   },
   {
    "duration": 261,
    "start_time": "2023-04-25T10:24:24.795Z"
   },
   {
    "duration": 798,
    "start_time": "2023-04-25T10:24:25.058Z"
   },
   {
    "duration": 8,
    "start_time": "2023-04-25T10:24:25.859Z"
   },
   {
    "duration": 7,
    "start_time": "2023-04-25T10:24:25.883Z"
   },
   {
    "duration": 1061,
    "start_time": "2023-04-25T10:24:25.892Z"
   },
   {
    "duration": 9,
    "start_time": "2023-04-25T10:24:26.955Z"
   },
   {
    "duration": 22,
    "start_time": "2023-04-25T10:24:26.966Z"
   },
   {
    "duration": 1093,
    "start_time": "2023-04-25T10:24:26.990Z"
   },
   {
    "duration": 1367,
    "start_time": "2023-04-25T10:24:28.085Z"
   },
   {
    "duration": 1317,
    "start_time": "2023-04-25T10:24:29.454Z"
   },
   {
    "duration": 21,
    "start_time": "2023-04-25T10:24:30.773Z"
   },
   {
    "duration": 42,
    "start_time": "2023-04-25T10:24:30.796Z"
   },
   {
    "duration": 27,
    "start_time": "2023-04-25T10:24:30.840Z"
   },
   {
    "duration": 24,
    "start_time": "2023-04-25T10:24:30.869Z"
   },
   {
    "duration": 33,
    "start_time": "2023-04-25T10:24:30.894Z"
   },
   {
    "duration": 27,
    "start_time": "2023-04-25T10:24:30.930Z"
   },
   {
    "duration": 46,
    "start_time": "2023-04-25T10:24:30.958Z"
   },
   {
    "duration": 36,
    "start_time": "2023-04-25T10:24:31.006Z"
   },
   {
    "duration": 41,
    "start_time": "2023-04-25T10:24:31.044Z"
   },
   {
    "duration": 34,
    "start_time": "2023-04-25T10:24:31.087Z"
   },
   {
    "duration": 66,
    "start_time": "2023-04-25T10:24:31.122Z"
   },
   {
    "duration": 64,
    "start_time": "2023-04-25T10:24:31.190Z"
   },
   {
    "duration": 16,
    "start_time": "2023-04-25T10:24:45.900Z"
   },
   {
    "duration": 3,
    "start_time": "2023-04-25T10:33:01.224Z"
   },
   {
    "duration": 11,
    "start_time": "2023-04-25T10:33:01.956Z"
   },
   {
    "duration": 7,
    "start_time": "2023-04-25T10:34:05.010Z"
   },
   {
    "duration": 4,
    "start_time": "2023-04-25T10:35:15.400Z"
   },
   {
    "duration": 23,
    "start_time": "2023-04-25T10:35:15.405Z"
   },
   {
    "duration": 33,
    "start_time": "2023-04-25T10:35:15.430Z"
   },
   {
    "duration": 669,
    "start_time": "2023-04-25T10:35:15.465Z"
   },
   {
    "duration": 18,
    "start_time": "2023-04-25T10:35:16.137Z"
   },
   {
    "duration": 41,
    "start_time": "2023-04-25T10:35:16.157Z"
   },
   {
    "duration": 40,
    "start_time": "2023-04-25T10:35:16.200Z"
   },
   {
    "duration": 10,
    "start_time": "2023-04-25T10:35:16.242Z"
   },
   {
    "duration": 129,
    "start_time": "2023-04-25T10:35:16.254Z"
   },
   {
    "duration": 29,
    "start_time": "2023-04-25T10:35:16.385Z"
   },
   {
    "duration": 116,
    "start_time": "2023-04-25T10:35:16.415Z"
   },
   {
    "duration": 7,
    "start_time": "2023-04-25T10:35:16.533Z"
   },
   {
    "duration": 13,
    "start_time": "2023-04-25T10:35:16.541Z"
   },
   {
    "duration": 11,
    "start_time": "2023-04-25T10:35:16.556Z"
   },
   {
    "duration": 37,
    "start_time": "2023-04-25T10:35:16.569Z"
   },
   {
    "duration": 96,
    "start_time": "2023-04-25T10:35:16.608Z"
   },
   {
    "duration": 14,
    "start_time": "2023-04-25T10:35:16.706Z"
   },
   {
    "duration": 5,
    "start_time": "2023-04-25T10:35:16.722Z"
   },
   {
    "duration": 13,
    "start_time": "2023-04-25T10:35:16.728Z"
   },
   {
    "duration": 10,
    "start_time": "2023-04-25T10:35:16.742Z"
   },
   {
    "duration": 31,
    "start_time": "2023-04-25T10:35:16.753Z"
   },
   {
    "duration": 4,
    "start_time": "2023-04-25T10:35:16.786Z"
   },
   {
    "duration": 10,
    "start_time": "2023-04-25T10:35:16.791Z"
   },
   {
    "duration": 247,
    "start_time": "2023-04-25T10:35:16.802Z"
   },
   {
    "duration": 17,
    "start_time": "2023-04-25T10:35:17.050Z"
   },
   {
    "duration": 19,
    "start_time": "2023-04-25T10:35:17.069Z"
   },
   {
    "duration": 9,
    "start_time": "2023-04-25T10:35:17.090Z"
   },
   {
    "duration": 13,
    "start_time": "2023-04-25T10:35:17.100Z"
   },
   {
    "duration": 223,
    "start_time": "2023-04-25T10:35:17.114Z"
   },
   {
    "duration": 748,
    "start_time": "2023-04-25T10:35:17.339Z"
   },
   {
    "duration": 9,
    "start_time": "2023-04-25T10:35:18.088Z"
   },
   {
    "duration": 8,
    "start_time": "2023-04-25T10:35:18.098Z"
   },
   {
    "duration": 785,
    "start_time": "2023-04-25T10:35:18.107Z"
   },
   {
    "duration": 9,
    "start_time": "2023-04-25T10:35:18.894Z"
   },
   {
    "duration": 16,
    "start_time": "2023-04-25T10:35:18.905Z"
   },
   {
    "duration": 1378,
    "start_time": "2023-04-25T10:35:18.923Z"
   },
   {
    "duration": 1284,
    "start_time": "2023-04-25T10:35:20.302Z"
   },
   {
    "duration": 1320,
    "start_time": "2023-04-25T10:35:21.587Z"
   },
   {
    "duration": 15,
    "start_time": "2023-04-25T10:35:22.908Z"
   },
   {
    "duration": 19,
    "start_time": "2023-04-25T10:35:22.925Z"
   },
   {
    "duration": 7,
    "start_time": "2023-04-25T10:35:22.948Z"
   },
   {
    "duration": 5,
    "start_time": "2023-04-25T10:35:22.957Z"
   },
   {
    "duration": 9,
    "start_time": "2023-04-25T10:35:22.984Z"
   },
   {
    "duration": 12,
    "start_time": "2023-04-25T10:35:22.995Z"
   },
   {
    "duration": 13,
    "start_time": "2023-04-25T10:35:23.008Z"
   },
   {
    "duration": 8,
    "start_time": "2023-04-25T10:35:23.022Z"
   },
   {
    "duration": 10,
    "start_time": "2023-04-25T10:35:23.032Z"
   },
   {
    "duration": 8,
    "start_time": "2023-04-25T10:35:23.044Z"
   },
   {
    "duration": 5,
    "start_time": "2023-04-25T10:35:23.053Z"
   },
   {
    "duration": 13,
    "start_time": "2023-04-25T10:35:23.059Z"
   },
   {
    "duration": 11,
    "start_time": "2023-04-25T10:35:23.073Z"
   },
   {
    "duration": 17,
    "start_time": "2023-04-25T10:35:23.085Z"
   },
   {
    "duration": 2,
    "start_time": "2023-04-25T10:37:57.013Z"
   },
   {
    "duration": 68,
    "start_time": "2023-04-25T10:40:07.858Z"
   },
   {
    "duration": 7,
    "start_time": "2023-04-25T10:40:38.497Z"
   },
   {
    "duration": 71,
    "start_time": "2023-04-25T10:40:47.004Z"
   },
   {
    "duration": 5,
    "start_time": "2023-04-25T10:41:21.705Z"
   },
   {
    "duration": 3109,
    "start_time": "2023-04-25T10:41:27.813Z"
   },
   {
    "duration": 3653,
    "start_time": "2023-04-25T10:42:59.243Z"
   },
   {
    "duration": 2798,
    "start_time": "2023-04-25T10:43:21.389Z"
   },
   {
    "duration": 4,
    "start_time": "2023-04-25T10:44:32.799Z"
   },
   {
    "duration": 3,
    "start_time": "2023-04-25T10:44:34.322Z"
   },
   {
    "duration": 4,
    "start_time": "2023-04-25T10:44:50.512Z"
   },
   {
    "duration": 3251,
    "start_time": "2023-04-25T10:44:55.436Z"
   },
   {
    "duration": 55,
    "start_time": "2023-04-25T10:46:50.101Z"
   },
   {
    "duration": 3,
    "start_time": "2023-04-25T10:47:15.150Z"
   },
   {
    "duration": 3,
    "start_time": "2023-04-25T10:47:16.724Z"
   },
   {
    "duration": 3,
    "start_time": "2023-04-25T10:47:17.896Z"
   },
   {
    "duration": 7,
    "start_time": "2023-04-25T10:47:19.052Z"
   },
   {
    "duration": 5,
    "start_time": "2023-04-25T10:47:21.307Z"
   },
   {
    "duration": 18,
    "start_time": "2023-04-25T10:47:22.531Z"
   },
   {
    "duration": 2,
    "start_time": "2023-04-25T10:47:23.859Z"
   },
   {
    "duration": 2569,
    "start_time": "2023-04-25T10:47:26.036Z"
   },
   {
    "duration": 3,
    "start_time": "2023-04-25T10:47:55.741Z"
   },
   {
    "duration": 2836,
    "start_time": "2023-04-25T10:48:28.153Z"
   },
   {
    "duration": 2646,
    "start_time": "2023-04-25T10:49:25.838Z"
   },
   {
    "duration": 2891,
    "start_time": "2023-04-25T10:49:40.797Z"
   },
   {
    "duration": 9,
    "start_time": "2023-04-25T10:49:48.885Z"
   },
   {
    "duration": 8,
    "start_time": "2023-04-25T10:50:02.118Z"
   },
   {
    "duration": 2617,
    "start_time": "2023-04-25T10:51:26.677Z"
   },
   {
    "duration": 3077,
    "start_time": "2023-04-25T10:53:01.807Z"
   },
   {
    "duration": 2849,
    "start_time": "2023-04-25T10:53:13.334Z"
   },
   {
    "duration": 2586,
    "start_time": "2023-04-25T10:53:22.199Z"
   },
   {
    "duration": 3417,
    "start_time": "2023-04-25T10:53:53.471Z"
   },
   {
    "duration": 2709,
    "start_time": "2023-04-25T10:55:48.485Z"
   },
   {
    "duration": 4708,
    "start_time": "2023-04-25T10:56:08.185Z"
   },
   {
    "duration": 5545,
    "start_time": "2023-04-25T10:57:09.241Z"
   },
   {
    "duration": 5094,
    "start_time": "2023-04-25T10:57:31.005Z"
   },
   {
    "duration": 7,
    "start_time": "2023-04-25T11:17:52.970Z"
   },
   {
    "duration": 5,
    "start_time": "2023-04-25T11:23:38.912Z"
   },
   {
    "duration": 15,
    "start_time": "2023-04-25T11:25:34.527Z"
   },
   {
    "duration": 10,
    "start_time": "2023-04-25T11:25:54.533Z"
   },
   {
    "duration": 6,
    "start_time": "2023-04-25T11:27:11.511Z"
   },
   {
    "duration": 3,
    "start_time": "2023-04-25T11:27:26.211Z"
   },
   {
    "duration": 3,
    "start_time": "2023-04-25T11:27:27.861Z"
   },
   {
    "duration": 14,
    "start_time": "2023-04-25T11:27:30.611Z"
   },
   {
    "duration": 6,
    "start_time": "2023-04-25T11:28:30.704Z"
   },
   {
    "duration": 69686,
    "start_time": "2023-04-25T11:30:49.119Z"
   },
   {
    "duration": 350798,
    "start_time": "2023-04-25T11:32:20.187Z"
   },
   {
    "duration": 14,
    "start_time": "2023-04-25T11:45:35.054Z"
   },
   {
    "duration": 5,
    "start_time": "2023-04-25T11:45:45.545Z"
   },
   {
    "duration": 6,
    "start_time": "2023-04-25T11:46:58.183Z"
   },
   {
    "duration": 6,
    "start_time": "2023-04-25T11:47:05.879Z"
   },
   {
    "duration": 12,
    "start_time": "2023-04-25T11:47:12.454Z"
   },
   {
    "duration": 6,
    "start_time": "2023-04-25T11:47:17.870Z"
   },
   {
    "duration": 49,
    "start_time": "2023-04-25T11:47:23.200Z"
   },
   {
    "duration": 49,
    "start_time": "2023-04-25T11:47:28.041Z"
   },
   {
    "duration": 59,
    "start_time": "2023-04-25T11:47:36.134Z"
   },
   {
    "duration": 53,
    "start_time": "2023-04-25T11:47:39.645Z"
   },
   {
    "duration": 58,
    "start_time": "2023-04-25T11:47:45.440Z"
   },
   {
    "duration": 6,
    "start_time": "2023-04-25T11:47:55.849Z"
   },
   {
    "duration": 7,
    "start_time": "2023-04-25T11:48:10.113Z"
   },
   {
    "duration": 6,
    "start_time": "2023-04-25T11:48:14.600Z"
   },
   {
    "duration": 3,
    "start_time": "2023-04-25T11:49:45.966Z"
   },
   {
    "duration": 3,
    "start_time": "2023-04-25T11:49:46.606Z"
   },
   {
    "duration": 3,
    "start_time": "2023-04-25T11:49:48.192Z"
   },
   {
    "duration": 6,
    "start_time": "2023-04-25T11:49:49.727Z"
   },
   {
    "duration": 5,
    "start_time": "2023-04-25T11:49:50.693Z"
   },
   {
    "duration": 3,
    "start_time": "2023-04-25T11:49:53.647Z"
   },
   {
    "duration": 3,
    "start_time": "2023-04-25T11:49:56.135Z"
   },
   {
    "duration": 4,
    "start_time": "2023-04-25T11:50:00.075Z"
   },
   {
    "duration": 3691,
    "start_time": "2023-04-25T11:50:59.802Z"
   },
   {
    "duration": 5633,
    "start_time": "2023-04-25T11:51:06.642Z"
   },
   {
    "duration": 417258,
    "start_time": "2023-04-25T11:51:14.697Z"
   },
   {
    "duration": 8,
    "start_time": "2023-04-25T11:59:05.066Z"
   },
   {
    "duration": 64,
    "start_time": "2023-04-25T12:02:57.255Z"
   },
   {
    "duration": 5,
    "start_time": "2023-04-25T12:03:37.397Z"
   },
   {
    "duration": 98,
    "start_time": "2023-04-25T12:58:26.649Z"
   },
   {
    "duration": 52,
    "start_time": "2023-04-25T13:09:25.997Z"
   },
   {
    "duration": 15,
    "start_time": "2023-04-25T13:12:33.012Z"
   },
   {
    "duration": 10,
    "start_time": "2023-04-25T13:13:26.133Z"
   },
   {
    "duration": 11,
    "start_time": "2023-04-25T13:13:36.889Z"
   },
   {
    "duration": 7,
    "start_time": "2023-04-25T13:17:07.848Z"
   },
   {
    "duration": 10,
    "start_time": "2023-04-25T13:17:29.124Z"
   },
   {
    "duration": 16,
    "start_time": "2023-04-25T13:17:40.092Z"
   },
   {
    "duration": 22,
    "start_time": "2023-04-25T13:23:37.651Z"
   },
   {
    "duration": 15,
    "start_time": "2023-04-25T13:24:26.916Z"
   },
   {
    "duration": 8,
    "start_time": "2023-04-25T13:25:38.157Z"
   },
   {
    "duration": 14,
    "start_time": "2023-04-25T13:27:17.541Z"
   },
   {
    "duration": 17,
    "start_time": "2023-04-25T13:28:18.396Z"
   },
   {
    "duration": 23,
    "start_time": "2023-04-25T13:28:59.736Z"
   },
   {
    "duration": 16,
    "start_time": "2023-04-25T13:29:10.357Z"
   },
   {
    "duration": 10,
    "start_time": "2023-04-25T13:29:23.396Z"
   },
   {
    "duration": 15,
    "start_time": "2023-04-25T13:29:42.728Z"
   },
   {
    "duration": 3,
    "start_time": "2023-04-25T13:31:25.335Z"
   },
   {
    "duration": 15,
    "start_time": "2023-04-25T13:31:36.292Z"
   },
   {
    "duration": 9,
    "start_time": "2023-04-25T13:32:27.452Z"
   },
   {
    "duration": 11,
    "start_time": "2023-04-25T13:32:53.312Z"
   },
   {
    "duration": 25,
    "start_time": "2023-04-25T13:38:12.025Z"
   },
   {
    "duration": 9,
    "start_time": "2023-04-25T13:40:25.829Z"
   },
   {
    "duration": 14,
    "start_time": "2023-04-25T13:40:44.214Z"
   },
   {
    "duration": 10,
    "start_time": "2023-04-25T13:41:09.541Z"
   },
   {
    "duration": 3,
    "start_time": "2023-04-25T13:41:37.428Z"
   },
   {
    "duration": 19,
    "start_time": "2023-04-25T13:41:37.433Z"
   },
   {
    "duration": 20,
    "start_time": "2023-04-25T13:41:37.454Z"
   },
   {
    "duration": 851,
    "start_time": "2023-04-25T13:41:37.477Z"
   },
   {
    "duration": 27,
    "start_time": "2023-04-25T13:41:38.330Z"
   },
   {
    "duration": 49,
    "start_time": "2023-04-25T13:41:38.359Z"
   },
   {
    "duration": 31,
    "start_time": "2023-04-25T13:41:38.409Z"
   },
   {
    "duration": 12,
    "start_time": "2023-04-25T13:41:38.442Z"
   },
   {
    "duration": 175,
    "start_time": "2023-04-25T13:41:38.457Z"
   },
   {
    "duration": 31,
    "start_time": "2023-04-25T13:41:38.634Z"
   },
   {
    "duration": 134,
    "start_time": "2023-04-25T13:41:38.667Z"
   },
   {
    "duration": 8,
    "start_time": "2023-04-25T13:41:38.803Z"
   },
   {
    "duration": 13,
    "start_time": "2023-04-25T13:41:38.814Z"
   },
   {
    "duration": 25,
    "start_time": "2023-04-25T13:41:38.829Z"
   },
   {
    "duration": 48,
    "start_time": "2023-04-25T13:41:38.856Z"
   },
   {
    "duration": 110,
    "start_time": "2023-04-25T13:41:38.906Z"
   },
   {
    "duration": 13,
    "start_time": "2023-04-25T13:41:39.018Z"
   },
   {
    "duration": 7,
    "start_time": "2023-04-25T13:41:39.033Z"
   },
   {
    "duration": 14,
    "start_time": "2023-04-25T13:41:39.042Z"
   },
   {
    "duration": 21,
    "start_time": "2023-04-25T13:41:39.058Z"
   },
   {
    "duration": 34,
    "start_time": "2023-04-25T13:41:39.080Z"
   },
   {
    "duration": 4,
    "start_time": "2023-04-25T13:41:39.117Z"
   },
   {
    "duration": 12,
    "start_time": "2023-04-25T13:41:39.123Z"
   },
   {
    "duration": 305,
    "start_time": "2023-04-25T13:41:39.141Z"
   },
   {
    "duration": 18,
    "start_time": "2023-04-25T13:41:39.447Z"
   },
   {
    "duration": 28,
    "start_time": "2023-04-25T13:41:39.467Z"
   },
   {
    "duration": 42,
    "start_time": "2023-04-25T13:41:39.498Z"
   },
   {
    "duration": 11,
    "start_time": "2023-04-25T13:41:39.542Z"
   },
   {
    "duration": 263,
    "start_time": "2023-04-25T13:41:39.555Z"
   },
   {
    "duration": 868,
    "start_time": "2023-04-25T13:41:39.821Z"
   },
   {
    "duration": 11,
    "start_time": "2023-04-25T13:41:40.692Z"
   },
   {
    "duration": 9,
    "start_time": "2023-04-25T13:41:40.706Z"
   },
   {
    "duration": 1205,
    "start_time": "2023-04-25T13:41:40.716Z"
   },
   {
    "duration": 9,
    "start_time": "2023-04-25T13:41:41.922Z"
   },
   {
    "duration": 17,
    "start_time": "2023-04-25T13:41:41.933Z"
   },
   {
    "duration": 1416,
    "start_time": "2023-04-25T13:41:41.952Z"
   },
   {
    "duration": 1053,
    "start_time": "2023-04-25T13:41:43.370Z"
   },
   {
    "duration": 1536,
    "start_time": "2023-04-25T13:41:44.425Z"
   },
   {
    "duration": 23,
    "start_time": "2023-04-25T13:41:45.963Z"
   },
   {
    "duration": 22,
    "start_time": "2023-04-25T13:41:45.989Z"
   },
   {
    "duration": 8,
    "start_time": "2023-04-25T13:41:46.012Z"
   },
   {
    "duration": 11,
    "start_time": "2023-04-25T13:41:46.021Z"
   },
   {
    "duration": 8,
    "start_time": "2023-04-25T13:41:46.034Z"
   },
   {
    "duration": 9,
    "start_time": "2023-04-25T13:41:46.044Z"
   },
   {
    "duration": 36,
    "start_time": "2023-04-25T13:41:46.055Z"
   },
   {
    "duration": 20,
    "start_time": "2023-04-25T13:41:46.093Z"
   },
   {
    "duration": 12,
    "start_time": "2023-04-25T13:41:46.114Z"
   },
   {
    "duration": 12,
    "start_time": "2023-04-25T13:41:46.128Z"
   },
   {
    "duration": 13,
    "start_time": "2023-04-25T13:41:46.142Z"
   },
   {
    "duration": 18,
    "start_time": "2023-04-25T13:41:46.156Z"
   },
   {
    "duration": 41,
    "start_time": "2023-04-25T13:41:46.175Z"
   },
   {
    "duration": 35,
    "start_time": "2023-04-25T13:41:46.217Z"
   },
   {
    "duration": 16,
    "start_time": "2023-04-25T13:41:46.254Z"
   },
   {
    "duration": 28,
    "start_time": "2023-04-25T13:41:46.272Z"
   },
   {
    "duration": 6093,
    "start_time": "2023-04-25T13:41:46.303Z"
   },
   {
    "duration": 5993,
    "start_time": "2023-04-25T13:41:52.400Z"
   },
   {
    "duration": 412704,
    "start_time": "2023-04-25T13:41:58.395Z"
   },
   {
    "duration": 6,
    "start_time": "2023-04-25T13:48:51.100Z"
   },
   {
    "duration": 6,
    "start_time": "2023-04-25T13:48:51.107Z"
   },
   {
    "duration": 105,
    "start_time": "2023-04-25T13:48:51.115Z"
   },
   {
    "duration": 9,
    "start_time": "2023-04-25T13:50:30.249Z"
   },
   {
    "duration": 69,
    "start_time": "2023-04-25T13:50:43.478Z"
   },
   {
    "duration": 19,
    "start_time": "2023-04-25T13:50:51.449Z"
   },
   {
    "duration": 13,
    "start_time": "2023-04-25T13:50:59.841Z"
   },
   {
    "duration": 7,
    "start_time": "2023-04-25T13:55:10.222Z"
   },
   {
    "duration": 10,
    "start_time": "2023-04-25T13:55:59.130Z"
   },
   {
    "duration": 3,
    "start_time": "2023-04-25T13:57:14.021Z"
   },
   {
    "duration": 108,
    "start_time": "2023-04-25T13:58:13.612Z"
   },
   {
    "duration": 94,
    "start_time": "2023-04-25T13:59:07.283Z"
   },
   {
    "duration": 4,
    "start_time": "2023-04-25T13:59:27.807Z"
   },
   {
    "duration": 9,
    "start_time": "2023-04-25T13:59:30.481Z"
   },
   {
    "duration": 3,
    "start_time": "2023-04-25T14:00:00.997Z"
   },
   {
    "duration": 3,
    "start_time": "2023-04-25T14:00:32.277Z"
   },
   {
    "duration": 3,
    "start_time": "2023-04-25T14:00:48.597Z"
   },
   {
    "duration": 10,
    "start_time": "2023-04-25T14:02:23.077Z"
   },
   {
    "duration": 4,
    "start_time": "2023-04-25T14:04:52.002Z"
   },
   {
    "duration": 4,
    "start_time": "2023-04-25T14:05:00.254Z"
   },
   {
    "duration": 797,
    "start_time": "2023-04-25T14:06:44.525Z"
   },
   {
    "duration": 3,
    "start_time": "2023-04-25T14:18:17.741Z"
   },
   {
    "duration": 51,
    "start_time": "2023-04-25T14:18:17.746Z"
   },
   {
    "duration": 40,
    "start_time": "2023-04-25T14:18:17.799Z"
   },
   {
    "duration": 741,
    "start_time": "2023-04-25T14:18:17.841Z"
   },
   {
    "duration": 34,
    "start_time": "2023-04-25T14:18:18.584Z"
   },
   {
    "duration": 85,
    "start_time": "2023-04-25T14:18:18.620Z"
   },
   {
    "duration": 42,
    "start_time": "2023-04-25T14:18:18.707Z"
   },
   {
    "duration": 24,
    "start_time": "2023-04-25T14:18:18.751Z"
   },
   {
    "duration": 154,
    "start_time": "2023-04-25T14:18:18.777Z"
   },
   {
    "duration": 29,
    "start_time": "2023-04-25T14:18:18.933Z"
   },
   {
    "duration": 136,
    "start_time": "2023-04-25T14:18:18.966Z"
   },
   {
    "duration": 13,
    "start_time": "2023-04-25T14:18:19.103Z"
   },
   {
    "duration": 56,
    "start_time": "2023-04-25T14:18:19.118Z"
   },
   {
    "duration": 47,
    "start_time": "2023-04-25T14:18:19.176Z"
   },
   {
    "duration": 45,
    "start_time": "2023-04-25T14:18:19.224Z"
   },
   {
    "duration": 87,
    "start_time": "2023-04-25T14:18:19.271Z"
   },
   {
    "duration": 12,
    "start_time": "2023-04-25T14:18:19.360Z"
   },
   {
    "duration": 13,
    "start_time": "2023-04-25T14:18:19.374Z"
   },
   {
    "duration": 17,
    "start_time": "2023-04-25T14:18:19.388Z"
   },
   {
    "duration": 18,
    "start_time": "2023-04-25T14:18:19.406Z"
   },
   {
    "duration": 17,
    "start_time": "2023-04-25T14:18:19.425Z"
   },
   {
    "duration": 45,
    "start_time": "2023-04-25T14:18:19.444Z"
   },
   {
    "duration": 49,
    "start_time": "2023-04-25T14:18:19.491Z"
   },
   {
    "duration": 252,
    "start_time": "2023-04-25T14:18:19.542Z"
   },
   {
    "duration": 21,
    "start_time": "2023-04-25T14:18:19.796Z"
   },
   {
    "duration": 8,
    "start_time": "2023-04-25T14:18:19.819Z"
   },
   {
    "duration": 21,
    "start_time": "2023-04-25T14:18:19.829Z"
   },
   {
    "duration": 8,
    "start_time": "2023-04-25T14:18:19.857Z"
   },
   {
    "duration": 207,
    "start_time": "2023-04-25T14:18:19.883Z"
   },
   {
    "duration": 1068,
    "start_time": "2023-04-25T14:18:20.092Z"
   },
   {
    "duration": 8,
    "start_time": "2023-04-25T14:18:21.162Z"
   },
   {
    "duration": 51,
    "start_time": "2023-04-25T14:18:21.183Z"
   },
   {
    "duration": 796,
    "start_time": "2023-04-25T14:18:21.236Z"
   },
   {
    "duration": 9,
    "start_time": "2023-04-25T14:18:22.034Z"
   },
   {
    "duration": 71,
    "start_time": "2023-04-25T14:18:22.045Z"
   },
   {
    "duration": 1356,
    "start_time": "2023-04-25T14:18:22.118Z"
   },
   {
    "duration": 1364,
    "start_time": "2023-04-25T14:18:23.483Z"
   },
   {
    "duration": 1150,
    "start_time": "2023-04-25T14:18:24.849Z"
   },
   {
    "duration": 17,
    "start_time": "2023-04-25T14:18:26.001Z"
   },
   {
    "duration": 17,
    "start_time": "2023-04-25T14:18:33.669Z"
   },
   {
    "duration": 9,
    "start_time": "2023-04-25T14:18:37.185Z"
   },
   {
    "duration": 4,
    "start_time": "2023-04-25T14:18:41.443Z"
   },
   {
    "duration": 5,
    "start_time": "2023-04-25T14:18:47.585Z"
   },
   {
    "duration": 7,
    "start_time": "2023-04-25T14:18:48.626Z"
   },
   {
    "duration": 8,
    "start_time": "2023-04-25T14:18:50.097Z"
   },
   {
    "duration": 5,
    "start_time": "2023-04-25T14:18:51.116Z"
   },
   {
    "duration": 4,
    "start_time": "2023-04-25T14:18:54.870Z"
   },
   {
    "duration": 3,
    "start_time": "2023-04-25T14:18:55.697Z"
   },
   {
    "duration": 2,
    "start_time": "2023-04-25T14:18:59.470Z"
   },
   {
    "duration": 7,
    "start_time": "2023-04-25T14:19:06.889Z"
   },
   {
    "duration": 6,
    "start_time": "2023-04-25T14:19:10.304Z"
   },
   {
    "duration": 3,
    "start_time": "2023-04-25T14:19:15.435Z"
   },
   {
    "duration": 4,
    "start_time": "2023-04-25T14:19:16.603Z"
   },
   {
    "duration": 4,
    "start_time": "2023-04-25T14:19:18.539Z"
   },
   {
    "duration": 3784,
    "start_time": "2023-04-25T14:19:20.108Z"
   },
   {
    "duration": 5879,
    "start_time": "2023-04-25T14:19:25.212Z"
   },
   {
    "duration": 408963,
    "start_time": "2023-04-25T14:22:40.838Z"
   },
   {
    "duration": 5,
    "start_time": "2023-04-25T14:30:41.500Z"
   },
   {
    "duration": 4,
    "start_time": "2023-04-25T14:30:49.225Z"
   },
   {
    "duration": 101,
    "start_time": "2023-04-25T14:30:52.808Z"
   },
   {
    "duration": 4,
    "start_time": "2023-04-25T14:31:05.574Z"
   },
   {
    "duration": 1196,
    "start_time": "2023-04-25T14:31:06.998Z"
   },
   {
    "duration": 5,
    "start_time": "2023-04-25T14:32:21.035Z"
   },
   {
    "duration": 93,
    "start_time": "2023-04-25T14:33:14.201Z"
   },
   {
    "duration": 8,
    "start_time": "2023-04-25T14:33:35.112Z"
   },
   {
    "duration": 4,
    "start_time": "2023-04-25T14:33:39.309Z"
   },
   {
    "duration": 3,
    "start_time": "2023-04-25T14:33:46.069Z"
   },
   {
    "duration": 3,
    "start_time": "2023-04-25T14:34:01.273Z"
   },
   {
    "duration": 42,
    "start_time": "2023-04-25T14:34:01.278Z"
   },
   {
    "duration": 40,
    "start_time": "2023-04-25T14:34:01.322Z"
   },
   {
    "duration": 789,
    "start_time": "2023-04-25T14:34:01.364Z"
   },
   {
    "duration": 37,
    "start_time": "2023-04-25T14:34:02.156Z"
   },
   {
    "duration": 44,
    "start_time": "2023-04-25T14:34:02.196Z"
   },
   {
    "duration": 19,
    "start_time": "2023-04-25T14:34:02.242Z"
   },
   {
    "duration": 19,
    "start_time": "2023-04-25T14:34:02.263Z"
   },
   {
    "duration": 156,
    "start_time": "2023-04-25T14:34:02.284Z"
   },
   {
    "duration": 31,
    "start_time": "2023-04-25T14:34:02.442Z"
   },
   {
    "duration": 136,
    "start_time": "2023-04-25T14:34:02.485Z"
   },
   {
    "duration": 8,
    "start_time": "2023-04-25T14:34:02.623Z"
   },
   {
    "duration": 37,
    "start_time": "2023-04-25T14:34:02.632Z"
   },
   {
    "duration": 43,
    "start_time": "2023-04-25T14:34:02.673Z"
   },
   {
    "duration": 50,
    "start_time": "2023-04-25T14:34:02.717Z"
   },
   {
    "duration": 100,
    "start_time": "2023-04-25T14:34:02.768Z"
   },
   {
    "duration": 22,
    "start_time": "2023-04-25T14:34:02.870Z"
   },
   {
    "duration": 14,
    "start_time": "2023-04-25T14:34:02.894Z"
   },
   {
    "duration": 24,
    "start_time": "2023-04-25T14:34:02.910Z"
   },
   {
    "duration": 27,
    "start_time": "2023-04-25T14:34:02.936Z"
   },
   {
    "duration": 31,
    "start_time": "2023-04-25T14:34:02.965Z"
   },
   {
    "duration": 30,
    "start_time": "2023-04-25T14:34:02.999Z"
   },
   {
    "duration": 28,
    "start_time": "2023-04-25T14:34:03.031Z"
   },
   {
    "duration": 342,
    "start_time": "2023-04-25T14:34:03.061Z"
   },
   {
    "duration": 17,
    "start_time": "2023-04-25T14:34:03.405Z"
   },
   {
    "duration": 13,
    "start_time": "2023-04-25T14:34:03.423Z"
   },
   {
    "duration": 17,
    "start_time": "2023-04-25T14:34:03.437Z"
   },
   {
    "duration": 26,
    "start_time": "2023-04-25T14:34:03.455Z"
   },
   {
    "duration": 239,
    "start_time": "2023-04-25T14:34:03.484Z"
   },
   {
    "duration": 872,
    "start_time": "2023-04-25T14:34:03.726Z"
   },
   {
    "duration": 8,
    "start_time": "2023-04-25T14:34:04.600Z"
   },
   {
    "duration": 43,
    "start_time": "2023-04-25T14:34:04.610Z"
   },
   {
    "duration": 1224,
    "start_time": "2023-04-25T14:34:04.655Z"
   },
   {
    "duration": 14,
    "start_time": "2023-04-25T14:34:05.882Z"
   },
   {
    "duration": 17,
    "start_time": "2023-04-25T14:34:05.898Z"
   },
   {
    "duration": 1239,
    "start_time": "2023-04-25T14:34:05.917Z"
   },
   {
    "duration": 1585,
    "start_time": "2023-04-25T14:34:07.158Z"
   },
   {
    "duration": 1503,
    "start_time": "2023-04-25T14:34:08.745Z"
   },
   {
    "duration": 15,
    "start_time": "2023-04-25T14:34:10.250Z"
   },
   {
    "duration": 39,
    "start_time": "2023-04-25T14:34:10.267Z"
   },
   {
    "duration": 41,
    "start_time": "2023-04-25T14:34:10.310Z"
   },
   {
    "duration": 5,
    "start_time": "2023-04-25T14:34:13.720Z"
   },
   {
    "duration": 7,
    "start_time": "2023-04-25T14:34:17.095Z"
   },
   {
    "duration": 6,
    "start_time": "2023-04-25T14:34:17.669Z"
   },
   {
    "duration": 7,
    "start_time": "2023-04-25T14:34:18.804Z"
   },
   {
    "duration": 7,
    "start_time": "2023-04-25T14:34:19.595Z"
   },
   {
    "duration": 4,
    "start_time": "2023-04-25T14:34:21.985Z"
   },
   {
    "duration": 3,
    "start_time": "2023-04-25T14:34:22.578Z"
   },
   {
    "duration": 3,
    "start_time": "2023-04-25T14:34:23.713Z"
   },
   {
    "duration": 7,
    "start_time": "2023-04-25T14:34:26.019Z"
   },
   {
    "duration": 6,
    "start_time": "2023-04-25T14:34:27.162Z"
   },
   {
    "duration": 3,
    "start_time": "2023-04-25T14:34:31.237Z"
   },
   {
    "duration": 4,
    "start_time": "2023-04-25T14:34:32.778Z"
   },
   {
    "duration": 4,
    "start_time": "2023-04-25T14:36:24.005Z"
   },
   {
    "duration": 5,
    "start_time": "2023-04-25T14:36:26.129Z"
   },
   {
    "duration": 3328,
    "start_time": "2023-04-25T14:36:28.157Z"
   },
   {
    "duration": 5673,
    "start_time": "2023-04-25T14:36:34.707Z"
   },
   {
    "duration": 399953,
    "start_time": "2023-04-25T14:36:44.381Z"
   },
   {
    "duration": 6,
    "start_time": "2023-04-25T14:45:18.223Z"
   },
   {
    "duration": 4,
    "start_time": "2023-04-25T14:45:21.924Z"
   },
   {
    "duration": 94,
    "start_time": "2023-04-25T14:45:26.311Z"
   },
   {
    "duration": 5,
    "start_time": "2023-04-25T14:45:37.596Z"
   },
   {
    "duration": 796,
    "start_time": "2023-04-25T14:45:39.631Z"
   },
   {
    "duration": 15,
    "start_time": "2023-04-25T14:48:48.700Z"
   },
   {
    "duration": 9,
    "start_time": "2023-04-25T14:49:06.906Z"
   },
   {
    "duration": 3,
    "start_time": "2023-04-25T14:52:04.113Z"
   },
   {
    "duration": 4,
    "start_time": "2023-04-25T14:52:12.001Z"
   },
   {
    "duration": 4451,
    "start_time": "2023-04-25T14:52:13.843Z"
   },
   {
    "duration": 11,
    "start_time": "2023-04-25T14:57:39.742Z"
   },
   {
    "duration": 10,
    "start_time": "2023-04-25T14:59:13.942Z"
   },
   {
    "duration": 9,
    "start_time": "2023-04-25T15:00:10.833Z"
   },
   {
    "duration": 9,
    "start_time": "2023-04-25T15:06:08.417Z"
   },
   {
    "duration": 11,
    "start_time": "2023-04-25T15:13:50.921Z"
   },
   {
    "duration": 4,
    "start_time": "2023-04-25T15:14:26.720Z"
   },
   {
    "duration": 3474,
    "start_time": "2023-04-25T15:14:30.717Z"
   },
   {
    "duration": 327362,
    "start_time": "2023-04-25T15:14:38.489Z"
   },
   {
    "duration": 9,
    "start_time": "2023-04-25T15:22:36.305Z"
   },
   {
    "duration": 3,
    "start_time": "2023-04-25T15:22:49.152Z"
   },
   {
    "duration": 4,
    "start_time": "2023-04-25T15:24:25.425Z"
   },
   {
    "duration": 11,
    "start_time": "2023-04-25T15:24:49.781Z"
   },
   {
    "duration": 4,
    "start_time": "2023-04-25T15:26:19.809Z"
   },
   {
    "duration": 46,
    "start_time": "2023-04-25T15:26:19.817Z"
   },
   {
    "duration": 1220,
    "start_time": "2023-04-25T15:26:19.865Z"
   },
   {
    "duration": 673,
    "start_time": "2023-04-25T15:26:21.087Z"
   },
   {
    "duration": 28,
    "start_time": "2023-04-25T15:26:21.762Z"
   },
   {
    "duration": 30,
    "start_time": "2023-04-25T15:26:21.792Z"
   },
   {
    "duration": 43,
    "start_time": "2023-04-25T15:26:21.823Z"
   },
   {
    "duration": 27,
    "start_time": "2023-04-25T15:26:21.867Z"
   },
   {
    "duration": 166,
    "start_time": "2023-04-25T15:26:21.895Z"
   },
   {
    "duration": 40,
    "start_time": "2023-04-25T15:26:22.063Z"
   },
   {
    "duration": 112,
    "start_time": "2023-04-25T15:26:22.104Z"
   },
   {
    "duration": 7,
    "start_time": "2023-04-25T15:26:22.218Z"
   },
   {
    "duration": 24,
    "start_time": "2023-04-25T15:26:22.227Z"
   },
   {
    "duration": 14,
    "start_time": "2023-04-25T15:26:22.253Z"
   },
   {
    "duration": 39,
    "start_time": "2023-04-25T15:26:22.270Z"
   },
   {
    "duration": 92,
    "start_time": "2023-04-25T15:26:22.311Z"
   },
   {
    "duration": 12,
    "start_time": "2023-04-25T15:26:22.404Z"
   },
   {
    "duration": 6,
    "start_time": "2023-04-25T15:26:22.417Z"
   },
   {
    "duration": 25,
    "start_time": "2023-04-25T15:26:22.425Z"
   },
   {
    "duration": 24,
    "start_time": "2023-04-25T15:26:22.451Z"
   },
   {
    "duration": 16,
    "start_time": "2023-04-25T15:26:22.476Z"
   },
   {
    "duration": 4,
    "start_time": "2023-04-25T15:26:22.493Z"
   },
   {
    "duration": 8,
    "start_time": "2023-04-25T15:26:22.498Z"
   },
   {
    "duration": 251,
    "start_time": "2023-04-25T15:26:22.507Z"
   },
   {
    "duration": 24,
    "start_time": "2023-04-25T15:26:22.760Z"
   },
   {
    "duration": 7,
    "start_time": "2023-04-25T15:26:22.785Z"
   },
   {
    "duration": 14,
    "start_time": "2023-04-25T15:26:22.793Z"
   },
   {
    "duration": 13,
    "start_time": "2023-04-25T15:26:22.809Z"
   },
   {
    "duration": 203,
    "start_time": "2023-04-25T15:26:22.824Z"
   },
   {
    "duration": 810,
    "start_time": "2023-04-25T15:26:23.029Z"
   },
   {
    "duration": 8,
    "start_time": "2023-04-25T15:26:23.841Z"
   },
   {
    "duration": 18,
    "start_time": "2023-04-25T15:26:23.851Z"
   },
   {
    "duration": 754,
    "start_time": "2023-04-25T15:26:23.871Z"
   },
   {
    "duration": 8,
    "start_time": "2023-04-25T15:26:24.628Z"
   },
   {
    "duration": 39,
    "start_time": "2023-04-25T15:26:24.638Z"
   },
   {
    "duration": 1153,
    "start_time": "2023-04-25T15:26:24.679Z"
   },
   {
    "duration": 1101,
    "start_time": "2023-04-25T15:26:25.834Z"
   },
   {
    "duration": 1133,
    "start_time": "2023-04-25T15:26:26.937Z"
   },
   {
    "duration": 26,
    "start_time": "2023-04-25T15:26:28.072Z"
   },
   {
    "duration": 15,
    "start_time": "2023-04-25T15:26:28.099Z"
   },
   {
    "duration": 11,
    "start_time": "2023-04-25T15:26:28.116Z"
   },
   {
    "duration": 4,
    "start_time": "2023-04-25T15:26:28.131Z"
   },
   {
    "duration": 10,
    "start_time": "2023-04-25T15:26:28.136Z"
   },
   {
    "duration": 37,
    "start_time": "2023-04-25T15:26:28.147Z"
   },
   {
    "duration": 6,
    "start_time": "2023-04-25T15:26:28.185Z"
   },
   {
    "duration": 16,
    "start_time": "2023-04-25T15:26:28.193Z"
   },
   {
    "duration": 10,
    "start_time": "2023-04-25T15:26:28.210Z"
   },
   {
    "duration": 18,
    "start_time": "2023-04-25T15:26:28.222Z"
   },
   {
    "duration": 20,
    "start_time": "2023-04-25T15:26:28.241Z"
   },
   {
    "duration": 17,
    "start_time": "2023-04-25T15:26:28.262Z"
   },
   {
    "duration": 34,
    "start_time": "2023-04-25T15:26:28.280Z"
   },
   {
    "duration": 13,
    "start_time": "2023-04-25T15:26:28.316Z"
   },
   {
    "duration": 38,
    "start_time": "2023-04-25T15:26:28.331Z"
   },
   {
    "duration": 139,
    "start_time": "2023-04-25T15:26:28.370Z"
   },
   {
    "duration": 1,
    "start_time": "2023-04-25T15:26:28.511Z"
   },
   {
    "duration": 0,
    "start_time": "2023-04-25T15:26:28.513Z"
   },
   {
    "duration": 0,
    "start_time": "2023-04-25T15:26:28.514Z"
   },
   {
    "duration": 0,
    "start_time": "2023-04-25T15:26:28.515Z"
   },
   {
    "duration": 0,
    "start_time": "2023-04-25T15:26:28.517Z"
   },
   {
    "duration": 0,
    "start_time": "2023-04-25T15:26:28.518Z"
   },
   {
    "duration": 0,
    "start_time": "2023-04-25T15:26:28.519Z"
   },
   {
    "duration": 0,
    "start_time": "2023-04-25T15:26:28.520Z"
   },
   {
    "duration": 0,
    "start_time": "2023-04-25T15:26:28.521Z"
   },
   {
    "duration": 0,
    "start_time": "2023-04-25T15:26:28.526Z"
   },
   {
    "duration": 11,
    "start_time": "2023-04-25T15:26:58.812Z"
   },
   {
    "duration": 14,
    "start_time": "2023-04-25T15:27:14.843Z"
   },
   {
    "duration": 3,
    "start_time": "2023-04-25T15:32:21.197Z"
   },
   {
    "duration": 4,
    "start_time": "2023-04-25T15:32:50.285Z"
   },
   {
    "duration": 3582,
    "start_time": "2023-04-25T15:32:52.606Z"
   },
   {
    "duration": 4,
    "start_time": "2023-04-25T15:33:17.533Z"
   },
   {
    "duration": 4,
    "start_time": "2023-04-25T15:33:35.981Z"
   },
   {
    "duration": 2,
    "start_time": "2023-04-25T15:33:50.848Z"
   },
   {
    "duration": 3,
    "start_time": "2023-04-25T15:34:10.405Z"
   },
   {
    "duration": 5390,
    "start_time": "2023-04-25T15:34:11.317Z"
   },
   {
    "duration": 3,
    "start_time": "2023-04-25T15:34:33.718Z"
   },
   {
    "duration": 4,
    "start_time": "2023-04-25T15:34:59.354Z"
   },
   {
    "duration": 3,
    "start_time": "2023-04-25T15:35:03.285Z"
   },
   {
    "duration": 406391,
    "start_time": "2023-04-25T15:35:29.289Z"
   },
   {
    "duration": 4,
    "start_time": "2023-04-25T15:42:20.193Z"
   },
   {
    "duration": 6,
    "start_time": "2023-04-25T15:42:36.902Z"
   },
   {
    "duration": 3,
    "start_time": "2023-04-25T15:42:41.093Z"
   },
   {
    "duration": 4,
    "start_time": "2023-04-25T15:42:47.305Z"
   },
   {
    "duration": 82,
    "start_time": "2023-04-25T15:42:49.627Z"
   },
   {
    "duration": 4,
    "start_time": "2023-04-25T15:43:28.737Z"
   },
   {
    "duration": 703,
    "start_time": "2023-04-25T15:43:36.858Z"
   },
   {
    "duration": 8,
    "start_time": "2023-04-25T15:43:48.620Z"
   },
   {
    "duration": 16,
    "start_time": "2023-04-25T15:43:54.993Z"
   },
   {
    "duration": 10,
    "start_time": "2023-04-25T15:43:59.156Z"
   },
   {
    "duration": 2,
    "start_time": "2023-04-25T15:52:40.645Z"
   },
   {
    "duration": 13,
    "start_time": "2023-04-25T15:52:40.649Z"
   },
   {
    "duration": 15,
    "start_time": "2023-04-25T15:52:40.664Z"
   },
   {
    "duration": 723,
    "start_time": "2023-04-25T15:52:40.681Z"
   },
   {
    "duration": 20,
    "start_time": "2023-04-25T15:52:41.406Z"
   },
   {
    "duration": 23,
    "start_time": "2023-04-25T15:52:41.427Z"
   },
   {
    "duration": 36,
    "start_time": "2023-04-25T15:52:41.452Z"
   },
   {
    "duration": 6,
    "start_time": "2023-04-25T15:52:41.490Z"
   },
   {
    "duration": 149,
    "start_time": "2023-04-25T15:52:41.497Z"
   },
   {
    "duration": 38,
    "start_time": "2023-04-25T15:52:41.648Z"
   },
   {
    "duration": 115,
    "start_time": "2023-04-25T15:52:41.689Z"
   },
   {
    "duration": 7,
    "start_time": "2023-04-25T15:52:41.805Z"
   },
   {
    "duration": 11,
    "start_time": "2023-04-25T15:52:41.814Z"
   },
   {
    "duration": 12,
    "start_time": "2023-04-25T15:52:41.827Z"
   },
   {
    "duration": 47,
    "start_time": "2023-04-25T15:52:41.840Z"
   },
   {
    "duration": 107,
    "start_time": "2023-04-25T15:52:41.889Z"
   },
   {
    "duration": 16,
    "start_time": "2023-04-25T15:52:41.997Z"
   },
   {
    "duration": 31,
    "start_time": "2023-04-25T15:52:42.015Z"
   },
   {
    "duration": 30,
    "start_time": "2023-04-25T15:52:42.048Z"
   },
   {
    "duration": 32,
    "start_time": "2023-04-25T15:52:42.080Z"
   },
   {
    "duration": 13,
    "start_time": "2023-04-25T15:52:42.113Z"
   },
   {
    "duration": 10,
    "start_time": "2023-04-25T15:52:42.128Z"
   },
   {
    "duration": 8,
    "start_time": "2023-04-25T15:52:42.140Z"
   },
   {
    "duration": 420,
    "start_time": "2023-04-25T15:52:42.150Z"
   },
   {
    "duration": 24,
    "start_time": "2023-04-25T15:52:42.571Z"
   },
   {
    "duration": 7,
    "start_time": "2023-04-25T15:52:42.597Z"
   },
   {
    "duration": 30,
    "start_time": "2023-04-25T15:52:42.606Z"
   },
   {
    "duration": 25,
    "start_time": "2023-04-25T15:52:42.638Z"
   },
   {
    "duration": 234,
    "start_time": "2023-04-25T15:52:42.667Z"
   },
   {
    "duration": 812,
    "start_time": "2023-04-25T15:52:42.903Z"
   },
   {
    "duration": 10,
    "start_time": "2023-04-25T15:52:43.717Z"
   },
   {
    "duration": 9,
    "start_time": "2023-04-25T15:52:43.729Z"
   },
   {
    "duration": 931,
    "start_time": "2023-04-25T15:52:43.740Z"
   },
   {
    "duration": 16,
    "start_time": "2023-04-25T15:52:44.673Z"
   },
   {
    "duration": 9,
    "start_time": "2023-04-25T15:52:44.691Z"
   },
   {
    "duration": 1289,
    "start_time": "2023-04-25T15:52:44.702Z"
   },
   {
    "duration": 1066,
    "start_time": "2023-04-25T15:52:45.993Z"
   },
   {
    "duration": 1329,
    "start_time": "2023-04-25T15:52:47.060Z"
   },
   {
    "duration": 17,
    "start_time": "2023-04-25T15:52:48.390Z"
   },
   {
    "duration": 36,
    "start_time": "2023-04-25T15:52:48.408Z"
   },
   {
    "duration": 39,
    "start_time": "2023-04-25T15:52:48.446Z"
   },
   {
    "duration": 25,
    "start_time": "2023-04-25T15:52:48.487Z"
   },
   {
    "duration": 28,
    "start_time": "2023-04-25T15:52:48.514Z"
   },
   {
    "duration": 17,
    "start_time": "2023-04-25T15:52:48.545Z"
   },
   {
    "duration": 22,
    "start_time": "2023-04-25T15:52:48.563Z"
   },
   {
    "duration": 22,
    "start_time": "2023-04-25T15:52:48.587Z"
   },
   {
    "duration": 3,
    "start_time": "2023-04-25T15:52:53.513Z"
   },
   {
    "duration": 3,
    "start_time": "2023-04-25T15:52:54.326Z"
   },
   {
    "duration": 3,
    "start_time": "2023-04-25T15:52:55.557Z"
   },
   {
    "duration": 9,
    "start_time": "2023-04-25T15:52:57.157Z"
   },
   {
    "duration": 6,
    "start_time": "2023-04-25T15:52:59.935Z"
   },
   {
    "duration": 3,
    "start_time": "2023-04-25T15:53:01.493Z"
   },
   {
    "duration": 3,
    "start_time": "2023-04-25T15:53:03.113Z"
   },
   {
    "duration": 6,
    "start_time": "2023-04-25T15:53:06.189Z"
   },
   {
    "duration": 81,
    "start_time": "2023-04-25T15:53:09.221Z"
   },
   {
    "duration": 2,
    "start_time": "2023-04-25T15:59:25.769Z"
   },
   {
    "duration": 6,
    "start_time": "2023-04-25T15:59:25.776Z"
   },
   {
    "duration": 13,
    "start_time": "2023-04-25T15:59:25.784Z"
   },
   {
    "duration": 703,
    "start_time": "2023-04-25T15:59:25.799Z"
   },
   {
    "duration": 18,
    "start_time": "2023-04-25T15:59:26.504Z"
   },
   {
    "duration": 20,
    "start_time": "2023-04-25T15:59:26.524Z"
   },
   {
    "duration": 38,
    "start_time": "2023-04-25T15:59:26.546Z"
   },
   {
    "duration": 3,
    "start_time": "2023-04-25T15:59:26.586Z"
   },
   {
    "duration": 142,
    "start_time": "2023-04-25T15:59:26.591Z"
   },
   {
    "duration": 27,
    "start_time": "2023-04-25T15:59:26.736Z"
   },
   {
    "duration": 125,
    "start_time": "2023-04-25T15:59:26.765Z"
   },
   {
    "duration": 3,
    "start_time": "2023-04-25T15:59:26.892Z"
   },
   {
    "duration": 11,
    "start_time": "2023-04-25T15:59:26.897Z"
   },
   {
    "duration": 14,
    "start_time": "2023-04-25T15:59:26.910Z"
   },
   {
    "duration": 30,
    "start_time": "2023-04-25T15:59:26.928Z"
   },
   {
    "duration": 96,
    "start_time": "2023-04-25T15:59:26.960Z"
   },
   {
    "duration": 13,
    "start_time": "2023-04-25T15:59:27.058Z"
   },
   {
    "duration": 5,
    "start_time": "2023-04-25T15:59:27.083Z"
   },
   {
    "duration": 9,
    "start_time": "2023-04-25T15:59:27.090Z"
   },
   {
    "duration": 9,
    "start_time": "2023-04-25T15:59:27.100Z"
   },
   {
    "duration": 13,
    "start_time": "2023-04-25T15:59:27.111Z"
   },
   {
    "duration": 3,
    "start_time": "2023-04-25T15:59:27.126Z"
   },
   {
    "duration": 10,
    "start_time": "2023-04-25T15:59:27.130Z"
   },
   {
    "duration": 194,
    "start_time": "2023-04-25T15:59:27.141Z"
   },
   {
    "duration": 19,
    "start_time": "2023-04-25T15:59:27.337Z"
   },
   {
    "duration": 7,
    "start_time": "2023-04-25T15:59:27.357Z"
   },
   {
    "duration": 19,
    "start_time": "2023-04-25T15:59:27.365Z"
   },
   {
    "duration": 10,
    "start_time": "2023-04-25T15:59:27.386Z"
   },
   {
    "duration": 187,
    "start_time": "2023-04-25T15:59:34.985Z"
   },
   {
    "duration": 197,
    "start_time": "2023-04-25T15:59:47.145Z"
   },
   {
    "duration": 348,
    "start_time": "2023-04-25T16:00:17.338Z"
   },
   {
    "duration": 201,
    "start_time": "2023-04-25T16:00:28.301Z"
   },
   {
    "duration": 207,
    "start_time": "2023-04-25T16:00:43.596Z"
   },
   {
    "duration": 50,
    "start_time": "2023-04-25T16:01:06.038Z"
   },
   {
    "duration": 196,
    "start_time": "2023-04-25T16:01:10.419Z"
   },
   {
    "duration": 124,
    "start_time": "2023-04-25T16:01:23.507Z"
   },
   {
    "duration": 194,
    "start_time": "2023-04-25T16:01:28.316Z"
   },
   {
    "duration": 197,
    "start_time": "2023-04-25T16:01:47.243Z"
   },
   {
    "duration": 198,
    "start_time": "2023-04-25T16:01:53.493Z"
   },
   {
    "duration": 199,
    "start_time": "2023-04-25T16:02:06.197Z"
   },
   {
    "duration": 210,
    "start_time": "2023-04-25T16:02:12.221Z"
   },
   {
    "duration": 217,
    "start_time": "2023-04-25T16:02:25.887Z"
   },
   {
    "duration": 208,
    "start_time": "2023-04-25T16:02:35.810Z"
   },
   {
    "duration": 213,
    "start_time": "2023-04-25T16:02:40.234Z"
   },
   {
    "duration": 211,
    "start_time": "2023-04-25T16:02:51.277Z"
   },
   {
    "duration": 859,
    "start_time": "2023-04-25T16:02:58.480Z"
   },
   {
    "duration": 9,
    "start_time": "2023-04-25T16:03:01.418Z"
   },
   {
    "duration": 8,
    "start_time": "2023-04-25T16:03:02.280Z"
   },
   {
    "duration": 855,
    "start_time": "2023-04-25T16:03:03.293Z"
   },
   {
    "duration": 11,
    "start_time": "2023-04-25T16:03:08.522Z"
   },
   {
    "duration": 9,
    "start_time": "2023-04-25T16:03:09.402Z"
   },
   {
    "duration": 1362,
    "start_time": "2023-04-25T16:03:13.078Z"
   },
   {
    "duration": 1328,
    "start_time": "2023-04-25T16:03:14.697Z"
   },
   {
    "duration": 1293,
    "start_time": "2023-04-25T16:03:21.377Z"
   },
   {
    "duration": 19,
    "start_time": "2023-04-25T16:03:26.956Z"
   },
   {
    "duration": 16,
    "start_time": "2023-04-25T16:03:38.525Z"
   },
   {
    "duration": 10,
    "start_time": "2023-04-25T16:03:39.618Z"
   },
   {
    "duration": 5,
    "start_time": "2023-04-25T16:03:43.694Z"
   },
   {
    "duration": 5,
    "start_time": "2023-04-25T16:03:46.706Z"
   },
   {
    "duration": 6,
    "start_time": "2023-04-25T16:03:47.421Z"
   },
   {
    "duration": 2,
    "start_time": "2023-04-25T16:03:48.881Z"
   },
   {
    "duration": 2,
    "start_time": "2023-04-25T16:03:50.293Z"
   },
   {
    "duration": 3,
    "start_time": "2023-04-25T16:03:51.489Z"
   },
   {
    "duration": 2,
    "start_time": "2023-04-25T16:03:52.205Z"
   },
   {
    "duration": 3,
    "start_time": "2023-04-25T16:03:53.915Z"
   },
   {
    "duration": 7,
    "start_time": "2023-04-25T16:03:57.084Z"
   },
   {
    "duration": 5,
    "start_time": "2023-04-25T16:03:58.227Z"
   },
   {
    "duration": 4,
    "start_time": "2023-04-25T16:04:02.626Z"
   },
   {
    "duration": 3,
    "start_time": "2023-04-25T16:04:04.315Z"
   },
   {
    "duration": 4,
    "start_time": "2023-04-25T16:04:09.034Z"
   },
   {
    "duration": 3430,
    "start_time": "2023-04-25T16:04:13.861Z"
   },
   {
    "duration": 3,
    "start_time": "2023-04-25T16:04:20.747Z"
   },
   {
    "duration": 5613,
    "start_time": "2023-04-25T16:04:23.077Z"
   },
   {
    "duration": 2,
    "start_time": "2023-04-25T16:04:30.825Z"
   },
   {
    "duration": 440895,
    "start_time": "2023-04-25T16:04:38.719Z"
   },
   {
    "duration": 4,
    "start_time": "2023-04-25T16:17:52.320Z"
   },
   {
    "duration": 6,
    "start_time": "2023-04-25T16:17:54.377Z"
   },
   {
    "duration": 4,
    "start_time": "2023-04-25T16:17:57.707Z"
   },
   {
    "duration": 85,
    "start_time": "2023-04-25T16:17:59.144Z"
   },
   {
    "duration": 923,
    "start_time": "2023-04-25T16:18:12.473Z"
   },
   {
    "duration": 14,
    "start_time": "2023-04-25T16:18:18.695Z"
   },
   {
    "duration": 10,
    "start_time": "2023-04-25T16:18:24.577Z"
   },
   {
    "duration": 10,
    "start_time": "2023-04-25T16:19:09.483Z"
   },
   {
    "duration": 7,
    "start_time": "2023-04-25T16:25:09.913Z"
   },
   {
    "duration": 771,
    "start_time": "2023-04-25T16:25:09.922Z"
   },
   {
    "duration": 20,
    "start_time": "2023-04-25T16:25:10.695Z"
   },
   {
    "duration": 24,
    "start_time": "2023-04-25T16:25:10.717Z"
   },
   {
    "duration": 36,
    "start_time": "2023-04-25T16:25:10.743Z"
   },
   {
    "duration": 14,
    "start_time": "2023-04-25T16:25:10.781Z"
   },
   {
    "duration": 132,
    "start_time": "2023-04-25T16:25:10.797Z"
   },
   {
    "duration": 28,
    "start_time": "2023-04-25T16:25:10.931Z"
   },
   {
    "duration": 111,
    "start_time": "2023-04-25T16:25:10.962Z"
   },
   {
    "duration": 48,
    "start_time": "2023-04-25T16:25:13.393Z"
   },
   {
    "duration": 56,
    "start_time": "2023-04-25T16:25:18.645Z"
   },
   {
    "duration": 14,
    "start_time": "2023-04-25T16:25:33.783Z"
   },
   {
    "duration": 49,
    "start_time": "2023-04-25T16:25:42.934Z"
   },
   {
    "duration": 13,
    "start_time": "2023-04-25T16:25:59.677Z"
   },
   {
    "duration": 49,
    "start_time": "2023-04-25T16:26:16.838Z"
   },
   {
    "duration": 12,
    "start_time": "2023-04-25T16:27:16.181Z"
   },
   {
    "duration": 10,
    "start_time": "2023-04-25T16:27:20.638Z"
   },
   {
    "duration": 15,
    "start_time": "2023-04-25T16:27:27.889Z"
   },
   {
    "duration": 48,
    "start_time": "2023-04-25T16:27:41.581Z"
   },
   {
    "duration": 19,
    "start_time": "2023-04-25T16:27:49.750Z"
   },
   {
    "duration": 16,
    "start_time": "2023-04-25T16:28:15.693Z"
   },
   {
    "duration": 16,
    "start_time": "2023-04-25T16:28:23.789Z"
   },
   {
    "duration": 15,
    "start_time": "2023-04-25T16:28:28.349Z"
   },
   {
    "duration": 14,
    "start_time": "2023-04-25T16:28:32.181Z"
   },
   {
    "duration": 16,
    "start_time": "2023-04-25T16:29:10.801Z"
   },
   {
    "duration": 23,
    "start_time": "2023-04-25T16:29:19.777Z"
   },
   {
    "duration": 1206,
    "start_time": "2023-04-25T16:29:45.497Z"
   },
   {
    "duration": 698,
    "start_time": "2023-04-25T16:29:46.705Z"
   },
   {
    "duration": 21,
    "start_time": "2023-04-25T16:29:47.404Z"
   },
   {
    "duration": 19,
    "start_time": "2023-04-25T16:29:47.426Z"
   },
   {
    "duration": 36,
    "start_time": "2023-04-25T16:29:47.447Z"
   },
   {
    "duration": 5,
    "start_time": "2023-04-25T16:29:47.485Z"
   },
   {
    "duration": 132,
    "start_time": "2023-04-25T16:29:47.491Z"
   },
   {
    "duration": 28,
    "start_time": "2023-04-25T16:29:47.624Z"
   },
   {
    "duration": 113,
    "start_time": "2023-04-25T16:29:47.654Z"
   },
   {
    "duration": 28,
    "start_time": "2023-04-25T16:29:47.769Z"
   },
   {
    "duration": 98,
    "start_time": "2023-04-25T16:29:47.799Z"
   },
   {
    "duration": 13,
    "start_time": "2023-04-25T16:29:47.899Z"
   },
   {
    "duration": 4,
    "start_time": "2023-04-25T16:29:47.914Z"
   },
   {
    "duration": 6,
    "start_time": "2023-04-25T16:29:47.922Z"
   },
   {
    "duration": 14,
    "start_time": "2023-04-25T16:29:47.930Z"
   },
   {
    "duration": 13,
    "start_time": "2023-04-25T16:29:47.946Z"
   },
   {
    "duration": 37,
    "start_time": "2023-04-25T16:29:47.961Z"
   },
   {
    "duration": 20,
    "start_time": "2023-04-25T16:29:48.000Z"
   },
   {
    "duration": 165,
    "start_time": "2023-04-25T16:29:48.022Z"
   },
   {
    "duration": 27,
    "start_time": "2023-04-25T16:29:48.189Z"
   },
   {
    "duration": 7,
    "start_time": "2023-04-25T16:29:48.218Z"
   },
   {
    "duration": 16,
    "start_time": "2023-04-25T16:29:48.227Z"
   },
   {
    "duration": 7,
    "start_time": "2023-04-25T16:29:48.245Z"
   },
   {
    "duration": 209,
    "start_time": "2023-04-25T16:29:48.254Z"
   },
   {
    "duration": 767,
    "start_time": "2023-04-25T16:29:48.464Z"
   },
   {
    "duration": 9,
    "start_time": "2023-04-25T16:29:49.233Z"
   },
   {
    "duration": 9,
    "start_time": "2023-04-25T16:29:49.244Z"
   },
   {
    "duration": 750,
    "start_time": "2023-04-25T16:29:49.255Z"
   },
   {
    "duration": 8,
    "start_time": "2023-04-25T16:29:50.007Z"
   },
   {
    "duration": 19,
    "start_time": "2023-04-25T16:29:50.017Z"
   },
   {
    "duration": 1103,
    "start_time": "2023-04-25T16:29:50.038Z"
   },
   {
    "duration": 1124,
    "start_time": "2023-04-25T16:29:51.143Z"
   },
   {
    "duration": 1175,
    "start_time": "2023-04-25T16:29:52.269Z"
   },
   {
    "duration": 20,
    "start_time": "2023-04-25T16:29:53.446Z"
   },
   {
    "duration": 25,
    "start_time": "2023-04-25T16:29:53.468Z"
   },
   {
    "duration": 19,
    "start_time": "2023-04-25T16:29:53.495Z"
   },
   {
    "duration": 24,
    "start_time": "2023-04-25T16:29:53.515Z"
   },
   {
    "duration": 27,
    "start_time": "2023-04-25T16:29:53.542Z"
   },
   {
    "duration": 14,
    "start_time": "2023-04-25T16:29:53.571Z"
   },
   {
    "duration": 11,
    "start_time": "2023-04-25T16:29:53.587Z"
   },
   {
    "duration": 13,
    "start_time": "2023-04-25T16:29:53.601Z"
   },
   {
    "duration": 21,
    "start_time": "2023-04-25T16:29:53.616Z"
   },
   {
    "duration": 21,
    "start_time": "2023-04-25T16:29:53.638Z"
   },
   {
    "duration": 12,
    "start_time": "2023-04-25T16:29:53.661Z"
   },
   {
    "duration": 13,
    "start_time": "2023-04-25T16:29:53.675Z"
   },
   {
    "duration": 12,
    "start_time": "2023-04-25T16:29:53.690Z"
   },
   {
    "duration": 18,
    "start_time": "2023-04-25T16:29:53.704Z"
   },
   {
    "duration": 15,
    "start_time": "2023-04-25T16:29:53.724Z"
   },
   {
    "duration": 14,
    "start_time": "2023-04-25T16:29:53.741Z"
   },
   {
    "duration": 3728,
    "start_time": "2023-04-25T16:29:53.757Z"
   },
   {
    "duration": 4,
    "start_time": "2023-04-25T16:29:57.486Z"
   },
   {
    "duration": 5601,
    "start_time": "2023-04-25T16:29:57.492Z"
   },
   {
    "duration": 3,
    "start_time": "2023-04-25T16:30:03.095Z"
   },
   {
    "duration": 443264,
    "start_time": "2023-04-25T16:30:03.100Z"
   },
   {
    "duration": 3,
    "start_time": "2023-04-25T16:37:26.366Z"
   },
   {
    "duration": 44,
    "start_time": "2023-04-25T16:37:26.371Z"
   },
   {
    "duration": 21,
    "start_time": "2023-04-25T16:37:26.417Z"
   },
   {
    "duration": 118,
    "start_time": "2023-04-25T16:37:26.440Z"
   },
   {
    "duration": 764,
    "start_time": "2023-04-25T16:37:26.560Z"
   },
   {
    "duration": 10,
    "start_time": "2023-04-25T16:37:27.325Z"
   },
   {
    "duration": 208,
    "start_time": "2023-04-25T17:01:52.718Z"
   },
   {
    "duration": 338,
    "start_time": "2023-04-25T17:02:16.788Z"
   },
   {
    "duration": 814,
    "start_time": "2023-04-25T17:03:04.353Z"
   },
   {
    "duration": 876,
    "start_time": "2023-04-25T17:03:21.473Z"
   },
   {
    "duration": 886,
    "start_time": "2023-04-25T17:12:41.280Z"
   },
   {
    "duration": 1463,
    "start_time": "2023-04-25T17:13:01.043Z"
   },
   {
    "duration": 1464,
    "start_time": "2023-04-25T17:14:15.091Z"
   },
   {
    "duration": 1648,
    "start_time": "2023-04-25T17:14:59.690Z"
   },
   {
    "duration": 2219,
    "start_time": "2023-04-25T17:15:38.705Z"
   },
   {
    "duration": 217,
    "start_time": "2023-04-25T17:16:18.450Z"
   },
   {
    "duration": 1533,
    "start_time": "2023-04-25T17:16:46.475Z"
   },
   {
    "duration": 1525,
    "start_time": "2023-04-25T17:18:23.324Z"
   },
   {
    "duration": 231,
    "start_time": "2023-04-25T17:20:39.700Z"
   },
   {
    "duration": 754,
    "start_time": "2023-04-25T17:20:59.030Z"
   },
   {
    "duration": 5,
    "start_time": "2023-04-25T17:21:18.479Z"
   },
   {
    "duration": 700,
    "start_time": "2023-04-25T17:21:18.486Z"
   },
   {
    "duration": 18,
    "start_time": "2023-04-25T17:21:19.188Z"
   },
   {
    "duration": 39,
    "start_time": "2023-04-25T17:21:19.208Z"
   },
   {
    "duration": 25,
    "start_time": "2023-04-25T17:21:19.249Z"
   },
   {
    "duration": 19,
    "start_time": "2023-04-25T17:21:19.275Z"
   },
   {
    "duration": 147,
    "start_time": "2023-04-25T17:21:19.296Z"
   },
   {
    "duration": 26,
    "start_time": "2023-04-25T17:21:19.445Z"
   },
   {
    "duration": 104,
    "start_time": "2023-04-25T17:21:19.483Z"
   },
   {
    "duration": 24,
    "start_time": "2023-04-25T17:21:19.588Z"
   },
   {
    "duration": 103,
    "start_time": "2023-04-25T17:21:19.614Z"
   },
   {
    "duration": 13,
    "start_time": "2023-04-25T17:21:19.719Z"
   },
   {
    "duration": 40,
    "start_time": "2023-04-25T17:21:19.733Z"
   },
   {
    "duration": 41,
    "start_time": "2023-04-25T17:21:19.775Z"
   },
   {
    "duration": 70,
    "start_time": "2023-04-25T17:21:19.818Z"
   },
   {
    "duration": 59,
    "start_time": "2023-04-25T17:21:19.890Z"
   },
   {
    "duration": 30,
    "start_time": "2023-04-25T17:21:19.950Z"
   },
   {
    "duration": 50,
    "start_time": "2023-04-25T17:21:19.982Z"
   },
   {
    "duration": 183,
    "start_time": "2023-04-25T17:21:20.034Z"
   },
   {
    "duration": 21,
    "start_time": "2023-04-25T17:21:20.219Z"
   },
   {
    "duration": 14,
    "start_time": "2023-04-25T17:21:20.242Z"
   },
   {
    "duration": 27,
    "start_time": "2023-04-25T17:21:20.258Z"
   },
   {
    "duration": 24,
    "start_time": "2023-04-25T17:21:20.286Z"
   },
   {
    "duration": 192,
    "start_time": "2023-04-25T17:21:20.312Z"
   },
   {
    "duration": 705,
    "start_time": "2023-04-25T17:21:20.506Z"
   },
   {
    "duration": 8,
    "start_time": "2023-04-25T17:21:21.212Z"
   },
   {
    "duration": 10,
    "start_time": "2023-04-25T17:21:21.221Z"
   },
   {
    "duration": 841,
    "start_time": "2023-04-25T17:21:21.232Z"
   },
   {
    "duration": 15,
    "start_time": "2023-04-25T17:21:22.074Z"
   },
   {
    "duration": 8,
    "start_time": "2023-04-25T17:21:22.091Z"
   },
   {
    "duration": 1409,
    "start_time": "2023-04-25T17:21:41.583Z"
   },
   {
    "duration": 1394,
    "start_time": "2023-04-25T17:21:57.219Z"
   },
   {
    "duration": 1543,
    "start_time": "2023-04-25T17:22:07.252Z"
   },
   {
    "duration": 805,
    "start_time": "2023-04-25T17:34:15.412Z"
   },
   {
    "duration": 682,
    "start_time": "2023-04-25T17:34:23.967Z"
   },
   {
    "duration": 467,
    "start_time": "2023-04-25T17:34:42.852Z"
   },
   {
    "duration": 895,
    "start_time": "2023-04-25T17:35:49.404Z"
   },
   {
    "duration": 782,
    "start_time": "2023-04-25T17:36:06.509Z"
   },
   {
    "duration": 819,
    "start_time": "2023-04-25T17:36:15.836Z"
   },
   {
    "duration": 1162,
    "start_time": "2023-04-25T17:36:31.132Z"
   },
   {
    "duration": 1833,
    "start_time": "2023-04-25T19:49:22.103Z"
   },
   {
    "duration": 2293,
    "start_time": "2023-04-25T19:49:23.939Z"
   },
   {
    "duration": 24,
    "start_time": "2023-04-25T19:49:26.233Z"
   },
   {
    "duration": 19,
    "start_time": "2023-04-25T19:49:26.259Z"
   },
   {
    "duration": 41,
    "start_time": "2023-04-25T19:49:26.281Z"
   },
   {
    "duration": 4,
    "start_time": "2023-04-25T19:49:26.323Z"
   },
   {
    "duration": 142,
    "start_time": "2023-04-25T19:49:26.328Z"
   },
   {
    "duration": 40,
    "start_time": "2023-04-25T19:49:26.472Z"
   },
   {
    "duration": 111,
    "start_time": "2023-04-25T19:49:26.513Z"
   },
   {
    "duration": 24,
    "start_time": "2023-04-25T19:49:26.626Z"
   },
   {
    "duration": 112,
    "start_time": "2023-04-25T19:49:26.652Z"
   },
   {
    "duration": 14,
    "start_time": "2023-04-25T19:49:26.765Z"
   },
   {
    "duration": 5,
    "start_time": "2023-04-25T19:49:26.781Z"
   },
   {
    "duration": 6,
    "start_time": "2023-04-25T19:49:26.812Z"
   },
   {
    "duration": 15,
    "start_time": "2023-04-25T19:49:26.820Z"
   },
   {
    "duration": 29,
    "start_time": "2023-04-25T19:49:26.836Z"
   },
   {
    "duration": 19,
    "start_time": "2023-04-25T19:49:26.866Z"
   },
   {
    "duration": 16,
    "start_time": "2023-04-25T19:49:26.887Z"
   },
   {
    "duration": 170,
    "start_time": "2023-04-25T19:49:26.904Z"
   },
   {
    "duration": 37,
    "start_time": "2023-04-25T19:49:27.076Z"
   },
   {
    "duration": 9,
    "start_time": "2023-04-25T19:49:27.114Z"
   },
   {
    "duration": 9,
    "start_time": "2023-04-25T19:49:27.125Z"
   },
   {
    "duration": 8,
    "start_time": "2023-04-25T19:49:27.136Z"
   },
   {
    "duration": 248,
    "start_time": "2023-04-25T19:49:27.146Z"
   },
   {
    "duration": 987,
    "start_time": "2023-04-25T19:49:43.093Z"
   },
   {
    "duration": 853,
    "start_time": "2023-04-25T19:50:15.932Z"
   },
   {
    "duration": 1415,
    "start_time": "2023-04-25T20:16:50.750Z"
   },
   {
    "duration": 1231,
    "start_time": "2023-04-25T20:17:23.671Z"
   },
   {
    "duration": 4690,
    "start_time": "2023-04-25T20:19:53.483Z"
   },
   {
    "duration": 4789,
    "start_time": "2023-04-25T20:20:41.987Z"
   },
   {
    "duration": 2427,
    "start_time": "2023-04-25T20:21:09.987Z"
   },
   {
    "duration": 14,
    "start_time": "2023-04-25T20:26:57.583Z"
   },
   {
    "duration": 15,
    "start_time": "2023-04-25T20:27:13.079Z"
   },
   {
    "duration": 7,
    "start_time": "2023-04-25T20:27:18.405Z"
   },
   {
    "duration": 970,
    "start_time": "2023-04-25T20:27:54.820Z"
   },
   {
    "duration": 1629,
    "start_time": "2023-04-25T20:28:09.525Z"
   },
   {
    "duration": 1677,
    "start_time": "2023-04-25T20:29:28.993Z"
   },
   {
    "duration": 1625,
    "start_time": "2023-04-25T20:29:46.390Z"
   },
   {
    "duration": 1146,
    "start_time": "2023-04-25T20:33:35.003Z"
   },
   {
    "duration": 9,
    "start_time": "2023-04-25T20:34:04.248Z"
   },
   {
    "duration": 1608,
    "start_time": "2023-04-25T20:34:08.990Z"
   },
   {
    "duration": 6,
    "start_time": "2023-04-25T20:34:42.297Z"
   },
   {
    "duration": 1640,
    "start_time": "2023-04-25T20:34:44.638Z"
   },
   {
    "duration": 10,
    "start_time": "2023-04-25T20:36:40.971Z"
   },
   {
    "duration": 8,
    "start_time": "2023-04-25T20:37:11.032Z"
   },
   {
    "duration": 8,
    "start_time": "2023-04-25T20:37:19.497Z"
   },
   {
    "duration": 11,
    "start_time": "2023-04-25T20:37:30.513Z"
   },
   {
    "duration": 234,
    "start_time": "2023-04-25T20:40:02.699Z"
   },
   {
    "duration": 13,
    "start_time": "2023-04-25T20:40:07.098Z"
   },
   {
    "duration": 22,
    "start_time": "2023-04-25T20:40:11.810Z"
   },
   {
    "duration": 1812,
    "start_time": "2023-04-25T20:40:52.313Z"
   },
   {
    "duration": 1618,
    "start_time": "2023-04-25T20:41:06.314Z"
   },
   {
    "duration": 183,
    "start_time": "2023-04-25T20:43:47.036Z"
   },
   {
    "duration": 10,
    "start_time": "2023-04-25T20:46:08.323Z"
   },
   {
    "duration": 6,
    "start_time": "2023-04-25T20:46:17.719Z"
   },
   {
    "duration": 785,
    "start_time": "2023-04-25T20:46:17.728Z"
   },
   {
    "duration": 21,
    "start_time": "2023-04-25T20:46:18.514Z"
   },
   {
    "duration": 23,
    "start_time": "2023-04-25T20:46:18.536Z"
   },
   {
    "duration": 28,
    "start_time": "2023-04-25T20:46:18.561Z"
   },
   {
    "duration": 3,
    "start_time": "2023-04-25T20:46:18.591Z"
   },
   {
    "duration": 143,
    "start_time": "2023-04-25T20:46:18.612Z"
   },
   {
    "duration": 29,
    "start_time": "2023-04-25T20:46:18.757Z"
   },
   {
    "duration": 153,
    "start_time": "2023-04-25T20:46:18.788Z"
   },
   {
    "duration": 32,
    "start_time": "2023-04-25T20:46:18.943Z"
   },
   {
    "duration": 132,
    "start_time": "2023-04-25T20:46:18.977Z"
   },
   {
    "duration": 14,
    "start_time": "2023-04-25T20:46:19.110Z"
   },
   {
    "duration": 5,
    "start_time": "2023-04-25T20:46:19.126Z"
   },
   {
    "duration": 8,
    "start_time": "2023-04-25T20:46:19.133Z"
   },
   {
    "duration": 7,
    "start_time": "2023-04-25T20:46:19.143Z"
   },
   {
    "duration": 12,
    "start_time": "2023-04-25T20:46:19.152Z"
   },
   {
    "duration": 4,
    "start_time": "2023-04-25T20:46:19.165Z"
   },
   {
    "duration": 6,
    "start_time": "2023-04-25T20:46:19.170Z"
   },
   {
    "duration": 180,
    "start_time": "2023-04-25T20:46:19.212Z"
   },
   {
    "duration": 36,
    "start_time": "2023-04-25T20:46:19.395Z"
   },
   {
    "duration": 7,
    "start_time": "2023-04-25T20:46:19.433Z"
   },
   {
    "duration": 8,
    "start_time": "2023-04-25T20:46:19.442Z"
   },
   {
    "duration": 10,
    "start_time": "2023-04-25T20:46:19.452Z"
   },
   {
    "duration": 225,
    "start_time": "2023-04-25T20:46:19.467Z"
   },
   {
    "duration": 809,
    "start_time": "2023-04-25T20:46:19.694Z"
   },
   {
    "duration": 13,
    "start_time": "2023-04-25T20:46:20.505Z"
   },
   {
    "duration": 17,
    "start_time": "2023-04-25T20:46:20.520Z"
   },
   {
    "duration": 1054,
    "start_time": "2023-04-25T20:46:20.539Z"
   },
   {
    "duration": 21,
    "start_time": "2023-04-25T20:46:21.595Z"
   },
   {
    "duration": 8,
    "start_time": "2023-04-25T20:46:21.617Z"
   },
   {
    "duration": 14,
    "start_time": "2023-04-25T20:46:21.627Z"
   },
   {
    "duration": 23,
    "start_time": "2023-04-25T20:46:21.643Z"
   },
   {
    "duration": 1812,
    "start_time": "2023-04-25T20:46:21.668Z"
   },
   {
    "duration": 2,
    "start_time": "2023-04-25T20:46:23.482Z"
   },
   {
    "duration": 4,
    "start_time": "2023-04-25T20:46:23.486Z"
   },
   {
    "duration": 32,
    "start_time": "2023-04-25T20:46:23.492Z"
   },
   {
    "duration": 19,
    "start_time": "2023-04-25T20:46:23.526Z"
   },
   {
    "duration": 10,
    "start_time": "2023-04-25T20:46:23.547Z"
   },
   {
    "duration": 5,
    "start_time": "2023-04-25T20:46:23.559Z"
   },
   {
    "duration": 8,
    "start_time": "2023-04-25T20:46:23.566Z"
   },
   {
    "duration": 41,
    "start_time": "2023-04-25T20:46:23.576Z"
   },
   {
    "duration": 5,
    "start_time": "2023-04-25T20:46:23.618Z"
   },
   {
    "duration": 3,
    "start_time": "2023-04-25T20:46:23.625Z"
   },
   {
    "duration": 4,
    "start_time": "2023-04-25T20:46:23.630Z"
   },
   {
    "duration": 8,
    "start_time": "2023-04-25T20:46:23.636Z"
   },
   {
    "duration": 8,
    "start_time": "2023-04-25T20:46:23.646Z"
   },
   {
    "duration": 5,
    "start_time": "2023-04-25T20:46:23.656Z"
   },
   {
    "duration": 49,
    "start_time": "2023-04-25T20:46:23.663Z"
   },
   {
    "duration": 4,
    "start_time": "2023-04-25T20:46:23.714Z"
   },
   {
    "duration": 3894,
    "start_time": "2023-04-25T20:46:23.720Z"
   },
   {
    "duration": 5,
    "start_time": "2023-04-25T20:46:27.617Z"
   },
   {
    "duration": 5957,
    "start_time": "2023-04-25T20:46:27.713Z"
   },
   {
    "duration": 3,
    "start_time": "2023-04-25T20:46:33.672Z"
   },
   {
    "duration": 9,
    "start_time": "2023-04-25T20:46:33.678Z"
   },
   {
    "duration": 0,
    "start_time": "2023-04-25T20:46:33.689Z"
   },
   {
    "duration": 0,
    "start_time": "2023-04-25T20:46:33.690Z"
   },
   {
    "duration": 0,
    "start_time": "2023-04-25T20:46:33.712Z"
   },
   {
    "duration": 0,
    "start_time": "2023-04-25T20:46:33.714Z"
   },
   {
    "duration": 0,
    "start_time": "2023-04-25T20:46:33.715Z"
   },
   {
    "duration": 4,
    "start_time": "2023-04-25T20:47:16.196Z"
   },
   {
    "duration": 10,
    "start_time": "2023-04-25T20:48:12.735Z"
   },
   {
    "duration": 812,
    "start_time": "2023-04-25T20:48:12.748Z"
   },
   {
    "duration": 21,
    "start_time": "2023-04-25T20:48:13.562Z"
   },
   {
    "duration": 34,
    "start_time": "2023-04-25T20:48:13.585Z"
   },
   {
    "duration": 24,
    "start_time": "2023-04-25T20:48:13.621Z"
   },
   {
    "duration": 9,
    "start_time": "2023-04-25T20:48:13.647Z"
   },
   {
    "duration": 142,
    "start_time": "2023-04-25T20:48:13.657Z"
   },
   {
    "duration": 35,
    "start_time": "2023-04-25T20:48:13.801Z"
   },
   {
    "duration": 126,
    "start_time": "2023-04-25T20:48:13.838Z"
   },
   {
    "duration": 25,
    "start_time": "2023-04-25T20:48:13.967Z"
   },
   {
    "duration": 102,
    "start_time": "2023-04-25T20:48:13.994Z"
   },
   {
    "duration": 22,
    "start_time": "2023-04-25T20:48:14.098Z"
   },
   {
    "duration": 6,
    "start_time": "2023-04-25T20:48:14.121Z"
   },
   {
    "duration": 6,
    "start_time": "2023-04-25T20:48:14.129Z"
   },
   {
    "duration": 5,
    "start_time": "2023-04-25T20:48:14.137Z"
   },
   {
    "duration": 12,
    "start_time": "2023-04-25T20:48:14.143Z"
   },
   {
    "duration": 7,
    "start_time": "2023-04-25T20:48:14.157Z"
   },
   {
    "duration": 47,
    "start_time": "2023-04-25T20:48:14.165Z"
   },
   {
    "duration": 199,
    "start_time": "2023-04-25T20:48:14.213Z"
   },
   {
    "duration": 26,
    "start_time": "2023-04-25T20:48:14.413Z"
   },
   {
    "duration": 7,
    "start_time": "2023-04-25T20:48:14.441Z"
   },
   {
    "duration": 7,
    "start_time": "2023-04-25T20:48:14.450Z"
   },
   {
    "duration": 7,
    "start_time": "2023-04-25T20:48:14.459Z"
   },
   {
    "duration": 249,
    "start_time": "2023-04-25T20:48:14.468Z"
   },
   {
    "duration": 1086,
    "start_time": "2023-04-25T20:48:14.719Z"
   },
   {
    "duration": 9,
    "start_time": "2023-04-25T20:48:15.811Z"
   },
   {
    "duration": 17,
    "start_time": "2023-04-25T20:48:15.822Z"
   },
   {
    "duration": 814,
    "start_time": "2023-04-25T20:48:15.843Z"
   },
   {
    "duration": 8,
    "start_time": "2023-04-25T20:48:16.660Z"
   },
   {
    "duration": 19,
    "start_time": "2023-04-25T20:48:16.670Z"
   },
   {
    "duration": 29,
    "start_time": "2023-04-25T20:48:16.692Z"
   },
   {
    "duration": 29,
    "start_time": "2023-04-25T20:48:16.722Z"
   },
   {
    "duration": 1736,
    "start_time": "2023-04-25T20:48:16.753Z"
   },
   {
    "duration": 2,
    "start_time": "2023-04-25T20:48:18.492Z"
   },
   {
    "duration": 16,
    "start_time": "2023-04-25T20:48:18.496Z"
   },
   {
    "duration": 17,
    "start_time": "2023-04-25T20:48:18.514Z"
   },
   {
    "duration": 18,
    "start_time": "2023-04-25T20:48:18.533Z"
   },
   {
    "duration": 10,
    "start_time": "2023-04-25T20:48:18.553Z"
   },
   {
    "duration": 5,
    "start_time": "2023-04-25T20:48:18.565Z"
   },
   {
    "duration": 52,
    "start_time": "2023-04-25T20:48:18.571Z"
   },
   {
    "duration": 17,
    "start_time": "2023-04-25T20:48:18.625Z"
   },
   {
    "duration": 4,
    "start_time": "2023-04-25T20:48:18.643Z"
   },
   {
    "duration": 8,
    "start_time": "2023-04-25T20:48:18.649Z"
   },
   {
    "duration": 23,
    "start_time": "2023-04-25T20:48:18.659Z"
   },
   {
    "duration": 14,
    "start_time": "2023-04-25T20:48:18.684Z"
   },
   {
    "duration": 12,
    "start_time": "2023-04-25T20:48:18.700Z"
   },
   {
    "duration": 8,
    "start_time": "2023-04-25T20:48:18.713Z"
   },
   {
    "duration": 8,
    "start_time": "2023-04-25T20:48:18.722Z"
   },
   {
    "duration": 24,
    "start_time": "2023-04-25T20:48:18.732Z"
   },
   {
    "duration": 3660,
    "start_time": "2023-04-25T20:48:18.758Z"
   },
   {
    "duration": 92,
    "start_time": "2023-04-25T20:48:22.420Z"
   },
   {
    "duration": 5944,
    "start_time": "2023-04-25T20:48:22.514Z"
   },
   {
    "duration": 3,
    "start_time": "2023-04-25T20:48:28.460Z"
   },
   {
    "duration": 471147,
    "start_time": "2023-04-25T20:48:28.465Z"
   },
   {
    "duration": 4,
    "start_time": "2023-04-25T20:56:19.613Z"
   },
   {
    "duration": 6,
    "start_time": "2023-04-25T20:56:19.619Z"
   },
   {
    "duration": 4,
    "start_time": "2023-04-25T20:56:19.627Z"
   },
   {
    "duration": 116,
    "start_time": "2023-04-25T20:56:19.633Z"
   },
   {
    "duration": 1444,
    "start_time": "2023-04-25T20:56:19.750Z"
   },
   {
    "duration": 18,
    "start_time": "2023-04-25T20:56:21.196Z"
   },
   {
    "duration": 4,
    "start_time": "2023-04-25T21:00:38.486Z"
   },
   {
    "duration": 17,
    "start_time": "2023-04-25T21:00:53.531Z"
   },
   {
    "duration": 3,
    "start_time": "2023-04-25T21:01:23.491Z"
   },
   {
    "duration": 16,
    "start_time": "2023-04-25T21:02:30.789Z"
   },
   {
    "duration": 18,
    "start_time": "2023-04-25T21:02:43.183Z"
   },
   {
    "duration": 19,
    "start_time": "2023-04-25T21:03:24.028Z"
   },
   {
    "duration": 16,
    "start_time": "2023-04-25T21:04:10.279Z"
   },
   {
    "duration": 4,
    "start_time": "2023-04-25T21:04:18.244Z"
   },
   {
    "duration": 4,
    "start_time": "2023-04-25T21:05:21.886Z"
   },
   {
    "duration": 114,
    "start_time": "2023-04-25T21:05:53.683Z"
   },
   {
    "duration": 3,
    "start_time": "2023-04-25T21:06:04.500Z"
   },
   {
    "duration": 92,
    "start_time": "2023-04-25T21:06:34.013Z"
   },
   {
    "duration": 10,
    "start_time": "2023-04-25T21:06:50.501Z"
   },
   {
    "duration": 10,
    "start_time": "2023-04-25T21:08:01.439Z"
   },
   {
    "duration": 1675,
    "start_time": "2023-04-26T10:29:39.145Z"
   },
   {
    "duration": 2110,
    "start_time": "2023-04-26T10:29:40.822Z"
   },
   {
    "duration": 24,
    "start_time": "2023-04-26T10:29:42.933Z"
   },
   {
    "duration": 18,
    "start_time": "2023-04-26T10:29:42.959Z"
   },
   {
    "duration": 23,
    "start_time": "2023-04-26T10:29:42.979Z"
   },
   {
    "duration": 26,
    "start_time": "2023-04-26T10:29:43.004Z"
   },
   {
    "duration": 153,
    "start_time": "2023-04-26T10:29:43.032Z"
   },
   {
    "duration": 28,
    "start_time": "2023-04-26T10:29:43.187Z"
   },
   {
    "duration": 116,
    "start_time": "2023-04-26T10:29:43.217Z"
   },
   {
    "duration": 23,
    "start_time": "2023-04-26T10:29:43.335Z"
   },
   {
    "duration": 103,
    "start_time": "2023-04-26T10:29:43.360Z"
   },
   {
    "duration": 12,
    "start_time": "2023-04-26T10:29:43.465Z"
   },
   {
    "duration": 16,
    "start_time": "2023-04-26T10:29:43.478Z"
   },
   {
    "duration": 6,
    "start_time": "2023-04-26T10:29:43.496Z"
   },
   {
    "duration": 5,
    "start_time": "2023-04-26T10:29:43.504Z"
   },
   {
    "duration": 12,
    "start_time": "2023-04-26T10:29:43.511Z"
   },
   {
    "duration": 6,
    "start_time": "2023-04-26T10:29:43.524Z"
   },
   {
    "duration": 20,
    "start_time": "2023-04-26T10:29:43.531Z"
   },
   {
    "duration": 184,
    "start_time": "2023-04-26T10:29:43.553Z"
   },
   {
    "duration": 28,
    "start_time": "2023-04-26T10:29:43.739Z"
   },
   {
    "duration": 24,
    "start_time": "2023-04-26T10:29:43.769Z"
   },
   {
    "duration": 8,
    "start_time": "2023-04-26T10:29:43.795Z"
   },
   {
    "duration": 7,
    "start_time": "2023-04-26T10:29:43.805Z"
   },
   {
    "duration": 238,
    "start_time": "2023-04-26T10:29:43.813Z"
   },
   {
    "duration": 120,
    "start_time": "2023-04-26T10:34:15.822Z"
   },
   {
    "duration": 517,
    "start_time": "2023-04-26T10:34:25.896Z"
   },
   {
    "duration": 619,
    "start_time": "2023-04-26T10:34:39.180Z"
   },
   {
    "duration": 528,
    "start_time": "2023-04-26T10:34:47.455Z"
   },
   {
    "duration": 588,
    "start_time": "2023-04-26T10:35:00.318Z"
   },
   {
    "duration": 595,
    "start_time": "2023-04-26T10:35:13.701Z"
   },
   {
    "duration": 616,
    "start_time": "2023-04-26T10:35:31.703Z"
   },
   {
    "duration": 721,
    "start_time": "2023-04-26T10:36:11.151Z"
   },
   {
    "duration": 882,
    "start_time": "2023-04-26T10:36:23.485Z"
   },
   {
    "duration": 632,
    "start_time": "2023-04-26T10:38:18.801Z"
   },
   {
    "duration": 801,
    "start_time": "2023-04-26T10:40:45.383Z"
   },
   {
    "duration": 90,
    "start_time": "2023-04-26T11:22:42.747Z"
   },
   {
    "duration": 72,
    "start_time": "2023-04-26T11:23:18.586Z"
   },
   {
    "duration": 1104,
    "start_time": "2023-04-26T11:23:36.506Z"
   },
   {
    "duration": 733,
    "start_time": "2023-04-26T11:37:06.234Z"
   },
   {
    "duration": 1613,
    "start_time": "2023-04-26T14:39:01.317Z"
   },
   {
    "duration": 2536,
    "start_time": "2023-04-26T14:39:02.933Z"
   },
   {
    "duration": 24,
    "start_time": "2023-04-26T14:39:05.472Z"
   },
   {
    "duration": 18,
    "start_time": "2023-04-26T14:39:05.498Z"
   },
   {
    "duration": 31,
    "start_time": "2023-04-26T14:39:05.518Z"
   },
   {
    "duration": 19,
    "start_time": "2023-04-26T14:39:05.551Z"
   },
   {
    "duration": 153,
    "start_time": "2023-04-26T14:39:05.572Z"
   },
   {
    "duration": 28,
    "start_time": "2023-04-26T14:39:05.726Z"
   },
   {
    "duration": 118,
    "start_time": "2023-04-26T14:39:05.756Z"
   },
   {
    "duration": 26,
    "start_time": "2023-04-26T14:39:05.883Z"
   },
   {
    "duration": 107,
    "start_time": "2023-04-26T14:39:05.910Z"
   },
   {
    "duration": 12,
    "start_time": "2023-04-26T14:39:06.020Z"
   },
   {
    "duration": 13,
    "start_time": "2023-04-26T14:39:06.033Z"
   },
   {
    "duration": 40,
    "start_time": "2023-04-26T14:39:06.049Z"
   },
   {
    "duration": 21,
    "start_time": "2023-04-26T14:39:06.091Z"
   },
   {
    "duration": 26,
    "start_time": "2023-04-26T14:39:06.114Z"
   },
   {
    "duration": 9,
    "start_time": "2023-04-26T14:39:06.141Z"
   },
   {
    "duration": 17,
    "start_time": "2023-04-26T14:39:06.152Z"
   },
   {
    "duration": 183,
    "start_time": "2023-04-26T14:39:06.171Z"
   },
   {
    "duration": 34,
    "start_time": "2023-04-26T14:39:06.355Z"
   },
   {
    "duration": 7,
    "start_time": "2023-04-26T14:39:06.391Z"
   },
   {
    "duration": 30,
    "start_time": "2023-04-26T14:39:06.399Z"
   },
   {
    "duration": 20,
    "start_time": "2023-04-26T14:39:06.431Z"
   },
   {
    "duration": 225,
    "start_time": "2023-04-26T14:39:06.452Z"
   },
   {
    "duration": 618,
    "start_time": "2023-04-26T14:39:09.326Z"
   },
   {
    "duration": 854,
    "start_time": "2023-04-26T14:39:12.151Z"
   },
   {
    "duration": 9,
    "start_time": "2023-04-26T14:39:18.182Z"
   },
   {
    "duration": 10,
    "start_time": "2023-04-26T14:39:18.982Z"
   },
   {
    "duration": 571,
    "start_time": "2023-04-26T14:39:37.216Z"
   },
   {
    "duration": 875,
    "start_time": "2023-04-26T14:39:46.927Z"
   },
   {
    "duration": 8,
    "start_time": "2023-04-26T14:39:54.790Z"
   },
   {
    "duration": 11,
    "start_time": "2023-04-26T14:39:55.470Z"
   }
  ],
  "kernelspec": {
   "display_name": "Python 3 (ipykernel)",
   "language": "python",
   "name": "python3"
  },
  "language_info": {
   "codemirror_mode": {
    "name": "ipython",
    "version": 3
   },
   "file_extension": ".py",
   "mimetype": "text/x-python",
   "name": "python",
   "nbconvert_exporter": "python",
   "pygments_lexer": "ipython3",
   "version": "3.9.5"
  },
  "toc": {
   "base_numbering": 1,
   "nav_menu": {},
   "number_sections": true,
   "sideBar": true,
   "skip_h1_title": true,
   "title_cell": "Содержание",
   "title_sidebar": "Contents",
   "toc_cell": true,
   "toc_position": {},
   "toc_section_display": true,
   "toc_window_display": true
  }
 },
 "nbformat": 4,
 "nbformat_minor": 2
}
