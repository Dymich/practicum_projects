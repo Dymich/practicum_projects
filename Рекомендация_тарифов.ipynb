{
  "cells": [
    {
      "cell_type": "markdown",
      "metadata": {
        "id": "GNlX4ParjXi0"
      },
      "source": [
        "# Рекомендация тарифов"
      ]
    },
    {
      "cell_type": "markdown",
      "metadata": {
        "id": "E1uRk3YyjXi0"
      },
      "source": [
        "В вашем распоряжении данные о поведении клиентов, которые уже перешли на эти тарифы (из проекта курса «Статистический анализ данных»). Нужно построить модель для задачи классификации, которая выберет подходящий тариф. Предобработка данных не понадобится — вы её уже сделали.\n",
        "\n",
        "Постройте модель с максимально большим значением *accuracy*. Чтобы сдать проект успешно, нужно довести долю правильных ответов по крайней мере до 0.75. Проверьте *accuracy* на тестовой выборке самостоятельно."
      ]
    },
    {
      "cell_type": "markdown",
      "metadata": {
        "id": "Tu5R5j7JjXi1"
      },
      "source": [
        "## Откройте и изучите файл"
      ]
    },
    {
      "cell_type": "markdown",
      "metadata": {
        "id": "8Dr3eiI8jXi1"
      },
      "source": [
        "Импортируем все необходимые библиотеки"
      ]
    },
    {
      "cell_type": "code",
      "execution_count": null,
      "metadata": {
        "id": "VST9P8QTjXi2"
      },
      "outputs": [],
      "source": [
        "import pandas as pd\n",
        "\n",
        "from sklearn.tree import DecisionTreeClassifier\n",
        "from sklearn.ensemble import RandomForestClassifier\n",
        "from sklearn.linear_model import LogisticRegression\n",
        "\n",
        "from sklearn.model_selection import train_test_split\n",
        "\n",
        "from sklearn.metrics import accuracy_score\n",
        "\n",
        "from sklearn import tree\n",
        "\n",
        "import seaborn as sns\n",
        "import matplotlib.pyplot as plt\n",
        "\n",
        "from tqdm import tqdm\n",
        "\n",
        "import warnings\n",
        "warnings.filterwarnings(\"ignore\")"
      ]
    },
    {
      "cell_type": "markdown",
      "metadata": {
        "id": "6V3GLzChjXi4"
      },
      "source": [
        "Откроем файл"
      ]
    },
    {
      "cell_type": "code",
      "execution_count": null,
      "metadata": {
        "id": "jXhMNhaPjXi4",
        "outputId": "48d828c3-3db6-4311-eb3b-6cf4f12d1bef"
      },
      "outputs": [
        {
          "data": {
            "text/html": [
              "<div>\n",
              "<style scoped>\n",
              "    .dataframe tbody tr th:only-of-type {\n",
              "        vertical-align: middle;\n",
              "    }\n",
              "\n",
              "    .dataframe tbody tr th {\n",
              "        vertical-align: top;\n",
              "    }\n",
              "\n",
              "    .dataframe thead th {\n",
              "        text-align: right;\n",
              "    }\n",
              "</style>\n",
              "<table border=\"1\" class=\"dataframe\">\n",
              "  <thead>\n",
              "    <tr style=\"text-align: right;\">\n",
              "      <th></th>\n",
              "      <th>calls</th>\n",
              "      <th>minutes</th>\n",
              "      <th>messages</th>\n",
              "      <th>mb_used</th>\n",
              "      <th>is_ultra</th>\n",
              "    </tr>\n",
              "  </thead>\n",
              "  <tbody>\n",
              "    <tr>\n",
              "      <th>0</th>\n",
              "      <td>40.0</td>\n",
              "      <td>311.90</td>\n",
              "      <td>83.0</td>\n",
              "      <td>19915.42</td>\n",
              "      <td>0</td>\n",
              "    </tr>\n",
              "    <tr>\n",
              "      <th>1</th>\n",
              "      <td>85.0</td>\n",
              "      <td>516.75</td>\n",
              "      <td>56.0</td>\n",
              "      <td>22696.96</td>\n",
              "      <td>0</td>\n",
              "    </tr>\n",
              "    <tr>\n",
              "      <th>2</th>\n",
              "      <td>77.0</td>\n",
              "      <td>467.66</td>\n",
              "      <td>86.0</td>\n",
              "      <td>21060.45</td>\n",
              "      <td>0</td>\n",
              "    </tr>\n",
              "    <tr>\n",
              "      <th>3</th>\n",
              "      <td>106.0</td>\n",
              "      <td>745.53</td>\n",
              "      <td>81.0</td>\n",
              "      <td>8437.39</td>\n",
              "      <td>1</td>\n",
              "    </tr>\n",
              "    <tr>\n",
              "      <th>4</th>\n",
              "      <td>66.0</td>\n",
              "      <td>418.74</td>\n",
              "      <td>1.0</td>\n",
              "      <td>14502.75</td>\n",
              "      <td>0</td>\n",
              "    </tr>\n",
              "    <tr>\n",
              "      <th>5</th>\n",
              "      <td>58.0</td>\n",
              "      <td>344.56</td>\n",
              "      <td>21.0</td>\n",
              "      <td>15823.37</td>\n",
              "      <td>0</td>\n",
              "    </tr>\n",
              "    <tr>\n",
              "      <th>6</th>\n",
              "      <td>57.0</td>\n",
              "      <td>431.64</td>\n",
              "      <td>20.0</td>\n",
              "      <td>3738.90</td>\n",
              "      <td>1</td>\n",
              "    </tr>\n",
              "    <tr>\n",
              "      <th>7</th>\n",
              "      <td>15.0</td>\n",
              "      <td>132.40</td>\n",
              "      <td>6.0</td>\n",
              "      <td>21911.60</td>\n",
              "      <td>0</td>\n",
              "    </tr>\n",
              "    <tr>\n",
              "      <th>8</th>\n",
              "      <td>7.0</td>\n",
              "      <td>43.39</td>\n",
              "      <td>3.0</td>\n",
              "      <td>2538.67</td>\n",
              "      <td>1</td>\n",
              "    </tr>\n",
              "    <tr>\n",
              "      <th>9</th>\n",
              "      <td>90.0</td>\n",
              "      <td>665.41</td>\n",
              "      <td>38.0</td>\n",
              "      <td>17358.61</td>\n",
              "      <td>0</td>\n",
              "    </tr>\n",
              "  </tbody>\n",
              "</table>\n",
              "</div>"
            ],
            "text/plain": [
              "   calls  minutes  messages   mb_used  is_ultra\n",
              "0   40.0   311.90      83.0  19915.42         0\n",
              "1   85.0   516.75      56.0  22696.96         0\n",
              "2   77.0   467.66      86.0  21060.45         0\n",
              "3  106.0   745.53      81.0   8437.39         1\n",
              "4   66.0   418.74       1.0  14502.75         0\n",
              "5   58.0   344.56      21.0  15823.37         0\n",
              "6   57.0   431.64      20.0   3738.90         1\n",
              "7   15.0   132.40       6.0  21911.60         0\n",
              "8    7.0    43.39       3.0   2538.67         1\n",
              "9   90.0   665.41      38.0  17358.61         0"
            ]
          },
          "execution_count": 2,
          "metadata": {},
          "output_type": "execute_result"
        }
      ],
      "source": [
        "try:\n",
        "    df = pd.read_csv('/datasets/users_behavior.csv')\n",
        "except:\n",
        "    df = pd.read_csv('https://code.s3.yandex.net/datasets/users_behavior.csv')\n",
        "df.head(10)"
      ]
    },
    {
      "cell_type": "markdown",
      "metadata": {
        "id": "9uGhDgTojXi5"
      },
      "source": [
        "Изучим инфо"
      ]
    },
    {
      "cell_type": "code",
      "execution_count": null,
      "metadata": {
        "id": "FbnET7_xjXi5",
        "outputId": "a438291f-3ccc-43ef-b84f-7d6083e63ae5"
      },
      "outputs": [
        {
          "data": {
            "text/plain": [
              "(3214, 5)"
            ]
          },
          "execution_count": 3,
          "metadata": {},
          "output_type": "execute_result"
        }
      ],
      "source": [
        "df.shape"
      ]
    },
    {
      "cell_type": "code",
      "execution_count": null,
      "metadata": {
        "id": "pNzukdf9jXi5",
        "outputId": "5905c74c-7945-4a79-bf7a-38e623a2b27f"
      },
      "outputs": [
        {
          "name": "stdout",
          "output_type": "stream",
          "text": [
            "<class 'pandas.core.frame.DataFrame'>\n",
            "RangeIndex: 3214 entries, 0 to 3213\n",
            "Data columns (total 5 columns):\n",
            " #   Column    Non-Null Count  Dtype  \n",
            "---  ------    --------------  -----  \n",
            " 0   calls     3214 non-null   float64\n",
            " 1   minutes   3214 non-null   float64\n",
            " 2   messages  3214 non-null   float64\n",
            " 3   mb_used   3214 non-null   float64\n",
            " 4   is_ultra  3214 non-null   int64  \n",
            "dtypes: float64(4), int64(1)\n",
            "memory usage: 125.7 KB\n"
          ]
        }
      ],
      "source": [
        "df.info()"
      ]
    },
    {
      "cell_type": "markdown",
      "metadata": {
        "id": "ymzqEpK7jXi6"
      },
      "source": [
        "Изменим тип на цельночисленный"
      ]
    },
    {
      "cell_type": "code",
      "execution_count": null,
      "metadata": {
        "id": "zpt44j2cjXi6"
      },
      "outputs": [],
      "source": [
        "df['minutes'] = df['minutes'].astype('int')\n",
        "df['calls'] = df['calls'].astype('int')"
      ]
    },
    {
      "cell_type": "code",
      "execution_count": null,
      "metadata": {
        "id": "MLzrrLC_jXi6",
        "outputId": "8567cbf7-2c5a-4b8c-df4f-0f5f0d78423a"
      },
      "outputs": [
        {
          "name": "stdout",
          "output_type": "stream",
          "text": [
            "<class 'pandas.core.frame.DataFrame'>\n",
            "RangeIndex: 3214 entries, 0 to 3213\n",
            "Data columns (total 5 columns):\n",
            " #   Column    Non-Null Count  Dtype  \n",
            "---  ------    --------------  -----  \n",
            " 0   calls     3214 non-null   int64  \n",
            " 1   minutes   3214 non-null   int64  \n",
            " 2   messages  3214 non-null   float64\n",
            " 3   mb_used   3214 non-null   float64\n",
            " 4   is_ultra  3214 non-null   int64  \n",
            "dtypes: float64(2), int64(3)\n",
            "memory usage: 125.7 KB\n"
          ]
        }
      ],
      "source": [
        "df.info()"
      ]
    },
    {
      "cell_type": "code",
      "execution_count": null,
      "metadata": {
        "id": "KAj3NFW7jXi6",
        "outputId": "4a34c1c9-e1eb-453e-fceb-a5804f24673e"
      },
      "outputs": [
        {
          "data": {
            "image/png": "[encoded data removed]",
            "text/plain": [
              "<Figure size 720x576 with 2 Axes>"
            ]
          },
          "metadata": {
            "needs_background": "light"
          },
          "output_type": "display_data"
        }
      ],
      "source": [
        "plt.figure(figsize = (10, 8));\n",
        "plt.title('Корреляция признаков', fontsize = 15)\n",
        "sns.heatmap(df.corr(), annot = True, cmap=\"crest\");"
      ]
    },
    {
      "cell_type": "markdown",
      "metadata": {
        "id": "W-brINkJjXi7"
      },
      "source": [
        "Видим сильную корреляцию между двумя признаками `calls` и `minutes`. В этом случае модель может давать хорошие результаты на обучающей выборке, но плохо работать с новым набором данных. При построении линейных моделей мультиколлинеарность может вызвать 2 типа проблем:\n",
        "    \n",
        "    -Оценки коэффициентов модели могут сильно колебаться в зависимости от других признаков.\n",
        "    -Точность оценок коэффициентов снижается. Это затрудняет определение того, какие признаки на самом деле являются статистически значимыми.\n",
        "\n",
        "Варианты решений:\n",
        "    \n",
        "    -можно удалить один из сильно коррелируемых признаков\n",
        "    -объеденить два признака в один (создать новый столбец)\n",
        "    -использовать методы специально разработанные для работы с сильно коррелированными переменными (метод наименьших квадратов, например)."
      ]
    },
    {
      "cell_type": "markdown",
      "metadata": {
        "id": "NbBEvYJWjXi7"
      },
      "source": [
        "## Разбейте данные на выборки"
      ]
    },
    {
      "cell_type": "markdown",
      "metadata": {
        "id": "k7KAW17AjXi7"
      },
      "source": [
        "Извлечем целевой признак"
      ]
    },
    {
      "cell_type": "code",
      "execution_count": null,
      "metadata": {
        "id": "ZFt2VvIejXi7"
      },
      "outputs": [],
      "source": [
        "features = df.drop(['is_ultra'], axis=1)\n",
        "target = df['is_ultra']"
      ]
    },
    {
      "cell_type": "markdown",
      "metadata": {
        "id": "y-YM1Ds_jXi7"
      },
      "source": [
        "Разделим данные на обучающую, валидационную и тестовую выборки в соотношении 3:1:1"
      ]
    },
    {
      "cell_type": "code",
      "execution_count": null,
      "metadata": {
        "id": "E1REE_OsjXi7"
      },
      "outputs": [],
      "source": [
        "features_train, features_test, target_train, target_test = train_test_split(features, target, test_size=0.4, random_state=12345, stratify=target)"
      ]
    },
    {
      "cell_type": "code",
      "execution_count": null,
      "metadata": {
        "id": "mTW-vDj5jXi8",
        "outputId": "bcf92c32-ac99-456c-9551-27a9c762f766"
      },
      "outputs": [
        {
          "name": "stdout",
          "output_type": "stream",
          "text": [
            "Размер обучающей выборки: (1928, 4)\n"
          ]
        }
      ],
      "source": [
        "print('Размер обучающей выборки:', features_train.shape)"
      ]
    },
    {
      "cell_type": "code",
      "execution_count": null,
      "metadata": {
        "id": "C2ulg4USjXi8"
      },
      "outputs": [],
      "source": [
        "features_valid, features_test, target_valid, target_test = train_test_split(features_test, target_test, test_size=0.5, random_state=12345, stratify=target_test)"
      ]
    },
    {
      "cell_type": "code",
      "execution_count": null,
      "metadata": {
        "id": "5GdShEDnjXi8",
        "outputId": "27a2d073-38b4-4d79-ff66-a16aac879792"
      },
      "outputs": [
        {
          "name": "stdout",
          "output_type": "stream",
          "text": [
            "Размер валидационной выборки: (643, 4)\n",
            "Размер тестовой выборки: (643, 4)\n"
          ]
        }
      ],
      "source": [
        "print('Размер валидационной выборки:', features_valid.shape)\n",
        "print('Размер тестовой выборки:', features_test.shape)"
      ]
    },
    {
      "cell_type": "markdown",
      "metadata": {
        "id": "lmIDaRivjXi8"
      },
      "source": [
        "Посмотрим на сбалансированность классов"
      ]
    },
    {
      "cell_type": "code",
      "execution_count": null,
      "metadata": {
        "id": "3o3tAaqljXi8",
        "outputId": "d8905188-4e8c-47df-9a6a-2c195aa29f6b"
      },
      "outputs": [
        {
          "data": {
            "text/plain": [
              "0    69.4%\n",
              "1    30.6%\n",
              "Name: is_ultra, dtype: object"
            ]
          },
          "execution_count": 13,
          "metadata": {},
          "output_type": "execute_result"
        }
      ],
      "source": [
        "df['is_ultra'].value_counts(normalize=True).mul(100).round(1).astype(str) + '%'"
      ]
    },
    {
      "cell_type": "code",
      "execution_count": null,
      "metadata": {
        "id": "Kmn1GClAjXi8",
        "outputId": "8c033c05-230a-4b9a-8519-24d6ec35187c"
      },
      "outputs": [
        {
          "data": {
            "text/plain": [
              "0    69.3%\n",
              "1    30.7%\n",
              "Name: is_ultra, dtype: object"
            ]
          },
          "execution_count": 14,
          "metadata": {},
          "output_type": "execute_result"
        }
      ],
      "source": [
        "target_train.value_counts(normalize=True).mul(100).round(1).astype(str) + '%'"
      ]
    },
    {
      "cell_type": "code",
      "execution_count": null,
      "metadata": {
        "id": "yPgj0rl1jXi8",
        "outputId": "0117d4c0-8aed-4496-f46f-9dbee36c572d"
      },
      "outputs": [
        {
          "data": {
            "text/plain": [
              "0    69.4%\n",
              "1    30.6%\n",
              "Name: is_ultra, dtype: object"
            ]
          },
          "execution_count": 15,
          "metadata": {},
          "output_type": "execute_result"
        }
      ],
      "source": [
        "target_test.value_counts(normalize=True).mul(100).round(1).astype(str) + '%'"
      ]
    },
    {
      "cell_type": "code",
      "execution_count": null,
      "metadata": {
        "id": "5kVKCxnvjXi9",
        "outputId": "2117217d-d053-451d-bd58-b8413a2acfd2"
      },
      "outputs": [
        {
          "data": {
            "text/plain": [
              "0    69.4%\n",
              "1    30.6%\n",
              "Name: is_ultra, dtype: object"
            ]
          },
          "execution_count": 16,
          "metadata": {},
          "output_type": "execute_result"
        }
      ],
      "source": [
        "target_valid.value_counts(normalize=True).mul(100).round(1).astype(str) + '%'"
      ]
    },
    {
      "cell_type": "markdown",
      "metadata": {
        "id": "k3BvvUrejXi9"
      },
      "source": [
        "Классы в таргете сбалансированны во всех выборках"
      ]
    },
    {
      "cell_type": "markdown",
      "metadata": {
        "id": "tc2e-hX8jXjB"
      },
      "source": [
        "## Исследуйте модели"
      ]
    },
    {
      "cell_type": "markdown",
      "metadata": {
        "id": "W-6pUAVxjXjB"
      },
      "source": [
        "Напишем функцию для рассчитывания accuracy"
      ]
    },
    {
      "cell_type": "code",
      "execution_count": null,
      "metadata": {
        "id": "iTtr35D4jXjB"
      },
      "outputs": [],
      "source": [
        "def accuracy(model):\n",
        "    predictions_valid = model.predict(features_valid)\n",
        "    return accuracy_score(target_valid, predictions_valid)"
      ]
    },
    {
      "cell_type": "markdown",
      "metadata": {
        "id": "6XUSTgyLjXjB"
      },
      "source": [
        "Дерево решений"
      ]
    },
    {
      "cell_type": "code",
      "execution_count": null,
      "metadata": {
        "id": "piiK873ujXjB",
        "outputId": "0452af9e-1dae-419e-eda8-cbae643680ad"
      },
      "outputs": [
        {
          "name": "stdout",
          "output_type": "stream",
          "text": [
            "depth = 1 | accuracy = 0.7402799377916018\n",
            "depth = 2 | accuracy = 0.7729393468118196\n",
            "depth = 3 | accuracy = 0.7776049766718507\n",
            "depth = 4 | accuracy = 0.7542768273716952\n",
            "depth = 5 | accuracy = 0.7853810264385692\n",
            "depth = 6 | accuracy = 0.7744945567651633\n",
            "depth = 7 | accuracy = 0.7869362363919129\n",
            "depth = 8 | accuracy = 0.80248833592535\n",
            "depth = 9 | accuracy = 0.7776049766718507\n",
            "depth = 10 | accuracy = 0.776049766718507\n",
            "depth = 11 | accuracy = 0.7651632970451011\n",
            "depth = 12 | accuracy = 0.7589424572317263\n",
            "depth = 13 | accuracy = 0.7542768273716952\n",
            "depth = 14 | accuracy = 0.7620528771384136\n",
            "depth = 15 | accuracy = 0.7636080870917574\n",
            "depth = 16 | accuracy = 0.7573872472783826\n",
            "depth = 17 | accuracy = 0.7402799377916018\n",
            "depth = 18 | accuracy = 0.7309486780715396\n",
            "depth = 19 | accuracy = 0.7340590979782271\n",
            "depth = 20 | accuracy = 0.7216174183514774\n",
            "Accuracy наилучшей модели на валидационной выборке: 0.80248833592535 DecisionTreeClassifier(max_depth=8, random_state=12345)\n",
            "CPU times: user 206 ms, sys: 6.63 ms, total: 213 ms\n",
            "Wall time: 211 ms\n"
          ]
        }
      ],
      "source": [
        "%%time\n",
        "best_model_dt = None\n",
        "best_result = 0\n",
        "depth_dt = []\n",
        "accuracy_train_dt = []\n",
        "accuracy_valid_dt = []\n",
        "for depth in range(1, 21):\n",
        "    model_dt = DecisionTreeClassifier(random_state=12345, max_depth=depth)\n",
        "    model_dt.fit(features_train, target_train)\n",
        "    result_train = model_dt.score(features_train, target_train)\n",
        "    result_valid = model_dt.score(features_valid, target_valid)\n",
        "    depth_dt.append(depth)\n",
        "    accuracy_train_dt.append(result_train)\n",
        "    accuracy_valid_dt.append(result_valid)\n",
        "    print('depth =', depth, '|',  'accuracy =', accuracy(model_dt))\n",
        "    if result_valid > best_result:\n",
        "        best_model_dt = model_dt\n",
        "        best_result = result_valid\n",
        "    elif depth == 2:\n",
        "        model_two = model_dt\n",
        "print(\"Accuracy наилучшей модели на валидационной выборке:\", best_result, best_model_dt)"
      ]
    },
    {
      "cell_type": "code",
      "execution_count": null,
      "metadata": {
        "id": "MygECh7gjXjB",
        "outputId": "4513403f-1268-40e0-bbd0-50936cf0169b"
      },
      "outputs": [
        {
          "data": {
            "image/png": "[encoded data removed]",
            "text/plain": [
              "<Figure size 1440x360 with 1 Axes>"
            ]
          },
          "metadata": {
            "needs_background": "light"
          },
          "output_type": "display_data"
        }
      ],
      "source": [
        "plt.figure(figsize=(20, 5))\n",
        "plt.grid(True)\n",
        "plt.plot(depth_dt, accuracy_train_dt)\n",
        "plt.plot(depth_dt, accuracy_valid_dt)\n",
        "plt.legend(['Обучающая выборка', 'Валидационная выборка'])\n",
        "plt.xlabel('depth')\n",
        "plt.ylabel('accuracy')\n",
        "plt.title('График изменения гиперпараметров')\n",
        "plt.show()"
      ]
    },
    {
      "cell_type": "code",
      "execution_count": null,
      "metadata": {
        "id": "ODyqt39xjXjC"
      },
      "outputs": [],
      "source": [
        "# tree.plot_tree(best_model)\n",
        "# plt.show()"
      ]
    },
    {
      "cell_type": "markdown",
      "metadata": {
        "id": "9xYVK5jbjXjC"
      },
      "source": [
        "Случайный лес"
      ]
    },
    {
      "cell_type": "code",
      "execution_count": null,
      "metadata": {
        "id": "gkM7kdlxjXjD",
        "outputId": "95bef955-fb29-4b70-994a-0d1fd55bd537"
      },
      "outputs": [
        {
          "name": "stderr",
          "output_type": "stream",
          "text": [
            " 20%|██        | 2/10 [00:00<00:00, 10.11it/s]"
          ]
        },
        {
          "name": "stdout",
          "output_type": "stream",
          "text": [
            "n_estimators = 1 | max_depth = 1 | accuracy_score = 0.7480559875583204\n",
            "n_estimators = 1 | max_depth = 2 | accuracy_score = 0.776049766718507\n",
            "n_estimators = 1 | max_depth = 3 | accuracy_score = 0.776049766718507\n",
            "n_estimators = 1 | max_depth = 4 | accuracy_score = 0.7558320373250389\n",
            "n_estimators = 1 | max_depth = 5 | accuracy_score = 0.7713841368584758\n",
            "n_estimators = 1 | max_depth = 6 | accuracy_score = 0.7791601866251944\n",
            "n_estimators = 1 | max_depth = 7 | accuracy_score = 0.7791601866251944\n",
            "n_estimators = 1 | max_depth = 8 | accuracy_score = 0.7884914463452566\n",
            "n_estimators = 1 | max_depth = 9 | accuracy_score = 0.7682737169517885\n",
            "n_estimators = 1 | max_depth = 10 | accuracy_score = 0.7791601866251944\n",
            "n_estimators = 2 | max_depth = 1 | accuracy_score = 0.7153965785381027\n",
            "n_estimators = 2 | max_depth = 2 | accuracy_score = 0.7573872472783826\n",
            "n_estimators = 2 | max_depth = 3 | accuracy_score = 0.7900466562986003\n",
            "n_estimators = 2 | max_depth = 4 | accuracy_score = 0.7729393468118196\n",
            "n_estimators = 2 | max_depth = 5 | accuracy_score = 0.7776049766718507\n",
            "n_estimators = 2 | max_depth = 6 | accuracy_score = 0.776049766718507\n",
            "n_estimators = 2 | max_depth = 7 | accuracy_score = 0.776049766718507\n",
            "n_estimators = 2 | max_depth = 8 | accuracy_score = 0.7776049766718507\n",
            "n_estimators = 2 | max_depth = 9 | accuracy_score = 0.7729393468118196\n",
            "n_estimators = 2 | max_depth = 10 | accuracy_score = 0.7542768273716952\n",
            "n_estimators = 3 | max_depth = 1 | accuracy_score = 0.7122861586314152\n",
            "n_estimators = 3 | max_depth = 2 | accuracy_score = 0.7589424572317263\n",
            "n_estimators = 3 | max_depth = 3 | accuracy_score = 0.7900466562986003\n",
            "n_estimators = 3 | max_depth = 4 | accuracy_score = 0.7807153965785381\n",
            "n_estimators = 3 | max_depth = 5 | accuracy_score = 0.7947122861586314\n",
            "n_estimators = 3 | max_depth = 6 | accuracy_score = 0.7807153965785381\n",
            "n_estimators = 3 | max_depth = 7 | accuracy_score = 0.7993779160186625\n",
            "n_estimators = 3 | max_depth = 8 | accuracy_score = 0.776049766718507\n",
            "n_estimators = 3 | max_depth = 9 | accuracy_score = 0.7947122861586314\n",
            "n_estimators = 3 | max_depth = 10 | accuracy_score = 0.7776049766718507\n",
            "n_estimators = 4 | max_depth = 1 | accuracy_score = 0.7169517884914464\n",
            "n_estimators = 4 | max_depth = 2 | accuracy_score = 0.776049766718507\n",
            "n_estimators = 4 | max_depth = 3 | accuracy_score = 0.7900466562986003\n",
            "n_estimators = 4 | max_depth = 4 | accuracy_score = 0.7869362363919129\n",
            "n_estimators = 4 | max_depth = 5 | accuracy_score = 0.7931570762052877\n",
            "n_estimators = 4 | max_depth = 6 | accuracy_score = 0.8009331259720062\n"
          ]
        },
        {
          "name": "stderr",
          "output_type": "stream",
          "text": [
            " 40%|████      | 4/10 [00:00<00:00,  8.09it/s]"
          ]
        },
        {
          "name": "stdout",
          "output_type": "stream",
          "text": [
            "n_estimators = 4 | max_depth = 7 | accuracy_score = 0.7993779160186625\n",
            "n_estimators = 4 | max_depth = 8 | accuracy_score = 0.7838258164852255\n",
            "n_estimators = 4 | max_depth = 9 | accuracy_score = 0.7947122861586314\n",
            "n_estimators = 4 | max_depth = 10 | accuracy_score = 0.7667185069984448\n",
            "n_estimators = 5 | max_depth = 1 | accuracy_score = 0.7651632970451011\n",
            "n_estimators = 5 | max_depth = 2 | accuracy_score = 0.7698289269051322\n",
            "n_estimators = 5 | max_depth = 3 | accuracy_score = 0.7916018662519441\n",
            "n_estimators = 5 | max_depth = 4 | accuracy_score = 0.7916018662519441\n",
            "n_estimators = 5 | max_depth = 5 | accuracy_score = 0.7853810264385692\n",
            "n_estimators = 5 | max_depth = 6 | accuracy_score = 0.7916018662519441\n",
            "n_estimators = 5 | max_depth = 7 | accuracy_score = 0.7947122861586314\n",
            "n_estimators = 5 | max_depth = 8 | accuracy_score = 0.7838258164852255\n",
            "n_estimators = 5 | max_depth = 9 | accuracy_score = 0.7916018662519441\n"
          ]
        },
        {
          "name": "stderr",
          "output_type": "stream",
          "text": [
            " 50%|█████     | 5/10 [00:00<00:00,  7.29it/s]"
          ]
        },
        {
          "name": "stdout",
          "output_type": "stream",
          "text": [
            "n_estimators = 5 | max_depth = 10 | accuracy_score = 0.8009331259720062\n",
            "n_estimators = 6 | max_depth = 1 | accuracy_score = 0.749611197511664\n",
            "n_estimators = 6 | max_depth = 2 | accuracy_score = 0.7682737169517885\n",
            "n_estimators = 6 | max_depth = 3 | accuracy_score = 0.7931570762052877\n",
            "n_estimators = 6 | max_depth = 4 | accuracy_score = 0.7869362363919129\n",
            "n_estimators = 6 | max_depth = 5 | accuracy_score = 0.7822706065318819\n",
            "n_estimators = 6 | max_depth = 6 | accuracy_score = 0.7962674961119751\n",
            "n_estimators = 6 | max_depth = 7 | accuracy_score = 0.7916018662519441\n",
            "n_estimators = 6 | max_depth = 8 | accuracy_score = 0.7838258164852255\n",
            "n_estimators = 6 | max_depth = 9 | accuracy_score = 0.7853810264385692\n"
          ]
        },
        {
          "name": "stderr",
          "output_type": "stream",
          "text": [
            " 60%|██████    | 6/10 [00:00<00:00,  6.37it/s]"
          ]
        },
        {
          "name": "stdout",
          "output_type": "stream",
          "text": [
            "n_estimators = 6 | max_depth = 10 | accuracy_score = 0.7962674961119751\n",
            "n_estimators = 7 | max_depth = 1 | accuracy_score = 0.7651632970451011\n",
            "n_estimators = 7 | max_depth = 2 | accuracy_score = 0.7776049766718507\n",
            "n_estimators = 7 | max_depth = 3 | accuracy_score = 0.7962674961119751\n",
            "n_estimators = 7 | max_depth = 4 | accuracy_score = 0.7900466562986003\n",
            "n_estimators = 7 | max_depth = 5 | accuracy_score = 0.7869362363919129\n",
            "n_estimators = 7 | max_depth = 6 | accuracy_score = 0.7947122861586314\n",
            "n_estimators = 7 | max_depth = 7 | accuracy_score = 0.7978227060653188\n",
            "n_estimators = 7 | max_depth = 8 | accuracy_score = 0.7900466562986003\n"
          ]
        },
        {
          "name": "stderr",
          "output_type": "stream",
          "text": [
            " 70%|███████   | 7/10 [00:01<00:00,  5.45it/s]"
          ]
        },
        {
          "name": "stdout",
          "output_type": "stream",
          "text": [
            "n_estimators = 7 | max_depth = 9 | accuracy_score = 0.80248833592535\n",
            "n_estimators = 7 | max_depth = 10 | accuracy_score = 0.7993779160186625\n",
            "n_estimators = 8 | max_depth = 1 | accuracy_score = 0.7620528771384136\n",
            "n_estimators = 8 | max_depth = 2 | accuracy_score = 0.7729393468118196\n",
            "n_estimators = 8 | max_depth = 3 | accuracy_score = 0.7931570762052877\n",
            "n_estimators = 8 | max_depth = 4 | accuracy_score = 0.7869362363919129\n",
            "n_estimators = 8 | max_depth = 5 | accuracy_score = 0.7962674961119751\n",
            "n_estimators = 8 | max_depth = 6 | accuracy_score = 0.7962674961119751\n",
            "n_estimators = 8 | max_depth = 7 | accuracy_score = 0.8040435458786936\n"
          ]
        },
        {
          "name": "stderr",
          "output_type": "stream",
          "text": [
            " 80%|████████  | 8/10 [00:01<00:00,  4.87it/s]"
          ]
        },
        {
          "name": "stdout",
          "output_type": "stream",
          "text": [
            "n_estimators = 8 | max_depth = 8 | accuracy_score = 0.7962674961119751\n",
            "n_estimators = 8 | max_depth = 9 | accuracy_score = 0.807153965785381\n",
            "n_estimators = 8 | max_depth = 10 | accuracy_score = 0.7978227060653188\n",
            "n_estimators = 9 | max_depth = 1 | accuracy_score = 0.7511664074650077\n",
            "n_estimators = 9 | max_depth = 2 | accuracy_score = 0.7776049766718507\n",
            "n_estimators = 9 | max_depth = 3 | accuracy_score = 0.7947122861586314\n",
            "n_estimators = 9 | max_depth = 4 | accuracy_score = 0.7931570762052877\n",
            "n_estimators = 9 | max_depth = 5 | accuracy_score = 0.7947122861586314\n",
            "n_estimators = 9 | max_depth = 6 | accuracy_score = 0.7962674961119751\n"
          ]
        },
        {
          "name": "stderr",
          "output_type": "stream",
          "text": [
            " 90%|█████████ | 9/10 [00:01<00:00,  4.46it/s]"
          ]
        },
        {
          "name": "stdout",
          "output_type": "stream",
          "text": [
            "n_estimators = 9 | max_depth = 7 | accuracy_score = 0.7962674961119751\n",
            "n_estimators = 9 | max_depth = 8 | accuracy_score = 0.7947122861586314\n",
            "n_estimators = 9 | max_depth = 9 | accuracy_score = 0.8055987558320373\n",
            "n_estimators = 9 | max_depth = 10 | accuracy_score = 0.7962674961119751\n",
            "n_estimators = 10 | max_depth = 1 | accuracy_score = 0.7542768273716952\n",
            "n_estimators = 10 | max_depth = 2 | accuracy_score = 0.7744945567651633\n",
            "n_estimators = 10 | max_depth = 3 | accuracy_score = 0.7947122861586314\n",
            "n_estimators = 10 | max_depth = 4 | accuracy_score = 0.7947122861586314\n",
            "n_estimators = 10 | max_depth = 5 | accuracy_score = 0.7900466562986003\n",
            "n_estimators = 10 | max_depth = 6 | accuracy_score = 0.7993779160186625\n",
            "n_estimators = 10 | max_depth = 7 | accuracy_score = 0.8009331259720062\n",
            "n_estimators = 10 | max_depth = 8 | accuracy_score = 0.8009331259720062\n"
          ]
        },
        {
          "name": "stderr",
          "output_type": "stream",
          "text": [
            "100%|██████████| 10/10 [00:01<00:00,  5.01it/s]"
          ]
        },
        {
          "name": "stdout",
          "output_type": "stream",
          "text": [
            "n_estimators = 10 | max_depth = 9 | accuracy_score = 0.8087091757387247\n",
            "n_estimators = 10 | max_depth = 10 | accuracy_score = 0.8009331259720062\n"
          ]
        },
        {
          "name": "stderr",
          "output_type": "stream",
          "text": [
            "\n"
          ]
        }
      ],
      "source": [
        "best_model_rf = None\n",
        "best_result = 0\n",
        "best_est = 0\n",
        "best_depth = 0\n",
        "for est in tqdm(range(1,11)):\n",
        "    for depth in range(1, 11):\n",
        "        model_rf = RandomForestClassifier(n_estimators=est, max_depth=depth, random_state=12345)\n",
        "        model_rf.fit(features_train, target_train)\n",
        "        result = model_rf.score(features_valid, target_valid)\n",
        "        print('n_estimators =', est, '|','max_depth =',  depth, '|', 'accuracy_score =', accuracy(model_rf))\n",
        "        if result > best_result:\n",
        "            best_model_rf = model_rf\n",
        "            best_result = result\n",
        "            best_est = est\n",
        "            best_depth = depth\n"
      ]
    },
    {
      "cell_type": "code",
      "execution_count": null,
      "metadata": {
        "id": "mc4aExhDjXjD",
        "outputId": "4f20cb49-1506-45da-88e9-5998ee9f4851"
      },
      "outputs": [
        {
          "name": "stdout",
          "output_type": "stream",
          "text": [
            "Accuracy наилучшей модели на валидационной выборке: 0.8087091757387247 RandomForestClassifier(max_depth=9, n_estimators=10, random_state=12345)\n"
          ]
        }
      ],
      "source": [
        "print(\"Accuracy наилучшей модели на валидационной выборке:\", best_result, best_model_rf)"
      ]
    },
    {
      "cell_type": "markdown",
      "metadata": {
        "id": "KmhWI7-DjXjD"
      },
      "source": [
        "Логистическая регрессия"
      ]
    },
    {
      "cell_type": "code",
      "execution_count": null,
      "metadata": {
        "id": "Ltx9f07wjXjE"
      },
      "outputs": [],
      "source": [
        "sol = ['newton-cg', 'lbfgs', 'liblinear', 'sag', 'saga']"
      ]
    },
    {
      "cell_type": "code",
      "execution_count": null,
      "metadata": {
        "scrolled": true,
        "id": "JJ9f2CDEjXjE",
        "outputId": "a1406d0a-670d-4423-9c98-881363a87ef4"
      },
      "outputs": [
        {
          "name": "stdout",
          "output_type": "stream",
          "text": [
            "Accuracy наилучшей модели на валидационной выборке: 0.7387247278382582 LogisticRegression(random_state=12345, solver='newton-cg')\n"
          ]
        }
      ],
      "source": [
        "best_model_lr = None\n",
        "best_result = 0\n",
        "for s in sol:\n",
        "    model_lr = LogisticRegression(solver=s, random_state=12345)\n",
        "    model_lr.fit(features_train, target_train)\n",
        "    result = model_lr.score(features_valid, target_valid)\n",
        "    accuracy(model_lr)\n",
        "    if result > best_result:\n",
        "        best_model_lr = model_lr\n",
        "        best_result = result\n",
        "print(\"Accuracy наилучшей модели на валидационной выборке:\", best_result, best_model_lr)\n"
      ]
    },
    {
      "cell_type": "markdown",
      "metadata": {
        "id": "vjsm5LP9jXjF"
      },
      "source": [
        "*Дерево решений*\n",
        "\n",
        "Accuracy наилучшей модели на валидационной выборке: 0.80248833592535 DecisionTreeClassifier(max_depth=8, random_state=12345)\n",
        "\n",
        "\n",
        "*Случайный лес*\n",
        "\n",
        "Accuracy наилучшей модели на валидационной выборке: 0.8087091757387247 RandomForestClassifier(max_depth=9, n_estimators=10, random_state=12345)\n",
        "\n",
        "\n",
        "*Логистическая регрессия*\n",
        "\n",
        "Accuracy наилучшей модели на валидационной выборке: 0.7387247278382582 LogisticRegression(random_state=12345, solver='newton-cg')\n"
      ]
    },
    {
      "cell_type": "markdown",
      "metadata": {
        "id": "Ji5Bf1bBjXjF"
      },
      "source": [
        "Лучшая модель - случайный лес с параметрами:\n",
        "\n",
        "    -max_depth=9\n",
        "    -n_estimators=10\n",
        "    -random_state=12345"
      ]
    },
    {
      "cell_type": "markdown",
      "metadata": {
        "id": "ay_o5XNnjXjG"
      },
      "source": [
        "## Проверьте модель на тестовой выборке"
      ]
    },
    {
      "cell_type": "code",
      "execution_count": null,
      "metadata": {
        "id": "hQgOkyL4jXjG"
      },
      "outputs": [],
      "source": [
        "best_model_rf.fit(features_train, target_train)\n",
        "predictions_test = best_model_rf.predict(features_test)\n",
        "accuracy_score(target_test, predictions_test)"
      ]
    },
    {
      "cell_type": "markdown",
      "metadata": {
        "id": "wkCILF_vjXjG"
      },
      "source": [
        "На тестовой выборке accuracy близок к валидационной. Модель не переобучилась и недообучилась. Хорошая модель."
      ]
    },
    {
      "cell_type": "markdown",
      "source": [
        "## Вывод"
      ],
      "metadata": {
        "id": "PNphzkQFkIP4"
      }
    },
    {
      "cell_type": "markdown",
      "metadata": {
        "id": "T6GCIISmjXjH"
      },
      "source": [
        "\n",
        "<div class=\"alert alert-info\">Оператор мобильной связи &laquo;Мегалайн&raquo; выяснил: многие клиенты пользуются архивными тарифами. Они хотят построить систему, способную проанализировать поведение клиентов и предложить пользователям новый тариф: &laquo;Смарт&raquo; или &laquo;Ультра&raquo;. В нашем распоряжении данные о поведении клиентов, которые уже перешли на эти тарифы. Необходимо построить модель для задачи классификации, которая выберет подходящий тариф.\n",
        "    \n",
        "<p>Данные полные, без пропусков и дубликатов<p>\n",
        "    \n",
        "<p>В ходе работы были построены 3 модели машинного обучения:<p>\n",
        "<ul>Дерево решений</ul>\n",
        "<ul>Случайный лес</ul>\n",
        "<ul>Логистическая регрессия</ul>\n",
        "<p>В ходе подбора гиперпараметров победила модель Случайного леса.</p>\n",
        "<p>Accuracy &nbsp;0.8087091757387247</p>\n",
        "<p>На тестовой выборке accuracy близок к валидационной (0.8009331259720062).&nbsp;</p>\n",
        "<p>Модель можно применять в продакшене.</p>\n",
        "</div>"
      ]
    },
    {
      "cell_type": "code",
      "source": [],
      "metadata": {
        "id": "fPC8ajf6kFOy"
      },
      "execution_count": null,
      "outputs": []
    }
  ],
  "metadata": {
    "ExecuteTimeLog": [
      {
        "duration": 1225,
        "start_time": "2023-03-15T08:04:18.416Z"
      },
      {
        "duration": 134,
        "start_time": "2023-03-15T08:05:07.908Z"
      },
      {
        "duration": 4,
        "start_time": "2023-03-15T08:05:22.017Z"
      },
      {
        "duration": 13,
        "start_time": "2023-03-15T08:05:36.816Z"
      },
      {
        "duration": 4,
        "start_time": "2023-03-15T08:06:33.006Z"
      },
      {
        "duration": 11,
        "start_time": "2023-03-15T08:06:39.501Z"
      },
      {
        "duration": 5,
        "start_time": "2023-03-15T08:07:18.814Z"
      },
      {
        "duration": 12,
        "start_time": "2023-03-15T08:07:19.534Z"
      },
      {
        "duration": 6,
        "start_time": "2023-03-15T08:12:09.476Z"
      },
      {
        "duration": 119,
        "start_time": "2023-03-15T08:16:36.518Z"
      },
      {
        "duration": 6,
        "start_time": "2023-03-15T08:16:51.306Z"
      },
      {
        "duration": 5,
        "start_time": "2023-03-15T08:18:39.806Z"
      },
      {
        "duration": 5,
        "start_time": "2023-03-15T08:19:47.016Z"
      },
      {
        "duration": 64,
        "start_time": "2023-03-15T08:20:23.385Z"
      },
      {
        "duration": 4,
        "start_time": "2023-03-15T08:20:31.036Z"
      },
      {
        "duration": 4,
        "start_time": "2023-03-15T08:20:39.413Z"
      },
      {
        "duration": 12,
        "start_time": "2023-03-15T08:21:51.733Z"
      },
      {
        "duration": 4,
        "start_time": "2023-03-15T08:22:22.201Z"
      },
      {
        "duration": 43,
        "start_time": "2023-03-15T08:29:25.773Z"
      },
      {
        "duration": 308,
        "start_time": "2023-03-15T08:29:58.631Z"
      },
      {
        "duration": 43,
        "start_time": "2023-03-15T08:33:12.877Z"
      },
      {
        "duration": 53,
        "start_time": "2023-03-15T08:33:27.360Z"
      },
      {
        "duration": 41,
        "start_time": "2023-03-15T08:33:42.680Z"
      },
      {
        "duration": 342,
        "start_time": "2023-03-15T08:33:57.077Z"
      },
      {
        "duration": 46,
        "start_time": "2023-03-15T08:34:20.259Z"
      },
      {
        "duration": 48,
        "start_time": "2023-03-15T08:34:29.060Z"
      },
      {
        "duration": 41,
        "start_time": "2023-03-15T08:34:51.442Z"
      },
      {
        "duration": 330,
        "start_time": "2023-03-15T08:35:14.776Z"
      },
      {
        "duration": 44,
        "start_time": "2023-03-15T08:35:47.352Z"
      },
      {
        "duration": 321,
        "start_time": "2023-03-15T08:36:49.238Z"
      },
      {
        "duration": 37,
        "start_time": "2023-03-15T08:43:54.231Z"
      },
      {
        "duration": 81,
        "start_time": "2023-03-15T08:44:03.106Z"
      },
      {
        "duration": 305,
        "start_time": "2023-03-15T08:45:11.479Z"
      },
      {
        "duration": 108,
        "start_time": "2023-03-15T08:47:59.105Z"
      },
      {
        "duration": 1943,
        "start_time": "2023-03-15T08:48:46.550Z"
      },
      {
        "duration": 1977,
        "start_time": "2023-03-15T08:49:22.714Z"
      },
      {
        "duration": 16909,
        "start_time": "2023-03-15T08:50:23.089Z"
      },
      {
        "duration": 39,
        "start_time": "2023-03-15T08:51:03.680Z"
      },
      {
        "duration": 829,
        "start_time": "2023-03-15T08:51:21.380Z"
      },
      {
        "duration": 41,
        "start_time": "2023-03-15T08:51:38.523Z"
      },
      {
        "duration": 41,
        "start_time": "2023-03-15T08:51:52.014Z"
      },
      {
        "duration": 58,
        "start_time": "2023-03-15T08:54:38.074Z"
      },
      {
        "duration": 4,
        "start_time": "2023-03-15T08:55:03.129Z"
      },
      {
        "duration": 91,
        "start_time": "2023-03-15T08:55:03.135Z"
      },
      {
        "duration": 3,
        "start_time": "2023-03-15T08:55:03.228Z"
      },
      {
        "duration": 22,
        "start_time": "2023-03-15T08:55:03.234Z"
      },
      {
        "duration": 46,
        "start_time": "2023-03-15T08:55:03.258Z"
      },
      {
        "duration": 18,
        "start_time": "2023-03-15T08:55:03.306Z"
      },
      {
        "duration": 35,
        "start_time": "2023-03-15T08:55:03.327Z"
      },
      {
        "duration": 39,
        "start_time": "2023-03-15T08:55:03.364Z"
      },
      {
        "duration": 14,
        "start_time": "2023-03-15T08:55:03.405Z"
      },
      {
        "duration": 8,
        "start_time": "2023-03-15T08:55:03.422Z"
      },
      {
        "duration": 68,
        "start_time": "2023-03-15T08:55:03.432Z"
      },
      {
        "duration": 44,
        "start_time": "2023-03-15T08:55:08.742Z"
      },
      {
        "duration": 190,
        "start_time": "2023-03-15T08:59:05.471Z"
      },
      {
        "duration": 191,
        "start_time": "2023-03-15T09:00:15.431Z"
      },
      {
        "duration": 874,
        "start_time": "2023-03-15T09:01:04.719Z"
      },
      {
        "duration": 212,
        "start_time": "2023-03-15T09:01:40.277Z"
      },
      {
        "duration": 215,
        "start_time": "2023-03-15T09:02:13.302Z"
      },
      {
        "duration": 208,
        "start_time": "2023-03-15T09:02:18.690Z"
      },
      {
        "duration": 202,
        "start_time": "2023-03-15T09:02:25.319Z"
      },
      {
        "duration": 214,
        "start_time": "2023-03-15T09:02:36.816Z"
      },
      {
        "duration": 196,
        "start_time": "2023-03-15T09:06:30.138Z"
      },
      {
        "duration": 225,
        "start_time": "2023-03-15T09:06:54.726Z"
      },
      {
        "duration": 204,
        "start_time": "2023-03-15T09:07:14.211Z"
      },
      {
        "duration": 197,
        "start_time": "2023-03-15T09:07:41.420Z"
      },
      {
        "duration": 12,
        "start_time": "2023-03-15T09:08:31.377Z"
      },
      {
        "duration": 45,
        "start_time": "2023-03-15T09:14:20.922Z"
      },
      {
        "duration": 97,
        "start_time": "2023-03-15T09:14:25.777Z"
      },
      {
        "duration": 95,
        "start_time": "2023-03-15T09:15:30.407Z"
      },
      {
        "duration": 98,
        "start_time": "2023-03-15T09:15:56.875Z"
      },
      {
        "duration": 106,
        "start_time": "2023-03-15T09:16:05.475Z"
      },
      {
        "duration": 101,
        "start_time": "2023-03-15T09:17:19.419Z"
      },
      {
        "duration": 87,
        "start_time": "2023-03-15T09:17:49.475Z"
      },
      {
        "duration": 3,
        "start_time": "2023-03-15T09:22:46.511Z"
      },
      {
        "duration": 17,
        "start_time": "2023-03-15T09:23:24.911Z"
      },
      {
        "duration": 220,
        "start_time": "2023-03-15T09:23:43.524Z"
      },
      {
        "duration": 227,
        "start_time": "2023-03-15T09:24:24.319Z"
      },
      {
        "duration": 196,
        "start_time": "2023-03-15T09:24:43.572Z"
      },
      {
        "duration": 238,
        "start_time": "2023-03-15T09:24:56.406Z"
      },
      {
        "duration": 233,
        "start_time": "2023-03-15T09:25:03.046Z"
      },
      {
        "duration": 192,
        "start_time": "2023-03-15T09:25:33.250Z"
      },
      {
        "duration": 189,
        "start_time": "2023-03-15T09:25:42.621Z"
      },
      {
        "duration": 217,
        "start_time": "2023-03-15T09:25:54.822Z"
      },
      {
        "duration": 91,
        "start_time": "2023-03-15T09:26:49.026Z"
      },
      {
        "duration": 28821,
        "start_time": "2023-03-15T09:30:02.314Z"
      },
      {
        "duration": 2082,
        "start_time": "2023-03-15T09:30:38.706Z"
      },
      {
        "duration": 2131,
        "start_time": "2023-03-15T09:31:22.834Z"
      },
      {
        "duration": 2316,
        "start_time": "2023-03-15T09:31:34.126Z"
      },
      {
        "duration": 18,
        "start_time": "2023-03-15T09:38:20.081Z"
      },
      {
        "duration": 20,
        "start_time": "2023-03-15T09:38:34.002Z"
      },
      {
        "duration": 19,
        "start_time": "2023-03-15T09:38:44.265Z"
      },
      {
        "duration": 17,
        "start_time": "2023-03-15T09:38:49.376Z"
      },
      {
        "duration": 29,
        "start_time": "2023-03-15T09:38:56.822Z"
      },
      {
        "duration": 39,
        "start_time": "2023-03-15T09:39:04.902Z"
      },
      {
        "duration": 39,
        "start_time": "2023-03-15T09:39:10.210Z"
      },
      {
        "duration": 38,
        "start_time": "2023-03-15T09:39:23.368Z"
      },
      {
        "duration": 13,
        "start_time": "2023-03-15T09:51:16.410Z"
      },
      {
        "duration": 4,
        "start_time": "2023-03-15T09:51:20.636Z"
      },
      {
        "duration": 4,
        "start_time": "2023-03-15T09:51:21.366Z"
      },
      {
        "duration": 16,
        "start_time": "2023-03-15T09:52:00.255Z"
      },
      {
        "duration": 3,
        "start_time": "2023-03-15T09:52:29.581Z"
      },
      {
        "duration": 4,
        "start_time": "2023-03-15T09:52:30.341Z"
      },
      {
        "duration": 3,
        "start_time": "2023-03-15T09:52:41.510Z"
      },
      {
        "duration": 4,
        "start_time": "2023-03-15T09:52:42.173Z"
      },
      {
        "duration": 17,
        "start_time": "2023-03-15T09:52:45.846Z"
      },
      {
        "duration": 3,
        "start_time": "2023-03-15T09:53:29.914Z"
      },
      {
        "duration": 3,
        "start_time": "2023-03-15T09:53:32.119Z"
      },
      {
        "duration": 17,
        "start_time": "2023-03-15T09:53:35.077Z"
      },
      {
        "duration": 11,
        "start_time": "2023-03-15T09:55:14.414Z"
      },
      {
        "duration": 2,
        "start_time": "2023-03-15T09:55:17.550Z"
      },
      {
        "duration": 3,
        "start_time": "2023-03-15T09:55:18.262Z"
      },
      {
        "duration": 246,
        "start_time": "2023-03-15T09:55:19.014Z"
      },
      {
        "duration": 2,
        "start_time": "2023-03-15T09:55:55.327Z"
      },
      {
        "duration": 3,
        "start_time": "2023-03-15T09:55:56.062Z"
      },
      {
        "duration": 219,
        "start_time": "2023-03-15T09:55:56.934Z"
      },
      {
        "duration": 236,
        "start_time": "2023-03-15T09:56:12.010Z"
      },
      {
        "duration": 239,
        "start_time": "2023-03-15T09:56:32.511Z"
      },
      {
        "duration": 3,
        "start_time": "2023-03-15T09:57:05.063Z"
      },
      {
        "duration": 4,
        "start_time": "2023-03-15T09:57:05.926Z"
      },
      {
        "duration": 220,
        "start_time": "2023-03-15T09:57:06.830Z"
      },
      {
        "duration": 3,
        "start_time": "2023-03-15T09:57:41.522Z"
      },
      {
        "duration": 4,
        "start_time": "2023-03-15T09:57:42.146Z"
      },
      {
        "duration": 231,
        "start_time": "2023-03-15T09:57:42.945Z"
      },
      {
        "duration": 83,
        "start_time": "2023-03-15T10:01:49.814Z"
      },
      {
        "duration": 100,
        "start_time": "2023-03-15T10:02:48.282Z"
      },
      {
        "duration": 96,
        "start_time": "2023-03-15T10:03:05.202Z"
      },
      {
        "duration": 111,
        "start_time": "2023-03-15T10:03:51.414Z"
      },
      {
        "duration": 57,
        "start_time": "2023-03-15T10:05:00.822Z"
      },
      {
        "duration": 2356,
        "start_time": "2023-03-15T10:05:13.668Z"
      },
      {
        "duration": 2216,
        "start_time": "2023-03-15T10:05:48.030Z"
      },
      {
        "duration": 2242,
        "start_time": "2023-03-15T10:06:25.139Z"
      },
      {
        "duration": 104,
        "start_time": "2023-03-15T10:07:16.219Z"
      },
      {
        "duration": 2241,
        "start_time": "2023-03-15T10:07:25.548Z"
      },
      {
        "duration": 2447,
        "start_time": "2023-03-15T10:08:15.572Z"
      },
      {
        "duration": 2475,
        "start_time": "2023-03-15T10:08:47.327Z"
      },
      {
        "duration": 2514,
        "start_time": "2023-03-15T10:10:39.021Z"
      },
      {
        "duration": 2728,
        "start_time": "2023-03-15T10:11:02.469Z"
      },
      {
        "duration": 15,
        "start_time": "2023-03-15T10:14:44.455Z"
      },
      {
        "duration": 103,
        "start_time": "2023-03-15T10:14:51.632Z"
      },
      {
        "duration": 2728,
        "start_time": "2023-03-15T10:16:00.870Z"
      },
      {
        "duration": 2671,
        "start_time": "2023-03-15T10:16:41.830Z"
      },
      {
        "duration": 3,
        "start_time": "2023-03-15T10:19:05.238Z"
      },
      {
        "duration": 163,
        "start_time": "2023-03-15T10:19:06.225Z"
      },
      {
        "duration": 32,
        "start_time": "2023-03-15T10:19:32.126Z"
      },
      {
        "duration": 247,
        "start_time": "2023-03-15T10:19:50.048Z"
      },
      {
        "duration": 18,
        "start_time": "2023-03-15T10:20:56.022Z"
      },
      {
        "duration": 10,
        "start_time": "2023-03-15T10:22:04.978Z"
      },
      {
        "duration": 40,
        "start_time": "2023-03-15T10:22:12.750Z"
      },
      {
        "duration": 231,
        "start_time": "2023-03-15T10:22:16.410Z"
      },
      {
        "duration": 47,
        "start_time": "2023-03-15T10:22:51.319Z"
      },
      {
        "duration": 14,
        "start_time": "2023-03-15T10:23:00.426Z"
      },
      {
        "duration": 14,
        "start_time": "2023-03-15T10:23:18.674Z"
      },
      {
        "duration": 258,
        "start_time": "2023-03-15T10:23:25.957Z"
      },
      {
        "duration": 223,
        "start_time": "2023-03-15T10:24:46.339Z"
      },
      {
        "duration": 3,
        "start_time": "2023-03-15T10:27:27.112Z"
      },
      {
        "duration": 243,
        "start_time": "2023-03-15T10:27:43.577Z"
      },
      {
        "duration": 235,
        "start_time": "2023-03-15T10:27:56.942Z"
      },
      {
        "duration": 4,
        "start_time": "2023-03-15T10:28:44.787Z"
      },
      {
        "duration": 41,
        "start_time": "2023-03-15T10:28:46.810Z"
      },
      {
        "duration": 4,
        "start_time": "2023-03-15T10:28:49.916Z"
      },
      {
        "duration": 12,
        "start_time": "2023-03-15T10:28:50.548Z"
      },
      {
        "duration": 5,
        "start_time": "2023-03-15T10:28:53.302Z"
      },
      {
        "duration": 14,
        "start_time": "2023-03-15T10:28:53.981Z"
      },
      {
        "duration": 8,
        "start_time": "2023-03-15T10:28:58.918Z"
      },
      {
        "duration": 8,
        "start_time": "2023-03-15T10:29:00.660Z"
      },
      {
        "duration": 4,
        "start_time": "2023-03-15T10:29:01.481Z"
      },
      {
        "duration": 5,
        "start_time": "2023-03-15T10:29:02.357Z"
      },
      {
        "duration": 5,
        "start_time": "2023-03-15T10:29:03.157Z"
      },
      {
        "duration": 3,
        "start_time": "2023-03-15T10:29:07.245Z"
      },
      {
        "duration": 121,
        "start_time": "2023-03-15T10:29:09.438Z"
      },
      {
        "duration": 127,
        "start_time": "2023-03-15T10:29:18.081Z"
      },
      {
        "duration": 2700,
        "start_time": "2023-03-15T10:29:21.208Z"
      },
      {
        "duration": 4,
        "start_time": "2023-03-15T10:29:27.210Z"
      },
      {
        "duration": 241,
        "start_time": "2023-03-15T10:29:28.432Z"
      },
      {
        "duration": 48,
        "start_time": "2023-03-15T10:35:01.360Z"
      },
      {
        "duration": 2314,
        "start_time": "2023-03-15T12:06:55.412Z"
      },
      {
        "duration": 49,
        "start_time": "2023-03-15T12:06:57.729Z"
      },
      {
        "duration": 5,
        "start_time": "2023-03-15T12:06:57.780Z"
      },
      {
        "duration": 19,
        "start_time": "2023-03-15T12:06:57.790Z"
      },
      {
        "duration": 5,
        "start_time": "2023-03-15T12:06:57.811Z"
      },
      {
        "duration": 18,
        "start_time": "2023-03-15T12:06:57.818Z"
      },
      {
        "duration": 6,
        "start_time": "2023-03-15T12:06:57.872Z"
      },
      {
        "duration": 24,
        "start_time": "2023-03-15T12:06:57.880Z"
      },
      {
        "duration": 9,
        "start_time": "2023-03-15T12:06:57.906Z"
      },
      {
        "duration": 11,
        "start_time": "2023-03-15T12:06:57.919Z"
      },
      {
        "duration": 8,
        "start_time": "2023-03-15T12:06:57.932Z"
      },
      {
        "duration": 7,
        "start_time": "2023-03-15T12:06:57.943Z"
      },
      {
        "duration": 133,
        "start_time": "2023-03-15T12:06:57.972Z"
      },
      {
        "duration": 2844,
        "start_time": "2023-03-15T12:06:58.107Z"
      },
      {
        "duration": 27,
        "start_time": "2023-03-15T12:07:00.953Z"
      },
      {
        "duration": 298,
        "start_time": "2023-03-15T12:07:00.983Z"
      },
      {
        "duration": 47,
        "start_time": "2023-03-15T12:07:01.286Z"
      },
      {
        "duration": 1185,
        "start_time": "2023-03-16T05:49:21.287Z"
      },
      {
        "duration": 8,
        "start_time": "2023-03-16T05:51:11.262Z"
      },
      {
        "duration": 202,
        "start_time": "2023-03-16T05:51:11.273Z"
      },
      {
        "duration": 4,
        "start_time": "2023-03-16T05:51:11.477Z"
      },
      {
        "duration": 32,
        "start_time": "2023-03-16T05:51:11.483Z"
      },
      {
        "duration": 15,
        "start_time": "2023-03-16T05:51:11.517Z"
      },
      {
        "duration": 53,
        "start_time": "2023-03-16T05:51:11.533Z"
      },
      {
        "duration": 7,
        "start_time": "2023-03-16T05:51:26.723Z"
      },
      {
        "duration": 5,
        "start_time": "2023-03-16T05:51:33.279Z"
      },
      {
        "duration": 7,
        "start_time": "2023-03-16T05:53:03.119Z"
      },
      {
        "duration": 71,
        "start_time": "2023-03-16T05:53:35.286Z"
      },
      {
        "duration": 8,
        "start_time": "2023-03-16T05:53:54.119Z"
      },
      {
        "duration": 7,
        "start_time": "2023-03-16T05:54:21.503Z"
      },
      {
        "duration": 6,
        "start_time": "2023-03-16T05:55:35.323Z"
      },
      {
        "duration": 4,
        "start_time": "2023-03-16T05:59:24.770Z"
      },
      {
        "duration": 49,
        "start_time": "2023-03-16T05:59:24.776Z"
      },
      {
        "duration": 7,
        "start_time": "2023-03-16T05:59:24.827Z"
      },
      {
        "duration": 37,
        "start_time": "2023-03-16T05:59:24.836Z"
      },
      {
        "duration": 7,
        "start_time": "2023-03-16T05:59:24.875Z"
      },
      {
        "duration": 15,
        "start_time": "2023-03-16T05:59:24.883Z"
      },
      {
        "duration": 6,
        "start_time": "2023-03-16T05:59:24.899Z"
      },
      {
        "duration": 8,
        "start_time": "2023-03-16T05:59:24.907Z"
      },
      {
        "duration": 43,
        "start_time": "2023-03-16T05:59:24.917Z"
      },
      {
        "duration": 8,
        "start_time": "2023-03-16T05:59:24.962Z"
      },
      {
        "duration": 5,
        "start_time": "2023-03-16T05:59:24.973Z"
      },
      {
        "duration": 6,
        "start_time": "2023-03-16T05:59:29.779Z"
      },
      {
        "duration": 7,
        "start_time": "2023-03-16T05:59:57.894Z"
      },
      {
        "duration": 7,
        "start_time": "2023-03-16T06:00:12.559Z"
      },
      {
        "duration": 12,
        "start_time": "2023-03-16T06:00:20.752Z"
      },
      {
        "duration": 521,
        "start_time": "2023-03-16T06:03:30.359Z"
      },
      {
        "duration": 508,
        "start_time": "2023-03-16T06:04:01.299Z"
      },
      {
        "duration": 534,
        "start_time": "2023-03-16T06:04:12.509Z"
      },
      {
        "duration": 397,
        "start_time": "2023-03-16T06:05:25.323Z"
      },
      {
        "duration": 406,
        "start_time": "2023-03-16T06:05:55.670Z"
      },
      {
        "duration": 805,
        "start_time": "2023-03-16T06:06:30.621Z"
      },
      {
        "duration": 4,
        "start_time": "2023-03-16T06:54:17.300Z"
      },
      {
        "duration": 67,
        "start_time": "2023-03-16T06:54:17.318Z"
      },
      {
        "duration": 4,
        "start_time": "2023-03-16T06:54:17.387Z"
      },
      {
        "duration": 15,
        "start_time": "2023-03-16T06:54:17.392Z"
      },
      {
        "duration": 9,
        "start_time": "2023-03-16T06:54:17.410Z"
      },
      {
        "duration": 14,
        "start_time": "2023-03-16T06:54:17.421Z"
      },
      {
        "duration": 400,
        "start_time": "2023-03-16T06:54:17.436Z"
      },
      {
        "duration": 13,
        "start_time": "2023-03-16T06:54:17.844Z"
      },
      {
        "duration": 10,
        "start_time": "2023-03-16T06:54:17.859Z"
      },
      {
        "duration": 6,
        "start_time": "2023-03-16T06:54:17.870Z"
      },
      {
        "duration": 132,
        "start_time": "2023-03-16T06:54:21.194Z"
      },
      {
        "duration": 6,
        "start_time": "2023-03-16T06:54:51.874Z"
      },
      {
        "duration": 4,
        "start_time": "2023-03-16T06:54:54.009Z"
      },
      {
        "duration": 6,
        "start_time": "2023-03-16T06:54:55.792Z"
      },
      {
        "duration": 9,
        "start_time": "2023-03-16T06:54:56.758Z"
      },
      {
        "duration": 7,
        "start_time": "2023-03-16T06:54:57.554Z"
      },
      {
        "duration": 7,
        "start_time": "2023-03-16T06:55:00.094Z"
      },
      {
        "duration": 3,
        "start_time": "2023-03-16T06:56:05.590Z"
      },
      {
        "duration": 116,
        "start_time": "2023-03-16T06:56:06.672Z"
      },
      {
        "duration": 99,
        "start_time": "2023-03-16T06:56:42.204Z"
      },
      {
        "duration": 97,
        "start_time": "2023-03-16T06:57:05.722Z"
      },
      {
        "duration": 2335,
        "start_time": "2023-03-16T06:57:37.698Z"
      },
      {
        "duration": 10,
        "start_time": "2023-03-16T06:58:05.108Z"
      },
      {
        "duration": 4,
        "start_time": "2023-03-16T06:58:10.528Z"
      },
      {
        "duration": 251,
        "start_time": "2023-03-16T06:58:11.055Z"
      },
      {
        "duration": 9,
        "start_time": "2023-03-16T07:04:43.002Z"
      },
      {
        "duration": 114,
        "start_time": "2023-03-16T07:05:26.798Z"
      },
      {
        "duration": 69,
        "start_time": "2023-03-16T07:05:49.143Z"
      },
      {
        "duration": 72,
        "start_time": "2023-03-16T07:05:55.506Z"
      },
      {
        "duration": 11,
        "start_time": "2023-03-16T07:06:09.442Z"
      },
      {
        "duration": 10,
        "start_time": "2023-03-16T07:06:45.601Z"
      },
      {
        "duration": 92,
        "start_time": "2023-03-16T07:14:38.386Z"
      },
      {
        "duration": 12,
        "start_time": "2023-03-16T07:19:09.398Z"
      },
      {
        "duration": 21,
        "start_time": "2023-03-16T07:19:56.852Z"
      },
      {
        "duration": 117,
        "start_time": "2023-03-16T07:32:27.950Z"
      },
      {
        "duration": 105,
        "start_time": "2023-03-16T07:33:53.848Z"
      },
      {
        "duration": 95,
        "start_time": "2023-03-16T07:36:14.624Z"
      },
      {
        "duration": 104,
        "start_time": "2023-03-16T07:37:15.997Z"
      },
      {
        "duration": 89,
        "start_time": "2023-03-16T07:37:40.959Z"
      },
      {
        "duration": 103,
        "start_time": "2023-03-16T07:37:57.050Z"
      },
      {
        "duration": 96,
        "start_time": "2023-03-16T07:38:09.212Z"
      },
      {
        "duration": 224,
        "start_time": "2023-03-16T07:38:25.923Z"
      },
      {
        "duration": 232,
        "start_time": "2023-03-16T07:38:46.533Z"
      },
      {
        "duration": 209,
        "start_time": "2023-03-16T07:38:48.027Z"
      },
      {
        "duration": 205,
        "start_time": "2023-03-16T07:40:15.543Z"
      },
      {
        "duration": 236,
        "start_time": "2023-03-16T07:40:17.816Z"
      },
      {
        "duration": 211,
        "start_time": "2023-03-16T07:40:51.704Z"
      },
      {
        "duration": 239,
        "start_time": "2023-03-16T07:41:47.627Z"
      },
      {
        "duration": 219,
        "start_time": "2023-03-16T07:42:22.899Z"
      },
      {
        "duration": 4,
        "start_time": "2023-03-16T07:44:12.288Z"
      },
      {
        "duration": 200,
        "start_time": "2023-03-16T07:45:26.423Z"
      },
      {
        "duration": 217,
        "start_time": "2023-03-16T07:45:39.630Z"
      },
      {
        "duration": 103,
        "start_time": "2023-03-16T07:46:38.164Z"
      },
      {
        "duration": 102,
        "start_time": "2023-03-16T07:46:59.802Z"
      },
      {
        "duration": 110,
        "start_time": "2023-03-16T07:47:44.965Z"
      },
      {
        "duration": 155,
        "start_time": "2023-03-16T07:49:16.797Z"
      },
      {
        "duration": 3,
        "start_time": "2023-03-16T07:50:34.507Z"
      },
      {
        "duration": 196,
        "start_time": "2023-03-16T07:50:35.591Z"
      },
      {
        "duration": 118,
        "start_time": "2023-03-16T07:51:18.074Z"
      },
      {
        "duration": 211,
        "start_time": "2023-03-16T07:51:25.283Z"
      },
      {
        "duration": 153,
        "start_time": "2023-03-16T07:51:56.689Z"
      },
      {
        "duration": 328,
        "start_time": "2023-03-16T07:51:59.047Z"
      },
      {
        "duration": 330,
        "start_time": "2023-03-16T07:52:30.646Z"
      },
      {
        "duration": 225,
        "start_time": "2023-03-16T07:52:35.278Z"
      },
      {
        "duration": 7364,
        "start_time": "2023-03-16T08:00:30.859Z"
      },
      {
        "duration": 272,
        "start_time": "2023-03-16T08:02:58.047Z"
      },
      {
        "duration": 16,
        "start_time": "2023-03-16T08:03:40.486Z"
      },
      {
        "duration": 275,
        "start_time": "2023-03-16T08:04:31.719Z"
      },
      {
        "duration": 207,
        "start_time": "2023-03-16T08:04:33.314Z"
      },
      {
        "duration": 16,
        "start_time": "2023-03-16T08:04:37.503Z"
      },
      {
        "duration": 7301,
        "start_time": "2023-03-16T08:06:53.398Z"
      },
      {
        "duration": 7845,
        "start_time": "2023-03-16T08:07:22.302Z"
      },
      {
        "duration": 5397,
        "start_time": "2023-03-16T08:08:59.158Z"
      },
      {
        "duration": 7315,
        "start_time": "2023-03-16T08:09:31.283Z"
      },
      {
        "duration": 6618,
        "start_time": "2023-03-16T08:10:04.541Z"
      },
      {
        "duration": 5830,
        "start_time": "2023-03-16T08:11:12.586Z"
      },
      {
        "duration": 6233,
        "start_time": "2023-03-16T08:11:55.086Z"
      },
      {
        "duration": 2452,
        "start_time": "2023-03-16T08:13:24.620Z"
      },
      {
        "duration": 278,
        "start_time": "2023-03-16T08:13:41.858Z"
      },
      {
        "duration": 10,
        "start_time": "2023-03-16T08:14:23.118Z"
      },
      {
        "duration": 76,
        "start_time": "2023-03-16T08:15:18.221Z"
      },
      {
        "duration": 2469,
        "start_time": "2023-03-16T08:15:30.520Z"
      },
      {
        "duration": 2635,
        "start_time": "2023-03-16T08:15:57.982Z"
      },
      {
        "duration": 6,
        "start_time": "2023-03-16T08:16:17.782Z"
      },
      {
        "duration": 3,
        "start_time": "2023-03-16T08:17:35.167Z"
      },
      {
        "duration": 210,
        "start_time": "2023-03-16T08:17:35.782Z"
      },
      {
        "duration": 44,
        "start_time": "2023-03-16T09:15:10.223Z"
      },
      {
        "duration": 8,
        "start_time": "2023-03-16T09:50:01.855Z"
      },
      {
        "duration": 90,
        "start_time": "2023-03-16T09:50:01.865Z"
      },
      {
        "duration": 5,
        "start_time": "2023-03-16T09:50:01.963Z"
      },
      {
        "duration": 34,
        "start_time": "2023-03-16T09:50:01.971Z"
      },
      {
        "duration": 13,
        "start_time": "2023-03-16T09:50:02.007Z"
      },
      {
        "duration": 89,
        "start_time": "2023-03-16T09:50:02.022Z"
      },
      {
        "duration": 448,
        "start_time": "2023-03-16T09:50:02.113Z"
      },
      {
        "duration": 4,
        "start_time": "2023-03-16T09:50:02.563Z"
      },
      {
        "duration": 7,
        "start_time": "2023-03-16T09:50:02.569Z"
      },
      {
        "duration": 25,
        "start_time": "2023-03-16T09:50:02.578Z"
      },
      {
        "duration": 36,
        "start_time": "2023-03-16T09:50:02.604Z"
      },
      {
        "duration": 49,
        "start_time": "2023-03-16T09:50:02.642Z"
      },
      {
        "duration": 36,
        "start_time": "2023-03-16T09:50:02.692Z"
      },
      {
        "duration": 76,
        "start_time": "2023-03-16T09:50:02.730Z"
      },
      {
        "duration": 63,
        "start_time": "2023-03-16T09:50:02.808Z"
      },
      {
        "duration": 28,
        "start_time": "2023-03-16T09:50:02.872Z"
      },
      {
        "duration": 30,
        "start_time": "2023-03-16T09:50:02.902Z"
      },
      {
        "duration": 730,
        "start_time": "2023-03-16T09:50:02.933Z"
      },
      {
        "duration": 210,
        "start_time": "2023-03-16T09:50:03.664Z"
      },
      {
        "duration": 5776,
        "start_time": "2023-03-16T09:50:03.876Z"
      },
      {
        "duration": 2495,
        "start_time": "2023-03-16T09:50:09.654Z"
      },
      {
        "duration": 15,
        "start_time": "2023-03-16T09:50:12.154Z"
      },
      {
        "duration": 14,
        "start_time": "2023-03-16T09:50:12.175Z"
      },
      {
        "duration": 249,
        "start_time": "2023-03-16T09:50:12.192Z"
      },
      {
        "duration": 55,
        "start_time": "2023-03-16T09:50:12.443Z"
      },
      {
        "duration": 2281,
        "start_time": "2023-03-16T15:44:47.726Z"
      },
      {
        "duration": 40,
        "start_time": "2023-03-16T15:44:50.008Z"
      },
      {
        "duration": 4,
        "start_time": "2023-03-16T15:44:50.050Z"
      },
      {
        "duration": 32,
        "start_time": "2023-03-16T15:44:50.055Z"
      },
      {
        "duration": 27,
        "start_time": "2023-03-16T15:44:50.089Z"
      },
      {
        "duration": 14,
        "start_time": "2023-03-16T15:44:50.117Z"
      },
      {
        "duration": 413,
        "start_time": "2023-03-16T15:44:50.132Z"
      },
      {
        "duration": 5,
        "start_time": "2023-03-16T15:44:50.547Z"
      },
      {
        "duration": 20,
        "start_time": "2023-03-16T15:44:50.553Z"
      },
      {
        "duration": 33,
        "start_time": "2023-03-16T15:44:50.575Z"
      },
      {
        "duration": 26,
        "start_time": "2023-03-16T15:44:50.610Z"
      },
      {
        "duration": 35,
        "start_time": "2023-03-16T15:44:50.638Z"
      },
      {
        "duration": 9,
        "start_time": "2023-03-16T15:44:50.675Z"
      },
      {
        "duration": 7,
        "start_time": "2023-03-16T15:44:50.686Z"
      },
      {
        "duration": 9,
        "start_time": "2023-03-16T15:44:50.694Z"
      },
      {
        "duration": 17,
        "start_time": "2023-03-16T15:44:50.704Z"
      },
      {
        "duration": 26,
        "start_time": "2023-03-16T15:44:50.723Z"
      },
      {
        "duration": 262,
        "start_time": "2023-03-16T15:44:50.750Z"
      },
      {
        "duration": 195,
        "start_time": "2023-03-16T15:44:51.014Z"
      },
      {
        "duration": 116,
        "start_time": "2023-03-16T15:44:51.210Z"
      },
      {
        "duration": 0,
        "start_time": "2023-03-16T15:44:51.327Z"
      },
      {
        "duration": 0,
        "start_time": "2023-03-16T15:44:51.329Z"
      },
      {
        "duration": 0,
        "start_time": "2023-03-16T15:44:51.330Z"
      },
      {
        "duration": 0,
        "start_time": "2023-03-16T15:44:51.331Z"
      },
      {
        "duration": 0,
        "start_time": "2023-03-16T15:44:51.332Z"
      },
      {
        "duration": 9,
        "start_time": "2023-03-16T15:45:00.351Z"
      },
      {
        "duration": 2314,
        "start_time": "2023-03-16T15:45:09.651Z"
      },
      {
        "duration": 40,
        "start_time": "2023-03-16T15:45:11.967Z"
      },
      {
        "duration": 4,
        "start_time": "2023-03-16T15:45:12.009Z"
      },
      {
        "duration": 13,
        "start_time": "2023-03-16T15:45:12.015Z"
      },
      {
        "duration": 5,
        "start_time": "2023-03-16T15:45:12.030Z"
      },
      {
        "duration": 13,
        "start_time": "2023-03-16T15:45:12.037Z"
      },
      {
        "duration": 443,
        "start_time": "2023-03-16T15:45:12.052Z"
      },
      {
        "duration": 5,
        "start_time": "2023-03-16T15:45:12.496Z"
      },
      {
        "duration": 19,
        "start_time": "2023-03-16T15:45:12.503Z"
      },
      {
        "duration": 8,
        "start_time": "2023-03-16T15:45:12.525Z"
      },
      {
        "duration": 10,
        "start_time": "2023-03-16T15:45:12.535Z"
      },
      {
        "duration": 9,
        "start_time": "2023-03-16T15:45:12.547Z"
      },
      {
        "duration": 18,
        "start_time": "2023-03-16T15:45:12.557Z"
      },
      {
        "duration": 8,
        "start_time": "2023-03-16T15:45:12.576Z"
      },
      {
        "duration": 13,
        "start_time": "2023-03-16T15:45:12.586Z"
      },
      {
        "duration": 13,
        "start_time": "2023-03-16T15:45:12.601Z"
      },
      {
        "duration": 6,
        "start_time": "2023-03-16T15:45:12.616Z"
      },
      {
        "duration": 261,
        "start_time": "2023-03-16T15:45:12.624Z"
      },
      {
        "duration": 211,
        "start_time": "2023-03-16T15:45:12.887Z"
      },
      {
        "duration": 118,
        "start_time": "2023-03-16T15:45:13.099Z"
      },
      {
        "duration": 1,
        "start_time": "2023-03-16T15:45:13.218Z"
      },
      {
        "duration": 0,
        "start_time": "2023-03-16T15:45:13.220Z"
      },
      {
        "duration": 0,
        "start_time": "2023-03-16T15:45:13.221Z"
      },
      {
        "duration": 0,
        "start_time": "2023-03-16T15:45:13.222Z"
      },
      {
        "duration": 0,
        "start_time": "2023-03-16T15:45:13.223Z"
      },
      {
        "duration": 0,
        "start_time": "2023-03-16T15:45:13.224Z"
      },
      {
        "duration": 8,
        "start_time": "2023-03-16T15:45:16.818Z"
      },
      {
        "duration": 10,
        "start_time": "2023-03-16T15:45:23.394Z"
      },
      {
        "duration": 2,
        "start_time": "2023-03-16T15:45:35.004Z"
      },
      {
        "duration": 2247,
        "start_time": "2023-03-16T15:45:39.300Z"
      },
      {
        "duration": 4,
        "start_time": "2023-03-16T15:45:46.086Z"
      },
      {
        "duration": 200,
        "start_time": "2023-03-16T15:45:46.396Z"
      },
      {
        "duration": 6,
        "start_time": "2023-03-16T15:45:48.490Z"
      },
      {
        "duration": 2,
        "start_time": "2023-03-16T15:47:16.769Z"
      },
      {
        "duration": 5,
        "start_time": "2023-03-16T15:47:19.353Z"
      },
      {
        "duration": 185,
        "start_time": "2023-03-16T15:47:41.488Z"
      },
      {
        "duration": 1475,
        "start_time": "2023-03-16T16:48:56.552Z"
      },
      {
        "duration": 84,
        "start_time": "2023-03-16T16:48:58.029Z"
      },
      {
        "duration": 4,
        "start_time": "2023-03-16T16:48:58.115Z"
      },
      {
        "duration": 13,
        "start_time": "2023-03-16T16:48:58.121Z"
      },
      {
        "duration": 5,
        "start_time": "2023-03-16T16:48:58.136Z"
      },
      {
        "duration": 10,
        "start_time": "2023-03-16T16:48:58.143Z"
      },
      {
        "duration": 397,
        "start_time": "2023-03-16T16:48:58.155Z"
      },
      {
        "duration": 4,
        "start_time": "2023-03-16T16:48:58.554Z"
      },
      {
        "duration": 11,
        "start_time": "2023-03-16T16:48:58.559Z"
      },
      {
        "duration": 6,
        "start_time": "2023-03-16T16:48:58.571Z"
      },
      {
        "duration": 6,
        "start_time": "2023-03-16T16:48:58.578Z"
      },
      {
        "duration": 6,
        "start_time": "2023-03-16T16:48:58.586Z"
      },
      {
        "duration": 9,
        "start_time": "2023-03-16T16:48:58.594Z"
      },
      {
        "duration": 18,
        "start_time": "2023-03-16T16:48:58.606Z"
      },
      {
        "duration": 6,
        "start_time": "2023-03-16T16:48:58.625Z"
      },
      {
        "duration": 24,
        "start_time": "2023-03-16T16:48:58.632Z"
      },
      {
        "duration": 12,
        "start_time": "2023-03-16T16:48:58.658Z"
      },
      {
        "duration": 224,
        "start_time": "2023-03-16T16:48:58.671Z"
      },
      {
        "duration": 188,
        "start_time": "2023-03-16T16:48:58.896Z"
      },
      {
        "duration": 3,
        "start_time": "2023-03-16T16:48:59.085Z"
      },
      {
        "duration": 2016,
        "start_time": "2023-03-16T16:48:59.090Z"
      },
      {
        "duration": 16,
        "start_time": "2023-03-16T16:49:01.108Z"
      },
      {
        "duration": 17,
        "start_time": "2023-03-16T16:49:01.126Z"
      },
      {
        "duration": 186,
        "start_time": "2023-03-16T16:49:03.571Z"
      }
    ],
    "kernelspec": {
      "display_name": "Python 3 (ipykernel)",
      "language": "python",
      "name": "python3"
    },
    "language_info": {
      "codemirror_mode": {
        "name": "ipython",
        "version": 3
      },
      "file_extension": ".py",
      "mimetype": "text/x-python",
      "name": "python",
      "nbconvert_exporter": "python",
      "pygments_lexer": "ipython3",
      "version": "3.9.5"
    },
    "toc": {
      "base_numbering": 1,
      "nav_menu": {},
      "number_sections": true,
      "sideBar": true,
      "skip_h1_title": true,
      "title_cell": "Table of Contents",
      "title_sidebar": "Contents",
      "toc_cell": false,
      "toc_position": {},
      "toc_section_display": true,
      "toc_window_display": true
    },
    "colab": {
      "provenance": []
    }
  },
  "nbformat": 4,
  "nbformat_minor": 0
}