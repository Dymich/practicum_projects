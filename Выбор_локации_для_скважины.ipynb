{
 "cells": [
  {
   "cell_type": "markdown",
   "metadata": {},
   "source": [
    "<div style=\"border:solid blue 2px; padding: 20px\">\n",
    "<b>Привет, Евгения!👋</b>\n",
    "\n",
    "Меня зовут Арсений, и я буду ревьюером твоего проекта. Если не против, то давай общаться на «ты» :) Но мы легко можем перейти на «вы», если тебе так будет комфортнее. \n",
    "\n",
    "Моя основная цель — помочь тебе стать крутым специалистом, поэтому давай разберем твой проект и попробуем сделать его еще лучше. Ниже ты найдешь мои комментарии - **пожалуйста, не перемещай, не изменяй и не удаляй их**. Я буду использовать цветовую разметку:\n",
    "\n",
    "<div class=\"alert alert-danger\">\n",
    "<b>Комментарий ревьюера ❌:</b> Так выделены самые важные замечания. Без их отработки проект не будет принят. </div>\n",
    "\n",
    "<div class=\"alert alert-warning\">\n",
    "<b>Комментарий ревьюера ⚠️:</b> Так выделены небольшие замечания. Я надеюсь, что их ты тоже учтешь - твой проект от этого станет только лучше. Но исправлять их необязательно. </div>\n",
    "\n",
    "<div class=\"alert alert-success\">\n",
    "<b>Комментарий ревьюера ✔️:</b> Так я выделяю то, что сделано отлично. </div>\n",
    "\n",
    "Давай работать над проектом в диалоге: **если ты что-то меняешь в проекте или отвечаешь на мои комменатри — пиши об этом. Если нужно удалить часть кода или целую ячейку, то лучше просто закомментируй.** Мне будет легче отследить изменения, если ты выделишь свои комментарии:\n",
    "<div class=\"alert alert-info\"> <b>Комментарий студента:</b> Например, вот так. </div>"
   ]
  },
  {
   "cell_type": "markdown",
   "metadata": {},
   "source": [
    "# Выбор локации для скважины"
   ]
  },
  {
   "cell_type": "markdown",
   "metadata": {},
   "source": [
    "Допустим, вы работаете в добывающей компании «ГлавРосГосНефть». Нужно решить, где бурить новую скважину.\n",
    "\n",
    "Вам предоставлены пробы нефти в трёх регионах: в каждом 10 000 месторождений, где измерили качество нефти и объём её запасов. Постройте модель машинного обучения, которая поможет определить регион, где добыча принесёт наибольшую прибыль. Проанализируйте возможную прибыль и риски техникой *Bootstrap.*\n",
    "\n",
    "Шаги для выбора локации:\n",
    "\n",
    "- В избранном регионе ищут месторождения, для каждого определяют значения признаков;\n",
    "- Строят модель и оценивают объём запасов;\n",
    "- Выбирают месторождения с самым высокими оценками значений. Количество месторождений зависит от бюджета компании и стоимости разработки одной скважины;\n",
    "- Прибыль равна суммарной прибыли отобранных месторождений."
   ]
  },
  {
   "cell_type": "markdown",
   "metadata": {},
   "source": [
    "<div class=\"alert alert-success\">\n",
    "<b>Комментарий ревьюера ✔️:</b> Отличное содержание и вступление. </div>"
   ]
  },
  {
   "cell_type": "markdown",
   "metadata": {},
   "source": [
    "## Загрузка и подготовка данных"
   ]
  },
  {
   "cell_type": "markdown",
   "metadata": {},
   "source": [
    "Импорт библиотек"
   ]
  },
  {
   "cell_type": "code",
   "execution_count": 1,
   "metadata": {},
   "outputs": [],
   "source": [
    "import pandas as pd\n",
    "import numpy as np\n",
    "\n",
    "from sklearn.linear_model import LinearRegression\n",
    "\n",
    "from sklearn.model_selection import train_test_split\n",
    "\n",
    "\n",
    "from sklearn.preprocessing import StandardScaler\n",
    "\n",
    "from sklearn.metrics import mean_squared_error\n",
    "\n",
    "from scipy import stats as st\n",
    "\n",
    "from tqdm import tqdm\n",
    "\n",
    "import matplotlib.pyplot as plt\n",
    "import seaborn as sns\n",
    "import plotly.express as px\n",
    "\n",
    "\n",
    "%matplotlib inline\n",
    "import warnings\n",
    "warnings.filterwarnings(\"ignore\")\n"
   ]
  },
  {
   "cell_type": "markdown",
   "metadata": {},
   "source": [
    "<div class=\"alert alert-success\">\n",
    "<b>Комментарий ревьюера ✔️:</b> Здорово, что все импорты находятся в одной ячейке. Но, чтобы сделать ещё лучше, приведу рекомендации по стандартам PEP-8.<br>\n",
    "    \n",
    "Импорты могут быть сгруппированы в следующем порядке:\n",
    "\n",
    "1.импорты из стандартной библиотеки\n",
    "    \n",
    "2.импорты сторонних библиотек\n",
    "    \n",
    "3.импорты модулей текущего проекта\n",
    "\n",
    "Можно вставить пустую строку между каждой группой импортов.\n",
    "\n",
    "В каждой группе желательно отсортировать импорты в алфавитном порядке.\n",
    "\n",
    "Ccылка для ознакомления: https://pythonworld.ru/osnovy/pep-8-rukovodstvo-po-napisaniyu-koda-na-python.html</div>"
   ]
  },
  {
   "cell_type": "markdown",
   "metadata": {},
   "source": [
    "Загрузка данных"
   ]
  },
  {
   "cell_type": "code",
   "execution_count": 2,
   "metadata": {},
   "outputs": [
    {
     "data": {
      "text/html": [
       "<div>\n",
       "<style scoped>\n",
       "    .dataframe tbody tr th:only-of-type {\n",
       "        vertical-align: middle;\n",
       "    }\n",
       "\n",
       "    .dataframe tbody tr th {\n",
       "        vertical-align: top;\n",
       "    }\n",
       "\n",
       "    .dataframe thead th {\n",
       "        text-align: right;\n",
       "    }\n",
       "</style>\n",
       "<table border=\"1\" class=\"dataframe\">\n",
       "  <thead>\n",
       "    <tr style=\"text-align: right;\">\n",
       "      <th></th>\n",
       "      <th>id</th>\n",
       "      <th>f0</th>\n",
       "      <th>f1</th>\n",
       "      <th>f2</th>\n",
       "      <th>product</th>\n",
       "    </tr>\n",
       "  </thead>\n",
       "  <tbody>\n",
       "    <tr>\n",
       "      <th>0</th>\n",
       "      <td>txEyH</td>\n",
       "      <td>0.705745</td>\n",
       "      <td>-0.497823</td>\n",
       "      <td>1.221170</td>\n",
       "      <td>105.280062</td>\n",
       "    </tr>\n",
       "    <tr>\n",
       "      <th>1</th>\n",
       "      <td>2acmU</td>\n",
       "      <td>1.334711</td>\n",
       "      <td>-0.340164</td>\n",
       "      <td>4.365080</td>\n",
       "      <td>73.037750</td>\n",
       "    </tr>\n",
       "    <tr>\n",
       "      <th>2</th>\n",
       "      <td>409Wp</td>\n",
       "      <td>1.022732</td>\n",
       "      <td>0.151990</td>\n",
       "      <td>1.419926</td>\n",
       "      <td>85.265647</td>\n",
       "    </tr>\n",
       "    <tr>\n",
       "      <th>3</th>\n",
       "      <td>iJLyR</td>\n",
       "      <td>-0.032172</td>\n",
       "      <td>0.139033</td>\n",
       "      <td>2.978566</td>\n",
       "      <td>168.620776</td>\n",
       "    </tr>\n",
       "    <tr>\n",
       "      <th>4</th>\n",
       "      <td>Xdl7t</td>\n",
       "      <td>1.988431</td>\n",
       "      <td>0.155413</td>\n",
       "      <td>4.751769</td>\n",
       "      <td>154.036647</td>\n",
       "    </tr>\n",
       "  </tbody>\n",
       "</table>\n",
       "</div>"
      ],
      "text/plain": [
       "      id        f0        f1        f2     product\n",
       "0  txEyH  0.705745 -0.497823  1.221170  105.280062\n",
       "1  2acmU  1.334711 -0.340164  4.365080   73.037750\n",
       "2  409Wp  1.022732  0.151990  1.419926   85.265647\n",
       "3  iJLyR -0.032172  0.139033  2.978566  168.620776\n",
       "4  Xdl7t  1.988431  0.155413  4.751769  154.036647"
      ]
     },
     "execution_count": 2,
     "metadata": {},
     "output_type": "execute_result"
    }
   ],
   "source": [
    "try:\n",
    "    df0 = pd.read_csv('/datasets/geo_data_0.csv')\n",
    "except:\n",
    "    df0 = pd.read_csv('https://code.s3.yandex.net/datasets/geo_data_0.csv')\n",
    "df0.head(5)"
   ]
  },
  {
   "cell_type": "code",
   "execution_count": 3,
   "metadata": {},
   "outputs": [
    {
     "data": {
      "text/html": [
       "<div>\n",
       "<style scoped>\n",
       "    .dataframe tbody tr th:only-of-type {\n",
       "        vertical-align: middle;\n",
       "    }\n",
       "\n",
       "    .dataframe tbody tr th {\n",
       "        vertical-align: top;\n",
       "    }\n",
       "\n",
       "    .dataframe thead th {\n",
       "        text-align: right;\n",
       "    }\n",
       "</style>\n",
       "<table border=\"1\" class=\"dataframe\">\n",
       "  <thead>\n",
       "    <tr style=\"text-align: right;\">\n",
       "      <th></th>\n",
       "      <th>id</th>\n",
       "      <th>f0</th>\n",
       "      <th>f1</th>\n",
       "      <th>f2</th>\n",
       "      <th>product</th>\n",
       "    </tr>\n",
       "  </thead>\n",
       "  <tbody>\n",
       "    <tr>\n",
       "      <th>0</th>\n",
       "      <td>kBEdx</td>\n",
       "      <td>-15.001348</td>\n",
       "      <td>-8.276000</td>\n",
       "      <td>-0.005876</td>\n",
       "      <td>3.179103</td>\n",
       "    </tr>\n",
       "    <tr>\n",
       "      <th>1</th>\n",
       "      <td>62mP7</td>\n",
       "      <td>14.272088</td>\n",
       "      <td>-3.475083</td>\n",
       "      <td>0.999183</td>\n",
       "      <td>26.953261</td>\n",
       "    </tr>\n",
       "    <tr>\n",
       "      <th>2</th>\n",
       "      <td>vyE1P</td>\n",
       "      <td>6.263187</td>\n",
       "      <td>-5.948386</td>\n",
       "      <td>5.001160</td>\n",
       "      <td>134.766305</td>\n",
       "    </tr>\n",
       "    <tr>\n",
       "      <th>3</th>\n",
       "      <td>KcrkZ</td>\n",
       "      <td>-13.081196</td>\n",
       "      <td>-11.506057</td>\n",
       "      <td>4.999415</td>\n",
       "      <td>137.945408</td>\n",
       "    </tr>\n",
       "    <tr>\n",
       "      <th>4</th>\n",
       "      <td>AHL4O</td>\n",
       "      <td>12.702195</td>\n",
       "      <td>-8.147433</td>\n",
       "      <td>5.004363</td>\n",
       "      <td>134.766305</td>\n",
       "    </tr>\n",
       "  </tbody>\n",
       "</table>\n",
       "</div>"
      ],
      "text/plain": [
       "      id         f0         f1        f2     product\n",
       "0  kBEdx -15.001348  -8.276000 -0.005876    3.179103\n",
       "1  62mP7  14.272088  -3.475083  0.999183   26.953261\n",
       "2  vyE1P   6.263187  -5.948386  5.001160  134.766305\n",
       "3  KcrkZ -13.081196 -11.506057  4.999415  137.945408\n",
       "4  AHL4O  12.702195  -8.147433  5.004363  134.766305"
      ]
     },
     "execution_count": 3,
     "metadata": {},
     "output_type": "execute_result"
    }
   ],
   "source": [
    "try:\n",
    "    df1 = pd.read_csv('/datasets/geo_data_1.csv')\n",
    "except:\n",
    "    df1 = pd.read_csv('https://code.s3.yandex.net/datasets/geo_data_1.csv')\n",
    "df1.head(5)"
   ]
  },
  {
   "cell_type": "code",
   "execution_count": 4,
   "metadata": {},
   "outputs": [
    {
     "data": {
      "text/html": [
       "<div>\n",
       "<style scoped>\n",
       "    .dataframe tbody tr th:only-of-type {\n",
       "        vertical-align: middle;\n",
       "    }\n",
       "\n",
       "    .dataframe tbody tr th {\n",
       "        vertical-align: top;\n",
       "    }\n",
       "\n",
       "    .dataframe thead th {\n",
       "        text-align: right;\n",
       "    }\n",
       "</style>\n",
       "<table border=\"1\" class=\"dataframe\">\n",
       "  <thead>\n",
       "    <tr style=\"text-align: right;\">\n",
       "      <th></th>\n",
       "      <th>id</th>\n",
       "      <th>f0</th>\n",
       "      <th>f1</th>\n",
       "      <th>f2</th>\n",
       "      <th>product</th>\n",
       "    </tr>\n",
       "  </thead>\n",
       "  <tbody>\n",
       "    <tr>\n",
       "      <th>0</th>\n",
       "      <td>fwXo0</td>\n",
       "      <td>-1.146987</td>\n",
       "      <td>0.963328</td>\n",
       "      <td>-0.828965</td>\n",
       "      <td>27.758673</td>\n",
       "    </tr>\n",
       "    <tr>\n",
       "      <th>1</th>\n",
       "      <td>WJtFt</td>\n",
       "      <td>0.262778</td>\n",
       "      <td>0.269839</td>\n",
       "      <td>-2.530187</td>\n",
       "      <td>56.069697</td>\n",
       "    </tr>\n",
       "    <tr>\n",
       "      <th>2</th>\n",
       "      <td>ovLUW</td>\n",
       "      <td>0.194587</td>\n",
       "      <td>0.289035</td>\n",
       "      <td>-5.586433</td>\n",
       "      <td>62.871910</td>\n",
       "    </tr>\n",
       "    <tr>\n",
       "      <th>3</th>\n",
       "      <td>q6cA6</td>\n",
       "      <td>2.236060</td>\n",
       "      <td>-0.553760</td>\n",
       "      <td>0.930038</td>\n",
       "      <td>114.572842</td>\n",
       "    </tr>\n",
       "    <tr>\n",
       "      <th>4</th>\n",
       "      <td>WPMUX</td>\n",
       "      <td>-0.515993</td>\n",
       "      <td>1.716266</td>\n",
       "      <td>5.899011</td>\n",
       "      <td>149.600746</td>\n",
       "    </tr>\n",
       "  </tbody>\n",
       "</table>\n",
       "</div>"
      ],
      "text/plain": [
       "      id        f0        f1        f2     product\n",
       "0  fwXo0 -1.146987  0.963328 -0.828965   27.758673\n",
       "1  WJtFt  0.262778  0.269839 -2.530187   56.069697\n",
       "2  ovLUW  0.194587  0.289035 -5.586433   62.871910\n",
       "3  q6cA6  2.236060 -0.553760  0.930038  114.572842\n",
       "4  WPMUX -0.515993  1.716266  5.899011  149.600746"
      ]
     },
     "execution_count": 4,
     "metadata": {},
     "output_type": "execute_result"
    }
   ],
   "source": [
    "try:\n",
    "    df2 = pd.read_csv('/datasets/geo_data_2.csv')\n",
    "except:\n",
    "    df2 = pd.read_csv('https://code.s3.yandex.net/datasets/geo_data_2.csv')\n",
    "df2.head(5)"
   ]
  },
  {
   "cell_type": "markdown",
   "metadata": {},
   "source": [
    "Функция для:\n",
    "\n",
    "    - размер датасета\n",
    "    - поиск отсутствующих значений\n",
    "    - поиск явных дубликатов\n",
    "    - графики распределения признаков"
   ]
  },
  {
   "cell_type": "code",
   "execution_count": 5,
   "metadata": {},
   "outputs": [],
   "source": [
    "def dfs(df):\n",
    "    print(df.info())\n",
    "    print('\\n\\nДубликаты:', df.duplicated().sum())\n",
    "    print('\\n\\nРаспределение признаков')\n",
    "    df[['f0','f1','f2', 'product']].hist()\n",
    "    plt.show()\n",
    "    plt.figure(figsize = (7, 4));\n",
    "    plt.title('Корреляция признаков', fontsize = 15)\n",
    "    sns.heatmap(df.corr(), annot = True, cmap=\"crest\");"
   ]
  },
  {
   "cell_type": "code",
   "execution_count": 6,
   "metadata": {},
   "outputs": [
    {
     "name": "stdout",
     "output_type": "stream",
     "text": [
      "<class 'pandas.core.frame.DataFrame'>\n",
      "RangeIndex: 100000 entries, 0 to 99999\n",
      "Data columns (total 5 columns):\n",
      " #   Column   Non-Null Count   Dtype  \n",
      "---  ------   --------------   -----  \n",
      " 0   id       100000 non-null  object \n",
      " 1   f0       100000 non-null  float64\n",
      " 2   f1       100000 non-null  float64\n",
      " 3   f2       100000 non-null  float64\n",
      " 4   product  100000 non-null  float64\n",
      "dtypes: float64(4), object(1)\n",
      "memory usage: 3.8+ MB\n",
      "None\n",
      "\n",
      "\n",
      "Дубликаты: 0\n",
      "\n",
      "\n",
      "Распределение признаков\n"
     ]
    },
    {
     "data": {
      "image/png": "[encoded data removed]",
      "text/plain": [
       "<Figure size 432x288 with 4 Axes>"
      ]
     },
     "metadata": {
      "needs_background": "light"
     },
     "output_type": "display_data"
    },
    {
     "data": {
      "image/png": "[encoded data removed]",
      "text/plain": [
       "<Figure size 504x288 with 2 Axes>"
      ]
     },
     "metadata": {
      "needs_background": "light"
     },
     "output_type": "display_data"
    }
   ],
   "source": [
    "dfs(df0)"
   ]
  },
  {
   "cell_type": "code",
   "execution_count": 7,
   "metadata": {},
   "outputs": [
    {
     "name": "stdout",
     "output_type": "stream",
     "text": [
      "<class 'pandas.core.frame.DataFrame'>\n",
      "RangeIndex: 100000 entries, 0 to 99999\n",
      "Data columns (total 5 columns):\n",
      " #   Column   Non-Null Count   Dtype  \n",
      "---  ------   --------------   -----  \n",
      " 0   id       100000 non-null  object \n",
      " 1   f0       100000 non-null  float64\n",
      " 2   f1       100000 non-null  float64\n",
      " 3   f2       100000 non-null  float64\n",
      " 4   product  100000 non-null  float64\n",
      "dtypes: float64(4), object(1)\n",
      "memory usage: 3.8+ MB\n",
      "None\n",
      "\n",
      "\n",
      "Дубликаты: 0\n",
      "\n",
      "\n",
      "Распределение признаков\n"
     ]
    },
    {
     "data": {
      "image/png": "[encoded data removed]",
      "text/plain": [
       "<Figure size 432x288 with 4 Axes>"
      ]
     },
     "metadata": {
      "needs_background": "light"
     },
     "output_type": "display_data"
    },
    {
     "data": {
      "image/png": "[encoded data removed]",
      "text/plain": [
       "<Figure size 504x288 with 2 Axes>"
      ]
     },
     "metadata": {
      "needs_background": "light"
     },
     "output_type": "display_data"
    }
   ],
   "source": [
    "dfs(df1)"
   ]
  },
  {
   "cell_type": "code",
   "execution_count": 8,
   "metadata": {},
   "outputs": [
    {
     "name": "stdout",
     "output_type": "stream",
     "text": [
      "<class 'pandas.core.frame.DataFrame'>\n",
      "RangeIndex: 100000 entries, 0 to 99999\n",
      "Data columns (total 5 columns):\n",
      " #   Column   Non-Null Count   Dtype  \n",
      "---  ------   --------------   -----  \n",
      " 0   id       100000 non-null  object \n",
      " 1   f0       100000 non-null  float64\n",
      " 2   f1       100000 non-null  float64\n",
      " 3   f2       100000 non-null  float64\n",
      " 4   product  100000 non-null  float64\n",
      "dtypes: float64(4), object(1)\n",
      "memory usage: 3.8+ MB\n",
      "None\n",
      "\n",
      "\n",
      "Дубликаты: 0\n",
      "\n",
      "\n",
      "Распределение признаков\n"
     ]
    },
    {
     "data": {
      "image/png": "[encoded data removed]",
      "text/plain": [
       "<Figure size 432x288 with 4 Axes>"
      ]
     },
     "metadata": {
      "needs_background": "light"
     },
     "output_type": "display_data"
    },
    {
     "data": {
      "image/png": "[encoded data removed]",
      "text/plain": [
       "<Figure size 504x288 with 2 Axes>"
      ]
     },
     "metadata": {
      "needs_background": "light"
     },
     "output_type": "display_data"
    }
   ],
   "source": [
    "dfs(df2)"
   ]
  },
  {
   "cell_type": "markdown",
   "metadata": {},
   "source": [
    "<div class=\"alert alert-success\">\n",
    "<b>Комментарий ревьюера ✔️:</b> Данные загружены корректно, здорово, что используешь try-except. Круто, что анализ данных и неторый код далее выполняется с помощью функций, так ты избегаешь дублирования кода. Отличные графики.</div>"
   ]
  },
  {
   "cell_type": "markdown",
   "metadata": {},
   "source": [
    "Удалим ненужный столбец с ID"
   ]
  },
  {
   "cell_type": "code",
   "execution_count": 9,
   "metadata": {},
   "outputs": [
    {
     "data": {
      "text/plain": [
       "Index(['f0', 'f1', 'f2', 'product'], dtype='object')"
      ]
     },
     "execution_count": 9,
     "metadata": {},
     "output_type": "execute_result"
    }
   ],
   "source": [
    "df0=df0.drop(columns=['id'])\n",
    "df0.columns"
   ]
  },
  {
   "cell_type": "code",
   "execution_count": 10,
   "metadata": {},
   "outputs": [
    {
     "data": {
      "text/plain": [
       "Index(['f0', 'f1', 'f2', 'product'], dtype='object')"
      ]
     },
     "execution_count": 10,
     "metadata": {},
     "output_type": "execute_result"
    }
   ],
   "source": [
    "df1=df1.drop(columns=['id'])\n",
    "df1.columns"
   ]
  },
  {
   "cell_type": "code",
   "execution_count": 11,
   "metadata": {},
   "outputs": [
    {
     "data": {
      "text/plain": [
       "Index(['f0', 'f1', 'f2', 'product'], dtype='object')"
      ]
     },
     "execution_count": 11,
     "metadata": {},
     "output_type": "execute_result"
    }
   ],
   "source": [
    "df2=df2.drop(columns=['id'])\n",
    "df2.columns"
   ]
  },
  {
   "cell_type": "markdown",
   "metadata": {},
   "source": [
    "<div class=\"alert alert-success\">\n",
    "<b>Комментарий ревьюера ✔️:</b> Да, этот признак нам действительно не понадобится.</div>"
   ]
  },
  {
   "cell_type": "markdown",
   "metadata": {},
   "source": [
    "<div class=\"paragraph\">Данные геологоразведки трёх регионов:</div>\n",
    "<div class=\"paragraph\"><code class=\"code-inline code-inline_theme_light\"></code></div>\n",
    "<div class=\"paragraph\">Признаки</div>\n",
    "<ul>\n",
    "<li class=\"paragraph\"><code class=\"code-inline code-inline_theme_light\"></code><em>id</em> &mdash; уникальный идентификатор скважины;</li>\n",
    "<li><em>f0, f1, f2</em> &mdash; три признака точек (неважно, что они означают, но сами признаки значимы);</li>\n",
    "</ul>\n",
    "<p>Целевой признак</p>\n",
    "<ul>\n",
    "<li><em>product</em> &mdash; объём запасов в скважине (тыс. баррелей).</li>\n",
    "</ul>\n",
    "\n",
    "\n",
    "Данные в трех таблицах содержат по 100000 строк и 5 столбцов\n",
    "\n",
    "Дубликаты и пропущенные значения не обнаружены\n",
    "\n",
    "Удален ненужный столбец с ID\n",
    "\n",
    "В регионах 0 и 1 на графиках заметны выбросы, показатели по региону 2 имеют нормальное распределение.\n",
    "\n",
    "По 1 региону прослеживается сильная корреляция между признаком F2 и целевым признаком."
   ]
  },
  {
   "cell_type": "markdown",
   "metadata": {},
   "source": [
    "<div class=\"alert alert-success\">\n",
    "<b>Комментарий ревьюера ✔️:</b> Хороший вывод.</div>"
   ]
  },
  {
   "cell_type": "markdown",
   "metadata": {},
   "source": [
    "## Обучение и проверка модели"
   ]
  },
  {
   "cell_type": "markdown",
   "metadata": {},
   "source": [
    "Напишем функцию для:\n",
    "\n",
    "    - разделения на тестовую и валидационную выборки\n",
    "    - масштабирования данных\n",
    "    - обучение модели\n",
    "    - RMSE и предсказание"
   ]
  },
  {
   "cell_type": "markdown",
   "metadata": {},
   "source": [
    "<div class=\"alert alert-warning\">\n",
    "<b>Комментарий ревьюера ⚠️:</b> Ты скорее всего вместо тестовой хотела написать обучающую) </div>"
   ]
  },
  {
   "cell_type": "code",
   "execution_count": 12,
   "metadata": {},
   "outputs": [],
   "source": [
    "def tt_split(df):\n",
    "    features = df.drop(['product',], axis=1)\n",
    "    target = df['product']\n",
    "    features_train, features_valid, target_train, target_valid = train_test_split(features, \n",
    "                                                                                  target, \n",
    "                                                                                  test_size=0.25, \n",
    "                                                                                  random_state=12345)\n",
    "    \n",
    "    scaler = StandardScaler()\n",
    "    scaler.fit(features_train)\n",
    "    features_train = scaler.transform(features_train)\n",
    "    features_valid = scaler.transform(features_valid)\n",
    "\n",
    "    #model = LinearRegression(normalize=False)\n",
    "    model = LinearRegression()\n",
    "    model.fit(features_train, target_train)\n",
    "    predictions_valid = model.predict(features_valid)\n",
    "    predictions = pd.Series(predictions_valid)\n",
    "    rmse = (mean_squared_error(target_valid, predictions))**(0.5)\n",
    "    product_mean = sum(predictions) / len(predictions)\n",
    "    print('RMSE', rmse)\n",
    "    print('Cредний запас предсказанного сырья', product_mean)\n",
    "    \n",
    "    return (predictions, target_valid.reset_index(drop=True), rmse)\n",
    "    "
   ]
  },
  {
   "cell_type": "markdown",
   "metadata": {},
   "source": [
    "<div class=\"alert alert-success\">\n",
    "<b>Комментарий ревьюера ✔️:</b> Здорово, что ты не забыла избавиться от несоответсвия индексов. Иначе бы далее возникли ошибки в расчетах. </div>"
   ]
  },
  {
   "cell_type": "markdown",
   "metadata": {},
   "source": [
    "<div class=\"alert alert-danger\">\n",
    "<b>Комментарий ревьюера ❌:</b> Код падает с ошибкой, потому что у LinearRegression нет параметра normalize. </div>"
   ]
  },
  {
   "cell_type": "markdown",
   "metadata": {},
   "source": [
    "<div class=\"alert alert-danger\">\n",
    "<b>Комментарий ревьюера ❌:</b> Для mean_squared_error аргументы должны идти в таком порядке: y_true, y_pred. А у тебя наоборот. Исправь это, пожалуйста,. </div>"
   ]
  },
  {
   "cell_type": "markdown",
   "metadata": {},
   "source": [
    "<div class=\"alert alert-info\"> <b>Комментарий студента:</b> Исправлено. </div>"
   ]
  },
  {
   "cell_type": "markdown",
   "metadata": {},
   "source": [
    "<div class=\"alert alert-success\">\n",
    "<b>Комментарий ревьюера v2 ✔️:</b> Оба комментария учтены. </div>"
   ]
  },
  {
   "cell_type": "code",
   "execution_count": 13,
   "metadata": {},
   "outputs": [],
   "source": [
    "#tt_split(df0)"
   ]
  },
  {
   "cell_type": "code",
   "execution_count": 14,
   "metadata": {},
   "outputs": [],
   "source": [
    "#tt_split(df1)"
   ]
  },
  {
   "cell_type": "code",
   "execution_count": 15,
   "metadata": {},
   "outputs": [],
   "source": [
    "#tt_split(df2)"
   ]
  },
  {
   "cell_type": "markdown",
   "metadata": {},
   "source": [
    "<div class=\"alert alert-warning\">\n",
    "<b>Комментарий ревьюера ⚠️:</b> Можно было сразу сделеть как в ячейке ниже. </div>"
   ]
  },
  {
   "cell_type": "markdown",
   "metadata": {},
   "source": [
    "<div class=\"alert alert-info\"> <b>Комментарий студента:</b> Исправлено. </div>"
   ]
  },
  {
   "cell_type": "markdown",
   "metadata": {},
   "source": [
    "<div class=\"alert alert-success\">\n",
    "<b>Комментарий ревьюера v2 ✔️:</b> Супер! </div>"
   ]
  },
  {
   "cell_type": "markdown",
   "metadata": {},
   "source": [
    "Сохраним предсказания модели и реальные ответы, RMSE"
   ]
  },
  {
   "cell_type": "code",
   "execution_count": 16,
   "metadata": {},
   "outputs": [
    {
     "name": "stdout",
     "output_type": "stream",
     "text": [
      "RMSE 37.5794217150813\n",
      "Cредний запас предсказанного сырья 92.59256778438008\n",
      "RMSE 0.893099286775617\n",
      "Cредний запас предсказанного сырья 68.7285468954458\n",
      "RMSE 40.02970873393434\n",
      "Cредний запас предсказанного сырья 94.96504596800506\n"
     ]
    }
   ],
   "source": [
    "predictions0, valid0, rmse0 = tt_split(df0)\n",
    "predictions1, valid1, rmse1 = tt_split(df1)\n",
    "predictions2, valid2, rmse2 = tt_split(df2)"
   ]
  },
  {
   "cell_type": "code",
   "execution_count": 17,
   "metadata": {},
   "outputs": [
    {
     "data": {
      "image/png": "[encoded data removed]",
      "text/plain": [
       "<Figure size 432x288 with 1 Axes>"
      ]
     },
     "metadata": {
      "needs_background": "light"
     },
     "output_type": "display_data"
    }
   ],
   "source": [
    "plt.title('График предсказанных и актуальных значений по региону 0')\n",
    "ax=predictions0.plot(kind='hist', grid=True, legend=True, alpha=0.5, label='Predictions', color = 'green')\n",
    "ax1=valid0.plot(kind='hist',grid=True, legend=True, alpha=0.5, label='Actual', color = 'darkblue', ax=ax)\n",
    "plt.show()"
   ]
  },
  {
   "cell_type": "code",
   "execution_count": 18,
   "metadata": {},
   "outputs": [
    {
     "data": {
      "image/png": "[encoded data removed]",
      "text/plain": [
       "<Figure size 432x288 with 1 Axes>"
      ]
     },
     "metadata": {
      "needs_background": "light"
     },
     "output_type": "display_data"
    }
   ],
   "source": [
    "plt.title('График предсказанных и актуальных значений по региону 1')\n",
    "ax=predictions1.plot(kind='hist', grid=True, legend=True, alpha=0.5, label='Predictions', color = 'green')\n",
    "ax1=valid1.plot(kind='hist',grid=True, legend=True, alpha=0.5, label='Actual', color = 'darkblue', ax=ax)\n",
    "plt.show()"
   ]
  },
  {
   "cell_type": "code",
   "execution_count": 19,
   "metadata": {},
   "outputs": [
    {
     "data": {
      "image/png": "[encoded data removed]",
      "text/plain": [
       "<Figure size 432x288 with 1 Axes>"
      ]
     },
     "metadata": {
      "needs_background": "light"
     },
     "output_type": "display_data"
    }
   ],
   "source": [
    "plt.title('График предсказанных и актуальных значений по региону 2')\n",
    "ax=predictions2.plot(kind='hist', grid=True, legend=True, alpha=0.5, label='Predictions', color = 'green')\n",
    "ax1=valid2.plot(kind='hist',grid=True, legend=True, alpha=0.5, label='Actual', color = 'darkblue', ax=ax)\n",
    "plt.show()"
   ]
  },
  {
   "cell_type": "markdown",
   "metadata": {},
   "source": [
    "В результате обучения моделей по региону 0 и 2 среднеквадратичная ошибка довольно большая, предсказания сильно отличаются от реальных данных. У первого региона модель показала себя лучше всего, что ожидаемо, в связи с сильной корреляцией признака F2 с целевым признаком.\n",
    "\n",
    "0 регион\n",
    "\n",
    "RMSE 37.5794217150813\n",
    "Cредний запас предсказанного сырья 92.59256778438008\n",
    "\n",
    "1 регион\n",
    "\n",
    "RMSE 0.893099286775617\n",
    "Cредний запас предсказанного сырья 68.7285468954458\n",
    "\n",
    "2 регион\n",
    "\n",
    "RMSE 40.02970873393434\n",
    "Cредний запас предсказанного сырья 94.96504596800506"
   ]
  },
  {
   "cell_type": "markdown",
   "metadata": {},
   "source": [
    "<div class=\"alert alert-success\">\n",
    "<b>Комментарий ревьюера ✔️:</b> Все сделано правильно, отличный вывод.  </div>"
   ]
  },
  {
   "cell_type": "markdown",
   "metadata": {},
   "source": [
    "## Подготовка к расчёту прибыли"
   ]
  },
  {
   "cell_type": "markdown",
   "metadata": {},
   "source": [
    "Сохраним все ключевые значения для расчётов в отдельных переменных"
   ]
  },
  {
   "cell_type": "code",
   "execution_count": 20,
   "metadata": {},
   "outputs": [],
   "source": [
    "budget = 10000000000\n",
    "points = 500\n",
    "best_points = 200\n",
    "barrels_price = 450000\n",
    "loss_prob = 0.25"
   ]
  },
  {
   "cell_type": "markdown",
   "metadata": {},
   "source": [
    "<div class=\"alert alert-warning\">\n",
    "<b>Комментарий ревьюера ⚠️:</b> Следуя стилистическим канонам PEP 8, константы рекомендую записывать в верхнем регистре. </div>"
   ]
  },
  {
   "cell_type": "markdown",
   "metadata": {},
   "source": [
    "<div class=\"alert alert-info\"> <b>Комментарий студента:</b> Учту, спасибо. </div>"
   ]
  },
  {
   "cell_type": "markdown",
   "metadata": {},
   "source": [
    "Рассчитаем достаточный объём сырья для безубыточной разработки новой скважины."
   ]
  },
  {
   "cell_type": "code",
   "execution_count": 21,
   "metadata": {},
   "outputs": [
    {
     "name": "stdout",
     "output_type": "stream",
     "text": [
      "достаточный объём сырья для безубыточной разработки новой скважины: 111.11 баррелей\n"
     ]
    }
   ],
   "source": [
    "break_even = round(budget / (best_points * barrels_price), 2)\n",
    "print('достаточный объём сырья для безубыточной разработки новой скважины:', break_even, 'баррелей')"
   ]
  },
  {
   "cell_type": "markdown",
   "metadata": {},
   "source": [
    "Сравним полученный объём сырья со средним запасом в каждом регионе. "
   ]
  },
  {
   "cell_type": "code",
   "execution_count": 22,
   "metadata": {},
   "outputs": [
    {
     "name": "stdout",
     "output_type": "stream",
     "text": [
      "доля объема сырья в регионе 0 от достаточного объема сырья для безубыточной разработки новой скважины 83.25 %\n"
     ]
    }
   ],
   "source": [
    "print('доля объема сырья в регионе 0 от достаточного объема сырья для безубыточной разработки новой скважины', \n",
    "      round((df0['product'].mean()*100)/break_even, 2), '%')"
   ]
  },
  {
   "cell_type": "code",
   "execution_count": 23,
   "metadata": {},
   "outputs": [
    {
     "name": "stdout",
     "output_type": "stream",
     "text": [
      "доля объема сырья в регионе 1 от достаточного объема сырья для безубыточной разработки новой скважины 61.94 %\n"
     ]
    }
   ],
   "source": [
    "print('доля объема сырья в регионе 1 от достаточного объема сырья для безубыточной разработки новой скважины', \n",
    "      round((df1['product'].mean()*100)/break_even, 2), '%')"
   ]
  },
  {
   "cell_type": "code",
   "execution_count": 24,
   "metadata": {},
   "outputs": [
    {
     "name": "stdout",
     "output_type": "stream",
     "text": [
      "доля объема сырья в регионе 2 от достаточного объема сырья для безубыточной разработки новой скважины 85.5 %\n"
     ]
    }
   ],
   "source": [
    "print('доля объема сырья в регионе 2 от достаточного объема сырья для безубыточной разработки новой скважины', \n",
    "      round((df2['product'].mean()*100)/break_even, 2), '%')"
   ]
  },
  {
   "cell_type": "markdown",
   "metadata": {},
   "source": [
    "Средний запас сырья в скважинах по регионам ниже достаточного объема"
   ]
  },
  {
   "cell_type": "markdown",
   "metadata": {},
   "source": [
    "<div class=\"alert alert-success\">\n",
    "<b>Комментарий ревьюера ✔️:</b> Расчеты верны, молодец! </div>"
   ]
  },
  {
   "cell_type": "markdown",
   "metadata": {},
   "source": [
    "Функция для расчёта прибыли по выбранным скважинам и предсказаниям модели:\n",
    "\n",
    "Выберем 200 скважин с максимальными значениями предсказаний, просуммируем целевое значение объёма сырья, соответствующее этим предсказаниям, рассчитаем прибыль для полученного объёма сырья."
   ]
  },
  {
   "cell_type": "code",
   "execution_count": 25,
   "metadata": {},
   "outputs": [],
   "source": [
    "#def profit(predictions, valid, best_points):\n",
    "#    sort = pd.Series(predictions, index=valid.index).sort_values(ascending=False)\n",
    "#    maxx = sort[:best_points].sum()\n",
    "#    prof_pred=(maxx*barrels_price)-budget\n",
    "#    print('Суммарный запас сырья в 200 лучших скважинах:', round(maxx,2), 'баррелей')\n",
    "#    print('Прибыль для полученного объёма сырья:', round(prof_pred/1000,2), 'рублей')\n",
    "#    print('Профицит составил:', round(maxx/best_points*100/break_even, 2), '%')"
   ]
  },
  {
   "cell_type": "code",
   "execution_count": 26,
   "metadata": {},
   "outputs": [],
   "source": [
    "def profit(predictions, valid, best_points):\n",
    "    pred = predictions.sort_values(ascending=False)\n",
    "    top_valid = valid[pred.index][:best_points].sum()\n",
    "    income = top_valid*barrels_price - budget\n",
    "    print('Суммарный запас сырья в 200 лучших скважинах:', round(top_valid,2), 'баррелей')\n",
    "    print('Прибыль для полученного объёма сырья:', round(income/1000,2), 'рублей')\n",
    "    print('Профицит составил:', round(top_valid/best_points*100/break_even, 2), '%')"
   ]
  },
  {
   "cell_type": "markdown",
   "metadata": {},
   "source": [
    "<div class=\"alert alert-warning\">\n",
    "<b>Комментарий ревьюера ⚠️:</b> Прибыль нужно считать для реальных значений скважин по индексам топ-200 из предсказаний. Как раз как ты это делаешь в profit_2. Тут тоже лучше сделать так. </div>"
   ]
  },
  {
   "cell_type": "markdown",
   "metadata": {},
   "source": [
    "<div class=\"alert alert-info\"> <b>Комментарий студента:</b> Исправлено. </div>"
   ]
  },
  {
   "cell_type": "markdown",
   "metadata": {},
   "source": [
    "<div class=\"alert alert-success\">\n",
    "<b>Комментарий ревьюера v2 ✔️:</b> Молодец, тут теперь все правильно. </div>"
   ]
  },
  {
   "cell_type": "code",
   "execution_count": 27,
   "metadata": {},
   "outputs": [
    {
     "name": "stdout",
     "output_type": "stream",
     "text": [
      "Суммарный запас сырья в 200 лучших скважинах: 29601.84 баррелей\n",
      "Прибыль для полученного объёма сырья: 3320826.04 рублей\n",
      "Профицит составил: 133.21 %\n"
     ]
    }
   ],
   "source": [
    "profit(predictions0, valid0, best_points)"
   ]
  },
  {
   "cell_type": "code",
   "execution_count": 28,
   "metadata": {},
   "outputs": [
    {
     "name": "stdout",
     "output_type": "stream",
     "text": [
      "Суммарный запас сырья в 200 лучших скважинах: 27589.08 баррелей\n",
      "Прибыль для полученного объёма сырья: 2415086.7 рублей\n",
      "Профицит составил: 124.15 %\n"
     ]
    }
   ],
   "source": [
    "profit(predictions1, valid1, best_points)"
   ]
  },
  {
   "cell_type": "code",
   "execution_count": 29,
   "metadata": {},
   "outputs": [
    {
     "name": "stdout",
     "output_type": "stream",
     "text": [
      "Суммарный запас сырья в 200 лучших скважинах: 28245.22 баррелей\n",
      "Прибыль для полученного объёма сырья: 2710349.96 рублей\n",
      "Профицит составил: 127.1 %\n"
     ]
    }
   ],
   "source": [
    "profit(predictions2, valid2, best_points)"
   ]
  },
  {
   "cell_type": "markdown",
   "metadata": {},
   "source": [
    "При разработке 200 лучших скважин, все регионы показали хорошие результаты."
   ]
  },
  {
   "cell_type": "markdown",
   "metadata": {},
   "source": [
    "## Расчёт прибыли и рисков "
   ]
  },
  {
   "cell_type": "markdown",
   "metadata": {},
   "source": [
    "Применим технику Bootstrap с 1000 выборок, чтобы найти распределение прибыли.\n",
    "\n",
    "Найдем среднюю прибыль, 95%-й доверительный интервал и риск убытков."
   ]
  },
  {
   "cell_type": "code",
   "execution_count": 30,
   "metadata": {},
   "outputs": [],
   "source": [
    "def profit_2(predictions, valid):\n",
    "    pred = predictions.sort_values(ascending=False)\n",
    "    top_valid = valid[pred.index][:best_points]\n",
    "    income = top_valid.sum()*barrels_price\n",
    "    return income-budget"
   ]
  },
  {
   "cell_type": "markdown",
   "metadata": {},
   "source": [
    "<div class=\"alert alert-danger\">\n",
    "<b>Комментарий ревьюера ❌:</b> Алгоритм верный, но тут вместо значения 200 лучше использовать созданную ранее константу. Ведь если придется менять это значение, то будет достаточно поправить только в одном месте, а не искать его по всему проеку. </div>"
   ]
  },
  {
   "cell_type": "markdown",
   "metadata": {},
   "source": [
    "<div class=\"alert alert-info\"> <b>Комментарий студента:</b> Исправлено. </div>"
   ]
  },
  {
   "cell_type": "markdown",
   "metadata": {},
   "source": [
    "<div class=\"alert alert-success\">\n",
    "<b>Комментарий ревьюера v2 ✔️:</b> 👍 </div>"
   ]
  },
  {
   "cell_type": "code",
   "execution_count": 31,
   "metadata": {},
   "outputs": [],
   "source": [
    "def bootstap(predictions, valid):\n",
    "    state = np.random.RandomState(12345)\n",
    "    income = []\n",
    "    for i in tqdm(range(1000)):\n",
    "        valid_sample = valid.sample(points, replace=True, random_state=state)\n",
    "        predictions_sample = predictions[valid_sample.index]\n",
    "        income.append(profit_2(predictions_sample, valid_sample))\n",
    "    income = pd.Series(income)    \n",
    "    confidence_interval = st.norm.interval(alpha=0.95, loc=income.mean(), scale=income.sem())\n",
    "    mean_income = sum(income) / len(income)\n",
    "    risk = st.percentileofscore(income, 0)\n",
    "\n",
    "    return (confidence_interval, mean_income, risk)"
   ]
  },
  {
   "cell_type": "markdown",
   "metadata": {},
   "source": [
    "<div class=\"alert alert-danger\">\n",
    "<b>Комментарий ревьюера ❌:</b> Тут есть один нюанс. Функция <code>st.t.interval</code> используется для небольшой выборки (n < 30), а в нашем случае наблюдений намного больше, значит мы можем предположить, что выборочное распределение выборочного среднего нормально распределено (благодаря центральной предельной теореме ). Поэтому лучше использовать <code>st.norm.interval</code> или же <code>pandas.DataFrame.quantile</code>, что еще проще. Исправь это, пожалуйста. </div>"
   ]
  },
  {
   "cell_type": "markdown",
   "metadata": {},
   "source": [
    "<div class=\"alert alert-info\"> <b>Комментарий студента:</b> Исправлено. </div>"
   ]
  },
  {
   "cell_type": "markdown",
   "metadata": {},
   "source": [
    "<div class=\"alert alert-success\">\n",
    "<b>Комментарий ревьюера v2 ✔️:</b> Отлично. </div>"
   ]
  },
  {
   "cell_type": "markdown",
   "metadata": {},
   "source": [
    "<div class=\"alert alert-warning\">\n",
    "<b>Комментарий ревьюера ⚠️:</b> Тут еще есть одна интересная деталь, связанная с реализацией самого Bootstrap: в процессе может получиться, что выборка с реальными значениями для подсчёта прибыли получится большего размера, чем мы ожидаем. Например, не 200 скважин, а 206-208 значений, соответственно, риск будет при этом занижен, ведь прибыль мы считаем, учитывая расходы на разработку именно 200 скважин, меньшего числа. <br>\n",
    "Рекомендация здесь: не бутстрапировать отдельно столбец с предсказаниями, а привязывать его при этом к столбцу с реальными значениями, например, бутстрапируя цельный DataFrame с предсказанными и реальными значениями.</div>"
   ]
  },
  {
   "cell_type": "markdown",
   "metadata": {},
   "source": [
    "<div class=\"alert alert-info\"> <b>Комментарий студента:</b> Не поняла, как сделать. </div>"
   ]
  },
  {
   "cell_type": "markdown",
   "metadata": {},
   "source": [
    "<div class=\"alert alert-warning\">\n",
    "<b>Комментарий ревьюера v2 ⚠️:</b> Просто реальные значения и предсказания объеденить в один датафрейм. У тебя получится 2 столбца. И вот уже семплировать их. </div>"
   ]
  },
  {
   "cell_type": "code",
   "execution_count": 32,
   "metadata": {},
   "outputs": [
    {
     "name": "stderr",
     "output_type": "stream",
     "text": [
      "100%|██████████| 1000/1000 [00:01<00:00, 674.58it/s]"
     ]
    },
    {
     "name": "stdout",
     "output_type": "stream",
     "text": [
      "Средняя прибыль: 425938526.91 рублей\n",
      "95%-й доверительный интервал: (408753053.4012523, 443124000.41993254)\n",
      "Риски: 6.0 %\n"
     ]
    },
    {
     "name": "stderr",
     "output_type": "stream",
     "text": [
      "\n"
     ]
    }
   ],
   "source": [
    "confidence_interval, mean_income, risk = bootstap(predictions0, valid0)\n",
    "print('Средняя прибыль:', round(mean_income,2), 'рублей')\n",
    "print('95%-й доверительный интервал:', confidence_interval)\n",
    "print('Риски:', round(risk,2), '%')"
   ]
  },
  {
   "cell_type": "code",
   "execution_count": 33,
   "metadata": {},
   "outputs": [
    {
     "name": "stderr",
     "output_type": "stream",
     "text": [
      "100%|██████████| 1000/1000 [00:01<00:00, 684.64it/s]"
     ]
    },
    {
     "name": "stdout",
     "output_type": "stream",
     "text": [
      "Средняя прибыль: 515222773.44 рублей\n",
      "95%-й доверительный интервал: (501637954.84047496, 528807592.0461048)\n",
      "Риски: 1.0 %\n"
     ]
    },
    {
     "name": "stderr",
     "output_type": "stream",
     "text": [
      "\n"
     ]
    }
   ],
   "source": [
    "confidence_interval, mean_income, risk = bootstap(predictions1, valid1)\n",
    "print('Средняя прибыль:', round(mean_income,2), 'рублей')\n",
    "print('95%-й доверительный интервал:', confidence_interval)\n",
    "print('Риски:', round(risk,2), '%')"
   ]
  },
  {
   "cell_type": "code",
   "execution_count": 34,
   "metadata": {},
   "outputs": [
    {
     "name": "stderr",
     "output_type": "stream",
     "text": [
      "100%|██████████| 1000/1000 [00:01<00:00, 647.53it/s]"
     ]
    },
    {
     "name": "stdout",
     "output_type": "stream",
     "text": [
      "Средняя прибыль: 435008362.78 рублей\n",
      "95%-й доверительный интервал: (417474820.58837974, 452541904.9771315)\n",
      "Риски: 6.4 %\n"
     ]
    },
    {
     "name": "stderr",
     "output_type": "stream",
     "text": [
      "\n"
     ]
    }
   ],
   "source": [
    "confidence_interval, mean_income, risk = bootstap(predictions2, valid2)\n",
    "print('Средняя прибыль:', round(mean_income,2), 'рублей')\n",
    "print('95%-й доверительный интервал:', confidence_interval)\n",
    "print('Риски:', round(risk,2), '%')"
   ]
  },
  {
   "cell_type": "markdown",
   "metadata": {},
   "source": [
    "Регион 1 лучше всего подходит для разработки скважин:\n",
    "\n",
    "Минимальные риски (1.0%) в сочетании с наибольшей средней прибылью (515222773.44 рублей)"
   ]
  },
  {
   "cell_type": "markdown",
   "metadata": {},
   "source": [
    "## Вывод"
   ]
  },
  {
   "cell_type": "markdown",
   "metadata": {},
   "source": [
    "<p>В проекте были предоставлены пробы нефти в трёх регионах. Характеристики для каждой скважины в регионе уже известны.</p>\n",
    "<p>Необходимо было построить модель для определения региона, где добыча принесёт наибольшую прибыль, проанализировать возможную прибыль и риски техникой <em>Bootstrap.</em></p>\n",
    "<p>В ходе работы были построены три модели регрессии для трех регионов, в результате обучения моделей по регионам 0 и 2 среднеквадратичная ошибка довольно большая, предсказания сильно отличаются от реальных данных. У первого региона модель показала себя лучше всего, что ожидаемо, в связи с сильной корреляцией признака F2 с целевым признаком.</p>\n",
    "<p>0 регион</p>\n",
    "<p>RMSE 37.5794217150813 Cредний запас предсказанного сырья 92.59256778438008</p>\n",
    "<p>1 регион</p>\n",
    "<p>RMSE 0.893099286775617 Cредний запас предсказанного сырья 68.7285468954458</p>\n",
    "<p>2 регион</p>\n",
    "<p>RMSE 40.02970873393434 Cредний запас предсказанного сырья 94.96504596800506</p>\n",
    "<p>Был произведен рассчет прибыли и рисков, средний запас сырья в скважинах по регионам оказался ниже достаточного объема:</p>\n",
    "<p>0 регион&nbsp;</p>\n",
    "<p>Доля объема сырья в регионе от достаточного объема сырья для безубыточной разработки новой скважины составила 83.25 %</p>\n",
    "<p>1 регион&nbsp;</p>\n",
    "<p>Доля объема сырья в регионе от достаточного объема сырья для безубыточной разработки новой скважины составила 61.94 %</p>\n",
    "<p>2 регион&nbsp;</p>\n",
    "<p>Доля объема сырья в регионе от достаточного объема сырья для безубыточной разработки новой скважины составила 85.5 %</p>\n",
    "<p>Однако, выбрав 200 скважин с максимальными значениями предсказаний, просуммировав целевое значение объёма сырья, соответствующее этим предсказаниям и рассчитав прибыль для полученного объёма сырья, выяснилось, что:</p>\n",
    "<p>0 регион&nbsp;</p>\n",
    "<p>Суммарный запас сырья в 200 лучших скважинах: 31102.33 баррелей<br />Прибыль для полученного объёма сырья: 3996048.88 рублей<br />Профицит составил: 139.96 %</p>\n",
    "<p>1 регион</p>\n",
    "<p>Суммарный запас сырья в 200 лучших скважинах: 27746.03 баррелей<br />Прибыль для полученного объёма сырья: 2485712.05 рублей<br />Профицит составил: 124.86 %</p>\n",
    "<p>2 регион</p>\n",
    "<p>Суммарный запас сырья в 200 лучших скважинах: 29603.9 баррелей<br />Прибыль для полученного объёма сырья: 3321754.4 рублей<br />Профицит составил: 133.22 %</p>\n",
    "<p>&nbsp;</p>\n",
    "<p>Применив технику Bootstrap с 1000 выборок, чтобы найти распределение прибыли и найдя среднюю прибыль, 95%-й доверительный интервал и риск убытков, оказалось, что:</p>\n",
    "<p>Регион 1 лучше всего подходит для разработки скважин, показав следующие значения:</p>\n",
    "<ul>\n",
    "<li>Средняя прибыль: 515222773.44 рублей</li>\n",
    "<li>95%-й доверительный интервал: 501637954.84 - 528807592.04</li>\n",
    "<li>Риски: 1.0 %</li>\n",
    "</ul>"
   ]
  },
  {
   "cell_type": "markdown",
   "metadata": {},
   "source": [
    "<div class=\"alert alert-success\">\n",
    "<b>Комментарий ревьюера ✔️:</b> Отличный вывод. Ты выбрала правильный регион! </div>"
   ]
  },
  {
   "cell_type": "markdown",
   "metadata": {},
   "source": [
    "<div style=\"border:solid blue 2px; padding: 20px\">\n",
    "<b>Итоговый комментарий ревьюера</b>\n",
    "<div class=\"alert alert-block alert-success\">\n",
    "<b>✔️ Комментарий ревьюера:</b>\n",
    "Мне очень понравилась твоя работа. Спасибо тебе большое, за хорошее оформление проекта.\n",
    "Чувствуется уверенное знание материала и владение питоном в целом. \n",
    "</div>\n",
    "<b>Но нужно кое-что поправить:</b>\n",
    "<div class=\"alert alert-block alert-danger\">\n",
    "<ul>1) Запустить код без ошибок.</ul>\n",
    "<ul>2) Поменять местами аргументы для mean_squared_error.</ul>\n",
    "<ul>3) Использовать созданные константы.</ul>\n",
    "<ul>4) Исправить расчет доверительного интервала.</ul>\n",
    "</div>\n",
    "\n",
    "<b>Осталось совсем немного, буду ждать твою работу на повторное ревью 🙂</b></div>"
   ]
  },
  {
   "cell_type": "markdown",
   "metadata": {},
   "source": [
    "<div class=\"alert alert-info\"> <b>Комментарий студента:</b> Спасибо, все замечания исправлены, кроме одного: </div>\n",
    "    \n",
    "<div class=\"alert alert-warning\">бутстрапируя цельный DataFrame с предсказанными и реальными значениями. </div>"
   ]
  },
  {
   "cell_type": "markdown",
   "metadata": {},
   "source": [
    "<div style=\"border:solid blue 2px; padding: 20px\">\n",
    "<b>Итоговый комментарий ревьюера v2</b>\n",
    "<div class=\"alert alert-block alert-success\">\n",
    "<b>✔️ Комментарий ревьюера:</b>\n",
    "Все недочеты исправлены. Проект принят, поздравляю🥳\n",
    "</div>\n",
    "\n",
    "<b>Желаю успехов и удачи!</b></div>"
   ]
  },
  {
   "cell_type": "markdown",
   "metadata": {},
   "source": [
    "## Чек-лист готовности проекта"
   ]
  },
  {
   "cell_type": "markdown",
   "metadata": {},
   "source": [
    "Поставьте 'x' в выполненных пунктах. Далее нажмите Shift+Enter."
   ]
  },
  {
   "cell_type": "markdown",
   "metadata": {},
   "source": [
    "- [x]  Jupyter Notebook открыт\n",
    "- [x]  Весь код выполняется без ошибок\n",
    "- [x]  Ячейки с кодом расположены в порядке исполнения\n",
    "- [x]  Выполнен шаг 1: данные подготовлены\n",
    "- [x]  Выполнен шаг 2: модели обучены и проверены\n",
    "    - [x]  Данные корректно разбиты на обучающую и валидационную выборки\n",
    "    - [x]  Модели обучены, предсказания сделаны\n",
    "    - [x]  Предсказания и правильные ответы на валидационной выборке сохранены\n",
    "    - [x]  На экране напечатаны результаты\n",
    "    - [x]  Сделаны выводы\n",
    "- [x]  Выполнен шаг 3: проведена подготовка к расчёту прибыли\n",
    "    - [x]  Для всех ключевых значений созданы константы Python\n",
    "    - [x]  Посчитано минимальное среднее количество продукта в месторождениях региона, достаточное для разработки\n",
    "    - [x]  По предыдущему пункту сделаны выводы\n",
    "    - [x]  Написана функция расчёта прибыли\n",
    "- [x]  Выполнен шаг 4: посчитаны риски и прибыль\n",
    "    - [x]  Проведена процедура *Bootstrap*\n",
    "    - [x]  Все параметры бутстрепа соответствуют условию\n",
    "    - [x]  Найдены все нужные величины\n",
    "    - [x]  Предложен регион для разработки месторождения\n",
    "    - [x]  Выбор региона обоснован"
   ]
  }
 ],
 "metadata": {
  "ExecuteTimeLog": [
   {
    "duration": 9186,
    "start_time": "2023-04-19T13:37:07.218Z"
   },
   {
    "duration": 4069,
    "start_time": "2023-04-19T13:37:22.684Z"
   },
   {
    "duration": 1439,
    "start_time": "2023-04-19T13:37:31.412Z"
   },
   {
    "duration": 523,
    "start_time": "2023-04-19T13:38:38.378Z"
   },
   {
    "duration": 132,
    "start_time": "2023-04-19T13:39:02.289Z"
   },
   {
    "duration": 15,
    "start_time": "2023-04-19T13:39:06.307Z"
   },
   {
    "duration": 45,
    "start_time": "2023-04-19T13:39:17.306Z"
   },
   {
    "duration": 17,
    "start_time": "2023-04-19T13:40:37.367Z"
   },
   {
    "duration": 151,
    "start_time": "2023-04-19T13:41:02.619Z"
   },
   {
    "duration": 3,
    "start_time": "2023-04-19T13:42:56.988Z"
   },
   {
    "duration": 730,
    "start_time": "2023-04-19T13:44:00.275Z"
   },
   {
    "duration": 662,
    "start_time": "2023-04-19T13:44:05.243Z"
   },
   {
    "duration": 10,
    "start_time": "2023-04-19T13:44:24.082Z"
   },
   {
    "duration": 3,
    "start_time": "2023-04-19T13:44:46.941Z"
   },
   {
    "duration": 9,
    "start_time": "2023-04-19T13:44:49.019Z"
   },
   {
    "duration": 39,
    "start_time": "2023-04-19T13:45:00.381Z"
   },
   {
    "duration": 4,
    "start_time": "2023-04-19T13:46:03.021Z"
   },
   {
    "duration": 162,
    "start_time": "2023-04-19T13:46:09.691Z"
   },
   {
    "duration": 2,
    "start_time": "2023-04-19T13:48:13.549Z"
   },
   {
    "duration": 9,
    "start_time": "2023-04-19T13:48:36.438Z"
   },
   {
    "duration": 26,
    "start_time": "2023-04-19T13:48:48.163Z"
   },
   {
    "duration": 3,
    "start_time": "2023-04-19T13:49:26.675Z"
   },
   {
    "duration": 1399,
    "start_time": "2023-04-19T13:49:30.302Z"
   },
   {
    "duration": 2,
    "start_time": "2023-04-19T13:49:52.177Z"
   },
   {
    "duration": 116,
    "start_time": "2023-04-19T13:49:54.544Z"
   },
   {
    "duration": 95,
    "start_time": "2023-04-19T13:51:24.680Z"
   },
   {
    "duration": 42,
    "start_time": "2023-04-19T13:52:02.855Z"
   },
   {
    "duration": 22,
    "start_time": "2023-04-19T13:52:15.146Z"
   },
   {
    "duration": 16,
    "start_time": "2023-04-19T13:52:37.144Z"
   },
   {
    "duration": 12,
    "start_time": "2023-04-19T13:52:37.679Z"
   },
   {
    "duration": 6,
    "start_time": "2023-04-19T13:53:16.424Z"
   },
   {
    "duration": 19,
    "start_time": "2023-04-19T13:53:17.755Z"
   },
   {
    "duration": 31,
    "start_time": "2023-04-19T13:53:31.183Z"
   },
   {
    "duration": 2042,
    "start_time": "2023-04-19T13:53:35.132Z"
   },
   {
    "duration": 1989,
    "start_time": "2023-04-19T13:53:37.177Z"
   },
   {
    "duration": 18,
    "start_time": "2023-04-19T13:53:39.169Z"
   },
   {
    "duration": 172,
    "start_time": "2023-04-19T13:53:39.189Z"
   },
   {
    "duration": 143,
    "start_time": "2023-04-19T13:53:39.366Z"
   },
   {
    "duration": 127,
    "start_time": "2023-04-19T13:53:39.511Z"
   },
   {
    "duration": 56,
    "start_time": "2023-04-19T13:53:39.639Z"
   },
   {
    "duration": 13,
    "start_time": "2023-04-19T13:53:39.697Z"
   },
   {
    "duration": 19,
    "start_time": "2023-04-19T13:53:39.711Z"
   },
   {
    "duration": 178,
    "start_time": "2023-04-19T13:53:39.732Z"
   },
   {
    "duration": 18,
    "start_time": "2023-04-19T13:53:42.223Z"
   },
   {
    "duration": 13,
    "start_time": "2023-04-19T13:53:51.824Z"
   },
   {
    "duration": 16,
    "start_time": "2023-04-19T13:54:04.291Z"
   },
   {
    "duration": 13,
    "start_time": "2023-04-19T13:54:18.209Z"
   },
   {
    "duration": 4,
    "start_time": "2023-04-19T13:54:21.318Z"
   },
   {
    "duration": 12,
    "start_time": "2023-04-19T13:58:40.587Z"
   },
   {
    "duration": 13,
    "start_time": "2023-04-19T13:58:47.891Z"
   },
   {
    "duration": 15,
    "start_time": "2023-04-19T13:59:02.074Z"
   },
   {
    "duration": 29,
    "start_time": "2023-04-19T13:59:17.083Z"
   },
   {
    "duration": 27,
    "start_time": "2023-04-19T14:00:08.003Z"
   },
   {
    "duration": 30,
    "start_time": "2023-04-19T14:00:28.187Z"
   },
   {
    "duration": 2577,
    "start_time": "2023-04-19T14:02:10.329Z"
   },
   {
    "duration": 2143,
    "start_time": "2023-04-19T14:02:12.909Z"
   },
   {
    "duration": 15,
    "start_time": "2023-04-19T14:02:15.055Z"
   },
   {
    "duration": 206,
    "start_time": "2023-04-19T14:02:15.073Z"
   },
   {
    "duration": 136,
    "start_time": "2023-04-19T14:02:15.281Z"
   },
   {
    "duration": 135,
    "start_time": "2023-04-19T14:02:15.418Z"
   },
   {
    "duration": 55,
    "start_time": "2023-04-19T14:02:15.554Z"
   },
   {
    "duration": 17,
    "start_time": "2023-04-19T14:02:15.610Z"
   },
   {
    "duration": 4,
    "start_time": "2023-04-19T14:02:15.629Z"
   },
   {
    "duration": 175,
    "start_time": "2023-04-19T14:02:15.664Z"
   },
   {
    "duration": 19,
    "start_time": "2023-04-19T14:02:15.841Z"
   },
   {
    "duration": 16,
    "start_time": "2023-04-19T14:02:15.862Z"
   },
   {
    "duration": 7,
    "start_time": "2023-04-19T14:02:15.880Z"
   },
   {
    "duration": 73,
    "start_time": "2023-04-19T14:07:48.278Z"
   },
   {
    "duration": 2270,
    "start_time": "2023-04-19T14:09:31.808Z"
   },
   {
    "duration": 2270,
    "start_time": "2023-04-19T14:09:34.080Z"
   },
   {
    "duration": 14,
    "start_time": "2023-04-19T14:09:36.352Z"
   },
   {
    "duration": 151,
    "start_time": "2023-04-19T14:09:36.370Z"
   },
   {
    "duration": 126,
    "start_time": "2023-04-19T14:09:36.523Z"
   },
   {
    "duration": 134,
    "start_time": "2023-04-19T14:09:36.651Z"
   },
   {
    "duration": 4,
    "start_time": "2023-04-19T14:09:36.786Z"
   },
   {
    "duration": 189,
    "start_time": "2023-04-19T14:09:36.792Z"
   },
   {
    "duration": 7,
    "start_time": "2023-04-19T14:09:36.983Z"
   },
   {
    "duration": 29,
    "start_time": "2023-04-19T14:09:36.993Z"
   },
   {
    "duration": 26,
    "start_time": "2023-04-19T14:09:37.024Z"
   },
   {
    "duration": 38,
    "start_time": "2023-04-19T14:10:14.775Z"
   },
   {
    "duration": 25,
    "start_time": "2023-04-19T14:12:29.974Z"
   },
   {
    "duration": 16,
    "start_time": "2023-04-19T14:18:14.502Z"
   },
   {
    "duration": 3,
    "start_time": "2023-04-19T14:34:04.985Z"
   },
   {
    "duration": 345,
    "start_time": "2023-04-19T14:34:18.927Z"
   },
   {
    "duration": 4,
    "start_time": "2023-04-19T14:34:43.049Z"
   },
   {
    "duration": 4,
    "start_time": "2023-04-19T14:35:05.276Z"
   },
   {
    "duration": 4,
    "start_time": "2023-04-19T14:35:17.105Z"
   },
   {
    "duration": 90,
    "start_time": "2023-04-19T14:35:22.457Z"
   },
   {
    "duration": 101,
    "start_time": "2023-04-19T14:35:30.711Z"
   },
   {
    "duration": 77,
    "start_time": "2023-04-19T14:35:43.087Z"
   },
   {
    "duration": 4,
    "start_time": "2023-04-19T14:35:57.672Z"
   },
   {
    "duration": 444,
    "start_time": "2023-04-19T14:36:00.807Z"
   },
   {
    "duration": 5,
    "start_time": "2023-04-19T14:36:43.354Z"
   },
   {
    "duration": 367,
    "start_time": "2023-04-19T14:36:46.048Z"
   },
   {
    "duration": 3,
    "start_time": "2023-04-19T14:37:36.729Z"
   },
   {
    "duration": 336,
    "start_time": "2023-04-19T14:37:38.881Z"
   },
   {
    "duration": 4,
    "start_time": "2023-04-19T14:37:47.993Z"
   },
   {
    "duration": 337,
    "start_time": "2023-04-19T14:37:49.655Z"
   },
   {
    "duration": 3,
    "start_time": "2023-04-19T14:38:28.571Z"
   },
   {
    "duration": 304,
    "start_time": "2023-04-19T14:38:29.528Z"
   },
   {
    "duration": 5,
    "start_time": "2023-04-19T14:38:46.129Z"
   },
   {
    "duration": 493,
    "start_time": "2023-04-19T14:38:47.806Z"
   },
   {
    "duration": 3,
    "start_time": "2023-04-19T14:38:53.033Z"
   },
   {
    "duration": 305,
    "start_time": "2023-04-19T14:38:54.648Z"
   },
   {
    "duration": 4,
    "start_time": "2023-04-19T14:39:55.617Z"
   },
   {
    "duration": 356,
    "start_time": "2023-04-19T14:39:56.417Z"
   },
   {
    "duration": 4,
    "start_time": "2023-04-19T14:40:07.841Z"
   },
   {
    "duration": 353,
    "start_time": "2023-04-19T14:40:12.194Z"
   },
   {
    "duration": 4,
    "start_time": "2023-04-19T14:40:57.499Z"
   },
   {
    "duration": 325,
    "start_time": "2023-04-19T14:40:58.194Z"
   },
   {
    "duration": 5,
    "start_time": "2023-04-19T14:41:10.313Z"
   },
   {
    "duration": 332,
    "start_time": "2023-04-19T14:41:12.676Z"
   },
   {
    "duration": 517,
    "start_time": "2023-04-19T14:41:57.498Z"
   },
   {
    "duration": 351,
    "start_time": "2023-04-19T14:42:04.880Z"
   },
   {
    "duration": 7,
    "start_time": "2023-04-19T14:42:47.180Z"
   },
   {
    "duration": 486,
    "start_time": "2023-04-19T14:42:48.586Z"
   },
   {
    "duration": 395,
    "start_time": "2023-04-19T14:42:52.213Z"
   },
   {
    "duration": 503,
    "start_time": "2023-04-19T14:42:55.146Z"
   },
   {
    "duration": 6,
    "start_time": "2023-04-19T14:44:42.019Z"
   },
   {
    "duration": 549,
    "start_time": "2023-04-19T14:44:44.715Z"
   },
   {
    "duration": 4,
    "start_time": "2023-04-19T14:45:23.371Z"
   },
   {
    "duration": 386,
    "start_time": "2023-04-19T14:45:24.309Z"
   },
   {
    "duration": 4,
    "start_time": "2023-04-19T14:46:47.788Z"
   },
   {
    "duration": 484,
    "start_time": "2023-04-19T14:46:48.924Z"
   },
   {
    "duration": 5,
    "start_time": "2023-04-19T14:47:18.078Z"
   },
   {
    "duration": 413,
    "start_time": "2023-04-19T14:47:20.228Z"
   },
   {
    "duration": 5,
    "start_time": "2023-04-19T14:47:27.909Z"
   },
   {
    "duration": 406,
    "start_time": "2023-04-19T14:47:28.547Z"
   },
   {
    "duration": 6,
    "start_time": "2023-04-19T14:47:33.412Z"
   },
   {
    "duration": 455,
    "start_time": "2023-04-19T14:47:34.428Z"
   },
   {
    "duration": 4,
    "start_time": "2023-04-19T14:47:47.796Z"
   },
   {
    "duration": 599,
    "start_time": "2023-04-19T14:47:48.465Z"
   },
   {
    "duration": 9,
    "start_time": "2023-04-19T14:50:37.854Z"
   },
   {
    "duration": 149,
    "start_time": "2023-04-19T14:50:38.678Z"
   },
   {
    "duration": 5,
    "start_time": "2023-04-19T14:51:07.518Z"
   },
   {
    "duration": 352,
    "start_time": "2023-04-19T14:51:08.325Z"
   },
   {
    "duration": 5,
    "start_time": "2023-04-19T14:51:23.910Z"
   },
   {
    "duration": 397,
    "start_time": "2023-04-19T14:51:25.216Z"
   },
   {
    "duration": 4,
    "start_time": "2023-04-19T14:51:52.749Z"
   },
   {
    "duration": 388,
    "start_time": "2023-04-19T14:51:53.302Z"
   },
   {
    "duration": 90,
    "start_time": "2023-04-19T14:52:40.697Z"
   },
   {
    "duration": 5,
    "start_time": "2023-04-19T14:52:50.807Z"
   },
   {
    "duration": 447,
    "start_time": "2023-04-19T14:52:51.622Z"
   },
   {
    "duration": 7,
    "start_time": "2023-04-19T14:53:01.304Z"
   },
   {
    "duration": 552,
    "start_time": "2023-04-19T14:53:03.582Z"
   },
   {
    "duration": 436,
    "start_time": "2023-04-19T14:53:10.190Z"
   },
   {
    "duration": 498,
    "start_time": "2023-04-19T14:53:13.039Z"
   },
   {
    "duration": 3,
    "start_time": "2023-04-19T14:54:37.555Z"
   },
   {
    "duration": 25,
    "start_time": "2023-04-19T14:54:53.100Z"
   },
   {
    "duration": 27,
    "start_time": "2023-04-19T14:55:20.995Z"
   },
   {
    "duration": 2427,
    "start_time": "2023-04-19T14:55:40.683Z"
   },
   {
    "duration": 2692,
    "start_time": "2023-04-19T14:55:43.114Z"
   },
   {
    "duration": 12,
    "start_time": "2023-04-19T14:55:45.809Z"
   },
   {
    "duration": 267,
    "start_time": "2023-04-19T14:55:45.823Z"
   },
   {
    "duration": 164,
    "start_time": "2023-04-19T14:55:46.093Z"
   },
   {
    "duration": 159,
    "start_time": "2023-04-19T14:55:46.264Z"
   },
   {
    "duration": 6,
    "start_time": "2023-04-19T14:55:46.425Z"
   },
   {
    "duration": 515,
    "start_time": "2023-04-19T14:55:46.433Z"
   },
   {
    "duration": 537,
    "start_time": "2023-04-19T14:55:46.961Z"
   },
   {
    "duration": 610,
    "start_time": "2023-04-19T14:55:47.503Z"
   },
   {
    "duration": 4,
    "start_time": "2023-04-19T14:55:51.550Z"
   },
   {
    "duration": 5,
    "start_time": "2023-04-19T14:55:53.284Z"
   },
   {
    "duration": 5,
    "start_time": "2023-04-19T14:56:08.050Z"
   },
   {
    "duration": 5,
    "start_time": "2023-04-19T14:56:31.625Z"
   },
   {
    "duration": 27,
    "start_time": "2023-04-19T14:56:39.587Z"
   },
   {
    "duration": 3,
    "start_time": "2023-04-19T14:56:50.328Z"
   },
   {
    "duration": 56,
    "start_time": "2023-04-19T14:56:51.351Z"
   },
   {
    "duration": 5,
    "start_time": "2023-04-19T14:59:46.944Z"
   },
   {
    "duration": 6,
    "start_time": "2023-04-19T14:59:48.874Z"
   },
   {
    "duration": 7,
    "start_time": "2023-04-19T14:59:49.677Z"
   },
   {
    "duration": 9,
    "start_time": "2023-04-19T15:00:01.395Z"
   },
   {
    "duration": 183,
    "start_time": "2023-04-19T15:01:54.027Z"
   },
   {
    "duration": 80,
    "start_time": "2023-04-19T15:01:58.274Z"
   },
   {
    "duration": 7,
    "start_time": "2023-04-19T15:02:28.081Z"
   },
   {
    "duration": 14,
    "start_time": "2023-04-19T15:02:40.096Z"
   },
   {
    "duration": 5,
    "start_time": "2023-04-19T15:03:28.908Z"
   },
   {
    "duration": 17,
    "start_time": "2023-04-19T15:03:33.286Z"
   },
   {
    "duration": 4,
    "start_time": "2023-04-19T15:04:46.686Z"
   },
   {
    "duration": 17,
    "start_time": "2023-04-19T15:04:49.084Z"
   },
   {
    "duration": 1519,
    "start_time": "2023-04-19T15:05:58.127Z"
   },
   {
    "duration": 174,
    "start_time": "2023-04-19T15:05:59.648Z"
   },
   {
    "duration": 137,
    "start_time": "2023-04-19T15:05:59.824Z"
   },
   {
    "duration": 147,
    "start_time": "2023-04-19T15:05:59.963Z"
   },
   {
    "duration": 4,
    "start_time": "2023-04-19T15:06:00.112Z"
   },
   {
    "duration": 533,
    "start_time": "2023-04-19T15:06:00.118Z"
   },
   {
    "duration": 595,
    "start_time": "2023-04-19T15:06:00.655Z"
   },
   {
    "duration": 537,
    "start_time": "2023-04-19T15:06:01.252Z"
   },
   {
    "duration": 6,
    "start_time": "2023-04-19T15:06:01.791Z"
   },
   {
    "duration": 44,
    "start_time": "2023-04-19T15:06:01.800Z"
   },
   {
    "duration": 62,
    "start_time": "2023-04-19T15:06:01.846Z"
   },
   {
    "duration": 4,
    "start_time": "2023-04-19T15:06:04.607Z"
   },
   {
    "duration": 18,
    "start_time": "2023-04-19T15:06:06.819Z"
   },
   {
    "duration": 5,
    "start_time": "2023-04-19T15:12:16.741Z"
   },
   {
    "duration": 138,
    "start_time": "2023-04-19T15:12:19.777Z"
   },
   {
    "duration": 6,
    "start_time": "2023-04-19T15:13:06.607Z"
   },
   {
    "duration": 5,
    "start_time": "2023-04-19T15:14:04.133Z"
   },
   {
    "duration": 37,
    "start_time": "2023-04-19T15:14:05.637Z"
   },
   {
    "duration": 6,
    "start_time": "2023-04-19T15:14:59.016Z"
   },
   {
    "duration": 25,
    "start_time": "2023-04-19T15:14:59.637Z"
   },
   {
    "duration": 6,
    "start_time": "2023-04-19T15:15:16.022Z"
   },
   {
    "duration": 40,
    "start_time": "2023-04-19T15:15:17.039Z"
   },
   {
    "duration": 6,
    "start_time": "2023-04-19T15:16:12.310Z"
   },
   {
    "duration": 6,
    "start_time": "2023-04-19T15:16:18.213Z"
   },
   {
    "duration": 53,
    "start_time": "2023-04-19T15:16:18.909Z"
   },
   {
    "duration": 8,
    "start_time": "2023-04-19T15:16:56.455Z"
   },
   {
    "duration": 8,
    "start_time": "2023-04-19T15:17:02.209Z"
   },
   {
    "duration": 61,
    "start_time": "2023-04-19T15:17:07.142Z"
   },
   {
    "duration": 77,
    "start_time": "2023-04-19T15:17:21.439Z"
   },
   {
    "duration": 139,
    "start_time": "2023-04-19T15:17:25.943Z"
   },
   {
    "duration": 14,
    "start_time": "2023-04-19T15:41:25.385Z"
   },
   {
    "duration": 18,
    "start_time": "2023-04-19T15:42:38.057Z"
   },
   {
    "duration": 5,
    "start_time": "2023-04-19T15:43:04.248Z"
   },
   {
    "duration": 6,
    "start_time": "2023-04-19T15:43:31.745Z"
   },
   {
    "duration": 52,
    "start_time": "2023-04-19T15:43:32.624Z"
   },
   {
    "duration": 7,
    "start_time": "2023-04-19T15:44:53.291Z"
   },
   {
    "duration": 140,
    "start_time": "2023-04-19T15:44:54.025Z"
   },
   {
    "duration": 5,
    "start_time": "2023-04-19T15:59:03.999Z"
   },
   {
    "duration": 70,
    "start_time": "2023-04-19T15:59:05.296Z"
   },
   {
    "duration": 174,
    "start_time": "2023-04-19T15:59:31.690Z"
   },
   {
    "duration": 42,
    "start_time": "2023-04-19T16:00:12.694Z"
   },
   {
    "duration": 41,
    "start_time": "2023-04-19T16:00:19.599Z"
   },
   {
    "duration": 70,
    "start_time": "2023-04-19T16:00:20.288Z"
   },
   {
    "duration": 1818,
    "start_time": "2023-04-20T06:17:21.937Z"
   },
   {
    "duration": 457,
    "start_time": "2023-04-20T06:17:23.758Z"
   },
   {
    "duration": 252,
    "start_time": "2023-04-20T06:17:24.217Z"
   },
   {
    "duration": 228,
    "start_time": "2023-04-20T06:17:24.470Z"
   },
   {
    "duration": 4,
    "start_time": "2023-04-20T06:17:26.998Z"
   },
   {
    "duration": 460,
    "start_time": "2023-04-20T06:17:27.954Z"
   },
   {
    "duration": 529,
    "start_time": "2023-04-20T06:17:39.399Z"
   },
   {
    "duration": 3,
    "start_time": "2023-04-20T06:18:10.682Z"
   },
   {
    "duration": 442,
    "start_time": "2023-04-20T06:18:11.658Z"
   },
   {
    "duration": 423,
    "start_time": "2023-04-20T06:18:18.227Z"
   },
   {
    "duration": 341,
    "start_time": "2023-04-20T06:18:24.210Z"
   },
   {
    "duration": 6,
    "start_time": "2023-04-20T06:24:52.102Z"
   },
   {
    "duration": 179,
    "start_time": "2023-04-20T06:24:53.265Z"
   },
   {
    "duration": 8,
    "start_time": "2023-04-20T06:25:32.636Z"
   },
   {
    "duration": 170,
    "start_time": "2023-04-20T06:25:32.646Z"
   },
   {
    "duration": 136,
    "start_time": "2023-04-20T06:25:32.818Z"
   },
   {
    "duration": 138,
    "start_time": "2023-04-20T06:25:32.956Z"
   },
   {
    "duration": 3,
    "start_time": "2023-04-20T06:25:33.096Z"
   },
   {
    "duration": 398,
    "start_time": "2023-04-20T06:25:33.101Z"
   },
   {
    "duration": 548,
    "start_time": "2023-04-20T06:25:33.502Z"
   },
   {
    "duration": 403,
    "start_time": "2023-04-20T06:25:34.052Z"
   },
   {
    "duration": 9,
    "start_time": "2023-04-20T06:25:34.456Z"
   },
   {
    "duration": 14,
    "start_time": "2023-04-20T06:25:34.467Z"
   },
   {
    "duration": 11,
    "start_time": "2023-04-20T06:25:34.483Z"
   },
   {
    "duration": 5,
    "start_time": "2023-04-20T06:25:41.365Z"
   },
   {
    "duration": 44,
    "start_time": "2023-04-20T06:25:43.493Z"
   },
   {
    "duration": 5,
    "start_time": "2023-04-20T06:41:43.518Z"
   },
   {
    "duration": 63,
    "start_time": "2023-04-20T06:41:44.677Z"
   },
   {
    "duration": 5,
    "start_time": "2023-04-20T06:42:19.950Z"
   },
   {
    "duration": 107,
    "start_time": "2023-04-20T06:42:20.735Z"
   },
   {
    "duration": 5,
    "start_time": "2023-04-20T06:49:58.167Z"
   },
   {
    "duration": 348,
    "start_time": "2023-04-20T06:49:59.385Z"
   },
   {
    "duration": 4,
    "start_time": "2023-04-20T06:52:05.742Z"
   },
   {
    "duration": 446,
    "start_time": "2023-04-20T06:52:06.708Z"
   },
   {
    "duration": 4,
    "start_time": "2023-04-20T06:52:28.024Z"
   },
   {
    "duration": 326,
    "start_time": "2023-04-20T06:52:28.755Z"
   },
   {
    "duration": 5,
    "start_time": "2023-04-20T06:55:22.742Z"
   },
   {
    "duration": 934,
    "start_time": "2023-04-20T06:55:24.371Z"
   },
   {
    "duration": 4,
    "start_time": "2023-04-20T06:55:47.728Z"
   },
   {
    "duration": 542,
    "start_time": "2023-04-20T06:55:48.492Z"
   },
   {
    "duration": 86,
    "start_time": "2023-04-20T06:57:28.810Z"
   },
   {
    "duration": 5,
    "start_time": "2023-04-20T06:58:36.326Z"
   },
   {
    "duration": 209,
    "start_time": "2023-04-20T06:58:37.551Z"
   },
   {
    "duration": 7,
    "start_time": "2023-04-20T06:59:06.148Z"
   },
   {
    "duration": 56,
    "start_time": "2023-04-20T06:59:07.080Z"
   },
   {
    "duration": 5,
    "start_time": "2023-04-20T06:59:20.558Z"
   },
   {
    "duration": 106,
    "start_time": "2023-04-20T06:59:21.229Z"
   },
   {
    "duration": 206,
    "start_time": "2023-04-20T07:00:06.728Z"
   },
   {
    "duration": 178,
    "start_time": "2023-04-20T07:00:09.157Z"
   },
   {
    "duration": 34,
    "start_time": "2023-04-20T07:01:24.736Z"
   },
   {
    "duration": 437,
    "start_time": "2023-04-20T07:01:41.639Z"
   },
   {
    "duration": 5,
    "start_time": "2023-04-20T07:08:08.176Z"
   },
   {
    "duration": 740,
    "start_time": "2023-04-20T07:08:09.032Z"
   },
   {
    "duration": 4,
    "start_time": "2023-04-20T07:08:33.068Z"
   },
   {
    "duration": 759,
    "start_time": "2023-04-20T07:08:33.897Z"
   },
   {
    "duration": 4,
    "start_time": "2023-04-20T07:08:45.344Z"
   },
   {
    "duration": 711,
    "start_time": "2023-04-20T07:08:46.057Z"
   },
   {
    "duration": 5,
    "start_time": "2023-04-20T07:08:53.953Z"
   },
   {
    "duration": 821,
    "start_time": "2023-04-20T07:08:54.656Z"
   },
   {
    "duration": 713,
    "start_time": "2023-04-20T07:13:15.454Z"
   },
   {
    "duration": 721,
    "start_time": "2023-04-20T07:13:20.418Z"
   },
   {
    "duration": 284,
    "start_time": "2023-04-20T07:26:00.723Z"
   },
   {
    "duration": 233,
    "start_time": "2023-04-20T07:27:33.259Z"
   },
   {
    "duration": 393,
    "start_time": "2023-04-20T07:27:47.030Z"
   },
   {
    "duration": 250,
    "start_time": "2023-04-20T07:28:43.034Z"
   },
   {
    "duration": 1300,
    "start_time": "2023-04-20T07:29:03.082Z"
   },
   {
    "duration": 322,
    "start_time": "2023-04-20T07:29:26.462Z"
   },
   {
    "duration": 241,
    "start_time": "2023-04-20T07:29:55.211Z"
   },
   {
    "duration": 280,
    "start_time": "2023-04-20T07:30:13.547Z"
   },
   {
    "duration": 271,
    "start_time": "2023-04-20T07:30:30.107Z"
   },
   {
    "duration": 214,
    "start_time": "2023-04-20T07:32:05.923Z"
   },
   {
    "duration": 247,
    "start_time": "2023-04-20T07:32:21.612Z"
   },
   {
    "duration": 210,
    "start_time": "2023-04-20T07:33:54.788Z"
   },
   {
    "duration": 210,
    "start_time": "2023-04-20T07:34:39.114Z"
   },
   {
    "duration": 318,
    "start_time": "2023-04-20T07:35:04.262Z"
   },
   {
    "duration": 225,
    "start_time": "2023-04-20T07:35:12.174Z"
   },
   {
    "duration": 255,
    "start_time": "2023-04-20T07:35:59.510Z"
   },
   {
    "duration": 208,
    "start_time": "2023-04-20T07:36:18.222Z"
   },
   {
    "duration": 209,
    "start_time": "2023-04-20T07:36:19.711Z"
   },
   {
    "duration": 3,
    "start_time": "2023-04-20T08:00:31.655Z"
   },
   {
    "duration": 4,
    "start_time": "2023-04-20T08:01:25.010Z"
   },
   {
    "duration": 5,
    "start_time": "2023-04-20T08:11:24.701Z"
   },
   {
    "duration": 5,
    "start_time": "2023-04-20T08:12:05.742Z"
   },
   {
    "duration": 4,
    "start_time": "2023-04-20T08:13:01.062Z"
   },
   {
    "duration": 6,
    "start_time": "2023-04-20T08:13:54.705Z"
   },
   {
    "duration": 78,
    "start_time": "2023-04-20T08:17:01.626Z"
   },
   {
    "duration": 51,
    "start_time": "2023-04-20T08:17:17.882Z"
   },
   {
    "duration": 69,
    "start_time": "2023-04-20T08:17:23.644Z"
   },
   {
    "duration": 64,
    "start_time": "2023-04-20T08:17:40.465Z"
   },
   {
    "duration": 3,
    "start_time": "2023-04-20T08:18:48.191Z"
   },
   {
    "duration": 75,
    "start_time": "2023-04-20T08:18:57.912Z"
   },
   {
    "duration": 4,
    "start_time": "2023-04-20T08:19:09.408Z"
   },
   {
    "duration": 5,
    "start_time": "2023-04-20T08:19:10.814Z"
   },
   {
    "duration": 52,
    "start_time": "2023-04-20T08:19:11.390Z"
   },
   {
    "duration": 47,
    "start_time": "2023-04-20T08:19:24.916Z"
   },
   {
    "duration": 4,
    "start_time": "2023-04-20T08:19:32.665Z"
   },
   {
    "duration": 5,
    "start_time": "2023-04-20T08:20:14.082Z"
   },
   {
    "duration": 7,
    "start_time": "2023-04-20T08:20:32.963Z"
   },
   {
    "duration": 5,
    "start_time": "2023-04-20T08:20:43.151Z"
   },
   {
    "duration": 5,
    "start_time": "2023-04-20T08:21:05.006Z"
   },
   {
    "duration": 6,
    "start_time": "2023-04-20T08:21:14.511Z"
   },
   {
    "duration": 129,
    "start_time": "2023-04-20T08:24:12.762Z"
   },
   {
    "duration": 6,
    "start_time": "2023-04-20T08:34:47.562Z"
   },
   {
    "duration": 26,
    "start_time": "2023-04-20T08:35:08.160Z"
   },
   {
    "duration": 9,
    "start_time": "2023-04-20T08:35:22.230Z"
   },
   {
    "duration": 9,
    "start_time": "2023-04-20T08:35:22.800Z"
   },
   {
    "duration": 68,
    "start_time": "2023-04-20T08:37:05.977Z"
   },
   {
    "duration": 7,
    "start_time": "2023-04-20T08:37:37.133Z"
   },
   {
    "duration": 6,
    "start_time": "2023-04-20T08:37:55.480Z"
   },
   {
    "duration": 8,
    "start_time": "2023-04-20T08:38:48.166Z"
   },
   {
    "duration": 10,
    "start_time": "2023-04-20T08:38:49.712Z"
   },
   {
    "duration": 12,
    "start_time": "2023-04-20T08:39:48.932Z"
   },
   {
    "duration": 26,
    "start_time": "2023-04-20T08:39:49.617Z"
   },
   {
    "duration": 6,
    "start_time": "2023-04-20T08:40:15.386Z"
   },
   {
    "duration": 10,
    "start_time": "2023-04-20T08:40:17.223Z"
   },
   {
    "duration": 11,
    "start_time": "2023-04-20T08:40:24.202Z"
   },
   {
    "duration": 10,
    "start_time": "2023-04-20T08:40:25.713Z"
   },
   {
    "duration": 180,
    "start_time": "2023-04-20T08:40:41.637Z"
   },
   {
    "duration": 15,
    "start_time": "2023-04-20T08:40:49.131Z"
   },
   {
    "duration": 8,
    "start_time": "2023-04-20T08:40:49.776Z"
   },
   {
    "duration": 6,
    "start_time": "2023-04-20T08:42:05.916Z"
   },
   {
    "duration": 10,
    "start_time": "2023-04-20T08:42:06.419Z"
   },
   {
    "duration": 13,
    "start_time": "2023-04-20T08:42:16.258Z"
   },
   {
    "duration": 10,
    "start_time": "2023-04-20T08:42:28.419Z"
   },
   {
    "duration": 7,
    "start_time": "2023-04-20T08:50:15.611Z"
   },
   {
    "duration": 15,
    "start_time": "2023-04-20T08:50:16.262Z"
   },
   {
    "duration": 6,
    "start_time": "2023-04-20T08:51:22.279Z"
   },
   {
    "duration": 19,
    "start_time": "2023-04-20T08:51:22.959Z"
   },
   {
    "duration": 18,
    "start_time": "2023-04-20T08:51:24.771Z"
   },
   {
    "duration": 10,
    "start_time": "2023-04-20T08:51:25.717Z"
   },
   {
    "duration": 4,
    "start_time": "2023-04-20T09:09:58.978Z"
   },
   {
    "duration": 7,
    "start_time": "2023-04-20T09:16:03.379Z"
   },
   {
    "duration": 11,
    "start_time": "2023-04-20T09:16:04.318Z"
   },
   {
    "duration": 7,
    "start_time": "2023-04-20T09:16:25.307Z"
   },
   {
    "duration": 29,
    "start_time": "2023-04-20T09:16:38.351Z"
   },
   {
    "duration": 23,
    "start_time": "2023-04-20T09:17:04.159Z"
   },
   {
    "duration": 1227,
    "start_time": "2023-04-20T09:17:04.960Z"
   },
   {
    "duration": 9,
    "start_time": "2023-04-20T09:17:45.986Z"
   },
   {
    "duration": 8,
    "start_time": "2023-04-20T09:17:53.616Z"
   },
   {
    "duration": 1451,
    "start_time": "2023-04-20T09:17:55.666Z"
   },
   {
    "duration": 9,
    "start_time": "2023-04-20T09:18:24.506Z"
   },
   {
    "duration": 1521,
    "start_time": "2023-04-20T09:18:26.112Z"
   },
   {
    "duration": 12,
    "start_time": "2023-04-20T09:20:58.658Z"
   },
   {
    "duration": 1472,
    "start_time": "2023-04-20T09:20:59.778Z"
   },
   {
    "duration": 11,
    "start_time": "2023-04-20T09:24:50.516Z"
   },
   {
    "duration": 1518,
    "start_time": "2023-04-20T09:24:51.291Z"
   },
   {
    "duration": 8,
    "start_time": "2023-04-20T09:24:58.795Z"
   },
   {
    "duration": 1217,
    "start_time": "2023-04-20T09:24:59.462Z"
   },
   {
    "duration": 8,
    "start_time": "2023-04-20T09:36:14.503Z"
   },
   {
    "duration": 1396,
    "start_time": "2023-04-20T09:36:15.257Z"
   },
   {
    "duration": 8,
    "start_time": "2023-04-20T09:36:48.311Z"
   },
   {
    "duration": 1467,
    "start_time": "2023-04-20T09:36:49.926Z"
   },
   {
    "duration": 289,
    "start_time": "2023-04-20T09:37:20.666Z"
   },
   {
    "duration": 1315,
    "start_time": "2023-04-20T09:37:21.352Z"
   },
   {
    "duration": 16,
    "start_time": "2023-04-20T09:37:44.261Z"
   },
   {
    "duration": 1329,
    "start_time": "2023-04-20T09:37:45.110Z"
   },
   {
    "duration": 16,
    "start_time": "2023-04-20T09:38:42.555Z"
   },
   {
    "duration": 1207,
    "start_time": "2023-04-20T09:38:43.302Z"
   },
   {
    "duration": 7,
    "start_time": "2023-04-20T09:38:56.696Z"
   },
   {
    "duration": 1247,
    "start_time": "2023-04-20T09:38:57.390Z"
   },
   {
    "duration": 5,
    "start_time": "2023-04-20T09:44:45.050Z"
   },
   {
    "duration": 15,
    "start_time": "2023-04-20T09:44:49.255Z"
   },
   {
    "duration": 1978,
    "start_time": "2023-04-20T09:44:50.961Z"
   },
   {
    "duration": 10,
    "start_time": "2023-04-20T09:45:15.794Z"
   },
   {
    "duration": 2236,
    "start_time": "2023-04-20T09:45:16.561Z"
   },
   {
    "duration": 7,
    "start_time": "2023-04-20T09:46:05.597Z"
   },
   {
    "duration": 2133,
    "start_time": "2023-04-20T09:46:06.756Z"
   },
   {
    "duration": 7,
    "start_time": "2023-04-20T09:46:48.279Z"
   },
   {
    "duration": 2166,
    "start_time": "2023-04-20T09:46:49.012Z"
   },
   {
    "duration": 8,
    "start_time": "2023-04-20T09:47:09.367Z"
   },
   {
    "duration": 2065,
    "start_time": "2023-04-20T09:47:10.258Z"
   },
   {
    "duration": 1856,
    "start_time": "2023-04-20T09:49:51.556Z"
   },
   {
    "duration": 1942,
    "start_time": "2023-04-20T09:50:08.765Z"
   },
   {
    "duration": 4,
    "start_time": "2023-04-20T09:57:39.954Z"
   },
   {
    "duration": 9,
    "start_time": "2023-04-20T09:57:40.753Z"
   },
   {
    "duration": 1933,
    "start_time": "2023-04-20T09:57:41.920Z"
   },
   {
    "duration": 9,
    "start_time": "2023-04-20T10:04:33.625Z"
   },
   {
    "duration": 18,
    "start_time": "2023-04-20T10:04:39.553Z"
   },
   {
    "duration": 132,
    "start_time": "2023-04-20T10:05:04.459Z"
   },
   {
    "duration": 82,
    "start_time": "2023-04-20T10:05:13.810Z"
   },
   {
    "duration": 4,
    "start_time": "2023-04-20T10:05:28.440Z"
   },
   {
    "duration": 6,
    "start_time": "2023-04-20T10:05:29.560Z"
   },
   {
    "duration": 1807,
    "start_time": "2023-04-20T10:05:30.849Z"
   },
   {
    "duration": 2170,
    "start_time": "2023-04-20T10:05:58.652Z"
   },
   {
    "duration": 1698,
    "start_time": "2023-04-20T10:06:04.163Z"
   },
   {
    "duration": 1718,
    "start_time": "2023-04-20T10:06:10.855Z"
   },
   {
    "duration": 1991,
    "start_time": "2023-04-20T10:06:19.374Z"
   },
   {
    "duration": 2037,
    "start_time": "2023-04-20T10:09:00.222Z"
   },
   {
    "duration": 2056,
    "start_time": "2023-04-20T10:09:37.045Z"
   },
   {
    "duration": 1988,
    "start_time": "2023-04-20T10:09:51.328Z"
   },
   {
    "duration": 2004,
    "start_time": "2023-04-20T10:11:23.115Z"
   },
   {
    "duration": 1838,
    "start_time": "2023-04-20T10:11:34.752Z"
   },
   {
    "duration": 1882,
    "start_time": "2023-04-20T10:12:21.918Z"
   },
   {
    "duration": 1830,
    "start_time": "2023-04-20T10:12:54.673Z"
   },
   {
    "duration": 1867,
    "start_time": "2023-04-20T10:13:08.013Z"
   },
   {
    "duration": 6,
    "start_time": "2023-04-20T10:17:59.502Z"
   },
   {
    "duration": 1816,
    "start_time": "2023-04-20T10:18:01.076Z"
   },
   {
    "duration": 1763,
    "start_time": "2023-04-20T10:18:31.823Z"
   },
   {
    "duration": 1608,
    "start_time": "2023-04-20T10:20:11.690Z"
   },
   {
    "duration": 1683,
    "start_time": "2023-04-20T10:21:02.714Z"
   },
   {
    "duration": 1729,
    "start_time": "2023-04-20T10:21:22.560Z"
   },
   {
    "duration": 1748,
    "start_time": "2023-04-20T10:22:08.061Z"
   },
   {
    "duration": 1861,
    "start_time": "2023-04-20T10:22:11.926Z"
   },
   {
    "duration": 1811,
    "start_time": "2023-04-20T10:22:15.609Z"
   },
   {
    "duration": 4,
    "start_time": "2023-04-20T10:24:06.637Z"
   },
   {
    "duration": 10,
    "start_time": "2023-04-20T10:24:07.528Z"
   },
   {
    "duration": 1794,
    "start_time": "2023-04-20T10:24:08.603Z"
   },
   {
    "duration": 10,
    "start_time": "2023-04-20T10:24:38.531Z"
   },
   {
    "duration": 1862,
    "start_time": "2023-04-20T10:24:39.461Z"
   },
   {
    "duration": 6,
    "start_time": "2023-04-20T10:25:34.572Z"
   },
   {
    "duration": 1907,
    "start_time": "2023-04-20T10:25:35.773Z"
   },
   {
    "duration": 1928,
    "start_time": "2023-04-20T10:26:08.991Z"
   },
   {
    "duration": 1739,
    "start_time": "2023-04-20T10:26:31.619Z"
   },
   {
    "duration": 1840,
    "start_time": "2023-04-20T10:26:47.282Z"
   },
   {
    "duration": 1894,
    "start_time": "2023-04-20T10:26:51.470Z"
   },
   {
    "duration": 7,
    "start_time": "2023-04-20T10:53:10.946Z"
   },
   {
    "duration": 163,
    "start_time": "2023-04-20T10:53:10.955Z"
   },
   {
    "duration": 147,
    "start_time": "2023-04-20T10:53:11.120Z"
   },
   {
    "duration": 186,
    "start_time": "2023-04-20T10:53:11.269Z"
   },
   {
    "duration": 4,
    "start_time": "2023-04-20T10:53:11.457Z"
   },
   {
    "duration": 729,
    "start_time": "2023-04-20T10:53:11.463Z"
   },
   {
    "duration": 787,
    "start_time": "2023-04-20T10:53:12.195Z"
   },
   {
    "duration": 991,
    "start_time": "2023-04-20T10:53:12.984Z"
   },
   {
    "duration": 6,
    "start_time": "2023-04-20T10:53:13.977Z"
   },
   {
    "duration": 9,
    "start_time": "2023-04-20T10:53:13.985Z"
   },
   {
    "duration": 10,
    "start_time": "2023-04-20T10:53:13.997Z"
   },
   {
    "duration": 41,
    "start_time": "2023-04-20T10:53:14.009Z"
   },
   {
    "duration": 89,
    "start_time": "2023-04-20T10:53:14.065Z"
   },
   {
    "duration": 186,
    "start_time": "2023-04-20T10:53:14.156Z"
   },
   {
    "duration": 203,
    "start_time": "2023-04-20T10:53:14.344Z"
   },
   {
    "duration": 405,
    "start_time": "2023-04-20T10:53:14.555Z"
   },
   {
    "duration": 476,
    "start_time": "2023-04-20T10:53:14.966Z"
   },
   {
    "duration": 323,
    "start_time": "2023-04-20T10:53:15.448Z"
   },
   {
    "duration": 267,
    "start_time": "2023-04-20T10:53:15.773Z"
   },
   {
    "duration": 16,
    "start_time": "2023-04-20T10:53:16.042Z"
   },
   {
    "duration": 25,
    "start_time": "2023-04-20T10:53:16.062Z"
   },
   {
    "duration": 12,
    "start_time": "2023-04-20T10:53:16.090Z"
   },
   {
    "duration": 13,
    "start_time": "2023-04-20T10:53:16.105Z"
   },
   {
    "duration": 18,
    "start_time": "2023-04-20T10:53:16.121Z"
   },
   {
    "duration": 23,
    "start_time": "2023-04-20T10:53:16.146Z"
   },
   {
    "duration": 14,
    "start_time": "2023-04-20T10:53:16.172Z"
   },
   {
    "duration": 9,
    "start_time": "2023-04-20T10:53:16.188Z"
   },
   {
    "duration": 9,
    "start_time": "2023-04-20T10:53:16.199Z"
   },
   {
    "duration": 4,
    "start_time": "2023-04-20T10:53:16.212Z"
   },
   {
    "duration": 19,
    "start_time": "2023-04-20T10:53:16.218Z"
   },
   {
    "duration": 2017,
    "start_time": "2023-04-20T10:53:16.239Z"
   },
   {
    "duration": 1963,
    "start_time": "2023-04-20T10:53:18.261Z"
   },
   {
    "duration": 2157,
    "start_time": "2023-04-20T10:53:20.226Z"
   },
   {
    "duration": 1877,
    "start_time": "2023-04-20T10:55:09.826Z"
   },
   {
    "duration": 9,
    "start_time": "2023-04-20T10:55:54.071Z"
   },
   {
    "duration": 2428,
    "start_time": "2023-04-20T10:55:55.131Z"
   },
   {
    "duration": 1991,
    "start_time": "2023-04-20T10:55:59.233Z"
   },
   {
    "duration": 2036,
    "start_time": "2023-04-20T10:56:04.169Z"
   },
   {
    "duration": 1731,
    "start_time": "2023-04-20T10:56:10.385Z"
   },
   {
    "duration": 1832,
    "start_time": "2023-04-20T10:56:14.760Z"
   },
   {
    "duration": 1573,
    "start_time": "2023-04-20T10:57:50.385Z"
   },
   {
    "duration": 1943,
    "start_time": "2023-04-20T11:12:43.696Z"
   },
   {
    "duration": 254,
    "start_time": "2023-04-20T11:12:45.642Z"
   },
   {
    "duration": 208,
    "start_time": "2023-04-20T11:12:45.902Z"
   },
   {
    "duration": 190,
    "start_time": "2023-04-20T11:12:46.111Z"
   },
   {
    "duration": 5,
    "start_time": "2023-04-20T11:12:46.304Z"
   },
   {
    "duration": 1020,
    "start_time": "2023-04-20T11:12:46.311Z"
   },
   {
    "duration": 1141,
    "start_time": "2023-04-20T11:12:47.333Z"
   },
   {
    "duration": 893,
    "start_time": "2023-04-20T11:12:48.485Z"
   },
   {
    "duration": 8,
    "start_time": "2023-04-20T11:12:49.380Z"
   },
   {
    "duration": 25,
    "start_time": "2023-04-20T11:12:49.390Z"
   },
   {
    "duration": 25,
    "start_time": "2023-04-20T11:12:49.417Z"
   },
   {
    "duration": 50,
    "start_time": "2023-04-20T11:12:49.444Z"
   },
   {
    "duration": 206,
    "start_time": "2023-04-20T11:12:49.497Z"
   },
   {
    "duration": 0,
    "start_time": "2023-04-20T11:12:49.706Z"
   },
   {
    "duration": 0,
    "start_time": "2023-04-20T11:12:49.708Z"
   },
   {
    "duration": 0,
    "start_time": "2023-04-20T11:12:49.709Z"
   },
   {
    "duration": 0,
    "start_time": "2023-04-20T11:12:49.711Z"
   },
   {
    "duration": 0,
    "start_time": "2023-04-20T11:12:49.713Z"
   },
   {
    "duration": 0,
    "start_time": "2023-04-20T11:12:49.714Z"
   },
   {
    "duration": 0,
    "start_time": "2023-04-20T11:12:49.715Z"
   },
   {
    "duration": 0,
    "start_time": "2023-04-20T11:12:49.717Z"
   },
   {
    "duration": 0,
    "start_time": "2023-04-20T11:12:49.718Z"
   },
   {
    "duration": 0,
    "start_time": "2023-04-20T11:12:49.719Z"
   },
   {
    "duration": 0,
    "start_time": "2023-04-20T11:12:49.733Z"
   },
   {
    "duration": 0,
    "start_time": "2023-04-20T11:12:49.735Z"
   },
   {
    "duration": 0,
    "start_time": "2023-04-20T11:12:49.739Z"
   },
   {
    "duration": 0,
    "start_time": "2023-04-20T11:12:49.741Z"
   },
   {
    "duration": 0,
    "start_time": "2023-04-20T11:12:49.743Z"
   },
   {
    "duration": 0,
    "start_time": "2023-04-20T11:12:49.745Z"
   },
   {
    "duration": 0,
    "start_time": "2023-04-20T11:12:49.749Z"
   },
   {
    "duration": 0,
    "start_time": "2023-04-20T11:12:49.751Z"
   },
   {
    "duration": 0,
    "start_time": "2023-04-20T11:12:49.752Z"
   },
   {
    "duration": 1,
    "start_time": "2023-04-20T11:12:49.758Z"
   },
   {
    "duration": 1580,
    "start_time": "2023-04-20T11:34:49.087Z"
   },
   {
    "duration": 216,
    "start_time": "2023-04-20T11:34:50.673Z"
   },
   {
    "duration": 174,
    "start_time": "2023-04-20T11:34:50.894Z"
   },
   {
    "duration": 159,
    "start_time": "2023-04-20T11:34:51.070Z"
   },
   {
    "duration": 8,
    "start_time": "2023-04-20T11:34:51.231Z"
   },
   {
    "duration": 965,
    "start_time": "2023-04-20T11:34:51.242Z"
   },
   {
    "duration": 1019,
    "start_time": "2023-04-20T11:34:52.209Z"
   },
   {
    "duration": 899,
    "start_time": "2023-04-20T11:34:53.230Z"
   },
   {
    "duration": 10,
    "start_time": "2023-04-20T11:34:54.130Z"
   },
   {
    "duration": 61,
    "start_time": "2023-04-20T11:34:54.146Z"
   },
   {
    "duration": 14,
    "start_time": "2023-04-20T11:34:54.210Z"
   },
   {
    "duration": 39,
    "start_time": "2023-04-20T11:34:54.226Z"
   },
   {
    "duration": 210,
    "start_time": "2023-04-20T11:34:54.273Z"
   },
   {
    "duration": 159,
    "start_time": "2023-04-20T11:34:54.490Z"
   },
   {
    "duration": 187,
    "start_time": "2023-04-20T11:34:54.653Z"
   },
   {
    "duration": 553,
    "start_time": "2023-04-20T11:34:54.842Z"
   },
   {
    "duration": 407,
    "start_time": "2023-04-20T11:34:55.397Z"
   },
   {
    "duration": 307,
    "start_time": "2023-04-20T11:34:55.805Z"
   },
   {
    "duration": 284,
    "start_time": "2023-04-20T11:34:56.114Z"
   },
   {
    "duration": 3,
    "start_time": "2023-04-20T11:34:56.400Z"
   },
   {
    "duration": 8,
    "start_time": "2023-04-20T11:34:56.405Z"
   },
   {
    "duration": 29,
    "start_time": "2023-04-20T11:34:56.415Z"
   },
   {
    "duration": 45,
    "start_time": "2023-04-20T11:34:56.450Z"
   },
   {
    "duration": 12,
    "start_time": "2023-04-20T11:34:56.497Z"
   },
   {
    "duration": 9,
    "start_time": "2023-04-20T11:34:56.510Z"
   },
   {
    "duration": 14,
    "start_time": "2023-04-20T11:34:56.521Z"
   },
   {
    "duration": 45,
    "start_time": "2023-04-20T11:34:56.546Z"
   },
   {
    "duration": 14,
    "start_time": "2023-04-20T11:34:56.593Z"
   },
   {
    "duration": 4,
    "start_time": "2023-04-20T11:34:56.610Z"
   },
   {
    "duration": 8,
    "start_time": "2023-04-20T11:34:56.616Z"
   },
   {
    "duration": 2047,
    "start_time": "2023-04-20T11:34:56.626Z"
   },
   {
    "duration": 1847,
    "start_time": "2023-04-20T11:34:58.675Z"
   },
   {
    "duration": 2035,
    "start_time": "2023-04-20T11:35:00.524Z"
   },
   {
    "duration": 19,
    "start_time": "2023-04-20T11:35:10.130Z"
   },
   {
    "duration": 8,
    "start_time": "2023-04-20T11:52:55.294Z"
   },
   {
    "duration": 206,
    "start_time": "2023-04-20T11:52:55.305Z"
   },
   {
    "duration": 171,
    "start_time": "2023-04-20T11:52:55.513Z"
   },
   {
    "duration": 156,
    "start_time": "2023-04-20T11:52:55.693Z"
   },
   {
    "duration": 11,
    "start_time": "2023-04-20T11:52:55.853Z"
   },
   {
    "duration": 951,
    "start_time": "2023-04-20T11:52:55.865Z"
   },
   {
    "duration": 894,
    "start_time": "2023-04-20T11:52:56.818Z"
   },
   {
    "duration": 988,
    "start_time": "2023-04-20T11:52:57.714Z"
   },
   {
    "duration": 10,
    "start_time": "2023-04-20T11:52:58.704Z"
   },
   {
    "duration": 12,
    "start_time": "2023-04-20T11:52:58.716Z"
   },
   {
    "duration": 79,
    "start_time": "2023-04-20T11:52:58.730Z"
   },
   {
    "duration": 7,
    "start_time": "2023-04-20T11:54:32.215Z"
   },
   {
    "duration": 87,
    "start_time": "2023-04-20T11:54:36.781Z"
   },
   {
    "duration": 90,
    "start_time": "2023-04-20T11:54:41.670Z"
   },
   {
    "duration": 66,
    "start_time": "2023-04-20T11:54:45.285Z"
   },
   {
    "duration": 2,
    "start_time": "2023-04-20T11:56:14.455Z"
   },
   {
    "duration": 3,
    "start_time": "2023-04-20T11:56:18.975Z"
   },
   {
    "duration": 4,
    "start_time": "2023-04-20T11:56:24.126Z"
   },
   {
    "duration": 415,
    "start_time": "2023-04-20T11:56:28.473Z"
   },
   {
    "duration": 317,
    "start_time": "2023-04-20T11:56:46.405Z"
   },
   {
    "duration": 319,
    "start_time": "2023-04-20T11:56:47.724Z"
   },
   {
    "duration": 471,
    "start_time": "2023-04-20T11:56:50.953Z"
   },
   {
    "duration": 4,
    "start_time": "2023-04-20T11:57:31.977Z"
   },
   {
    "duration": 5,
    "start_time": "2023-04-20T11:57:33.308Z"
   },
   {
    "duration": 12,
    "start_time": "2023-04-20T11:57:34.944Z"
   },
   {
    "duration": 8,
    "start_time": "2023-04-20T11:57:36.131Z"
   },
   {
    "duration": 7,
    "start_time": "2023-04-20T12:03:20.881Z"
   },
   {
    "duration": 15,
    "start_time": "2023-04-20T12:03:23.088Z"
   },
   {
    "duration": 21,
    "start_time": "2023-04-20T12:03:25.756Z"
   },
   {
    "duration": 38,
    "start_time": "2023-04-20T12:03:26.952Z"
   },
   {
    "duration": 9,
    "start_time": "2023-04-20T12:04:27.277Z"
   },
   {
    "duration": 20,
    "start_time": "2023-04-20T12:05:29.181Z"
   },
   {
    "duration": 4418,
    "start_time": "2023-04-20T12:06:04.809Z"
   },
   {
    "duration": 22,
    "start_time": "2023-04-20T12:07:04.254Z"
   },
   {
    "duration": 3211,
    "start_time": "2023-04-20T12:07:06.991Z"
   },
   {
    "duration": 2866,
    "start_time": "2023-04-20T12:07:15.450Z"
   },
   {
    "duration": 2903,
    "start_time": "2023-04-20T12:07:20.796Z"
   },
   {
    "duration": 12,
    "start_time": "2023-04-20T12:20:12.086Z"
   },
   {
    "duration": 86,
    "start_time": "2023-04-20T12:20:16.089Z"
   },
   {
    "duration": 6,
    "start_time": "2023-04-20T12:20:59.191Z"
   },
   {
    "duration": 42,
    "start_time": "2023-04-20T12:21:02.255Z"
   },
   {
    "duration": 7,
    "start_time": "2023-04-20T12:22:06.298Z"
   },
   {
    "duration": 23,
    "start_time": "2023-04-20T12:22:10.407Z"
   },
   {
    "duration": 9,
    "start_time": "2023-04-20T12:22:30.620Z"
   },
   {
    "duration": 2107,
    "start_time": "2023-04-20T12:22:33.287Z"
   },
   {
    "duration": 1920,
    "start_time": "2023-04-20T12:23:15.179Z"
   },
   {
    "duration": 1898,
    "start_time": "2023-04-20T12:23:21.186Z"
   },
   {
    "duration": 1652,
    "start_time": "2023-04-21T07:55:27.452Z"
   },
   {
    "duration": 156,
    "start_time": "2023-04-21T07:55:29.108Z"
   },
   {
    "duration": 128,
    "start_time": "2023-04-21T07:55:29.266Z"
   },
   {
    "duration": 127,
    "start_time": "2023-04-21T07:55:29.396Z"
   },
   {
    "duration": 4,
    "start_time": "2023-04-21T07:55:29.525Z"
   },
   {
    "duration": 862,
    "start_time": "2023-04-21T07:55:29.531Z"
   },
   {
    "duration": 820,
    "start_time": "2023-04-21T07:55:30.395Z"
   },
   {
    "duration": 752,
    "start_time": "2023-04-21T07:55:31.217Z"
   },
   {
    "duration": 7,
    "start_time": "2023-04-21T07:55:31.971Z"
   },
   {
    "duration": 17,
    "start_time": "2023-04-21T07:55:31.981Z"
   },
   {
    "duration": 23,
    "start_time": "2023-04-21T07:55:32.000Z"
   },
   {
    "duration": 21,
    "start_time": "2023-04-21T07:55:32.025Z"
   },
   {
    "duration": 36,
    "start_time": "2023-04-21T07:55:32.048Z"
   },
   {
    "duration": 16,
    "start_time": "2023-04-21T07:55:32.086Z"
   },
   {
    "duration": 5,
    "start_time": "2023-04-21T07:55:32.104Z"
   },
   {
    "duration": 413,
    "start_time": "2023-04-21T07:55:32.111Z"
   },
   {
    "duration": 393,
    "start_time": "2023-04-21T07:55:32.526Z"
   },
   {
    "duration": 241,
    "start_time": "2023-04-21T07:55:32.920Z"
   },
   {
    "duration": 246,
    "start_time": "2023-04-21T07:55:33.163Z"
   },
   {
    "duration": 3,
    "start_time": "2023-04-21T07:55:33.411Z"
   },
   {
    "duration": 6,
    "start_time": "2023-04-21T07:55:33.416Z"
   },
   {
    "duration": 6,
    "start_time": "2023-04-21T07:55:33.424Z"
   },
   {
    "duration": 5,
    "start_time": "2023-04-21T07:55:33.432Z"
   },
   {
    "duration": 5,
    "start_time": "2023-04-21T07:55:33.438Z"
   },
   {
    "duration": 5,
    "start_time": "2023-04-21T07:55:33.445Z"
   },
   {
    "duration": 43,
    "start_time": "2023-04-21T07:55:33.452Z"
   },
   {
    "duration": 11,
    "start_time": "2023-04-21T07:55:33.497Z"
   },
   {
    "duration": 11,
    "start_time": "2023-04-21T07:55:33.511Z"
   },
   {
    "duration": 11,
    "start_time": "2023-04-21T07:55:33.524Z"
   },
   {
    "duration": 4,
    "start_time": "2023-04-21T07:55:33.537Z"
   },
   {
    "duration": 5,
    "start_time": "2023-04-21T07:55:33.542Z"
   },
   {
    "duration": 1495,
    "start_time": "2023-04-21T07:55:33.549Z"
   },
   {
    "duration": 1469,
    "start_time": "2023-04-21T07:55:35.046Z"
   },
   {
    "duration": 1553,
    "start_time": "2023-04-21T07:55:36.517Z"
   }
  ],
  "kernelspec": {
   "display_name": "Python 3 (ipykernel)",
   "language": "python",
   "name": "python3"
  },
  "language_info": {
   "codemirror_mode": {
    "name": "ipython",
    "version": 3
   },
   "file_extension": ".py",
   "mimetype": "text/x-python",
   "name": "python",
   "nbconvert_exporter": "python",
   "pygments_lexer": "ipython3",
   "version": "3.9.5"
  },
  "toc": {
   "base_numbering": 1,
   "nav_menu": {
    "height": "221px",
    "width": "259px"
   },
   "number_sections": true,
   "sideBar": true,
   "skip_h1_title": true,
   "title_cell": "Table of Contents",
   "title_sidebar": "Contents",
   "toc_cell": false,
   "toc_position": {
    "height": "calc(100% - 180px)",
    "left": "10px",
    "top": "150px",
    "width": "270px"
   },
   "toc_section_display": true,
   "toc_window_display": true
  }
 },
 "nbformat": 4,
 "nbformat_minor": 2
}
