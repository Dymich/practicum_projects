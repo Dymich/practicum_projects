{
 "cells": [
  {
   "cell_type": "markdown",
   "metadata": {},
   "source": [
    "<div style=\"border:solid Green 2px; padding: 40px\">\n",
    "    <b> Привет, Евгения!</b>🌸<br/>\n",
    "    <p>Меня зовут София, я буду ревьюером твоего проекта. Предлагаю обращаться на \"ты\", но если это неудобноо - дай знать, и мы перейдем на \"вы\".</p>\n",
    "    <p>Для удобства мои комментарии в твоей работе раскрашены разными цветами:</p>\n",
    "    <br/>\n",
    "<div class=\"alert alert-success\">\n",
    "    <b> ✅**Комментарий ревьюера** </b>\n",
    "        <p>Такой комментарий означает что решение на отдельном шаге является полностью правильным и я хочу тебя похвалить за отлично выполненную работу. На решения, отмеченные этим комментарием, можно опираться в будущих проектах. </p>\n",
    "</div>\n",
    "    <br/>\n",
    "<div class=\"alert alert-warning\">\n",
    "    <b>💡**Комментарий ревьюера** </b>\n",
    "    <p> Такой комментарий я оставляю в случае, когда решение на отдельном шаге станет еще лучше, если внести небольшие коррективы. Ты можешь учесть эти комментарии при выполнении будущих заданий или доработать проект сейчас (однако это не обязательно). </p>\n",
    "</div>\n",
    "    <br/>\n",
    "<div class=\"alert alert-block alert-danger\">\n",
    "    <b> ❌**Комментарий ревьюера** </b> \n",
    "    <p> Такой комментарий оставлен в случае, когда решение на отдельном шаге требует существенной переработки и внесения правок. Проект не может быть принят пока есть, то что которые нужно доработать. </p>\n",
    "</div>\n",
    "      <p> Чтобы мы могли вместе эффективнее учиться и развиваться — оставляй свои комментарии и задавай вопросы. Для таких случаев, пожалуйста, выбери собственное оформление комментариев, которое будет отличаться от моего, чтобы не создавать путаницы:</p>\n",
    "    <div class=\"alert alert-info\"> <b>Комментарий студента:</b> Например, такое.</div>\n",
    "    <p>По этой же причине попрошу тебя не удалять и не изменять мои комментарии. Все это позволит лучше ориентироваться в нашем с тобой диалоге, а повторную проверку (в случае ее необходимости) выполнять оперативнее. </p>\n",
    "<p>Не спеши расстраиваться, если что-то не удалось с первого раза. Мы обязательно вместе разберемся со всеми трудностями! </p>\n",
    "</div>"
   ]
  },
  {
   "cell_type": "markdown",
   "metadata": {
    "toc": true
   },
   "source": [
    "<h1>Содержание<span class=\"tocSkip\"></span></h1>\n",
    "<div class=\"toc\"><ul class=\"toc-item\"><li><span><a href=\"#Загрузка-данных\" data-toc-modified-id=\"Загрузка-данных-1\"><span class=\"toc-item-num\">1&nbsp;&nbsp;</span>Загрузка данных</a></span><ul class=\"toc-item\"><li><span><a href=\"#Импортируем-библиотеки\" data-toc-modified-id=\"Импортируем-библиотеки-1.1\"><span class=\"toc-item-num\">1.1&nbsp;&nbsp;</span>Импортируем библиотеки</a></span></li><li><span><a href=\"#Загрузим-данные\" data-toc-modified-id=\"Загрузим-данные-1.2\"><span class=\"toc-item-num\">1.2&nbsp;&nbsp;</span>Загрузим данные</a></span></li><li><span><a href=\"#Исследуем-данные\" data-toc-modified-id=\"Исследуем-данные-1.3\"><span class=\"toc-item-num\">1.3&nbsp;&nbsp;</span>Исследуем данные</a></span></li></ul></li><li><span><a href=\"#Умножение-матриц\" data-toc-modified-id=\"Умножение-матриц-2\"><span class=\"toc-item-num\">2&nbsp;&nbsp;</span>Умножение матриц</a></span></li><li><span><a href=\"#Алгоритм-преобразования\" data-toc-modified-id=\"Алгоритм-преобразования-3\"><span class=\"toc-item-num\">3&nbsp;&nbsp;</span>Алгоритм преобразования</a></span></li><li><span><a href=\"#Проверка-алгоритма\" data-toc-modified-id=\"Проверка-алгоритма-4\"><span class=\"toc-item-num\">4&nbsp;&nbsp;</span>Проверка алгоритма</a></span><ul class=\"toc-item\"><li><span><a href=\"#Вывод\" data-toc-modified-id=\"Вывод-4.1\"><span class=\"toc-item-num\">4.1&nbsp;&nbsp;</span>Вывод</a></span></li></ul></li><li><span><a href=\"#Чек-лист-проверки\" data-toc-modified-id=\"Чек-лист-проверки-5\"><span class=\"toc-item-num\">5&nbsp;&nbsp;</span>Чек-лист проверки</a></span></li></ul></div>"
   ]
  },
  {
   "cell_type": "markdown",
   "metadata": {},
   "source": [
    "# Защита персональных данных клиентов"
   ]
  },
  {
   "cell_type": "markdown",
   "metadata": {},
   "source": [
    "Вам нужно защитить данные клиентов страховой компании «Хоть потоп». Разработайте такой метод преобразования данных, чтобы по ним было сложно восстановить персональную информацию. Обоснуйте корректность его работы.\n",
    "\n",
    "Нужно защитить данные, чтобы при преобразовании качество моделей машинного обучения не ухудшилось. Подбирать наилучшую модель не требуется."
   ]
  },
  {
   "cell_type": "markdown",
   "metadata": {},
   "source": [
    "<div class=\"alert alert-success\">\n",
    "    <b> ✅**Комментарий ревьюера** </b>\n",
    "        <p>Отлично, что есть содержание в начале, по нему можно удобно ориентироваться в проекте.</p>\n",
    "</div>"
   ]
  },
  {
   "cell_type": "markdown",
   "metadata": {},
   "source": [
    "## Загрузка данных"
   ]
  },
  {
   "cell_type": "markdown",
   "metadata": {},
   "source": [
    "### Импортируем библиотеки"
   ]
  },
  {
   "cell_type": "code",
   "execution_count": 1,
   "metadata": {},
   "outputs": [],
   "source": [
    "import pandas as pd\n",
    "import numpy as np\n",
    "\n",
    "from sklearn.linear_model import LinearRegression\n",
    "\n",
    "from sklearn.model_selection import train_test_split\n",
    "\n",
    "from sklearn.metrics import r2_score\n",
    "\n",
    "import matplotlib.pyplot as plt\n",
    "import seaborn as sns\n",
    "\n",
    "%matplotlib inline\n",
    "import warnings\n",
    "warnings.filterwarnings(\"ignore\")"
   ]
  },
  {
   "cell_type": "markdown",
   "metadata": {},
   "source": [
    "<div class=\"alert alert-success\">\n",
    "    <b> ✅**Комментарий ревьюера** </b>\n",
    "        <p>Отлично, что импорты корректно собраны в начале проекта: это соответствует стилевым рекомендациям (PEP 8), а также это удобно в работе (сразу видны используемые библиотеки и что надо доустановить в случае чего). </p>\n",
    "</div>"
   ]
  },
  {
   "cell_type": "markdown",
   "metadata": {},
   "source": [
    "### Загрузим данные"
   ]
  },
  {
   "cell_type": "code",
   "execution_count": 2,
   "metadata": {},
   "outputs": [
    {
     "data": {
      "text/html": [
       "<div>\n",
       "<style scoped>\n",
       "    .dataframe tbody tr th:only-of-type {\n",
       "        vertical-align: middle;\n",
       "    }\n",
       "\n",
       "    .dataframe tbody tr th {\n",
       "        vertical-align: top;\n",
       "    }\n",
       "\n",
       "    .dataframe thead th {\n",
       "        text-align: right;\n",
       "    }\n",
       "</style>\n",
       "<table border=\"1\" class=\"dataframe\">\n",
       "  <thead>\n",
       "    <tr style=\"text-align: right;\">\n",
       "      <th></th>\n",
       "      <th>Пол</th>\n",
       "      <th>Возраст</th>\n",
       "      <th>Зарплата</th>\n",
       "      <th>Члены семьи</th>\n",
       "      <th>Страховые выплаты</th>\n",
       "    </tr>\n",
       "  </thead>\n",
       "  <tbody>\n",
       "    <tr>\n",
       "      <th>0</th>\n",
       "      <td>1</td>\n",
       "      <td>41.0</td>\n",
       "      <td>49600.0</td>\n",
       "      <td>1</td>\n",
       "      <td>0</td>\n",
       "    </tr>\n",
       "    <tr>\n",
       "      <th>1</th>\n",
       "      <td>0</td>\n",
       "      <td>46.0</td>\n",
       "      <td>38000.0</td>\n",
       "      <td>1</td>\n",
       "      <td>1</td>\n",
       "    </tr>\n",
       "    <tr>\n",
       "      <th>2</th>\n",
       "      <td>0</td>\n",
       "      <td>29.0</td>\n",
       "      <td>21000.0</td>\n",
       "      <td>0</td>\n",
       "      <td>0</td>\n",
       "    </tr>\n",
       "    <tr>\n",
       "      <th>3</th>\n",
       "      <td>0</td>\n",
       "      <td>21.0</td>\n",
       "      <td>41700.0</td>\n",
       "      <td>2</td>\n",
       "      <td>0</td>\n",
       "    </tr>\n",
       "    <tr>\n",
       "      <th>4</th>\n",
       "      <td>1</td>\n",
       "      <td>28.0</td>\n",
       "      <td>26100.0</td>\n",
       "      <td>0</td>\n",
       "      <td>0</td>\n",
       "    </tr>\n",
       "  </tbody>\n",
       "</table>\n",
       "</div>"
      ],
      "text/plain": [
       "   Пол  Возраст  Зарплата  Члены семьи  Страховые выплаты\n",
       "0    1     41.0   49600.0            1                  0\n",
       "1    0     46.0   38000.0            1                  1\n",
       "2    0     29.0   21000.0            0                  0\n",
       "3    0     21.0   41700.0            2                  0\n",
       "4    1     28.0   26100.0            0                  0"
      ]
     },
     "execution_count": 2,
     "metadata": {},
     "output_type": "execute_result"
    }
   ],
   "source": [
    "try:\n",
    "    df = pd.read_csv('/datasets/insurance.csv')\n",
    "except:\n",
    "    df = pd.read_csv('https://code.s3.yandex.net/datasets/insurance.csv')\n",
    "df.head()"
   ]
  },
  {
   "cell_type": "markdown",
   "metadata": {},
   "source": [
    "### Исследуем данные"
   ]
  },
  {
   "cell_type": "markdown",
   "metadata": {},
   "source": [
    "Функция для проверки на дубликаты, пропущенные значения"
   ]
  },
  {
   "cell_type": "code",
   "execution_count": 3,
   "metadata": {},
   "outputs": [],
   "source": [
    "def dfs(df):\n",
    "    print(df.info())\n",
    "    print('\\n\\nДубликаты:', df.duplicated().sum())\n",
    "    "
   ]
  },
  {
   "cell_type": "code",
   "execution_count": 4,
   "metadata": {},
   "outputs": [
    {
     "name": "stdout",
     "output_type": "stream",
     "text": [
      "<class 'pandas.core.frame.DataFrame'>\n",
      "RangeIndex: 5000 entries, 0 to 4999\n",
      "Data columns (total 5 columns):\n",
      " #   Column             Non-Null Count  Dtype  \n",
      "---  ------             --------------  -----  \n",
      " 0   Пол                5000 non-null   int64  \n",
      " 1   Возраст            5000 non-null   float64\n",
      " 2   Зарплата           5000 non-null   float64\n",
      " 3   Члены семьи        5000 non-null   int64  \n",
      " 4   Страховые выплаты  5000 non-null   int64  \n",
      "dtypes: float64(2), int64(3)\n",
      "memory usage: 195.4 KB\n",
      "None\n",
      "\n",
      "\n",
      "Дубликаты: 153\n"
     ]
    }
   ],
   "source": [
    "dfs(df)"
   ]
  },
  {
   "cell_type": "markdown",
   "metadata": {},
   "source": [
    "<s>Пропущенных значений нет, 153 дубликата удалим, `возраст` и `зарплата` переведем в цельночисленный тип</s>"
   ]
  },
  {
   "cell_type": "markdown",
   "metadata": {},
   "source": [
    "Пропущенных значений нет, 153 дубликата оставим, возраст и зарплата переведем в цельночисленный тип"
   ]
  },
  {
   "cell_type": "markdown",
   "metadata": {},
   "source": [
    "<div class=\"alert alert-warning\">\n",
    "    <b>💡**Комментарий ревьюера** </b>\n",
    "    <p> Удаление дубликатов здесь — спорный момент. Вполне вероятно, что это не один реальный клиент, а просто похожие клиенты: данные не сильно вариативные, так как численные колонки имеют определенный шаг, и их всего две, остальные категориальные. Вполне вероятно, что какие-то комбинации могут встречаться часто, тогда кажется разумным, если модель будет несколько смещаться в их сторону. Что думаешь? </p>\n",
    "</div>"
   ]
  },
  {
   "cell_type": "markdown",
   "metadata": {},
   "source": [
    "<div class=\"alert alert-info\"> <b>Комментарий студента:</b> Да, конечно, можно оставить. Исправлено.</div>"
   ]
  },
  {
   "cell_type": "code",
   "execution_count": 5,
   "metadata": {},
   "outputs": [],
   "source": [
    "#df.drop_duplicates(inplace=True)\n",
    "#df.duplicated().sum()"
   ]
  },
  {
   "cell_type": "code",
   "execution_count": 6,
   "metadata": {},
   "outputs": [
    {
     "name": "stdout",
     "output_type": "stream",
     "text": [
      "<class 'pandas.core.frame.DataFrame'>\n",
      "RangeIndex: 5000 entries, 0 to 4999\n",
      "Data columns (total 5 columns):\n",
      " #   Column             Non-Null Count  Dtype\n",
      "---  ------             --------------  -----\n",
      " 0   Пол                5000 non-null   int64\n",
      " 1   Возраст            5000 non-null   int64\n",
      " 2   Зарплата           5000 non-null   int64\n",
      " 3   Члены семьи        5000 non-null   int64\n",
      " 4   Страховые выплаты  5000 non-null   int64\n",
      "dtypes: int64(5)\n",
      "memory usage: 195.4 KB\n"
     ]
    }
   ],
   "source": [
    "df['Возраст'] = df['Возраст'].astype('int')\n",
    "df['Зарплата'] = df['Зарплата'].astype('int')\n",
    "df.info()"
   ]
  },
  {
   "cell_type": "markdown",
   "metadata": {},
   "source": [
    "Посмотрим описание, построим диаграммы плотности признаков"
   ]
  },
  {
   "cell_type": "code",
   "execution_count": 7,
   "metadata": {},
   "outputs": [
    {
     "data": {
      "text/html": [
       "<div>\n",
       "<style scoped>\n",
       "    .dataframe tbody tr th:only-of-type {\n",
       "        vertical-align: middle;\n",
       "    }\n",
       "\n",
       "    .dataframe tbody tr th {\n",
       "        vertical-align: top;\n",
       "    }\n",
       "\n",
       "    .dataframe thead th {\n",
       "        text-align: right;\n",
       "    }\n",
       "</style>\n",
       "<table border=\"1\" class=\"dataframe\">\n",
       "  <thead>\n",
       "    <tr style=\"text-align: right;\">\n",
       "      <th></th>\n",
       "      <th>Пол</th>\n",
       "      <th>Возраст</th>\n",
       "      <th>Зарплата</th>\n",
       "      <th>Члены семьи</th>\n",
       "      <th>Страховые выплаты</th>\n",
       "    </tr>\n",
       "  </thead>\n",
       "  <tbody>\n",
       "    <tr>\n",
       "      <th>count</th>\n",
       "      <td>5000.000000</td>\n",
       "      <td>5000.000000</td>\n",
       "      <td>5000.000000</td>\n",
       "      <td>5000.000000</td>\n",
       "      <td>5000.000000</td>\n",
       "    </tr>\n",
       "    <tr>\n",
       "      <th>mean</th>\n",
       "      <td>0.499000</td>\n",
       "      <td>30.952800</td>\n",
       "      <td>39916.359400</td>\n",
       "      <td>1.194200</td>\n",
       "      <td>0.148000</td>\n",
       "    </tr>\n",
       "    <tr>\n",
       "      <th>std</th>\n",
       "      <td>0.500049</td>\n",
       "      <td>8.440807</td>\n",
       "      <td>9900.082063</td>\n",
       "      <td>1.091387</td>\n",
       "      <td>0.463183</td>\n",
       "    </tr>\n",
       "    <tr>\n",
       "      <th>min</th>\n",
       "      <td>0.000000</td>\n",
       "      <td>18.000000</td>\n",
       "      <td>5300.000000</td>\n",
       "      <td>0.000000</td>\n",
       "      <td>0.000000</td>\n",
       "    </tr>\n",
       "    <tr>\n",
       "      <th>25%</th>\n",
       "      <td>0.000000</td>\n",
       "      <td>24.000000</td>\n",
       "      <td>33300.000000</td>\n",
       "      <td>0.000000</td>\n",
       "      <td>0.000000</td>\n",
       "    </tr>\n",
       "    <tr>\n",
       "      <th>50%</th>\n",
       "      <td>0.000000</td>\n",
       "      <td>30.000000</td>\n",
       "      <td>40200.000000</td>\n",
       "      <td>1.000000</td>\n",
       "      <td>0.000000</td>\n",
       "    </tr>\n",
       "    <tr>\n",
       "      <th>75%</th>\n",
       "      <td>1.000000</td>\n",
       "      <td>37.000000</td>\n",
       "      <td>46600.000000</td>\n",
       "      <td>2.000000</td>\n",
       "      <td>0.000000</td>\n",
       "    </tr>\n",
       "    <tr>\n",
       "      <th>max</th>\n",
       "      <td>1.000000</td>\n",
       "      <td>65.000000</td>\n",
       "      <td>79000.000000</td>\n",
       "      <td>6.000000</td>\n",
       "      <td>5.000000</td>\n",
       "    </tr>\n",
       "  </tbody>\n",
       "</table>\n",
       "</div>"
      ],
      "text/plain": [
       "               Пол      Возраст      Зарплата  Члены семьи  Страховые выплаты\n",
       "count  5000.000000  5000.000000   5000.000000  5000.000000        5000.000000\n",
       "mean      0.499000    30.952800  39916.359400     1.194200           0.148000\n",
       "std       0.500049     8.440807   9900.082063     1.091387           0.463183\n",
       "min       0.000000    18.000000   5300.000000     0.000000           0.000000\n",
       "25%       0.000000    24.000000  33300.000000     0.000000           0.000000\n",
       "50%       0.000000    30.000000  40200.000000     1.000000           0.000000\n",
       "75%       1.000000    37.000000  46600.000000     2.000000           0.000000\n",
       "max       1.000000    65.000000  79000.000000     6.000000           5.000000"
      ]
     },
     "execution_count": 7,
     "metadata": {},
     "output_type": "execute_result"
    }
   ],
   "source": [
    "df.describe()"
   ]
  },
  {
   "cell_type": "code",
   "execution_count": 8,
   "metadata": {},
   "outputs": [
    {
     "data": {
      "image/png": "[encoded data removed]",
      "text/plain": [
       "<Figure size 432x288 with 1 Axes>"
      ]
     },
     "metadata": {
      "needs_background": "light"
     },
     "output_type": "display_data"
    },
    {
     "data": {
      "image/png": "[encoded data removed]",
      "text/plain": [
       "<Figure size 432x288 with 1 Axes>"
      ]
     },
     "metadata": {
      "needs_background": "light"
     },
     "output_type": "display_data"
    },
    {
     "data": {
      "image/png": "[encoded data removed]",
      "text/plain": [
       "<Figure size 432x288 with 1 Axes>"
      ]
     },
     "metadata": {
      "needs_background": "light"
     },
     "output_type": "display_data"
    },
    {
     "data": {
      "image/png": "[encoded data removed]",
      "text/plain": [
       "<Figure size 432x288 with 1 Axes>"
      ]
     },
     "metadata": {
      "needs_background": "light"
     },
     "output_type": "display_data"
    },
    {
     "data": {
      "image/png": "[encoded data removed]",
      "text/plain": [
       "<Figure size 432x288 with 1 Axes>"
      ]
     },
     "metadata": {
      "needs_background": "light"
     },
     "output_type": "display_data"
    }
   ],
   "source": [
    "for i in df.columns:\n",
    "    sns.distplot(df[i])\n",
    "    plt.title(f'Диаграмма плотности. Признак: {i}')\n",
    "    plt.show()"
   ]
  },
  {
   "cell_type": "code",
   "execution_count": 9,
   "metadata": {},
   "outputs": [
    {
     "data": {
      "text/plain": [
       "0    4436\n",
       "1     423\n",
       "2     115\n",
       "3      18\n",
       "4       7\n",
       "5       1\n",
       "Name: Страховые выплаты, dtype: int64"
      ]
     },
     "execution_count": 9,
     "metadata": {},
     "output_type": "execute_result"
    }
   ],
   "source": [
    "df['Страховые выплаты'].value_counts()"
   ]
  },
  {
   "cell_type": "markdown",
   "metadata": {},
   "source": [
    "Выбросов нет, пол распределен, примерно, 50\\50, средний возраст в районе 30 лет, средняя зарплата в районе 40 тысяч рублей, в основном 1 член семьи (скорее всего вторая половина), большая часть клиентов за страховыми выплатами не обращалась."
   ]
  },
  {
   "cell_type": "code",
   "execution_count": 10,
   "metadata": {},
   "outputs": [
    {
     "data": {
      "image/png": "[encoded data removed]",
      "text/plain": [
       "<Figure size 432x288 with 2 Axes>"
      ]
     },
     "metadata": {
      "needs_background": "light"
     },
     "output_type": "display_data"
    }
   ],
   "source": [
    "sns.heatmap(df.corr(), annot = True, cmap=\"crest\");"
   ]
  },
  {
   "cell_type": "markdown",
   "metadata": {},
   "source": [
    "Мультиколлинеарность не обнаружена"
   ]
  },
  {
   "cell_type": "markdown",
   "metadata": {},
   "source": [
    "<div class=\"alert alert-success\">\n",
    "    <b> ✅**Комментарий ревьюера** </b>\n",
    "        <p>Это отлично, что ты подробно и осознанно подходишь к изучению данных, с которыми тебе предстоит работать. И это супер, что проверяешь на мультиколлинеарность, это важно для линейных моделей. </p>\n",
    "</div>"
   ]
  },
  {
   "cell_type": "markdown",
   "metadata": {},
   "source": [
    "## Умножение матриц"
   ]
  },
  {
   "cell_type": "markdown",
   "metadata": {},
   "source": [
    "Создадим модель для предсказания значений."
   ]
  },
  {
   "cell_type": "code",
   "execution_count": 11,
   "metadata": {},
   "outputs": [],
   "source": [
    "features=df.drop(['Страховые выплаты'],axis=1)\n",
    "target=df['Страховые выплаты']"
   ]
  },
  {
   "cell_type": "code",
   "execution_count": 12,
   "metadata": {},
   "outputs": [],
   "source": [
    "train_features, test_features, train_target, test_target = train_test_split(features,target, test_size=0.25, random_state=12345)"
   ]
  },
  {
   "cell_type": "code",
   "execution_count": 13,
   "metadata": {},
   "outputs": [],
   "source": [
    "class LinReg:\n",
    "    def fit(self, train_features, train_target):\n",
    "        X = np.concatenate((np.ones((train_features.shape[0], 1)), train_features), axis=1)\n",
    "        y = train_target\n",
    "        w = (np.linalg.inv(X.T.dot(X)).dot(X.T)).dot(y)\n",
    "        self.w = w[1:]\n",
    "        self.w0 = w[0]\n",
    "\n",
    "    def predict(self, test_features):\n",
    "        return test_features.dot(self.w) + self.w0"
   ]
  },
  {
   "cell_type": "markdown",
   "metadata": {},
   "source": [
    "<div class=\"alert alert-success\">\n",
    "    <b> ✅**Комментарий ревьюера** </b>\n",
    "        <p>Здорово, что была написана собственная функция линейной регрессии! </p>\n",
    "</div>"
   ]
  },
  {
   "cell_type": "code",
   "execution_count": 14,
   "metadata": {},
   "outputs": [
    {
     "name": "stdout",
     "output_type": "stream",
     "text": [
      "R2: 0.4352275684083339\n"
     ]
    }
   ],
   "source": [
    "model = LinReg()\n",
    "model.fit(train_features, train_target)\n",
    "predict = model.predict(test_features)\n",
    "\n",
    "R2 = r2_score(test_target, predict)\n",
    "\n",
    "#print(\"R2:\", R2_score)\n",
    "print(\"R2:\", R2)"
   ]
  },
  {
   "cell_type": "markdown",
   "metadata": {},
   "source": [
    "<div class=\"alert alert-block alert-danger\">\n",
    "    <b> ❌**Комментарий ревьюера** </b> \n",
    "    <p> Возникла небольшая опечатка. </p>\n",
    "</div>"
   ]
  },
  {
   "cell_type": "markdown",
   "metadata": {},
   "source": [
    "<div class=\"alert alert-info\"> <b>Комментарий студента:</b> Исправлено.</div>"
   ]
  },
  {
   "cell_type": "markdown",
   "metadata": {},
   "source": [
    "Создадим модель Линейной Регрессии из sklearn"
   ]
  },
  {
   "cell_type": "code",
   "execution_count": 15,
   "metadata": {},
   "outputs": [
    {
     "name": "stdout",
     "output_type": "stream",
     "text": [
      "R2 Линейной Регрессии: 0.4352275684083322\n"
     ]
    }
   ],
   "source": [
    "model_lr = LinearRegression()\n",
    "model_lr.fit(train_features,train_target)\n",
    "predictions= model_lr.predict(test_features)\n",
    "\n",
    "R2_lr = r2_score(test_target, predictions)\n",
    "\n",
    "print(\"R2 Линейной Регрессии:\", R2_lr)"
   ]
  },
  {
   "cell_type": "markdown",
   "metadata": {},
   "source": [
    "Измененим исходную матрицу методом умножения на произвольную обратимую матрицу."
   ]
  },
  {
   "cell_type": "markdown",
   "metadata": {},
   "source": [
    "Создадим произвольную матрицу 4,4 (по количеству признаков) "
   ]
  },
  {
   "cell_type": "code",
   "execution_count": 16,
   "metadata": {},
   "outputs": [
    {
     "data": {
      "text/plain": [
       "array([[7.81710499, 7.8490841 , 7.120116  , 7.7516557 ],\n",
       "       [7.04265985, 6.87031048, 6.47920826, 6.74436117],\n",
       "       [7.00070017, 7.49658228, 6.91154566, 7.98634157],\n",
       "       [9.07413818, 9.57804736, 5.01969359, 6.43001831]])"
      ]
     },
     "execution_count": 16,
     "metadata": {},
     "output_type": "execute_result"
    }
   ],
   "source": [
    "matrix=np.random.normal(7, size=(4,4))\n",
    "matrix"
   ]
  },
  {
   "cell_type": "markdown",
   "metadata": {},
   "source": [
    "Проверим обратимость матрицы"
   ]
  },
  {
   "cell_type": "code",
   "execution_count": 17,
   "metadata": {},
   "outputs": [
    {
     "data": {
      "text/plain": [
       "array([[ 20.8081338 , -14.33456257,  -7.14019845,  -1.18132759],\n",
       "       [-22.87195143,  15.96836484,   7.46802743,   1.54849558],\n",
       "       [-17.41092091,  13.37259868,   4.97949334,   0.77851945],\n",
       "       [ 18.29703043, -13.9965855 ,  -4.93521205,  -1.09174856]])"
      ]
     },
     "execution_count": 17,
     "metadata": {},
     "output_type": "execute_result"
    }
   ],
   "source": [
    "np.linalg.inv(matrix)"
   ]
  },
  {
   "cell_type": "markdown",
   "metadata": {},
   "source": [
    "матрица обратима"
   ]
  },
  {
   "cell_type": "markdown",
   "metadata": {},
   "source": [
    "Умножим матрицу на признаки"
   ]
  },
  {
   "cell_type": "code",
   "execution_count": 18,
   "metadata": {},
   "outputs": [
    {
     "data": {
      "text/html": [
       "<div>\n",
       "<style scoped>\n",
       "    .dataframe tbody tr th:only-of-type {\n",
       "        vertical-align: middle;\n",
       "    }\n",
       "\n",
       "    .dataframe tbody tr th {\n",
       "        vertical-align: top;\n",
       "    }\n",
       "\n",
       "    .dataframe thead th {\n",
       "        text-align: right;\n",
       "    }\n",
       "</style>\n",
       "<table border=\"1\" class=\"dataframe\">\n",
       "  <thead>\n",
       "    <tr style=\"text-align: right;\">\n",
       "      <th></th>\n",
       "      <th>Пол</th>\n",
       "      <th>Возраст</th>\n",
       "      <th>Зарплата</th>\n",
       "      <th>Члены семьи</th>\n",
       "    </tr>\n",
       "  </thead>\n",
       "  <tbody>\n",
       "    <tr>\n",
       "      <th>3369</th>\n",
       "      <td>253745.071934</td>\n",
       "      <td>271689.128838</td>\n",
       "      <td>250488.698790</td>\n",
       "      <td>289409.753915</td>\n",
       "    </tr>\n",
       "    <tr>\n",
       "      <th>1441</th>\n",
       "      <td>403487.597592</td>\n",
       "      <td>432044.578682</td>\n",
       "      <td>398332.443426</td>\n",
       "      <td>460250.334171</td>\n",
       "    </tr>\n",
       "    <tr>\n",
       "      <th>571</th>\n",
       "      <td>287963.216426</td>\n",
       "      <td>308338.959486</td>\n",
       "      <td>284276.881136</td>\n",
       "      <td>328460.887963</td>\n",
       "    </tr>\n",
       "    <tr>\n",
       "      <th>225</th>\n",
       "      <td>315994.187764</td>\n",
       "      <td>338352.769828</td>\n",
       "      <td>311948.980624</td>\n",
       "      <td>360433.231674</td>\n",
       "    </tr>\n",
       "    <tr>\n",
       "      <th>2558</th>\n",
       "      <td>354485.984882</td>\n",
       "      <td>379572.939457</td>\n",
       "      <td>349948.063843</td>\n",
       "      <td>404344.307225</td>\n",
       "    </tr>\n",
       "  </tbody>\n",
       "</table>\n",
       "</div>"
      ],
      "text/plain": [
       "                Пол        Возраст       Зарплата    Члены семьи\n",
       "3369  253745.071934  271689.128838  250488.698790  289409.753915\n",
       "1441  403487.597592  432044.578682  398332.443426  460250.334171\n",
       "571   287963.216426  308338.959486  284276.881136  328460.887963\n",
       "225   315994.187764  338352.769828  311948.980624  360433.231674\n",
       "2558  354485.984882  379572.939457  349948.063843  404344.307225"
      ]
     },
     "execution_count": 18,
     "metadata": {},
     "output_type": "execute_result"
    }
   ],
   "source": [
    "train_matrix=train_features.dot(matrix)\n",
    "train_matrix.columns = train_features.columns\n",
    "train_matrix.head()"
   ]
  },
  {
   "cell_type": "code",
   "execution_count": 19,
   "metadata": {},
   "outputs": [
    {
     "data": {
      "text/html": [
       "<div>\n",
       "<style scoped>\n",
       "    .dataframe tbody tr th:only-of-type {\n",
       "        vertical-align: middle;\n",
       "    }\n",
       "\n",
       "    .dataframe tbody tr th {\n",
       "        vertical-align: top;\n",
       "    }\n",
       "\n",
       "    .dataframe thead th {\n",
       "        text-align: right;\n",
       "    }\n",
       "</style>\n",
       "<table border=\"1\" class=\"dataframe\">\n",
       "  <thead>\n",
       "    <tr style=\"text-align: right;\">\n",
       "      <th></th>\n",
       "      <th>Пол</th>\n",
       "      <th>Возраст</th>\n",
       "      <th>Зарплата</th>\n",
       "      <th>Члены семьи</th>\n",
       "    </tr>\n",
       "  </thead>\n",
       "  <tbody>\n",
       "    <tr>\n",
       "      <th>3183</th>\n",
       "      <td>273296.011134</td>\n",
       "      <td>292631.741161</td>\n",
       "      <td>269784.173531</td>\n",
       "      <td>311715.605089</td>\n",
       "    </tr>\n",
       "    <tr>\n",
       "      <th>1071</th>\n",
       "      <td>302100.458791</td>\n",
       "      <td>323465.367672</td>\n",
       "      <td>298221.617905</td>\n",
       "      <td>344561.399615</td>\n",
       "    </tr>\n",
       "    <tr>\n",
       "      <th>2640</th>\n",
       "      <td>295011.958187</td>\n",
       "      <td>315881.904971</td>\n",
       "      <td>291235.881680</td>\n",
       "      <td>336495.761695</td>\n",
       "    </tr>\n",
       "    <tr>\n",
       "      <th>2282</th>\n",
       "      <td>243765.219270</td>\n",
       "      <td>261018.469380</td>\n",
       "      <td>240651.373262</td>\n",
       "      <td>278059.573741</td>\n",
       "    </tr>\n",
       "    <tr>\n",
       "      <th>1595</th>\n",
       "      <td>280353.052587</td>\n",
       "      <td>300183.285920</td>\n",
       "      <td>276747.552861</td>\n",
       "      <td>319755.901545</td>\n",
       "    </tr>\n",
       "  </tbody>\n",
       "</table>\n",
       "</div>"
      ],
      "text/plain": [
       "                Пол        Возраст       Зарплата    Члены семьи\n",
       "3183  273296.011134  292631.741161  269784.173531  311715.605089\n",
       "1071  302100.458791  323465.367672  298221.617905  344561.399615\n",
       "2640  295011.958187  315881.904971  291235.881680  336495.761695\n",
       "2282  243765.219270  261018.469380  240651.373262  278059.573741\n",
       "1595  280353.052587  300183.285920  276747.552861  319755.901545"
      ]
     },
     "execution_count": 19,
     "metadata": {},
     "output_type": "execute_result"
    }
   ],
   "source": [
    "test_matrix = test_features.dot(matrix)\n",
    "test_matrix.columns = test_features.columns\n",
    "test_matrix.head()"
   ]
  },
  {
   "cell_type": "markdown",
   "metadata": {},
   "source": [
    "Теперь построим модель с закодированными значениями, посмотрим на результат"
   ]
  },
  {
   "cell_type": "code",
   "execution_count": 20,
   "metadata": {},
   "outputs": [
    {
     "name": "stdout",
     "output_type": "stream",
     "text": [
      "R2 изменённой матрицы: 0.4352275684051041\n"
     ]
    }
   ],
   "source": [
    "model_mat = LinearRegression()\n",
    "model_mat.fit(train_matrix,train_target)\n",
    "predictions_mat= model_mat.predict(test_matrix)\n",
    "R2_mat = r2_score(test_target, predictions_mat)\n",
    "print(\"R2 изменённой матрицы:\", R2_mat)"
   ]
  },
  {
   "cell_type": "markdown",
   "metadata": {},
   "source": [
    "Ответьте на вопрос и обоснуйте решение. \n",
    "\n",
    " Признаки умножают на обратимую матрицу. Изменится ли качество линейной регрессии? (Её можно обучить заново.)\n",
    " \n",
    "     a. Изменится. Приведите примеры матриц.\n",
    "     b. Не изменится. Укажите, как связаны параметры линейной регрессии в исходной задаче и в преобразованной."
   ]
  },
  {
   "cell_type": "markdown",
   "metadata": {},
   "source": [
    "**Ответ:** При умножении признаков на обратимую матрицу качество модели не меняется\n",
    "\n",
    "**Вопрос:** Укажите, как связаны параметры линейной регрессии в исходной задаче и в преобразованной.\n",
    "\n",
    "**Ответ:** <s>При умножении признаков на обратимую матрицу качество линейной модели не меняется потому, что обратимая матрица представляет собой линейное преобразование признаков, которое не меняет зависимость между признаками и целевой переменной.\n",
    "\n",
    "Коэффициенты линейной модели отражают эту зависимость и не изменятся при умножении признаков на обратимую матрицу, потому что они вычисляются в процессе решения оптимизационной задачи минимизации ошибки модели.</s>\n",
    "\n",
    "Умножение признаков на обратимую матрицу не изменяет качество линейной модели. Однако, это может привести к изменению значений коэффициентов модели и интерпретации вклада каждого признака в объяснение целевой переменной."
   ]
  },
  {
   "cell_type": "markdown",
   "metadata": {},
   "source": [
    "<div class=\"alert alert-info\"> <b>Комментарий студента v3:</b> \n",
    "\n",
    "\n",
    "\n",
    "**Обоснование:**\n",
    "\n",
    "\n",
    " <p>$X$ — матрица признаков (нулевой столбец состоит из единиц)\n",
    "    \n",
    "$y$ — вектор целевого признака\n",
    "    \n",
    "$P$ — обратимая матрица, на которую умножаются признаки\n",
    "\n",
    "$w$ — вектор весов линейной регрессии (нулевой элемент равен сдвигу).\n",
    "\n",
    "Предсказания:\n",
    "    \n",
    "$$\n",
    "a = Xw\n",
    "$$\n",
    "    \n",
    "Задача обучения:\n",
    "    \n",
    "$$\n",
    "w = \\arg\\min_w MSE(Xw, y)\n",
    "$$\n",
    "    \n",
    "Формула обучения:\n",
    "    \n",
    "$$\n",
    "w = (X^T X)^{-1} X^T y\n",
    "$$\n",
    "    \n",
    "Получим новую формулу обучения после умножения признаков на обратимую матрицу:\n",
    "    \n",
    "$$\n",
    "w' = ((XP)^T XP)^{-1} (XP)^T y\n",
    "$$\n",
    "    \n",
    "Упростим выражение выше с помощью следующих свойств:\n",
    "    \n",
    "$$\n",
    "(AB)^T=B^T A^T\n",
    "$$\n",
    "    \n",
    "$$\n",
    "(AB)^{-1} = B^{-1} A^{-1}\n",
    "$$\n",
    "    \n",
    "$$\n",
    "A A^{-1} = A^{-1} A = E\n",
    "$$\n",
    "    \n",
    "$$\n",
    "AE = EA = A\n",
    "$$\n",
    "    \n",
    "В итоге получим выражение:\n",
    "    \n",
    "$$\n",
    "w' = (X^T P^T X P)^{-1} X^T P^T y\n",
    "$$\n",
    "    \n",
    "$$\n",
    "w' = (X^T X)^{-1}  (P^T)^{-1}P^{-1} X^T P^T y\n",
    "$$\n",
    "    \n",
    "При умножение матрицы на обратную ей получается единичная матрица (E)\n",
    "    \n",
    "$$\n",
    "(P^T)^{-1}  P^T = E\n",
    "$$\n",
    "    \n",
    "$$\n",
    "w' = (X^T X)^{-1}  E P^{-1} X^T y\n",
    "$$\n",
    "    \n",
    "Так как при умножении матрицы на единичную матрицу получается та же матрица:\n",
    "    \n",
    "$$\n",
    "w' = (X^T X)^{-1} P^{-1} X^T y\n",
    "$$\n",
    "    \n",
    "Так как \n",
    "   \n",
    "$$\n",
    "w = (X^T X)^{-1} X^T y\n",
    "$$\n",
    "\n",
    "То:\n",
    "    \n",
    "$$\n",
    "w' = P^{-1}w\n",
    "$$\n",
    "    \n",
    "$$\n",
    "a = XP (P^{-1}w)\n",
    "$$\n",
    "    \n",
    "По свойству обратной и еденичной матрицы сократим $P$ и $P^{-1}$:\n",
    "\n",
    "$$\n",
    "a = X w\n",
    "$$\n",
    "\n",
    "\n",
    "Что и требовалось докаать.\n",
    "     \n",
    "     \n",
    "</div>"
   ]
  },
  {
   "cell_type": "markdown",
   "metadata": {},
   "source": [
    "<div class=\"alert alert-success\">\n",
    "    <b> ✅**Комментарий ревьюера** </b>\n",
    "        <p>Отлично! Молодец!👏 </p>\n",
    "</div>"
   ]
  },
  {
   "cell_type": "markdown",
   "metadata": {},
   "source": [
    "<div class=\"alert alert-block alert-danger\">\n",
    "    <b> ❌**Комментарий ревьюера** </b> \n",
    "    <p> То что коэффициенты не изменятся это не совсем верно. Возникла также противоречие в доказательстве: «Коэффициенты линейной модели отражают эту зависимость и <b>не изменятся</b> при умножении признаков на обратимую матрицу» -> «Таким образом, умножение признаков на обратимую матрицу не изменяет качество линейной модели. Однако, это может привести к <b>изменению значений коэффициентов модели</b>»</p>\n",
    "    <p>Я бы посоветовала еще переписать вопросы: сейчас у нас в структуре есть «ответ», но не понятно к чему он относится.\n",
    "В данном пункте скорее ожидается, что ты докажешь, что качество не изменяется, а также покажешь как зависят веса, последнее явно просит задание:\n",
    "\n",
    "> Укажите, как связаны параметры линейной регрессии в исходной задаче и в преобразованной.\n",
    "\n",
    "А также частный случай сам по себе, как правило, не может служить подтверждением какой-то гипотезы, однако может её опровергать, поэтому здесь надо привести доказательство такое, которое покажет, что утверждение верно для всех возможных случаев (любая обратимая матрица).</p>\n",
    "</div>"
   ]
  },
  {
   "cell_type": "markdown",
   "metadata": {},
   "source": [
    "<div class=\"alert alert-info\"> <b>Комментарий студента:</b> Исправлено.</div>"
   ]
  },
  {
   "cell_type": "markdown",
   "metadata": {},
   "source": [
    "## Алгоритм преобразования"
   ]
  },
  {
   "cell_type": "markdown",
   "metadata": {},
   "source": [
    "<s>**Алгоритм**\n",
    "\n",
    "Умножение матрицы на матрицу возможно, если ширина матрицы А (m, n) равна высоте матрицы B (n, k) Тогда размер произведения этих матриц будет (m, k).\n",
    "\n",
    "При умножении признаков выборки A размерностью (4847, 4) на обратимую произвольную матрицу B размерностью (4, 4) получаем новый (изменённый) набор данных скалярных произведений M размерноcтью (4847, 4).\n",
    "\n",
    "Формула:\n",
    "\n",
    "\n",
    "$$Mij = (Ai,Bj)$$\n",
    "\n",
    "\n",
    "В каждую новую ячейку записывается результат сложения произведений строки $i$ на столбец $j$\n",
    "\n",
    "\n",
    "$$M_{11}=A_{11}×B_{11} + A_{12}×B_{21} + A_{13}×B_{31} + A_{14}×B_{41}$$\n",
    "\n",
    "\n",
    "Далее вычисляется вектор $w$\n",
    "\n",
    "\n",
    "$$w = (X^T X)^{-1} X^T y$$\n",
    "\n",
    "    X - таблица признков, где нулевой столбец заполнен единицами\n",
    "    y - вектор целевого признака\n",
    "\n",
    "В Линейной регрессии предсказания вычисляются по формуле\n",
    "\n",
    "\n",
    "$$a = Xw + w0$$\n",
    "\n",
    "$w0$ - величина сдвига модели\n",
    "    \n",
    "Рассмотрим упрощённую запись формулы предсказания Линейной Регрессии\n",
    "\n",
    "\n",
    "$$a = X_i w$$\n",
    "\n",
    "$X_i$ - новые строки признаков\n",
    "\n",
    "\n",
    "$$a = X_i w = X_i (X^T X)^{-1} X^T y$$\n",
    "\n",
    "\n",
    "Упроситим формулу\n",
    "\n",
    "\n",
    "$$a = X_i (X^T X)^{-1} X^T y = X_iX^{-1}(X^T)^{-1}X^T y = X_iX^{-1}y$$\n",
    "\n",
    "\n",
    "Домножим наши признаки на случайную обратимую матрицу B, где $BB^{-1} = E$, $E$ - единичная матрица\n",
    "При обучении модели на новых признаках, обновятся коэффициенты $w'$\n",
    "\n",
    "\n",
    "$$w' = ((XB)^T(XB))^{-1}(XB)^Ty$$\n",
    "\n",
    "\n",
    "Подставим их в формулу предсказания и упростим выражение\n",
    "\n",
    "\n",
    "$$a'= X_iBw' = X_iB((XB)^T(XB))^{-1}(XB)^Ty = X_iB(XB)^{-1}((XB)^T)^{-1}(XB)^Ty = X_iX^{-1}y$$\n",
    "\n",
    "\n",
    "Исходя из всего этого\n",
    "\n",
    "\n",
    "$a$ = $a'$\n",
    "\n",
    "\n",
    "А это значит, что при изменении признаков результат не изменится</s>\n",
    "\n"
   ]
  },
  {
   "cell_type": "markdown",
   "metadata": {},
   "source": [
    "**Алгоритм:**\n",
    "\n",
    "<ol>\n",
    "<li>Создадим матрицу B</li>\n",
    "<li>Проверим обратимость матрицы B</li>\n",
    "<li>Умножим приизнаки на новую матрицу</li>\n",
    "<li>В нулевой столбец изменённой таблицы вносим значение 1</li>\n",
    "<li>Присвоим переменной $y$ целевые признаки и вычислим вектор $w$</li>\n",
    "<li>Вычислим предсказание модели</li>\n",
    "<li>Вычислим значеие R2</li>\n",
    "</ol>"
   ]
  },
  {
   "cell_type": "markdown",
   "metadata": {},
   "source": [
    "**Обоснование**\n",
    "\n",
    "Этот алгоритм не изменит качество линейной регрессии, потому что умножение матриц A и B приводит к изменению коэффициентов модели линейной регрессии, но не меняет ее предсказательную способность. То есть, если модель получала хорошие результаты на исходных данных, то после умножения матрицы признаков на матрицу B она также должна продолжать показывать хорошие результаты. Это происходит потому, что умножение матрицы A на матрицу B просто изменяет значения признаков, но не изменяет связь между признаками и целевой переменной, которую учитывает модель линейной регрессии."
   ]
  },
  {
   "cell_type": "markdown",
   "metadata": {},
   "source": [
    "<div class=\"alert alert-block alert-danger\">\n",
    "    <b> ❌**Комментарий ревьюера** </b> \n",
    "    <p>Выражение $ (X^T X)^{-1} X^T y = X^{-1} (X^T)^{-1} X^T y = X^{-1} E y = X^{-1} y $ - некорректно, так как для неквадратных матриц ($X$ и $X^T$) обратных матриц не существует. Можно подробнее почитать <a href=\"https://www.berdov.com/works/matrix/obratnaya-matrica/ \">теорию по обратным матрицам</a>. </p>\n",
    "  </div>"
   ]
  },
  {
   "cell_type": "markdown",
   "metadata": {},
   "source": [
    "<div class=\"alert alert-info\"> <b>Комментарий студента:</b> Тогда я вообще не понимаю формулу :(. Как должно быть?</div>"
   ]
  },
  {
   "cell_type": "markdown",
   "metadata": {},
   "source": [
    "<div class=\"alert alert-info\">\n",
    "    <b> **Комментарий ревьюера v2** </b> \n",
    "    <p>Здесь мы должны идти именно от формулы весов\n",
    "$$\n",
    "w = (X^T X)^{-1} X^T y\n",
    "$$\n",
    "Попробуй в ней каждую матрицу признаков умножить на новую матрицу, то есть $X = X*X_i$. И потом упростить, чтобы мы нашли новую формулу весов $w'$. Потом посмотри, что $$\n",
    "a = Xw = XEw = ...\n",
    "$$ при умножении матрицы признаков на единичную матрицу качество модели не изменится совсем. И вспомни, как можно расписать единичную матрицу по свойствам матрицы, (подсказка) мы должны тут использовать нашу новую матрицу, на которую умножаем признаки. И тогда ты уже сможешь выйти на формулу с использованием $w_i$. Что и докажет, что  умножение весов на обратную матрицу не меняет MSE.\n",
    "    </p>\n",
    "  </div>"
   ]
  },
  {
   "cell_type": "markdown",
   "metadata": {},
   "source": [
    "<div class=\"alert alert-info\"> <b>Комментарий студента v2:</b>\n",
    "\n",
    "Так у меня так и есть, вроде:\n",
    "$$w = (X^T X)^{-1} X^T y$$\n",
    "$$a = X_i w$$\n",
    "$$a = X_i (X^T X)^{-1} X^T y = X_iX^{-1}(X^T)^{-1}X^T y = X_iX^{-1}y$$ \n",
    "и т.д.</div>"
   ]
  },
  {
   "cell_type": "markdown",
   "metadata": {},
   "source": [
    "<div class=\"alert alert-block alert-danger\">\n",
    "    <b> ❌**Комментарий ревьюера v3** </b> \n",
    "    <p>Как я написала выше выражение $ (X^T X)^{-1} X^T y = X^{-1} (X^T)^{-1} X^T y = X^{-1} E y = X^{-1} y $ - некорректно, так как для неквадратных матриц ($X$ и $X^T$) обратных матриц не существует. Когда ты пишешь\n",
    "        $$a = X_i w$$\n",
    "это неверно, так как ты просто заменяешь предыдущие признаки по сути случайную матрицу. А нам нужно решить новую задачу оптимизации, найти новые веса $w'$, ты это делаешь, но идешь неверным путем, так как полученное упрощение для $a$ неверно.</p>\n",
    "    <p> Давай попробуем начать сначала твое доказательство</p>\n",
    "    <p>Обозначим: $X$ — матрица признаков (нулевой столбец состоит из единиц), $y$ — вектор целевого признака, $P$ — обратимая матрица, на которую умножаются признаки, $w$ — вектор весов линейной регрессии (нулевой элемент равен сдвигу).\n",
    "    Предсказания:\n",
    "$$\n",
    "a = Xw\n",
    "$$\n",
    "Задача обучения:\n",
    "$$\n",
    "w = \\arg\\min_w MSE(Xw, y)\n",
    "$$\n",
    "Формула обучения:\n",
    "$$\n",
    "w = (X^T X)^{-1} X^T y\n",
    "$$\n",
    "        Теперь давай получим новую формулу обучения после умножения признаков на обратимую матрицу:\n",
    "$$\n",
    "w' = ((XP)^T XP)^{-1} (XP)^T y\n",
    "$$\n",
    "        Теперь нужно упростить выражение выше с помощью следующих свойств:\n",
    "$$\n",
    "(AB)^T=B^T A^T\n",
    "$$\n",
    "$$\n",
    "(AB)^{-1} = B^{-1} A^{-1}\n",
    "$$\n",
    "$$\n",
    "A A^{-1} = A^{-1} A = E\n",
    "$$\n",
    "$$\n",
    "AE = EA = A\n",
    "$$\n",
    "        В итоге получишь выражение, которое будет похоже на \n",
    "        $$\n",
    "w' = <что-то>(X^T X)^{-1} X^T y\n",
    "$$\n",
    "        И сможем подставить $w$\n",
    "        $$\n",
    "w' = <что-то>w\n",
    "$$\n",
    "        Зная это и зная новую формулу для предсказания, зависимую от новых весов:\n",
    "$a =(XP)w'=$ <подставить $w'$ сюда и упрости>\n",
    "        Что и требовалось доказать.\n",
    "        Надеюсь, все получится, удачи.\n",
    "    </p>\n",
    "  </div>"
   ]
  },
  {
   "cell_type": "markdown",
   "metadata": {},
   "source": [
    "<div class=\"alert alert-info\"> <b>Комментарий студента v3:</b> Исправлено.</div>"
   ]
  },
  {
   "cell_type": "markdown",
   "metadata": {},
   "source": [
    "<div class=\"alert alert-block alert-danger\">\n",
    "    <b> ❌**Комментарий ревьюера** </b> \n",
    "    <p> Здесь представлено доказательство того, что качество не изменится, это отлично, но нет самого алгоритма по шагам. </p>\n",
    "</div>"
   ]
  },
  {
   "cell_type": "markdown",
   "metadata": {},
   "source": [
    "<div class=\"alert alert-info\"> <b>Комментарий студента:</b> Исправлено.</div>"
   ]
  },
  {
   "cell_type": "markdown",
   "metadata": {},
   "source": [
    "## Проверка алгоритма"
   ]
  },
  {
   "cell_type": "markdown",
   "metadata": {},
   "source": [
    "Создадим матрицу B"
   ]
  },
  {
   "cell_type": "code",
   "execution_count": 21,
   "metadata": {},
   "outputs": [
    {
     "data": {
      "text/plain": [
       "array([[ 8.13090824,  5.57816648,  6.72079917,  6.81404487],\n",
       "       [ 6.56029056,  7.14184168,  7.62430764,  6.38666944],\n",
       "       [10.21707634,  6.27578682,  6.1760223 ,  9.1668532 ],\n",
       "       [ 4.15952305,  6.87543529,  7.23050703,  5.96523344]])"
      ]
     },
     "execution_count": 21,
     "metadata": {},
     "output_type": "execute_result"
    }
   ],
   "source": [
    "B = np.random.normal(7, size=(4,4))\n",
    "B"
   ]
  },
  {
   "cell_type": "markdown",
   "metadata": {},
   "source": [
    "Проверим обратимость"
   ]
  },
  {
   "cell_type": "code",
   "execution_count": 22,
   "metadata": {},
   "outputs": [
    {
     "data": {
      "text/plain": [
       "array([[-0.07195813,  0.57403757,  0.00882131, -0.54595113],\n",
       "       [-1.233554  ,  1.33807396,  0.35283459, -0.56573254],\n",
       "       [ 1.01646194, -0.71817032, -0.50248131,  0.37998035],\n",
       "       [ 0.23988952, -1.07201637,  0.19623888,  0.73980394]])"
      ]
     },
     "execution_count": 22,
     "metadata": {},
     "output_type": "execute_result"
    }
   ],
   "source": [
    "np.linalg.inv(B)"
   ]
  },
  {
   "cell_type": "markdown",
   "metadata": {},
   "source": [
    "Умножим приизнаки на новую матрицу"
   ]
  },
  {
   "cell_type": "markdown",
   "metadata": {},
   "source": [
    " <div class=\"alert alert-success\">\n",
    "    <b> ✅**Комментарий ревьюера** </b>\n",
    "        <p>Хорошо, что делаешь проверку на обратимость. </p>\n",
    "</div>"
   ]
  },
  {
   "cell_type": "code",
   "execution_count": 23,
   "metadata": {},
   "outputs": [
    {
     "data": {
      "text/html": [
       "<div>\n",
       "<style scoped>\n",
       "    .dataframe tbody tr th:only-of-type {\n",
       "        vertical-align: middle;\n",
       "    }\n",
       "\n",
       "    .dataframe tbody tr th {\n",
       "        vertical-align: top;\n",
       "    }\n",
       "\n",
       "    .dataframe thead th {\n",
       "        text-align: right;\n",
       "    }\n",
       "</style>\n",
       "<table border=\"1\" class=\"dataframe\">\n",
       "  <thead>\n",
       "    <tr style=\"text-align: right;\">\n",
       "      <th></th>\n",
       "      <th>Пол</th>\n",
       "      <th>Возраст</th>\n",
       "      <th>Зарплата</th>\n",
       "      <th>Члены семьи</th>\n",
       "    </tr>\n",
       "  </thead>\n",
       "  <tbody>\n",
       "    <tr>\n",
       "      <th>3369</th>\n",
       "      <td>370152.546272</td>\n",
       "      <td>227503.035589</td>\n",
       "      <td>223913.803826</td>\n",
       "      <td>332127.492066</td>\n",
       "    </tr>\n",
       "    <tr>\n",
       "      <th>1441</th>\n",
       "      <td>588734.777715</td>\n",
       "      <td>361733.721473</td>\n",
       "      <td>356004.831788</td>\n",
       "      <td>528234.705383</td>\n",
       "    </tr>\n",
       "    <tr>\n",
       "      <th>571</th>\n",
       "      <td>420135.926212</td>\n",
       "      <td>258170.252569</td>\n",
       "      <td>254085.724917</td>\n",
       "      <td>376968.005359</td>\n",
       "    </tr>\n",
       "    <tr>\n",
       "      <th>225</th>\n",
       "      <td>461030.472716</td>\n",
       "      <td>283301.967206</td>\n",
       "      <td>278820.311351</td>\n",
       "      <td>413660.964855</td>\n",
       "    </tr>\n",
       "    <tr>\n",
       "      <th>2558</th>\n",
       "      <td>517208.871213</td>\n",
       "      <td>317804.244613</td>\n",
       "      <td>312772.791590</td>\n",
       "      <td>464065.462704</td>\n",
       "    </tr>\n",
       "  </tbody>\n",
       "</table>\n",
       "</div>"
      ],
      "text/plain": [
       "                Пол        Возраст       Зарплата    Члены семьи\n",
       "3369  370152.546272  227503.035589  223913.803826  332127.492066\n",
       "1441  588734.777715  361733.721473  356004.831788  528234.705383\n",
       "571   420135.926212  258170.252569  254085.724917  376968.005359\n",
       "225   461030.472716  283301.967206  278820.311351  413660.964855\n",
       "2558  517208.871213  317804.244613  312772.791590  464065.462704"
      ]
     },
     "execution_count": 23,
     "metadata": {},
     "output_type": "execute_result"
    }
   ],
   "source": [
    "M_train = (train_features @ B)\n",
    "M_train.columns = train_features.columns\n",
    "M_train.head()"
   ]
  },
  {
   "cell_type": "code",
   "execution_count": 24,
   "metadata": {},
   "outputs": [
    {
     "data": {
      "text/html": [
       "<div>\n",
       "<style scoped>\n",
       "    .dataframe tbody tr th:only-of-type {\n",
       "        vertical-align: middle;\n",
       "    }\n",
       "\n",
       "    .dataframe tbody tr th {\n",
       "        vertical-align: top;\n",
       "    }\n",
       "\n",
       "    .dataframe thead th {\n",
       "        text-align: right;\n",
       "    }\n",
       "</style>\n",
       "<table border=\"1\" class=\"dataframe\">\n",
       "  <thead>\n",
       "    <tr style=\"text-align: right;\">\n",
       "      <th></th>\n",
       "      <th>Пол</th>\n",
       "      <th>Возраст</th>\n",
       "      <th>Зарплата</th>\n",
       "      <th>Члены семьи</th>\n",
       "    </tr>\n",
       "  </thead>\n",
       "  <tbody>\n",
       "    <tr>\n",
       "      <th>3183</th>\n",
       "      <td>398699.104767</td>\n",
       "      <td>245018.868400</td>\n",
       "      <td>241145.393914</td>\n",
       "      <td>357741.895999</td>\n",
       "    </tr>\n",
       "    <tr>\n",
       "      <th>1071</th>\n",
       "      <td>440692.323636</td>\n",
       "      <td>270857.254790</td>\n",
       "      <td>266582.237563</td>\n",
       "      <td>395422.637051</td>\n",
       "    </tr>\n",
       "    <tr>\n",
       "      <th>2640</th>\n",
       "      <td>430402.895967</td>\n",
       "      <td>264494.735010</td>\n",
       "      <td>260314.607663</td>\n",
       "      <td>386180.414061</td>\n",
       "    </tr>\n",
       "    <tr>\n",
       "      <th>2282</th>\n",
       "      <td>355685.462288</td>\n",
       "      <td>218540.218084</td>\n",
       "      <td>215078.062223</td>\n",
       "      <td>319134.224904</td>\n",
       "    </tr>\n",
       "    <tr>\n",
       "      <th>1595</th>\n",
       "      <td>408968.663427</td>\n",
       "      <td>251351.789951</td>\n",
       "      <td>247382.410676</td>\n",
       "      <td>366959.842560</td>\n",
       "    </tr>\n",
       "  </tbody>\n",
       "</table>\n",
       "</div>"
      ],
      "text/plain": [
       "                Пол        Возраст       Зарплата    Члены семьи\n",
       "3183  398699.104767  245018.868400  241145.393914  357741.895999\n",
       "1071  440692.323636  270857.254790  266582.237563  395422.637051\n",
       "2640  430402.895967  264494.735010  260314.607663  386180.414061\n",
       "2282  355685.462288  218540.218084  215078.062223  319134.224904\n",
       "1595  408968.663427  251351.789951  247382.410676  366959.842560"
      ]
     },
     "execution_count": 24,
     "metadata": {},
     "output_type": "execute_result"
    }
   ],
   "source": [
    "M_test = (test_features @ B)\n",
    "M_test.columns = train_features.columns\n",
    "M_test.head()"
   ]
  },
  {
   "cell_type": "markdown",
   "metadata": {},
   "source": [
    "В нулевой столбец изменённой таблицы вносим значение 1"
   ]
  },
  {
   "cell_type": "code",
   "execution_count": 25,
   "metadata": {},
   "outputs": [],
   "source": [
    "X = np.concatenate((np.ones((M_train.shape[0], 1)), M_train), axis=1)"
   ]
  },
  {
   "cell_type": "markdown",
   "metadata": {},
   "source": [
    "<div class=\"alert alert-success\">\n",
    "    <b> ✅**Комментарий ревьюера** </b>\n",
    "        <p>Здорово, что добавлено смещение. </p>\n",
    "</div>"
   ]
  },
  {
   "cell_type": "code",
   "execution_count": 26,
   "metadata": {},
   "outputs": [
    {
     "data": {
      "text/html": [
       "<div>\n",
       "<style scoped>\n",
       "    .dataframe tbody tr th:only-of-type {\n",
       "        vertical-align: middle;\n",
       "    }\n",
       "\n",
       "    .dataframe tbody tr th {\n",
       "        vertical-align: top;\n",
       "    }\n",
       "\n",
       "    .dataframe thead th {\n",
       "        text-align: right;\n",
       "    }\n",
       "</style>\n",
       "<table border=\"1\" class=\"dataframe\">\n",
       "  <thead>\n",
       "    <tr style=\"text-align: right;\">\n",
       "      <th></th>\n",
       "      <th>0</th>\n",
       "      <th>1</th>\n",
       "      <th>2</th>\n",
       "      <th>3</th>\n",
       "      <th>4</th>\n",
       "    </tr>\n",
       "  </thead>\n",
       "  <tbody>\n",
       "    <tr>\n",
       "      <th>0</th>\n",
       "      <td>1.0</td>\n",
       "      <td>370152.546272</td>\n",
       "      <td>227503.035589</td>\n",
       "      <td>223913.803826</td>\n",
       "      <td>332127.492066</td>\n",
       "    </tr>\n",
       "    <tr>\n",
       "      <th>1</th>\n",
       "      <td>1.0</td>\n",
       "      <td>588734.777715</td>\n",
       "      <td>361733.721473</td>\n",
       "      <td>356004.831788</td>\n",
       "      <td>528234.705383</td>\n",
       "    </tr>\n",
       "    <tr>\n",
       "      <th>2</th>\n",
       "      <td>1.0</td>\n",
       "      <td>420135.926212</td>\n",
       "      <td>258170.252569</td>\n",
       "      <td>254085.724917</td>\n",
       "      <td>376968.005359</td>\n",
       "    </tr>\n",
       "    <tr>\n",
       "      <th>3</th>\n",
       "      <td>1.0</td>\n",
       "      <td>461030.472716</td>\n",
       "      <td>283301.967206</td>\n",
       "      <td>278820.311351</td>\n",
       "      <td>413660.964855</td>\n",
       "    </tr>\n",
       "    <tr>\n",
       "      <th>4</th>\n",
       "      <td>1.0</td>\n",
       "      <td>517208.871213</td>\n",
       "      <td>317804.244613</td>\n",
       "      <td>312772.791590</td>\n",
       "      <td>464065.462704</td>\n",
       "    </tr>\n",
       "  </tbody>\n",
       "</table>\n",
       "</div>"
      ],
      "text/plain": [
       "     0              1              2              3              4\n",
       "0  1.0  370152.546272  227503.035589  223913.803826  332127.492066\n",
       "1  1.0  588734.777715  361733.721473  356004.831788  528234.705383\n",
       "2  1.0  420135.926212  258170.252569  254085.724917  376968.005359\n",
       "3  1.0  461030.472716  283301.967206  278820.311351  413660.964855\n",
       "4  1.0  517208.871213  317804.244613  312772.791590  464065.462704"
      ]
     },
     "execution_count": 26,
     "metadata": {},
     "output_type": "execute_result"
    }
   ],
   "source": [
    "pd.DataFrame(X).head()"
   ]
  },
  {
   "cell_type": "markdown",
   "metadata": {},
   "source": [
    "Присвоим переменной $у$ целевые признаки и вычислим вектор $w$"
   ]
  },
  {
   "cell_type": "code",
   "execution_count": 27,
   "metadata": {},
   "outputs": [],
   "source": [
    "y = train_target\n",
    "w = (np.linalg.inv(X.T.dot(X)).dot(X.T)).dot(y)"
   ]
  },
  {
   "cell_type": "markdown",
   "metadata": {},
   "source": [
    "Вычислим предсказание модели"
   ]
  },
  {
   "cell_type": "code",
   "execution_count": 28,
   "metadata": {},
   "outputs": [],
   "source": [
    "a = M_test.dot(w[1:]) + w[0]"
   ]
  },
  {
   "cell_type": "markdown",
   "metadata": {},
   "source": [
    "Проверим значение R2"
   ]
  },
  {
   "cell_type": "code",
   "execution_count": 29,
   "metadata": {},
   "outputs": [
    {
     "name": "stdout",
     "output_type": "stream",
     "text": [
      "R2: 0.43522619939989693\n"
     ]
    }
   ],
   "source": [
    "R2_m=r2_score(test_target, a)\n",
    "print('R2:', R2_m)"
   ]
  },
  {
   "cell_type": "code",
   "execution_count": 30,
   "metadata": {},
   "outputs": [
    {
     "data": {
      "text/html": [
       "<div>\n",
       "<style scoped>\n",
       "    .dataframe tbody tr th:only-of-type {\n",
       "        vertical-align: middle;\n",
       "    }\n",
       "\n",
       "    .dataframe tbody tr th {\n",
       "        vertical-align: top;\n",
       "    }\n",
       "\n",
       "    .dataframe thead th {\n",
       "        text-align: right;\n",
       "    }\n",
       "</style>\n",
       "<table border=\"1\" class=\"dataframe\">\n",
       "  <thead>\n",
       "    <tr style=\"text-align: right;\">\n",
       "      <th></th>\n",
       "      <th>R2</th>\n",
       "    </tr>\n",
       "  </thead>\n",
       "  <tbody>\n",
       "    <tr>\n",
       "      <th>Изменённая матрица</th>\n",
       "      <td>0.435226</td>\n",
       "    </tr>\n",
       "    <tr>\n",
       "      <th>Неизменённая матрица</th>\n",
       "      <td>0.435228</td>\n",
       "    </tr>\n",
       "  </tbody>\n",
       "</table>\n",
       "</div>"
      ],
      "text/plain": [
       "                            R2\n",
       "Изменённая матрица    0.435226\n",
       "Неизменённая матрица  0.435228"
      ]
     },
     "execution_count": 30,
     "metadata": {},
     "output_type": "execute_result"
    }
   ],
   "source": [
    "tab = pd.DataFrame(index=['R2'], columns=['Изменённая матрица','Неизменённая матрица'])\n",
    "tab['Изменённая матрица'] = R2_m\n",
    "tab['Неизменённая матрица'] = R2_lr\n",
    "\n",
    "tab.T"
   ]
  },
  {
   "cell_type": "markdown",
   "metadata": {},
   "source": [
    "### Вывод"
   ]
  },
  {
   "cell_type": "markdown",
   "metadata": {},
   "source": [
    "<p>В работе необходимо было защитить данные клиентов страховой компании &laquo;Хоть потоп&raquo;.</p>\n",
    "<p>Разработать такой метод преобразования данных, чтобы по ним было сложно восстановить персональную информацию.</p>\n",
    "<p>Обосновать корректность его работы.</p>\n",
    "<p>Необходимо было защитить данные таким образом, чтобы при преобразовании качество моделей машинного обучения не ухудшилось.</p>\n",
    "<p>Данные содержали 5000 строк и 5 признаков, целевой признак - Страховые выплаты.</p>\n",
    "<p>В ходе исследования данных были удалены явные дубликаты, все признаки приведены к цельночисленному типу.</p>\n",
    "<p>В процессе работы был разработан алгоритм преобразования признаков методом умножения исходных данных на обратимую матрицу. Результатом преобразования стала измененная матрица признаков с зашифрованными данными.</p>\n",
    "<p>Значения метрики R2 остались неизменными.</p>"
   ]
  },
  {
   "cell_type": "markdown",
   "metadata": {},
   "source": [
    "<div class=\"alert alert-warning\">\n",
    "    <b>💡**Комментарий ревьюера** </b>\n",
    "    <p> При написании вывода стоит писать все действия в прошедшем времени без «нужно». </p>\n",
    "</div>"
   ]
  },
  {
   "cell_type": "markdown",
   "metadata": {},
   "source": [
    "<div class=\"alert alert-info\"> <b>Комментарий студента:</b> Исправлено.</div>"
   ]
  },
  {
   "cell_type": "markdown",
   "metadata": {},
   "source": [
    "## Чек-лист проверки"
   ]
  },
  {
   "cell_type": "markdown",
   "metadata": {},
   "source": [
    "Поставьте 'x' в выполненных пунктах. Далее нажмите Shift+Enter."
   ]
  },
  {
   "cell_type": "markdown",
   "metadata": {},
   "source": [
    "- [x]  Jupyter Notebook открыт\n",
    "- [x]  Весь код выполняется без ошибок\n",
    "- [x]  Ячейки с кодом расположены в порядке исполнения\n",
    "- [x]  Выполнен шаг 1: данные загружены\n",
    "- [x]  Выполнен шаг 2: получен ответ на вопрос об умножении матриц\n",
    "    - [x]  Указан правильный вариант ответа\n",
    "    - [x]  Вариант обоснован\n",
    "- [x]  Выполнен шаг 3: предложен алгоритм преобразования\n",
    "    - [x]  Алгоритм описан\n",
    "    - [x]  Алгоритм обоснован\n",
    "- [x]  Выполнен шаг 4: алгоритм проверен\n",
    "    - [x]  Алгоритм реализован\n",
    "    - [x]  Проведено сравнение качества моделей до и после преобразования"
   ]
  },
  {
   "cell_type": "markdown",
   "metadata": {},
   "source": [
    "<div style=\"border:solid Green 2px; padding: 40px\">\n",
    "\n",
    "<b>**Общий вывод по проекту**</b>\n",
    "\n",
    "Спасибо за твой проект! Видно, что в него вложено много сил и проведена большая работа. Но есть моменты, которые хотелось бы доработать.\n",
    "    \n",
    "Кратко пройдусь по впечатлениям. \n",
    "\n",
    "<b>Отмечу положительные стороны проекта:</b>\n",
    " \n",
    "* Отличное оформление проекта.\n",
    "* Проведен подробный анализ данных.\n",
    "* Написана собственная функция для линейной регрессии.\n",
    "    \n",
    "<b>На что стоит обратить внимание:</b>\n",
    "   \n",
    "* Неверное обоснование почему качество модели не изменится.\n",
    "* Нет плана преобразования.\n",
    "\n",
    "\n",
    "<b>**Желаю удачи и жду твой проект на повторное ревью!**</b>\n",
    "\n",
    "</div>"
   ]
  }
 ],
 "metadata": {
  "ExecuteTimeLog": [
   {
    "duration": 2476,
    "start_time": "2023-05-17T11:00:20.973Z"
   },
   {
    "duration": 134,
    "start_time": "2023-05-17T11:02:10.823Z"
   },
   {
    "duration": 10,
    "start_time": "2023-05-17T11:02:27.298Z"
   },
   {
    "duration": 29,
    "start_time": "2023-05-17T11:02:34.889Z"
   },
   {
    "duration": 1152,
    "start_time": "2023-05-17T11:16:16.817Z"
   },
   {
    "duration": 864,
    "start_time": "2023-05-17T11:16:27.448Z"
   },
   {
    "duration": 323,
    "start_time": "2023-05-17T11:17:38.490Z"
   },
   {
    "duration": 262,
    "start_time": "2023-05-17T11:18:25.927Z"
   },
   {
    "duration": 830,
    "start_time": "2023-05-17T11:18:35.456Z"
   },
   {
    "duration": 996,
    "start_time": "2023-05-17T11:18:54.732Z"
   },
   {
    "duration": 212,
    "start_time": "2023-05-17T11:20:43.614Z"
   },
   {
    "duration": 203,
    "start_time": "2023-05-17T11:21:42.027Z"
   },
   {
    "duration": 899,
    "start_time": "2023-05-17T11:22:33.851Z"
   },
   {
    "duration": 16,
    "start_time": "2023-05-17T11:23:12.416Z"
   },
   {
    "duration": 8,
    "start_time": "2023-05-17T11:26:07.616Z"
   },
   {
    "duration": 671,
    "start_time": "2023-05-17T11:26:19.189Z"
   },
   {
    "duration": 389,
    "start_time": "2023-05-17T11:26:54.582Z"
   },
   {
    "duration": 405,
    "start_time": "2023-05-17T11:27:02.118Z"
   },
   {
    "duration": 377,
    "start_time": "2023-05-17T11:27:27.130Z"
   },
   {
    "duration": 456,
    "start_time": "2023-05-17T11:27:33.062Z"
   },
   {
    "duration": 453,
    "start_time": "2023-05-17T11:28:17.783Z"
   },
   {
    "duration": 40,
    "start_time": "2023-05-17T11:31:07.279Z"
   },
   {
    "duration": 504,
    "start_time": "2023-05-17T11:31:50.387Z"
   },
   {
    "duration": 1349,
    "start_time": "2023-05-17T11:34:16.887Z"
   },
   {
    "duration": 6,
    "start_time": "2023-05-17T11:35:52.313Z"
   },
   {
    "duration": 350,
    "start_time": "2023-05-17T11:36:52.948Z"
   },
   {
    "duration": 8,
    "start_time": "2023-05-17T11:37:25.434Z"
   },
   {
    "duration": 4,
    "start_time": "2023-05-17T11:37:31.347Z"
   },
   {
    "duration": 207,
    "start_time": "2023-05-17T11:37:32.087Z"
   },
   {
    "duration": 14,
    "start_time": "2023-05-17T11:37:40.548Z"
   },
   {
    "duration": 22,
    "start_time": "2023-05-17T11:38:20.723Z"
   },
   {
    "duration": 29,
    "start_time": "2023-05-17T11:38:39.037Z"
   },
   {
    "duration": 11,
    "start_time": "2023-05-17T11:38:45.386Z"
   },
   {
    "duration": 11,
    "start_time": "2023-05-17T11:38:47.598Z"
   },
   {
    "duration": 7,
    "start_time": "2023-05-17T11:38:53.514Z"
   },
   {
    "duration": 35,
    "start_time": "2023-05-17T11:38:55.126Z"
   },
   {
    "duration": 54,
    "start_time": "2023-05-18T06:41:28.887Z"
   },
   {
    "duration": 1646,
    "start_time": "2023-05-18T06:41:35.928Z"
   },
   {
    "duration": 165,
    "start_time": "2023-05-18T06:41:37.576Z"
   },
   {
    "duration": 3,
    "start_time": "2023-05-18T06:41:37.743Z"
   },
   {
    "duration": 16,
    "start_time": "2023-05-18T06:41:37.748Z"
   },
   {
    "duration": 7,
    "start_time": "2023-05-18T06:41:37.765Z"
   },
   {
    "duration": 20,
    "start_time": "2023-05-18T06:41:40.078Z"
   },
   {
    "duration": 4,
    "start_time": "2023-05-18T06:41:40.963Z"
   },
   {
    "duration": 13,
    "start_time": "2023-05-18T06:42:06.726Z"
   },
   {
    "duration": 35,
    "start_time": "2023-05-18T06:42:18.168Z"
   },
   {
    "duration": 17,
    "start_time": "2023-05-18T06:43:08.220Z"
   },
   {
    "duration": 682,
    "start_time": "2023-05-18T06:43:09.302Z"
   },
   {
    "duration": 1165,
    "start_time": "2023-05-18T06:44:31.200Z"
   },
   {
    "duration": 96,
    "start_time": "2023-05-18T06:49:18.975Z"
   },
   {
    "duration": 5,
    "start_time": "2023-05-18T06:49:28.103Z"
   },
   {
    "duration": 5,
    "start_time": "2023-05-18T06:49:36.176Z"
   },
   {
    "duration": 19,
    "start_time": "2023-05-18T06:49:44.479Z"
   },
   {
    "duration": 6,
    "start_time": "2023-05-18T06:53:13.527Z"
   },
   {
    "duration": 11,
    "start_time": "2023-05-18T06:53:19.782Z"
   },
   {
    "duration": 7,
    "start_time": "2023-05-18T06:53:24.412Z"
   },
   {
    "duration": 7,
    "start_time": "2023-05-18T06:53:44.410Z"
   },
   {
    "duration": 50,
    "start_time": "2023-05-18T06:57:36.808Z"
   },
   {
    "duration": 5,
    "start_time": "2023-05-18T06:57:41.310Z"
   },
   {
    "duration": 802,
    "start_time": "2023-05-18T07:01:37.659Z"
   },
   {
    "duration": 808,
    "start_time": "2023-05-18T07:02:02.942Z"
   },
   {
    "duration": 13,
    "start_time": "2023-05-18T07:04:16.506Z"
   },
   {
    "duration": 6,
    "start_time": "2023-05-18T07:04:17.255Z"
   },
   {
    "duration": 6,
    "start_time": "2023-05-18T07:04:18.020Z"
   },
   {
    "duration": 61,
    "start_time": "2023-05-18T07:04:25.033Z"
   },
   {
    "duration": 6,
    "start_time": "2023-05-18T07:23:11.032Z"
   },
   {
    "duration": 35,
    "start_time": "2023-05-18T07:23:11.040Z"
   },
   {
    "duration": 3,
    "start_time": "2023-05-18T07:23:11.077Z"
   },
   {
    "duration": 36,
    "start_time": "2023-05-18T07:23:11.082Z"
   },
   {
    "duration": 7,
    "start_time": "2023-05-18T07:23:11.120Z"
   },
   {
    "duration": 12,
    "start_time": "2023-05-18T07:23:11.128Z"
   },
   {
    "duration": 20,
    "start_time": "2023-05-18T07:23:11.142Z"
   },
   {
    "duration": 851,
    "start_time": "2023-05-18T07:23:11.164Z"
   },
   {
    "duration": 6,
    "start_time": "2023-05-18T07:23:12.016Z"
   },
   {
    "duration": 353,
    "start_time": "2023-05-18T07:23:12.024Z"
   },
   {
    "duration": 4,
    "start_time": "2023-05-18T07:23:19.358Z"
   },
   {
    "duration": 6,
    "start_time": "2023-05-18T07:23:20.067Z"
   },
   {
    "duration": 6,
    "start_time": "2023-05-18T07:23:20.756Z"
   },
   {
    "duration": 7,
    "start_time": "2023-05-18T07:23:21.623Z"
   },
   {
    "duration": 13,
    "start_time": "2023-05-18T07:23:26.001Z"
   },
   {
    "duration": 18,
    "start_time": "2023-05-18T07:24:09.806Z"
   },
   {
    "duration": 10,
    "start_time": "2023-05-18T07:24:20.084Z"
   },
   {
    "duration": 9,
    "start_time": "2023-05-18T07:24:32.199Z"
   },
   {
    "duration": 10,
    "start_time": "2023-05-18T07:25:18.110Z"
   },
   {
    "duration": 24,
    "start_time": "2023-05-18T07:25:27.974Z"
   },
   {
    "duration": 11,
    "start_time": "2023-05-18T07:26:00.196Z"
   },
   {
    "duration": 10,
    "start_time": "2023-05-18T07:26:13.533Z"
   },
   {
    "duration": 5,
    "start_time": "2023-05-18T07:30:29.104Z"
   },
   {
    "duration": 6,
    "start_time": "2023-05-18T07:31:18.403Z"
   },
   {
    "duration": 5,
    "start_time": "2023-05-18T07:31:30.574Z"
   },
   {
    "duration": 4,
    "start_time": "2023-05-18T07:31:36.918Z"
   },
   {
    "duration": 5,
    "start_time": "2023-05-18T07:32:31.913Z"
   },
   {
    "duration": 9,
    "start_time": "2023-05-18T07:34:15.101Z"
   },
   {
    "duration": 11,
    "start_time": "2023-05-18T07:34:25.795Z"
   },
   {
    "duration": 10,
    "start_time": "2023-05-18T07:37:33.105Z"
   },
   {
    "duration": 8,
    "start_time": "2023-05-18T07:41:03.674Z"
   },
   {
    "duration": 5,
    "start_time": "2023-05-18T07:41:37.220Z"
   },
   {
    "duration": 43,
    "start_time": "2023-05-18T07:41:37.226Z"
   },
   {
    "duration": 3,
    "start_time": "2023-05-18T07:41:37.271Z"
   },
   {
    "duration": 29,
    "start_time": "2023-05-18T07:41:37.276Z"
   },
   {
    "duration": 20,
    "start_time": "2023-05-18T07:41:37.307Z"
   },
   {
    "duration": 10,
    "start_time": "2023-05-18T07:41:37.328Z"
   },
   {
    "duration": 19,
    "start_time": "2023-05-18T07:41:37.339Z"
   },
   {
    "duration": 865,
    "start_time": "2023-05-18T07:41:37.360Z"
   },
   {
    "duration": 4,
    "start_time": "2023-05-18T07:41:38.227Z"
   },
   {
    "duration": 686,
    "start_time": "2023-05-18T07:41:38.233Z"
   },
   {
    "duration": 4,
    "start_time": "2023-05-18T07:41:38.921Z"
   },
   {
    "duration": 18,
    "start_time": "2023-05-18T07:41:38.927Z"
   },
   {
    "duration": 15,
    "start_time": "2023-05-18T07:41:38.947Z"
   },
   {
    "duration": 15,
    "start_time": "2023-05-18T07:41:38.965Z"
   },
   {
    "duration": 146,
    "start_time": "2023-05-18T07:41:38.982Z"
   },
   {
    "duration": 13,
    "start_time": "2023-05-18T07:41:39.129Z"
   },
   {
    "duration": 12,
    "start_time": "2023-05-18T07:41:39.144Z"
   },
   {
    "duration": 49,
    "start_time": "2023-05-18T07:41:39.157Z"
   },
   {
    "duration": 103,
    "start_time": "2023-05-18T07:41:39.207Z"
   },
   {
    "duration": 8,
    "start_time": "2023-05-18T07:41:39.314Z"
   },
   {
    "duration": 5,
    "start_time": "2023-05-18T09:03:20.075Z"
   },
   {
    "duration": 4,
    "start_time": "2023-05-18T09:03:49.468Z"
   },
   {
    "duration": 9,
    "start_time": "2023-05-18T09:05:12.300Z"
   },
   {
    "duration": 8,
    "start_time": "2023-05-18T09:05:35.932Z"
   },
   {
    "duration": 9,
    "start_time": "2023-05-18T09:06:21.671Z"
   },
   {
    "duration": 8,
    "start_time": "2023-05-18T09:06:42.021Z"
   },
   {
    "duration": 4,
    "start_time": "2023-05-18T09:09:17.810Z"
   },
   {
    "duration": 9,
    "start_time": "2023-05-18T09:09:25.591Z"
   },
   {
    "duration": 9,
    "start_time": "2023-05-18T09:10:41.216Z"
   },
   {
    "duration": 3,
    "start_time": "2023-05-18T09:11:27.879Z"
   },
   {
    "duration": 4,
    "start_time": "2023-05-18T09:13:15.002Z"
   },
   {
    "duration": 10,
    "start_time": "2023-05-18T09:16:15.489Z"
   },
   {
    "duration": 10,
    "start_time": "2023-05-18T09:16:29.994Z"
   },
   {
    "duration": 8,
    "start_time": "2023-05-18T09:16:34.666Z"
   },
   {
    "duration": 8,
    "start_time": "2023-05-18T09:16:39.021Z"
   },
   {
    "duration": 5,
    "start_time": "2023-05-18T09:32:03.584Z"
   },
   {
    "duration": 10,
    "start_time": "2023-05-18T09:33:22.060Z"
   },
   {
    "duration": 8,
    "start_time": "2023-05-18T09:33:36.752Z"
   },
   {
    "duration": 805,
    "start_time": "2023-05-18T09:33:44.119Z"
   },
   {
    "duration": 8,
    "start_time": "2023-05-18T09:33:49.481Z"
   },
   {
    "duration": 41,
    "start_time": "2023-05-18T09:33:49.495Z"
   },
   {
    "duration": 3,
    "start_time": "2023-05-18T09:33:49.538Z"
   },
   {
    "duration": 14,
    "start_time": "2023-05-18T09:33:49.542Z"
   },
   {
    "duration": 7,
    "start_time": "2023-05-18T09:33:49.559Z"
   },
   {
    "duration": 10,
    "start_time": "2023-05-18T09:33:49.568Z"
   },
   {
    "duration": 38,
    "start_time": "2023-05-18T09:33:49.579Z"
   },
   {
    "duration": 855,
    "start_time": "2023-05-18T09:33:49.619Z"
   },
   {
    "duration": 5,
    "start_time": "2023-05-18T09:33:50.475Z"
   },
   {
    "duration": 343,
    "start_time": "2023-05-18T09:33:50.492Z"
   },
   {
    "duration": 3,
    "start_time": "2023-05-18T09:33:50.837Z"
   },
   {
    "duration": 9,
    "start_time": "2023-05-18T09:33:50.842Z"
   },
   {
    "duration": 11,
    "start_time": "2023-05-18T09:33:50.853Z"
   },
   {
    "duration": 19,
    "start_time": "2023-05-18T09:33:50.866Z"
   },
   {
    "duration": 105,
    "start_time": "2023-05-18T09:33:50.886Z"
   },
   {
    "duration": 3,
    "start_time": "2023-05-18T09:33:50.993Z"
   },
   {
    "duration": 100,
    "start_time": "2023-05-18T09:33:50.998Z"
   },
   {
    "duration": 104,
    "start_time": "2023-05-18T09:33:51.100Z"
   },
   {
    "duration": 34,
    "start_time": "2023-05-18T09:33:51.205Z"
   },
   {
    "duration": 54,
    "start_time": "2023-05-18T09:33:51.240Z"
   },
   {
    "duration": 9,
    "start_time": "2023-05-18T09:33:51.297Z"
   },
   {
    "duration": 25,
    "start_time": "2023-05-18T09:33:51.308Z"
   },
   {
    "duration": 69,
    "start_time": "2023-05-18T09:33:51.335Z"
   },
   {
    "duration": 93,
    "start_time": "2023-05-18T09:33:51.406Z"
   },
   {
    "duration": 11,
    "start_time": "2023-05-18T09:33:51.501Z"
   },
   {
    "duration": 19,
    "start_time": "2023-05-18T09:33:51.513Z"
   },
   {
    "duration": 6,
    "start_time": "2023-05-18T09:33:51.534Z"
   },
   {
    "duration": 7,
    "start_time": "2023-05-18T09:33:51.542Z"
   },
   {
    "duration": 4,
    "start_time": "2023-05-18T09:33:51.585Z"
   },
   {
    "duration": 11,
    "start_time": "2023-05-18T09:33:51.590Z"
   },
   {
    "duration": 7,
    "start_time": "2023-05-18T09:39:06.921Z"
   },
   {
    "duration": 1601,
    "start_time": "2023-05-18T10:05:38.663Z"
   },
   {
    "duration": 97,
    "start_time": "2023-05-18T10:05:40.267Z"
   },
   {
    "duration": 4,
    "start_time": "2023-05-18T10:05:40.365Z"
   },
   {
    "duration": 113,
    "start_time": "2023-05-18T10:05:40.371Z"
   },
   {
    "duration": 28,
    "start_time": "2023-05-18T10:05:40.487Z"
   },
   {
    "duration": 18,
    "start_time": "2023-05-18T10:05:40.517Z"
   },
   {
    "duration": 25,
    "start_time": "2023-05-18T10:05:40.538Z"
   },
   {
    "duration": 1212,
    "start_time": "2023-05-18T10:05:40.565Z"
   },
   {
    "duration": 7,
    "start_time": "2023-05-18T10:05:41.780Z"
   },
   {
    "duration": 390,
    "start_time": "2023-05-18T10:05:41.789Z"
   },
   {
    "duration": 5,
    "start_time": "2023-05-18T10:05:42.181Z"
   },
   {
    "duration": 43,
    "start_time": "2023-05-18T10:05:42.188Z"
   },
   {
    "duration": 59,
    "start_time": "2023-05-18T10:05:42.233Z"
   },
   {
    "duration": 272,
    "start_time": "2023-05-18T10:05:42.296Z"
   },
   {
    "duration": 0,
    "start_time": "2023-05-18T10:05:42.570Z"
   },
   {
    "duration": 0,
    "start_time": "2023-05-18T10:05:42.571Z"
   },
   {
    "duration": 0,
    "start_time": "2023-05-18T10:05:42.572Z"
   },
   {
    "duration": 0,
    "start_time": "2023-05-18T10:05:42.573Z"
   },
   {
    "duration": 0,
    "start_time": "2023-05-18T10:05:42.575Z"
   },
   {
    "duration": 0,
    "start_time": "2023-05-18T10:05:42.576Z"
   },
   {
    "duration": 0,
    "start_time": "2023-05-18T10:05:42.577Z"
   },
   {
    "duration": 0,
    "start_time": "2023-05-18T10:05:42.578Z"
   },
   {
    "duration": 0,
    "start_time": "2023-05-18T10:05:42.579Z"
   },
   {
    "duration": 0,
    "start_time": "2023-05-18T10:05:42.580Z"
   },
   {
    "duration": 0,
    "start_time": "2023-05-18T10:05:42.581Z"
   },
   {
    "duration": 0,
    "start_time": "2023-05-18T10:05:42.582Z"
   },
   {
    "duration": 0,
    "start_time": "2023-05-18T10:05:42.584Z"
   },
   {
    "duration": 0,
    "start_time": "2023-05-18T10:05:42.585Z"
   },
   {
    "duration": 0,
    "start_time": "2023-05-18T10:05:42.586Z"
   },
   {
    "duration": 0,
    "start_time": "2023-05-18T10:05:42.587Z"
   },
   {
    "duration": 9,
    "start_time": "2023-05-18T10:07:43.927Z"
   },
   {
    "duration": 14,
    "start_time": "2023-05-18T11:03:23.705Z"
   },
   {
    "duration": 33,
    "start_time": "2023-05-18T11:03:23.722Z"
   },
   {
    "duration": 44,
    "start_time": "2023-05-18T11:03:23.758Z"
   },
   {
    "duration": 79,
    "start_time": "2023-05-18T11:03:23.805Z"
   },
   {
    "duration": 114,
    "start_time": "2023-05-18T11:03:23.886Z"
   },
   {
    "duration": 17,
    "start_time": "2023-05-18T11:03:24.002Z"
   },
   {
    "duration": 6,
    "start_time": "2023-05-18T11:03:24.021Z"
   },
   {
    "duration": 10,
    "start_time": "2023-05-18T11:03:24.028Z"
   },
   {
    "duration": 139,
    "start_time": "2023-05-18T11:03:24.040Z"
   },
   {
    "duration": 22,
    "start_time": "2023-05-18T11:03:24.183Z"
   },
   {
    "duration": 5,
    "start_time": "2023-05-18T11:03:24.208Z"
   },
   {
    "duration": 31,
    "start_time": "2023-05-18T11:03:24.215Z"
   },
   {
    "duration": 24,
    "start_time": "2023-05-18T11:03:24.249Z"
   },
   {
    "duration": 107,
    "start_time": "2023-05-18T11:03:24.275Z"
   },
   {
    "duration": 90,
    "start_time": "2023-05-18T11:03:24.385Z"
   },
   {
    "duration": 34,
    "start_time": "2023-05-18T11:03:24.478Z"
   },
   {
    "duration": 2003,
    "start_time": "2023-05-19T06:33:53.457Z"
   },
   {
    "duration": 105,
    "start_time": "2023-05-19T06:33:55.465Z"
   },
   {
    "duration": 3,
    "start_time": "2023-05-19T06:33:55.571Z"
   },
   {
    "duration": 14,
    "start_time": "2023-05-19T06:33:55.575Z"
   },
   {
    "duration": 7,
    "start_time": "2023-05-19T06:33:55.590Z"
   },
   {
    "duration": 10,
    "start_time": "2023-05-19T06:33:55.599Z"
   },
   {
    "duration": 53,
    "start_time": "2023-05-19T06:33:55.611Z"
   },
   {
    "duration": 1034,
    "start_time": "2023-05-19T06:33:55.666Z"
   },
   {
    "duration": 5,
    "start_time": "2023-05-19T06:33:56.702Z"
   },
   {
    "duration": 460,
    "start_time": "2023-05-19T06:33:56.709Z"
   },
   {
    "duration": 4,
    "start_time": "2023-05-19T06:33:57.171Z"
   },
   {
    "duration": 11,
    "start_time": "2023-05-19T06:33:57.177Z"
   },
   {
    "duration": 4,
    "start_time": "2023-05-19T06:33:57.190Z"
   },
   {
    "duration": 6,
    "start_time": "2023-05-19T06:34:29.633Z"
   },
   {
    "duration": 13,
    "start_time": "2023-05-19T06:45:46.647Z"
   },
   {
    "duration": 46,
    "start_time": "2023-05-19T06:45:46.662Z"
   },
   {
    "duration": 3,
    "start_time": "2023-05-19T06:45:46.710Z"
   },
   {
    "duration": 14,
    "start_time": "2023-05-19T06:45:46.715Z"
   },
   {
    "duration": 2,
    "start_time": "2023-05-19T06:46:13.114Z"
   },
   {
    "duration": 12,
    "start_time": "2023-05-19T06:46:13.596Z"
   },
   {
    "duration": 25,
    "start_time": "2023-05-19T06:46:19.443Z"
   },
   {
    "duration": 986,
    "start_time": "2023-05-19T06:46:20.647Z"
   },
   {
    "duration": 6,
    "start_time": "2023-05-19T06:46:28.871Z"
   },
   {
    "duration": 397,
    "start_time": "2023-05-19T06:46:32.813Z"
   },
   {
    "duration": 121,
    "start_time": "2023-05-19T08:08:40.490Z"
   },
   {
    "duration": 7,
    "start_time": "2023-05-19T08:09:55.130Z"
   },
   {
    "duration": 74,
    "start_time": "2023-05-19T08:09:55.140Z"
   },
   {
    "duration": 3,
    "start_time": "2023-05-19T08:09:55.216Z"
   },
   {
    "duration": 18,
    "start_time": "2023-05-19T08:09:55.221Z"
   },
   {
    "duration": 2,
    "start_time": "2023-05-19T08:09:55.242Z"
   },
   {
    "duration": 20,
    "start_time": "2023-05-19T08:09:55.247Z"
   },
   {
    "duration": 42,
    "start_time": "2023-05-19T08:09:55.273Z"
   },
   {
    "duration": 1332,
    "start_time": "2023-05-19T08:09:55.316Z"
   },
   {
    "duration": 24,
    "start_time": "2023-05-19T08:09:56.650Z"
   },
   {
    "duration": 398,
    "start_time": "2023-05-19T08:09:56.675Z"
   },
   {
    "duration": 9,
    "start_time": "2023-05-19T08:09:57.079Z"
   },
   {
    "duration": 18,
    "start_time": "2023-05-19T08:09:57.091Z"
   },
   {
    "duration": 11,
    "start_time": "2023-05-19T08:09:57.113Z"
   },
   {
    "duration": 31,
    "start_time": "2023-05-19T08:09:57.127Z"
   },
   {
    "duration": 32,
    "start_time": "2023-05-19T08:09:57.162Z"
   },
   {
    "duration": 10,
    "start_time": "2023-05-19T08:09:57.196Z"
   },
   {
    "duration": 47,
    "start_time": "2023-05-19T08:09:57.258Z"
   },
   {
    "duration": 14,
    "start_time": "2023-05-19T08:09:57.358Z"
   },
   {
    "duration": 21,
    "start_time": "2023-05-19T08:09:57.374Z"
   },
   {
    "duration": 15,
    "start_time": "2023-05-19T08:09:57.397Z"
   },
   {
    "duration": 6,
    "start_time": "2023-05-19T08:09:57.415Z"
   },
   {
    "duration": 46,
    "start_time": "2023-05-19T08:09:57.453Z"
   },
   {
    "duration": 22,
    "start_time": "2023-05-19T08:09:57.503Z"
   },
   {
    "duration": 45,
    "start_time": "2023-05-19T08:09:57.527Z"
   },
   {
    "duration": 6,
    "start_time": "2023-05-19T08:09:57.577Z"
   },
   {
    "duration": 42,
    "start_time": "2023-05-19T08:09:57.587Z"
   },
   {
    "duration": 70,
    "start_time": "2023-05-19T08:09:57.630Z"
   },
   {
    "duration": 4,
    "start_time": "2023-05-19T08:09:57.701Z"
   },
   {
    "duration": 54,
    "start_time": "2023-05-19T08:09:57.706Z"
   },
   {
    "duration": 53,
    "start_time": "2023-05-19T08:09:57.762Z"
   },
   {
    "duration": 5,
    "start_time": "2023-05-19T08:14:27.302Z"
   },
   {
    "duration": 52,
    "start_time": "2023-05-19T08:14:27.309Z"
   },
   {
    "duration": 4,
    "start_time": "2023-05-19T08:14:27.364Z"
   },
   {
    "duration": 19,
    "start_time": "2023-05-19T08:14:27.370Z"
   },
   {
    "duration": 2,
    "start_time": "2023-05-19T08:14:27.392Z"
   },
   {
    "duration": 29,
    "start_time": "2023-05-19T08:14:27.396Z"
   },
   {
    "duration": 40,
    "start_time": "2023-05-19T08:14:27.427Z"
   },
   {
    "duration": 1224,
    "start_time": "2023-05-19T08:14:27.472Z"
   },
   {
    "duration": 8,
    "start_time": "2023-05-19T08:14:28.699Z"
   },
   {
    "duration": 423,
    "start_time": "2023-05-19T08:14:28.709Z"
   },
   {
    "duration": 4,
    "start_time": "2023-05-19T08:14:29.134Z"
   },
   {
    "duration": 26,
    "start_time": "2023-05-19T08:14:29.140Z"
   },
   {
    "duration": 7,
    "start_time": "2023-05-19T08:14:29.170Z"
   },
   {
    "duration": 15,
    "start_time": "2023-05-19T08:14:29.185Z"
   },
   {
    "duration": 50,
    "start_time": "2023-05-19T08:14:29.202Z"
   },
   {
    "duration": 6,
    "start_time": "2023-05-19T08:14:29.254Z"
   },
   {
    "duration": 8,
    "start_time": "2023-05-19T08:14:29.262Z"
   },
   {
    "duration": 91,
    "start_time": "2023-05-19T08:14:29.273Z"
   },
   {
    "duration": 26,
    "start_time": "2023-05-19T08:14:29.366Z"
   },
   {
    "duration": 65,
    "start_time": "2023-05-19T08:14:29.393Z"
   },
   {
    "duration": 8,
    "start_time": "2023-05-19T08:14:29.459Z"
   },
   {
    "duration": 15,
    "start_time": "2023-05-19T08:14:29.471Z"
   },
   {
    "duration": 10,
    "start_time": "2023-05-19T08:14:29.491Z"
   },
   {
    "duration": 62,
    "start_time": "2023-05-19T08:14:29.504Z"
   },
   {
    "duration": 6,
    "start_time": "2023-05-19T08:14:29.568Z"
   },
   {
    "duration": 31,
    "start_time": "2023-05-19T08:14:29.576Z"
   },
   {
    "duration": 66,
    "start_time": "2023-05-19T08:14:29.609Z"
   },
   {
    "duration": 75,
    "start_time": "2023-05-19T08:14:29.678Z"
   },
   {
    "duration": 15,
    "start_time": "2023-05-19T08:14:29.761Z"
   },
   {
    "duration": 23,
    "start_time": "2023-05-19T08:14:29.779Z"
   },
   {
    "duration": 1570,
    "start_time": "2023-05-20T13:56:22.326Z"
   },
   {
    "duration": 99,
    "start_time": "2023-05-20T13:56:23.898Z"
   },
   {
    "duration": 3,
    "start_time": "2023-05-20T13:56:23.999Z"
   },
   {
    "duration": 17,
    "start_time": "2023-05-20T13:56:24.004Z"
   },
   {
    "duration": 2,
    "start_time": "2023-05-20T13:56:24.024Z"
   },
   {
    "duration": 16,
    "start_time": "2023-05-20T13:56:24.028Z"
   },
   {
    "duration": 45,
    "start_time": "2023-05-20T13:56:24.045Z"
   },
   {
    "duration": 1000,
    "start_time": "2023-05-20T13:56:24.092Z"
   },
   {
    "duration": 5,
    "start_time": "2023-05-20T13:56:25.093Z"
   },
   {
    "duration": 376,
    "start_time": "2023-05-20T13:56:25.099Z"
   },
   {
    "duration": 4,
    "start_time": "2023-05-20T13:56:25.476Z"
   },
   {
    "duration": 11,
    "start_time": "2023-05-20T13:56:25.481Z"
   },
   {
    "duration": 4,
    "start_time": "2023-05-20T13:56:25.494Z"
   },
   {
    "duration": 11,
    "start_time": "2023-05-20T13:56:25.501Z"
   },
   {
    "duration": 160,
    "start_time": "2023-05-20T13:56:25.515Z"
   },
   {
    "duration": 9,
    "start_time": "2023-05-20T13:56:25.679Z"
   },
   {
    "duration": 88,
    "start_time": "2023-05-20T13:56:25.690Z"
   },
   {
    "duration": 95,
    "start_time": "2023-05-20T13:56:25.781Z"
   },
   {
    "duration": 11,
    "start_time": "2023-05-20T13:56:25.878Z"
   },
   {
    "duration": 15,
    "start_time": "2023-05-20T13:56:25.890Z"
   },
   {
    "duration": 71,
    "start_time": "2023-05-20T13:56:25.907Z"
   },
   {
    "duration": 11,
    "start_time": "2023-05-20T13:56:25.979Z"
   },
   {
    "duration": 90,
    "start_time": "2023-05-20T13:56:25.992Z"
   },
   {
    "duration": 92,
    "start_time": "2023-05-20T13:56:26.084Z"
   },
   {
    "duration": 6,
    "start_time": "2023-05-20T13:56:26.178Z"
   },
   {
    "duration": 13,
    "start_time": "2023-05-20T13:56:26.185Z"
   },
   {
    "duration": 5,
    "start_time": "2023-05-20T13:56:26.199Z"
   },
   {
    "duration": 5,
    "start_time": "2023-05-20T13:56:26.207Z"
   },
   {
    "duration": 65,
    "start_time": "2023-05-20T13:56:26.214Z"
   },
   {
    "duration": 95,
    "start_time": "2023-05-20T13:56:26.282Z"
   }
  ],
  "kernelspec": {
   "display_name": "Python 3 (ipykernel)",
   "language": "python",
   "name": "python3"
  },
  "language_info": {
   "codemirror_mode": {
    "name": "ipython",
    "version": 3
   },
   "file_extension": ".py",
   "mimetype": "text/x-python",
   "name": "python",
   "nbconvert_exporter": "python",
   "pygments_lexer": "ipython3",
   "version": "3.9.5"
  },
  "toc": {
   "base_numbering": 1,
   "nav_menu": {},
   "number_sections": true,
   "sideBar": true,
   "skip_h1_title": true,
   "title_cell": "Содержание",
   "title_sidebar": "Contents",
   "toc_cell": true,
   "toc_position": {},
   "toc_section_display": true,
   "toc_window_display": true
  }
 },
 "nbformat": 4,
 "nbformat_minor": 2
}
