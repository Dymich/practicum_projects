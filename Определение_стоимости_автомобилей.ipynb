{
 "cells": [
  {
   "cell_type": "markdown",
   "metadata": {},
   "source": [
    "# Результат ревью:\n",
    "\n",
    "Я отмечаю адекватный уровень твоей программистской подготовки. Ты используешь продвинутые концепции языка Python, библиотеки pandas и одной из основных библиотек машинного обучения sckit-learn. Это показывает твой уровень владения инструментами анализа данных и machine learning.\n",
    "\n",
    "С комментированием никаких проблем нет. Твоих объяснений достаточно для понимания твоими коллегами хода мыслей. Ссылки из брифа проекта в нужных местах также помогают следовать за развитием событий и дают полную информацию касаемо того, что будет происходить в том или ином разделе проекта.\n",
    "\n",
    "Мне было просто проверять твой проект, потому что он чётко структурирован, с использованием оглавления. \n",
    "\n",
    "Зелёным цветом я отметил и прокомментировал удачные и элегантные решения, на которые ты можешь опираться в будущих проектах.\n",
    "\n",
    "Жёлтым цветом я выделил то, что в следующий раз можно сделать по-другому. Ты можешь учесть эти комментарии при выполнении будущих заданий или доработать проект сейчас.\n",
    "\n",
    "Красных комментариев, которые бы не позволяли мне принять твой проект в его нынешнем состоянии - нет. \n",
    "\n",
    "ПРОЕКТ ПРИНЯТ!\n",
    "\n",
    "Подводя итог: отличная работа, молодец! Желаю тебе успехов в учёбе, желаю, чтобы проекты сдавались или сразу, или после первой итерации! Удачи!\n",
    "\n",
    "Если же после факта принятия проекта у тебя возникнут дополнительные вопросы – я никуда не пропал. Мой адрес эл/почты: anepomnjashiy@gmail.com, имя в Пачке: anepomnjashiy, имя в Телеграмме: https://t.me/aleks_nep\n",
    "\n",
    "p.s. я тебе на твой адрес эл/почты сейчас вышлю некоторые материалы из своей электронной библиотеки - надеюсь они будут тебе полезными в учёбе.</div>"
   ]
  },
  {
   "cell_type": "code",
   "execution_count": null,
   "metadata": {},
   "outputs": [],
   "source": []
  },
  {
   "cell_type": "markdown",
   "metadata": {},
   "source": [
    "Приветствую Евгения! \n",
    "\n",
    "Меня зовут Александр Непомнящий и я буду проверять твой проект. Предлагаю общаться на «ты» :))) Но, если это не удобно - мы вполне можем перейти на вы\".\n",
    "\n",
    "Вкратце обо мне: я работаю в сфере информационных технологий, аналитика (анализ) данных - это и мой рабочий функционал и личная, интересная мне область для саморазвития. Используемый стек: python, pandas, графические библиотеки matplotlib/seaborn/plotly. Сфера применения: маркетинговая аналитика в медицинской клинике (Клиника «Кивач», www.kivach.ru, республика Карелия). Если вдруг есть вопрос – что делает аналитик в коммерческой медицине – то вот короткий ответ. Самый главный вопрос, на который мы хотим получить ответ (и который в дальнейшем приведёт к перераспределению рекламного бюджета, плюс напрямую повлияет на разработку и предложению рынку новых лечебных программ) - это КТО ОН, НАШ КЛИЕНТ? Фактически это задача (на нашем внутреннем языке формулируется как построение и анализ «ПОРТРЕТА КЛИЕНТА»). Визуализируем и пытаемся придать смысл половозрастным данным наших клиентов, кто из какого региона и в какие времена года к нам приезжает. Учитываем количество приездов. Учитываем на какую программу этот конкретный клиент приехал в первый раз и как в дальнейшем меняются его предпочтения. Пытаемся построить модель оттока и спрогнозировать, когда клиент уйдёт в отток. Смотрим цифры (суммы трат клиентов на отдельных группах медицинских программ). Анализируем медицинские услуги, которые входят в путёвку, а также что, в каких количествах и на какую сумму клиент покупает дополнительно. Очень вкратце как-то так.\n",
    "\n",
    "Теперь к сути: основная цель моей проверки - пройти по шагам, по логике твоего решения и обсудить те моменты, которые можно изменить, улучшить, довести до идеала. Такой формат работы двух программистов (аналитиков) ты или уже встречал(а), или встретишь на своей новой работе. Кто-то такой процесс называет \"код-ревью\", ну а как по мне, так это обмен опытом двух коллег, когда каждый из нас становиться лучше в процессе дискуссии.\n",
    "\n",
    "Свои мысли, советы, комментарии и вопросы я буду оставлять в текстовых ячейках (markdown) ПОД твоим кодом. \n",
    "Для твоего удобства все эти заметки будут \"цветными\", как на примерах ниже:\n",
    "\n",
    "\"Зелеными\" комментариями я буду отмечать твой элегантный (\"красивый\") код и/или удачные решения, на которые ты можешь смело опираться в будущих проектах.\n",
    "<div class=\"alert alert-success\">\n",
    "<b>Отлично! 👍</b>\n",
    "\n",
    "Отличная находка, элегантный код ...</div>\n",
    "\n",
    "\"Жёлтые\" комментарии - это мои размышления, предложения, что-то, что на следующей итерации можно сделать по-другому. Твоя реакция на \"жёлтые\" комментарий необходима и подразумевает или правки, или реакцию или аргументированное согласие/не согласие. Я искренне верю, что наш двусторонний диалог под \"желтым\" комментарием - это то, от чего твой проект только выиграет. <div class=\"alert alert-warning\">\n",
    "<b>Комментарий 👉</b>\n",
    "\n",
    "Здесь я бы предложил использовать .... Мои аргументы в пользу этого ...</div>\n",
    "\n",
    "\"Красные\" комментарий будут появляться, когда что-то пойдёт не так: например, код будет выдавать ошибку. Или, когда в проекте не будет ответов на основные вопросы, ради которых весь анализ и выполнялся. \"Красные\" комментарии необходимо будет исправить, прежде чем я смогу принять проект.\n",
    "<div class=\"alert alert-danger\">\n",
    "<b>Необходимо исправить ❌</b>\n",
    "\n",
    "В этой ячейке код работает не так как задумано ...</div>\n",
    "\n",
    "Пожалуйста, не перемещай, не изменяй и не удаляй мои комментарии. Это поможет мне оперативно выполнить повторную проверку твоего проекта.\n",
    "\n",
    "Давай работать над проектом в диалоге: если ты что-то меняешь в проекте по моим рекомендациям — пиши об этом, лучше всего в новой ячейке, сразу под моим комментарием. Если для своих комментариев ты будешь использовать какой-то заметный цвет, то мне будет легче отследить твои изменения, например так:\n",
    "<div style=\"background: #B0E0E6; padding: 5px; border: 1px solid SteelBlue; border-radius: 5px;\">\n",
    "    <font color='4682B4'><u><b>КОММЕНТАРИЙ СТУДЕНТА</b></u></font>\n",
    "    <br />\n",
    "    <font color='4682B4'>Текст твоего комментария ...</font>\n",
    "</div>\n",
    "\n",
    "**Распространенные типичные недочёты в проектах студентов:**\n",
    "\n",
    "<div class=\"alert alert-danger\" ❌>\n",
    "Неработоспособный код. Проверь проект на работоспособность перед отправкой на проверку. Это важный навык, который тебе пригодится как на собеседовании, при выполнении тестового задания, так и перед совещанием у руководства компании.</div>\n",
    "<div class=\"alert alert-danger\" ❌>\n",
    "Проект не структурирован. В проекте должна быть структура, т.е. названия разделов и подразделов должны быть записаны в ячейках Markdown.</div>\n",
    "<div class=\"alert alert-warning\" 👉 >\n",
    "Отсутствие описания, целей проекта, его задач, выводов. В описании должны быть озвучены поставленные задачи, содержание датасета, промежуточные и финальные выводы. Как правило, заказчик читает только финальный вывод, поэтому важно добавить информацию о проведенном исследовании, применить форматирование текста, в общем, сделать красиво, чтобы было понятно, что проведено настоящее исследование и выводу можно верить.</div>  \n",
    "<div class=\"alert alert-warning\" 👉 >\n",
    "\"Длинный код\". Код и и комментарии, которые прячутся за правым концом ячейки нужно переносить на новую строку. Твои будущие коллеги не оценят необходимость постоянного скроллинга. Согласно PEP8: https://www.python.org/dev/peps/pep-0008/ длина строки не должна превышать 79 символов.</div>\n",
    "<div class=\"alert alert-warning\" 👉 >\n",
    "Твои коллеги ценят и твое и своё время, поэтому \"подсвечивай\" свои комментарии в ячейках Markdown. Подробнее про синтаксис Markdown, с примерами, можно почитать здесь: https://paulradzkov.com/2014/markdown_cheatsheet/?\n",
    "</div>"
   ]
  },
  {
   "cell_type": "code",
   "execution_count": null,
   "metadata": {},
   "outputs": [],
   "source": []
  },
  {
   "cell_type": "markdown",
   "metadata": {},
   "source": [
    "# Определение стоимости автомобилей"
   ]
  },
  {
   "cell_type": "markdown",
   "metadata": {},
   "source": [
    "Сервис по продаже автомобилей с пробегом «Не бит, не крашен» разрабатывает приложение для привлечения новых клиентов. В нём можно быстро узнать рыночную стоимость своего автомобиля. В вашем распоряжении исторические данные: технические характеристики, комплектации и цены автомобилей. Вам нужно построить модель для определения стоимости. \n",
    "\n",
    "Заказчику важны:\n",
    "\n",
    "- качество предсказания;\n",
    "- скорость предсказания;\n",
    "- время обучения."
   ]
  },
  {
   "cell_type": "markdown",
   "metadata": {
    "toc": true
   },
   "source": [
    "<h1>Table of Contents<span class=\"tocSkip\"></span></h1>\n",
    "<div class=\"toc\"><ul class=\"toc-item\"><li><span><a href=\"#Подготовка-данных\" data-toc-modified-id=\"Подготовка-данных-1\"><span class=\"toc-item-num\">1&nbsp;&nbsp;</span>Подготовка данных</a></span><ul class=\"toc-item\"><li><span><a href=\"#Импортируем-библиотеки\" data-toc-modified-id=\"Импортируем-библиотеки-1.1\"><span class=\"toc-item-num\">1.1&nbsp;&nbsp;</span>Импортируем библиотеки</a></span></li><li><span><a href=\"#Признаки\" data-toc-modified-id=\"Признаки-1.2\"><span class=\"toc-item-num\">1.2&nbsp;&nbsp;</span>Признаки</a></span></li><li><span><a href=\"#Исследование-данных\" data-toc-modified-id=\"Исследование-данных-1.3\"><span class=\"toc-item-num\">1.3&nbsp;&nbsp;</span>Исследование данных</a></span></li><li><span><a href=\"#Предобработка-данных\" data-toc-modified-id=\"Предобработка-данных-1.4\"><span class=\"toc-item-num\">1.4&nbsp;&nbsp;</span>Предобработка данных</a></span></li></ul></li><li><span><a href=\"#Обучение-моделей\" data-toc-modified-id=\"Обучение-моделей-2\"><span class=\"toc-item-num\">2&nbsp;&nbsp;</span>Обучение моделей</a></span><ul class=\"toc-item\"><li><span><a href=\"#Разделение-данных,-кодирование-признаков\" data-toc-modified-id=\"Разделение-данных,-кодирование-признаков-2.1\"><span class=\"toc-item-num\">2.1&nbsp;&nbsp;</span>Разделение данных, кодирование признаков</a></span></li><li><span><a href=\"#Линейная-регрессия\" data-toc-modified-id=\"Линейная-регрессия-2.2\"><span class=\"toc-item-num\">2.2&nbsp;&nbsp;</span>Линейная регрессия</a></span></li><li><span><a href=\"#Дерево-решений\" data-toc-modified-id=\"Дерево-решений-2.3\"><span class=\"toc-item-num\">2.3&nbsp;&nbsp;</span>Дерево решений</a></span></li><li><span><a href=\"#LightGBM-разделение-данных,-кодирование\" data-toc-modified-id=\"LightGBM-разделение-данных,-кодирование-2.4\"><span class=\"toc-item-num\">2.4&nbsp;&nbsp;</span>LightGBM разделение данных, кодирование</a></span></li><li><span><a href=\"#LightGBM-Regressor\" data-toc-modified-id=\"LightGBM-Regressor-2.5\"><span class=\"toc-item-num\">2.5&nbsp;&nbsp;</span>LightGBM Regressor</a></span></li><li><span><a href=\"#CatBoost-Regressor\" data-toc-modified-id=\"CatBoost-Regressor-2.6\"><span class=\"toc-item-num\">2.6&nbsp;&nbsp;</span>CatBoost Regressor</a></span></li></ul></li><li><span><a href=\"#Анализ-моделей\" data-toc-modified-id=\"Анализ-моделей-3\"><span class=\"toc-item-num\">3&nbsp;&nbsp;</span>Анализ моделей</a></span><ul class=\"toc-item\"><li><span><a href=\"#Тестирование-модели\" data-toc-modified-id=\"Тестирование-модели-3.1\"><span class=\"toc-item-num\">3.1&nbsp;&nbsp;</span>Тестирование модели</a></span></li></ul></li><li><span><a href=\"#Вывод\" data-toc-modified-id=\"Вывод-4\"><span class=\"toc-item-num\">4&nbsp;&nbsp;</span>Вывод</a></span></li><li><span><a href=\"#Чек-лист-проверки\" data-toc-modified-id=\"Чек-лист-проверки-5\"><span class=\"toc-item-num\">5&nbsp;&nbsp;</span>Чек-лист проверки</a></span></li></ul></div>"
   ]
  },
  {
   "cell_type": "markdown",
   "metadata": {},
   "source": [
    "## Подготовка данных"
   ]
  },
  {
   "cell_type": "markdown",
   "metadata": {},
   "source": [
    "### Импортируем библиотеки"
   ]
  },
  {
   "cell_type": "code",
   "execution_count": 2,
   "metadata": {},
   "outputs": [
    {
     "name": "stdout",
     "output_type": "stream",
     "text": [
      "Collecting scikit-learn==1.1.3\n",
      "  Downloading scikit_learn-1.1.3-cp39-cp39-manylinux_2_17_x86_64.manylinux2014_x86_64.whl (30.8 MB)\n",
      "\u001b[K     |████████████████████████████████| 30.8 MB 46 kB/s  eta 0:00:01\n",
      "\u001b[?25hRequirement already satisfied: threadpoolctl>=2.0.0 in /opt/conda/lib/python3.9/site-packages (from scikit-learn==1.1.3) (3.1.0)\n",
      "Requirement already satisfied: scipy>=1.3.2 in /opt/conda/lib/python3.9/site-packages (from scikit-learn==1.1.3) (1.9.1)\n",
      "Requirement already satisfied: joblib>=1.0.0 in /opt/conda/lib/python3.9/site-packages (from scikit-learn==1.1.3) (1.1.0)\n",
      "Requirement already satisfied: numpy>=1.17.3 in /opt/conda/lib/python3.9/site-packages (from scikit-learn==1.1.3) (1.21.1)\n",
      "Installing collected packages: scikit-learn\n",
      "  Attempting uninstall: scikit-learn\n",
      "    Found existing installation: scikit-learn 0.24.1\n",
      "    Uninstalling scikit-learn-0.24.1:\n",
      "      Successfully uninstalled scikit-learn-0.24.1\n",
      "Successfully installed scikit-learn-1.1.3\n"
     ]
    }
   ],
   "source": [
    "!pip install scikit-learn==1.1.3"
   ]
  },
  {
   "cell_type": "code",
   "execution_count": 3,
   "metadata": {},
   "outputs": [],
   "source": [
    "import pandas as pd\n",
    "import numpy as np\n",
    "\n",
    "import datetime\n",
    "\n",
    "from catboost import CatBoostClassifier\n",
    "\n",
    "from sklearn.linear_model import LinearRegression\n",
    "\n",
    "from sklearn.tree import DecisionTreeRegressor\n",
    "\n",
    "from sklearn.model_selection import GridSearchCV, train_test_split\n",
    "\n",
    "from sklearn.preprocessing import StandardScaler, OrdinalEncoder, OneHotEncoder\n",
    "\n",
    "from sklearn.metrics import mean_squared_error\n",
    "\n",
    "from lightgbm import LGBMRegressor\n",
    "\n",
    "from catboost import CatBoostRegressor\n",
    "\n",
    "import matplotlib.pyplot as plt\n",
    "import seaborn as sns\n",
    "\n",
    "import timeit\n",
    "\n",
    "%matplotlib inline\n",
    "import warnings\n",
    "warnings.filterwarnings(\"ignore\")"
   ]
  },
  {
   "cell_type": "markdown",
   "metadata": {},
   "source": [
    "<div class=\"alert alert-warning\">\n",
    "<b>Комментарий 👉</b>\n",
    "\n",
    "В ходе разработки я бы не стал \"давить\" предупреждения, чтобы посмотреть на то какие предупреждения мой код генерирует. Но всё это только до того момента, пока код не станет готовым для передачи в production.</div>"
   ]
  },
  {
   "cell_type": "markdown",
   "metadata": {},
   "source": [
    "Загрузка данных"
   ]
  },
  {
   "cell_type": "code",
   "execution_count": 4,
   "metadata": {},
   "outputs": [
    {
     "data": {
      "text/html": [
       "<div>\n",
       "<style scoped>\n",
       "    .dataframe tbody tr th:only-of-type {\n",
       "        vertical-align: middle;\n",
       "    }\n",
       "\n",
       "    .dataframe tbody tr th {\n",
       "        vertical-align: top;\n",
       "    }\n",
       "\n",
       "    .dataframe thead th {\n",
       "        text-align: right;\n",
       "    }\n",
       "</style>\n",
       "<table border=\"1\" class=\"dataframe\">\n",
       "  <thead>\n",
       "    <tr style=\"text-align: right;\">\n",
       "      <th></th>\n",
       "      <th>DateCrawled</th>\n",
       "      <th>Price</th>\n",
       "      <th>VehicleType</th>\n",
       "      <th>RegistrationYear</th>\n",
       "      <th>Gearbox</th>\n",
       "      <th>Power</th>\n",
       "      <th>Model</th>\n",
       "      <th>Kilometer</th>\n",
       "      <th>RegistrationMonth</th>\n",
       "      <th>FuelType</th>\n",
       "      <th>Brand</th>\n",
       "      <th>Repaired</th>\n",
       "      <th>DateCreated</th>\n",
       "      <th>NumberOfPictures</th>\n",
       "      <th>PostalCode</th>\n",
       "      <th>LastSeen</th>\n",
       "    </tr>\n",
       "  </thead>\n",
       "  <tbody>\n",
       "    <tr>\n",
       "      <th>0</th>\n",
       "      <td>2016-03-24 11:52:17</td>\n",
       "      <td>480</td>\n",
       "      <td>NaN</td>\n",
       "      <td>1993</td>\n",
       "      <td>manual</td>\n",
       "      <td>0</td>\n",
       "      <td>golf</td>\n",
       "      <td>150000</td>\n",
       "      <td>0</td>\n",
       "      <td>petrol</td>\n",
       "      <td>volkswagen</td>\n",
       "      <td>NaN</td>\n",
       "      <td>2016-03-24 00:00:00</td>\n",
       "      <td>0</td>\n",
       "      <td>70435</td>\n",
       "      <td>2016-04-07 03:16:57</td>\n",
       "    </tr>\n",
       "    <tr>\n",
       "      <th>1</th>\n",
       "      <td>2016-03-24 10:58:45</td>\n",
       "      <td>18300</td>\n",
       "      <td>coupe</td>\n",
       "      <td>2011</td>\n",
       "      <td>manual</td>\n",
       "      <td>190</td>\n",
       "      <td>NaN</td>\n",
       "      <td>125000</td>\n",
       "      <td>5</td>\n",
       "      <td>gasoline</td>\n",
       "      <td>audi</td>\n",
       "      <td>yes</td>\n",
       "      <td>2016-03-24 00:00:00</td>\n",
       "      <td>0</td>\n",
       "      <td>66954</td>\n",
       "      <td>2016-04-07 01:46:50</td>\n",
       "    </tr>\n",
       "    <tr>\n",
       "      <th>2</th>\n",
       "      <td>2016-03-14 12:52:21</td>\n",
       "      <td>9800</td>\n",
       "      <td>suv</td>\n",
       "      <td>2004</td>\n",
       "      <td>auto</td>\n",
       "      <td>163</td>\n",
       "      <td>grand</td>\n",
       "      <td>125000</td>\n",
       "      <td>8</td>\n",
       "      <td>gasoline</td>\n",
       "      <td>jeep</td>\n",
       "      <td>NaN</td>\n",
       "      <td>2016-03-14 00:00:00</td>\n",
       "      <td>0</td>\n",
       "      <td>90480</td>\n",
       "      <td>2016-04-05 12:47:46</td>\n",
       "    </tr>\n",
       "    <tr>\n",
       "      <th>3</th>\n",
       "      <td>2016-03-17 16:54:04</td>\n",
       "      <td>1500</td>\n",
       "      <td>small</td>\n",
       "      <td>2001</td>\n",
       "      <td>manual</td>\n",
       "      <td>75</td>\n",
       "      <td>golf</td>\n",
       "      <td>150000</td>\n",
       "      <td>6</td>\n",
       "      <td>petrol</td>\n",
       "      <td>volkswagen</td>\n",
       "      <td>no</td>\n",
       "      <td>2016-03-17 00:00:00</td>\n",
       "      <td>0</td>\n",
       "      <td>91074</td>\n",
       "      <td>2016-03-17 17:40:17</td>\n",
       "    </tr>\n",
       "    <tr>\n",
       "      <th>4</th>\n",
       "      <td>2016-03-31 17:25:20</td>\n",
       "      <td>3600</td>\n",
       "      <td>small</td>\n",
       "      <td>2008</td>\n",
       "      <td>manual</td>\n",
       "      <td>69</td>\n",
       "      <td>fabia</td>\n",
       "      <td>90000</td>\n",
       "      <td>7</td>\n",
       "      <td>gasoline</td>\n",
       "      <td>skoda</td>\n",
       "      <td>no</td>\n",
       "      <td>2016-03-31 00:00:00</td>\n",
       "      <td>0</td>\n",
       "      <td>60437</td>\n",
       "      <td>2016-04-06 10:17:21</td>\n",
       "    </tr>\n",
       "  </tbody>\n",
       "</table>\n",
       "</div>"
      ],
      "text/plain": [
       "           DateCrawled  Price VehicleType  RegistrationYear Gearbox  Power  \\\n",
       "0  2016-03-24 11:52:17    480         NaN              1993  manual      0   \n",
       "1  2016-03-24 10:58:45  18300       coupe              2011  manual    190   \n",
       "2  2016-03-14 12:52:21   9800         suv              2004    auto    163   \n",
       "3  2016-03-17 16:54:04   1500       small              2001  manual     75   \n",
       "4  2016-03-31 17:25:20   3600       small              2008  manual     69   \n",
       "\n",
       "   Model  Kilometer  RegistrationMonth  FuelType       Brand Repaired  \\\n",
       "0   golf     150000                  0    petrol  volkswagen      NaN   \n",
       "1    NaN     125000                  5  gasoline        audi      yes   \n",
       "2  grand     125000                  8  gasoline        jeep      NaN   \n",
       "3   golf     150000                  6    petrol  volkswagen       no   \n",
       "4  fabia      90000                  7  gasoline       skoda       no   \n",
       "\n",
       "           DateCreated  NumberOfPictures  PostalCode             LastSeen  \n",
       "0  2016-03-24 00:00:00                 0       70435  2016-04-07 03:16:57  \n",
       "1  2016-03-24 00:00:00                 0       66954  2016-04-07 01:46:50  \n",
       "2  2016-03-14 00:00:00                 0       90480  2016-04-05 12:47:46  \n",
       "3  2016-03-17 00:00:00                 0       91074  2016-03-17 17:40:17  \n",
       "4  2016-03-31 00:00:00                 0       60437  2016-04-06 10:17:21  "
      ]
     },
     "execution_count": 4,
     "metadata": {},
     "output_type": "execute_result"
    }
   ],
   "source": [
    "try:\n",
    "    df = pd.read_csv('/datasets/autos.csv')\n",
    "except:\n",
    "    df = pd.read_csv('https://code.s3.yandex.net/datasets/autos.csv')\n",
    "df.head(5)"
   ]
  },
  {
   "cell_type": "markdown",
   "metadata": {},
   "source": [
    "<div class=\"alert alert-success\">\n",
    "<b>ОТЛИЧНО! 👍</b>\n",
    "\n",
    "Здесь хорошо! При такой загрузке данных и тебе комфортно работать с проектом на домашнем ПК и у меня всё ОК во время проверки проекта в Юпитер Хабе</div>"
   ]
  },
  {
   "cell_type": "markdown",
   "metadata": {},
   "source": [
    "<div class=\"alert alert-success\">\n",
    "<b>ОТЛИЧНО! 👍</b>\n",
    "\n",
    "Отлично. Импортировали требуемые для анализа библиотеки и загрузили данные. Сейчас посмотрим на их состояние и если всё ОК, сможем приступать к построению моделей....\n",
    "</div>"
   ]
  },
  {
   "cell_type": "markdown",
   "metadata": {},
   "source": [
    "### Признаки\n",
    "\n",
    "`DateCrawled` — дата скачивания анкеты из базы\n",
    "\n",
    "`VehicleType` — тип автомобильного кузова\n",
    "\n",
    "`RegistrationYear` — год регистрации автомобиля\n",
    "\n",
    "`Gearbox` — тип коробки передач\n",
    "\n",
    "`Power` — мощность (л. с.)\n",
    "\n",
    "`Model` — модель автомобиля\n",
    "\n",
    "`Kilometer` — пробег (км)\n",
    "\n",
    "`RegistrationMonth` — месяц регистрации автомобиля\n",
    "\n",
    "`FuelType` — тип топлива\n",
    "\n",
    "`Brand` — марка автомобиля\n",
    "\n",
    "`Repaired` — была машина в ремонте или нет\n",
    "\n",
    "`DateCreated` — дата создания анкеты\n",
    "\n",
    "`NumberOfPictures` — количество фотографий автомобиля\n",
    "\n",
    "`PostalCode` — почтовый индекс владельца анкеты (пользователя)\n",
    "\n",
    "`LastSeen` — дата последней активности пользователя\n",
    "\n",
    "Целевой признак\n",
    "\n",
    "`Price` — цена (евро)"
   ]
  },
  {
   "cell_type": "markdown",
   "metadata": {},
   "source": [
    "###  Исследование данных"
   ]
  },
  {
   "cell_type": "code",
   "execution_count": 5,
   "metadata": {},
   "outputs": [
    {
     "name": "stdout",
     "output_type": "stream",
     "text": [
      "<class 'pandas.core.frame.DataFrame'>\n",
      "RangeIndex: 354369 entries, 0 to 354368\n",
      "Data columns (total 16 columns):\n",
      " #   Column             Non-Null Count   Dtype \n",
      "---  ------             --------------   ----- \n",
      " 0   DateCrawled        354369 non-null  object\n",
      " 1   Price              354369 non-null  int64 \n",
      " 2   VehicleType        316879 non-null  object\n",
      " 3   RegistrationYear   354369 non-null  int64 \n",
      " 4   Gearbox            334536 non-null  object\n",
      " 5   Power              354369 non-null  int64 \n",
      " 6   Model              334664 non-null  object\n",
      " 7   Kilometer          354369 non-null  int64 \n",
      " 8   RegistrationMonth  354369 non-null  int64 \n",
      " 9   FuelType           321474 non-null  object\n",
      " 10  Brand              354369 non-null  object\n",
      " 11  Repaired           283215 non-null  object\n",
      " 12  DateCreated        354369 non-null  object\n",
      " 13  NumberOfPictures   354369 non-null  int64 \n",
      " 14  PostalCode         354369 non-null  int64 \n",
      " 15  LastSeen           354369 non-null  object\n",
      "dtypes: int64(7), object(9)\n",
      "memory usage: 43.3+ MB\n",
      "None\n",
      "\n",
      "\n",
      "Дубликаты: 4\n",
      "\n",
      "\n",
      "Пропущенные значения:\n",
      "\n",
      " DateCrawled              0\n",
      "Price                    0\n",
      "VehicleType          37490\n",
      "RegistrationYear         0\n",
      "Gearbox              19833\n",
      "Power                    0\n",
      "Model                19705\n",
      "Kilometer                0\n",
      "RegistrationMonth        0\n",
      "FuelType             32895\n",
      "Brand                    0\n",
      "Repaired             71154\n",
      "DateCreated              0\n",
      "NumberOfPictures         0\n",
      "PostalCode               0\n",
      "LastSeen                 0\n",
      "dtype: int64\n"
     ]
    }
   ],
   "source": [
    "print(df.info())\n",
    "print('\\n\\nДубликаты:', df.duplicated().sum())\n",
    "print('\\n\\nПропущенные значения:\\n\\n', df.isna().sum())"
   ]
  },
  {
   "cell_type": "markdown",
   "metadata": {},
   "source": [
    "<div class=\"alert alert-success\">\n",
    "<b>ОТЛИЧНО! 👍</b>\n",
    "\n",
    "Да, верно, info() показывает, что в большом числе столбцов данных нашего датафрейма есть пропуски. Не хорошо, не хорошо ... придётся эти моменты отрабатывать. Пишу \"нехорошо\" потому, что при кажущейся простоте задачи - обработка пропусков таит в себе массу вопросов как технического плана, так и организационного момента, бизнес-аспекта и даже вопросы этического плана (ниже будет моё эссе на эту тему - где я попытался раскрыть сложность вопроса).\n",
    "</div>"
   ]
  },
  {
   "cell_type": "code",
   "execution_count": 6,
   "metadata": {},
   "outputs": [
    {
     "data": {
      "text/html": [
       "<div>\n",
       "<style scoped>\n",
       "    .dataframe tbody tr th:only-of-type {\n",
       "        vertical-align: middle;\n",
       "    }\n",
       "\n",
       "    .dataframe tbody tr th {\n",
       "        vertical-align: top;\n",
       "    }\n",
       "\n",
       "    .dataframe thead th {\n",
       "        text-align: right;\n",
       "    }\n",
       "</style>\n",
       "<table border=\"1\" class=\"dataframe\">\n",
       "  <thead>\n",
       "    <tr style=\"text-align: right;\">\n",
       "      <th></th>\n",
       "      <th>Price</th>\n",
       "      <th>RegistrationYear</th>\n",
       "      <th>Power</th>\n",
       "      <th>Kilometer</th>\n",
       "      <th>RegistrationMonth</th>\n",
       "      <th>NumberOfPictures</th>\n",
       "      <th>PostalCode</th>\n",
       "    </tr>\n",
       "  </thead>\n",
       "  <tbody>\n",
       "    <tr>\n",
       "      <th>count</th>\n",
       "      <td>354369.000000</td>\n",
       "      <td>354369.000000</td>\n",
       "      <td>354369.000000</td>\n",
       "      <td>354369.000000</td>\n",
       "      <td>354369.000000</td>\n",
       "      <td>354369.0</td>\n",
       "      <td>354369.000000</td>\n",
       "    </tr>\n",
       "    <tr>\n",
       "      <th>mean</th>\n",
       "      <td>4416.656776</td>\n",
       "      <td>2004.234448</td>\n",
       "      <td>110.094337</td>\n",
       "      <td>128211.172535</td>\n",
       "      <td>5.714645</td>\n",
       "      <td>0.0</td>\n",
       "      <td>50508.689087</td>\n",
       "    </tr>\n",
       "    <tr>\n",
       "      <th>std</th>\n",
       "      <td>4514.158514</td>\n",
       "      <td>90.227958</td>\n",
       "      <td>189.850405</td>\n",
       "      <td>37905.341530</td>\n",
       "      <td>3.726421</td>\n",
       "      <td>0.0</td>\n",
       "      <td>25783.096248</td>\n",
       "    </tr>\n",
       "    <tr>\n",
       "      <th>min</th>\n",
       "      <td>0.000000</td>\n",
       "      <td>1000.000000</td>\n",
       "      <td>0.000000</td>\n",
       "      <td>5000.000000</td>\n",
       "      <td>0.000000</td>\n",
       "      <td>0.0</td>\n",
       "      <td>1067.000000</td>\n",
       "    </tr>\n",
       "    <tr>\n",
       "      <th>25%</th>\n",
       "      <td>1050.000000</td>\n",
       "      <td>1999.000000</td>\n",
       "      <td>69.000000</td>\n",
       "      <td>125000.000000</td>\n",
       "      <td>3.000000</td>\n",
       "      <td>0.0</td>\n",
       "      <td>30165.000000</td>\n",
       "    </tr>\n",
       "    <tr>\n",
       "      <th>50%</th>\n",
       "      <td>2700.000000</td>\n",
       "      <td>2003.000000</td>\n",
       "      <td>105.000000</td>\n",
       "      <td>150000.000000</td>\n",
       "      <td>6.000000</td>\n",
       "      <td>0.0</td>\n",
       "      <td>49413.000000</td>\n",
       "    </tr>\n",
       "    <tr>\n",
       "      <th>75%</th>\n",
       "      <td>6400.000000</td>\n",
       "      <td>2008.000000</td>\n",
       "      <td>143.000000</td>\n",
       "      <td>150000.000000</td>\n",
       "      <td>9.000000</td>\n",
       "      <td>0.0</td>\n",
       "      <td>71083.000000</td>\n",
       "    </tr>\n",
       "    <tr>\n",
       "      <th>max</th>\n",
       "      <td>20000.000000</td>\n",
       "      <td>9999.000000</td>\n",
       "      <td>20000.000000</td>\n",
       "      <td>150000.000000</td>\n",
       "      <td>12.000000</td>\n",
       "      <td>0.0</td>\n",
       "      <td>99998.000000</td>\n",
       "    </tr>\n",
       "  </tbody>\n",
       "</table>\n",
       "</div>"
      ],
      "text/plain": [
       "               Price  RegistrationYear          Power      Kilometer  \\\n",
       "count  354369.000000     354369.000000  354369.000000  354369.000000   \n",
       "mean     4416.656776       2004.234448     110.094337  128211.172535   \n",
       "std      4514.158514         90.227958     189.850405   37905.341530   \n",
       "min         0.000000       1000.000000       0.000000    5000.000000   \n",
       "25%      1050.000000       1999.000000      69.000000  125000.000000   \n",
       "50%      2700.000000       2003.000000     105.000000  150000.000000   \n",
       "75%      6400.000000       2008.000000     143.000000  150000.000000   \n",
       "max     20000.000000       9999.000000   20000.000000  150000.000000   \n",
       "\n",
       "       RegistrationMonth  NumberOfPictures     PostalCode  \n",
       "count      354369.000000          354369.0  354369.000000  \n",
       "mean            5.714645               0.0   50508.689087  \n",
       "std             3.726421               0.0   25783.096248  \n",
       "min             0.000000               0.0    1067.000000  \n",
       "25%             3.000000               0.0   30165.000000  \n",
       "50%             6.000000               0.0   49413.000000  \n",
       "75%             9.000000               0.0   71083.000000  \n",
       "max            12.000000               0.0   99998.000000  "
      ]
     },
     "execution_count": 6,
     "metadata": {},
     "output_type": "execute_result"
    }
   ],
   "source": [
    "df.describe()"
   ]
  },
  {
   "cell_type": "code",
   "execution_count": 7,
   "metadata": {},
   "outputs": [
    {
     "data": {
      "text/html": [
       "<div>\n",
       "<style scoped>\n",
       "    .dataframe tbody tr th:only-of-type {\n",
       "        vertical-align: middle;\n",
       "    }\n",
       "\n",
       "    .dataframe tbody tr th {\n",
       "        vertical-align: top;\n",
       "    }\n",
       "\n",
       "    .dataframe thead th {\n",
       "        text-align: right;\n",
       "    }\n",
       "</style>\n",
       "<table border=\"1\" class=\"dataframe\">\n",
       "  <thead>\n",
       "    <tr style=\"text-align: right;\">\n",
       "      <th></th>\n",
       "      <th>DateCrawled</th>\n",
       "      <th>Price</th>\n",
       "      <th>VehicleType</th>\n",
       "      <th>RegistrationYear</th>\n",
       "      <th>Gearbox</th>\n",
       "      <th>Power</th>\n",
       "      <th>Model</th>\n",
       "      <th>Kilometer</th>\n",
       "      <th>RegistrationMonth</th>\n",
       "      <th>FuelType</th>\n",
       "      <th>Brand</th>\n",
       "      <th>Repaired</th>\n",
       "      <th>DateCreated</th>\n",
       "      <th>NumberOfPictures</th>\n",
       "      <th>PostalCode</th>\n",
       "      <th>LastSeen</th>\n",
       "    </tr>\n",
       "  </thead>\n",
       "  <tbody>\n",
       "    <tr>\n",
       "      <th>88087</th>\n",
       "      <td>2016-03-08 18:42:48</td>\n",
       "      <td>1799</td>\n",
       "      <td>coupe</td>\n",
       "      <td>1999</td>\n",
       "      <td>auto</td>\n",
       "      <td>193</td>\n",
       "      <td>clk</td>\n",
       "      <td>20000</td>\n",
       "      <td>7</td>\n",
       "      <td>petrol</td>\n",
       "      <td>mercedes_benz</td>\n",
       "      <td>no</td>\n",
       "      <td>2016-03-08 00:00:00</td>\n",
       "      <td>0</td>\n",
       "      <td>89518</td>\n",
       "      <td>2016-03-09 09:46:57</td>\n",
       "    </tr>\n",
       "    <tr>\n",
       "      <th>171088</th>\n",
       "      <td>2016-03-08 18:42:48</td>\n",
       "      <td>1799</td>\n",
       "      <td>coupe</td>\n",
       "      <td>1999</td>\n",
       "      <td>auto</td>\n",
       "      <td>193</td>\n",
       "      <td>clk</td>\n",
       "      <td>20000</td>\n",
       "      <td>7</td>\n",
       "      <td>petrol</td>\n",
       "      <td>mercedes_benz</td>\n",
       "      <td>no</td>\n",
       "      <td>2016-03-08 00:00:00</td>\n",
       "      <td>0</td>\n",
       "      <td>89518</td>\n",
       "      <td>2016-03-09 09:46:57</td>\n",
       "    </tr>\n",
       "    <tr>\n",
       "      <th>41529</th>\n",
       "      <td>2016-03-18 18:46:15</td>\n",
       "      <td>1999</td>\n",
       "      <td>wagon</td>\n",
       "      <td>2001</td>\n",
       "      <td>manual</td>\n",
       "      <td>131</td>\n",
       "      <td>passat</td>\n",
       "      <td>150000</td>\n",
       "      <td>7</td>\n",
       "      <td>gasoline</td>\n",
       "      <td>volkswagen</td>\n",
       "      <td>no</td>\n",
       "      <td>2016-03-18 00:00:00</td>\n",
       "      <td>0</td>\n",
       "      <td>36391</td>\n",
       "      <td>2016-03-18 18:46:15</td>\n",
       "    </tr>\n",
       "    <tr>\n",
       "      <th>325651</th>\n",
       "      <td>2016-03-18 18:46:15</td>\n",
       "      <td>1999</td>\n",
       "      <td>wagon</td>\n",
       "      <td>2001</td>\n",
       "      <td>manual</td>\n",
       "      <td>131</td>\n",
       "      <td>passat</td>\n",
       "      <td>150000</td>\n",
       "      <td>7</td>\n",
       "      <td>gasoline</td>\n",
       "      <td>volkswagen</td>\n",
       "      <td>no</td>\n",
       "      <td>2016-03-18 00:00:00</td>\n",
       "      <td>0</td>\n",
       "      <td>36391</td>\n",
       "      <td>2016-03-18 18:46:15</td>\n",
       "    </tr>\n",
       "    <tr>\n",
       "      <th>90964</th>\n",
       "      <td>2016-03-28 00:56:10</td>\n",
       "      <td>1000</td>\n",
       "      <td>small</td>\n",
       "      <td>2002</td>\n",
       "      <td>manual</td>\n",
       "      <td>83</td>\n",
       "      <td>other</td>\n",
       "      <td>150000</td>\n",
       "      <td>1</td>\n",
       "      <td>petrol</td>\n",
       "      <td>suzuki</td>\n",
       "      <td>no</td>\n",
       "      <td>2016-03-28 00:00:00</td>\n",
       "      <td>0</td>\n",
       "      <td>66589</td>\n",
       "      <td>2016-03-28 08:46:21</td>\n",
       "    </tr>\n",
       "    <tr>\n",
       "      <th>231258</th>\n",
       "      <td>2016-03-28 00:56:10</td>\n",
       "      <td>1000</td>\n",
       "      <td>small</td>\n",
       "      <td>2002</td>\n",
       "      <td>manual</td>\n",
       "      <td>83</td>\n",
       "      <td>other</td>\n",
       "      <td>150000</td>\n",
       "      <td>1</td>\n",
       "      <td>petrol</td>\n",
       "      <td>suzuki</td>\n",
       "      <td>no</td>\n",
       "      <td>2016-03-28 00:00:00</td>\n",
       "      <td>0</td>\n",
       "      <td>66589</td>\n",
       "      <td>2016-03-28 08:46:21</td>\n",
       "    </tr>\n",
       "    <tr>\n",
       "      <th>187735</th>\n",
       "      <td>2016-04-03 09:01:15</td>\n",
       "      <td>4699</td>\n",
       "      <td>coupe</td>\n",
       "      <td>2003</td>\n",
       "      <td>auto</td>\n",
       "      <td>218</td>\n",
       "      <td>clk</td>\n",
       "      <td>125000</td>\n",
       "      <td>6</td>\n",
       "      <td>petrol</td>\n",
       "      <td>mercedes_benz</td>\n",
       "      <td>yes</td>\n",
       "      <td>2016-04-03 00:00:00</td>\n",
       "      <td>0</td>\n",
       "      <td>75196</td>\n",
       "      <td>2016-04-07 09:44:54</td>\n",
       "    </tr>\n",
       "    <tr>\n",
       "      <th>258109</th>\n",
       "      <td>2016-04-03 09:01:15</td>\n",
       "      <td>4699</td>\n",
       "      <td>coupe</td>\n",
       "      <td>2003</td>\n",
       "      <td>auto</td>\n",
       "      <td>218</td>\n",
       "      <td>clk</td>\n",
       "      <td>125000</td>\n",
       "      <td>6</td>\n",
       "      <td>petrol</td>\n",
       "      <td>mercedes_benz</td>\n",
       "      <td>yes</td>\n",
       "      <td>2016-04-03 00:00:00</td>\n",
       "      <td>0</td>\n",
       "      <td>75196</td>\n",
       "      <td>2016-04-07 09:44:54</td>\n",
       "    </tr>\n",
       "  </tbody>\n",
       "</table>\n",
       "</div>"
      ],
      "text/plain": [
       "                DateCrawled  Price VehicleType  RegistrationYear Gearbox  \\\n",
       "88087   2016-03-08 18:42:48   1799       coupe              1999    auto   \n",
       "171088  2016-03-08 18:42:48   1799       coupe              1999    auto   \n",
       "41529   2016-03-18 18:46:15   1999       wagon              2001  manual   \n",
       "325651  2016-03-18 18:46:15   1999       wagon              2001  manual   \n",
       "90964   2016-03-28 00:56:10   1000       small              2002  manual   \n",
       "231258  2016-03-28 00:56:10   1000       small              2002  manual   \n",
       "187735  2016-04-03 09:01:15   4699       coupe              2003    auto   \n",
       "258109  2016-04-03 09:01:15   4699       coupe              2003    auto   \n",
       "\n",
       "        Power   Model  Kilometer  RegistrationMonth  FuelType          Brand  \\\n",
       "88087     193     clk      20000                  7    petrol  mercedes_benz   \n",
       "171088    193     clk      20000                  7    petrol  mercedes_benz   \n",
       "41529     131  passat     150000                  7  gasoline     volkswagen   \n",
       "325651    131  passat     150000                  7  gasoline     volkswagen   \n",
       "90964      83   other     150000                  1    petrol         suzuki   \n",
       "231258     83   other     150000                  1    petrol         suzuki   \n",
       "187735    218     clk     125000                  6    petrol  mercedes_benz   \n",
       "258109    218     clk     125000                  6    petrol  mercedes_benz   \n",
       "\n",
       "       Repaired          DateCreated  NumberOfPictures  PostalCode  \\\n",
       "88087        no  2016-03-08 00:00:00                 0       89518   \n",
       "171088       no  2016-03-08 00:00:00                 0       89518   \n",
       "41529        no  2016-03-18 00:00:00                 0       36391   \n",
       "325651       no  2016-03-18 00:00:00                 0       36391   \n",
       "90964        no  2016-03-28 00:00:00                 0       66589   \n",
       "231258       no  2016-03-28 00:00:00                 0       66589   \n",
       "187735      yes  2016-04-03 00:00:00                 0       75196   \n",
       "258109      yes  2016-04-03 00:00:00                 0       75196   \n",
       "\n",
       "                   LastSeen  \n",
       "88087   2016-03-09 09:46:57  \n",
       "171088  2016-03-09 09:46:57  \n",
       "41529   2016-03-18 18:46:15  \n",
       "325651  2016-03-18 18:46:15  \n",
       "90964   2016-03-28 08:46:21  \n",
       "231258  2016-03-28 08:46:21  \n",
       "187735  2016-04-07 09:44:54  \n",
       "258109  2016-04-07 09:44:54  "
      ]
     },
     "execution_count": 7,
     "metadata": {},
     "output_type": "execute_result"
    }
   ],
   "source": [
    "df[df.duplicated(keep=False)].sort_values(by='DateCreated')"
   ]
  },
  {
   "cell_type": "code",
   "execution_count": 8,
   "metadata": {
    "scrolled": false
   },
   "outputs": [
    {
     "data": {
      "image/png": "[encoded data removed]",
      "text/plain": [
       "<Figure size 432x288 with 1 Axes>"
      ]
     },
     "metadata": {
      "needs_background": "light"
     },
     "output_type": "display_data"
    },
    {
     "data": {
      "image/png": "[encoded data removed]",
      "text/plain": [
       "<Figure size 432x288 with 1 Axes>"
      ]
     },
     "metadata": {
      "needs_background": "light"
     },
     "output_type": "display_data"
    },
    {
     "data": {
      "image/png": "[encoded data removed]",
      "text/plain": [
       "<Figure size 432x288 with 1 Axes>"
      ]
     },
     "metadata": {
      "needs_background": "light"
     },
     "output_type": "display_data"
    },
    {
     "data": {
      "image/png": "[encoded data removed]",
      "text/plain": [
       "<Figure size 432x288 with 1 Axes>"
      ]
     },
     "metadata": {
      "needs_background": "light"
     },
     "output_type": "display_data"
    },
    {
     "data": {
      "image/png": "[encoded data removed]",
      "text/plain": [
       "<Figure size 432x288 with 1 Axes>"
      ]
     },
     "metadata": {
      "needs_background": "light"
     },
     "output_type": "display_data"
    },
    {
     "data": {
      "image/png": "[encoded data removed]",
      "text/plain": [
       "<Figure size 432x288 with 1 Axes>"
      ]
     },
     "metadata": {
      "needs_background": "light"
     },
     "output_type": "display_data"
    },
    {
     "data": {
      "image/png": "[encoded data removed]",
      "text/plain": [
       "<Figure size 432x288 with 1 Axes>"
      ]
     },
     "metadata": {
      "needs_background": "light"
     },
     "output_type": "display_data"
    }
   ],
   "source": [
    "for i in df.select_dtypes(include=np.number).columns:\n",
    "    sns.distplot(df[i])\n",
    "    plt.title(f'Диаграмма плотности. Признак: {i}')\n",
    "    plt.show()"
   ]
  },
  {
   "cell_type": "markdown",
   "metadata": {},
   "source": [
    "<div class=\"alert alert-success\">\n",
    "<b>ОТЛИЧНО! 👍</b>\n",
    "\n",
    "Ну здесь всё отлично, понимающему человеку ясно, что здесь ты детально исследуешь столбцы-признаки наших наблюдений. Вижу гистограммы, отрисовывающие \"нумерические\" столбцы.\n",
    "\n",
    "Здесь идеально всё. Использование графиков для изучения данных - лучше и не пожелать способа. Молодец!\n",
    "</div>"
   ]
  },
  {
   "cell_type": "code",
   "execution_count": 9,
   "metadata": {},
   "outputs": [
    {
     "data": {
      "text/plain": [
       "0    354369\n",
       "Name: NumberOfPictures, dtype: int64"
      ]
     },
     "execution_count": 9,
     "metadata": {},
     "output_type": "execute_result"
    }
   ],
   "source": [
    "df['NumberOfPictures'].value_counts()"
   ]
  },
  {
   "cell_type": "code",
   "execution_count": 10,
   "metadata": {},
   "outputs": [
    {
     "data": {
      "text/plain": [
       "<AxesSubplot:title={'center':'Корреляция признаков'}>"
      ]
     },
     "execution_count": 10,
     "metadata": {},
     "output_type": "execute_result"
    },
    {
     "data": {
      "image/png": "[encoded data removed]",
      "text/plain": [
       "<Figure size 720x432 with 2 Axes>"
      ]
     },
     "metadata": {
      "needs_background": "light"
     },
     "output_type": "display_data"
    }
   ],
   "source": [
    "plt.figure(figsize = (10, 6));\n",
    "plt.title('Корреляция признаков', fontsize = 15)\n",
    "sns.heatmap(df.corr(), annot = True, cmap=\"crest\")"
   ]
  },
  {
   "cell_type": "markdown",
   "metadata": {},
   "source": [
    "Данные содержат 15 признаков, `Price` - целевой признак, 354369 строк. 4 явных дубликата удалим, пропуски в данных исследуем и заменим либо удалим. Присутствуют нулевые и неадекватные значения, исследуем. Мультиколлинеарность не обнаружена. Признаки `DateCrawled`, `NumberOfPictures` и  `LastSeen` удалим сразу, как ненужные ни для исследования, ни для построения модели."
   ]
  },
  {
   "cell_type": "markdown",
   "metadata": {},
   "source": [
    "<div class=\"alert alert-success\">\n",
    "<b>ОТЛИЧНО! 👍</b>\n",
    "\n",
    "Спасибо за точный и конкретный вывод по предварительному анализу загруженных данных. Зачастую коллеги ограничиваются исключительно кодом, без слов. Ввиду чего непонятно к каким выводам они пришли и что собираются делать дальше.\n",
    "\n",
    "Ты важные моменты озвучиваешь в этом выводе, молодец. Я прокомментирую их по месту возникновения кода (или в финальном выводе по подразделу подготовки (предобработки) данных.</div>"
   ]
  },
  {
   "cell_type": "markdown",
   "metadata": {},
   "source": [
    "### Предобработка данных"
   ]
  },
  {
   "cell_type": "markdown",
   "metadata": {},
   "source": [
    "Удалим дубликаты"
   ]
  },
  {
   "cell_type": "code",
   "execution_count": 11,
   "metadata": {},
   "outputs": [
    {
     "data": {
      "text/plain": [
       "0"
      ]
     },
     "execution_count": 11,
     "metadata": {},
     "output_type": "execute_result"
    }
   ],
   "source": [
    "df.drop_duplicates(inplace=True)\n",
    "df.duplicated().sum()"
   ]
  },
  {
   "cell_type": "markdown",
   "metadata": {},
   "source": [
    "<div class=\"alert alert-success\">\n",
    "<b>ОТЛИЧНО! 👍</b>\n",
    "\n",
    "Отлично, \"полные близнецы\" нас не интересуют, достаточно одной строки (keep='first', по умолчанию у duplicated())\n",
    "</div>"
   ]
  },
  {
   "cell_type": "markdown",
   "metadata": {},
   "source": [
    "Удалим признаки"
   ]
  },
  {
   "cell_type": "code",
   "execution_count": 12,
   "metadata": {},
   "outputs": [
    {
     "data": {
      "text/plain": [
       "Index(['Price', 'VehicleType', 'RegistrationYear', 'Gearbox', 'Power', 'Model',\n",
       "       'Kilometer', 'RegistrationMonth', 'FuelType', 'Brand', 'Repaired',\n",
       "       'DateCreated', 'PostalCode'],\n",
       "      dtype='object')"
      ]
     },
     "execution_count": 12,
     "metadata": {},
     "output_type": "execute_result"
    }
   ],
   "source": [
    "df = df.drop(['DateCrawled', 'NumberOfPictures', 'LastSeen'], axis=1)\n",
    "df.columns"
   ]
  },
  {
   "cell_type": "markdown",
   "metadata": {},
   "source": [
    "<div class=\"alert alert-warning\">\n",
    "<b>Комментарий 👉</b>\n",
    "\n",
    "Не все ненужные для моделей машиного наблюдения признаки удалены из данных. В наших данных подобных признаков 5 ... 5 столбцов от использования которых модели никакого \"бонуса\" не получат. Найди всех этих \"потеряшек\" пожалуйста.\n",
    "</div>"
   ]
  },
  {
   "cell_type": "markdown",
   "metadata": {},
   "source": [
    "Обработаем целевой признак"
   ]
  },
  {
   "cell_type": "code",
   "execution_count": 13,
   "metadata": {},
   "outputs": [
    {
     "data": {
      "text/plain": [
       "count    354365.000000\n",
       "mean       4416.679830\n",
       "std        4514.176349\n",
       "min           0.000000\n",
       "25%        1050.000000\n",
       "50%        2700.000000\n",
       "75%        6400.000000\n",
       "max       20000.000000\n",
       "Name: Price, dtype: float64"
      ]
     },
     "execution_count": 13,
     "metadata": {},
     "output_type": "execute_result"
    }
   ],
   "source": [
    "df['Price'].describe()"
   ]
  },
  {
   "cell_type": "code",
   "execution_count": 14,
   "metadata": {},
   "outputs": [
    {
     "data": {
      "image/png": "[encoded data removed]",
      "text/plain": [
       "<Figure size 864x504 with 1 Axes>"
      ]
     },
     "metadata": {
      "needs_background": "light"
     },
     "output_type": "display_data"
    }
   ],
   "source": [
    "df['Price'].hist(bins=100,figsize=(12,7))\n",
    "plt.title('Стоимость автомобилей')\n",
    "plt.xlabel('Цена в евро')\n",
    "plt.ylabel('Количество')\n",
    "plt.show()"
   ]
  },
  {
   "cell_type": "code",
   "execution_count": 15,
   "metadata": {},
   "outputs": [
    {
     "data": {
      "image/png": "[encoded data removed]",
      "text/plain": [
       "<Figure size 504x504 with 1 Axes>"
      ]
     },
     "metadata": {
      "needs_background": "light"
     },
     "output_type": "display_data"
    }
   ],
   "source": [
    "df.boxplot(['Price'], figsize=(7,7))\n",
    "plt.title('Стоимость автомобилей')\n",
    "plt.ylabel('Цена в евро')\n",
    "plt.show()"
   ]
  },
  {
   "cell_type": "code",
   "execution_count": 16,
   "metadata": {},
   "outputs": [
    {
     "data": {
      "text/plain": [
       "0.05      200.0\n",
       "0.95    14600.0\n",
       "Name: Price, dtype: float64"
      ]
     },
     "execution_count": 16,
     "metadata": {},
     "output_type": "execute_result"
    }
   ],
   "source": [
    "q = [0.05, 0.95]\n",
    "df['Price'].quantile(q=q)"
   ]
  },
  {
   "cell_type": "markdown",
   "metadata": {},
   "source": [
    "Удалим строки с очень низкой и очень высокой ценой"
   ]
  },
  {
   "cell_type": "code",
   "execution_count": 17,
   "metadata": {},
   "outputs": [
    {
     "name": "stdout",
     "output_type": "stream",
     "text": [
      "17462\n",
      "17652\n"
     ]
    }
   ],
   "source": [
    "print(df.loc[df['Price'] < 200]['Price'].count())\n",
    "print(df.loc[df['Price'] > 14600.0]['Price'].count())"
   ]
  },
  {
   "cell_type": "code",
   "execution_count": 18,
   "metadata": {},
   "outputs": [
    {
     "name": "stdout",
     "output_type": "stream",
     "text": [
      "319251\n"
     ]
    }
   ],
   "source": [
    "df=df.query('200 <= Price <=14600')\n",
    "print(df.shape[0])"
   ]
  },
  {
   "cell_type": "markdown",
   "metadata": {},
   "source": [
    "<div class=\"alert alert-warning\">\n",
    "<b>Комментарий 👉</b>\n",
    "\n",
    "(Отвлечение ... что-то менять не надо) Мне это напомнило один известный фильм, где автомобиль за 500 долларов был способен доехать до Сан-Франциско и обратно ))))\n",
    "</div>"
   ]
  },
  {
   "cell_type": "code",
   "execution_count": 19,
   "metadata": {},
   "outputs": [
    {
     "data": {
      "text/plain": [
       "Price                    0\n",
       "VehicleType          30829\n",
       "RegistrationYear         0\n",
       "Gearbox              15292\n",
       "Power                    0\n",
       "Model                16011\n",
       "Kilometer                0\n",
       "RegistrationMonth        0\n",
       "FuelType             26689\n",
       "Brand                    0\n",
       "Repaired             61217\n",
       "DateCreated              0\n",
       "PostalCode               0\n",
       "dtype: int64"
      ]
     },
     "execution_count": 19,
     "metadata": {},
     "output_type": "execute_result"
    }
   ],
   "source": [
    "df.isna().sum()"
   ]
  },
  {
   "cell_type": "markdown",
   "metadata": {},
   "source": [
    "Пропуски в `VehicleType` заменим на 'unknown', тк нет данных для замены"
   ]
  },
  {
   "cell_type": "code",
   "execution_count": 20,
   "metadata": {},
   "outputs": [
    {
     "data": {
      "text/plain": [
       "Price                    0\n",
       "VehicleType              0\n",
       "RegistrationYear         0\n",
       "Gearbox              15292\n",
       "Power                    0\n",
       "Model                16011\n",
       "Kilometer                0\n",
       "RegistrationMonth        0\n",
       "FuelType             26689\n",
       "Brand                    0\n",
       "Repaired             61217\n",
       "DateCreated              0\n",
       "PostalCode               0\n",
       "dtype: int64"
      ]
     },
     "execution_count": 20,
     "metadata": {},
     "output_type": "execute_result"
    }
   ],
   "source": [
    "df['VehicleType'] = df['VehicleType'].fillna('unknown')\n",
    "df.isna().sum()"
   ]
  },
  {
   "cell_type": "markdown",
   "metadata": {},
   "source": [
    "Пропуски в `Model` удалим, тк заменить их не представляется возможным"
   ]
  },
  {
   "cell_type": "markdown",
   "metadata": {},
   "source": [
    "<div class=\"alert alert-success\">\n",
    "<b>ОТЛИЧНО! 👍</b>\n",
    "\n",
    "Можно было одной заглушкой (например unknown) сразу все пропуски \"заглушить\". \n",
    "</div>"
   ]
  },
  {
   "cell_type": "code",
   "execution_count": 21,
   "metadata": {},
   "outputs": [
    {
     "data": {
      "text/plain": [
       "Price                    0\n",
       "VehicleType              0\n",
       "RegistrationYear         0\n",
       "Gearbox              12749\n",
       "Power                    0\n",
       "Model                    0\n",
       "Kilometer                0\n",
       "RegistrationMonth        0\n",
       "FuelType             21482\n",
       "Brand                    0\n",
       "Repaired             54420\n",
       "DateCreated              0\n",
       "PostalCode               0\n",
       "dtype: int64"
      ]
     },
     "execution_count": 21,
     "metadata": {},
     "output_type": "execute_result"
    }
   ],
   "source": [
    "df = df.dropna(subset=['Model'])\n",
    "df.isna().sum()"
   ]
  },
  {
   "cell_type": "markdown",
   "metadata": {},
   "source": [
    "Пропуски в `Gearbox` заменим на наиболее часто встречающиеся в модели"
   ]
  },
  {
   "cell_type": "code",
   "execution_count": 22,
   "metadata": {},
   "outputs": [
    {
     "data": {
      "text/plain": [
       "Price                    0\n",
       "VehicleType              0\n",
       "RegistrationYear         0\n",
       "Gearbox                  0\n",
       "Power                    0\n",
       "Model                    0\n",
       "Kilometer                0\n",
       "RegistrationMonth        0\n",
       "FuelType             21482\n",
       "Brand                    0\n",
       "Repaired             54420\n",
       "DateCreated              0\n",
       "PostalCode               0\n",
       "dtype: int64"
      ]
     },
     "execution_count": 22,
     "metadata": {},
     "output_type": "execute_result"
    }
   ],
   "source": [
    "df['Gearbox'] = df['Gearbox'].fillna(df.groupby('Model')['Gearbox'].transform(lambda x: x.value_counts().idxmax()))\n",
    "df.isna().sum()"
   ]
  },
  {
   "cell_type": "markdown",
   "metadata": {},
   "source": [
    "<div class=\"alert alert-warning\">\n",
    "<b>Комментарий 👉</b>\n",
    "\n",
    "Отличное использование векторной операции. Обычно, процентов 90 коллег, когда подобным образом пропуски обрабатывают - используют цикл, что на больших датафреймах НЕ является оптимально выполняемой по времени операцией.\n",
    "</div>"
   ]
  },
  {
   "cell_type": "markdown",
   "metadata": {},
   "source": [
    "Пропуски в `FuelType` заполним по аналогии с `Gearbox`"
   ]
  },
  {
   "cell_type": "code",
   "execution_count": 23,
   "metadata": {},
   "outputs": [
    {
     "data": {
      "text/plain": [
       "Price                    0\n",
       "VehicleType              0\n",
       "RegistrationYear         0\n",
       "Gearbox                  0\n",
       "Power                    0\n",
       "Model                    0\n",
       "Kilometer                0\n",
       "RegistrationMonth        0\n",
       "FuelType                 0\n",
       "Brand                    0\n",
       "Repaired             54420\n",
       "DateCreated              0\n",
       "PostalCode               0\n",
       "dtype: int64"
      ]
     },
     "execution_count": 23,
     "metadata": {},
     "output_type": "execute_result"
    }
   ],
   "source": [
    "df['FuelType'] = df['FuelType'].fillna(df.groupby('Model')['FuelType'].transform(lambda x: x.value_counts().idxmax()))\n",
    "df.isna().sum()"
   ]
  },
  {
   "cell_type": "markdown",
   "metadata": {},
   "source": [
    "Пропуски в `Repaired` заменим на 'unknown'"
   ]
  },
  {
   "cell_type": "code",
   "execution_count": 24,
   "metadata": {},
   "outputs": [
    {
     "data": {
      "text/plain": [
       "Price                0\n",
       "VehicleType          0\n",
       "RegistrationYear     0\n",
       "Gearbox              0\n",
       "Power                0\n",
       "Model                0\n",
       "Kilometer            0\n",
       "RegistrationMonth    0\n",
       "FuelType             0\n",
       "Brand                0\n",
       "Repaired             0\n",
       "DateCreated          0\n",
       "PostalCode           0\n",
       "dtype: int64"
      ]
     },
     "execution_count": 24,
     "metadata": {},
     "output_type": "execute_result"
    }
   ],
   "source": [
    "df['Repaired'] = df['Repaired'].fillna('unknown')\n",
    "df.isna().sum()"
   ]
  },
  {
   "cell_type": "code",
   "execution_count": 25,
   "metadata": {},
   "outputs": [
    {
     "data": {
      "text/html": [
       "<div>\n",
       "<style scoped>\n",
       "    .dataframe tbody tr th:only-of-type {\n",
       "        vertical-align: middle;\n",
       "    }\n",
       "\n",
       "    .dataframe tbody tr th {\n",
       "        vertical-align: top;\n",
       "    }\n",
       "\n",
       "    .dataframe thead th {\n",
       "        text-align: right;\n",
       "    }\n",
       "</style>\n",
       "<table border=\"1\" class=\"dataframe\">\n",
       "  <thead>\n",
       "    <tr style=\"text-align: right;\">\n",
       "      <th></th>\n",
       "      <th>Price</th>\n",
       "      <th>RegistrationYear</th>\n",
       "      <th>Power</th>\n",
       "      <th>Kilometer</th>\n",
       "      <th>RegistrationMonth</th>\n",
       "      <th>PostalCode</th>\n",
       "    </tr>\n",
       "  </thead>\n",
       "  <tbody>\n",
       "    <tr>\n",
       "      <th>count</th>\n",
       "      <td>303240.000000</td>\n",
       "      <td>303240.000000</td>\n",
       "      <td>303240.000000</td>\n",
       "      <td>303240.000000</td>\n",
       "      <td>303240.000000</td>\n",
       "      <td>303240.000000</td>\n",
       "    </tr>\n",
       "    <tr>\n",
       "      <th>mean</th>\n",
       "      <td>4007.770330</td>\n",
       "      <td>2003.481539</td>\n",
       "      <td>109.223434</td>\n",
       "      <td>130655.520380</td>\n",
       "      <td>5.870881</td>\n",
       "      <td>50622.676639</td>\n",
       "    </tr>\n",
       "    <tr>\n",
       "      <th>std</th>\n",
       "      <td>3527.515453</td>\n",
       "      <td>52.320769</td>\n",
       "      <td>183.589495</td>\n",
       "      <td>35061.353265</td>\n",
       "      <td>3.661470</td>\n",
       "      <td>25668.467271</td>\n",
       "    </tr>\n",
       "    <tr>\n",
       "      <th>min</th>\n",
       "      <td>200.000000</td>\n",
       "      <td>1000.000000</td>\n",
       "      <td>0.000000</td>\n",
       "      <td>5000.000000</td>\n",
       "      <td>0.000000</td>\n",
       "      <td>1067.000000</td>\n",
       "    </tr>\n",
       "    <tr>\n",
       "      <th>25%</th>\n",
       "      <td>1200.000000</td>\n",
       "      <td>1999.000000</td>\n",
       "      <td>71.000000</td>\n",
       "      <td>125000.000000</td>\n",
       "      <td>3.000000</td>\n",
       "      <td>30451.000000</td>\n",
       "    </tr>\n",
       "    <tr>\n",
       "      <th>50%</th>\n",
       "      <td>2800.000000</td>\n",
       "      <td>2003.000000</td>\n",
       "      <td>103.000000</td>\n",
       "      <td>150000.000000</td>\n",
       "      <td>6.000000</td>\n",
       "      <td>49504.000000</td>\n",
       "    </tr>\n",
       "    <tr>\n",
       "      <th>75%</th>\n",
       "      <td>5900.000000</td>\n",
       "      <td>2007.000000</td>\n",
       "      <td>140.000000</td>\n",
       "      <td>150000.000000</td>\n",
       "      <td>9.000000</td>\n",
       "      <td>71083.000000</td>\n",
       "    </tr>\n",
       "    <tr>\n",
       "      <th>max</th>\n",
       "      <td>14600.000000</td>\n",
       "      <td>9999.000000</td>\n",
       "      <td>20000.000000</td>\n",
       "      <td>150000.000000</td>\n",
       "      <td>12.000000</td>\n",
       "      <td>99998.000000</td>\n",
       "    </tr>\n",
       "  </tbody>\n",
       "</table>\n",
       "</div>"
      ],
      "text/plain": [
       "               Price  RegistrationYear          Power      Kilometer  \\\n",
       "count  303240.000000     303240.000000  303240.000000  303240.000000   \n",
       "mean     4007.770330       2003.481539     109.223434  130655.520380   \n",
       "std      3527.515453         52.320769     183.589495   35061.353265   \n",
       "min       200.000000       1000.000000       0.000000    5000.000000   \n",
       "25%      1200.000000       1999.000000      71.000000  125000.000000   \n",
       "50%      2800.000000       2003.000000     103.000000  150000.000000   \n",
       "75%      5900.000000       2007.000000     140.000000  150000.000000   \n",
       "max     14600.000000       9999.000000   20000.000000  150000.000000   \n",
       "\n",
       "       RegistrationMonth     PostalCode  \n",
       "count      303240.000000  303240.000000  \n",
       "mean            5.870881   50622.676639  \n",
       "std             3.661470   25668.467271  \n",
       "min             0.000000    1067.000000  \n",
       "25%             3.000000   30451.000000  \n",
       "50%             6.000000   49504.000000  \n",
       "75%             9.000000   71083.000000  \n",
       "max            12.000000   99998.000000  "
      ]
     },
     "execution_count": 25,
     "metadata": {},
     "output_type": "execute_result"
    }
   ],
   "source": [
    "df.describe()"
   ]
  },
  {
   "cell_type": "markdown",
   "metadata": {},
   "source": [
    "Обработаем неадекватные значения"
   ]
  },
  {
   "cell_type": "code",
   "execution_count": 26,
   "metadata": {},
   "outputs": [
    {
     "data": {
      "text/plain": [
       "array([ 0,  8,  6,  7, 10, 12, 11,  2,  1,  4,  5,  9,  3])"
      ]
     },
     "execution_count": 26,
     "metadata": {},
     "output_type": "execute_result"
    }
   ],
   "source": [
    "df.RegistrationMonth.unique()"
   ]
  },
  {
   "cell_type": "markdown",
   "metadata": {},
   "source": [
    "Встолбце `RegistrationMonth` обнаружен нулевой месяц, заменим его на медианное значени по столбцу"
   ]
  },
  {
   "cell_type": "code",
   "execution_count": 27,
   "metadata": {},
   "outputs": [],
   "source": [
    "df.loc[df['RegistrationMonth'] == 0,'RegistrationMonth'] = df['RegistrationMonth'].median()"
   ]
  },
  {
   "cell_type": "code",
   "execution_count": 28,
   "metadata": {},
   "outputs": [
    {
     "data": {
      "text/plain": [
       "array([ 6,  8,  7, 10, 12, 11,  2,  1,  4,  5,  9,  3])"
      ]
     },
     "execution_count": 28,
     "metadata": {},
     "output_type": "execute_result"
    }
   ],
   "source": [
    "df.RegistrationMonth.unique()"
   ]
  },
  {
   "cell_type": "markdown",
   "metadata": {},
   "source": [
    "Год и месяц регистрации автомобиля не может быть больше года и месяца создания объявления"
   ]
  },
  {
   "cell_type": "markdown",
   "metadata": {},
   "source": [
    "<div class=\"alert alert-success\">\n",
    "<b>ОТЛИЧНО! 👍</b>\n",
    "\n",
    "Да, молодец, верно. Актуальность базы - 2016 год. Объявления \"младше\" этой даты - ошибки. Раритеты - также нас не интересуют (у этих моделей цена совершенно не подчиняющаяся здравой логике).\n",
    "</div>"
   ]
  },
  {
   "cell_type": "code",
   "execution_count": 29,
   "metadata": {},
   "outputs": [
    {
     "data": {
      "text/plain": [
       "'2016-04-07 00:00:00'"
      ]
     },
     "execution_count": 29,
     "metadata": {},
     "output_type": "execute_result"
    }
   ],
   "source": [
    "max(df['DateCreated'])"
   ]
  },
  {
   "cell_type": "code",
   "execution_count": 30,
   "metadata": {},
   "outputs": [],
   "source": [
    "df = df.query('RegistrationYear<2017')"
   ]
  },
  {
   "cell_type": "code",
   "execution_count": 31,
   "metadata": {},
   "outputs": [
    {
     "data": {
      "text/plain": [
       "count    291699.000000\n",
       "mean       2002.428647\n",
       "std           8.874791\n",
       "min        1000.000000\n",
       "25%        1999.000000\n",
       "50%        2003.000000\n",
       "75%        2007.000000\n",
       "max        2016.000000\n",
       "Name: RegistrationYear, dtype: float64"
      ]
     },
     "execution_count": 31,
     "metadata": {},
     "output_type": "execute_result"
    }
   ],
   "source": [
    "df['RegistrationYear'].describe()"
   ]
  },
  {
   "cell_type": "code",
   "execution_count": 32,
   "metadata": {},
   "outputs": [
    {
     "data": {
      "text/plain": [
       "0.001    1965.0\n",
       "0.010    1983.0\n",
       "0.050    1993.0\n",
       "Name: RegistrationYear, dtype: float64"
      ]
     },
     "execution_count": 32,
     "metadata": {},
     "output_type": "execute_result"
    }
   ],
   "source": [
    "q = [0.001, 0.01, 0.05]\n",
    "df['RegistrationYear'].quantile(q=q)"
   ]
  },
  {
   "cell_type": "code",
   "execution_count": 33,
   "metadata": {},
   "outputs": [
    {
     "data": {
      "text/html": [
       "<div>\n",
       "<style scoped>\n",
       "    .dataframe tbody tr th:only-of-type {\n",
       "        vertical-align: middle;\n",
       "    }\n",
       "\n",
       "    .dataframe tbody tr th {\n",
       "        vertical-align: top;\n",
       "    }\n",
       "\n",
       "    .dataframe thead th {\n",
       "        text-align: right;\n",
       "    }\n",
       "</style>\n",
       "<table border=\"1\" class=\"dataframe\">\n",
       "  <thead>\n",
       "    <tr style=\"text-align: right;\">\n",
       "      <th></th>\n",
       "      <th>Price</th>\n",
       "      <th>VehicleType</th>\n",
       "      <th>RegistrationYear</th>\n",
       "      <th>Gearbox</th>\n",
       "      <th>Power</th>\n",
       "      <th>Model</th>\n",
       "      <th>Kilometer</th>\n",
       "      <th>RegistrationMonth</th>\n",
       "      <th>FuelType</th>\n",
       "      <th>Brand</th>\n",
       "      <th>Repaired</th>\n",
       "      <th>DateCreated</th>\n",
       "      <th>PostalCode</th>\n",
       "    </tr>\n",
       "  </thead>\n",
       "  <tbody>\n",
       "    <tr>\n",
       "      <th>0</th>\n",
       "      <td>480</td>\n",
       "      <td>unknown</td>\n",
       "      <td>1993</td>\n",
       "      <td>manual</td>\n",
       "      <td>0</td>\n",
       "      <td>golf</td>\n",
       "      <td>150000</td>\n",
       "      <td>6</td>\n",
       "      <td>petrol</td>\n",
       "      <td>volkswagen</td>\n",
       "      <td>unknown</td>\n",
       "      <td>2016-03-24 00:00:00</td>\n",
       "      <td>70435</td>\n",
       "    </tr>\n",
       "    <tr>\n",
       "      <th>2</th>\n",
       "      <td>9800</td>\n",
       "      <td>suv</td>\n",
       "      <td>2004</td>\n",
       "      <td>auto</td>\n",
       "      <td>163</td>\n",
       "      <td>grand</td>\n",
       "      <td>125000</td>\n",
       "      <td>8</td>\n",
       "      <td>gasoline</td>\n",
       "      <td>jeep</td>\n",
       "      <td>unknown</td>\n",
       "      <td>2016-03-14 00:00:00</td>\n",
       "      <td>90480</td>\n",
       "    </tr>\n",
       "    <tr>\n",
       "      <th>3</th>\n",
       "      <td>1500</td>\n",
       "      <td>small</td>\n",
       "      <td>2001</td>\n",
       "      <td>manual</td>\n",
       "      <td>75</td>\n",
       "      <td>golf</td>\n",
       "      <td>150000</td>\n",
       "      <td>6</td>\n",
       "      <td>petrol</td>\n",
       "      <td>volkswagen</td>\n",
       "      <td>no</td>\n",
       "      <td>2016-03-17 00:00:00</td>\n",
       "      <td>91074</td>\n",
       "    </tr>\n",
       "    <tr>\n",
       "      <th>4</th>\n",
       "      <td>3600</td>\n",
       "      <td>small</td>\n",
       "      <td>2008</td>\n",
       "      <td>manual</td>\n",
       "      <td>69</td>\n",
       "      <td>fabia</td>\n",
       "      <td>90000</td>\n",
       "      <td>7</td>\n",
       "      <td>gasoline</td>\n",
       "      <td>skoda</td>\n",
       "      <td>no</td>\n",
       "      <td>2016-03-31 00:00:00</td>\n",
       "      <td>60437</td>\n",
       "    </tr>\n",
       "    <tr>\n",
       "      <th>5</th>\n",
       "      <td>650</td>\n",
       "      <td>sedan</td>\n",
       "      <td>1995</td>\n",
       "      <td>manual</td>\n",
       "      <td>102</td>\n",
       "      <td>3er</td>\n",
       "      <td>150000</td>\n",
       "      <td>10</td>\n",
       "      <td>petrol</td>\n",
       "      <td>bmw</td>\n",
       "      <td>yes</td>\n",
       "      <td>2016-04-04 00:00:00</td>\n",
       "      <td>33775</td>\n",
       "    </tr>\n",
       "    <tr>\n",
       "      <th>...</th>\n",
       "      <td>...</td>\n",
       "      <td>...</td>\n",
       "      <td>...</td>\n",
       "      <td>...</td>\n",
       "      <td>...</td>\n",
       "      <td>...</td>\n",
       "      <td>...</td>\n",
       "      <td>...</td>\n",
       "      <td>...</td>\n",
       "      <td>...</td>\n",
       "      <td>...</td>\n",
       "      <td>...</td>\n",
       "      <td>...</td>\n",
       "    </tr>\n",
       "    <tr>\n",
       "      <th>354362</th>\n",
       "      <td>3200</td>\n",
       "      <td>sedan</td>\n",
       "      <td>2004</td>\n",
       "      <td>manual</td>\n",
       "      <td>225</td>\n",
       "      <td>leon</td>\n",
       "      <td>150000</td>\n",
       "      <td>5</td>\n",
       "      <td>petrol</td>\n",
       "      <td>seat</td>\n",
       "      <td>yes</td>\n",
       "      <td>2016-03-19 00:00:00</td>\n",
       "      <td>96465</td>\n",
       "    </tr>\n",
       "    <tr>\n",
       "      <th>354363</th>\n",
       "      <td>1150</td>\n",
       "      <td>bus</td>\n",
       "      <td>2000</td>\n",
       "      <td>manual</td>\n",
       "      <td>0</td>\n",
       "      <td>zafira</td>\n",
       "      <td>150000</td>\n",
       "      <td>3</td>\n",
       "      <td>petrol</td>\n",
       "      <td>opel</td>\n",
       "      <td>no</td>\n",
       "      <td>2016-03-27 00:00:00</td>\n",
       "      <td>26624</td>\n",
       "    </tr>\n",
       "    <tr>\n",
       "      <th>354366</th>\n",
       "      <td>1199</td>\n",
       "      <td>convertible</td>\n",
       "      <td>2000</td>\n",
       "      <td>auto</td>\n",
       "      <td>101</td>\n",
       "      <td>fortwo</td>\n",
       "      <td>125000</td>\n",
       "      <td>3</td>\n",
       "      <td>petrol</td>\n",
       "      <td>smart</td>\n",
       "      <td>no</td>\n",
       "      <td>2016-03-05 00:00:00</td>\n",
       "      <td>26135</td>\n",
       "    </tr>\n",
       "    <tr>\n",
       "      <th>354367</th>\n",
       "      <td>9200</td>\n",
       "      <td>bus</td>\n",
       "      <td>1996</td>\n",
       "      <td>manual</td>\n",
       "      <td>102</td>\n",
       "      <td>transporter</td>\n",
       "      <td>150000</td>\n",
       "      <td>3</td>\n",
       "      <td>gasoline</td>\n",
       "      <td>volkswagen</td>\n",
       "      <td>no</td>\n",
       "      <td>2016-03-19 00:00:00</td>\n",
       "      <td>87439</td>\n",
       "    </tr>\n",
       "    <tr>\n",
       "      <th>354368</th>\n",
       "      <td>3400</td>\n",
       "      <td>wagon</td>\n",
       "      <td>2002</td>\n",
       "      <td>manual</td>\n",
       "      <td>100</td>\n",
       "      <td>golf</td>\n",
       "      <td>150000</td>\n",
       "      <td>6</td>\n",
       "      <td>gasoline</td>\n",
       "      <td>volkswagen</td>\n",
       "      <td>unknown</td>\n",
       "      <td>2016-03-20 00:00:00</td>\n",
       "      <td>40764</td>\n",
       "    </tr>\n",
       "  </tbody>\n",
       "</table>\n",
       "<p>288577 rows × 13 columns</p>\n",
       "</div>"
      ],
      "text/plain": [
       "        Price  VehicleType  RegistrationYear Gearbox  Power        Model  \\\n",
       "0         480      unknown              1993  manual      0         golf   \n",
       "2        9800          suv              2004    auto    163        grand   \n",
       "3        1500        small              2001  manual     75         golf   \n",
       "4        3600        small              2008  manual     69        fabia   \n",
       "5         650        sedan              1995  manual    102          3er   \n",
       "...       ...          ...               ...     ...    ...          ...   \n",
       "354362   3200        sedan              2004  manual    225         leon   \n",
       "354363   1150          bus              2000  manual      0       zafira   \n",
       "354366   1199  convertible              2000    auto    101       fortwo   \n",
       "354367   9200          bus              1996  manual    102  transporter   \n",
       "354368   3400        wagon              2002  manual    100         golf   \n",
       "\n",
       "        Kilometer  RegistrationMonth  FuelType       Brand Repaired  \\\n",
       "0          150000                  6    petrol  volkswagen  unknown   \n",
       "2          125000                  8  gasoline        jeep  unknown   \n",
       "3          150000                  6    petrol  volkswagen       no   \n",
       "4           90000                  7  gasoline       skoda       no   \n",
       "5          150000                 10    petrol         bmw      yes   \n",
       "...           ...                ...       ...         ...      ...   \n",
       "354362     150000                  5    petrol        seat      yes   \n",
       "354363     150000                  3    petrol        opel       no   \n",
       "354366     125000                  3    petrol       smart       no   \n",
       "354367     150000                  3  gasoline  volkswagen       no   \n",
       "354368     150000                  6  gasoline  volkswagen  unknown   \n",
       "\n",
       "                DateCreated  PostalCode  \n",
       "0       2016-03-24 00:00:00       70435  \n",
       "2       2016-03-14 00:00:00       90480  \n",
       "3       2016-03-17 00:00:00       91074  \n",
       "4       2016-03-31 00:00:00       60437  \n",
       "5       2016-04-04 00:00:00       33775  \n",
       "...                     ...         ...  \n",
       "354362  2016-03-19 00:00:00       96465  \n",
       "354363  2016-03-27 00:00:00       26624  \n",
       "354366  2016-03-05 00:00:00       26135  \n",
       "354367  2016-03-19 00:00:00       87439  \n",
       "354368  2016-03-20 00:00:00       40764  \n",
       "\n",
       "[288577 rows x 13 columns]"
      ]
     },
     "execution_count": 33,
     "metadata": {},
     "output_type": "execute_result"
    }
   ],
   "source": [
    "df.query('1983<RegistrationYear>1965')"
   ]
  },
  {
   "cell_type": "code",
   "execution_count": 34,
   "metadata": {},
   "outputs": [],
   "source": [
    "df = df.query('RegistrationYear>1964')"
   ]
  },
  {
   "cell_type": "code",
   "execution_count": 35,
   "metadata": {},
   "outputs": [
    {
     "data": {
      "text/plain": [
       "5622"
      ]
     },
     "execution_count": 35,
     "metadata": {},
     "output_type": "execute_result"
    }
   ],
   "source": [
    "df.query('RegistrationYear==2016 and RegistrationMonth>4')['RegistrationMonth'].count()"
   ]
  },
  {
   "cell_type": "markdown",
   "metadata": {},
   "source": [
    "Объеденим год и месяц регистрации в `RegistrationDate`, удалим все, что позже апреля 2016"
   ]
  },
  {
   "cell_type": "code",
   "execution_count": 36,
   "metadata": {},
   "outputs": [],
   "source": [
    "df['RegistrationMonth'] = df['RegistrationMonth'].astype(int)"
   ]
  },
  {
   "cell_type": "code",
   "execution_count": 37,
   "metadata": {},
   "outputs": [
    {
     "data": {
      "text/html": [
       "<div>\n",
       "<style scoped>\n",
       "    .dataframe tbody tr th:only-of-type {\n",
       "        vertical-align: middle;\n",
       "    }\n",
       "\n",
       "    .dataframe tbody tr th {\n",
       "        vertical-align: top;\n",
       "    }\n",
       "\n",
       "    .dataframe thead th {\n",
       "        text-align: right;\n",
       "    }\n",
       "</style>\n",
       "<table border=\"1\" class=\"dataframe\">\n",
       "  <thead>\n",
       "    <tr style=\"text-align: right;\">\n",
       "      <th></th>\n",
       "      <th>Price</th>\n",
       "      <th>VehicleType</th>\n",
       "      <th>RegistrationYear</th>\n",
       "      <th>Gearbox</th>\n",
       "      <th>Power</th>\n",
       "      <th>Model</th>\n",
       "      <th>Kilometer</th>\n",
       "      <th>RegistrationMonth</th>\n",
       "      <th>FuelType</th>\n",
       "      <th>Brand</th>\n",
       "      <th>Repaired</th>\n",
       "      <th>DateCreated</th>\n",
       "      <th>PostalCode</th>\n",
       "      <th>dateInt</th>\n",
       "    </tr>\n",
       "  </thead>\n",
       "  <tbody>\n",
       "    <tr>\n",
       "      <th>0</th>\n",
       "      <td>480</td>\n",
       "      <td>unknown</td>\n",
       "      <td>1993</td>\n",
       "      <td>manual</td>\n",
       "      <td>0</td>\n",
       "      <td>golf</td>\n",
       "      <td>150000</td>\n",
       "      <td>6</td>\n",
       "      <td>petrol</td>\n",
       "      <td>volkswagen</td>\n",
       "      <td>unknown</td>\n",
       "      <td>2016-03-24 00:00:00</td>\n",
       "      <td>70435</td>\n",
       "      <td>199306</td>\n",
       "    </tr>\n",
       "    <tr>\n",
       "      <th>2</th>\n",
       "      <td>9800</td>\n",
       "      <td>suv</td>\n",
       "      <td>2004</td>\n",
       "      <td>auto</td>\n",
       "      <td>163</td>\n",
       "      <td>grand</td>\n",
       "      <td>125000</td>\n",
       "      <td>8</td>\n",
       "      <td>gasoline</td>\n",
       "      <td>jeep</td>\n",
       "      <td>unknown</td>\n",
       "      <td>2016-03-14 00:00:00</td>\n",
       "      <td>90480</td>\n",
       "      <td>200408</td>\n",
       "    </tr>\n",
       "    <tr>\n",
       "      <th>3</th>\n",
       "      <td>1500</td>\n",
       "      <td>small</td>\n",
       "      <td>2001</td>\n",
       "      <td>manual</td>\n",
       "      <td>75</td>\n",
       "      <td>golf</td>\n",
       "      <td>150000</td>\n",
       "      <td>6</td>\n",
       "      <td>petrol</td>\n",
       "      <td>volkswagen</td>\n",
       "      <td>no</td>\n",
       "      <td>2016-03-17 00:00:00</td>\n",
       "      <td>91074</td>\n",
       "      <td>200106</td>\n",
       "    </tr>\n",
       "    <tr>\n",
       "      <th>4</th>\n",
       "      <td>3600</td>\n",
       "      <td>small</td>\n",
       "      <td>2008</td>\n",
       "      <td>manual</td>\n",
       "      <td>69</td>\n",
       "      <td>fabia</td>\n",
       "      <td>90000</td>\n",
       "      <td>7</td>\n",
       "      <td>gasoline</td>\n",
       "      <td>skoda</td>\n",
       "      <td>no</td>\n",
       "      <td>2016-03-31 00:00:00</td>\n",
       "      <td>60437</td>\n",
       "      <td>200807</td>\n",
       "    </tr>\n",
       "    <tr>\n",
       "      <th>5</th>\n",
       "      <td>650</td>\n",
       "      <td>sedan</td>\n",
       "      <td>1995</td>\n",
       "      <td>manual</td>\n",
       "      <td>102</td>\n",
       "      <td>3er</td>\n",
       "      <td>150000</td>\n",
       "      <td>10</td>\n",
       "      <td>petrol</td>\n",
       "      <td>bmw</td>\n",
       "      <td>yes</td>\n",
       "      <td>2016-04-04 00:00:00</td>\n",
       "      <td>33775</td>\n",
       "      <td>199510</td>\n",
       "    </tr>\n",
       "    <tr>\n",
       "      <th>...</th>\n",
       "      <td>...</td>\n",
       "      <td>...</td>\n",
       "      <td>...</td>\n",
       "      <td>...</td>\n",
       "      <td>...</td>\n",
       "      <td>...</td>\n",
       "      <td>...</td>\n",
       "      <td>...</td>\n",
       "      <td>...</td>\n",
       "      <td>...</td>\n",
       "      <td>...</td>\n",
       "      <td>...</td>\n",
       "      <td>...</td>\n",
       "      <td>...</td>\n",
       "    </tr>\n",
       "    <tr>\n",
       "      <th>354362</th>\n",
       "      <td>3200</td>\n",
       "      <td>sedan</td>\n",
       "      <td>2004</td>\n",
       "      <td>manual</td>\n",
       "      <td>225</td>\n",
       "      <td>leon</td>\n",
       "      <td>150000</td>\n",
       "      <td>5</td>\n",
       "      <td>petrol</td>\n",
       "      <td>seat</td>\n",
       "      <td>yes</td>\n",
       "      <td>2016-03-19 00:00:00</td>\n",
       "      <td>96465</td>\n",
       "      <td>200405</td>\n",
       "    </tr>\n",
       "    <tr>\n",
       "      <th>354363</th>\n",
       "      <td>1150</td>\n",
       "      <td>bus</td>\n",
       "      <td>2000</td>\n",
       "      <td>manual</td>\n",
       "      <td>0</td>\n",
       "      <td>zafira</td>\n",
       "      <td>150000</td>\n",
       "      <td>3</td>\n",
       "      <td>petrol</td>\n",
       "      <td>opel</td>\n",
       "      <td>no</td>\n",
       "      <td>2016-03-27 00:00:00</td>\n",
       "      <td>26624</td>\n",
       "      <td>200003</td>\n",
       "    </tr>\n",
       "    <tr>\n",
       "      <th>354366</th>\n",
       "      <td>1199</td>\n",
       "      <td>convertible</td>\n",
       "      <td>2000</td>\n",
       "      <td>auto</td>\n",
       "      <td>101</td>\n",
       "      <td>fortwo</td>\n",
       "      <td>125000</td>\n",
       "      <td>3</td>\n",
       "      <td>petrol</td>\n",
       "      <td>smart</td>\n",
       "      <td>no</td>\n",
       "      <td>2016-03-05 00:00:00</td>\n",
       "      <td>26135</td>\n",
       "      <td>200003</td>\n",
       "    </tr>\n",
       "    <tr>\n",
       "      <th>354367</th>\n",
       "      <td>9200</td>\n",
       "      <td>bus</td>\n",
       "      <td>1996</td>\n",
       "      <td>manual</td>\n",
       "      <td>102</td>\n",
       "      <td>transporter</td>\n",
       "      <td>150000</td>\n",
       "      <td>3</td>\n",
       "      <td>gasoline</td>\n",
       "      <td>volkswagen</td>\n",
       "      <td>no</td>\n",
       "      <td>2016-03-19 00:00:00</td>\n",
       "      <td>87439</td>\n",
       "      <td>199603</td>\n",
       "    </tr>\n",
       "    <tr>\n",
       "      <th>354368</th>\n",
       "      <td>3400</td>\n",
       "      <td>wagon</td>\n",
       "      <td>2002</td>\n",
       "      <td>manual</td>\n",
       "      <td>100</td>\n",
       "      <td>golf</td>\n",
       "      <td>150000</td>\n",
       "      <td>6</td>\n",
       "      <td>gasoline</td>\n",
       "      <td>volkswagen</td>\n",
       "      <td>unknown</td>\n",
       "      <td>2016-03-20 00:00:00</td>\n",
       "      <td>40764</td>\n",
       "      <td>200206</td>\n",
       "    </tr>\n",
       "  </tbody>\n",
       "</table>\n",
       "<p>291410 rows × 14 columns</p>\n",
       "</div>"
      ],
      "text/plain": [
       "        Price  VehicleType  RegistrationYear Gearbox  Power        Model  \\\n",
       "0         480      unknown              1993  manual      0         golf   \n",
       "2        9800          suv              2004    auto    163        grand   \n",
       "3        1500        small              2001  manual     75         golf   \n",
       "4        3600        small              2008  manual     69        fabia   \n",
       "5         650        sedan              1995  manual    102          3er   \n",
       "...       ...          ...               ...     ...    ...          ...   \n",
       "354362   3200        sedan              2004  manual    225         leon   \n",
       "354363   1150          bus              2000  manual      0       zafira   \n",
       "354366   1199  convertible              2000    auto    101       fortwo   \n",
       "354367   9200          bus              1996  manual    102  transporter   \n",
       "354368   3400        wagon              2002  manual    100         golf   \n",
       "\n",
       "        Kilometer  RegistrationMonth  FuelType       Brand Repaired  \\\n",
       "0          150000                  6    petrol  volkswagen  unknown   \n",
       "2          125000                  8  gasoline        jeep  unknown   \n",
       "3          150000                  6    petrol  volkswagen       no   \n",
       "4           90000                  7  gasoline       skoda       no   \n",
       "5          150000                 10    petrol         bmw      yes   \n",
       "...           ...                ...       ...         ...      ...   \n",
       "354362     150000                  5    petrol        seat      yes   \n",
       "354363     150000                  3    petrol        opel       no   \n",
       "354366     125000                  3    petrol       smart       no   \n",
       "354367     150000                  3  gasoline  volkswagen       no   \n",
       "354368     150000                  6  gasoline  volkswagen  unknown   \n",
       "\n",
       "                DateCreated  PostalCode dateInt  \n",
       "0       2016-03-24 00:00:00       70435  199306  \n",
       "2       2016-03-14 00:00:00       90480  200408  \n",
       "3       2016-03-17 00:00:00       91074  200106  \n",
       "4       2016-03-31 00:00:00       60437  200807  \n",
       "5       2016-04-04 00:00:00       33775  199510  \n",
       "...                     ...         ...     ...  \n",
       "354362  2016-03-19 00:00:00       96465  200405  \n",
       "354363  2016-03-27 00:00:00       26624  200003  \n",
       "354366  2016-03-05 00:00:00       26135  200003  \n",
       "354367  2016-03-19 00:00:00       87439  199603  \n",
       "354368  2016-03-20 00:00:00       40764  200206  \n",
       "\n",
       "[291410 rows x 14 columns]"
      ]
     },
     "execution_count": 37,
     "metadata": {},
     "output_type": "execute_result"
    }
   ],
   "source": [
    "df['dateInt']=df['RegistrationYear'].astype(str) + df['RegistrationMonth'].astype(str).str.zfill(2)\n",
    "df"
   ]
  },
  {
   "cell_type": "code",
   "execution_count": 38,
   "metadata": {},
   "outputs": [],
   "source": [
    "df['RegistrationDate'] = pd.to_datetime(df['dateInt'], format='%Y%m')"
   ]
  },
  {
   "cell_type": "code",
   "execution_count": 39,
   "metadata": {},
   "outputs": [],
   "source": [
    "#df = df.drop(['RegistrationYear', 'RegistrationMonth', 'dateInt'], axis=1)\n",
    "#df"
   ]
  },
  {
   "cell_type": "code",
   "execution_count": 40,
   "metadata": {},
   "outputs": [
    {
     "data": {
      "text/plain": [
       "(285788, 15)"
      ]
     },
     "execution_count": 40,
     "metadata": {},
     "output_type": "execute_result"
    }
   ],
   "source": [
    "df = df[pd.to_datetime(df.RegistrationDate, errors='coerce') < pd.to_datetime('2016-05-01')]\n",
    "df.shape"
   ]
  },
  {
   "cell_type": "code",
   "execution_count": 41,
   "metadata": {},
   "outputs": [
    {
     "data": {
      "text/plain": [
       "count    285788.000000\n",
       "mean        110.723557\n",
       "std         176.875246\n",
       "min           0.000000\n",
       "25%          75.000000\n",
       "50%         105.000000\n",
       "75%         140.000000\n",
       "max       20000.000000\n",
       "Name: Power, dtype: float64"
      ]
     },
     "execution_count": 41,
     "metadata": {},
     "output_type": "execute_result"
    }
   ],
   "source": [
    "df['Power'].describe()"
   ]
  },
  {
   "cell_type": "code",
   "execution_count": 42,
   "metadata": {},
   "outputs": [
    {
     "data": {
      "image/png": "[encoded data removed]",
      "text/plain": [
       "<Figure size 504x504 with 1 Axes>"
      ]
     },
     "metadata": {
      "needs_background": "light"
     },
     "output_type": "display_data"
    }
   ],
   "source": [
    "df.boxplot(['Power'], figsize=(7,7))\n",
    "plt.title('Мощность автомобилей')\n",
    "plt.show()"
   ]
  },
  {
   "cell_type": "code",
   "execution_count": 43,
   "metadata": {},
   "outputs": [
    {
     "data": {
      "text/plain": [
       "0.10     50.0\n",
       "0.99    280.0\n",
       "Name: Power, dtype: float64"
      ]
     },
     "execution_count": 43,
     "metadata": {},
     "output_type": "execute_result"
    }
   ],
   "source": [
    "q = [0.1, 0.99]\n",
    "df['Power'].quantile(q=q)"
   ]
  },
  {
   "cell_type": "markdown",
   "metadata": {},
   "source": [
    "Удалим строки с мощностью менее 50 и более 280"
   ]
  },
  {
   "cell_type": "code",
   "execution_count": 44,
   "metadata": {},
   "outputs": [
    {
     "data": {
      "text/plain": [
       "(254495, 15)"
      ]
     },
     "execution_count": 44,
     "metadata": {},
     "output_type": "execute_result"
    }
   ],
   "source": [
    "df=df.query('Power > 49 & Power < 281')\n",
    "df.shape"
   ]
  },
  {
   "cell_type": "markdown",
   "metadata": {},
   "source": [
    "<div class=\"alert alert-warning\">\n",
    "<b>Комментарий 👉</b>\n",
    "\n",
    "Это тоже верно. Да, низший и высший пороги мощности обсуждаемы, но для целей нашего учебного проекта достаточно того, что ты видишь проблему выбросов и необходимым способом её обрабатываешь.\n",
    "</div>"
   ]
  },
  {
   "cell_type": "markdown",
   "metadata": {},
   "source": [
    "Удалим столбцы `PostalCode`, `DateCreated`, `RegistrationMonth`, `dateInt`, `RegistrationDate`. Для построения модели они нам не нужны. Хотя, возможно, по `PostalCode` можно найти город, но корреляция с целевым признаком слабая, наверное, город на цену не будет особо влиять."
   ]
  },
  {
   "cell_type": "markdown",
   "metadata": {},
   "source": [
    "<div class=\"alert alert-warning\">\n",
    "<b>Комментарий 👉</b>\n",
    "\n",
    "Отлично, удляются оставшиеся неинформативные признаки.\n",
    "</div>"
   ]
  },
  {
   "cell_type": "code",
   "execution_count": 45,
   "metadata": {},
   "outputs": [
    {
     "data": {
      "text/html": [
       "<div>\n",
       "<style scoped>\n",
       "    .dataframe tbody tr th:only-of-type {\n",
       "        vertical-align: middle;\n",
       "    }\n",
       "\n",
       "    .dataframe tbody tr th {\n",
       "        vertical-align: top;\n",
       "    }\n",
       "\n",
       "    .dataframe thead th {\n",
       "        text-align: right;\n",
       "    }\n",
       "</style>\n",
       "<table border=\"1\" class=\"dataframe\">\n",
       "  <thead>\n",
       "    <tr style=\"text-align: right;\">\n",
       "      <th></th>\n",
       "      <th>Price</th>\n",
       "      <th>VehicleType</th>\n",
       "      <th>RegistrationYear</th>\n",
       "      <th>Gearbox</th>\n",
       "      <th>Power</th>\n",
       "      <th>Model</th>\n",
       "      <th>Kilometer</th>\n",
       "      <th>FuelType</th>\n",
       "      <th>Brand</th>\n",
       "      <th>Repaired</th>\n",
       "    </tr>\n",
       "  </thead>\n",
       "  <tbody>\n",
       "    <tr>\n",
       "      <th>2</th>\n",
       "      <td>9800</td>\n",
       "      <td>suv</td>\n",
       "      <td>2004</td>\n",
       "      <td>auto</td>\n",
       "      <td>163</td>\n",
       "      <td>grand</td>\n",
       "      <td>125000</td>\n",
       "      <td>gasoline</td>\n",
       "      <td>jeep</td>\n",
       "      <td>unknown</td>\n",
       "    </tr>\n",
       "    <tr>\n",
       "      <th>3</th>\n",
       "      <td>1500</td>\n",
       "      <td>small</td>\n",
       "      <td>2001</td>\n",
       "      <td>manual</td>\n",
       "      <td>75</td>\n",
       "      <td>golf</td>\n",
       "      <td>150000</td>\n",
       "      <td>petrol</td>\n",
       "      <td>volkswagen</td>\n",
       "      <td>no</td>\n",
       "    </tr>\n",
       "    <tr>\n",
       "      <th>4</th>\n",
       "      <td>3600</td>\n",
       "      <td>small</td>\n",
       "      <td>2008</td>\n",
       "      <td>manual</td>\n",
       "      <td>69</td>\n",
       "      <td>fabia</td>\n",
       "      <td>90000</td>\n",
       "      <td>gasoline</td>\n",
       "      <td>skoda</td>\n",
       "      <td>no</td>\n",
       "    </tr>\n",
       "    <tr>\n",
       "      <th>5</th>\n",
       "      <td>650</td>\n",
       "      <td>sedan</td>\n",
       "      <td>1995</td>\n",
       "      <td>manual</td>\n",
       "      <td>102</td>\n",
       "      <td>3er</td>\n",
       "      <td>150000</td>\n",
       "      <td>petrol</td>\n",
       "      <td>bmw</td>\n",
       "      <td>yes</td>\n",
       "    </tr>\n",
       "    <tr>\n",
       "      <th>6</th>\n",
       "      <td>2200</td>\n",
       "      <td>convertible</td>\n",
       "      <td>2004</td>\n",
       "      <td>manual</td>\n",
       "      <td>109</td>\n",
       "      <td>2_reihe</td>\n",
       "      <td>150000</td>\n",
       "      <td>petrol</td>\n",
       "      <td>peugeot</td>\n",
       "      <td>no</td>\n",
       "    </tr>\n",
       "    <tr>\n",
       "      <th>...</th>\n",
       "      <td>...</td>\n",
       "      <td>...</td>\n",
       "      <td>...</td>\n",
       "      <td>...</td>\n",
       "      <td>...</td>\n",
       "      <td>...</td>\n",
       "      <td>...</td>\n",
       "      <td>...</td>\n",
       "      <td>...</td>\n",
       "      <td>...</td>\n",
       "    </tr>\n",
       "    <tr>\n",
       "      <th>354359</th>\n",
       "      <td>7900</td>\n",
       "      <td>sedan</td>\n",
       "      <td>2010</td>\n",
       "      <td>manual</td>\n",
       "      <td>140</td>\n",
       "      <td>golf</td>\n",
       "      <td>150000</td>\n",
       "      <td>gasoline</td>\n",
       "      <td>volkswagen</td>\n",
       "      <td>no</td>\n",
       "    </tr>\n",
       "    <tr>\n",
       "      <th>354362</th>\n",
       "      <td>3200</td>\n",
       "      <td>sedan</td>\n",
       "      <td>2004</td>\n",
       "      <td>manual</td>\n",
       "      <td>225</td>\n",
       "      <td>leon</td>\n",
       "      <td>150000</td>\n",
       "      <td>petrol</td>\n",
       "      <td>seat</td>\n",
       "      <td>yes</td>\n",
       "    </tr>\n",
       "    <tr>\n",
       "      <th>354366</th>\n",
       "      <td>1199</td>\n",
       "      <td>convertible</td>\n",
       "      <td>2000</td>\n",
       "      <td>auto</td>\n",
       "      <td>101</td>\n",
       "      <td>fortwo</td>\n",
       "      <td>125000</td>\n",
       "      <td>petrol</td>\n",
       "      <td>smart</td>\n",
       "      <td>no</td>\n",
       "    </tr>\n",
       "    <tr>\n",
       "      <th>354367</th>\n",
       "      <td>9200</td>\n",
       "      <td>bus</td>\n",
       "      <td>1996</td>\n",
       "      <td>manual</td>\n",
       "      <td>102</td>\n",
       "      <td>transporter</td>\n",
       "      <td>150000</td>\n",
       "      <td>gasoline</td>\n",
       "      <td>volkswagen</td>\n",
       "      <td>no</td>\n",
       "    </tr>\n",
       "    <tr>\n",
       "      <th>354368</th>\n",
       "      <td>3400</td>\n",
       "      <td>wagon</td>\n",
       "      <td>2002</td>\n",
       "      <td>manual</td>\n",
       "      <td>100</td>\n",
       "      <td>golf</td>\n",
       "      <td>150000</td>\n",
       "      <td>gasoline</td>\n",
       "      <td>volkswagen</td>\n",
       "      <td>unknown</td>\n",
       "    </tr>\n",
       "  </tbody>\n",
       "</table>\n",
       "<p>254495 rows × 10 columns</p>\n",
       "</div>"
      ],
      "text/plain": [
       "        Price  VehicleType  RegistrationYear Gearbox  Power        Model  \\\n",
       "2        9800          suv              2004    auto    163        grand   \n",
       "3        1500        small              2001  manual     75         golf   \n",
       "4        3600        small              2008  manual     69        fabia   \n",
       "5         650        sedan              1995  manual    102          3er   \n",
       "6        2200  convertible              2004  manual    109      2_reihe   \n",
       "...       ...          ...               ...     ...    ...          ...   \n",
       "354359   7900        sedan              2010  manual    140         golf   \n",
       "354362   3200        sedan              2004  manual    225         leon   \n",
       "354366   1199  convertible              2000    auto    101       fortwo   \n",
       "354367   9200          bus              1996  manual    102  transporter   \n",
       "354368   3400        wagon              2002  manual    100         golf   \n",
       "\n",
       "        Kilometer  FuelType       Brand Repaired  \n",
       "2          125000  gasoline        jeep  unknown  \n",
       "3          150000    petrol  volkswagen       no  \n",
       "4           90000  gasoline       skoda       no  \n",
       "5          150000    petrol         bmw      yes  \n",
       "6          150000    petrol     peugeot       no  \n",
       "...           ...       ...         ...      ...  \n",
       "354359     150000  gasoline  volkswagen       no  \n",
       "354362     150000    petrol        seat      yes  \n",
       "354366     125000    petrol       smart       no  \n",
       "354367     150000  gasoline  volkswagen       no  \n",
       "354368     150000  gasoline  volkswagen  unknown  \n",
       "\n",
       "[254495 rows x 10 columns]"
      ]
     },
     "execution_count": 45,
     "metadata": {},
     "output_type": "execute_result"
    }
   ],
   "source": [
    "df.drop(['PostalCode', 'DateCreated', 'RegistrationMonth', 'dateInt', 'RegistrationDate'], axis=1, inplace=True)\n",
    "df"
   ]
  },
  {
   "cell_type": "markdown",
   "metadata": {},
   "source": [
    "<div class=\"alert alert-success\">\n",
    "<b>ОТЛИЧНО! 👍</b>\n",
    "\n",
    "Здесь отлично. Всё так, эти столбцы (3 даты, индекс и количество фотографий) можно \"безболезненно\" из нашего датафрейма удалить. Действительно, ведь даты создания, последнего просмотра (активности) и дата скачивания анкеты, а также количество фотографий автомобиля и почтовый индекс владельца анкеты могут повторяться (не уникальны) и бесполезны с точки зрения построения моделей машинного обучения. \n",
    "\n",
    "Также я согласен и с удалением столбца 'registration_month'. Не сильно интересен нам месяц. Достаточно даты регистрации (которую мы и будем считать датой выезда автомобиля \"на дороги общего пользования\").</div>"
   ]
  },
  {
   "cell_type": "code",
   "execution_count": 46,
   "metadata": {},
   "outputs": [
    {
     "data": {
      "text/plain": [
       "<AxesSubplot:title={'center':'Корреляция признаков'}>"
      ]
     },
     "execution_count": 46,
     "metadata": {},
     "output_type": "execute_result"
    },
    {
     "data": {
      "image/png": "[encoded data removed]",
      "text/plain": [
       "<Figure size 720x432 with 2 Axes>"
      ]
     },
     "metadata": {
      "needs_background": "light"
     },
     "output_type": "display_data"
    }
   ],
   "source": [
    "plt.figure(figsize = (10, 6));\n",
    "plt.title('Корреляция признаков', fontsize = 15)\n",
    "sns.heatmap(df.corr(), annot = True, cmap=\"crest\")"
   ]
  },
  {
   "cell_type": "markdown",
   "metadata": {},
   "source": [
    "При предобработке данных:\n",
    "\n",
    "Удалены 4 явных дубликата\n",
    "\n",
    "У целевого признака были удалены значения с очень низкой(до 200 евро) и очень высокой(более 14600) ценами\n",
    "\n",
    "Пропуски в VehicleType и Repaired заменены на 'unknown'.\n",
    "\n",
    "Пропуски в Model удалены\n",
    "\n",
    "Пропуски в FuelType и Gearbox заменены на наиболее часто встречающиеся в модели\n",
    "\n",
    "RegistrationMonth и RegistrationYear были объеденины в один столбец RegistrationDate, удалены все строки с датами раньше 1965 года и позже апреля 2016\n",
    "\n",
    "В столбце Power удалены данные со значениями меньше 49 и больше 280\n",
    "\n",
    "После предобработки данных мультиколлинеарность не обнаружена\n",
    "\n",
    "Также, после предобработки данных осталось 9 признаков, 1 целевой признак и 254495 строк"
   ]
  },
  {
   "cell_type": "markdown",
   "metadata": {},
   "source": [
    "<div class=\"alert alert-warning\">\n",
    "<b>Комментарий 👉</b>\n",
    "\n",
    "По результатам проверки примерно 2,8 тысяч проектов за крайние 12 месяцев у меня родилось небольшое эссе на тему \"удаления vs. спасения\" данных, как раз на основе тех ситуаций и вопросов, которые мне коллеги задавали, которые мы обсуждали, уточняли и исправляли ... \n",
    "\n",
    "Желание уменьшить количество пропусков в данных (если такое желание конечно возникает ... но в рабочих проектах, \"в жизни\" оно как правило возникает) - можно только приветствовать. Приветствовать по 3-м минимум причинам:\n",
    "\n",
    "1. это тренировка\n",
    "    \n",
    "2. это попытка сохранить данные (\"данных много не бывает\")\n",
    "    \n",
    "3. самое главное на мой взгляд - развитие аналитического мышления, желания \"проникать\" в секреты, которые скрывают данные. Когда вначале рождается гипотеза, потом эта гипотеза проверяется на данных (может ли такое быть? подтверждается?) и в финале уже гипотеза облекается в код.\n",
    "\n",
    "Однако заполнение пропусков в данных не такая простая задача, как кажется ... простого ответа на вопросы: заполнять? удалить? чем заполнять? подходящего под все сценарии, нет ни в одной умной книжке ...\n",
    "\n",
    "Самый идеальный случай - когда у тебя под рукой есть эксперт в предметной области. Если такой есть - советуйся с ним. Как правило это человек из бизнеса, который знает суть бизнес-процесса и вот именно он даст тебе точный и аргументированный совет - что в данной, конкретной задаче делать с \"битыми\" полями в строках датафрейма. Ты скажешь ему какой процент пропусков в данных, а он тебе ответит что делать: можно/нельзя удалить и/или даст рекомендации по заполнению. Вообще, как правило такой человек \"на любой работе\" есть. Для примера, финансовый директор думаю всегда даст рекомендации по финансовым данным, прочие профильные спецы - по своей сфере компетенций. Наверное только в зарождающемся стартапе может не быть каких-то компетенций, но тут уже можно и через фриланс (и т.п.) попробовать найти спеца и просить совета.\n",
    "\n",
    "Теперь, что делать, если такого человека нет. Я бы ответил так: **ПОПЫТАТЬСЯ** вникнуть в бизнес-проблему самому. Наверное это сложно, если предметная область ну совсем незнакома. Но в общем случае, если бизнес совсем незнаком, то заполнение пропусков в данных наверное, не получиться. В таком случае попробуй ориентироваться на такое правило: если записи с пропусками в ключевых для твоего анализа столбцах составляют 1-3-5-ну может до 10% строк, то попробуй эти записи из оригинального датафрейма вырезать (но сохрани бы в некий df, к которому ты при необходимости можешь всегда обратиться).\n",
    "\n",
    "В жизни, МНЕ КАЖЕТСЯ, как правило по всему датафрейму заполнять медианой/средним - ну вообще не вариант. Почему? Я бы ответил так - потому, что реальные датафреймы имеют миллионы строк и горизонт в несколько (десятков) лет, и если в 90-2000-е года всё было как-то более -менее стабильно/прогнозируемо, то в нынешней реальности события раскручиваются гораздо быстрее и не прогнозируемо. Пример: ты аналитик в автобизнесе. У тебя есть данные с пропусками в цене для машин в 2005-2007 года. Можно заполнить их средними основываясь на данных 2020-2021?\n",
    "\n",
    "Может быть и такой вариант, что без заполнения некоторых столбцов некоторые записи по сути **НЕ** имеют смысла, но если их (записи с пропусками удалить), то и данных-то не останется. Ну тогда я бы такой совет дал - всё же заполнять медианой (она к скачкам выбросов более устойчива), но не по всему глобальному датафрейму, а выбрать простые группы (например, группы по интервалу лет - чтобы сгладить турбулентность нынешних лет) или выбрать более сложные группы (например, группы по интервалу лет и одновременно марке автопроизводителя (это я про вымышленный пример с автобизнесом)).\n",
    "\n",
    "Теперь предположим, что мы выбрали какую-то стратегию заполнения \"пропусков\", не суть какую (оставить NaN или заполнить \"заглушкой\"). И в том и в другом случае придётся помнить этот выбор. Ты спросишь почему? Отвечу - потому, что инструменты, применяемые тобой в Питон/Пандас в каких-то случаях могут спокойно пропускать твой выбор, а в каких-то случаях тебе придется этот твой выбор обрабатывать.\n",
    "\n",
    "Пример 1: мы заполнили пропуски \"заглушкой\". В этом случае: 1. расчет корреляций значение \"заглушку\" будет \"ловить\" (надо отфильтровать!), 2. расчет гипотез также будет \"сбивать\" правильный вывод (надо отфильтровать!) 3. графики, которые ты будешь строить - будут \"заглушку\" отображать на осях (нужно фильтровать), 4. в группировках также по-видимому \"заглушку\" надо будет убирать.\n",
    "\n",
    "Пример 2: мы оставили пропуски как NaN. В этом случае: 1. метод .corr NaN'ы пропускает (отфильтровать не надо), 2. в расчет гипотез всё равно пропуски отфильтровать 3. графики, которые ты будешь строить могут отображать, а могут не отображать, 4. в группировках NaN'ы по sum() видны не будут, а по count() будут.\n",
    "\n",
    "Ну и напоследок совсем уже жёсткий пример: додумывать \"от себя\", бездумно проставлять в пропуски медианные/средние значения - это НЕ верно. Давай же опять \"про жизнь\". Я писал выше, что в медицине работаю, да? **Предположим** мне принесли данные из онкологического диспансера. Задача: построить модель, которая по некоторым маркерным анализам будет прогнозировать наличие онкологии. **По-простому, ответить, что стоит за строчкой в данных: жизнь или смерть.** Уууууух … аж мороз по коже продирает, правда? \n",
    "\n",
    "Итак, 1.000.000 записей и 70 столбцов. Данные за 25 лет. 70 столбцов - это поля, с результатами конкретных и очень специфичных анализов. В \"начале\" данных, 15-20 лет назад, есть пропуски (много), но и в принципе, в данных есть пропуски. Как думаешь - имею я моральное право перед людьми, которые фактически доверяют мне в виде данных свою жизнь огульно подойти к заполнению пропусков?\n",
    "</div>"
   ]
  },
  {
   "cell_type": "markdown",
   "metadata": {},
   "source": [
    "<div class=\"alert alert-success\">\n",
    "<b>ОТЛИЧНО! 👍</b>\n",
    "\n",
    "Данные загружены, отлично.\n",
    "\n",
    "Хорошо, что применяешь метод .head()/.sample() таким образом в память не будет загружен весь датасет, объем которого может быть огромным.\n",
    "\n",
    "Методы .info, .describe, .value_counts(), .unique() как правило часто встречаются и обязательны к применению в задачах по исследованию данных, ведь с их помощью можно получить первые инсайты. \n",
    "\n",
    "Итак, мы провели предварительный анализ данных, проверили данные на наличие пропусков и затем обработали их (аргументированно заполнили / удалили / оставили как есть). Теперь можно приступать собственно к анализу данных и ответам на вопросы проекта.\n",
    "\n",
    "У тебя крутой и мощный EDA. Детальнейшая обработка пропусков и аномальных значений. С графиками. С рассуждениями. Молодец, всё классно в этом разделе.</div>"
   ]
  },
  {
   "cell_type": "markdown",
   "metadata": {},
   "source": [
    "<div class=\"alert alert-warning\">\n",
    "<b>Комментарий 👉</b>\n",
    "\n",
    "Несколько моментов \"на будущее\" (сейчас забегаю чуть вперед, но будущем это будет важно) которые я хотел озвучить перед переходом к собственно исследованию:\n",
    "    \n",
    "- СДЕЛАНО_МОЛОДЕЦ имеет смысл критично посмотреть на данные с точки зрения наличия пропусков в признаках (вопрос: все ли ml-модели \"любят\" пропуски?) и обработать или удалить их \n",
    "    \n",
    "- имеет смысл явно обозначить какую задачу мы будем решать: с учителем / без учителя, классификации / регрессии ...\n",
    "    \n",
    "- в моделях бинарной классификации (если бы это был бы наш случай!) имеет смысл смотреть на баланс классов. Два взгляда (с разных сторон) на эту проблему тут: https://alexanderdyakonov.wordpress.com/2021/05/27/imbalance/ и https://habr.com/ru/post/349078/\n",
    "    \n",
    "- СДЕЛАНО_МОЛОДЕЦ имеет смысл смотреть на корреляцию признаков. При высокой их степени коррелированности возникает проблема  мультиколлиниарность признаков. Проблема \"мультиколлинеарности\" это и про переобучение модели и про её интерпретируемость и про сложность модели (содержание в модели избыточного количества переменных). В чем негативный эффект сложной модели? Вот в чем: усложняется интерпретация параметров, оценки параметров ненадежны – получаются большие стандартные ошибки, которые меняются с изменением объема наблюдений, что делает модель регрессии непригодной для прогнозирования.\n",
    "    \n",
    "А теперь давай про интерпретируемость. Согласись - это важно, чтобы результат, который выдает модель можно было бы понять и объяснить с точки зрения предметной области. В случае включения в модель коллинеарных признаков может случиться так, что коэффициенты (да, проблема присуща моделям линейным ... регрессия среди них!) могут менять знаки и попытка объяснения предметной области с помощью этих коэффициентов будет противоречить здравому смыслу.\n",
    "    \n",
    "Вот классная статья. Простым языком, на примере показана проблема. А также, что важно - разобраны варианты как её (проблему) победить. Статья: https://habr.com/ru/company/akbarsdigital/blog/592493/ \n",
    "</div>"
   ]
  },
  {
   "cell_type": "markdown",
   "metadata": {},
   "source": [
    "## Обучение моделей"
   ]
  },
  {
   "cell_type": "markdown",
   "metadata": {},
   "source": [
    "### Разделение данных, кодирование признаков"
   ]
  },
  {
   "cell_type": "markdown",
   "metadata": {},
   "source": [
    "Разделим данные на обучающую, валидационную и тестовою выборки"
   ]
  },
  {
   "cell_type": "code",
   "execution_count": 47,
   "metadata": {},
   "outputs": [
    {
     "name": "stdout",
     "output_type": "stream",
     "text": [
      "Размер обучающей выборки: (152697, 9)\n",
      "Размер валидационной выборки: (50899, 9)\n",
      "Размер тестовой выборки: (50899, 9)\n"
     ]
    }
   ],
   "source": [
    "target = df['Price']\n",
    "features = df.drop('Price', axis=1)\n",
    "features_train, features_test, target_train, target_test = train_test_split(features, target, \n",
    "                                                                            test_size=0.4, \n",
    "                                                                            random_state=12345)\n",
    "\n",
    "features_valid, features_test, target_valid, target_test = train_test_split(features_test, \n",
    "                                                                            target_test, \n",
    "                                                                            test_size=0.5, \n",
    "                                                                            random_state=12345)\n",
    "                                                                            \n",
    "\n",
    "print('Размер обучающей выборки:', features_train.shape)\n",
    "print('Размер валидационной выборки:', features_valid.shape)\n",
    "print('Размер тестовой выборки:', features_test.shape)\n"
   ]
  },
  {
   "cell_type": "markdown",
   "metadata": {},
   "source": [
    "<div class=\"alert alert-danger\">\n",
    "<b>Необходимо исправить ❌</b>\n",
    "\n",
    "Почему разбиваешь данные только на 2 выборки (и при этом ниже, в разделе построения моделей не используешь кросс-валидацию)? \n",
    "\n",
    "В проекте \"Введение в МО\" сколько у тебя было выборок? Для чего в проектах МО используются тренировочная, валидационная и тестовая выборки (в смысле каковы их роли)? Как (на какой выборке) ты будешь проверять модели после подбора гиперпараметров (ГП)?\n",
    "</div>"
   ]
  },
  {
   "cell_type": "markdown",
   "metadata": {},
   "source": [
    "<div class=\"alert alert-info\"> <b>Комментарий студента:</b> Исправлено.</div>"
   ]
  },
  {
   "cell_type": "markdown",
   "metadata": {},
   "source": [
    "<div class=\"alert alert-success\">\n",
    "<b>КОММЕНТАРИЙ V2</b>\n",
    "\n",
    "Да, исправлено.\n",
    "</div>"
   ]
  },
  {
   "cell_type": "markdown",
   "metadata": {},
   "source": [
    "<div class=\"alert alert-success\">\n",
    "<b>ОТЛИЧНО! 👍</b>\n",
    "\n",
    "1. Здесь хорошо, происходит фиксация random_state. Воспроизводимость результатов разбиения выборки на обучающую (тренировочную) и тестовую мы обеспечили, значит при всех последующих запусках нашего кода подвыборки будут идентичными.\n",
    "    \n",
    "2. Доли размеров train/test как 3:1 - хорошо.\n",
    "</div>"
   ]
  },
  {
   "cell_type": "markdown",
   "metadata": {},
   "source": [
    "<div class=\"alert alert-success\">\n",
    "<b>ОТЛИЧНО! 👍</b>\n",
    "\n",
    "Молодец, что после разбиения данных на выборки смотришь на их размеры и размерности. Метод shape для этого - идеальный помощник. \"Цифры\" по выборкам показывают верно ли мы произвели \"разделение\" данных.\n",
    "\n",
    "p.s. так (**псевдокод**): X_train.shape[0] – «покажет» количество строк в тренировочной выборке, а X_train.shape[1] - количество столбцов в ней же. Ну а X_train.shape – выведет размерность train'а в виде кортежа с 2мя значениями (первое число – количество строк, второе – столбцов).</div>"
   ]
  },
  {
   "attachments": {
    "image.png": {
     "image/png": "[encoded data removed]"
    }
   },
   "cell_type": "markdown",
   "metadata": {},
   "source": [
    "<div class=\"alert alert-warning\">\n",
    "<b>Комментарий 👉</b>\n",
    "\n",
    "Исключительно как вариант, а также воспользоваться советом со Стэковерфлоу: https://stackoverflow.com/questions/38250710/how-to-split-data-into-3-sets-train-validation-and-test/38251213#38251213\n",
    "\n",
    "\ttrain, valid, test = np.split(df.sample(frac=1, random_state=821), [int(.6*len(df)), int(.8*len(df))])\n",
    "\n",
    "Также, разбивать данные можно и автоматизировано, используя библиотеку fast_ml (см. скрин). К этому скрину один комментарий – не факт, что эта библиотека fast_ml развернута здесь, на Хабе, НО дома, своей локальной машине, с установленной средой (например Анакондой: https://www.anaconda.com/products/distribution) ты вполне можешь этим вариантом пользоваться (после установки **!pip install fast_ml**):\n",
    "</div>\n",
    "\n",
    "![image.png](attachment:image.png)"
   ]
  },
  {
   "cell_type": "markdown",
   "metadata": {},
   "source": [
    "Воспользуемся OHE кодированием категориальных признаков"
   ]
  },
  {
   "cell_type": "code",
   "execution_count": 48,
   "metadata": {},
   "outputs": [
    {
     "name": "stdout",
     "output_type": "stream",
     "text": [
      "['VehicleType', 'Gearbox', 'Model', 'FuelType', 'Brand', 'Repaired']\n"
     ]
    }
   ],
   "source": [
    "ohe_features = features_train.select_dtypes(include='object').columns.to_list()\n",
    "print(ohe_features)"
   ]
  },
  {
   "cell_type": "code",
   "execution_count": 49,
   "metadata": {},
   "outputs": [
    {
     "data": {
      "text/html": [
       "<style>#sk-container-id-1 {color: black;background-color: white;}#sk-container-id-1 pre{padding: 0;}#sk-container-id-1 div.sk-toggleable {background-color: white;}#sk-container-id-1 label.sk-toggleable__label {cursor: pointer;display: block;width: 100%;margin-bottom: 0;padding: 0.3em;box-sizing: border-box;text-align: center;}#sk-container-id-1 label.sk-toggleable__label-arrow:before {content: \"▸\";float: left;margin-right: 0.25em;color: #696969;}#sk-container-id-1 label.sk-toggleable__label-arrow:hover:before {color: black;}#sk-container-id-1 div.sk-estimator:hover label.sk-toggleable__label-arrow:before {color: black;}#sk-container-id-1 div.sk-toggleable__content {max-height: 0;max-width: 0;overflow: hidden;text-align: left;background-color: #f0f8ff;}#sk-container-id-1 div.sk-toggleable__content pre {margin: 0.2em;color: black;border-radius: 0.25em;background-color: #f0f8ff;}#sk-container-id-1 input.sk-toggleable__control:checked~div.sk-toggleable__content {max-height: 200px;max-width: 100%;overflow: auto;}#sk-container-id-1 input.sk-toggleable__control:checked~label.sk-toggleable__label-arrow:before {content: \"▾\";}#sk-container-id-1 div.sk-estimator input.sk-toggleable__control:checked~label.sk-toggleable__label {background-color: #d4ebff;}#sk-container-id-1 div.sk-label input.sk-toggleable__control:checked~label.sk-toggleable__label {background-color: #d4ebff;}#sk-container-id-1 input.sk-hidden--visually {border: 0;clip: rect(1px 1px 1px 1px);clip: rect(1px, 1px, 1px, 1px);height: 1px;margin: -1px;overflow: hidden;padding: 0;position: absolute;width: 1px;}#sk-container-id-1 div.sk-estimator {font-family: monospace;background-color: #f0f8ff;border: 1px dotted black;border-radius: 0.25em;box-sizing: border-box;margin-bottom: 0.5em;}#sk-container-id-1 div.sk-estimator:hover {background-color: #d4ebff;}#sk-container-id-1 div.sk-parallel-item::after {content: \"\";width: 100%;border-bottom: 1px solid gray;flex-grow: 1;}#sk-container-id-1 div.sk-label:hover label.sk-toggleable__label {background-color: #d4ebff;}#sk-container-id-1 div.sk-serial::before {content: \"\";position: absolute;border-left: 1px solid gray;box-sizing: border-box;top: 0;bottom: 0;left: 50%;z-index: 0;}#sk-container-id-1 div.sk-serial {display: flex;flex-direction: column;align-items: center;background-color: white;padding-right: 0.2em;padding-left: 0.2em;position: relative;}#sk-container-id-1 div.sk-item {position: relative;z-index: 1;}#sk-container-id-1 div.sk-parallel {display: flex;align-items: stretch;justify-content: center;background-color: white;position: relative;}#sk-container-id-1 div.sk-item::before, #sk-container-id-1 div.sk-parallel-item::before {content: \"\";position: absolute;border-left: 1px solid gray;box-sizing: border-box;top: 0;bottom: 0;left: 50%;z-index: -1;}#sk-container-id-1 div.sk-parallel-item {display: flex;flex-direction: column;z-index: 1;position: relative;background-color: white;}#sk-container-id-1 div.sk-parallel-item:first-child::after {align-self: flex-end;width: 50%;}#sk-container-id-1 div.sk-parallel-item:last-child::after {align-self: flex-start;width: 50%;}#sk-container-id-1 div.sk-parallel-item:only-child::after {width: 0;}#sk-container-id-1 div.sk-dashed-wrapped {border: 1px dashed gray;margin: 0 0.4em 0.5em 0.4em;box-sizing: border-box;padding-bottom: 0.4em;background-color: white;}#sk-container-id-1 div.sk-label label {font-family: monospace;font-weight: bold;display: inline-block;line-height: 1.2em;}#sk-container-id-1 div.sk-label-container {text-align: center;}#sk-container-id-1 div.sk-container {/* jupyter's `normalize.less` sets `[hidden] { display: none; }` but bootstrap.min.css set `[hidden] { display: none !important; }` so we also need the `!important` here to be able to override the default hidden behavior on the sphinx rendered scikit-learn.org. See: https://github.com/scikit-learn/scikit-learn/issues/21755 */display: inline-block !important;position: relative;}#sk-container-id-1 div.sk-text-repr-fallback {display: none;}</style><div id=\"sk-container-id-1\" class=\"sk-top-container\"><div class=\"sk-text-repr-fallback\"><pre>OneHotEncoder(drop=&#x27;first&#x27;, handle_unknown=&#x27;ignore&#x27;, sparse=False)</pre><b>In a Jupyter environment, please rerun this cell to show the HTML representation or trust the notebook. <br />On GitHub, the HTML representation is unable to render, please try loading this page with nbviewer.org.</b></div><div class=\"sk-container\" hidden><div class=\"sk-item\"><div class=\"sk-estimator sk-toggleable\"><input class=\"sk-toggleable__control sk-hidden--visually\" id=\"sk-estimator-id-1\" type=\"checkbox\" checked><label for=\"sk-estimator-id-1\" class=\"sk-toggleable__label sk-toggleable__label-arrow\">OneHotEncoder</label><div class=\"sk-toggleable__content\"><pre>OneHotEncoder(drop=&#x27;first&#x27;, handle_unknown=&#x27;ignore&#x27;, sparse=False)</pre></div></div></div></div></div>"
      ],
      "text/plain": [
       "OneHotEncoder(drop='first', handle_unknown='ignore', sparse=False)"
      ]
     },
     "execution_count": 49,
     "metadata": {},
     "output_type": "execute_result"
    }
   ],
   "source": [
    "encoder_ohe = OneHotEncoder(drop='first', handle_unknown='ignore', sparse=False)\n",
    "encoder_ohe.fit(features_train[ohe_features])"
   ]
  },
  {
   "cell_type": "markdown",
   "metadata": {},
   "source": [
    "<div class=\"alert alert-success\">\n",
    "<b>ОТЛИЧНО! 👍</b>\n",
    "\n",
    "Отлично, молодец! Ты чуть ли не первый встреченный мной коллега, который использует в этом проекте OneHotEncoder из sklearn (а не get_dummies() из Pandas).\n",
    "\n",
    "(Небольшое рассуждение): да, сейчас в теории тренажера вам предлагается использовать get_dummies(), однако это приведёт к сложностям в будущих спринтах. Get_dummies подходит больше для анализа данных, а для машинного обучения более предпочтителен OneHotEncoding, т.к. он позволяет избежать ряд ошибок при обучении моделей, в том числе может работать с неизвестными ранее уровнями категорий, которых не было изначально (например, если появится еще одна страна, скажем Italy). Get_dummies с неизвестными категориями \"из коробки\" не работает, но есть лайфхак описанный здесь: https://pythonsimplified.com/difference-between-onehotencoder-and-get_dummies/ (*Though get_dummies can’t handle unknown categories natively, you could get around this inconsistency by applying the below technique. You will have to save the columns of the train set and load it during prediction on test set. Then you need to apply reindex and after filling the missing values will get you the same features as the train set*)\n",
    "        \n",
    "Пандасовский Get_dummies не имеет методов fit и transform, поэтому кодируем категории на полном датафрейме (ДО разбиения на выборки ... так мы кстати обходим и проблему \"неизвестных/новых категорий\"), затем \"режем\" данные на выборки.\n",
    "\n",
    "В нашем же случае, используя OneHot-Encoding, мы кодируем данные ПОСЛЕ разбиения данных на выборки. Если кодирование (и/или масштабирование) выполняются до разбиения данных на выборки, то информация из тестовой выборки может просочиться в обучающую выборку. Это может привести к переобучению модели и неверным результатам. Нет, конечно OneHot-Encoding можно применять и до разбиения на выборки. Однако, если ты собираешся применять OHЕ до разбиения на выборки, то нужно обязательно использовать только те значения (записи), которые был представлены в обучающей выборке (а это усложнит код - нужно отбирать соответсвующие строки используя индексы). Если же использовать значения из всего набора данных, то повторюсь - это может привести к переобучению моделей (ввиду утечки данных).\n",
    "\n",
    "Также ты делаешь верно и то, что кодируешь категориальные и масштабируешь числовые признаки \"по отдельности\" (если так можно выразиться).\n",
    "</div>"
   ]
  },
  {
   "cell_type": "code",
   "execution_count": 50,
   "metadata": {},
   "outputs": [],
   "source": [
    "features_train[\n",
    "    encoder_ohe.get_feature_names_out()\n",
    "] = encoder_ohe.transform(features_train[ohe_features])"
   ]
  },
  {
   "cell_type": "code",
   "execution_count": 51,
   "metadata": {},
   "outputs": [],
   "source": [
    "features_train = features_train.drop(ohe_features, axis=1)"
   ]
  },
  {
   "cell_type": "code",
   "execution_count": 52,
   "metadata": {},
   "outputs": [
    {
     "data": {
      "text/html": [
       "<div>\n",
       "<style scoped>\n",
       "    .dataframe tbody tr th:only-of-type {\n",
       "        vertical-align: middle;\n",
       "    }\n",
       "\n",
       "    .dataframe tbody tr th {\n",
       "        vertical-align: top;\n",
       "    }\n",
       "\n",
       "    .dataframe thead th {\n",
       "        text-align: right;\n",
       "    }\n",
       "</style>\n",
       "<table border=\"1\" class=\"dataframe\">\n",
       "  <thead>\n",
       "    <tr style=\"text-align: right;\">\n",
       "      <th></th>\n",
       "      <th>RegistrationYear</th>\n",
       "      <th>Power</th>\n",
       "      <th>Kilometer</th>\n",
       "      <th>VehicleType_convertible</th>\n",
       "      <th>VehicleType_coupe</th>\n",
       "      <th>VehicleType_other</th>\n",
       "      <th>VehicleType_sedan</th>\n",
       "      <th>VehicleType_small</th>\n",
       "      <th>VehicleType_suv</th>\n",
       "      <th>VehicleType_unknown</th>\n",
       "      <th>...</th>\n",
       "      <th>Brand_skoda</th>\n",
       "      <th>Brand_smart</th>\n",
       "      <th>Brand_subaru</th>\n",
       "      <th>Brand_suzuki</th>\n",
       "      <th>Brand_toyota</th>\n",
       "      <th>Brand_trabant</th>\n",
       "      <th>Brand_volkswagen</th>\n",
       "      <th>Brand_volvo</th>\n",
       "      <th>Repaired_unknown</th>\n",
       "      <th>Repaired_yes</th>\n",
       "    </tr>\n",
       "  </thead>\n",
       "  <tbody>\n",
       "    <tr>\n",
       "      <th>77282</th>\n",
       "      <td>1996</td>\n",
       "      <td>136</td>\n",
       "      <td>150000</td>\n",
       "      <td>0.0</td>\n",
       "      <td>0.0</td>\n",
       "      <td>0.0</td>\n",
       "      <td>1.0</td>\n",
       "      <td>0.0</td>\n",
       "      <td>0.0</td>\n",
       "      <td>0.0</td>\n",
       "      <td>...</td>\n",
       "      <td>0.0</td>\n",
       "      <td>0.0</td>\n",
       "      <td>0.0</td>\n",
       "      <td>0.0</td>\n",
       "      <td>0.0</td>\n",
       "      <td>0.0</td>\n",
       "      <td>0.0</td>\n",
       "      <td>1.0</td>\n",
       "      <td>0.0</td>\n",
       "      <td>0.0</td>\n",
       "    </tr>\n",
       "    <tr>\n",
       "      <th>189017</th>\n",
       "      <td>2011</td>\n",
       "      <td>90</td>\n",
       "      <td>60000</td>\n",
       "      <td>0.0</td>\n",
       "      <td>0.0</td>\n",
       "      <td>0.0</td>\n",
       "      <td>0.0</td>\n",
       "      <td>0.0</td>\n",
       "      <td>0.0</td>\n",
       "      <td>0.0</td>\n",
       "      <td>...</td>\n",
       "      <td>0.0</td>\n",
       "      <td>0.0</td>\n",
       "      <td>0.0</td>\n",
       "      <td>0.0</td>\n",
       "      <td>0.0</td>\n",
       "      <td>0.0</td>\n",
       "      <td>0.0</td>\n",
       "      <td>0.0</td>\n",
       "      <td>0.0</td>\n",
       "      <td>0.0</td>\n",
       "    </tr>\n",
       "    <tr>\n",
       "      <th>136206</th>\n",
       "      <td>1997</td>\n",
       "      <td>114</td>\n",
       "      <td>150000</td>\n",
       "      <td>0.0</td>\n",
       "      <td>0.0</td>\n",
       "      <td>0.0</td>\n",
       "      <td>0.0</td>\n",
       "      <td>0.0</td>\n",
       "      <td>0.0</td>\n",
       "      <td>0.0</td>\n",
       "      <td>...</td>\n",
       "      <td>0.0</td>\n",
       "      <td>0.0</td>\n",
       "      <td>0.0</td>\n",
       "      <td>0.0</td>\n",
       "      <td>0.0</td>\n",
       "      <td>0.0</td>\n",
       "      <td>0.0</td>\n",
       "      <td>0.0</td>\n",
       "      <td>0.0</td>\n",
       "      <td>0.0</td>\n",
       "    </tr>\n",
       "    <tr>\n",
       "      <th>254881</th>\n",
       "      <td>1989</td>\n",
       "      <td>124</td>\n",
       "      <td>150000</td>\n",
       "      <td>0.0</td>\n",
       "      <td>1.0</td>\n",
       "      <td>0.0</td>\n",
       "      <td>0.0</td>\n",
       "      <td>0.0</td>\n",
       "      <td>0.0</td>\n",
       "      <td>0.0</td>\n",
       "      <td>...</td>\n",
       "      <td>0.0</td>\n",
       "      <td>0.0</td>\n",
       "      <td>0.0</td>\n",
       "      <td>0.0</td>\n",
       "      <td>0.0</td>\n",
       "      <td>0.0</td>\n",
       "      <td>0.0</td>\n",
       "      <td>0.0</td>\n",
       "      <td>0.0</td>\n",
       "      <td>0.0</td>\n",
       "    </tr>\n",
       "    <tr>\n",
       "      <th>239488</th>\n",
       "      <td>2011</td>\n",
       "      <td>60</td>\n",
       "      <td>70000</td>\n",
       "      <td>0.0</td>\n",
       "      <td>0.0</td>\n",
       "      <td>0.0</td>\n",
       "      <td>0.0</td>\n",
       "      <td>1.0</td>\n",
       "      <td>0.0</td>\n",
       "      <td>0.0</td>\n",
       "      <td>...</td>\n",
       "      <td>0.0</td>\n",
       "      <td>0.0</td>\n",
       "      <td>0.0</td>\n",
       "      <td>0.0</td>\n",
       "      <td>0.0</td>\n",
       "      <td>0.0</td>\n",
       "      <td>1.0</td>\n",
       "      <td>0.0</td>\n",
       "      <td>0.0</td>\n",
       "      <td>0.0</td>\n",
       "    </tr>\n",
       "  </tbody>\n",
       "</table>\n",
       "<p>5 rows × 305 columns</p>\n",
       "</div>"
      ],
      "text/plain": [
       "        RegistrationYear  Power  Kilometer  VehicleType_convertible  \\\n",
       "77282               1996    136     150000                      0.0   \n",
       "189017              2011     90      60000                      0.0   \n",
       "136206              1997    114     150000                      0.0   \n",
       "254881              1989    124     150000                      0.0   \n",
       "239488              2011     60      70000                      0.0   \n",
       "\n",
       "        VehicleType_coupe  VehicleType_other  VehicleType_sedan  \\\n",
       "77282                 0.0                0.0                1.0   \n",
       "189017                0.0                0.0                0.0   \n",
       "136206                0.0                0.0                0.0   \n",
       "254881                1.0                0.0                0.0   \n",
       "239488                0.0                0.0                0.0   \n",
       "\n",
       "        VehicleType_small  VehicleType_suv  VehicleType_unknown  ...  \\\n",
       "77282                 0.0              0.0                  0.0  ...   \n",
       "189017                0.0              0.0                  0.0  ...   \n",
       "136206                0.0              0.0                  0.0  ...   \n",
       "254881                0.0              0.0                  0.0  ...   \n",
       "239488                1.0              0.0                  0.0  ...   \n",
       "\n",
       "        Brand_skoda  Brand_smart  Brand_subaru  Brand_suzuki  Brand_toyota  \\\n",
       "77282           0.0          0.0           0.0           0.0           0.0   \n",
       "189017          0.0          0.0           0.0           0.0           0.0   \n",
       "136206          0.0          0.0           0.0           0.0           0.0   \n",
       "254881          0.0          0.0           0.0           0.0           0.0   \n",
       "239488          0.0          0.0           0.0           0.0           0.0   \n",
       "\n",
       "        Brand_trabant  Brand_volkswagen  Brand_volvo  Repaired_unknown  \\\n",
       "77282             0.0               0.0          1.0               0.0   \n",
       "189017            0.0               0.0          0.0               0.0   \n",
       "136206            0.0               0.0          0.0               0.0   \n",
       "254881            0.0               0.0          0.0               0.0   \n",
       "239488            0.0               1.0          0.0               0.0   \n",
       "\n",
       "        Repaired_yes  \n",
       "77282            0.0  \n",
       "189017           0.0  \n",
       "136206           0.0  \n",
       "254881           0.0  \n",
       "239488           0.0  \n",
       "\n",
       "[5 rows x 305 columns]"
      ]
     },
     "execution_count": 52,
     "metadata": {},
     "output_type": "execute_result"
    }
   ],
   "source": [
    "features_train.head(5)"
   ]
  },
  {
   "cell_type": "markdown",
   "metadata": {},
   "source": [
    "Трансформируем валидационную выборку"
   ]
  },
  {
   "cell_type": "code",
   "execution_count": 53,
   "metadata": {},
   "outputs": [
    {
     "data": {
      "text/html": [
       "<div>\n",
       "<style scoped>\n",
       "    .dataframe tbody tr th:only-of-type {\n",
       "        vertical-align: middle;\n",
       "    }\n",
       "\n",
       "    .dataframe tbody tr th {\n",
       "        vertical-align: top;\n",
       "    }\n",
       "\n",
       "    .dataframe thead th {\n",
       "        text-align: right;\n",
       "    }\n",
       "</style>\n",
       "<table border=\"1\" class=\"dataframe\">\n",
       "  <thead>\n",
       "    <tr style=\"text-align: right;\">\n",
       "      <th></th>\n",
       "      <th>RegistrationYear</th>\n",
       "      <th>Power</th>\n",
       "      <th>Kilometer</th>\n",
       "      <th>VehicleType_convertible</th>\n",
       "      <th>VehicleType_coupe</th>\n",
       "      <th>VehicleType_other</th>\n",
       "      <th>VehicleType_sedan</th>\n",
       "      <th>VehicleType_small</th>\n",
       "      <th>VehicleType_suv</th>\n",
       "      <th>VehicleType_unknown</th>\n",
       "      <th>...</th>\n",
       "      <th>Brand_skoda</th>\n",
       "      <th>Brand_smart</th>\n",
       "      <th>Brand_subaru</th>\n",
       "      <th>Brand_suzuki</th>\n",
       "      <th>Brand_toyota</th>\n",
       "      <th>Brand_trabant</th>\n",
       "      <th>Brand_volkswagen</th>\n",
       "      <th>Brand_volvo</th>\n",
       "      <th>Repaired_unknown</th>\n",
       "      <th>Repaired_yes</th>\n",
       "    </tr>\n",
       "  </thead>\n",
       "  <tbody>\n",
       "    <tr>\n",
       "      <th>67243</th>\n",
       "      <td>1992</td>\n",
       "      <td>98</td>\n",
       "      <td>150000</td>\n",
       "      <td>1.0</td>\n",
       "      <td>0.0</td>\n",
       "      <td>0.0</td>\n",
       "      <td>0.0</td>\n",
       "      <td>0.0</td>\n",
       "      <td>0.0</td>\n",
       "      <td>0.0</td>\n",
       "      <td>...</td>\n",
       "      <td>0.0</td>\n",
       "      <td>0.0</td>\n",
       "      <td>0.0</td>\n",
       "      <td>0.0</td>\n",
       "      <td>0.0</td>\n",
       "      <td>0.0</td>\n",
       "      <td>1.0</td>\n",
       "      <td>0.0</td>\n",
       "      <td>0.0</td>\n",
       "      <td>0.0</td>\n",
       "    </tr>\n",
       "    <tr>\n",
       "      <th>9534</th>\n",
       "      <td>2005</td>\n",
       "      <td>200</td>\n",
       "      <td>125000</td>\n",
       "      <td>0.0</td>\n",
       "      <td>1.0</td>\n",
       "      <td>0.0</td>\n",
       "      <td>0.0</td>\n",
       "      <td>0.0</td>\n",
       "      <td>0.0</td>\n",
       "      <td>0.0</td>\n",
       "      <td>...</td>\n",
       "      <td>0.0</td>\n",
       "      <td>0.0</td>\n",
       "      <td>0.0</td>\n",
       "      <td>0.0</td>\n",
       "      <td>0.0</td>\n",
       "      <td>0.0</td>\n",
       "      <td>1.0</td>\n",
       "      <td>0.0</td>\n",
       "      <td>0.0</td>\n",
       "      <td>0.0</td>\n",
       "    </tr>\n",
       "    <tr>\n",
       "      <th>120213</th>\n",
       "      <td>1968</td>\n",
       "      <td>145</td>\n",
       "      <td>40000</td>\n",
       "      <td>0.0</td>\n",
       "      <td>1.0</td>\n",
       "      <td>0.0</td>\n",
       "      <td>0.0</td>\n",
       "      <td>0.0</td>\n",
       "      <td>0.0</td>\n",
       "      <td>0.0</td>\n",
       "      <td>...</td>\n",
       "      <td>0.0</td>\n",
       "      <td>0.0</td>\n",
       "      <td>0.0</td>\n",
       "      <td>0.0</td>\n",
       "      <td>0.0</td>\n",
       "      <td>0.0</td>\n",
       "      <td>0.0</td>\n",
       "      <td>0.0</td>\n",
       "      <td>1.0</td>\n",
       "      <td>0.0</td>\n",
       "    </tr>\n",
       "    <tr>\n",
       "      <th>229579</th>\n",
       "      <td>2005</td>\n",
       "      <td>150</td>\n",
       "      <td>150000</td>\n",
       "      <td>0.0</td>\n",
       "      <td>0.0</td>\n",
       "      <td>0.0</td>\n",
       "      <td>0.0</td>\n",
       "      <td>0.0</td>\n",
       "      <td>0.0</td>\n",
       "      <td>0.0</td>\n",
       "      <td>...</td>\n",
       "      <td>0.0</td>\n",
       "      <td>0.0</td>\n",
       "      <td>0.0</td>\n",
       "      <td>0.0</td>\n",
       "      <td>0.0</td>\n",
       "      <td>0.0</td>\n",
       "      <td>0.0</td>\n",
       "      <td>0.0</td>\n",
       "      <td>0.0</td>\n",
       "      <td>0.0</td>\n",
       "    </tr>\n",
       "    <tr>\n",
       "      <th>201780</th>\n",
       "      <td>2000</td>\n",
       "      <td>75</td>\n",
       "      <td>125000</td>\n",
       "      <td>0.0</td>\n",
       "      <td>0.0</td>\n",
       "      <td>0.0</td>\n",
       "      <td>0.0</td>\n",
       "      <td>1.0</td>\n",
       "      <td>0.0</td>\n",
       "      <td>0.0</td>\n",
       "      <td>...</td>\n",
       "      <td>0.0</td>\n",
       "      <td>0.0</td>\n",
       "      <td>0.0</td>\n",
       "      <td>0.0</td>\n",
       "      <td>0.0</td>\n",
       "      <td>0.0</td>\n",
       "      <td>0.0</td>\n",
       "      <td>0.0</td>\n",
       "      <td>0.0</td>\n",
       "      <td>0.0</td>\n",
       "    </tr>\n",
       "  </tbody>\n",
       "</table>\n",
       "<p>5 rows × 305 columns</p>\n",
       "</div>"
      ],
      "text/plain": [
       "        RegistrationYear  Power  Kilometer  VehicleType_convertible  \\\n",
       "67243               1992     98     150000                      1.0   \n",
       "9534                2005    200     125000                      0.0   \n",
       "120213              1968    145      40000                      0.0   \n",
       "229579              2005    150     150000                      0.0   \n",
       "201780              2000     75     125000                      0.0   \n",
       "\n",
       "        VehicleType_coupe  VehicleType_other  VehicleType_sedan  \\\n",
       "67243                 0.0                0.0                0.0   \n",
       "9534                  1.0                0.0                0.0   \n",
       "120213                1.0                0.0                0.0   \n",
       "229579                0.0                0.0                0.0   \n",
       "201780                0.0                0.0                0.0   \n",
       "\n",
       "        VehicleType_small  VehicleType_suv  VehicleType_unknown  ...  \\\n",
       "67243                 0.0              0.0                  0.0  ...   \n",
       "9534                  0.0              0.0                  0.0  ...   \n",
       "120213                0.0              0.0                  0.0  ...   \n",
       "229579                0.0              0.0                  0.0  ...   \n",
       "201780                1.0              0.0                  0.0  ...   \n",
       "\n",
       "        Brand_skoda  Brand_smart  Brand_subaru  Brand_suzuki  Brand_toyota  \\\n",
       "67243           0.0          0.0           0.0           0.0           0.0   \n",
       "9534            0.0          0.0           0.0           0.0           0.0   \n",
       "120213          0.0          0.0           0.0           0.0           0.0   \n",
       "229579          0.0          0.0           0.0           0.0           0.0   \n",
       "201780          0.0          0.0           0.0           0.0           0.0   \n",
       "\n",
       "        Brand_trabant  Brand_volkswagen  Brand_volvo  Repaired_unknown  \\\n",
       "67243             0.0               1.0          0.0               0.0   \n",
       "9534              0.0               1.0          0.0               0.0   \n",
       "120213            0.0               0.0          0.0               1.0   \n",
       "229579            0.0               0.0          0.0               0.0   \n",
       "201780            0.0               0.0          0.0               0.0   \n",
       "\n",
       "        Repaired_yes  \n",
       "67243            0.0  \n",
       "9534             0.0  \n",
       "120213           0.0  \n",
       "229579           0.0  \n",
       "201780           0.0  \n",
       "\n",
       "[5 rows x 305 columns]"
      ]
     },
     "execution_count": 53,
     "metadata": {},
     "output_type": "execute_result"
    }
   ],
   "source": [
    "features_valid[\n",
    "    encoder_ohe.get_feature_names_out()\n",
    "] = encoder_ohe.transform(features_valid[ohe_features])\n",
    "\n",
    "features_valid = features_valid.drop(ohe_features, axis=1)\n",
    "features_valid.head()"
   ]
  },
  {
   "cell_type": "markdown",
   "metadata": {},
   "source": [
    "Трансформируем тестовую выборку"
   ]
  },
  {
   "cell_type": "code",
   "execution_count": 54,
   "metadata": {},
   "outputs": [
    {
     "data": {
      "text/html": [
       "<div>\n",
       "<style scoped>\n",
       "    .dataframe tbody tr th:only-of-type {\n",
       "        vertical-align: middle;\n",
       "    }\n",
       "\n",
       "    .dataframe tbody tr th {\n",
       "        vertical-align: top;\n",
       "    }\n",
       "\n",
       "    .dataframe thead th {\n",
       "        text-align: right;\n",
       "    }\n",
       "</style>\n",
       "<table border=\"1\" class=\"dataframe\">\n",
       "  <thead>\n",
       "    <tr style=\"text-align: right;\">\n",
       "      <th></th>\n",
       "      <th>RegistrationYear</th>\n",
       "      <th>Power</th>\n",
       "      <th>Kilometer</th>\n",
       "      <th>VehicleType_convertible</th>\n",
       "      <th>VehicleType_coupe</th>\n",
       "      <th>VehicleType_other</th>\n",
       "      <th>VehicleType_sedan</th>\n",
       "      <th>VehicleType_small</th>\n",
       "      <th>VehicleType_suv</th>\n",
       "      <th>VehicleType_unknown</th>\n",
       "      <th>...</th>\n",
       "      <th>Brand_skoda</th>\n",
       "      <th>Brand_smart</th>\n",
       "      <th>Brand_subaru</th>\n",
       "      <th>Brand_suzuki</th>\n",
       "      <th>Brand_toyota</th>\n",
       "      <th>Brand_trabant</th>\n",
       "      <th>Brand_volkswagen</th>\n",
       "      <th>Brand_volvo</th>\n",
       "      <th>Repaired_unknown</th>\n",
       "      <th>Repaired_yes</th>\n",
       "    </tr>\n",
       "  </thead>\n",
       "  <tbody>\n",
       "    <tr>\n",
       "      <th>36575</th>\n",
       "      <td>2007</td>\n",
       "      <td>68</td>\n",
       "      <td>60000</td>\n",
       "      <td>0.0</td>\n",
       "      <td>0.0</td>\n",
       "      <td>0.0</td>\n",
       "      <td>0.0</td>\n",
       "      <td>1.0</td>\n",
       "      <td>0.0</td>\n",
       "      <td>0.0</td>\n",
       "      <td>...</td>\n",
       "      <td>0.0</td>\n",
       "      <td>0.0</td>\n",
       "      <td>0.0</td>\n",
       "      <td>0.0</td>\n",
       "      <td>0.0</td>\n",
       "      <td>0.0</td>\n",
       "      <td>0.0</td>\n",
       "      <td>0.0</td>\n",
       "      <td>0.0</td>\n",
       "      <td>0.0</td>\n",
       "    </tr>\n",
       "    <tr>\n",
       "      <th>53405</th>\n",
       "      <td>2008</td>\n",
       "      <td>235</td>\n",
       "      <td>150000</td>\n",
       "      <td>0.0</td>\n",
       "      <td>0.0</td>\n",
       "      <td>0.0</td>\n",
       "      <td>1.0</td>\n",
       "      <td>0.0</td>\n",
       "      <td>0.0</td>\n",
       "      <td>0.0</td>\n",
       "      <td>...</td>\n",
       "      <td>0.0</td>\n",
       "      <td>0.0</td>\n",
       "      <td>0.0</td>\n",
       "      <td>0.0</td>\n",
       "      <td>0.0</td>\n",
       "      <td>0.0</td>\n",
       "      <td>0.0</td>\n",
       "      <td>0.0</td>\n",
       "      <td>0.0</td>\n",
       "      <td>0.0</td>\n",
       "    </tr>\n",
       "    <tr>\n",
       "      <th>333649</th>\n",
       "      <td>2007</td>\n",
       "      <td>233</td>\n",
       "      <td>150000</td>\n",
       "      <td>0.0</td>\n",
       "      <td>0.0</td>\n",
       "      <td>0.0</td>\n",
       "      <td>0.0</td>\n",
       "      <td>0.0</td>\n",
       "      <td>0.0</td>\n",
       "      <td>0.0</td>\n",
       "      <td>...</td>\n",
       "      <td>0.0</td>\n",
       "      <td>0.0</td>\n",
       "      <td>0.0</td>\n",
       "      <td>0.0</td>\n",
       "      <td>0.0</td>\n",
       "      <td>0.0</td>\n",
       "      <td>0.0</td>\n",
       "      <td>0.0</td>\n",
       "      <td>1.0</td>\n",
       "      <td>0.0</td>\n",
       "    </tr>\n",
       "    <tr>\n",
       "      <th>135398</th>\n",
       "      <td>2008</td>\n",
       "      <td>111</td>\n",
       "      <td>20000</td>\n",
       "      <td>0.0</td>\n",
       "      <td>0.0</td>\n",
       "      <td>0.0</td>\n",
       "      <td>0.0</td>\n",
       "      <td>1.0</td>\n",
       "      <td>0.0</td>\n",
       "      <td>0.0</td>\n",
       "      <td>...</td>\n",
       "      <td>0.0</td>\n",
       "      <td>0.0</td>\n",
       "      <td>0.0</td>\n",
       "      <td>0.0</td>\n",
       "      <td>0.0</td>\n",
       "      <td>0.0</td>\n",
       "      <td>0.0</td>\n",
       "      <td>0.0</td>\n",
       "      <td>0.0</td>\n",
       "      <td>0.0</td>\n",
       "    </tr>\n",
       "    <tr>\n",
       "      <th>107022</th>\n",
       "      <td>2001</td>\n",
       "      <td>75</td>\n",
       "      <td>150000</td>\n",
       "      <td>0.0</td>\n",
       "      <td>0.0</td>\n",
       "      <td>0.0</td>\n",
       "      <td>0.0</td>\n",
       "      <td>1.0</td>\n",
       "      <td>0.0</td>\n",
       "      <td>0.0</td>\n",
       "      <td>...</td>\n",
       "      <td>0.0</td>\n",
       "      <td>0.0</td>\n",
       "      <td>0.0</td>\n",
       "      <td>0.0</td>\n",
       "      <td>0.0</td>\n",
       "      <td>0.0</td>\n",
       "      <td>0.0</td>\n",
       "      <td>0.0</td>\n",
       "      <td>0.0</td>\n",
       "      <td>0.0</td>\n",
       "    </tr>\n",
       "  </tbody>\n",
       "</table>\n",
       "<p>5 rows × 305 columns</p>\n",
       "</div>"
      ],
      "text/plain": [
       "        RegistrationYear  Power  Kilometer  VehicleType_convertible  \\\n",
       "36575               2007     68      60000                      0.0   \n",
       "53405               2008    235     150000                      0.0   \n",
       "333649              2007    233     150000                      0.0   \n",
       "135398              2008    111      20000                      0.0   \n",
       "107022              2001     75     150000                      0.0   \n",
       "\n",
       "        VehicleType_coupe  VehicleType_other  VehicleType_sedan  \\\n",
       "36575                 0.0                0.0                0.0   \n",
       "53405                 0.0                0.0                1.0   \n",
       "333649                0.0                0.0                0.0   \n",
       "135398                0.0                0.0                0.0   \n",
       "107022                0.0                0.0                0.0   \n",
       "\n",
       "        VehicleType_small  VehicleType_suv  VehicleType_unknown  ...  \\\n",
       "36575                 1.0              0.0                  0.0  ...   \n",
       "53405                 0.0              0.0                  0.0  ...   \n",
       "333649                0.0              0.0                  0.0  ...   \n",
       "135398                1.0              0.0                  0.0  ...   \n",
       "107022                1.0              0.0                  0.0  ...   \n",
       "\n",
       "        Brand_skoda  Brand_smart  Brand_subaru  Brand_suzuki  Brand_toyota  \\\n",
       "36575           0.0          0.0           0.0           0.0           0.0   \n",
       "53405           0.0          0.0           0.0           0.0           0.0   \n",
       "333649          0.0          0.0           0.0           0.0           0.0   \n",
       "135398          0.0          0.0           0.0           0.0           0.0   \n",
       "107022          0.0          0.0           0.0           0.0           0.0   \n",
       "\n",
       "        Brand_trabant  Brand_volkswagen  Brand_volvo  Repaired_unknown  \\\n",
       "36575             0.0               0.0          0.0               0.0   \n",
       "53405             0.0               0.0          0.0               0.0   \n",
       "333649            0.0               0.0          0.0               1.0   \n",
       "135398            0.0               0.0          0.0               0.0   \n",
       "107022            0.0               0.0          0.0               0.0   \n",
       "\n",
       "        Repaired_yes  \n",
       "36575            0.0  \n",
       "53405            0.0  \n",
       "333649           0.0  \n",
       "135398           0.0  \n",
       "107022           0.0  \n",
       "\n",
       "[5 rows x 305 columns]"
      ]
     },
     "execution_count": 54,
     "metadata": {},
     "output_type": "execute_result"
    }
   ],
   "source": [
    "features_test[\n",
    "    encoder_ohe.get_feature_names_out()\n",
    "] = encoder_ohe.transform(features_test[ohe_features])\n",
    "\n",
    "features_test = features_test.drop(ohe_features, axis=1)\n",
    "features_test.head()"
   ]
  },
  {
   "cell_type": "markdown",
   "metadata": {},
   "source": [
    "Масштабируем признаки"
   ]
  },
  {
   "cell_type": "code",
   "execution_count": 55,
   "metadata": {},
   "outputs": [
    {
     "name": "stdout",
     "output_type": "stream",
     "text": [
      "['RegistrationYear', 'Power', 'Kilometer']\n"
     ]
    }
   ],
   "source": [
    "numeric = features_train.select_dtypes(include='int').columns.to_list() # создадим список признаков\n",
    "print(numeric)"
   ]
  },
  {
   "cell_type": "code",
   "execution_count": 56,
   "metadata": {},
   "outputs": [
    {
     "name": "stdout",
     "output_type": "stream",
     "text": [
      "(152697, 305)\n",
      "(50899, 305)\n",
      "(50899, 305)\n"
     ]
    }
   ],
   "source": [
    "scaler = StandardScaler()\n",
    "scaler.fit(features_train[numeric])\n",
    "features_train[numeric] = scaler.transform(features_train[numeric])\n",
    "features_valid[numeric] = scaler.transform(features_valid[numeric])\n",
    "features_test[numeric] = scaler.transform(features_test[numeric])\n",
    "\n",
    "print(features_train.shape)\n",
    "print(features_valid.shape)\n",
    "print(features_test.shape)"
   ]
  },
  {
   "cell_type": "markdown",
   "metadata": {},
   "source": [
    "<div class=\"alert alert-success\">\n",
    "<b>ОТЛИЧНО! 👍</b>\n",
    "\n",
    "Здесь всё верно. Масштабирование \"обучается\" на тренировочной выборке, а затем РЕЗУЛЬТАТ (обычно это scaler) последовательно  применяется к тренировочной и к тестовой выборкам (и к валидационной тоже, если она имеется).\n",
    "\n",
    "Для чего нужно масштабировать признаки перед подачей в линейную модель машинного обучения (например в линейную регрессию)? Нам нужно минимизировать функцию потерь методом градиентного спуска. В случае разных масштабов признаков (например, год рождения и количество детей) её линии уровня будут иметь вид вытянутых эллипсов. Тогда вектор антиградиента и направление от текущей точки к минимуму функции потерь могут не совпадать, мы можем уйти далеко и не в ту сторону, и, в зависимости от шага градиентного спуска, либо придётся сделать больше итераций, либо вообще не будет сходимости. Если же признаки отмасштабированы, то линии уровня похожи на окружности. И проблема несовпадения антиградиента и направления к минимуму не так выражена.\n",
    "\n",
    "p.s. Для \"деревянных моделей\" (я вижу ниже, что ты их используешь) масштабирование данных не обязательно, так как они не зависят от расстояния между объектами или величины признаков (суть работы \"деревянных моделей\" - разбиение пространства признаков на области, в которых принимается одно решение).</div>"
   ]
  },
  {
   "cell_type": "markdown",
   "metadata": {},
   "source": [
    "<div class=\"alert alert-warning\">\n",
    "<b>Комментарий 👉</b>\n",
    "\n",
    "Последовательность команд (это **псевдокод**): \n",
    "    \n",
    "    1. scaler.fit(X_train) \n",
    "    2. X_train_st = scaler.transform(X_train) \n",
    "    \n",
    "можно было записать одной:\n",
    "    \n",
    "    X_train_st = scaler.fit_transform(X_train)\n",
    "\n",
    "p.s. но это **только** для тренировочной выборки!    \n",
    "</div>"
   ]
  },
  {
   "cell_type": "code",
   "execution_count": 57,
   "metadata": {},
   "outputs": [
    {
     "data": {
      "text/html": [
       "<div>\n",
       "<style scoped>\n",
       "    .dataframe tbody tr th:only-of-type {\n",
       "        vertical-align: middle;\n",
       "    }\n",
       "\n",
       "    .dataframe tbody tr th {\n",
       "        vertical-align: top;\n",
       "    }\n",
       "\n",
       "    .dataframe thead th {\n",
       "        text-align: right;\n",
       "    }\n",
       "</style>\n",
       "<table border=\"1\" class=\"dataframe\">\n",
       "  <thead>\n",
       "    <tr style=\"text-align: right;\">\n",
       "      <th></th>\n",
       "      <th>RegistrationYear</th>\n",
       "      <th>Power</th>\n",
       "      <th>Kilometer</th>\n",
       "      <th>VehicleType_convertible</th>\n",
       "      <th>VehicleType_coupe</th>\n",
       "      <th>VehicleType_other</th>\n",
       "      <th>VehicleType_sedan</th>\n",
       "      <th>VehicleType_small</th>\n",
       "      <th>VehicleType_suv</th>\n",
       "      <th>VehicleType_unknown</th>\n",
       "      <th>...</th>\n",
       "      <th>Brand_skoda</th>\n",
       "      <th>Brand_smart</th>\n",
       "      <th>Brand_subaru</th>\n",
       "      <th>Brand_suzuki</th>\n",
       "      <th>Brand_toyota</th>\n",
       "      <th>Brand_trabant</th>\n",
       "      <th>Brand_volkswagen</th>\n",
       "      <th>Brand_volvo</th>\n",
       "      <th>Repaired_unknown</th>\n",
       "      <th>Repaired_yes</th>\n",
       "    </tr>\n",
       "  </thead>\n",
       "  <tbody>\n",
       "    <tr>\n",
       "      <th>77282</th>\n",
       "      <td>-1.149041</td>\n",
       "      <td>0.424031</td>\n",
       "      <td>0.564155</td>\n",
       "      <td>0.0</td>\n",
       "      <td>0.0</td>\n",
       "      <td>0.0</td>\n",
       "      <td>1.0</td>\n",
       "      <td>0.0</td>\n",
       "      <td>0.0</td>\n",
       "      <td>0.0</td>\n",
       "      <td>...</td>\n",
       "      <td>0.0</td>\n",
       "      <td>0.0</td>\n",
       "      <td>0.0</td>\n",
       "      <td>0.0</td>\n",
       "      <td>0.0</td>\n",
       "      <td>0.0</td>\n",
       "      <td>0.0</td>\n",
       "      <td>1.0</td>\n",
       "      <td>0.0</td>\n",
       "      <td>0.0</td>\n",
       "    </tr>\n",
       "    <tr>\n",
       "      <th>189017</th>\n",
       "      <td>1.480566</td>\n",
       "      <td>-0.594695</td>\n",
       "      <td>-2.038722</td>\n",
       "      <td>0.0</td>\n",
       "      <td>0.0</td>\n",
       "      <td>0.0</td>\n",
       "      <td>0.0</td>\n",
       "      <td>0.0</td>\n",
       "      <td>0.0</td>\n",
       "      <td>0.0</td>\n",
       "      <td>...</td>\n",
       "      <td>0.0</td>\n",
       "      <td>0.0</td>\n",
       "      <td>0.0</td>\n",
       "      <td>0.0</td>\n",
       "      <td>0.0</td>\n",
       "      <td>0.0</td>\n",
       "      <td>0.0</td>\n",
       "      <td>0.0</td>\n",
       "      <td>0.0</td>\n",
       "      <td>0.0</td>\n",
       "    </tr>\n",
       "  </tbody>\n",
       "</table>\n",
       "<p>2 rows × 305 columns</p>\n",
       "</div>"
      ],
      "text/plain": [
       "        RegistrationYear     Power  Kilometer  VehicleType_convertible  \\\n",
       "77282          -1.149041  0.424031   0.564155                      0.0   \n",
       "189017          1.480566 -0.594695  -2.038722                      0.0   \n",
       "\n",
       "        VehicleType_coupe  VehicleType_other  VehicleType_sedan  \\\n",
       "77282                 0.0                0.0                1.0   \n",
       "189017                0.0                0.0                0.0   \n",
       "\n",
       "        VehicleType_small  VehicleType_suv  VehicleType_unknown  ...  \\\n",
       "77282                 0.0              0.0                  0.0  ...   \n",
       "189017                0.0              0.0                  0.0  ...   \n",
       "\n",
       "        Brand_skoda  Brand_smart  Brand_subaru  Brand_suzuki  Brand_toyota  \\\n",
       "77282           0.0          0.0           0.0           0.0           0.0   \n",
       "189017          0.0          0.0           0.0           0.0           0.0   \n",
       "\n",
       "        Brand_trabant  Brand_volkswagen  Brand_volvo  Repaired_unknown  \\\n",
       "77282             0.0               0.0          1.0               0.0   \n",
       "189017            0.0               0.0          0.0               0.0   \n",
       "\n",
       "        Repaired_yes  \n",
       "77282            0.0  \n",
       "189017           0.0  \n",
       "\n",
       "[2 rows x 305 columns]"
      ]
     },
     "execution_count": 57,
     "metadata": {},
     "output_type": "execute_result"
    }
   ],
   "source": [
    "features_train.head(2)"
   ]
  },
  {
   "cell_type": "code",
   "execution_count": 58,
   "metadata": {},
   "outputs": [
    {
     "data": {
      "text/html": [
       "<div>\n",
       "<style scoped>\n",
       "    .dataframe tbody tr th:only-of-type {\n",
       "        vertical-align: middle;\n",
       "    }\n",
       "\n",
       "    .dataframe tbody tr th {\n",
       "        vertical-align: top;\n",
       "    }\n",
       "\n",
       "    .dataframe thead th {\n",
       "        text-align: right;\n",
       "    }\n",
       "</style>\n",
       "<table border=\"1\" class=\"dataframe\">\n",
       "  <thead>\n",
       "    <tr style=\"text-align: right;\">\n",
       "      <th></th>\n",
       "      <th>RegistrationYear</th>\n",
       "      <th>Power</th>\n",
       "      <th>Kilometer</th>\n",
       "      <th>VehicleType_convertible</th>\n",
       "      <th>VehicleType_coupe</th>\n",
       "      <th>VehicleType_other</th>\n",
       "      <th>VehicleType_sedan</th>\n",
       "      <th>VehicleType_small</th>\n",
       "      <th>VehicleType_suv</th>\n",
       "      <th>VehicleType_unknown</th>\n",
       "      <th>...</th>\n",
       "      <th>Brand_skoda</th>\n",
       "      <th>Brand_smart</th>\n",
       "      <th>Brand_subaru</th>\n",
       "      <th>Brand_suzuki</th>\n",
       "      <th>Brand_toyota</th>\n",
       "      <th>Brand_trabant</th>\n",
       "      <th>Brand_volkswagen</th>\n",
       "      <th>Brand_volvo</th>\n",
       "      <th>Repaired_unknown</th>\n",
       "      <th>Repaired_yes</th>\n",
       "    </tr>\n",
       "  </thead>\n",
       "  <tbody>\n",
       "    <tr>\n",
       "      <th>67243</th>\n",
       "      <td>-1.850269</td>\n",
       "      <td>-0.417525</td>\n",
       "      <td>0.564155</td>\n",
       "      <td>1.0</td>\n",
       "      <td>0.0</td>\n",
       "      <td>0.0</td>\n",
       "      <td>0.0</td>\n",
       "      <td>0.0</td>\n",
       "      <td>0.0</td>\n",
       "      <td>0.0</td>\n",
       "      <td>...</td>\n",
       "      <td>0.0</td>\n",
       "      <td>0.0</td>\n",
       "      <td>0.0</td>\n",
       "      <td>0.0</td>\n",
       "      <td>0.0</td>\n",
       "      <td>0.0</td>\n",
       "      <td>1.0</td>\n",
       "      <td>0.0</td>\n",
       "      <td>0.0</td>\n",
       "      <td>0.0</td>\n",
       "    </tr>\n",
       "    <tr>\n",
       "      <th>9534</th>\n",
       "      <td>0.428723</td>\n",
       "      <td>1.841389</td>\n",
       "      <td>-0.158866</td>\n",
       "      <td>0.0</td>\n",
       "      <td>1.0</td>\n",
       "      <td>0.0</td>\n",
       "      <td>0.0</td>\n",
       "      <td>0.0</td>\n",
       "      <td>0.0</td>\n",
       "      <td>0.0</td>\n",
       "      <td>...</td>\n",
       "      <td>0.0</td>\n",
       "      <td>0.0</td>\n",
       "      <td>0.0</td>\n",
       "      <td>0.0</td>\n",
       "      <td>0.0</td>\n",
       "      <td>0.0</td>\n",
       "      <td>1.0</td>\n",
       "      <td>0.0</td>\n",
       "      <td>0.0</td>\n",
       "      <td>0.0</td>\n",
       "    </tr>\n",
       "  </tbody>\n",
       "</table>\n",
       "<p>2 rows × 305 columns</p>\n",
       "</div>"
      ],
      "text/plain": [
       "       RegistrationYear     Power  Kilometer  VehicleType_convertible  \\\n",
       "67243         -1.850269 -0.417525   0.564155                      1.0   \n",
       "9534           0.428723  1.841389  -0.158866                      0.0   \n",
       "\n",
       "       VehicleType_coupe  VehicleType_other  VehicleType_sedan  \\\n",
       "67243                0.0                0.0                0.0   \n",
       "9534                 1.0                0.0                0.0   \n",
       "\n",
       "       VehicleType_small  VehicleType_suv  VehicleType_unknown  ...  \\\n",
       "67243                0.0              0.0                  0.0  ...   \n",
       "9534                 0.0              0.0                  0.0  ...   \n",
       "\n",
       "       Brand_skoda  Brand_smart  Brand_subaru  Brand_suzuki  Brand_toyota  \\\n",
       "67243          0.0          0.0           0.0           0.0           0.0   \n",
       "9534           0.0          0.0           0.0           0.0           0.0   \n",
       "\n",
       "       Brand_trabant  Brand_volkswagen  Brand_volvo  Repaired_unknown  \\\n",
       "67243            0.0               1.0          0.0               0.0   \n",
       "9534             0.0               1.0          0.0               0.0   \n",
       "\n",
       "       Repaired_yes  \n",
       "67243           0.0  \n",
       "9534            0.0  \n",
       "\n",
       "[2 rows x 305 columns]"
      ]
     },
     "execution_count": 58,
     "metadata": {},
     "output_type": "execute_result"
    }
   ],
   "source": [
    "features_valid.head(2)"
   ]
  },
  {
   "cell_type": "markdown",
   "metadata": {},
   "source": [
    "Функция для показателей предсказаний моделей"
   ]
  },
  {
   "cell_type": "code",
   "execution_count": 59,
   "metadata": {},
   "outputs": [],
   "source": [
    "def illustration_target(test,predict):\n",
    "    mse = mean_squared_error(test,predict)\n",
    "    plt.figure(figsize=(8, 5))\n",
    "    pd.Series(predict).hist(bins=20, alpha=0.8)\n",
    "    pd.Series(test).hist(bins=20, alpha=0.8)\n",
    "    plt.text(17122,11225,'MSE={:.2f}'.format(mse))\n",
    "    plt.text(17122,13225,'RMSE={:.2f}'.format(mse**0.5))\n",
    "    plt.legend(['Предсказанные значения', 'Истинные значения'])\n",
    "    plt.title('График распределения предсказанных и истинных значениий', y=1.05)\n",
    "    plt.xlabel('Предсказанные / Истинные значения')\n",
    "    plt.ylabel('Количество')\n",
    "    plt.subplot()\n",
    "    plt.show()"
   ]
  },
  {
   "cell_type": "markdown",
   "metadata": {},
   "source": [
    "Функция для отображения важности признаков"
   ]
  },
  {
   "cell_type": "markdown",
   "metadata": {},
   "source": [
    "<div class=\"alert alert-warning\">\n",
    "<b>Комментарий 👉</b>\n",
    "\n",
    "Отлично, 5 шагов (EDA, обработка аномалий и пропусков, разделение данных на выборки, масштабирование/нормировку и кодирование признаков), входящие в типичный пайплайн подготовки данных **к этому моменту должны быть выполнены** ...\n",
    "\n",
    "Я тебе совет дам: создай шаблон кода (или функцию/функции), которые будут работать с момента загрузки данных и до получения выборок, готовых к передаче в модели МО.\n",
    "    \n",
    "Зачем такой шаблон нужен? Чтобы не ломать всякий раз голову, не вспоминать и писать руками один и тот же код (да ещё и с возможностью совершить \"глупую\" ошибку). В шаблоне должны быть (как минимум) следующие рутинные процедуры, которые встречаются ну абсолютно в каждом МО-проекте:\n",
    "    \n",
    "1. разбиение данных на выборки,\n",
    "\n",
    "2. масштабирование/нормировка.    \n",
    "\n",
    "3. обработка категорий,\n",
    "    \n",
    "Затем ты этот шаблон будешь вставлять в каждый новый проект, чуть модифицировать его (имена переменных, названия столбцов) и гарантированно получать работающий и безошибочный код.\n",
    "    \n",
    "А ресурсы головы ))) лучше тратить на подбор гиперпараметров и генерацию новых фичей - вот здесь находится то, что способно выделить твои модели, поднять их качество.    \n",
    "</div>"
   ]
  },
  {
   "cell_type": "markdown",
   "metadata": {},
   "source": [
    "### Линейная регрессия"
   ]
  },
  {
   "cell_type": "code",
   "execution_count": 60,
   "metadata": {},
   "outputs": [
    {
     "name": "stdout",
     "output_type": "stream",
     "text": [
      "CPU times: user 11.3 s, sys: 4.53 s, total: 15.8 s\n",
      "Wall time: 15.8 s\n"
     ]
    }
   ],
   "source": [
    "%%time\n",
    "start_time_model_lr = timeit.default_timer()\n",
    "\n",
    "model_lr = LinearRegression()\n",
    "model_lr.fit(features_train, target_train)\n",
    "\n",
    "elapsed_model_lr = round(timeit.default_timer() - start_time_model_lr, 2)"
   ]
  },
  {
   "cell_type": "code",
   "execution_count": 61,
   "metadata": {},
   "outputs": [
    {
     "name": "stdout",
     "output_type": "stream",
     "text": [
      "CPU times: user 69.5 ms, sys: 87.9 ms, total: 157 ms\n",
      "Wall time: 175 ms\n"
     ]
    }
   ],
   "source": [
    "%%time\n",
    "start_time_pred_model_lr = timeit.default_timer()\n",
    "\n",
    "pred_model_lr = model_lr.predict(features_valid)\n",
    "\n",
    "elapsed_pred_model_lr = round(timeit.default_timer() - start_time_model_lr, 2)"
   ]
  },
  {
   "cell_type": "code",
   "execution_count": 62,
   "metadata": {},
   "outputs": [
    {
     "name": "stdout",
     "output_type": "stream",
     "text": [
      "RMSE Линейной регрессии на валидационной выборке: 1990.24177\n"
     ]
    }
   ],
   "source": [
    "mse_model_lr = mean_squared_error(target_valid, pred_model_lr)\n",
    "print(\"RMSE Линейной регрессии на валидационной выборке:\", round((mse_model_lr) ** 0.5, 5))"
   ]
  },
  {
   "cell_type": "code",
   "execution_count": 63,
   "metadata": {},
   "outputs": [
    {
     "data": {
      "image/png": "[encoded data removed]",
      "text/plain": [
       "<Figure size 576x360 with 1 Axes>"
      ]
     },
     "metadata": {
      "needs_background": "light"
     },
     "output_type": "display_data"
    }
   ],
   "source": [
    "illustration_target(target_valid, pred_model_lr)"
   ]
  },
  {
   "cell_type": "markdown",
   "metadata": {},
   "source": [
    "### Дерево решений"
   ]
  },
  {
   "cell_type": "code",
   "execution_count": 64,
   "metadata": {},
   "outputs": [
    {
     "name": "stdout",
     "output_type": "stream",
     "text": [
      "CPU times: user 2.68 s, sys: 58.4 ms, total: 2.74 s\n",
      "Wall time: 2.75 s\n"
     ]
    }
   ],
   "source": [
    "%%time\n",
    "start_time_model_dtr = timeit.default_timer()\n",
    "\n",
    "model_dtr = DecisionTreeRegressor(criterion='mse', \n",
    "                              max_depth=10, \n",
    "                              random_state=12345) \n",
    "model_dtr.fit(features_train, target_train)\n",
    "\n",
    "elapsed_model_dtr = timeit.default_timer() - start_time_model_dtr"
   ]
  },
  {
   "cell_type": "code",
   "execution_count": 65,
   "metadata": {},
   "outputs": [
    {
     "name": "stdout",
     "output_type": "stream",
     "text": [
      "CPU times: user 36.5 ms, sys: 16.3 ms, total: 52.8 ms\n",
      "Wall time: 50.2 ms\n"
     ]
    }
   ],
   "source": [
    "%%time\n",
    "start_time_pred_model_dtr = timeit.default_timer()\n",
    "\n",
    "pred_model_dtr = model_dtr.predict(features_valid)\n",
    "\n",
    "elapsed_pred_model_dtr = timeit.default_timer() - start_time_pred_model_dtr"
   ]
  },
  {
   "cell_type": "code",
   "execution_count": 66,
   "metadata": {},
   "outputs": [
    {
     "name": "stdout",
     "output_type": "stream",
     "text": [
      "RMSE Дерева решений на валидационной выборке: 1595.74815\n"
     ]
    }
   ],
   "source": [
    "mse_model_dtr = mean_squared_error(target_valid, pred_model_dtr)\n",
    "print(\"RMSE Дерева решений на валидационной выборке:\", round((mse_model_dtr) ** 0.5, 5))"
   ]
  },
  {
   "cell_type": "code",
   "execution_count": 67,
   "metadata": {},
   "outputs": [
    {
     "data": {
      "image/png": "[encoded data removed]",
      "text/plain": [
       "<Figure size 576x360 with 1 Axes>"
      ]
     },
     "metadata": {
      "needs_background": "light"
     },
     "output_type": "display_data"
    }
   ],
   "source": [
    "illustration_target(target_valid, pred_model_dtr)"
   ]
  },
  {
   "cell_type": "markdown",
   "metadata": {},
   "source": [
    "###  LightGBM разделение данных, кодирование"
   ]
  },
  {
   "cell_type": "markdown",
   "metadata": {},
   "source": [
    "Разделим данные"
   ]
  },
  {
   "cell_type": "code",
   "execution_count": 68,
   "metadata": {},
   "outputs": [
    {
     "name": "stdout",
     "output_type": "stream",
     "text": [
      "Размер обучающей выборки: (190871, 9)\n",
      "Размер валидационной выборки: (31812, 9)\n",
      "Размер тестовой выборки: (31812, 9)\n"
     ]
    }
   ],
   "source": [
    "target = df['Price']\n",
    "features = df.drop('Price', axis=1)\n",
    "features_train, features_test, target_train, target_test = train_test_split(features, target, \n",
    "                                                                            test_size=0.25, \n",
    "                                                                            random_state=12345)\n",
    "\n",
    "features_valid, features_test, target_valid, target_test = train_test_split(features_test, \n",
    "                                                                            target_test, \n",
    "                                                                            test_size=0.5, \n",
    "                                                                            random_state=12345)\n",
    "                                                                            \n",
    "\n",
    "print('Размер обучающей выборки:', features_train.shape)\n",
    "print('Размер валидационной выборки:', features_valid.shape)\n",
    "print('Размер тестовой выборки:', features_test.shape)\n"
   ]
  },
  {
   "cell_type": "markdown",
   "metadata": {},
   "source": [
    "Закодируем числовые признаки"
   ]
  },
  {
   "cell_type": "code",
   "execution_count": 69,
   "metadata": {},
   "outputs": [
    {
     "data": {
      "text/html": [
       "<div>\n",
       "<style scoped>\n",
       "    .dataframe tbody tr th:only-of-type {\n",
       "        vertical-align: middle;\n",
       "    }\n",
       "\n",
       "    .dataframe tbody tr th {\n",
       "        vertical-align: top;\n",
       "    }\n",
       "\n",
       "    .dataframe thead th {\n",
       "        text-align: right;\n",
       "    }\n",
       "</style>\n",
       "<table border=\"1\" class=\"dataframe\">\n",
       "  <thead>\n",
       "    <tr style=\"text-align: right;\">\n",
       "      <th></th>\n",
       "      <th>VehicleType</th>\n",
       "      <th>RegistrationYear</th>\n",
       "      <th>Gearbox</th>\n",
       "      <th>Power</th>\n",
       "      <th>Model</th>\n",
       "      <th>Kilometer</th>\n",
       "      <th>FuelType</th>\n",
       "      <th>Brand</th>\n",
       "      <th>Repaired</th>\n",
       "    </tr>\n",
       "  </thead>\n",
       "  <tbody>\n",
       "    <tr>\n",
       "      <th>40235</th>\n",
       "      <td>sedan</td>\n",
       "      <td>-0.449003</td>\n",
       "      <td>auto</td>\n",
       "      <td>-0.239550</td>\n",
       "      <td>other</td>\n",
       "      <td>0.564661</td>\n",
       "      <td>petrol</td>\n",
       "      <td>fiat</td>\n",
       "      <td>yes</td>\n",
       "    </tr>\n",
       "    <tr>\n",
       "      <th>132696</th>\n",
       "      <td>small</td>\n",
       "      <td>-0.799548</td>\n",
       "      <td>manual</td>\n",
       "      <td>-0.926165</td>\n",
       "      <td>lupo</td>\n",
       "      <td>0.564661</td>\n",
       "      <td>petrol</td>\n",
       "      <td>volkswagen</td>\n",
       "      <td>unknown</td>\n",
       "    </tr>\n",
       "    <tr>\n",
       "      <th>335328</th>\n",
       "      <td>sedan</td>\n",
       "      <td>0.252086</td>\n",
       "      <td>auto</td>\n",
       "      <td>3.127075</td>\n",
       "      <td>5er</td>\n",
       "      <td>0.564661</td>\n",
       "      <td>gasoline</td>\n",
       "      <td>bmw</td>\n",
       "      <td>no</td>\n",
       "    </tr>\n",
       "    <tr>\n",
       "      <th>68011</th>\n",
       "      <td>coupe</td>\n",
       "      <td>0.602631</td>\n",
       "      <td>manual</td>\n",
       "      <td>1.842442</td>\n",
       "      <td>tt</td>\n",
       "      <td>0.564661</td>\n",
       "      <td>petrol</td>\n",
       "      <td>audi</td>\n",
       "      <td>no</td>\n",
       "    </tr>\n",
       "    <tr>\n",
       "      <th>224371</th>\n",
       "      <td>small</td>\n",
       "      <td>0.076814</td>\n",
       "      <td>manual</td>\n",
       "      <td>-1.147653</td>\n",
       "      <td>micra</td>\n",
       "      <td>-1.747984</td>\n",
       "      <td>petrol</td>\n",
       "      <td>nissan</td>\n",
       "      <td>no</td>\n",
       "    </tr>\n",
       "  </tbody>\n",
       "</table>\n",
       "</div>"
      ],
      "text/plain": [
       "       VehicleType  RegistrationYear Gearbox     Power  Model  Kilometer  \\\n",
       "40235        sedan         -0.449003    auto -0.239550  other   0.564661   \n",
       "132696       small         -0.799548  manual -0.926165   lupo   0.564661   \n",
       "335328       sedan          0.252086    auto  3.127075    5er   0.564661   \n",
       "68011        coupe          0.602631  manual  1.842442     tt   0.564661   \n",
       "224371       small          0.076814  manual -1.147653  micra  -1.747984   \n",
       "\n",
       "        FuelType       Brand Repaired  \n",
       "40235     petrol        fiat      yes  \n",
       "132696    petrol  volkswagen  unknown  \n",
       "335328  gasoline         bmw       no  \n",
       "68011     petrol        audi       no  \n",
       "224371    petrol      nissan       no  "
      ]
     },
     "execution_count": 69,
     "metadata": {},
     "output_type": "execute_result"
    }
   ],
   "source": [
    "scaler = StandardScaler()\n",
    "scaler.fit(features_train[numeric])\n",
    "features_train[numeric] = scaler.transform(features_train[numeric])\n",
    "features_valid[numeric] = scaler.transform(features_valid[numeric])\n",
    "features_test[numeric] = scaler.transform(features_test[numeric])\n",
    "\n",
    "features_train.head()"
   ]
  },
  {
   "cell_type": "markdown",
   "metadata": {},
   "source": [
    "Закодируем категориальные признаки"
   ]
  },
  {
   "cell_type": "code",
   "execution_count": 70,
   "metadata": {},
   "outputs": [
    {
     "data": {
      "text/html": [
       "<div>\n",
       "<style scoped>\n",
       "    .dataframe tbody tr th:only-of-type {\n",
       "        vertical-align: middle;\n",
       "    }\n",
       "\n",
       "    .dataframe tbody tr th {\n",
       "        vertical-align: top;\n",
       "    }\n",
       "\n",
       "    .dataframe thead th {\n",
       "        text-align: right;\n",
       "    }\n",
       "</style>\n",
       "<table border=\"1\" class=\"dataframe\">\n",
       "  <thead>\n",
       "    <tr style=\"text-align: right;\">\n",
       "      <th></th>\n",
       "      <th>VehicleType</th>\n",
       "      <th>RegistrationYear</th>\n",
       "      <th>Gearbox</th>\n",
       "      <th>Power</th>\n",
       "      <th>Model</th>\n",
       "      <th>Kilometer</th>\n",
       "      <th>FuelType</th>\n",
       "      <th>Brand</th>\n",
       "      <th>Repaired</th>\n",
       "    </tr>\n",
       "  </thead>\n",
       "  <tbody>\n",
       "    <tr>\n",
       "      <th>40235</th>\n",
       "      <td>4.0</td>\n",
       "      <td>-0.449003</td>\n",
       "      <td>0.0</td>\n",
       "      <td>-0.239550</td>\n",
       "      <td>166.0</td>\n",
       "      <td>0.564661</td>\n",
       "      <td>6.0</td>\n",
       "      <td>9.0</td>\n",
       "      <td>2.0</td>\n",
       "    </tr>\n",
       "    <tr>\n",
       "      <th>132696</th>\n",
       "      <td>5.0</td>\n",
       "      <td>-0.799548</td>\n",
       "      <td>1.0</td>\n",
       "      <td>-0.926165</td>\n",
       "      <td>143.0</td>\n",
       "      <td>0.564661</td>\n",
       "      <td>6.0</td>\n",
       "      <td>37.0</td>\n",
       "      <td>1.0</td>\n",
       "    </tr>\n",
       "    <tr>\n",
       "      <th>335328</th>\n",
       "      <td>4.0</td>\n",
       "      <td>0.252086</td>\n",
       "      <td>0.0</td>\n",
       "      <td>3.127075</td>\n",
       "      <td>15.0</td>\n",
       "      <td>0.564661</td>\n",
       "      <td>2.0</td>\n",
       "      <td>2.0</td>\n",
       "      <td>0.0</td>\n",
       "    </tr>\n",
       "    <tr>\n",
       "      <th>68011</th>\n",
       "      <td>2.0</td>\n",
       "      <td>0.602631</td>\n",
       "      <td>1.0</td>\n",
       "      <td>1.842442</td>\n",
       "      <td>223.0</td>\n",
       "      <td>0.564661</td>\n",
       "      <td>6.0</td>\n",
       "      <td>1.0</td>\n",
       "      <td>0.0</td>\n",
       "    </tr>\n",
       "    <tr>\n",
       "      <th>224371</th>\n",
       "      <td>5.0</td>\n",
       "      <td>0.076814</td>\n",
       "      <td>1.0</td>\n",
       "      <td>-1.147653</td>\n",
       "      <td>151.0</td>\n",
       "      <td>-1.747984</td>\n",
       "      <td>6.0</td>\n",
       "      <td>23.0</td>\n",
       "      <td>0.0</td>\n",
       "    </tr>\n",
       "  </tbody>\n",
       "</table>\n",
       "</div>"
      ],
      "text/plain": [
       "        VehicleType  RegistrationYear  Gearbox     Power  Model  Kilometer  \\\n",
       "40235           4.0         -0.449003      0.0 -0.239550  166.0   0.564661   \n",
       "132696          5.0         -0.799548      1.0 -0.926165  143.0   0.564661   \n",
       "335328          4.0          0.252086      0.0  3.127075   15.0   0.564661   \n",
       "68011           2.0          0.602631      1.0  1.842442  223.0   0.564661   \n",
       "224371          5.0          0.076814      1.0 -1.147653  151.0  -1.747984   \n",
       "\n",
       "        FuelType  Brand  Repaired  \n",
       "40235        6.0    9.0       2.0  \n",
       "132696       6.0   37.0       1.0  \n",
       "335328       2.0    2.0       0.0  \n",
       "68011        6.0    1.0       0.0  \n",
       "224371       6.0   23.0       0.0  "
      ]
     },
     "execution_count": 70,
     "metadata": {},
     "output_type": "execute_result"
    }
   ],
   "source": [
    "features_train_gbm = features_train.copy()\n",
    "features_valid_gbm = features_valid.copy()\n",
    "features_test_gbm = features_test.copy()\n",
    "category_features_gbm = ohe_features\n",
    "encoder = OrdinalEncoder()\n",
    "encoder.fit(features_train_gbm[category_features_gbm])\n",
    "features_train_gbm[category_features_gbm] = encoder.transform(features_train_gbm[category_features_gbm])\n",
    "features_valid_gbm[category_features_gbm] = encoder.transform(features_valid_gbm[category_features_gbm])\n",
    "features_test_gbm[category_features_gbm] = encoder.transform(features_test_gbm[category_features_gbm])\n",
    "\n",
    "features_train_gbm.head()"
   ]
  },
  {
   "cell_type": "code",
   "execution_count": 71,
   "metadata": {},
   "outputs": [
    {
     "data": {
      "text/html": [
       "<div>\n",
       "<style scoped>\n",
       "    .dataframe tbody tr th:only-of-type {\n",
       "        vertical-align: middle;\n",
       "    }\n",
       "\n",
       "    .dataframe tbody tr th {\n",
       "        vertical-align: top;\n",
       "    }\n",
       "\n",
       "    .dataframe thead th {\n",
       "        text-align: right;\n",
       "    }\n",
       "</style>\n",
       "<table border=\"1\" class=\"dataframe\">\n",
       "  <thead>\n",
       "    <tr style=\"text-align: right;\">\n",
       "      <th></th>\n",
       "      <th>VehicleType</th>\n",
       "      <th>RegistrationYear</th>\n",
       "      <th>Gearbox</th>\n",
       "      <th>Power</th>\n",
       "      <th>Model</th>\n",
       "      <th>Kilometer</th>\n",
       "      <th>FuelType</th>\n",
       "      <th>Brand</th>\n",
       "      <th>Repaired</th>\n",
       "    </tr>\n",
       "  </thead>\n",
       "  <tbody>\n",
       "    <tr>\n",
       "      <th>242710</th>\n",
       "      <td>4.0</td>\n",
       "      <td>-0.449003</td>\n",
       "      <td>1.0</td>\n",
       "      <td>-0.018062</td>\n",
       "      <td>103.0</td>\n",
       "      <td>-0.158040</td>\n",
       "      <td>6.0</td>\n",
       "      <td>10.0</td>\n",
       "      <td>0.0</td>\n",
       "    </tr>\n",
       "    <tr>\n",
       "      <th>114553</th>\n",
       "      <td>1.0</td>\n",
       "      <td>-1.851183</td>\n",
       "      <td>1.0</td>\n",
       "      <td>0.358469</td>\n",
       "      <td>20.0</td>\n",
       "      <td>0.564661</td>\n",
       "      <td>6.0</td>\n",
       "      <td>1.0</td>\n",
       "      <td>0.0</td>\n",
       "    </tr>\n",
       "    <tr>\n",
       "      <th>40610</th>\n",
       "      <td>8.0</td>\n",
       "      <td>-0.098459</td>\n",
       "      <td>1.0</td>\n",
       "      <td>0.734999</td>\n",
       "      <td>11.0</td>\n",
       "      <td>0.564661</td>\n",
       "      <td>2.0</td>\n",
       "      <td>2.0</td>\n",
       "      <td>0.0</td>\n",
       "    </tr>\n",
       "    <tr>\n",
       "      <th>239051</th>\n",
       "      <td>4.0</td>\n",
       "      <td>-0.449003</td>\n",
       "      <td>0.0</td>\n",
       "      <td>-0.350295</td>\n",
       "      <td>116.0</td>\n",
       "      <td>0.564661</td>\n",
       "      <td>6.0</td>\n",
       "      <td>37.0</td>\n",
       "      <td>0.0</td>\n",
       "    </tr>\n",
       "    <tr>\n",
       "      <th>36128</th>\n",
       "      <td>4.0</td>\n",
       "      <td>0.252086</td>\n",
       "      <td>1.0</td>\n",
       "      <td>-0.350295</td>\n",
       "      <td>29.0</td>\n",
       "      <td>0.564661</td>\n",
       "      <td>2.0</td>\n",
       "      <td>1.0</td>\n",
       "      <td>0.0</td>\n",
       "    </tr>\n",
       "  </tbody>\n",
       "</table>\n",
       "</div>"
      ],
      "text/plain": [
       "        VehicleType  RegistrationYear  Gearbox     Power  Model  Kilometer  \\\n",
       "242710          4.0         -0.449003      1.0 -0.018062  103.0  -0.158040   \n",
       "114553          1.0         -1.851183      1.0  0.358469   20.0   0.564661   \n",
       "40610           8.0         -0.098459      1.0  0.734999   11.0   0.564661   \n",
       "239051          4.0         -0.449003      0.0 -0.350295  116.0   0.564661   \n",
       "36128           4.0          0.252086      1.0 -0.350295   29.0   0.564661   \n",
       "\n",
       "        FuelType  Brand  Repaired  \n",
       "242710       6.0   10.0       0.0  \n",
       "114553       6.0    1.0       0.0  \n",
       "40610        2.0    2.0       0.0  \n",
       "239051       6.0   37.0       0.0  \n",
       "36128        2.0    1.0       0.0  "
      ]
     },
     "execution_count": 71,
     "metadata": {},
     "output_type": "execute_result"
    }
   ],
   "source": [
    "features_valid_gbm.head()"
   ]
  },
  {
   "cell_type": "code",
   "execution_count": 72,
   "metadata": {},
   "outputs": [
    {
     "data": {
      "text/html": [
       "<div>\n",
       "<style scoped>\n",
       "    .dataframe tbody tr th:only-of-type {\n",
       "        vertical-align: middle;\n",
       "    }\n",
       "\n",
       "    .dataframe tbody tr th {\n",
       "        vertical-align: top;\n",
       "    }\n",
       "\n",
       "    .dataframe thead th {\n",
       "        text-align: right;\n",
       "    }\n",
       "</style>\n",
       "<table border=\"1\" class=\"dataframe\">\n",
       "  <thead>\n",
       "    <tr style=\"text-align: right;\">\n",
       "      <th></th>\n",
       "      <th>VehicleType</th>\n",
       "      <th>RegistrationYear</th>\n",
       "      <th>Gearbox</th>\n",
       "      <th>Power</th>\n",
       "      <th>Model</th>\n",
       "      <th>Kilometer</th>\n",
       "      <th>FuelType</th>\n",
       "      <th>Brand</th>\n",
       "      <th>Repaired</th>\n",
       "    </tr>\n",
       "  </thead>\n",
       "  <tbody>\n",
       "    <tr>\n",
       "      <th>238086</th>\n",
       "      <td>5.0</td>\n",
       "      <td>-1.150093</td>\n",
       "      <td>1.0</td>\n",
       "      <td>-0.926165</td>\n",
       "      <td>173.0</td>\n",
       "      <td>0.564661</td>\n",
       "      <td>6.0</td>\n",
       "      <td>37.0</td>\n",
       "      <td>0.0</td>\n",
       "    </tr>\n",
       "    <tr>\n",
       "      <th>56169</th>\n",
       "      <td>8.0</td>\n",
       "      <td>-0.449003</td>\n",
       "      <td>0.0</td>\n",
       "      <td>0.181278</td>\n",
       "      <td>104.0</td>\n",
       "      <td>0.564661</td>\n",
       "      <td>6.0</td>\n",
       "      <td>33.0</td>\n",
       "      <td>2.0</td>\n",
       "    </tr>\n",
       "    <tr>\n",
       "      <th>66756</th>\n",
       "      <td>5.0</td>\n",
       "      <td>0.427359</td>\n",
       "      <td>1.0</td>\n",
       "      <td>-1.391291</td>\n",
       "      <td>173.0</td>\n",
       "      <td>0.564661</td>\n",
       "      <td>6.0</td>\n",
       "      <td>37.0</td>\n",
       "      <td>0.0</td>\n",
       "    </tr>\n",
       "    <tr>\n",
       "      <th>89683</th>\n",
       "      <td>8.0</td>\n",
       "      <td>-0.449003</td>\n",
       "      <td>1.0</td>\n",
       "      <td>-0.483188</td>\n",
       "      <td>227.0</td>\n",
       "      <td>0.564661</td>\n",
       "      <td>2.0</td>\n",
       "      <td>38.0</td>\n",
       "      <td>0.0</td>\n",
       "    </tr>\n",
       "    <tr>\n",
       "      <th>93864</th>\n",
       "      <td>8.0</td>\n",
       "      <td>-0.098459</td>\n",
       "      <td>0.0</td>\n",
       "      <td>1.022934</td>\n",
       "      <td>59.0</td>\n",
       "      <td>0.564661</td>\n",
       "      <td>6.0</td>\n",
       "      <td>20.0</td>\n",
       "      <td>0.0</td>\n",
       "    </tr>\n",
       "  </tbody>\n",
       "</table>\n",
       "</div>"
      ],
      "text/plain": [
       "        VehicleType  RegistrationYear  Gearbox     Power  Model  Kilometer  \\\n",
       "238086          5.0         -1.150093      1.0 -0.926165  173.0   0.564661   \n",
       "56169           8.0         -0.449003      0.0  0.181278  104.0   0.564661   \n",
       "66756           5.0          0.427359      1.0 -1.391291  173.0   0.564661   \n",
       "89683           8.0         -0.449003      1.0 -0.483188  227.0   0.564661   \n",
       "93864           8.0         -0.098459      0.0  1.022934   59.0   0.564661   \n",
       "\n",
       "        FuelType  Brand  Repaired  \n",
       "238086       6.0   37.0       0.0  \n",
       "56169        6.0   33.0       2.0  \n",
       "66756        6.0   37.0       0.0  \n",
       "89683        2.0   38.0       0.0  \n",
       "93864        6.0   20.0       0.0  "
      ]
     },
     "execution_count": 72,
     "metadata": {},
     "output_type": "execute_result"
    }
   ],
   "source": [
    "features_test_gbm.head()"
   ]
  },
  {
   "cell_type": "markdown",
   "metadata": {},
   "source": [
    "### LightGBM Regressor"
   ]
  },
  {
   "cell_type": "code",
   "execution_count": 73,
   "metadata": {},
   "outputs": [
    {
     "name": "stdout",
     "output_type": "stream",
     "text": [
      "CPU times: user 6.61 s, sys: 0 ns, total: 6.61 s\n",
      "Wall time: 6.6 s\n"
     ]
    }
   ],
   "source": [
    "%%time\n",
    "start_time_gbm = timeit.default_timer()\n",
    "\n",
    "gbm = LGBMRegressor(learning_rate=0.4, \n",
    "                      num_leaves=100, \n",
    "                      random_state=12345)\n",
    "gbm.fit(features_train_gbm, target_train)\n",
    "\n",
    "elapsed_gbm = timeit.default_timer() - start_time_gbm"
   ]
  },
  {
   "cell_type": "code",
   "execution_count": 74,
   "metadata": {},
   "outputs": [
    {
     "name": "stdout",
     "output_type": "stream",
     "text": [
      "CPU times: user 234 ms, sys: 0 ns, total: 234 ms\n",
      "Wall time: 285 ms\n"
     ]
    }
   ],
   "source": [
    "%%time\n",
    "start_time_gbm_predict = timeit.default_timer()\n",
    "\n",
    "gbm_predict = gbm.predict(features_valid_gbm)\n",
    "\n",
    "elapsed_gbm_predict = timeit.default_timer() - start_time_gbm_predict"
   ]
  },
  {
   "cell_type": "code",
   "execution_count": 75,
   "metadata": {},
   "outputs": [
    {
     "name": "stdout",
     "output_type": "stream",
     "text": [
      "RMSE LGBMRegressor на валидационной выборке: 1268.27704\n"
     ]
    }
   ],
   "source": [
    "mse_gbm = mean_squared_error(target_valid, gbm_predict)\n",
    "print(\"RMSE LGBMRegressor на валидационной выборке:\", round((mse_gbm) ** 0.5, 5))"
   ]
  },
  {
   "cell_type": "code",
   "execution_count": 76,
   "metadata": {},
   "outputs": [
    {
     "data": {
      "image/png": "[encoded data removed]",
      "text/plain": [
       "<Figure size 576x360 with 1 Axes>"
      ]
     },
     "metadata": {
      "needs_background": "light"
     },
     "output_type": "display_data"
    }
   ],
   "source": [
    "illustration_target(target_valid, gbm_predict)"
   ]
  },
  {
   "cell_type": "code",
   "execution_count": 77,
   "metadata": {},
   "outputs": [
    {
     "data": {
      "image/png": "[encoded data removed]",
      "text/plain": [
       "<Figure size 432x288 with 1 Axes>"
      ]
     },
     "metadata": {
      "needs_background": "light"
     },
     "output_type": "display_data"
    }
   ],
   "source": [
    "features=features_valid.columns\n",
    "importances = gbm.feature_importances_\n",
    "indices = np.argsort(importances)\n",
    "\n",
    "plt.figure()\n",
    "plt.title('Важность признаков')\n",
    "plt.barh(range(len(indices)), importances[indices])\n",
    "plt.yticks(range(len(indices)), features[indices])\n",
    "plt.xlabel('оценочная шкала')\n",
    "plt.show()"
   ]
  },
  {
   "cell_type": "markdown",
   "metadata": {},
   "source": [
    "### CatBoost Regressor"
   ]
  },
  {
   "cell_type": "code",
   "execution_count": 78,
   "metadata": {},
   "outputs": [
    {
     "data": {
      "text/plain": [
       "['VehicleType', 'Gearbox', 'Model', 'FuelType', 'Brand', 'Repaired']"
      ]
     },
     "execution_count": 78,
     "metadata": {},
     "output_type": "execute_result"
    }
   ],
   "source": [
    "ohe_features"
   ]
  },
  {
   "cell_type": "code",
   "execution_count": 79,
   "metadata": {},
   "outputs": [
    {
     "name": "stdout",
     "output_type": "stream",
     "text": [
      "CPU times: user 2min 48s, sys: 1.03 s, total: 2min 49s\n",
      "Wall time: 2min 51s\n"
     ]
    }
   ],
   "source": [
    "%%time\n",
    "start_time_cat = timeit.default_timer()\n",
    "\n",
    "cat = CatBoostRegressor(learning_rate=0.5, random_state=12345, verbose=False) \n",
    "cat.fit(features_train, target_train, cat_features=ohe_features)\n",
    "\n",
    "elapsed_cat = timeit.default_timer() - start_time_cat"
   ]
  },
  {
   "cell_type": "code",
   "execution_count": 80,
   "metadata": {},
   "outputs": [
    {
     "name": "stdout",
     "output_type": "stream",
     "text": [
      "CPU times: user 354 ms, sys: 34 µs, total: 354 ms\n",
      "Wall time: 354 ms\n"
     ]
    }
   ],
   "source": [
    "%%time\n",
    "start_time_cat_predict = timeit.default_timer()\n",
    "\n",
    "cat_predict = cat.predict(features_valid)\n",
    "\n",
    "elapsed_cat_predict = timeit.default_timer() - start_time_cat_predict"
   ]
  },
  {
   "cell_type": "code",
   "execution_count": 81,
   "metadata": {},
   "outputs": [
    {
     "name": "stdout",
     "output_type": "stream",
     "text": [
      "RMSE CatBoostRegressor на валидационной выборке: 1267.14959\n"
     ]
    }
   ],
   "source": [
    "mse_cat = mean_squared_error(target_valid, cat_predict)\n",
    "print(\"RMSE CatBoostRegressor на валидационной выборке:\", round((mse_cat) ** 0.5, 5))"
   ]
  },
  {
   "cell_type": "code",
   "execution_count": 82,
   "metadata": {},
   "outputs": [
    {
     "data": {
      "image/png": "[encoded data removed]",
      "text/plain": [
       "<Figure size 576x360 with 1 Axes>"
      ]
     },
     "metadata": {
      "needs_background": "light"
     },
     "output_type": "display_data"
    }
   ],
   "source": [
    "illustration_target(target_valid, cat_predict)"
   ]
  },
  {
   "cell_type": "code",
   "execution_count": 83,
   "metadata": {},
   "outputs": [
    {
     "data": {
      "image/png": "[encoded data removed]",
      "text/plain": [
       "<Figure size 432x288 with 1 Axes>"
      ]
     },
     "metadata": {
      "needs_background": "light"
     },
     "output_type": "display_data"
    }
   ],
   "source": [
    "features=features_valid.columns\n",
    "importances = cat.feature_importances_\n",
    "indices = np.argsort(importances)\n",
    "\n",
    "plt.figure()\n",
    "plt.title('Важность признаков')\n",
    "plt.barh(range(len(indices)), importances[indices])\n",
    "plt.yticks(range(len(indices)), features[indices])\n",
    "plt.xlabel('оценочная шкала')\n",
    "plt.show()"
   ]
  },
  {
   "cell_type": "markdown",
   "metadata": {},
   "source": [
    "<div class=\"alert alert-warning\">\n",
    "<b>Комментарий 👉</b>\n",
    "\n",
    "В этом большом разделе всё хорошо. \"Смотрим\" разные модели, подбираем гиперпараметры (ГП), в части обучения (на тренировочном наборе данных) и расчета метрик (на валидационной выборке) - всё верно. Особо-то и комментариев нет у меня к коду. Молодец.\n",
    "</div>"
   ]
  },
  {
   "cell_type": "markdown",
   "metadata": {},
   "source": [
    "## Анализ моделей"
   ]
  },
  {
   "cell_type": "code",
   "execution_count": 84,
   "metadata": {},
   "outputs": [],
   "source": [
    "rmse_model_lr=round((mse_model_lr) ** 0.5, 5)\n",
    "rmse_model_dtr=round((mse_model_dtr) ** 0.5, 5)\n",
    "rmse_gbm=round((mse_gbm) ** 0.5, 5)\n",
    "rmse_cat=round((mse_cat) ** 0.5, 5)"
   ]
  },
  {
   "cell_type": "code",
   "execution_count": 85,
   "metadata": {},
   "outputs": [],
   "source": [
    "df = [[elapsed_model_lr, elapsed_pred_model_lr, rmse_model_lr],\n",
    "     [elapsed_model_dtr, elapsed_pred_model_dtr, rmse_model_dtr],\n",
    "     [elapsed_gbm, elapsed_gbm_predict, rmse_gbm],\n",
    "     [elapsed_cat, elapsed_cat_predict, rmse_cat]]\n",
    "model = ['LinearRegression', 'DecisionTreeRegressor', 'LGBMRegressor', 'CatBoostRegressor']\n"
   ]
  },
  {
   "cell_type": "code",
   "execution_count": 86,
   "metadata": {},
   "outputs": [
    {
     "data": {
      "text/html": [
       "<div>\n",
       "<style scoped>\n",
       "    .dataframe tbody tr th:only-of-type {\n",
       "        vertical-align: middle;\n",
       "    }\n",
       "\n",
       "    .dataframe tbody tr th {\n",
       "        vertical-align: top;\n",
       "    }\n",
       "\n",
       "    .dataframe thead th {\n",
       "        text-align: right;\n",
       "    }\n",
       "</style>\n",
       "<table border=\"1\" class=\"dataframe\">\n",
       "  <thead>\n",
       "    <tr style=\"text-align: right;\">\n",
       "      <th></th>\n",
       "      <th>fit_time</th>\n",
       "      <th>predict_time</th>\n",
       "      <th>RMSE</th>\n",
       "    </tr>\n",
       "  </thead>\n",
       "  <tbody>\n",
       "    <tr>\n",
       "      <th>LinearRegression</th>\n",
       "      <td>15.850000</td>\n",
       "      <td>16.030000</td>\n",
       "      <td>1990.24177</td>\n",
       "    </tr>\n",
       "    <tr>\n",
       "      <th>DecisionTreeRegressor</th>\n",
       "      <td>2.750447</td>\n",
       "      <td>0.050127</td>\n",
       "      <td>1595.74815</td>\n",
       "    </tr>\n",
       "    <tr>\n",
       "      <th>LGBMRegressor</th>\n",
       "      <td>6.596974</td>\n",
       "      <td>0.284586</td>\n",
       "      <td>1268.27704</td>\n",
       "    </tr>\n",
       "    <tr>\n",
       "      <th>CatBoostRegressor</th>\n",
       "      <td>171.603470</td>\n",
       "      <td>0.354070</td>\n",
       "      <td>1267.14959</td>\n",
       "    </tr>\n",
       "  </tbody>\n",
       "</table>\n",
       "</div>"
      ],
      "text/plain": [
       "                         fit_time  predict_time        RMSE\n",
       "LinearRegression        15.850000     16.030000  1990.24177\n",
       "DecisionTreeRegressor    2.750447      0.050127  1595.74815\n",
       "LGBMRegressor            6.596974      0.284586  1268.27704\n",
       "CatBoostRegressor      171.603470      0.354070  1267.14959"
      ]
     },
     "execution_count": 86,
     "metadata": {},
     "output_type": "execute_result"
    }
   ],
   "source": [
    "a = pd.DataFrame(data=df, index=model, columns=['fit_time', 'predict_time', 'RMSE'])\n",
    "a"
   ]
  },
  {
   "cell_type": "markdown",
   "metadata": {},
   "source": [
    "Хотя лучшее значение RMSE показала модель CatBoost, но лучшей моделью для заказчика по соотношению качества и времени исполнения является LightGBM Regressor."
   ]
  },
  {
   "cell_type": "markdown",
   "metadata": {},
   "source": [
    "### Тестирование модели"
   ]
  },
  {
   "cell_type": "markdown",
   "metadata": {},
   "source": [
    "Проверим лучшую модель на тестовой выборке."
   ]
  },
  {
   "cell_type": "code",
   "execution_count": 87,
   "metadata": {},
   "outputs": [],
   "source": [
    "gbm.fit(features_train_gbm, target_train)\n",
    "gbm_predict_test = gbm.predict(features_test_gbm)"
   ]
  },
  {
   "cell_type": "code",
   "execution_count": 88,
   "metadata": {},
   "outputs": [
    {
     "name": "stdout",
     "output_type": "stream",
     "text": [
      "RMSE LGBMRegressor на тестовой выборке: 1369.65207\n"
     ]
    }
   ],
   "source": [
    "mse_gbm_test = mean_squared_error(target_test, gbm_predict_test)\n",
    "print(\"RMSE LGBMRegressor на тестовой выборке:\", round((mse_gbm_test) ** 0.5, 5))"
   ]
  },
  {
   "cell_type": "markdown",
   "metadata": {},
   "source": [
    "## Вывод"
   ]
  },
  {
   "cell_type": "markdown",
   "metadata": {},
   "source": [
    "<p>Сервис по продаже автомобилей с пробегом &laquo;Не бит, не крашен&raquo; разрабатывает приложение для привлечения новых клиентов. В нём можно быстро узнать рыночную стоимость своего автомобиля. \n",
    "    \n",
    "В нашем распоряжении были исторические данные: технические характеристики, комплектации и цены автомобилей. Необходимо было построить модель для определения стоимости.</p>\n",
    "<p>Заказчику важны:</p>\n",
    "<ul>\n",
    "<li>качество предсказания;</li>\n",
    "<li>скорость предсказания;</li>\n",
    "<li>время обучения.</li>\n",
    "</ul>\n",
    "<p><strong>Признаки</strong></p>\n",
    "<p><code>DateCrawled</code>&nbsp;&mdash; дата скачивания анкеты из базы</p>\n",
    "<p><code>VehicleType</code>&nbsp;&mdash; тип автомобильного кузова</p>\n",
    "<p><code>RegistrationYear</code>&nbsp;&mdash; год регистрации автомобиля</p>\n",
    "<p><code>Gearbox</code>&nbsp;&mdash; тип коробки передач</p>\n",
    "<p><code>Power</code>&nbsp;&mdash; мощность (л. с.)</p>\n",
    "<p><code>Model</code>&nbsp;&mdash; модель автомобиля</p>\n",
    "<p><code>Kilometer</code>&nbsp;&mdash; пробег (км)</p>\n",
    "<p><code>RegistrationMonth</code>&nbsp;&mdash; месяц регистрации автомобиля</p>\n",
    "<p><code>FuelType</code>&nbsp;&mdash; тип топлива</p>\n",
    "<p><code>Brand</code>&nbsp;&mdash; марка автомобиля</p>\n",
    "<p><code>Repaired</code>&nbsp;&mdash; была машина в ремонте или нет</p>\n",
    "<p><code>DateCreated</code>&nbsp;&mdash; дата создания анкеты</p>\n",
    "<p><code>NumberOfPictures</code>&nbsp;&mdash; количество фотографий автомобиля</p>\n",
    "<p><code>PostalCode</code>&nbsp;&mdash; почтовый индекс владельца анкеты (пользователя)</p>\n",
    "<p><code>LastSeen</code>&nbsp;&mdash; дата последней активности пользователя</p>\n",
    "<p><strong>Целевой признак</strong></p>\n",
    "<p><code>Price</code>&nbsp;&mdash; цена (евро)</p>\n",
    "<p>В результате исследования данных были обнаружены 4 явных дубликата, пропуски, нулевые значения и выбросы в данных. Мультиколлинеарность не обнаружена.</p>\n",
    "<p>При предобработке данных:</p>\n",
    "<ul>\n",
    "<li>Удалены 4 явных дубликата</li>\n",
    "<li>У целевого признака были удалены значения с очень низкой(до 200 евро) и очень высокой(более 14600) ценами</li>\n",
    "<li>Пропуски в VehicleType и Repaired заменены на 'unknown'</li>\n",
    "<li>Пропуски в Model удалены</li>\n",
    "<li>Пропуски в FuelType и Gearbox заменены на наиболее часто встречающиеся в модели</li>\n",
    "<li>RegistrationMonth и RegistrationYear были объеденины в один столбец RegistrationDate, удалены все строки с датами раньше 1965 года и позже апреля 2016</li>\n",
    "<li>В столбце Power удалены данные со значениями меньше 49 и больше 280</li>\n",
    "<li>После предобработки данных мультиколлинеарность не обнаружена</li>\n",
    "</ul>\n",
    "<p>Также, после предобработки данных осталось 9 признаков, 1 целевой признак и 254495 строк.</p>\n",
    "<p>В ходе работы были обучены 4 модели, перед этим признаки были закодированы и масштабированы по отдельно для Линейной регрессии и Дерева решений, отдельно для LightGbm, для CatBoost категориальные признаки были переданы \"как есть\".</p>\n",
    "<p>    \n",
    "Хотя лучшее значение RMSE показала модель CatBoost, но лучшей моделью для заказчика по соотношению качества и времени исполнения является LightGBM Regressor.</p>\n",
    "\n",
    " \n",
    "\n",
    "<table class=\"dataframe\" border=\"1\">\n",
    "<thead>\n",
    "<tr>\n",
    "<th>&nbsp;</th>\n",
    "<th>fit_time</th>\n",
    "<th>predict_time</th>\n",
    "<th>RMSE</th>\n",
    "</tr>\n",
    "</thead>\n",
    "<tbody>\n",
    "<tr>\n",
    "<th>LinearRegression</th>\n",
    "<td>9.530000</td>\n",
    "<td>9.680000</td>\n",
    "<td>1990.24177</td>\n",
    "</tr>\n",
    "<tr>\n",
    "<th>DecisionTreeRegressor</th>\n",
    "<td>4.134173</td>\n",
    "<td>0.059706</td>\n",
    "<td>1595.74815</td>\n",
    "</tr>\n",
    "<tr>\n",
    "<th>LGBMRegressor</th>\n",
    "<td>1.483422</td>\n",
    "<td>0.140581</td>\n",
    "<td>1268.27704</td>\n",
    "</tr>\n",
    "<tr>\n",
    "<th>CatBoostRegressor</th>\n",
    "<td>205.027869</td>\n",
    "<td>0.362867</td>\n",
    "<td>1267.14959</td>\n",
    "</tr>\n",
    "</tbody>\n",
    "</table>\n",
    "\n",
    "RMSE LGBMRegressor на тестовой выборке: 1369.65207"
   ]
  },
  {
   "cell_type": "markdown",
   "metadata": {},
   "source": [
    "<div class=\"alert alert-success\">\n",
    "<b>ОТЛИЧНО! 👍</b>\n",
    "\n",
    "Всё отлично, результат достигнут. \n",
    "\n",
    "Требованиям ТЗ твой проект устраивает. \n",
    "\n",
    "Во первых, для интересующей Заказчика метрики (RMSE) её порог (менее 2500) - достигнут. \n",
    "\n",
    "Во-вторых, оценки времени работы моделей являются реалистичными и позволят использовать модели в проде, на оборудовании Заказчика с требуемой производительноостью.\n",
    "</div>"
   ]
  },
  {
   "cell_type": "markdown",
   "metadata": {},
   "source": [
    "## Чек-лист проверки"
   ]
  },
  {
   "cell_type": "markdown",
   "metadata": {},
   "source": [
    "Поставьте 'x' в выполненных пунктах. Далее нажмите Shift+Enter."
   ]
  },
  {
   "cell_type": "markdown",
   "metadata": {},
   "source": [
    "- [x]  Jupyter Notebook открыт\n",
    "- [x]  Весь код выполняется без ошибок\n",
    "- [x]  Ячейки с кодом расположены в порядке исполнения\n",
    "- [x]  Выполнена загрузка и подготовка данных\n",
    "- [x]  Выполнено обучение моделей\n",
    "- [x]  Есть анализ скорости работы и качества моделей"
   ]
  },
  {
   "cell_type": "markdown",
   "metadata": {},
   "source": [
    "# Результат ревью:\n",
    "\n",
    "Я отмечаю адекватный уровень твоей программистской подготовки. Ты используешь продвинутые концепции языка Python, библиотеки pandas и одной из основных библиотек машинного обучения sckit-learn. Всё это в целом упрощает твой код и одновременно показывает твой уровень владения инструментами анализа данных и machine learning.\n",
    "\n",
    "С комментированием никаких проблем нет. Твоих объяснений достаточно для понимания твоими коллегами хода мыслей. Ссылки из брифа проекта в нужных местах также помогают следовать за развитием событий и дают полную информацию касаемо того, что будет происходить в том или ином разделе проекта.\n",
    "\n",
    "Мне было просто проверять твой проект, потому что он чётко структурирован, с использованием оглавления. \n",
    "\n",
    "Зелёным цветом я отметил и прокомментировал удачные и элегантные решения, на которые ты можешь опираться в будущих проектах.\n",
    "\n",
    "Жёлтым цветом я выделил то, что в следующий раз можно сделать по-другому. Ты можешь учесть эти комментарии при выполнении будущих заданий или доработать проект сейчас.\n",
    "\n",
    "Однако есть принципиальные моменты, которые не позволяют мне принять твой проект в его нынешнем состоянии:\n",
    "\n",
    "<div class=\"alert alert-danger\">\n",
    "<b>Необходимо исправить ❌</b> \n",
    "\n",
    "1. Почему разбиваешь данные только на 2 выборки (и при этом не используешь кросс-валидацию)? В проекте \"Введение в МО\" сколько у тебя было выборок? Для чего в проектах МО используются тренировочная, валидационная и тестовая выборки (в смысле каковы их роли)? Как (на какой выборке) ты будешь проверять модели в разделе \"Тестирование модели\"?\n",
    "</div>\n",
    "\n",
    "Этот момент требует твоего внимания. Комментарий помечен красным цветом.\n",
    "\n",
    "Подводя итог: отличная работа, молодец! Всего один момент к исправлению, и думаю, что он не вызовет у тебя сложностей. Жду доработанную версию проекта на повторное ревью."
   ]
  }
 ],
 "metadata": {
  "ExecuteTimeLog": [
   {
    "duration": 1710,
    "start_time": "2023-05-23T12:05:27.966Z"
   },
   {
    "duration": 1346,
    "start_time": "2023-05-23T12:06:55.238Z"
   },
   {
    "duration": 1039,
    "start_time": "2023-05-23T12:07:02.199Z"
   },
   {
    "duration": 3,
    "start_time": "2023-05-23T12:10:29.870Z"
   },
   {
    "duration": 644,
    "start_time": "2023-05-23T12:10:38.278Z"
   },
   {
    "duration": 3,
    "start_time": "2023-05-23T12:11:53.798Z"
   },
   {
    "duration": 678,
    "start_time": "2023-05-23T12:11:56.598Z"
   },
   {
    "duration": 3,
    "start_time": "2023-05-23T12:12:21.238Z"
   },
   {
    "duration": 720,
    "start_time": "2023-05-23T12:12:22.358Z"
   },
   {
    "duration": 3,
    "start_time": "2023-05-23T12:13:06.118Z"
   },
   {
    "duration": 736,
    "start_time": "2023-05-23T12:13:08.598Z"
   },
   {
    "duration": 3,
    "start_time": "2023-05-23T12:13:22.678Z"
   },
   {
    "duration": 744,
    "start_time": "2023-05-23T12:13:23.558Z"
   },
   {
    "duration": 3,
    "start_time": "2023-05-23T12:13:41.400Z"
   },
   {
    "duration": 749,
    "start_time": "2023-05-23T12:13:42.438Z"
   },
   {
    "duration": 129,
    "start_time": "2023-05-23T12:14:41.410Z"
   },
   {
    "duration": 5,
    "start_time": "2023-05-23T12:16:03.321Z"
   },
   {
    "duration": 124,
    "start_time": "2023-05-23T12:16:25.246Z"
   },
   {
    "duration": 1602,
    "start_time": "2023-05-23T12:16:50.518Z"
   },
   {
    "duration": 1598,
    "start_time": "2023-05-23T12:17:09.406Z"
   },
   {
    "duration": 845,
    "start_time": "2023-05-23T12:18:06.760Z"
   },
   {
    "duration": 10,
    "start_time": "2023-05-23T12:19:48.366Z"
   },
   {
    "duration": 14,
    "start_time": "2023-05-23T12:20:26.598Z"
   },
   {
    "duration": 10468,
    "start_time": "2023-05-23T12:20:49.080Z"
   },
   {
    "duration": 10676,
    "start_time": "2023-05-23T12:21:30.285Z"
   },
   {
    "duration": 822,
    "start_time": "2023-05-23T12:25:27.566Z"
   },
   {
    "duration": 692,
    "start_time": "2023-05-23T12:26:25.806Z"
   },
   {
    "duration": 574,
    "start_time": "2023-05-23T12:28:36.678Z"
   },
   {
    "duration": 64,
    "start_time": "2023-05-23T12:29:19.743Z"
   },
   {
    "duration": 15,
    "start_time": "2023-05-23T12:29:24.277Z"
   },
   {
    "duration": 481,
    "start_time": "2023-05-23T12:29:34.677Z"
   },
   {
    "duration": 436,
    "start_time": "2023-05-23T12:29:38.846Z"
   },
   {
    "duration": 1369,
    "start_time": "2023-05-23T12:31:20.525Z"
   },
   {
    "duration": 8,
    "start_time": "2023-05-23T12:32:32.288Z"
   },
   {
    "duration": 1470,
    "start_time": "2023-05-23T12:32:32.302Z"
   },
   {
    "duration": 1251,
    "start_time": "2023-05-23T12:32:33.776Z"
   },
   {
    "duration": 778,
    "start_time": "2023-05-23T12:32:52.150Z"
   },
   {
    "duration": 496,
    "start_time": "2023-05-23T12:33:24.358Z"
   },
   {
    "duration": 465,
    "start_time": "2023-05-23T12:33:51.799Z"
   },
   {
    "duration": 1005,
    "start_time": "2023-05-23T12:34:19.246Z"
   },
   {
    "duration": 147,
    "start_time": "2023-05-23T12:35:16.681Z"
   },
   {
    "duration": 11,
    "start_time": "2023-05-23T12:44:55.966Z"
   },
   {
    "duration": 34,
    "start_time": "2023-05-23T12:45:14.606Z"
   },
   {
    "duration": 24,
    "start_time": "2023-05-23T12:45:30.127Z"
   },
   {
    "duration": 169,
    "start_time": "2023-05-23T12:45:37.399Z"
   },
   {
    "duration": 26,
    "start_time": "2023-05-23T12:45:41.967Z"
   },
   {
    "duration": 12,
    "start_time": "2023-05-23T12:46:23.167Z"
   },
   {
    "duration": 10,
    "start_time": "2023-05-23T12:47:07.639Z"
   },
   {
    "duration": 14,
    "start_time": "2023-05-23T12:47:17.078Z"
   },
   {
    "duration": 14,
    "start_time": "2023-05-23T12:48:31.551Z"
   },
   {
    "duration": 14,
    "start_time": "2023-05-23T12:48:37.878Z"
   },
   {
    "duration": 51,
    "start_time": "2023-05-23T12:50:55.001Z"
   },
   {
    "duration": 63,
    "start_time": "2023-05-23T12:51:17.718Z"
   },
   {
    "duration": 50,
    "start_time": "2023-05-23T12:51:37.559Z"
   },
   {
    "duration": 45,
    "start_time": "2023-05-23T12:51:43.641Z"
   },
   {
    "duration": 46,
    "start_time": "2023-05-23T12:51:50.610Z"
   },
   {
    "duration": 471,
    "start_time": "2023-05-23T12:52:18.279Z"
   },
   {
    "duration": 143,
    "start_time": "2023-05-23T12:52:32.214Z"
   },
   {
    "duration": 145,
    "start_time": "2023-05-23T12:56:02.279Z"
   },
   {
    "duration": 46,
    "start_time": "2023-05-24T06:28:36.915Z"
   },
   {
    "duration": 1587,
    "start_time": "2023-05-24T06:28:42.764Z"
   },
   {
    "duration": 2737,
    "start_time": "2023-05-24T06:28:44.353Z"
   },
   {
    "duration": 673,
    "start_time": "2023-05-24T06:28:47.091Z"
   },
   {
    "duration": 87,
    "start_time": "2023-05-24T06:28:47.766Z"
   },
   {
    "duration": 446,
    "start_time": "2023-05-24T06:28:47.855Z"
   },
   {
    "duration": 8943,
    "start_time": "2023-05-24T06:28:48.303Z"
   },
   {
    "duration": 165,
    "start_time": "2023-05-24T06:29:00.187Z"
   },
   {
    "duration": 8,
    "start_time": "2023-05-24T06:33:05.466Z"
   },
   {
    "duration": 76,
    "start_time": "2023-05-24T06:39:21.072Z"
   },
   {
    "duration": 9,
    "start_time": "2023-05-24T06:40:54.426Z"
   },
   {
    "duration": 11,
    "start_time": "2023-05-24T06:41:14.759Z"
   },
   {
    "duration": 23,
    "start_time": "2023-05-24T06:41:37.312Z"
   },
   {
    "duration": 11,
    "start_time": "2023-05-24T06:41:57.706Z"
   },
   {
    "duration": 51,
    "start_time": "2023-05-24T06:42:07.967Z"
   },
   {
    "duration": 94,
    "start_time": "2023-05-24T06:42:11.473Z"
   },
   {
    "duration": 109,
    "start_time": "2023-05-24T06:42:17.706Z"
   },
   {
    "duration": 13,
    "start_time": "2023-05-24T06:58:00.819Z"
   },
   {
    "duration": 31360,
    "start_time": "2023-05-24T06:59:54.499Z"
   },
   {
    "duration": 39596,
    "start_time": "2023-05-24T07:01:37.962Z"
   },
   {
    "duration": 204,
    "start_time": "2023-05-24T07:02:21.874Z"
   },
   {
    "duration": 132,
    "start_time": "2023-05-24T07:05:17.364Z"
   },
   {
    "duration": 181,
    "start_time": "2023-05-24T07:05:25.761Z"
   },
   {
    "duration": 335,
    "start_time": "2023-05-24T07:06:01.454Z"
   },
   {
    "duration": 318,
    "start_time": "2023-05-24T07:09:09.977Z"
   },
   {
    "duration": 105,
    "start_time": "2023-05-24T07:23:48.274Z"
   },
   {
    "duration": 82,
    "start_time": "2023-05-24T07:28:27.713Z"
   },
   {
    "duration": 5,
    "start_time": "2023-05-24T07:29:40.099Z"
   },
   {
    "duration": 18,
    "start_time": "2023-05-24T07:29:44.274Z"
   },
   {
    "duration": 5,
    "start_time": "2023-05-24T07:29:53.624Z"
   },
   {
    "duration": 910,
    "start_time": "2023-05-24T07:29:53.631Z"
   },
   {
    "duration": 676,
    "start_time": "2023-05-24T07:29:54.543Z"
   },
   {
    "duration": 88,
    "start_time": "2023-05-24T07:29:55.221Z"
   },
   {
    "duration": 433,
    "start_time": "2023-05-24T07:29:55.311Z"
   },
   {
    "duration": 8670,
    "start_time": "2023-05-24T07:29:55.745Z"
   },
   {
    "duration": 7,
    "start_time": "2023-05-24T07:30:04.417Z"
   },
   {
    "duration": 612,
    "start_time": "2023-05-24T07:30:04.425Z"
   },
   {
    "duration": 877,
    "start_time": "2023-05-24T07:30:05.039Z"
   },
   {
    "duration": 31,
    "start_time": "2023-05-24T07:30:05.917Z"
   },
   {
    "duration": 17,
    "start_time": "2023-05-24T07:30:11.775Z"
   },
   {
    "duration": 232,
    "start_time": "2023-05-24T07:31:51.719Z"
   },
   {
    "duration": 248,
    "start_time": "2023-05-24T07:32:26.265Z"
   },
   {
    "duration": 220,
    "start_time": "2023-05-24T07:32:39.699Z"
   },
   {
    "duration": 10,
    "start_time": "2023-05-24T07:33:03.215Z"
   },
   {
    "duration": 1889,
    "start_time": "2023-05-24T07:33:17.782Z"
   },
   {
    "duration": 429,
    "start_time": "2023-05-24T07:33:29.323Z"
   },
   {
    "duration": 457,
    "start_time": "2023-05-24T07:33:56.720Z"
   },
   {
    "duration": 461,
    "start_time": "2023-05-24T07:34:07.119Z"
   },
   {
    "duration": 492,
    "start_time": "2023-05-24T07:34:43.679Z"
   },
   {
    "duration": 284,
    "start_time": "2023-05-24T07:36:41.512Z"
   },
   {
    "duration": 418,
    "start_time": "2023-05-24T07:36:56.023Z"
   },
   {
    "duration": 289,
    "start_time": "2023-05-24T07:37:12.886Z"
   },
   {
    "duration": 1314,
    "start_time": "2023-05-24T07:37:19.595Z"
   },
   {
    "duration": 297,
    "start_time": "2023-05-24T07:37:29.786Z"
   },
   {
    "duration": 1201,
    "start_time": "2023-05-24T07:39:16.078Z"
   },
   {
    "duration": 112,
    "start_time": "2023-05-24T07:39:25.199Z"
   },
   {
    "duration": 8,
    "start_time": "2023-05-24T07:39:45.067Z"
   },
   {
    "duration": 9,
    "start_time": "2023-05-24T07:39:50.866Z"
   },
   {
    "duration": 15,
    "start_time": "2023-05-24T07:40:08.319Z"
   },
   {
    "duration": 14,
    "start_time": "2023-05-24T07:40:16.719Z"
   },
   {
    "duration": 14,
    "start_time": "2023-05-24T07:40:23.774Z"
   },
   {
    "duration": 15,
    "start_time": "2023-05-24T07:40:31.920Z"
   },
   {
    "duration": 95,
    "start_time": "2023-05-24T07:41:53.474Z"
   },
   {
    "duration": 13,
    "start_time": "2023-05-24T07:45:19.599Z"
   },
   {
    "duration": 13,
    "start_time": "2023-05-24T07:45:30.000Z"
   },
   {
    "duration": 12,
    "start_time": "2023-05-24T07:48:26.166Z"
   },
   {
    "duration": 20,
    "start_time": "2023-05-24T07:48:57.999Z"
   },
   {
    "duration": 14,
    "start_time": "2023-05-24T07:49:14.168Z"
   },
   {
    "duration": 12,
    "start_time": "2023-05-24T07:49:24.802Z"
   },
   {
    "duration": 6,
    "start_time": "2023-05-24T07:49:31.056Z"
   },
   {
    "duration": 921,
    "start_time": "2023-05-24T07:49:31.064Z"
   },
   {
    "duration": 655,
    "start_time": "2023-05-24T07:49:31.987Z"
   },
   {
    "duration": 88,
    "start_time": "2023-05-24T07:49:32.643Z"
   },
   {
    "duration": 384,
    "start_time": "2023-05-24T07:49:32.733Z"
   },
   {
    "duration": 8671,
    "start_time": "2023-05-24T07:49:33.118Z"
   },
   {
    "duration": 7,
    "start_time": "2023-05-24T07:49:41.791Z"
   },
   {
    "duration": 607,
    "start_time": "2023-05-24T07:49:41.799Z"
   },
   {
    "duration": 849,
    "start_time": "2023-05-24T07:49:42.408Z"
   },
   {
    "duration": 38,
    "start_time": "2023-05-24T07:49:43.259Z"
   },
   {
    "duration": 17,
    "start_time": "2023-05-24T07:49:43.299Z"
   },
   {
    "duration": 1918,
    "start_time": "2023-05-24T07:49:43.317Z"
   },
   {
    "duration": 477,
    "start_time": "2023-05-24T07:49:45.236Z"
   },
   {
    "duration": 13,
    "start_time": "2023-05-24T07:49:45.715Z"
   },
   {
    "duration": 13,
    "start_time": "2023-05-24T07:49:48.966Z"
   },
   {
    "duration": 16,
    "start_time": "2023-05-24T07:49:50.966Z"
   },
   {
    "duration": 11,
    "start_time": "2023-05-24T07:50:29.370Z"
   },
   {
    "duration": 10,
    "start_time": "2023-05-24T07:50:36.763Z"
   },
   {
    "duration": 11,
    "start_time": "2023-05-24T07:51:23.862Z"
   },
   {
    "duration": 5,
    "start_time": "2023-05-24T07:51:35.309Z"
   },
   {
    "duration": 744,
    "start_time": "2023-05-24T07:51:35.316Z"
   },
   {
    "duration": 675,
    "start_time": "2023-05-24T07:51:36.062Z"
   },
   {
    "duration": 91,
    "start_time": "2023-05-24T07:51:36.739Z"
   },
   {
    "duration": 441,
    "start_time": "2023-05-24T07:51:36.832Z"
   },
   {
    "duration": 8809,
    "start_time": "2023-05-24T07:51:37.274Z"
   },
   {
    "duration": 7,
    "start_time": "2023-05-24T07:51:46.084Z"
   },
   {
    "duration": 634,
    "start_time": "2023-05-24T07:51:46.093Z"
   },
   {
    "duration": 820,
    "start_time": "2023-05-24T07:51:46.728Z"
   },
   {
    "duration": 36,
    "start_time": "2023-05-24T07:51:47.550Z"
   },
   {
    "duration": 18,
    "start_time": "2023-05-24T07:51:47.588Z"
   },
   {
    "duration": 297,
    "start_time": "2023-05-24T07:51:47.607Z"
   },
   {
    "duration": 453,
    "start_time": "2023-05-24T07:51:47.905Z"
   },
   {
    "duration": 17,
    "start_time": "2023-05-24T07:51:48.361Z"
   },
   {
    "duration": 16,
    "start_time": "2023-05-24T07:51:48.380Z"
   },
   {
    "duration": 29,
    "start_time": "2023-05-24T07:51:57.379Z"
   },
   {
    "duration": 91,
    "start_time": "2023-05-24T07:52:14.810Z"
   },
   {
    "duration": 107,
    "start_time": "2023-05-24T07:52:19.307Z"
   },
   {
    "duration": 115,
    "start_time": "2023-05-24T07:52:23.706Z"
   },
   {
    "duration": 316,
    "start_time": "2023-05-24T07:52:26.460Z"
   },
   {
    "duration": 341,
    "start_time": "2023-05-24T07:52:29.619Z"
   },
   {
    "duration": 92,
    "start_time": "2023-05-24T07:52:32.978Z"
   },
   {
    "duration": 68,
    "start_time": "2023-05-24T07:52:36.419Z"
   },
   {
    "duration": 15,
    "start_time": "2023-05-24T07:54:44.354Z"
   },
   {
    "duration": 277,
    "start_time": "2023-05-24T07:54:59.862Z"
   },
   {
    "duration": 10,
    "start_time": "2023-05-24T07:57:41.058Z"
   },
   {
    "duration": 30,
    "start_time": "2023-05-24T07:57:51.253Z"
   },
   {
    "duration": 231,
    "start_time": "2023-05-24T07:58:25.611Z"
   },
   {
    "duration": 10,
    "start_time": "2023-05-24T07:58:46.979Z"
   },
   {
    "duration": 24,
    "start_time": "2023-05-24T08:00:06.819Z"
   },
   {
    "duration": 46,
    "start_time": "2023-05-24T08:00:26.359Z"
   },
   {
    "duration": 28,
    "start_time": "2023-05-24T08:00:31.777Z"
   },
   {
    "duration": 7,
    "start_time": "2023-05-24T08:09:20.345Z"
   },
   {
    "duration": 7,
    "start_time": "2023-05-24T08:15:45.170Z"
   },
   {
    "duration": 8,
    "start_time": "2023-05-24T08:16:02.979Z"
   },
   {
    "duration": 15,
    "start_time": "2023-05-24T08:16:41.922Z"
   },
   {
    "duration": 10,
    "start_time": "2023-05-24T08:16:51.673Z"
   },
   {
    "duration": 17,
    "start_time": "2023-05-24T08:17:37.570Z"
   },
   {
    "duration": 9,
    "start_time": "2023-05-24T08:21:09.472Z"
   },
   {
    "duration": 11,
    "start_time": "2023-05-24T08:21:19.473Z"
   },
   {
    "duration": 76,
    "start_time": "2023-05-24T08:23:57.385Z"
   },
   {
    "duration": 72,
    "start_time": "2023-05-24T08:24:06.362Z"
   },
   {
    "duration": 68,
    "start_time": "2023-05-24T08:24:29.869Z"
   },
   {
    "duration": 16,
    "start_time": "2023-05-24T08:24:50.403Z"
   },
   {
    "duration": 34,
    "start_time": "2023-05-24T08:25:40.666Z"
   },
   {
    "duration": 9,
    "start_time": "2023-05-24T08:26:02.985Z"
   },
   {
    "duration": 36,
    "start_time": "2023-05-24T08:26:38.170Z"
   },
   {
    "duration": 41,
    "start_time": "2023-05-24T08:27:28.400Z"
   },
   {
    "duration": 29,
    "start_time": "2023-05-24T08:28:00.008Z"
   },
   {
    "duration": 21,
    "start_time": "2023-05-24T08:28:04.981Z"
   },
   {
    "duration": 5,
    "start_time": "2023-05-24T08:32:37.885Z"
   },
   {
    "duration": 774,
    "start_time": "2023-05-24T08:32:37.892Z"
   },
   {
    "duration": 661,
    "start_time": "2023-05-24T08:32:38.668Z"
   },
   {
    "duration": 91,
    "start_time": "2023-05-24T08:32:39.331Z"
   },
   {
    "duration": 404,
    "start_time": "2023-05-24T08:32:39.425Z"
   },
   {
    "duration": 8926,
    "start_time": "2023-05-24T08:32:39.830Z"
   },
   {
    "duration": 6,
    "start_time": "2023-05-24T08:32:48.758Z"
   },
   {
    "duration": 604,
    "start_time": "2023-05-24T08:32:48.766Z"
   },
   {
    "duration": 795,
    "start_time": "2023-05-24T08:32:49.371Z"
   },
   {
    "duration": 30,
    "start_time": "2023-05-24T08:32:50.168Z"
   },
   {
    "duration": 16,
    "start_time": "2023-05-24T08:32:50.200Z"
   },
   {
    "duration": 294,
    "start_time": "2023-05-24T08:32:50.218Z"
   },
   {
    "duration": 465,
    "start_time": "2023-05-24T08:32:50.514Z"
   },
   {
    "duration": 12,
    "start_time": "2023-05-24T08:32:50.982Z"
   },
   {
    "duration": 16,
    "start_time": "2023-05-24T08:32:50.996Z"
   },
   {
    "duration": 30,
    "start_time": "2023-05-24T08:32:51.014Z"
   },
   {
    "duration": 110,
    "start_time": "2023-05-24T08:32:51.045Z"
   },
   {
    "duration": 109,
    "start_time": "2023-05-24T08:32:51.156Z"
   },
   {
    "duration": 127,
    "start_time": "2023-05-24T08:32:51.267Z"
   },
   {
    "duration": 324,
    "start_time": "2023-05-24T08:32:51.396Z"
   },
   {
    "duration": 335,
    "start_time": "2023-05-24T08:32:51.722Z"
   },
   {
    "duration": 100,
    "start_time": "2023-05-24T08:32:52.059Z"
   },
   {
    "duration": 75,
    "start_time": "2023-05-24T08:32:52.161Z"
   },
   {
    "duration": 6,
    "start_time": "2023-05-24T08:32:52.238Z"
   },
   {
    "duration": 1256,
    "start_time": "2023-05-24T08:33:00.798Z"
   },
   {
    "duration": 0,
    "start_time": "2023-05-24T08:33:02.056Z"
   },
   {
    "duration": 25,
    "start_time": "2023-05-24T08:34:23.370Z"
   },
   {
    "duration": 23,
    "start_time": "2023-05-24T08:35:06.398Z"
   },
   {
    "duration": 8,
    "start_time": "2023-05-24T08:35:43.866Z"
   },
   {
    "duration": 25,
    "start_time": "2023-05-24T08:36:10.178Z"
   },
   {
    "duration": 28,
    "start_time": "2023-05-24T08:36:24.798Z"
   },
   {
    "duration": 259,
    "start_time": "2023-05-24T08:37:21.802Z"
   },
   {
    "duration": 107,
    "start_time": "2023-05-24T08:38:16.679Z"
   },
   {
    "duration": 14,
    "start_time": "2023-05-24T08:39:20.693Z"
   },
   {
    "duration": 83,
    "start_time": "2023-05-24T08:39:48.125Z"
   },
   {
    "duration": 11,
    "start_time": "2023-05-24T08:39:55.970Z"
   },
   {
    "duration": 20,
    "start_time": "2023-05-24T08:40:06.382Z"
   },
   {
    "duration": 365,
    "start_time": "2023-05-24T08:40:41.004Z"
   },
   {
    "duration": 9,
    "start_time": "2023-05-24T08:41:39.479Z"
   },
   {
    "duration": 9,
    "start_time": "2023-05-24T08:41:44.595Z"
   },
   {
    "duration": 8,
    "start_time": "2023-05-24T08:41:55.242Z"
   },
   {
    "duration": 7,
    "start_time": "2023-05-24T08:42:02.454Z"
   },
   {
    "duration": 27,
    "start_time": "2023-05-24T08:42:36.508Z"
   },
   {
    "duration": 22,
    "start_time": "2023-05-24T08:42:39.620Z"
   },
   {
    "duration": 43,
    "start_time": "2023-05-24T08:44:23.663Z"
   },
   {
    "duration": 18,
    "start_time": "2023-05-24T08:44:37.766Z"
   },
   {
    "duration": 19,
    "start_time": "2023-05-24T08:44:58.378Z"
   },
   {
    "duration": 31,
    "start_time": "2023-05-24T08:46:02.067Z"
   },
   {
    "duration": 5,
    "start_time": "2023-05-24T08:50:07.001Z"
   },
   {
    "duration": 710,
    "start_time": "2023-05-24T08:50:07.022Z"
   },
   {
    "duration": 656,
    "start_time": "2023-05-24T08:50:07.734Z"
   },
   {
    "duration": 90,
    "start_time": "2023-05-24T08:50:08.392Z"
   },
   {
    "duration": 404,
    "start_time": "2023-05-24T08:50:08.484Z"
   },
   {
    "duration": 9039,
    "start_time": "2023-05-24T08:50:08.890Z"
   },
   {
    "duration": 8,
    "start_time": "2023-05-24T08:50:17.931Z"
   },
   {
    "duration": 628,
    "start_time": "2023-05-24T08:50:17.941Z"
   },
   {
    "duration": 806,
    "start_time": "2023-05-24T08:50:18.571Z"
   },
   {
    "duration": 37,
    "start_time": "2023-05-24T08:50:19.379Z"
   },
   {
    "duration": 31,
    "start_time": "2023-05-24T08:50:19.417Z"
   },
   {
    "duration": 288,
    "start_time": "2023-05-24T08:50:19.450Z"
   },
   {
    "duration": 427,
    "start_time": "2023-05-24T08:50:19.740Z"
   },
   {
    "duration": 12,
    "start_time": "2023-05-24T08:50:20.169Z"
   },
   {
    "duration": 16,
    "start_time": "2023-05-24T08:50:20.183Z"
   },
   {
    "duration": 26,
    "start_time": "2023-05-24T08:50:20.200Z"
   },
   {
    "duration": 103,
    "start_time": "2023-05-24T08:50:20.228Z"
   },
   {
    "duration": 114,
    "start_time": "2023-05-24T08:50:20.333Z"
   },
   {
    "duration": 123,
    "start_time": "2023-05-24T08:50:20.448Z"
   },
   {
    "duration": 319,
    "start_time": "2023-05-24T08:50:20.573Z"
   },
   {
    "duration": 318,
    "start_time": "2023-05-24T08:50:20.894Z"
   },
   {
    "duration": 102,
    "start_time": "2023-05-24T08:50:21.214Z"
   },
   {
    "duration": 77,
    "start_time": "2023-05-24T08:50:21.317Z"
   },
   {
    "duration": 6,
    "start_time": "2023-05-24T08:50:21.395Z"
   },
   {
    "duration": 13,
    "start_time": "2023-05-24T08:50:21.403Z"
   },
   {
    "duration": 23,
    "start_time": "2023-05-24T08:50:21.418Z"
   },
   {
    "duration": 47,
    "start_time": "2023-05-24T08:50:21.442Z"
   },
   {
    "duration": 15,
    "start_time": "2023-05-24T08:50:21.490Z"
   },
   {
    "duration": 6,
    "start_time": "2023-05-24T08:50:26.170Z"
   },
   {
    "duration": 10,
    "start_time": "2023-05-24T08:51:38.124Z"
   },
   {
    "duration": 48,
    "start_time": "2023-05-24T08:52:32.691Z"
   },
   {
    "duration": 24,
    "start_time": "2023-05-24T08:52:52.295Z"
   },
   {
    "duration": 27,
    "start_time": "2023-05-24T08:52:57.412Z"
   },
   {
    "duration": 17,
    "start_time": "2023-05-24T08:53:56.211Z"
   },
   {
    "duration": 15,
    "start_time": "2023-05-24T08:54:11.411Z"
   },
   {
    "duration": 12,
    "start_time": "2023-05-24T08:54:25.667Z"
   },
   {
    "duration": 19,
    "start_time": "2023-05-24T09:06:14.459Z"
   },
   {
    "duration": 9,
    "start_time": "2023-05-24T09:06:18.378Z"
   },
   {
    "duration": 5,
    "start_time": "2023-05-24T09:07:00.958Z"
   },
   {
    "duration": 854,
    "start_time": "2023-05-24T09:07:00.966Z"
   },
   {
    "duration": 666,
    "start_time": "2023-05-24T09:07:01.822Z"
   },
   {
    "duration": 96,
    "start_time": "2023-05-24T09:07:02.490Z"
   },
   {
    "duration": 419,
    "start_time": "2023-05-24T09:07:02.588Z"
   },
   {
    "duration": 8871,
    "start_time": "2023-05-24T09:07:03.008Z"
   },
   {
    "duration": 7,
    "start_time": "2023-05-24T09:07:11.880Z"
   },
   {
    "duration": 628,
    "start_time": "2023-05-24T09:07:11.888Z"
   },
   {
    "duration": 821,
    "start_time": "2023-05-24T09:07:12.518Z"
   },
   {
    "duration": 39,
    "start_time": "2023-05-24T09:07:13.341Z"
   },
   {
    "duration": 18,
    "start_time": "2023-05-24T09:07:13.382Z"
   },
   {
    "duration": 292,
    "start_time": "2023-05-24T09:07:13.402Z"
   },
   {
    "duration": 531,
    "start_time": "2023-05-24T09:07:13.695Z"
   },
   {
    "duration": 14,
    "start_time": "2023-05-24T09:07:14.230Z"
   },
   {
    "duration": 34,
    "start_time": "2023-05-24T09:07:14.245Z"
   },
   {
    "duration": 27,
    "start_time": "2023-05-24T09:07:14.280Z"
   },
   {
    "duration": 91,
    "start_time": "2023-05-24T09:07:14.309Z"
   },
   {
    "duration": 108,
    "start_time": "2023-05-24T09:07:14.402Z"
   },
   {
    "duration": 114,
    "start_time": "2023-05-24T09:07:14.511Z"
   },
   {
    "duration": 337,
    "start_time": "2023-05-24T09:07:14.627Z"
   },
   {
    "duration": 337,
    "start_time": "2023-05-24T09:07:14.966Z"
   },
   {
    "duration": 99,
    "start_time": "2023-05-24T09:07:15.304Z"
   },
   {
    "duration": 72,
    "start_time": "2023-05-24T09:07:15.404Z"
   },
   {
    "duration": 7,
    "start_time": "2023-05-24T09:07:15.477Z"
   },
   {
    "duration": 15,
    "start_time": "2023-05-24T09:07:15.485Z"
   },
   {
    "duration": 25,
    "start_time": "2023-05-24T09:07:15.502Z"
   },
   {
    "duration": 54,
    "start_time": "2023-05-24T09:07:15.529Z"
   },
   {
    "duration": 14,
    "start_time": "2023-05-24T09:07:15.585Z"
   },
   {
    "duration": 7,
    "start_time": "2023-05-24T09:07:15.600Z"
   },
   {
    "duration": 41,
    "start_time": "2023-05-24T09:07:15.609Z"
   },
   {
    "duration": 54,
    "start_time": "2023-05-24T09:07:15.651Z"
   },
   {
    "duration": 11,
    "start_time": "2023-05-24T09:07:15.707Z"
   },
   {
    "duration": 140,
    "start_time": "2023-05-24T09:07:34.925Z"
   },
   {
    "duration": 281,
    "start_time": "2023-05-24T09:07:54.866Z"
   },
   {
    "duration": 383,
    "start_time": "2023-05-24T09:08:18.125Z"
   },
   {
    "duration": 15,
    "start_time": "2023-05-24T09:08:54.204Z"
   },
   {
    "duration": 700,
    "start_time": "2023-05-24T09:09:21.406Z"
   },
   {
    "duration": 297,
    "start_time": "2023-05-24T09:10:12.478Z"
   },
   {
    "duration": 314,
    "start_time": "2023-05-24T09:11:11.978Z"
   },
   {
    "duration": 10,
    "start_time": "2023-05-24T09:11:27.580Z"
   },
   {
    "duration": 11,
    "start_time": "2023-05-24T09:11:52.992Z"
   },
   {
    "duration": 13,
    "start_time": "2023-05-24T09:11:58.378Z"
   },
   {
    "duration": 11,
    "start_time": "2023-05-24T09:12:15.806Z"
   },
   {
    "duration": 11,
    "start_time": "2023-05-24T09:12:22.289Z"
   },
   {
    "duration": 11,
    "start_time": "2023-05-24T09:12:25.582Z"
   },
   {
    "duration": 71,
    "start_time": "2023-05-24T09:13:33.575Z"
   },
   {
    "duration": 32,
    "start_time": "2023-05-24T09:13:44.512Z"
   },
   {
    "duration": 27,
    "start_time": "2023-05-24T09:14:28.469Z"
   },
   {
    "duration": 5,
    "start_time": "2023-05-24T09:15:15.818Z"
   },
   {
    "duration": 728,
    "start_time": "2023-05-24T09:15:15.825Z"
   },
   {
    "duration": 624,
    "start_time": "2023-05-24T09:15:16.555Z"
   },
   {
    "duration": 95,
    "start_time": "2023-05-24T09:15:17.181Z"
   },
   {
    "duration": 419,
    "start_time": "2023-05-24T09:15:17.278Z"
   },
   {
    "duration": 8524,
    "start_time": "2023-05-24T09:15:17.699Z"
   },
   {
    "duration": 11,
    "start_time": "2023-05-24T09:15:26.225Z"
   },
   {
    "duration": 661,
    "start_time": "2023-05-24T09:15:26.238Z"
   },
   {
    "duration": 859,
    "start_time": "2023-05-24T09:15:26.900Z"
   },
   {
    "duration": 46,
    "start_time": "2023-05-24T09:15:27.760Z"
   },
   {
    "duration": 26,
    "start_time": "2023-05-24T09:15:27.807Z"
   },
   {
    "duration": 319,
    "start_time": "2023-05-24T09:15:27.835Z"
   },
   {
    "duration": 494,
    "start_time": "2023-05-24T09:15:28.155Z"
   },
   {
    "duration": 12,
    "start_time": "2023-05-24T09:15:28.652Z"
   },
   {
    "duration": 23,
    "start_time": "2023-05-24T09:15:28.666Z"
   },
   {
    "duration": 31,
    "start_time": "2023-05-24T09:15:28.690Z"
   },
   {
    "duration": 107,
    "start_time": "2023-05-24T09:15:28.723Z"
   },
   {
    "duration": 118,
    "start_time": "2023-05-24T09:15:28.831Z"
   },
   {
    "duration": 138,
    "start_time": "2023-05-24T09:15:28.951Z"
   },
   {
    "duration": 337,
    "start_time": "2023-05-24T09:15:29.090Z"
   },
   {
    "duration": 330,
    "start_time": "2023-05-24T09:15:29.429Z"
   },
   {
    "duration": 98,
    "start_time": "2023-05-24T09:15:29.760Z"
   },
   {
    "duration": 72,
    "start_time": "2023-05-24T09:15:29.860Z"
   },
   {
    "duration": 8,
    "start_time": "2023-05-24T09:15:32.687Z"
   },
   {
    "duration": 15,
    "start_time": "2023-05-24T09:15:37.407Z"
   },
   {
    "duration": 25,
    "start_time": "2023-05-24T09:15:39.405Z"
   },
   {
    "duration": 25,
    "start_time": "2023-05-24T09:15:40.693Z"
   },
   {
    "duration": 16,
    "start_time": "2023-05-24T09:15:45.005Z"
   },
   {
    "duration": 8,
    "start_time": "2023-05-24T09:15:51.712Z"
   },
   {
    "duration": 37,
    "start_time": "2023-05-24T09:15:53.413Z"
   },
   {
    "duration": 24,
    "start_time": "2023-05-24T09:16:15.805Z"
   },
   {
    "duration": 14,
    "start_time": "2023-05-24T09:16:17.254Z"
   },
   {
    "duration": 139,
    "start_time": "2023-05-24T09:16:22.124Z"
   },
   {
    "duration": 15,
    "start_time": "2023-05-24T09:16:23.720Z"
   },
   {
    "duration": 326,
    "start_time": "2023-05-24T09:16:24.774Z"
   },
   {
    "duration": 13,
    "start_time": "2023-05-24T09:16:28.286Z"
   },
   {
    "duration": 72,
    "start_time": "2023-05-24T09:16:29.982Z"
   },
   {
    "duration": 15,
    "start_time": "2023-05-24T09:17:53.094Z"
   },
   {
    "duration": 21,
    "start_time": "2023-05-24T09:18:10.682Z"
   },
   {
    "duration": 7,
    "start_time": "2023-05-24T09:18:31.015Z"
   },
   {
    "duration": 828,
    "start_time": "2023-05-24T09:18:31.024Z"
   },
   {
    "duration": 669,
    "start_time": "2023-05-24T09:18:31.854Z"
   },
   {
    "duration": 102,
    "start_time": "2023-05-24T09:18:32.525Z"
   },
   {
    "duration": 461,
    "start_time": "2023-05-24T09:18:32.630Z"
   },
   {
    "duration": 8766,
    "start_time": "2023-05-24T09:18:33.093Z"
   },
   {
    "duration": 7,
    "start_time": "2023-05-24T09:18:41.860Z"
   },
   {
    "duration": 632,
    "start_time": "2023-05-24T09:18:41.875Z"
   },
   {
    "duration": 863,
    "start_time": "2023-05-24T09:18:42.508Z"
   },
   {
    "duration": 38,
    "start_time": "2023-05-24T09:18:43.374Z"
   },
   {
    "duration": 20,
    "start_time": "2023-05-24T09:18:43.414Z"
   },
   {
    "duration": 311,
    "start_time": "2023-05-24T09:18:43.435Z"
   },
   {
    "duration": 967,
    "start_time": "2023-05-24T09:18:43.748Z"
   },
   {
    "duration": 12,
    "start_time": "2023-05-24T09:18:44.718Z"
   },
   {
    "duration": 16,
    "start_time": "2023-05-24T09:18:44.732Z"
   },
   {
    "duration": 54,
    "start_time": "2023-05-24T09:18:44.750Z"
   },
   {
    "duration": 100,
    "start_time": "2023-05-24T09:18:44.806Z"
   },
   {
    "duration": 116,
    "start_time": "2023-05-24T09:18:44.908Z"
   },
   {
    "duration": 138,
    "start_time": "2023-05-24T09:18:45.025Z"
   },
   {
    "duration": 314,
    "start_time": "2023-05-24T09:18:45.165Z"
   },
   {
    "duration": 329,
    "start_time": "2023-05-24T09:18:45.480Z"
   },
   {
    "duration": 102,
    "start_time": "2023-05-24T09:18:45.811Z"
   },
   {
    "duration": 72,
    "start_time": "2023-05-24T09:18:45.914Z"
   },
   {
    "duration": 5,
    "start_time": "2023-05-24T09:18:53.006Z"
   },
   {
    "duration": 16,
    "start_time": "2023-05-24T09:19:13.492Z"
   },
   {
    "duration": 7,
    "start_time": "2023-05-24T09:19:20.912Z"
   },
   {
    "duration": 6,
    "start_time": "2023-05-24T09:21:57.762Z"
   },
   {
    "duration": 7,
    "start_time": "2023-05-24T09:21:59.013Z"
   },
   {
    "duration": 6,
    "start_time": "2023-05-24T09:22:25.974Z"
   },
   {
    "duration": 802,
    "start_time": "2023-05-24T09:22:25.981Z"
   },
   {
    "duration": 651,
    "start_time": "2023-05-24T09:22:26.784Z"
   },
   {
    "duration": 96,
    "start_time": "2023-05-24T09:22:27.436Z"
   },
   {
    "duration": 428,
    "start_time": "2023-05-24T09:22:27.534Z"
   },
   {
    "duration": 9111,
    "start_time": "2023-05-24T09:22:27.964Z"
   },
   {
    "duration": 8,
    "start_time": "2023-05-24T09:22:37.076Z"
   },
   {
    "duration": 628,
    "start_time": "2023-05-24T09:22:37.085Z"
   },
   {
    "duration": 900,
    "start_time": "2023-05-24T09:22:37.715Z"
   },
   {
    "duration": 42,
    "start_time": "2023-05-24T09:22:38.617Z"
   },
   {
    "duration": 20,
    "start_time": "2023-05-24T09:22:38.674Z"
   },
   {
    "duration": 331,
    "start_time": "2023-05-24T09:22:38.696Z"
   },
   {
    "duration": 490,
    "start_time": "2023-05-24T09:22:39.029Z"
   },
   {
    "duration": 13,
    "start_time": "2023-05-24T09:22:39.522Z"
   },
   {
    "duration": 19,
    "start_time": "2023-05-24T09:22:39.537Z"
   },
   {
    "duration": 30,
    "start_time": "2023-05-24T09:22:39.574Z"
   },
   {
    "duration": 91,
    "start_time": "2023-05-24T09:22:39.606Z"
   },
   {
    "duration": 107,
    "start_time": "2023-05-24T09:22:39.699Z"
   },
   {
    "duration": 125,
    "start_time": "2023-05-24T09:22:39.808Z"
   },
   {
    "duration": 355,
    "start_time": "2023-05-24T09:22:39.935Z"
   },
   {
    "duration": 328,
    "start_time": "2023-05-24T09:22:40.292Z"
   },
   {
    "duration": 102,
    "start_time": "2023-05-24T09:22:40.622Z"
   },
   {
    "duration": 76,
    "start_time": "2023-05-24T09:22:40.725Z"
   },
   {
    "duration": 6,
    "start_time": "2023-05-24T09:22:40.803Z"
   },
   {
    "duration": 15,
    "start_time": "2023-05-24T09:22:51.885Z"
   },
   {
    "duration": 7,
    "start_time": "2023-05-24T09:22:52.697Z"
   },
   {
    "duration": 35,
    "start_time": "2023-05-24T09:23:04.062Z"
   },
   {
    "duration": 25,
    "start_time": "2023-05-24T09:23:04.992Z"
   },
   {
    "duration": 16,
    "start_time": "2023-05-24T09:23:07.270Z"
   },
   {
    "duration": 7,
    "start_time": "2023-05-24T09:23:16.926Z"
   },
   {
    "duration": 40,
    "start_time": "2023-05-24T09:23:19.090Z"
   },
   {
    "duration": 25,
    "start_time": "2023-05-24T09:23:29.005Z"
   },
   {
    "duration": 12,
    "start_time": "2023-05-24T09:23:35.884Z"
   },
   {
    "duration": 13,
    "start_time": "2023-05-24T09:25:40.285Z"
   },
   {
    "duration": 12,
    "start_time": "2023-05-24T09:26:08.866Z"
   },
   {
    "duration": 137,
    "start_time": "2023-05-24T09:27:10.262Z"
   },
   {
    "duration": 18,
    "start_time": "2023-05-24T09:27:14.174Z"
   },
   {
    "duration": 292,
    "start_time": "2023-05-24T09:27:16.320Z"
   },
   {
    "duration": 12,
    "start_time": "2023-05-24T09:27:19.272Z"
   },
   {
    "duration": 77,
    "start_time": "2023-05-24T09:27:22.390Z"
   },
   {
    "duration": 5,
    "start_time": "2023-05-24T09:27:52.578Z"
   },
   {
    "duration": 760,
    "start_time": "2023-05-24T09:27:52.585Z"
   },
   {
    "duration": 679,
    "start_time": "2023-05-24T09:27:53.347Z"
   },
   {
    "duration": 115,
    "start_time": "2023-05-24T09:27:54.029Z"
   },
   {
    "duration": 418,
    "start_time": "2023-05-24T09:27:54.147Z"
   },
   {
    "duration": 8802,
    "start_time": "2023-05-24T09:27:54.566Z"
   },
   {
    "duration": 8,
    "start_time": "2023-05-24T09:28:03.369Z"
   },
   {
    "duration": 632,
    "start_time": "2023-05-24T09:28:03.379Z"
   },
   {
    "duration": 908,
    "start_time": "2023-05-24T09:28:04.012Z"
   },
   {
    "duration": 39,
    "start_time": "2023-05-24T09:28:04.922Z"
   },
   {
    "duration": 18,
    "start_time": "2023-05-24T09:28:04.976Z"
   },
   {
    "duration": 311,
    "start_time": "2023-05-24T09:28:04.995Z"
   },
   {
    "duration": 501,
    "start_time": "2023-05-24T09:28:05.308Z"
   },
   {
    "duration": 12,
    "start_time": "2023-05-24T09:28:05.813Z"
   },
   {
    "duration": 21,
    "start_time": "2023-05-24T09:28:05.826Z"
   },
   {
    "duration": 52,
    "start_time": "2023-05-24T09:28:05.849Z"
   },
   {
    "duration": 94,
    "start_time": "2023-05-24T09:28:05.903Z"
   },
   {
    "duration": 127,
    "start_time": "2023-05-24T09:28:05.998Z"
   },
   {
    "duration": 136,
    "start_time": "2023-05-24T09:28:06.126Z"
   },
   {
    "duration": 332,
    "start_time": "2023-05-24T09:28:06.264Z"
   },
   {
    "duration": 324,
    "start_time": "2023-05-24T09:28:06.598Z"
   },
   {
    "duration": 103,
    "start_time": "2023-05-24T09:28:06.923Z"
   },
   {
    "duration": 71,
    "start_time": "2023-05-24T09:28:07.028Z"
   },
   {
    "duration": 5,
    "start_time": "2023-05-24T09:28:07.101Z"
   },
   {
    "duration": 14,
    "start_time": "2023-05-24T09:28:07.108Z"
   },
   {
    "duration": 6,
    "start_time": "2023-05-24T09:28:07.124Z"
   },
   {
    "duration": 46,
    "start_time": "2023-05-24T09:28:07.132Z"
   },
   {
    "duration": 29,
    "start_time": "2023-05-24T09:28:07.180Z"
   },
   {
    "duration": 14,
    "start_time": "2023-05-24T09:28:07.210Z"
   },
   {
    "duration": 7,
    "start_time": "2023-05-24T09:28:07.226Z"
   },
   {
    "duration": 61,
    "start_time": "2023-05-24T09:28:07.235Z"
   },
   {
    "duration": 24,
    "start_time": "2023-05-24T09:28:07.298Z"
   },
   {
    "duration": 12,
    "start_time": "2023-05-24T09:28:07.324Z"
   },
   {
    "duration": 26,
    "start_time": "2023-05-24T09:28:16.091Z"
   },
   {
    "duration": 1051,
    "start_time": "2023-05-24T09:32:55.770Z"
   },
   {
    "duration": 23,
    "start_time": "2023-05-24T09:33:31.602Z"
   },
   {
    "duration": 10,
    "start_time": "2023-05-24T09:34:22.458Z"
   },
   {
    "duration": 394,
    "start_time": "2023-05-24T09:34:51.194Z"
   },
   {
    "duration": 616,
    "start_time": "2023-05-24T09:35:25.601Z"
   },
   {
    "duration": 5,
    "start_time": "2023-05-24T09:36:42.582Z"
   },
   {
    "duration": 492,
    "start_time": "2023-05-24T09:36:43.602Z"
   },
   {
    "duration": 50,
    "start_time": "2023-05-24T09:36:52.686Z"
   },
   {
    "duration": 33,
    "start_time": "2023-05-24T09:37:00.507Z"
   },
   {
    "duration": 107,
    "start_time": "2023-05-24T09:38:20.895Z"
   },
   {
    "duration": 13,
    "start_time": "2023-05-24T09:38:37.870Z"
   },
   {
    "duration": 27,
    "start_time": "2023-05-24T09:38:43.203Z"
   },
   {
    "duration": 805,
    "start_time": "2023-05-24T09:38:43.232Z"
   },
   {
    "duration": 722,
    "start_time": "2023-05-24T09:38:44.039Z"
   },
   {
    "duration": 92,
    "start_time": "2023-05-24T09:38:44.763Z"
   },
   {
    "duration": 435,
    "start_time": "2023-05-24T09:38:44.857Z"
   },
   {
    "duration": 3357,
    "start_time": "2023-05-24T09:38:45.294Z"
   },
   {
    "duration": 0,
    "start_time": "2023-05-24T09:38:48.655Z"
   },
   {
    "duration": 0,
    "start_time": "2023-05-24T09:38:48.656Z"
   },
   {
    "duration": 0,
    "start_time": "2023-05-24T09:38:48.658Z"
   },
   {
    "duration": 0,
    "start_time": "2023-05-24T09:38:48.659Z"
   },
   {
    "duration": 0,
    "start_time": "2023-05-24T09:38:48.660Z"
   },
   {
    "duration": 0,
    "start_time": "2023-05-24T09:38:48.675Z"
   },
   {
    "duration": 0,
    "start_time": "2023-05-24T09:38:48.676Z"
   },
   {
    "duration": 0,
    "start_time": "2023-05-24T09:38:48.678Z"
   },
   {
    "duration": 0,
    "start_time": "2023-05-24T09:38:48.680Z"
   },
   {
    "duration": 0,
    "start_time": "2023-05-24T09:38:48.681Z"
   },
   {
    "duration": 0,
    "start_time": "2023-05-24T09:38:48.682Z"
   },
   {
    "duration": 0,
    "start_time": "2023-05-24T09:38:48.684Z"
   },
   {
    "duration": 0,
    "start_time": "2023-05-24T09:38:48.685Z"
   },
   {
    "duration": 0,
    "start_time": "2023-05-24T09:38:48.687Z"
   },
   {
    "duration": 0,
    "start_time": "2023-05-24T09:38:48.688Z"
   },
   {
    "duration": 0,
    "start_time": "2023-05-24T09:38:48.690Z"
   },
   {
    "duration": 0,
    "start_time": "2023-05-24T09:38:48.691Z"
   },
   {
    "duration": 0,
    "start_time": "2023-05-24T09:38:48.693Z"
   },
   {
    "duration": 0,
    "start_time": "2023-05-24T09:38:48.694Z"
   },
   {
    "duration": 0,
    "start_time": "2023-05-24T09:38:48.696Z"
   },
   {
    "duration": 0,
    "start_time": "2023-05-24T09:38:48.697Z"
   },
   {
    "duration": 0,
    "start_time": "2023-05-24T09:38:48.699Z"
   },
   {
    "duration": 0,
    "start_time": "2023-05-24T09:38:48.700Z"
   },
   {
    "duration": 0,
    "start_time": "2023-05-24T09:38:48.701Z"
   },
   {
    "duration": 0,
    "start_time": "2023-05-24T09:38:48.703Z"
   },
   {
    "duration": 0,
    "start_time": "2023-05-24T09:38:48.704Z"
   },
   {
    "duration": 0,
    "start_time": "2023-05-24T09:38:48.705Z"
   },
   {
    "duration": 0,
    "start_time": "2023-05-24T09:38:48.707Z"
   },
   {
    "duration": 0,
    "start_time": "2023-05-24T09:38:48.708Z"
   },
   {
    "duration": 0,
    "start_time": "2023-05-24T09:38:48.709Z"
   },
   {
    "duration": 0,
    "start_time": "2023-05-24T09:38:48.710Z"
   },
   {
    "duration": 0,
    "start_time": "2023-05-24T09:38:48.711Z"
   },
   {
    "duration": 0,
    "start_time": "2023-05-24T09:38:48.712Z"
   },
   {
    "duration": 0,
    "start_time": "2023-05-24T09:38:48.713Z"
   },
   {
    "duration": 0,
    "start_time": "2023-05-24T09:38:48.714Z"
   },
   {
    "duration": 5,
    "start_time": "2023-05-24T09:38:57.314Z"
   },
   {
    "duration": 777,
    "start_time": "2023-05-24T09:38:57.321Z"
   },
   {
    "duration": 701,
    "start_time": "2023-05-24T09:38:58.100Z"
   },
   {
    "duration": 92,
    "start_time": "2023-05-24T09:38:58.802Z"
   },
   {
    "duration": 440,
    "start_time": "2023-05-24T09:38:58.896Z"
   },
   {
    "duration": 8930,
    "start_time": "2023-05-24T09:38:59.338Z"
   },
   {
    "duration": 7,
    "start_time": "2023-05-24T09:39:08.274Z"
   },
   {
    "duration": 651,
    "start_time": "2023-05-24T09:39:08.283Z"
   },
   {
    "duration": 863,
    "start_time": "2023-05-24T09:39:08.936Z"
   },
   {
    "duration": 31,
    "start_time": "2023-05-24T09:39:09.800Z"
   },
   {
    "duration": 17,
    "start_time": "2023-05-24T09:39:09.833Z"
   },
   {
    "duration": 325,
    "start_time": "2023-05-24T09:39:09.852Z"
   },
   {
    "duration": 490,
    "start_time": "2023-05-24T09:39:10.179Z"
   },
   {
    "duration": 12,
    "start_time": "2023-05-24T09:39:10.674Z"
   },
   {
    "duration": 17,
    "start_time": "2023-05-24T09:39:10.688Z"
   },
   {
    "duration": 32,
    "start_time": "2023-05-24T09:39:10.707Z"
   },
   {
    "duration": 122,
    "start_time": "2023-05-24T09:39:10.741Z"
   },
   {
    "duration": 116,
    "start_time": "2023-05-24T09:39:10.864Z"
   },
   {
    "duration": 127,
    "start_time": "2023-05-24T09:39:10.981Z"
   },
   {
    "duration": 343,
    "start_time": "2023-05-24T09:39:11.109Z"
   },
   {
    "duration": 326,
    "start_time": "2023-05-24T09:39:11.454Z"
   },
   {
    "duration": 107,
    "start_time": "2023-05-24T09:39:11.782Z"
   },
   {
    "duration": 66,
    "start_time": "2023-05-24T09:39:11.891Z"
   },
   {
    "duration": 7,
    "start_time": "2023-05-24T09:39:11.975Z"
   },
   {
    "duration": 16,
    "start_time": "2023-05-24T09:39:11.983Z"
   },
   {
    "duration": 6,
    "start_time": "2023-05-24T09:39:12.000Z"
   },
   {
    "duration": 24,
    "start_time": "2023-05-24T09:39:12.008Z"
   },
   {
    "duration": 59,
    "start_time": "2023-05-24T09:39:12.033Z"
   },
   {
    "duration": 22,
    "start_time": "2023-05-24T09:39:12.094Z"
   },
   {
    "duration": 9,
    "start_time": "2023-05-24T09:39:12.117Z"
   },
   {
    "duration": 56,
    "start_time": "2023-05-24T09:39:12.128Z"
   },
   {
    "duration": 27,
    "start_time": "2023-05-24T09:39:12.186Z"
   },
   {
    "duration": 14,
    "start_time": "2023-05-24T09:39:12.214Z"
   },
   {
    "duration": 8,
    "start_time": "2023-05-24T09:39:12.229Z"
   },
   {
    "duration": 485,
    "start_time": "2023-05-24T09:39:12.238Z"
   },
   {
    "duration": 65,
    "start_time": "2023-05-24T09:39:12.724Z"
   },
   {
    "duration": 104,
    "start_time": "2023-05-24T09:39:26.320Z"
   },
   {
    "duration": 15,
    "start_time": "2023-05-24T09:41:29.290Z"
   },
   {
    "duration": 1142,
    "start_time": "2023-05-24T09:41:29.308Z"
   },
   {
    "duration": 749,
    "start_time": "2023-05-24T09:41:30.452Z"
   },
   {
    "duration": 101,
    "start_time": "2023-05-24T09:41:31.203Z"
   },
   {
    "duration": 542,
    "start_time": "2023-05-24T09:41:31.307Z"
   },
   {
    "duration": 9798,
    "start_time": "2023-05-24T09:41:31.851Z"
   },
   {
    "duration": 8,
    "start_time": "2023-05-24T09:41:41.651Z"
   },
   {
    "duration": 716,
    "start_time": "2023-05-24T09:41:41.661Z"
   },
   {
    "duration": 924,
    "start_time": "2023-05-24T09:41:42.378Z"
   },
   {
    "duration": 30,
    "start_time": "2023-05-24T09:41:43.306Z"
   },
   {
    "duration": 40,
    "start_time": "2023-05-24T09:41:43.338Z"
   },
   {
    "duration": 316,
    "start_time": "2023-05-24T09:41:43.380Z"
   },
   {
    "duration": 598,
    "start_time": "2023-05-24T09:41:43.698Z"
   },
   {
    "duration": 16,
    "start_time": "2023-05-24T09:41:44.299Z"
   },
   {
    "duration": 34,
    "start_time": "2023-05-24T09:41:44.317Z"
   },
   {
    "duration": 50,
    "start_time": "2023-05-24T09:41:44.353Z"
   },
   {
    "duration": 112,
    "start_time": "2023-05-24T09:41:44.405Z"
   },
   {
    "duration": 116,
    "start_time": "2023-05-24T09:41:44.519Z"
   },
   {
    "duration": 135,
    "start_time": "2023-05-24T09:41:44.637Z"
   },
   {
    "duration": 381,
    "start_time": "2023-05-24T09:41:44.775Z"
   },
   {
    "duration": 371,
    "start_time": "2023-05-24T09:41:45.159Z"
   },
   {
    "duration": 194,
    "start_time": "2023-05-24T09:41:45.532Z"
   },
   {
    "duration": 83,
    "start_time": "2023-05-24T09:41:45.727Z"
   },
   {
    "duration": 6,
    "start_time": "2023-05-24T09:41:45.812Z"
   },
   {
    "duration": 17,
    "start_time": "2023-05-24T09:41:45.819Z"
   },
   {
    "duration": 7,
    "start_time": "2023-05-24T09:41:45.838Z"
   },
   {
    "duration": 46,
    "start_time": "2023-05-24T09:41:45.847Z"
   },
   {
    "duration": 50,
    "start_time": "2023-05-24T09:41:45.897Z"
   },
   {
    "duration": 32,
    "start_time": "2023-05-24T09:41:45.949Z"
   },
   {
    "duration": 10,
    "start_time": "2023-05-24T09:41:45.984Z"
   },
   {
    "duration": 39,
    "start_time": "2023-05-24T09:41:45.996Z"
   },
   {
    "duration": 71,
    "start_time": "2023-05-24T09:41:46.037Z"
   },
   {
    "duration": 15,
    "start_time": "2023-05-24T09:41:46.112Z"
   },
   {
    "duration": 6,
    "start_time": "2023-05-24T09:41:46.129Z"
   },
   {
    "duration": 513,
    "start_time": "2023-05-24T09:41:46.137Z"
   },
   {
    "duration": 73,
    "start_time": "2023-05-24T09:41:51.062Z"
   },
   {
    "duration": 108,
    "start_time": "2023-05-24T09:41:52.266Z"
   },
   {
    "duration": 4,
    "start_time": "2023-05-24T09:42:49.066Z"
   },
   {
    "duration": 40,
    "start_time": "2023-05-24T09:42:58.886Z"
   },
   {
    "duration": 53,
    "start_time": "2023-05-24T09:43:22.320Z"
   },
   {
    "duration": 16,
    "start_time": "2023-05-24T09:55:24.170Z"
   },
   {
    "duration": 43,
    "start_time": "2023-05-24T09:56:18.658Z"
   },
   {
    "duration": 15,
    "start_time": "2023-05-24T09:56:39.920Z"
   },
   {
    "duration": 351,
    "start_time": "2023-05-24T09:56:45.055Z"
   },
   {
    "duration": 10,
    "start_time": "2023-05-24T09:56:49.126Z"
   },
   {
    "duration": 35,
    "start_time": "2023-05-24T09:56:52.000Z"
   },
   {
    "duration": 10,
    "start_time": "2023-05-24T09:57:11.362Z"
   },
   {
    "duration": 10,
    "start_time": "2023-05-24T09:57:17.190Z"
   },
   {
    "duration": 37,
    "start_time": "2023-05-24T10:00:56.399Z"
   },
   {
    "duration": 25,
    "start_time": "2023-05-24T10:01:00.414Z"
   },
   {
    "duration": 7,
    "start_time": "2023-05-24T10:03:44.679Z"
   },
   {
    "duration": 931,
    "start_time": "2023-05-24T10:03:44.689Z"
   },
   {
    "duration": 719,
    "start_time": "2023-05-24T10:03:45.622Z"
   },
   {
    "duration": 100,
    "start_time": "2023-05-24T10:03:46.344Z"
   },
   {
    "duration": 448,
    "start_time": "2023-05-24T10:03:46.445Z"
   },
   {
    "duration": 10069,
    "start_time": "2023-05-24T10:03:46.895Z"
   },
   {
    "duration": 17,
    "start_time": "2023-05-24T10:03:56.965Z"
   },
   {
    "duration": 659,
    "start_time": "2023-05-24T10:03:56.983Z"
   },
   {
    "duration": 984,
    "start_time": "2023-05-24T10:03:57.645Z"
   },
   {
    "duration": 30,
    "start_time": "2023-05-24T10:03:58.632Z"
   },
   {
    "duration": 31,
    "start_time": "2023-05-24T10:03:58.664Z"
   },
   {
    "duration": 325,
    "start_time": "2023-05-24T10:03:58.696Z"
   },
   {
    "duration": 519,
    "start_time": "2023-05-24T10:03:59.023Z"
   },
   {
    "duration": 13,
    "start_time": "2023-05-24T10:03:59.544Z"
   },
   {
    "duration": 36,
    "start_time": "2023-05-24T10:03:59.559Z"
   },
   {
    "duration": 29,
    "start_time": "2023-05-24T10:03:59.598Z"
   },
   {
    "duration": 97,
    "start_time": "2023-05-24T10:03:59.628Z"
   },
   {
    "duration": 123,
    "start_time": "2023-05-24T10:03:59.726Z"
   },
   {
    "duration": 129,
    "start_time": "2023-05-24T10:03:59.851Z"
   },
   {
    "duration": 368,
    "start_time": "2023-05-24T10:03:59.981Z"
   },
   {
    "duration": 348,
    "start_time": "2023-05-24T10:04:00.351Z"
   },
   {
    "duration": 119,
    "start_time": "2023-05-24T10:04:00.701Z"
   },
   {
    "duration": 89,
    "start_time": "2023-05-24T10:04:00.822Z"
   },
   {
    "duration": 5,
    "start_time": "2023-05-24T10:04:00.913Z"
   },
   {
    "duration": 66,
    "start_time": "2023-05-24T10:04:00.920Z"
   },
   {
    "duration": 48,
    "start_time": "2023-05-24T10:04:00.990Z"
   },
   {
    "duration": 104,
    "start_time": "2023-05-24T10:04:01.039Z"
   },
   {
    "duration": 97,
    "start_time": "2023-05-24T10:04:01.146Z"
   },
   {
    "duration": 60,
    "start_time": "2023-05-24T10:04:01.245Z"
   },
   {
    "duration": 91,
    "start_time": "2023-05-24T10:04:01.307Z"
   },
   {
    "duration": 120,
    "start_time": "2023-05-24T10:04:01.399Z"
   },
   {
    "duration": 29,
    "start_time": "2023-05-24T10:04:08.966Z"
   },
   {
    "duration": 21,
    "start_time": "2023-05-24T10:04:12.577Z"
   },
   {
    "duration": 5,
    "start_time": "2023-05-24T10:04:21.366Z"
   },
   {
    "duration": 528,
    "start_time": "2023-05-24T10:04:22.487Z"
   },
   {
    "duration": 61,
    "start_time": "2023-05-24T10:04:39.286Z"
   },
   {
    "duration": 85,
    "start_time": "2023-05-24T10:04:40.982Z"
   },
   {
    "duration": 50,
    "start_time": "2023-05-24T10:04:51.866Z"
   },
   {
    "duration": 18,
    "start_time": "2023-05-24T10:04:56.262Z"
   },
   {
    "duration": 320,
    "start_time": "2023-05-24T10:04:58.718Z"
   },
   {
    "duration": 15,
    "start_time": "2023-05-24T10:05:02.174Z"
   },
   {
    "duration": 43,
    "start_time": "2023-05-24T10:05:04.082Z"
   },
   {
    "duration": 341,
    "start_time": "2023-05-24T10:13:40.188Z"
   },
   {
    "duration": 10,
    "start_time": "2023-05-24T10:20:02.588Z"
   },
   {
    "duration": 3392,
    "start_time": "2023-05-24T10:20:49.874Z"
   },
   {
    "duration": 1426,
    "start_time": "2023-05-24T10:21:16.807Z"
   },
   {
    "duration": 862,
    "start_time": "2023-05-24T10:21:18.235Z"
   },
   {
    "duration": 722,
    "start_time": "2023-05-24T10:21:19.098Z"
   },
   {
    "duration": 100,
    "start_time": "2023-05-24T10:21:19.821Z"
   },
   {
    "duration": 482,
    "start_time": "2023-05-24T10:21:19.923Z"
   },
   {
    "duration": 9414,
    "start_time": "2023-05-24T10:21:20.406Z"
   },
   {
    "duration": 7,
    "start_time": "2023-05-24T10:21:29.822Z"
   },
   {
    "duration": 656,
    "start_time": "2023-05-24T10:21:29.830Z"
   },
   {
    "duration": 1052,
    "start_time": "2023-05-24T10:21:30.489Z"
   },
   {
    "duration": 49,
    "start_time": "2023-05-24T10:21:31.543Z"
   },
   {
    "duration": 19,
    "start_time": "2023-05-24T10:21:31.594Z"
   },
   {
    "duration": 330,
    "start_time": "2023-05-24T10:21:31.614Z"
   },
   {
    "duration": 524,
    "start_time": "2023-05-24T10:21:31.946Z"
   },
   {
    "duration": 19,
    "start_time": "2023-05-24T10:21:32.473Z"
   },
   {
    "duration": 19,
    "start_time": "2023-05-24T10:21:32.494Z"
   },
   {
    "duration": 36,
    "start_time": "2023-05-24T10:21:32.516Z"
   },
   {
    "duration": 111,
    "start_time": "2023-05-24T10:21:32.574Z"
   },
   {
    "duration": 116,
    "start_time": "2023-05-24T10:21:32.686Z"
   },
   {
    "duration": 141,
    "start_time": "2023-05-24T10:21:32.804Z"
   },
   {
    "duration": 374,
    "start_time": "2023-05-24T10:21:32.946Z"
   },
   {
    "duration": 351,
    "start_time": "2023-05-24T10:21:33.321Z"
   },
   {
    "duration": 115,
    "start_time": "2023-05-24T10:21:33.675Z"
   },
   {
    "duration": 68,
    "start_time": "2023-05-24T10:21:33.792Z"
   },
   {
    "duration": 20,
    "start_time": "2023-05-24T10:21:33.861Z"
   },
   {
    "duration": 16,
    "start_time": "2023-05-24T10:21:33.890Z"
   },
   {
    "duration": 6,
    "start_time": "2023-05-24T10:21:33.908Z"
   },
   {
    "duration": 25,
    "start_time": "2023-05-24T10:21:33.915Z"
   },
   {
    "duration": 163,
    "start_time": "2023-05-24T10:21:33.941Z"
   },
   {
    "duration": 18,
    "start_time": "2023-05-24T10:21:34.107Z"
   },
   {
    "duration": 13,
    "start_time": "2023-05-24T10:21:34.127Z"
   },
   {
    "duration": 74,
    "start_time": "2023-05-24T10:21:34.141Z"
   },
   {
    "duration": 39,
    "start_time": "2023-05-24T10:21:34.217Z"
   },
   {
    "duration": 34,
    "start_time": "2023-05-24T10:21:34.259Z"
   },
   {
    "duration": 6,
    "start_time": "2023-05-24T10:21:34.296Z"
   },
   {
    "duration": 580,
    "start_time": "2023-05-24T10:21:34.304Z"
   },
   {
    "duration": 58,
    "start_time": "2023-05-24T10:21:34.885Z"
   },
   {
    "duration": 121,
    "start_time": "2023-05-24T10:21:34.945Z"
   },
   {
    "duration": 54,
    "start_time": "2023-05-24T10:21:35.067Z"
   },
   {
    "duration": 15,
    "start_time": "2023-05-24T10:21:35.122Z"
   },
   {
    "duration": 332,
    "start_time": "2023-05-24T10:21:35.139Z"
   },
   {
    "duration": 16,
    "start_time": "2023-05-24T10:21:35.475Z"
   },
   {
    "duration": 33,
    "start_time": "2023-05-24T10:21:35.493Z"
   },
   {
    "duration": 388,
    "start_time": "2023-05-24T10:21:35.528Z"
   },
   {
    "duration": 2281,
    "start_time": "2023-05-24T10:21:35.918Z"
   },
   {
    "duration": 1873,
    "start_time": "2023-05-24T10:21:38.201Z"
   },
   {
    "duration": 10,
    "start_time": "2023-05-24T10:21:55.971Z"
   },
   {
    "duration": 1409,
    "start_time": "2023-05-24T10:22:27.605Z"
   },
   {
    "duration": 220,
    "start_time": "2023-05-24T10:22:46.170Z"
   },
   {
    "duration": 163,
    "start_time": "2023-05-24T10:23:06.554Z"
   },
   {
    "duration": 1505,
    "start_time": "2023-05-24T10:24:09.177Z"
   },
   {
    "duration": 985,
    "start_time": "2023-05-24T10:24:10.686Z"
   },
   {
    "duration": 778,
    "start_time": "2023-05-24T10:24:11.677Z"
   },
   {
    "duration": 109,
    "start_time": "2023-05-24T10:24:12.458Z"
   },
   {
    "duration": 505,
    "start_time": "2023-05-24T10:24:12.576Z"
   },
   {
    "duration": 9964,
    "start_time": "2023-05-24T10:24:13.083Z"
   },
   {
    "duration": 7,
    "start_time": "2023-05-24T10:24:23.049Z"
   },
   {
    "duration": 689,
    "start_time": "2023-05-24T10:24:23.058Z"
   },
   {
    "duration": 1199,
    "start_time": "2023-05-24T10:24:23.749Z"
   },
   {
    "duration": 45,
    "start_time": "2023-05-24T10:24:24.950Z"
   },
   {
    "duration": 25,
    "start_time": "2023-05-24T10:24:24.997Z"
   },
   {
    "duration": 340,
    "start_time": "2023-05-24T10:24:25.024Z"
   },
   {
    "duration": 514,
    "start_time": "2023-05-24T10:24:25.366Z"
   },
   {
    "duration": 15,
    "start_time": "2023-05-24T10:24:25.884Z"
   },
   {
    "duration": 20,
    "start_time": "2023-05-24T10:24:25.901Z"
   },
   {
    "duration": 70,
    "start_time": "2023-05-24T10:24:25.923Z"
   },
   {
    "duration": 120,
    "start_time": "2023-05-24T10:24:25.995Z"
   },
   {
    "duration": 130,
    "start_time": "2023-05-24T10:24:26.117Z"
   },
   {
    "duration": 164,
    "start_time": "2023-05-24T10:24:26.250Z"
   },
   {
    "duration": 380,
    "start_time": "2023-05-24T10:24:26.415Z"
   },
   {
    "duration": 369,
    "start_time": "2023-05-24T10:24:26.797Z"
   },
   {
    "duration": 123,
    "start_time": "2023-05-24T10:24:27.168Z"
   },
   {
    "duration": 84,
    "start_time": "2023-05-24T10:24:27.294Z"
   },
   {
    "duration": 15,
    "start_time": "2023-05-24T10:24:27.383Z"
   },
   {
    "duration": 25,
    "start_time": "2023-05-24T10:24:27.401Z"
   },
   {
    "duration": 9,
    "start_time": "2023-05-24T10:24:27.428Z"
   },
   {
    "duration": 44,
    "start_time": "2023-05-24T10:24:27.439Z"
   },
   {
    "duration": 134,
    "start_time": "2023-05-24T10:24:27.489Z"
   },
   {
    "duration": 21,
    "start_time": "2023-05-24T10:24:27.626Z"
   },
   {
    "duration": 41,
    "start_time": "2023-05-24T10:24:27.649Z"
   },
   {
    "duration": 46,
    "start_time": "2023-05-24T10:24:27.694Z"
   },
   {
    "duration": 50,
    "start_time": "2023-05-24T10:24:27.743Z"
   },
   {
    "duration": 17,
    "start_time": "2023-05-24T10:24:27.799Z"
   },
   {
    "duration": 5,
    "start_time": "2023-05-24T10:24:27.818Z"
   },
   {
    "duration": 608,
    "start_time": "2023-05-24T10:24:27.825Z"
   },
   {
    "duration": 68,
    "start_time": "2023-05-24T10:24:28.435Z"
   },
   {
    "duration": 125,
    "start_time": "2023-05-24T10:24:28.504Z"
   },
   {
    "duration": 60,
    "start_time": "2023-05-24T10:24:28.631Z"
   },
   {
    "duration": 17,
    "start_time": "2023-05-24T10:24:28.692Z"
   },
   {
    "duration": 352,
    "start_time": "2023-05-24T10:24:28.710Z"
   },
   {
    "duration": 21,
    "start_time": "2023-05-24T10:24:29.066Z"
   },
   {
    "duration": 43,
    "start_time": "2023-05-24T10:24:29.088Z"
   },
   {
    "duration": 425,
    "start_time": "2023-05-24T10:24:29.133Z"
   },
   {
    "duration": 19,
    "start_time": "2023-05-24T10:27:55.366Z"
   },
   {
    "duration": 150,
    "start_time": "2023-05-24T10:31:37.366Z"
   },
   {
    "duration": 33,
    "start_time": "2023-05-24T10:31:45.295Z"
   },
   {
    "duration": 27,
    "start_time": "2023-05-24T10:32:24.414Z"
   },
   {
    "duration": 42,
    "start_time": "2023-05-24T10:39:11.862Z"
   },
   {
    "duration": 69,
    "start_time": "2023-05-24T10:39:47.622Z"
   },
   {
    "duration": 15,
    "start_time": "2023-05-24T10:40:15.282Z"
   },
   {
    "duration": 9,
    "start_time": "2023-05-24T10:40:35.558Z"
   },
   {
    "duration": 9,
    "start_time": "2023-05-24T10:41:07.778Z"
   },
   {
    "duration": 17,
    "start_time": "2023-05-24T10:41:12.662Z"
   },
   {
    "duration": 46,
    "start_time": "2023-05-24T10:42:00.173Z"
   },
   {
    "duration": 868,
    "start_time": "2023-05-24T10:42:54.481Z"
   },
   {
    "duration": 12,
    "start_time": "2023-05-24T10:43:35.614Z"
   },
   {
    "duration": 50,
    "start_time": "2023-05-24T10:44:05.601Z"
   },
   {
    "duration": 882,
    "start_time": "2023-05-24T10:45:24.372Z"
   },
   {
    "duration": 45,
    "start_time": "2023-05-24T10:45:54.599Z"
   },
   {
    "duration": 910,
    "start_time": "2023-05-24T10:45:57.711Z"
   },
   {
    "duration": 8434,
    "start_time": "2023-05-24T10:47:39.098Z"
   },
   {
    "duration": 2163,
    "start_time": "2023-05-24T10:51:54.365Z"
   },
   {
    "duration": 1170,
    "start_time": "2023-05-24T10:51:56.530Z"
   },
   {
    "duration": 860,
    "start_time": "2023-05-24T10:51:57.702Z"
   },
   {
    "duration": 721,
    "start_time": "2023-05-24T10:51:58.564Z"
   },
   {
    "duration": 100,
    "start_time": "2023-05-24T10:51:59.286Z"
   },
   {
    "duration": 453,
    "start_time": "2023-05-24T10:51:59.388Z"
   },
   {
    "duration": 8911,
    "start_time": "2023-05-24T10:51:59.843Z"
   },
   {
    "duration": 7,
    "start_time": "2023-05-24T10:52:08.756Z"
   },
   {
    "duration": 637,
    "start_time": "2023-05-24T10:52:08.775Z"
   },
   {
    "duration": 892,
    "start_time": "2023-05-24T10:52:09.415Z"
   },
   {
    "duration": 43,
    "start_time": "2023-05-24T10:52:10.309Z"
   },
   {
    "duration": 26,
    "start_time": "2023-05-24T10:52:10.354Z"
   },
   {
    "duration": 289,
    "start_time": "2023-05-24T10:52:10.382Z"
   },
   {
    "duration": 430,
    "start_time": "2023-05-24T10:52:10.675Z"
   },
   {
    "duration": 13,
    "start_time": "2023-05-24T10:52:11.107Z"
   },
   {
    "duration": 21,
    "start_time": "2023-05-24T10:52:11.122Z"
   },
   {
    "duration": 57,
    "start_time": "2023-05-24T10:52:11.144Z"
   },
   {
    "duration": 94,
    "start_time": "2023-05-24T10:52:11.203Z"
   },
   {
    "duration": 119,
    "start_time": "2023-05-24T10:52:11.298Z"
   },
   {
    "duration": 127,
    "start_time": "2023-05-24T10:52:11.419Z"
   },
   {
    "duration": 340,
    "start_time": "2023-05-24T10:52:11.547Z"
   },
   {
    "duration": 327,
    "start_time": "2023-05-24T10:52:11.888Z"
   },
   {
    "duration": 98,
    "start_time": "2023-05-24T10:52:12.217Z"
   },
   {
    "duration": 79,
    "start_time": "2023-05-24T10:52:12.317Z"
   },
   {
    "duration": 5,
    "start_time": "2023-05-24T10:52:12.398Z"
   },
   {
    "duration": 16,
    "start_time": "2023-05-24T10:52:12.404Z"
   },
   {
    "duration": 6,
    "start_time": "2023-05-24T10:52:12.422Z"
   },
   {
    "duration": 44,
    "start_time": "2023-05-24T10:52:12.431Z"
   },
   {
    "duration": 25,
    "start_time": "2023-05-24T10:52:12.477Z"
   },
   {
    "duration": 14,
    "start_time": "2023-05-24T10:52:12.503Z"
   },
   {
    "duration": 7,
    "start_time": "2023-05-24T10:52:12.519Z"
   },
   {
    "duration": 63,
    "start_time": "2023-05-24T10:52:12.527Z"
   },
   {
    "duration": 25,
    "start_time": "2023-05-24T10:52:12.591Z"
   },
   {
    "duration": 12,
    "start_time": "2023-05-24T10:52:12.617Z"
   },
   {
    "duration": 4,
    "start_time": "2023-05-24T10:52:12.631Z"
   },
   {
    "duration": 462,
    "start_time": "2023-05-24T10:52:12.637Z"
   },
   {
    "duration": 49,
    "start_time": "2023-05-24T10:52:13.100Z"
   },
   {
    "duration": 124,
    "start_time": "2023-05-24T10:52:13.151Z"
   },
   {
    "duration": 134,
    "start_time": "2023-05-24T10:52:13.277Z"
   },
   {
    "duration": 16,
    "start_time": "2023-05-24T10:52:13.412Z"
   },
   {
    "duration": 316,
    "start_time": "2023-05-24T10:52:13.430Z"
   },
   {
    "duration": 10,
    "start_time": "2023-05-24T10:52:13.747Z"
   },
   {
    "duration": 39,
    "start_time": "2023-05-24T10:52:13.758Z"
   },
   {
    "duration": 29,
    "start_time": "2023-05-24T10:52:13.798Z"
   },
   {
    "duration": 372,
    "start_time": "2023-05-24T10:52:13.828Z"
   },
   {
    "duration": 76,
    "start_time": "2023-05-24T10:52:14.203Z"
   },
   {
    "duration": 15,
    "start_time": "2023-05-24T10:52:14.281Z"
   },
   {
    "duration": 48,
    "start_time": "2023-05-24T10:52:14.298Z"
   },
   {
    "duration": 55087,
    "start_time": "2023-05-24T10:52:14.348Z"
   },
   {
    "duration": 204,
    "start_time": "2023-05-24T10:53:09.437Z"
   },
   {
    "duration": 34,
    "start_time": "2023-05-24T10:53:09.642Z"
   },
   {
    "duration": 14972,
    "start_time": "2023-05-24T10:54:03.768Z"
   },
   {
    "duration": 5,
    "start_time": "2023-05-24T10:55:02.750Z"
   },
   {
    "duration": 6,
    "start_time": "2023-05-24T10:56:01.666Z"
   },
   {
    "duration": 91,
    "start_time": "2023-05-24T10:56:24.750Z"
   },
   {
    "duration": 7,
    "start_time": "2023-05-24T10:56:39.156Z"
   },
   {
    "duration": 6,
    "start_time": "2023-05-24T10:57:27.862Z"
   },
   {
    "duration": 7,
    "start_time": "2023-05-24T10:58:06.210Z"
   },
   {
    "duration": 6,
    "start_time": "2023-05-24T10:58:26.955Z"
   },
   {
    "duration": 7,
    "start_time": "2023-05-24T10:58:35.500Z"
   },
   {
    "duration": 82,
    "start_time": "2023-05-24T10:59:03.687Z"
   },
   {
    "duration": 28,
    "start_time": "2023-05-24T10:59:18.056Z"
   },
   {
    "duration": 30,
    "start_time": "2023-05-24T10:59:31.173Z"
   },
   {
    "duration": 6,
    "start_time": "2023-05-24T11:08:50.348Z"
   },
   {
    "duration": 284,
    "start_time": "2023-05-24T11:11:00.563Z"
   },
   {
    "duration": 21,
    "start_time": "2023-05-24T11:18:58.084Z"
   },
   {
    "duration": 5,
    "start_time": "2023-05-24T11:22:46.324Z"
   },
   {
    "duration": 2308,
    "start_time": "2023-05-24T11:26:49.785Z"
   },
   {
    "duration": 9,
    "start_time": "2023-05-24T11:26:52.096Z"
   },
   {
    "duration": 815,
    "start_time": "2023-05-24T11:26:52.107Z"
   },
   {
    "duration": 732,
    "start_time": "2023-05-24T11:26:52.923Z"
   },
   {
    "duration": 94,
    "start_time": "2023-05-24T11:26:53.657Z"
   },
   {
    "duration": 552,
    "start_time": "2023-05-24T11:26:53.753Z"
   },
   {
    "duration": 9450,
    "start_time": "2023-05-24T11:26:54.308Z"
   },
   {
    "duration": 7,
    "start_time": "2023-05-24T11:27:03.759Z"
   },
   {
    "duration": 714,
    "start_time": "2023-05-24T11:27:03.775Z"
   },
   {
    "duration": 919,
    "start_time": "2023-05-24T11:27:04.492Z"
   },
   {
    "duration": 36,
    "start_time": "2023-05-24T11:27:05.413Z"
   },
   {
    "duration": 40,
    "start_time": "2023-05-24T11:27:05.450Z"
   },
   {
    "duration": 302,
    "start_time": "2023-05-24T11:27:05.491Z"
   },
   {
    "duration": 457,
    "start_time": "2023-05-24T11:27:05.795Z"
   },
   {
    "duration": 12,
    "start_time": "2023-05-24T11:27:06.253Z"
   },
   {
    "duration": 23,
    "start_time": "2023-05-24T11:27:06.278Z"
   },
   {
    "duration": 29,
    "start_time": "2023-05-24T11:27:06.302Z"
   },
   {
    "duration": 106,
    "start_time": "2023-05-24T11:27:06.333Z"
   },
   {
    "duration": 114,
    "start_time": "2023-05-24T11:27:06.440Z"
   },
   {
    "duration": 135,
    "start_time": "2023-05-24T11:27:06.556Z"
   },
   {
    "duration": 337,
    "start_time": "2023-05-24T11:27:06.693Z"
   },
   {
    "duration": 343,
    "start_time": "2023-05-24T11:27:07.032Z"
   },
   {
    "duration": 106,
    "start_time": "2023-05-24T11:27:07.383Z"
   },
   {
    "duration": 68,
    "start_time": "2023-05-24T11:27:07.491Z"
   },
   {
    "duration": 15,
    "start_time": "2023-05-24T11:27:07.561Z"
   },
   {
    "duration": 14,
    "start_time": "2023-05-24T11:27:07.579Z"
   },
   {
    "duration": 6,
    "start_time": "2023-05-24T11:27:07.595Z"
   },
   {
    "duration": 28,
    "start_time": "2023-05-24T11:27:07.604Z"
   },
   {
    "duration": 53,
    "start_time": "2023-05-24T11:27:07.635Z"
   },
   {
    "duration": 15,
    "start_time": "2023-05-24T11:27:07.689Z"
   },
   {
    "duration": 7,
    "start_time": "2023-05-24T11:27:07.706Z"
   },
   {
    "duration": 37,
    "start_time": "2023-05-24T11:27:07.715Z"
   },
   {
    "duration": 48,
    "start_time": "2023-05-24T11:27:07.753Z"
   },
   {
    "duration": 12,
    "start_time": "2023-05-24T11:27:07.803Z"
   },
   {
    "duration": 4,
    "start_time": "2023-05-24T11:27:07.817Z"
   },
   {
    "duration": 522,
    "start_time": "2023-05-24T11:27:07.822Z"
   },
   {
    "duration": 66,
    "start_time": "2023-05-24T11:27:08.345Z"
   },
   {
    "duration": 108,
    "start_time": "2023-05-24T11:27:08.412Z"
   },
   {
    "duration": 66,
    "start_time": "2023-05-24T11:27:08.522Z"
   },
   {
    "duration": 17,
    "start_time": "2023-05-24T11:27:08.590Z"
   },
   {
    "duration": 357,
    "start_time": "2023-05-24T11:27:08.609Z"
   },
   {
    "duration": 23,
    "start_time": "2023-05-24T11:27:08.967Z"
   },
   {
    "duration": 30,
    "start_time": "2023-05-24T11:27:08.991Z"
   },
   {
    "duration": 29,
    "start_time": "2023-05-24T11:27:09.022Z"
   },
   {
    "duration": 15,
    "start_time": "2023-05-24T11:27:12.411Z"
   },
   {
    "duration": 3,
    "start_time": "2023-05-24T12:05:03.941Z"
   },
   {
    "duration": 16,
    "start_time": "2023-05-24T12:05:32.898Z"
   },
   {
    "duration": 4,
    "start_time": "2023-05-24T12:06:20.589Z"
   },
   {
    "duration": 1904,
    "start_time": "2023-05-24T12:06:39.054Z"
   },
   {
    "duration": 17,
    "start_time": "2023-05-24T12:08:19.727Z"
   },
   {
    "duration": 10,
    "start_time": "2023-05-24T12:11:13.166Z"
   },
   {
    "duration": 2248,
    "start_time": "2023-05-24T12:11:45.007Z"
   },
   {
    "duration": 7,
    "start_time": "2023-05-24T12:11:47.258Z"
   },
   {
    "duration": 893,
    "start_time": "2023-05-24T12:11:47.267Z"
   },
   {
    "duration": 728,
    "start_time": "2023-05-24T12:11:48.162Z"
   },
   {
    "duration": 105,
    "start_time": "2023-05-24T12:11:48.894Z"
   },
   {
    "duration": 439,
    "start_time": "2023-05-24T12:11:49.001Z"
   },
   {
    "duration": 9904,
    "start_time": "2023-05-24T12:11:49.441Z"
   },
   {
    "duration": 8,
    "start_time": "2023-05-24T12:11:59.346Z"
   },
   {
    "duration": 639,
    "start_time": "2023-05-24T12:11:59.356Z"
   },
   {
    "duration": 934,
    "start_time": "2023-05-24T12:12:00.000Z"
   },
   {
    "duration": 30,
    "start_time": "2023-05-24T12:12:00.935Z"
   },
   {
    "duration": 22,
    "start_time": "2023-05-24T12:12:00.985Z"
   },
   {
    "duration": 345,
    "start_time": "2023-05-24T12:12:01.009Z"
   },
   {
    "duration": 555,
    "start_time": "2023-05-24T12:12:01.357Z"
   },
   {
    "duration": 12,
    "start_time": "2023-05-24T12:12:01.914Z"
   },
   {
    "duration": 22,
    "start_time": "2023-05-24T12:12:01.928Z"
   },
   {
    "duration": 54,
    "start_time": "2023-05-24T12:12:01.952Z"
   },
   {
    "duration": 103,
    "start_time": "2023-05-24T12:12:02.008Z"
   },
   {
    "duration": 120,
    "start_time": "2023-05-24T12:12:02.113Z"
   },
   {
    "duration": 138,
    "start_time": "2023-05-24T12:12:02.234Z"
   },
   {
    "duration": 352,
    "start_time": "2023-05-24T12:12:02.386Z"
   },
   {
    "duration": 356,
    "start_time": "2023-05-24T12:12:02.740Z"
   },
   {
    "duration": 126,
    "start_time": "2023-05-24T12:12:03.097Z"
   },
   {
    "duration": 77,
    "start_time": "2023-05-24T12:12:03.224Z"
   },
   {
    "duration": 6,
    "start_time": "2023-05-24T12:12:03.303Z"
   },
   {
    "duration": 32,
    "start_time": "2023-05-24T12:12:03.310Z"
   },
   {
    "duration": 7,
    "start_time": "2023-05-24T12:12:03.344Z"
   },
   {
    "duration": 41,
    "start_time": "2023-05-24T12:12:03.354Z"
   },
   {
    "duration": 41,
    "start_time": "2023-05-24T12:12:03.397Z"
   },
   {
    "duration": 16,
    "start_time": "2023-05-24T12:12:03.440Z"
   },
   {
    "duration": 24,
    "start_time": "2023-05-24T12:12:03.458Z"
   },
   {
    "duration": 48,
    "start_time": "2023-05-24T12:12:03.487Z"
   },
   {
    "duration": 47,
    "start_time": "2023-05-24T12:12:03.538Z"
   },
   {
    "duration": 12,
    "start_time": "2023-05-24T12:12:03.587Z"
   },
   {
    "duration": 5,
    "start_time": "2023-05-24T12:12:03.601Z"
   },
   {
    "duration": 562,
    "start_time": "2023-05-24T12:12:03.607Z"
   },
   {
    "duration": 63,
    "start_time": "2023-05-24T12:12:04.175Z"
   },
   {
    "duration": 3,
    "start_time": "2023-05-24T12:12:04.240Z"
   },
   {
    "duration": 146,
    "start_time": "2023-05-24T12:12:04.245Z"
   },
   {
    "duration": 15,
    "start_time": "2023-05-24T12:12:04.393Z"
   },
   {
    "duration": 329,
    "start_time": "2023-05-24T12:12:04.410Z"
   },
   {
    "duration": 10,
    "start_time": "2023-05-24T12:12:04.741Z"
   },
   {
    "duration": 54,
    "start_time": "2023-05-24T12:12:04.753Z"
   },
   {
    "duration": 20,
    "start_time": "2023-05-24T12:12:24.607Z"
   },
   {
    "duration": 21,
    "start_time": "2023-05-24T12:14:27.091Z"
   },
   {
    "duration": 36,
    "start_time": "2023-05-24T12:14:36.862Z"
   },
   {
    "duration": 332,
    "start_time": "2023-05-24T12:14:39.491Z"
   },
   {
    "duration": 68,
    "start_time": "2023-05-24T12:14:50.387Z"
   },
   {
    "duration": 13,
    "start_time": "2023-05-24T12:14:54.151Z"
   },
   {
    "duration": 55,
    "start_time": "2023-05-24T12:14:54.678Z"
   },
   {
    "duration": 2379,
    "start_time": "2023-05-24T12:15:36.151Z"
   },
   {
    "duration": 1770,
    "start_time": "2023-05-24T12:15:38.533Z"
   },
   {
    "duration": 3153,
    "start_time": "2023-05-24T12:15:40.305Z"
   },
   {
    "duration": 851,
    "start_time": "2023-05-24T12:15:43.460Z"
   },
   {
    "duration": 116,
    "start_time": "2023-05-24T12:15:44.314Z"
   },
   {
    "duration": 525,
    "start_time": "2023-05-24T12:15:44.432Z"
   },
   {
    "duration": 10321,
    "start_time": "2023-05-24T12:15:44.959Z"
   },
   {
    "duration": 13,
    "start_time": "2023-05-24T12:15:55.285Z"
   },
   {
    "duration": 703,
    "start_time": "2023-05-24T12:15:55.300Z"
   },
   {
    "duration": 1155,
    "start_time": "2023-05-24T12:15:56.005Z"
   },
   {
    "duration": 42,
    "start_time": "2023-05-24T12:15:57.162Z"
   },
   {
    "duration": 18,
    "start_time": "2023-05-24T12:15:57.206Z"
   },
   {
    "duration": 392,
    "start_time": "2023-05-24T12:15:57.226Z"
   },
   {
    "duration": 599,
    "start_time": "2023-05-24T12:15:57.623Z"
   },
   {
    "duration": 14,
    "start_time": "2023-05-24T12:15:58.224Z"
   },
   {
    "duration": 44,
    "start_time": "2023-05-24T12:15:58.240Z"
   },
   {
    "duration": 45,
    "start_time": "2023-05-24T12:15:58.286Z"
   },
   {
    "duration": 162,
    "start_time": "2023-05-24T12:15:58.333Z"
   },
   {
    "duration": 152,
    "start_time": "2023-05-24T12:15:58.497Z"
   },
   {
    "duration": 157,
    "start_time": "2023-05-24T12:15:58.651Z"
   },
   {
    "duration": 444,
    "start_time": "2023-05-24T12:15:58.810Z"
   },
   {
    "duration": 444,
    "start_time": "2023-05-24T12:15:59.256Z"
   },
   {
    "duration": 151,
    "start_time": "2023-05-24T12:15:59.702Z"
   },
   {
    "duration": 87,
    "start_time": "2023-05-24T12:15:59.855Z"
   },
   {
    "duration": 7,
    "start_time": "2023-05-24T12:15:59.944Z"
   },
   {
    "duration": 34,
    "start_time": "2023-05-24T12:15:59.952Z"
   },
   {
    "duration": 15,
    "start_time": "2023-05-24T12:15:59.990Z"
   },
   {
    "duration": 69,
    "start_time": "2023-05-24T12:16:00.007Z"
   },
   {
    "duration": 96,
    "start_time": "2023-05-24T12:16:00.078Z"
   },
   {
    "duration": 20,
    "start_time": "2023-05-24T12:16:00.179Z"
   },
   {
    "duration": 16,
    "start_time": "2023-05-24T12:16:00.206Z"
   },
   {
    "duration": 61,
    "start_time": "2023-05-24T12:16:00.225Z"
   },
   {
    "duration": 42,
    "start_time": "2023-05-24T12:16:00.288Z"
   },
   {
    "duration": 14,
    "start_time": "2023-05-24T12:16:00.332Z"
   },
   {
    "duration": 31,
    "start_time": "2023-05-24T12:16:00.349Z"
   },
   {
    "duration": 754,
    "start_time": "2023-05-24T12:16:00.384Z"
   },
   {
    "duration": 71,
    "start_time": "2023-05-24T12:16:01.140Z"
   },
   {
    "duration": 3,
    "start_time": "2023-05-24T12:16:01.213Z"
   },
   {
    "duration": 243,
    "start_time": "2023-05-24T12:16:01.218Z"
   },
   {
    "duration": 18,
    "start_time": "2023-05-24T12:16:01.463Z"
   },
   {
    "duration": 362,
    "start_time": "2023-05-24T12:16:01.486Z"
   },
   {
    "duration": 13,
    "start_time": "2023-05-24T12:16:01.850Z"
   },
   {
    "duration": 57,
    "start_time": "2023-05-24T12:16:01.864Z"
   },
   {
    "duration": 31,
    "start_time": "2023-05-24T12:16:01.923Z"
   },
   {
    "duration": 388,
    "start_time": "2023-05-24T12:16:01.955Z"
   },
   {
    "duration": 77,
    "start_time": "2023-05-24T12:16:02.345Z"
   },
   {
    "duration": 12,
    "start_time": "2023-05-24T12:16:02.423Z"
   },
   {
    "duration": 76,
    "start_time": "2023-05-24T12:16:02.437Z"
   },
   {
    "duration": 54882,
    "start_time": "2023-05-24T12:16:02.515Z"
   },
   {
    "duration": 204,
    "start_time": "2023-05-24T12:16:57.399Z"
   },
   {
    "duration": 29,
    "start_time": "2023-05-24T12:16:57.605Z"
   },
   {
    "duration": 19007,
    "start_time": "2023-05-24T12:16:57.636Z"
   },
   {
    "duration": 8,
    "start_time": "2023-05-24T12:17:16.645Z"
   },
   {
    "duration": 159,
    "start_time": "2023-05-24T12:17:16.654Z"
   },
   {
    "duration": 22,
    "start_time": "2023-05-24T12:17:16.815Z"
   },
   {
    "duration": 45,
    "start_time": "2023-05-24T12:17:16.838Z"
   },
   {
    "duration": 48301,
    "start_time": "2023-05-24T12:17:16.884Z"
   },
   {
    "duration": 6,
    "start_time": "2023-05-24T12:20:26.375Z"
   },
   {
    "duration": 5,
    "start_time": "2023-05-24T12:20:42.863Z"
   },
   {
    "duration": 71,
    "start_time": "2023-05-24T12:23:53.404Z"
   },
   {
    "duration": 5,
    "start_time": "2023-05-24T12:23:55.088Z"
   },
   {
    "duration": 240,
    "start_time": "2023-05-24T12:24:27.255Z"
   },
   {
    "duration": 263,
    "start_time": "2023-05-24T12:25:31.393Z"
   },
   {
    "duration": 3581,
    "start_time": "2023-05-24T12:25:36.290Z"
   },
   {
    "duration": 66,
    "start_time": "2023-05-24T12:25:57.320Z"
   },
   {
    "duration": 5,
    "start_time": "2023-05-24T12:26:41.251Z"
   },
   {
    "duration": 6,
    "start_time": "2023-05-24T12:27:14.603Z"
   },
   {
    "duration": 6,
    "start_time": "2023-05-24T12:30:36.462Z"
   },
   {
    "duration": 4,
    "start_time": "2023-05-24T12:31:05.658Z"
   },
   {
    "duration": 18,
    "start_time": "2023-05-24T12:31:41.966Z"
   },
   {
    "duration": 17,
    "start_time": "2023-05-24T12:32:01.899Z"
   },
   {
    "duration": 7,
    "start_time": "2023-05-24T12:34:28.050Z"
   },
   {
    "duration": 14,
    "start_time": "2023-05-24T12:34:33.400Z"
   },
   {
    "duration": 8,
    "start_time": "2023-05-24T12:34:56.298Z"
   },
   {
    "duration": 175,
    "start_time": "2023-05-24T12:35:00.998Z"
   },
   {
    "duration": 6,
    "start_time": "2023-05-24T12:35:42.602Z"
   },
   {
    "duration": 179,
    "start_time": "2023-05-24T12:35:48.758Z"
   },
   {
    "duration": 6,
    "start_time": "2023-05-24T12:36:02.142Z"
   },
   {
    "duration": 518,
    "start_time": "2023-05-24T12:36:07.102Z"
   },
   {
    "duration": 6,
    "start_time": "2023-05-24T12:37:18.048Z"
   },
   {
    "duration": 543,
    "start_time": "2023-05-24T12:37:22.207Z"
   },
   {
    "duration": 578,
    "start_time": "2023-05-24T12:38:05.481Z"
   },
   {
    "duration": 124,
    "start_time": "2023-05-24T12:38:31.967Z"
   },
   {
    "duration": 586,
    "start_time": "2023-05-24T12:38:35.645Z"
   },
   {
    "duration": 6,
    "start_time": "2023-05-24T12:38:48.547Z"
   },
   {
    "duration": 533,
    "start_time": "2023-05-24T12:38:51.803Z"
   },
   {
    "duration": 4,
    "start_time": "2023-05-24T12:39:21.567Z"
   },
   {
    "duration": 271,
    "start_time": "2023-05-24T12:39:24.851Z"
   },
   {
    "duration": 339,
    "start_time": "2023-05-24T12:39:31.488Z"
   },
   {
    "duration": 5,
    "start_time": "2023-05-24T12:40:34.449Z"
   },
   {
    "duration": 269,
    "start_time": "2023-05-24T12:40:38.686Z"
   },
   {
    "duration": 257,
    "start_time": "2023-05-24T12:40:42.999Z"
   },
   {
    "duration": 6,
    "start_time": "2023-05-24T12:41:21.407Z"
   },
   {
    "duration": 261,
    "start_time": "2023-05-24T12:41:24.459Z"
   },
   {
    "duration": 270,
    "start_time": "2023-05-24T12:41:28.689Z"
   },
   {
    "duration": 6,
    "start_time": "2023-05-24T12:41:45.902Z"
   },
   {
    "duration": 251,
    "start_time": "2023-05-24T12:41:49.082Z"
   },
   {
    "duration": 401,
    "start_time": "2023-05-24T12:41:58.055Z"
   },
   {
    "duration": 20,
    "start_time": "2023-05-24T12:44:38.674Z"
   },
   {
    "duration": 5141,
    "start_time": "2023-05-24T12:48:31.720Z"
   },
   {
    "duration": 34,
    "start_time": "2023-05-24T12:50:31.793Z"
   },
   {
    "duration": 127,
    "start_time": "2023-05-24T12:51:57.319Z"
   },
   {
    "duration": 365180,
    "start_time": "2023-05-24T12:55:30.891Z"
   },
   {
    "duration": 86,
    "start_time": "2023-05-24T13:02:09.063Z"
   },
   {
    "duration": 3,
    "start_time": "2023-05-24T13:02:19.950Z"
   },
   {
    "duration": 80,
    "start_time": "2023-05-24T13:02:21.462Z"
   },
   {
    "duration": 323372,
    "start_time": "2023-05-24T13:02:32.320Z"
   },
   {
    "duration": 3,
    "start_time": "2023-05-24T13:16:17.766Z"
   },
   {
    "duration": 5,
    "start_time": "2023-05-24T13:16:34.091Z"
   },
   {
    "duration": 15,
    "start_time": "2023-05-24T13:18:59.362Z"
   },
   {
    "duration": 45,
    "start_time": "2023-05-24T13:20:30.297Z"
   },
   {
    "duration": 147,
    "start_time": "2023-05-24T13:25:00.467Z"
   },
   {
    "duration": 113,
    "start_time": "2023-05-24T13:25:48.870Z"
   },
   {
    "duration": 324550,
    "start_time": "2023-05-24T13:26:18.290Z"
   },
   {
    "duration": 1188271,
    "start_time": "2023-05-24T13:32:43.770Z"
   },
   {
    "duration": 6903,
    "start_time": "2023-05-24T15:02:09.791Z"
   },
   {
    "duration": 1345,
    "start_time": "2023-05-24T15:02:16.696Z"
   },
   {
    "duration": 2801,
    "start_time": "2023-05-24T15:02:18.042Z"
   },
   {
    "duration": 576,
    "start_time": "2023-05-24T15:02:20.845Z"
   },
   {
    "duration": 87,
    "start_time": "2023-05-24T15:02:21.423Z"
   },
   {
    "duration": 422,
    "start_time": "2023-05-24T15:02:21.512Z"
   },
   {
    "duration": 8030,
    "start_time": "2023-05-24T15:02:21.936Z"
   },
   {
    "duration": 6,
    "start_time": "2023-05-24T15:02:29.967Z"
   },
   {
    "duration": 555,
    "start_time": "2023-05-24T15:02:29.975Z"
   },
   {
    "duration": 831,
    "start_time": "2023-05-24T15:02:30.531Z"
   },
   {
    "duration": 29,
    "start_time": "2023-05-24T15:02:31.364Z"
   },
   {
    "duration": 25,
    "start_time": "2023-05-24T15:02:31.394Z"
   },
   {
    "duration": 289,
    "start_time": "2023-05-24T15:02:31.421Z"
   },
   {
    "duration": 382,
    "start_time": "2023-05-24T15:02:31.712Z"
   },
   {
    "duration": 18,
    "start_time": "2023-05-24T15:02:32.096Z"
   },
   {
    "duration": 26,
    "start_time": "2023-05-24T15:02:32.116Z"
   },
   {
    "duration": 32,
    "start_time": "2023-05-24T15:02:32.144Z"
   },
   {
    "duration": 77,
    "start_time": "2023-05-24T15:02:32.177Z"
   },
   {
    "duration": 85,
    "start_time": "2023-05-24T15:02:32.255Z"
   },
   {
    "duration": 96,
    "start_time": "2023-05-24T15:02:32.341Z"
   },
   {
    "duration": 290,
    "start_time": "2023-05-24T15:02:32.439Z"
   },
   {
    "duration": 270,
    "start_time": "2023-05-24T15:02:32.731Z"
   },
   {
    "duration": 70,
    "start_time": "2023-05-24T15:02:33.003Z"
   },
   {
    "duration": 83,
    "start_time": "2023-05-24T15:02:33.074Z"
   },
   {
    "duration": 6,
    "start_time": "2023-05-24T15:02:33.159Z"
   },
   {
    "duration": 26,
    "start_time": "2023-05-24T15:02:33.166Z"
   },
   {
    "duration": 14,
    "start_time": "2023-05-24T15:02:33.193Z"
   },
   {
    "duration": 45,
    "start_time": "2023-05-24T15:02:33.209Z"
   },
   {
    "duration": 50,
    "start_time": "2023-05-24T15:02:33.257Z"
   },
   {
    "duration": 17,
    "start_time": "2023-05-24T15:02:33.309Z"
   },
   {
    "duration": 8,
    "start_time": "2023-05-24T15:02:33.328Z"
   },
   {
    "duration": 69,
    "start_time": "2023-05-24T15:02:33.338Z"
   },
   {
    "duration": 38,
    "start_time": "2023-05-24T15:02:33.409Z"
   },
   {
    "duration": 13,
    "start_time": "2023-05-24T15:02:33.449Z"
   },
   {
    "duration": 5,
    "start_time": "2023-05-24T15:02:33.464Z"
   },
   {
    "duration": 550,
    "start_time": "2023-05-24T15:02:33.472Z"
   },
   {
    "duration": 43,
    "start_time": "2023-05-24T15:02:34.023Z"
   },
   {
    "duration": 3,
    "start_time": "2023-05-24T15:02:34.067Z"
   },
   {
    "duration": 117,
    "start_time": "2023-05-24T15:02:34.071Z"
   },
   {
    "duration": 26,
    "start_time": "2023-05-24T15:02:34.190Z"
   },
   {
    "duration": 259,
    "start_time": "2023-05-24T15:02:34.221Z"
   },
   {
    "duration": 10,
    "start_time": "2023-05-24T15:02:34.482Z"
   },
   {
    "duration": 38,
    "start_time": "2023-05-24T15:02:34.493Z"
   },
   {
    "duration": 27,
    "start_time": "2023-05-24T15:02:34.533Z"
   },
   {
    "duration": 346,
    "start_time": "2023-05-24T15:02:34.562Z"
   },
   {
    "duration": 56,
    "start_time": "2023-05-24T15:02:34.910Z"
   },
   {
    "duration": 10,
    "start_time": "2023-05-24T15:02:34.968Z"
   },
   {
    "duration": 61,
    "start_time": "2023-05-24T15:02:34.980Z"
   },
   {
    "duration": 50699,
    "start_time": "2023-05-24T15:02:35.043Z"
   },
   {
    "duration": 194,
    "start_time": "2023-05-24T15:03:25.743Z"
   },
   {
    "duration": 24,
    "start_time": "2023-05-24T15:03:25.939Z"
   },
   {
    "duration": 13801,
    "start_time": "2023-05-24T15:03:25.965Z"
   },
   {
    "duration": 5,
    "start_time": "2023-05-24T15:03:39.768Z"
   },
   {
    "duration": 133,
    "start_time": "2023-05-24T15:03:39.776Z"
   },
   {
    "duration": 19,
    "start_time": "2023-05-24T15:03:39.911Z"
   },
   {
    "duration": 24,
    "start_time": "2023-05-24T15:03:39.932Z"
   },
   {
    "duration": 6,
    "start_time": "2023-05-24T15:03:39.958Z"
   },
   {
    "duration": 21061,
    "start_time": "2023-05-24T15:03:39.966Z"
   },
   {
    "duration": 193,
    "start_time": "2023-05-24T15:04:01.029Z"
   },
   {
    "duration": 85,
    "start_time": "2023-05-24T15:04:01.226Z"
   },
   {
    "duration": 306,
    "start_time": "2023-05-24T15:04:01.316Z"
   },
   {
    "duration": 3204,
    "start_time": "2023-05-24T15:04:01.623Z"
   },
   {
    "duration": 60,
    "start_time": "2023-05-24T15:04:04.828Z"
   },
   {
    "duration": 17,
    "start_time": "2023-05-24T15:04:04.890Z"
   },
   {
    "duration": 240,
    "start_time": "2023-05-24T15:04:04.909Z"
   },
   {
    "duration": 101,
    "start_time": "2023-05-24T15:05:12.946Z"
   },
   {
    "duration": 3383,
    "start_time": "2023-05-24T15:05:46.288Z"
   },
   {
    "duration": 1912,
    "start_time": "2023-05-24T15:06:00.857Z"
   },
   {
    "duration": 1880,
    "start_time": "2023-05-24T15:06:02.771Z"
   },
   {
    "duration": 1469,
    "start_time": "2023-05-24T15:06:04.653Z"
   },
   {
    "duration": 729,
    "start_time": "2023-05-24T15:06:06.123Z"
   },
   {
    "duration": 617,
    "start_time": "2023-05-24T15:06:06.855Z"
   },
   {
    "duration": 95,
    "start_time": "2023-05-24T15:06:07.474Z"
   },
   {
    "duration": 420,
    "start_time": "2023-05-24T15:06:07.571Z"
   },
   {
    "duration": 7915,
    "start_time": "2023-05-24T15:06:07.992Z"
   },
   {
    "duration": 6,
    "start_time": "2023-05-24T15:06:15.908Z"
   },
   {
    "duration": 671,
    "start_time": "2023-05-24T15:06:15.916Z"
   },
   {
    "duration": 825,
    "start_time": "2023-05-24T15:06:16.589Z"
   },
   {
    "duration": 29,
    "start_time": "2023-05-24T15:06:17.416Z"
   },
   {
    "duration": 15,
    "start_time": "2023-05-24T15:06:17.447Z"
   },
   {
    "duration": 283,
    "start_time": "2023-05-24T15:06:17.465Z"
   },
   {
    "duration": 395,
    "start_time": "2023-05-24T15:06:17.749Z"
   },
   {
    "duration": 11,
    "start_time": "2023-05-24T15:06:18.146Z"
   },
   {
    "duration": 16,
    "start_time": "2023-05-24T15:06:18.158Z"
   },
   {
    "duration": 54,
    "start_time": "2023-05-24T15:06:18.175Z"
   },
   {
    "duration": 76,
    "start_time": "2023-05-24T15:06:18.230Z"
   },
   {
    "duration": 77,
    "start_time": "2023-05-24T15:06:18.308Z"
   },
   {
    "duration": 107,
    "start_time": "2023-05-24T15:06:18.386Z"
   },
   {
    "duration": 315,
    "start_time": "2023-05-24T15:06:18.495Z"
   },
   {
    "duration": 295,
    "start_time": "2023-05-24T15:06:18.811Z"
   },
   {
    "duration": 102,
    "start_time": "2023-05-24T15:06:19.108Z"
   },
   {
    "duration": 98,
    "start_time": "2023-05-24T15:06:19.212Z"
   },
   {
    "duration": 4,
    "start_time": "2023-05-24T15:06:19.311Z"
   },
   {
    "duration": 24,
    "start_time": "2023-05-24T15:06:19.317Z"
   },
   {
    "duration": 15,
    "start_time": "2023-05-24T15:06:19.343Z"
   },
   {
    "duration": 31,
    "start_time": "2023-05-24T15:06:19.360Z"
   },
   {
    "duration": 51,
    "start_time": "2023-05-24T15:06:19.392Z"
   },
   {
    "duration": 13,
    "start_time": "2023-05-24T15:06:19.444Z"
   },
   {
    "duration": 7,
    "start_time": "2023-05-24T15:06:19.459Z"
   },
   {
    "duration": 38,
    "start_time": "2023-05-24T15:06:19.467Z"
   },
   {
    "duration": 32,
    "start_time": "2023-05-24T15:06:19.507Z"
   },
   {
    "duration": 11,
    "start_time": "2023-05-24T15:06:19.540Z"
   },
   {
    "duration": 4,
    "start_time": "2023-05-24T15:06:19.553Z"
   },
   {
    "duration": 431,
    "start_time": "2023-05-24T15:06:19.559Z"
   },
   {
    "duration": 50,
    "start_time": "2023-05-24T15:06:19.992Z"
   },
   {
    "duration": 2,
    "start_time": "2023-05-24T15:06:20.044Z"
   },
   {
    "duration": 107,
    "start_time": "2023-05-24T15:06:20.047Z"
   },
   {
    "duration": 14,
    "start_time": "2023-05-24T15:06:20.158Z"
   },
   {
    "duration": 279,
    "start_time": "2023-05-24T15:06:20.173Z"
   },
   {
    "duration": 10,
    "start_time": "2023-05-24T15:06:20.454Z"
   },
   {
    "duration": 72,
    "start_time": "2023-05-24T15:06:20.466Z"
   },
   {
    "duration": 28,
    "start_time": "2023-05-24T15:06:20.540Z"
   },
   {
    "duration": 353,
    "start_time": "2023-05-24T15:06:20.570Z"
   },
   {
    "duration": 57,
    "start_time": "2023-05-24T15:06:20.924Z"
   },
   {
    "duration": 24,
    "start_time": "2023-05-24T15:06:20.983Z"
   },
   {
    "duration": 39,
    "start_time": "2023-05-24T15:06:21.008Z"
   },
   {
    "duration": 49686,
    "start_time": "2023-05-24T15:06:21.049Z"
   },
   {
    "duration": 189,
    "start_time": "2023-05-24T15:07:10.737Z"
   },
   {
    "duration": 21,
    "start_time": "2023-05-24T15:07:10.928Z"
   },
   {
    "duration": 14110,
    "start_time": "2023-05-24T15:07:10.950Z"
   },
   {
    "duration": 5,
    "start_time": "2023-05-24T15:07:25.062Z"
   },
   {
    "duration": 118,
    "start_time": "2023-05-24T15:07:25.069Z"
   },
   {
    "duration": 24,
    "start_time": "2023-05-24T15:07:25.189Z"
   },
   {
    "duration": 25,
    "start_time": "2023-05-24T15:07:25.214Z"
   },
   {
    "duration": 7,
    "start_time": "2023-05-24T15:07:25.240Z"
   },
   {
    "duration": 25674,
    "start_time": "2023-05-24T15:07:25.248Z"
   },
   {
    "duration": 190,
    "start_time": "2023-05-24T15:07:50.924Z"
   },
   {
    "duration": 92,
    "start_time": "2023-05-24T15:07:51.116Z"
   },
   {
    "duration": 289,
    "start_time": "2023-05-24T15:07:51.210Z"
   },
   {
    "duration": 3210,
    "start_time": "2023-05-24T15:07:51.506Z"
   },
   {
    "duration": 59,
    "start_time": "2023-05-24T15:07:54.717Z"
   },
   {
    "duration": 5,
    "start_time": "2023-05-24T15:07:54.777Z"
   },
   {
    "duration": 332,
    "start_time": "2023-05-24T15:07:54.784Z"
   },
   {
    "duration": 5,
    "start_time": "2023-05-24T15:08:40.366Z"
   },
   {
    "duration": 4,
    "start_time": "2023-05-24T15:08:56.445Z"
   },
   {
    "duration": 55,
    "start_time": "2023-05-24T15:10:42.837Z"
   },
   {
    "duration": 63,
    "start_time": "2023-05-24T15:11:56.541Z"
   },
   {
    "duration": 232,
    "start_time": "2023-05-24T15:13:03.249Z"
   },
   {
    "duration": 80,
    "start_time": "2023-05-24T15:13:36.044Z"
   },
   {
    "duration": 5,
    "start_time": "2023-05-24T15:15:02.198Z"
   },
   {
    "duration": 12,
    "start_time": "2023-05-24T15:16:14.047Z"
   },
   {
    "duration": 13,
    "start_time": "2023-05-24T15:18:33.804Z"
   },
   {
    "duration": 7304,
    "start_time": "2023-05-25T07:39:57.239Z"
   },
   {
    "duration": 1566,
    "start_time": "2023-05-25T07:40:04.546Z"
   },
   {
    "duration": 1176,
    "start_time": "2023-05-25T07:40:06.114Z"
   },
   {
    "duration": 787,
    "start_time": "2023-05-25T07:40:07.293Z"
   },
   {
    "duration": 99,
    "start_time": "2023-05-25T07:40:08.082Z"
   },
   {
    "duration": 498,
    "start_time": "2023-05-25T07:40:08.183Z"
   },
   {
    "duration": 10070,
    "start_time": "2023-05-25T07:40:08.683Z"
   },
   {
    "duration": 7,
    "start_time": "2023-05-25T07:40:18.755Z"
   },
   {
    "duration": 633,
    "start_time": "2023-05-25T07:40:18.763Z"
   },
   {
    "duration": 961,
    "start_time": "2023-05-25T07:40:19.398Z"
   },
   {
    "duration": 28,
    "start_time": "2023-05-25T07:40:20.360Z"
   },
   {
    "duration": 16,
    "start_time": "2023-05-25T07:40:20.390Z"
   },
   {
    "duration": 316,
    "start_time": "2023-05-25T07:40:20.425Z"
   },
   {
    "duration": 569,
    "start_time": "2023-05-25T07:40:20.743Z"
   },
   {
    "duration": 27,
    "start_time": "2023-05-25T07:40:21.314Z"
   },
   {
    "duration": 51,
    "start_time": "2023-05-25T07:40:21.343Z"
   },
   {
    "duration": 46,
    "start_time": "2023-05-25T07:40:21.395Z"
   },
   {
    "duration": 108,
    "start_time": "2023-05-25T07:40:21.443Z"
   },
   {
    "duration": 122,
    "start_time": "2023-05-25T07:40:21.552Z"
   },
   {
    "duration": 131,
    "start_time": "2023-05-25T07:40:21.676Z"
   },
   {
    "duration": 372,
    "start_time": "2023-05-25T07:40:21.809Z"
   },
   {
    "duration": 367,
    "start_time": "2023-05-25T07:40:22.183Z"
   },
   {
    "duration": 114,
    "start_time": "2023-05-25T07:40:22.551Z"
   },
   {
    "duration": 89,
    "start_time": "2023-05-25T07:40:22.667Z"
   },
   {
    "duration": 6,
    "start_time": "2023-05-25T07:40:22.758Z"
   },
   {
    "duration": 36,
    "start_time": "2023-05-25T07:40:22.765Z"
   },
   {
    "duration": 35,
    "start_time": "2023-05-25T07:40:22.803Z"
   },
   {
    "duration": 73,
    "start_time": "2023-05-25T07:40:22.843Z"
   },
   {
    "duration": 53,
    "start_time": "2023-05-25T07:40:22.918Z"
   },
   {
    "duration": 17,
    "start_time": "2023-05-25T07:40:22.973Z"
   },
   {
    "duration": 14,
    "start_time": "2023-05-25T07:40:22.993Z"
   },
   {
    "duration": 97,
    "start_time": "2023-05-25T07:40:23.009Z"
   },
   {
    "duration": 40,
    "start_time": "2023-05-25T07:40:23.108Z"
   },
   {
    "duration": 15,
    "start_time": "2023-05-25T07:40:23.150Z"
   },
   {
    "duration": 24,
    "start_time": "2023-05-25T07:40:23.166Z"
   },
   {
    "duration": 562,
    "start_time": "2023-05-25T07:40:23.192Z"
   },
   {
    "duration": 53,
    "start_time": "2023-05-25T07:40:23.756Z"
   },
   {
    "duration": 16,
    "start_time": "2023-05-25T07:40:23.810Z"
   },
   {
    "duration": 267,
    "start_time": "2023-05-25T07:40:23.829Z"
   },
   {
    "duration": 28,
    "start_time": "2023-05-25T07:40:24.098Z"
   },
   {
    "duration": 344,
    "start_time": "2023-05-25T07:40:24.129Z"
   },
   {
    "duration": 11,
    "start_time": "2023-05-25T07:40:24.474Z"
   },
   {
    "duration": 62,
    "start_time": "2023-05-25T07:40:24.486Z"
   },
   {
    "duration": 30,
    "start_time": "2023-05-25T07:40:24.550Z"
   },
   {
    "duration": 434,
    "start_time": "2023-05-25T07:40:24.582Z"
   },
   {
    "duration": 75,
    "start_time": "2023-05-25T07:40:25.024Z"
   },
   {
    "duration": 33,
    "start_time": "2023-05-25T07:40:25.101Z"
   },
   {
    "duration": 54,
    "start_time": "2023-05-25T07:40:25.136Z"
   },
   {
    "duration": 60836,
    "start_time": "2023-05-25T07:40:25.192Z"
   },
   {
    "duration": 207,
    "start_time": "2023-05-25T07:41:26.030Z"
   },
   {
    "duration": 24,
    "start_time": "2023-05-25T07:41:26.239Z"
   },
   {
    "duration": 18784,
    "start_time": "2023-05-25T07:41:26.264Z"
   },
   {
    "duration": 7,
    "start_time": "2023-05-25T07:41:45.050Z"
   },
   {
    "duration": 198,
    "start_time": "2023-05-25T07:41:45.058Z"
   },
   {
    "duration": 23,
    "start_time": "2023-05-25T07:41:45.258Z"
   },
   {
    "duration": 50,
    "start_time": "2023-05-25T07:41:45.282Z"
   },
   {
    "duration": 13,
    "start_time": "2023-05-25T07:41:45.333Z"
   },
   {
    "duration": 22716,
    "start_time": "2023-05-25T07:41:45.348Z"
   },
   {
    "duration": 262,
    "start_time": "2023-05-25T07:42:08.066Z"
   },
   {
    "duration": 95,
    "start_time": "2023-05-25T07:42:08.331Z"
   },
   {
    "duration": 243,
    "start_time": "2023-05-25T07:42:08.428Z"
   },
   {
    "duration": 3669,
    "start_time": "2023-05-25T07:42:08.673Z"
   },
   {
    "duration": 64,
    "start_time": "2023-05-25T07:42:12.344Z"
   },
   {
    "duration": 4,
    "start_time": "2023-05-25T07:42:12.425Z"
   },
   {
    "duration": 265,
    "start_time": "2023-05-25T07:42:12.431Z"
   },
   {
    "duration": 77,
    "start_time": "2023-05-25T07:42:12.697Z"
   },
   {
    "duration": 9,
    "start_time": "2023-05-25T07:45:14.801Z"
   },
   {
    "duration": 26550,
    "start_time": "2023-05-25T07:46:22.490Z"
   },
   {
    "duration": 22195,
    "start_time": "2023-05-25T07:47:05.366Z"
   },
   {
    "duration": 4,
    "start_time": "2023-05-25T07:47:35.523Z"
   },
   {
    "duration": 66,
    "start_time": "2023-05-25T07:47:45.459Z"
   },
   {
    "duration": 3,
    "start_time": "2023-05-25T07:47:56.499Z"
   },
   {
    "duration": 58,
    "start_time": "2023-05-25T07:48:13.280Z"
   },
   {
    "duration": 27787,
    "start_time": "2023-05-25T07:50:26.979Z"
   },
   {
    "duration": 4,
    "start_time": "2023-05-25T07:51:03.470Z"
   },
   {
    "duration": 24364,
    "start_time": "2023-05-25T07:51:13.682Z"
   },
   {
    "duration": 52,
    "start_time": "2023-05-25T07:52:24.874Z"
   },
   {
    "duration": 3559,
    "start_time": "2023-05-25T07:53:22.421Z"
   },
   {
    "duration": 70,
    "start_time": "2023-05-25T07:53:59.505Z"
   },
   {
    "duration": 175,
    "start_time": "2023-05-25T08:06:35.575Z"
   },
   {
    "duration": 208,
    "start_time": "2023-05-25T08:07:55.609Z"
   },
   {
    "duration": 6,
    "start_time": "2023-05-25T08:08:15.643Z"
   },
   {
    "duration": 61,
    "start_time": "2023-05-25T08:08:32.657Z"
   },
   {
    "duration": 81,
    "start_time": "2023-05-25T08:10:31.135Z"
   },
   {
    "duration": 70,
    "start_time": "2023-05-25T08:14:12.416Z"
   },
   {
    "duration": 94,
    "start_time": "2023-05-25T08:15:49.168Z"
   },
   {
    "duration": 50,
    "start_time": "2023-05-25T08:19:27.817Z"
   },
   {
    "duration": 76,
    "start_time": "2023-05-25T08:19:52.265Z"
   },
   {
    "duration": 200,
    "start_time": "2023-05-25T08:20:06.516Z"
   },
   {
    "duration": 6,
    "start_time": "2023-05-25T08:20:19.889Z"
   },
   {
    "duration": 4,
    "start_time": "2023-05-25T08:20:32.689Z"
   },
   {
    "duration": 98,
    "start_time": "2023-05-25T08:20:39.668Z"
   },
   {
    "duration": 17,
    "start_time": "2023-05-25T08:21:16.421Z"
   },
   {
    "duration": 21,
    "start_time": "2023-05-25T08:21:24.973Z"
   },
   {
    "duration": 99,
    "start_time": "2023-05-25T08:24:20.988Z"
   },
   {
    "duration": 126,
    "start_time": "2023-05-25T08:24:50.696Z"
   },
   {
    "duration": 74,
    "start_time": "2023-05-25T08:25:07.046Z"
   },
   {
    "duration": 107,
    "start_time": "2023-05-25T08:25:11.538Z"
   },
   {
    "duration": 156,
    "start_time": "2023-05-25T08:25:16.446Z"
   },
   {
    "duration": 115,
    "start_time": "2023-05-25T08:29:00.488Z"
   },
   {
    "duration": 62,
    "start_time": "2023-05-25T08:29:26.855Z"
   },
   {
    "duration": 95,
    "start_time": "2023-05-25T08:29:33.610Z"
   },
   {
    "duration": 9,
    "start_time": "2023-05-25T08:30:04.567Z"
   },
   {
    "duration": 10,
    "start_time": "2023-05-25T08:30:09.889Z"
   },
   {
    "duration": 32,
    "start_time": "2023-05-25T08:30:24.809Z"
   },
   {
    "duration": 32,
    "start_time": "2023-05-25T08:30:42.015Z"
   },
   {
    "duration": 33,
    "start_time": "2023-05-25T08:30:47.447Z"
   },
   {
    "duration": 41,
    "start_time": "2023-05-25T08:30:54.407Z"
   },
   {
    "duration": 2472,
    "start_time": "2023-05-25T08:45:27.974Z"
   },
   {
    "duration": 14,
    "start_time": "2023-05-25T08:45:30.449Z"
   },
   {
    "duration": 957,
    "start_time": "2023-05-25T08:45:30.464Z"
   },
   {
    "duration": 747,
    "start_time": "2023-05-25T08:45:31.427Z"
   },
   {
    "duration": 234,
    "start_time": "2023-05-25T08:45:32.176Z"
   },
   {
    "duration": 480,
    "start_time": "2023-05-25T08:45:32.412Z"
   },
   {
    "duration": 9892,
    "start_time": "2023-05-25T08:45:32.894Z"
   },
   {
    "duration": 7,
    "start_time": "2023-05-25T08:45:42.788Z"
   },
   {
    "duration": 695,
    "start_time": "2023-05-25T08:45:42.797Z"
   },
   {
    "duration": 967,
    "start_time": "2023-05-25T08:45:43.494Z"
   },
   {
    "duration": 39,
    "start_time": "2023-05-25T08:45:44.462Z"
   },
   {
    "duration": 40,
    "start_time": "2023-05-25T08:45:44.502Z"
   },
   {
    "duration": 363,
    "start_time": "2023-05-25T08:45:44.544Z"
   },
   {
    "duration": 689,
    "start_time": "2023-05-25T08:45:44.910Z"
   },
   {
    "duration": 12,
    "start_time": "2023-05-25T08:45:45.601Z"
   },
   {
    "duration": 31,
    "start_time": "2023-05-25T08:45:45.615Z"
   },
   {
    "duration": 45,
    "start_time": "2023-05-25T08:45:45.648Z"
   },
   {
    "duration": 107,
    "start_time": "2023-05-25T08:45:45.695Z"
   },
   {
    "duration": 135,
    "start_time": "2023-05-25T08:45:45.803Z"
   },
   {
    "duration": 142,
    "start_time": "2023-05-25T08:45:45.941Z"
   },
   {
    "duration": 368,
    "start_time": "2023-05-25T08:45:46.084Z"
   },
   {
    "duration": 358,
    "start_time": "2023-05-25T08:45:46.454Z"
   },
   {
    "duration": 112,
    "start_time": "2023-05-25T08:45:46.814Z"
   },
   {
    "duration": 68,
    "start_time": "2023-05-25T08:45:46.928Z"
   },
   {
    "duration": 7,
    "start_time": "2023-05-25T08:45:46.997Z"
   },
   {
    "duration": 17,
    "start_time": "2023-05-25T08:45:47.025Z"
   },
   {
    "duration": 9,
    "start_time": "2023-05-25T08:45:47.044Z"
   },
   {
    "duration": 23,
    "start_time": "2023-05-25T08:45:47.057Z"
   },
   {
    "duration": 48,
    "start_time": "2023-05-25T08:45:47.081Z"
   },
   {
    "duration": 17,
    "start_time": "2023-05-25T08:45:47.131Z"
   },
   {
    "duration": 8,
    "start_time": "2023-05-25T08:45:47.150Z"
   },
   {
    "duration": 40,
    "start_time": "2023-05-25T08:45:47.159Z"
   },
   {
    "duration": 53,
    "start_time": "2023-05-25T08:45:47.201Z"
   },
   {
    "duration": 12,
    "start_time": "2023-05-25T08:45:47.256Z"
   },
   {
    "duration": 40,
    "start_time": "2023-05-25T08:45:47.270Z"
   },
   {
    "duration": 571,
    "start_time": "2023-05-25T08:45:47.311Z"
   },
   {
    "duration": 65,
    "start_time": "2023-05-25T08:45:47.883Z"
   },
   {
    "duration": 3,
    "start_time": "2023-05-25T08:45:47.950Z"
   },
   {
    "duration": 124,
    "start_time": "2023-05-25T08:45:47.955Z"
   },
   {
    "duration": 17,
    "start_time": "2023-05-25T08:45:48.080Z"
   },
   {
    "duration": 355,
    "start_time": "2023-05-25T08:45:48.098Z"
   },
   {
    "duration": 11,
    "start_time": "2023-05-25T08:45:48.454Z"
   },
   {
    "duration": 50,
    "start_time": "2023-05-25T08:45:48.467Z"
   },
   {
    "duration": 39,
    "start_time": "2023-05-25T08:45:48.519Z"
   },
   {
    "duration": 386,
    "start_time": "2023-05-25T08:45:48.559Z"
   },
   {
    "duration": 61,
    "start_time": "2023-05-25T08:45:48.946Z"
   },
   {
    "duration": 31,
    "start_time": "2023-05-25T08:45:49.009Z"
   },
   {
    "duration": 57,
    "start_time": "2023-05-25T08:45:49.042Z"
   },
   {
    "duration": 3055,
    "start_time": "2023-05-25T08:47:08.551Z"
   },
   {
    "duration": 2280,
    "start_time": "2023-05-25T08:47:11.609Z"
   },
   {
    "duration": 1258,
    "start_time": "2023-05-25T08:47:13.891Z"
   },
   {
    "duration": 937,
    "start_time": "2023-05-25T08:47:15.152Z"
   },
   {
    "duration": 111,
    "start_time": "2023-05-25T08:47:16.091Z"
   },
   {
    "duration": 591,
    "start_time": "2023-05-25T08:47:16.204Z"
   },
   {
    "duration": 9953,
    "start_time": "2023-05-25T08:47:16.796Z"
   },
   {
    "duration": 8,
    "start_time": "2023-05-25T08:47:26.750Z"
   },
   {
    "duration": 761,
    "start_time": "2023-05-25T08:47:26.760Z"
   },
   {
    "duration": 1015,
    "start_time": "2023-05-25T08:47:27.524Z"
   },
   {
    "duration": 32,
    "start_time": "2023-05-25T08:47:28.541Z"
   },
   {
    "duration": 32,
    "start_time": "2023-05-25T08:47:28.575Z"
   },
   {
    "duration": 348,
    "start_time": "2023-05-25T08:47:28.608Z"
   },
   {
    "duration": 496,
    "start_time": "2023-05-25T08:47:28.961Z"
   },
   {
    "duration": 12,
    "start_time": "2023-05-25T08:47:29.458Z"
   },
   {
    "duration": 32,
    "start_time": "2023-05-25T08:47:29.471Z"
   },
   {
    "duration": 68,
    "start_time": "2023-05-25T08:47:29.504Z"
   },
   {
    "duration": 97,
    "start_time": "2023-05-25T08:47:29.574Z"
   },
   {
    "duration": 183,
    "start_time": "2023-05-25T08:47:29.672Z"
   },
   {
    "duration": 133,
    "start_time": "2023-05-25T08:47:29.856Z"
   },
   {
    "duration": 368,
    "start_time": "2023-05-25T08:47:29.990Z"
   },
   {
    "duration": 360,
    "start_time": "2023-05-25T08:47:30.360Z"
   },
   {
    "duration": 123,
    "start_time": "2023-05-25T08:47:30.722Z"
   },
   {
    "duration": 135,
    "start_time": "2023-05-25T08:47:30.846Z"
   },
   {
    "duration": 19,
    "start_time": "2023-05-25T08:47:30.984Z"
   },
   {
    "duration": 136,
    "start_time": "2023-05-25T08:47:31.004Z"
   },
   {
    "duration": 174,
    "start_time": "2023-05-25T08:47:31.142Z"
   },
   {
    "duration": 122,
    "start_time": "2023-05-25T08:47:31.318Z"
   },
   {
    "duration": 79,
    "start_time": "2023-05-25T08:47:31.442Z"
   },
   {
    "duration": 40,
    "start_time": "2023-05-25T08:47:31.523Z"
   },
   {
    "duration": 67,
    "start_time": "2023-05-25T08:47:31.565Z"
   },
   {
    "duration": 97,
    "start_time": "2023-05-25T08:47:31.634Z"
   },
   {
    "duration": 54,
    "start_time": "2023-05-25T08:47:31.733Z"
   },
   {
    "duration": 12,
    "start_time": "2023-05-25T08:47:31.789Z"
   },
   {
    "duration": 62,
    "start_time": "2023-05-25T08:47:31.803Z"
   },
   {
    "duration": 700,
    "start_time": "2023-05-25T08:47:31.866Z"
   },
   {
    "duration": 73,
    "start_time": "2023-05-25T08:47:32.567Z"
   },
   {
    "duration": 3,
    "start_time": "2023-05-25T08:47:32.642Z"
   },
   {
    "duration": 136,
    "start_time": "2023-05-25T08:47:32.648Z"
   },
   {
    "duration": 18,
    "start_time": "2023-05-25T08:47:32.786Z"
   },
   {
    "duration": 369,
    "start_time": "2023-05-25T08:47:32.824Z"
   },
   {
    "duration": 11,
    "start_time": "2023-05-25T08:47:33.194Z"
   },
   {
    "duration": 74,
    "start_time": "2023-05-25T08:47:33.206Z"
   },
   {
    "duration": 33,
    "start_time": "2023-05-25T08:47:33.283Z"
   },
   {
    "duration": 398,
    "start_time": "2023-05-25T08:47:33.318Z"
   },
   {
    "duration": 69,
    "start_time": "2023-05-25T08:47:33.718Z"
   },
   {
    "duration": 11,
    "start_time": "2023-05-25T08:47:33.788Z"
   },
   {
    "duration": 79,
    "start_time": "2023-05-25T08:47:33.800Z"
   },
   {
    "duration": 51517,
    "start_time": "2023-05-25T08:47:33.880Z"
   },
   {
    "duration": 200,
    "start_time": "2023-05-25T08:48:25.399Z"
   },
   {
    "duration": 34,
    "start_time": "2023-05-25T08:48:25.601Z"
   },
   {
    "duration": 14162,
    "start_time": "2023-05-25T08:48:25.638Z"
   },
   {
    "duration": 6,
    "start_time": "2023-05-25T08:48:39.801Z"
   },
   {
    "duration": 130,
    "start_time": "2023-05-25T08:48:39.809Z"
   },
   {
    "duration": 30,
    "start_time": "2023-05-25T08:48:39.941Z"
   },
   {
    "duration": 73,
    "start_time": "2023-05-25T08:48:39.973Z"
   },
   {
    "duration": 4,
    "start_time": "2023-05-25T08:48:40.048Z"
   },
   {
    "duration": 22397,
    "start_time": "2023-05-25T08:48:40.054Z"
   },
   {
    "duration": 276,
    "start_time": "2023-05-25T08:49:02.453Z"
   },
   {
    "duration": 90,
    "start_time": "2023-05-25T08:49:02.734Z"
   },
   {
    "duration": 264,
    "start_time": "2023-05-25T08:49:02.827Z"
   },
   {
    "duration": 3704,
    "start_time": "2023-05-25T08:49:03.093Z"
   },
   {
    "duration": 73,
    "start_time": "2023-05-25T08:49:06.798Z"
   },
   {
    "duration": 4,
    "start_time": "2023-05-25T08:49:06.873Z"
   },
   {
    "duration": 320,
    "start_time": "2023-05-25T08:49:06.879Z"
   },
   {
    "duration": 12,
    "start_time": "2023-05-25T08:49:07.201Z"
   },
   {
    "duration": 76,
    "start_time": "2023-05-25T08:49:56.479Z"
   },
   {
    "duration": 124,
    "start_time": "2023-05-25T08:50:40.279Z"
   },
   {
    "duration": 803,
    "start_time": "2023-05-25T08:52:53.779Z"
   },
   {
    "duration": 123,
    "start_time": "2023-05-25T08:58:09.042Z"
   },
   {
    "duration": 48,
    "start_time": "2023-05-25T08:59:01.304Z"
   },
   {
    "duration": 75536,
    "start_time": "2023-05-25T08:59:29.635Z"
   },
   {
    "duration": 215,
    "start_time": "2023-05-25T09:02:33.575Z"
   },
   {
    "duration": 906134,
    "start_time": "2023-05-25T09:02:58.691Z"
   },
   {
    "duration": 6536,
    "start_time": "2023-05-25T09:21:09.290Z"
   },
   {
    "duration": 10,
    "start_time": "2023-05-25T09:21:34.394Z"
   },
   {
    "duration": 5,
    "start_time": "2023-05-25T09:21:48.850Z"
   },
   {
    "duration": 90,
    "start_time": "2023-05-25T09:24:17.056Z"
   },
   {
    "duration": 349,
    "start_time": "2023-05-25T09:24:32.690Z"
   },
   {
    "duration": 4,
    "start_time": "2023-05-25T09:25:43.601Z"
   },
   {
    "duration": 10,
    "start_time": "2023-05-25T09:29:18.562Z"
   },
   {
    "duration": 7,
    "start_time": "2023-05-25T09:29:50.536Z"
   },
   {
    "duration": 11,
    "start_time": "2023-05-25T09:29:56.805Z"
   },
   {
    "duration": 4713,
    "start_time": "2023-05-25T09:30:25.613Z"
   },
   {
    "duration": 4009,
    "start_time": "2023-05-25T09:32:30.320Z"
   },
   {
    "duration": 3,
    "start_time": "2023-05-25T09:32:55.746Z"
   },
   {
    "duration": 82745,
    "start_time": "2023-05-25T09:36:25.841Z"
   },
   {
    "duration": 2181,
    "start_time": "2023-05-25T09:40:58.090Z"
   },
   {
    "duration": 9,
    "start_time": "2023-05-25T09:41:00.273Z"
   },
   {
    "duration": 853,
    "start_time": "2023-05-25T09:41:00.283Z"
   },
   {
    "duration": 689,
    "start_time": "2023-05-25T09:41:01.138Z"
   },
   {
    "duration": 97,
    "start_time": "2023-05-25T09:41:01.830Z"
   },
   {
    "duration": 511,
    "start_time": "2023-05-25T09:41:01.929Z"
   },
   {
    "duration": 8648,
    "start_time": "2023-05-25T09:41:02.442Z"
   },
   {
    "duration": 9,
    "start_time": "2023-05-25T09:41:11.092Z"
   },
   {
    "duration": 652,
    "start_time": "2023-05-25T09:41:11.103Z"
   },
   {
    "duration": 829,
    "start_time": "2023-05-25T09:41:11.756Z"
   },
   {
    "duration": 37,
    "start_time": "2023-05-25T09:41:12.587Z"
   },
   {
    "duration": 30,
    "start_time": "2023-05-25T09:41:12.626Z"
   },
   {
    "duration": 349,
    "start_time": "2023-05-25T09:41:12.657Z"
   },
   {
    "duration": 485,
    "start_time": "2023-05-25T09:41:13.010Z"
   },
   {
    "duration": 12,
    "start_time": "2023-05-25T09:41:13.497Z"
   },
   {
    "duration": 33,
    "start_time": "2023-05-25T09:41:13.511Z"
   },
   {
    "duration": 62,
    "start_time": "2023-05-25T09:41:13.546Z"
   },
   {
    "duration": 96,
    "start_time": "2023-05-25T09:41:13.610Z"
   },
   {
    "duration": 156,
    "start_time": "2023-05-25T09:41:13.708Z"
   },
   {
    "duration": 137,
    "start_time": "2023-05-25T09:41:13.866Z"
   },
   {
    "duration": 317,
    "start_time": "2023-05-25T09:41:14.005Z"
   },
   {
    "duration": 320,
    "start_time": "2023-05-25T09:41:14.325Z"
   },
   {
    "duration": 111,
    "start_time": "2023-05-25T09:41:14.646Z"
   },
   {
    "duration": 91,
    "start_time": "2023-05-25T09:41:14.760Z"
   },
   {
    "duration": 7,
    "start_time": "2023-05-25T09:41:14.854Z"
   },
   {
    "duration": 95,
    "start_time": "2023-05-25T09:41:14.863Z"
   },
   {
    "duration": 34,
    "start_time": "2023-05-25T09:41:14.960Z"
   },
   {
    "duration": 59,
    "start_time": "2023-05-25T09:41:14.995Z"
   },
   {
    "duration": 65,
    "start_time": "2023-05-25T09:41:15.055Z"
   },
   {
    "duration": 35,
    "start_time": "2023-05-25T09:41:15.122Z"
   },
   {
    "duration": 50,
    "start_time": "2023-05-25T09:41:15.159Z"
   },
   {
    "duration": 91,
    "start_time": "2023-05-25T09:41:15.210Z"
   },
   {
    "duration": 24,
    "start_time": "2023-05-25T09:41:15.303Z"
   },
   {
    "duration": 25,
    "start_time": "2023-05-25T09:41:15.328Z"
   },
   {
    "duration": 39,
    "start_time": "2023-05-25T09:41:15.355Z"
   },
   {
    "duration": 479,
    "start_time": "2023-05-25T09:41:15.396Z"
   },
   {
    "duration": 55,
    "start_time": "2023-05-25T09:41:15.876Z"
   },
   {
    "duration": 42,
    "start_time": "2023-05-25T09:41:15.933Z"
   },
   {
    "duration": 291,
    "start_time": "2023-05-25T09:41:15.976Z"
   },
   {
    "duration": 16,
    "start_time": "2023-05-25T09:41:16.269Z"
   },
   {
    "duration": 328,
    "start_time": "2023-05-25T09:41:16.289Z"
   },
   {
    "duration": 13,
    "start_time": "2023-05-25T09:41:16.618Z"
   },
   {
    "duration": 64,
    "start_time": "2023-05-25T09:41:16.633Z"
   },
   {
    "duration": 39,
    "start_time": "2023-05-25T09:41:16.699Z"
   },
   {
    "duration": 381,
    "start_time": "2023-05-25T09:41:16.739Z"
   },
   {
    "duration": 59,
    "start_time": "2023-05-25T09:41:17.122Z"
   },
   {
    "duration": 9,
    "start_time": "2023-05-25T09:41:17.183Z"
   },
   {
    "duration": 105,
    "start_time": "2023-05-25T09:41:17.194Z"
   },
   {
    "duration": 2476,
    "start_time": "2023-05-25T09:41:40.218Z"
   },
   {
    "duration": 1816,
    "start_time": "2023-05-25T09:41:42.696Z"
   },
   {
    "duration": 1121,
    "start_time": "2023-05-25T09:41:44.514Z"
   },
   {
    "duration": 678,
    "start_time": "2023-05-25T09:41:45.637Z"
   },
   {
    "duration": 92,
    "start_time": "2023-05-25T09:41:46.317Z"
   },
   {
    "duration": 466,
    "start_time": "2023-05-25T09:41:46.424Z"
   },
   {
    "duration": 8652,
    "start_time": "2023-05-25T09:41:46.892Z"
   },
   {
    "duration": 7,
    "start_time": "2023-05-25T09:41:55.546Z"
   },
   {
    "duration": 617,
    "start_time": "2023-05-25T09:41:55.554Z"
   },
   {
    "duration": 927,
    "start_time": "2023-05-25T09:41:56.173Z"
   },
   {
    "duration": 40,
    "start_time": "2023-05-25T09:41:57.102Z"
   },
   {
    "duration": 23,
    "start_time": "2023-05-25T09:41:57.144Z"
   },
   {
    "duration": 314,
    "start_time": "2023-05-25T09:41:57.168Z"
   },
   {
    "duration": 427,
    "start_time": "2023-05-25T09:41:57.485Z"
   },
   {
    "duration": 19,
    "start_time": "2023-05-25T09:41:57.914Z"
   },
   {
    "duration": 102,
    "start_time": "2023-05-25T09:41:57.935Z"
   },
   {
    "duration": 54,
    "start_time": "2023-05-25T09:41:58.039Z"
   },
   {
    "duration": 100,
    "start_time": "2023-05-25T09:41:58.095Z"
   },
   {
    "duration": 133,
    "start_time": "2023-05-25T09:41:58.197Z"
   },
   {
    "duration": 126,
    "start_time": "2023-05-25T09:41:58.331Z"
   },
   {
    "duration": 341,
    "start_time": "2023-05-25T09:41:58.458Z"
   },
   {
    "duration": 302,
    "start_time": "2023-05-25T09:41:58.801Z"
   },
   {
    "duration": 94,
    "start_time": "2023-05-25T09:41:59.104Z"
   },
   {
    "duration": 70,
    "start_time": "2023-05-25T09:41:59.200Z"
   },
   {
    "duration": 6,
    "start_time": "2023-05-25T09:41:59.271Z"
   },
   {
    "duration": 36,
    "start_time": "2023-05-25T09:41:59.278Z"
   },
   {
    "duration": 6,
    "start_time": "2023-05-25T09:41:59.316Z"
   },
   {
    "duration": 32,
    "start_time": "2023-05-25T09:41:59.323Z"
   },
   {
    "duration": 31,
    "start_time": "2023-05-25T09:41:59.357Z"
   },
   {
    "duration": 14,
    "start_time": "2023-05-25T09:41:59.390Z"
   },
   {
    "duration": 15,
    "start_time": "2023-05-25T09:41:59.405Z"
   },
   {
    "duration": 47,
    "start_time": "2023-05-25T09:41:59.421Z"
   },
   {
    "duration": 33,
    "start_time": "2023-05-25T09:41:59.470Z"
   },
   {
    "duration": 19,
    "start_time": "2023-05-25T09:41:59.505Z"
   },
   {
    "duration": 4,
    "start_time": "2023-05-25T09:41:59.526Z"
   },
   {
    "duration": 581,
    "start_time": "2023-05-25T09:41:59.531Z"
   },
   {
    "duration": 51,
    "start_time": "2023-05-25T09:42:00.113Z"
   },
   {
    "duration": 2,
    "start_time": "2023-05-25T09:42:00.165Z"
   },
   {
    "duration": 147,
    "start_time": "2023-05-25T09:42:00.168Z"
   },
   {
    "duration": 20,
    "start_time": "2023-05-25T09:42:00.316Z"
   },
   {
    "duration": 338,
    "start_time": "2023-05-25T09:42:00.340Z"
   },
   {
    "duration": 10,
    "start_time": "2023-05-25T09:42:00.680Z"
   },
   {
    "duration": 127,
    "start_time": "2023-05-25T09:42:00.691Z"
   },
   {
    "duration": 177,
    "start_time": "2023-05-25T09:42:00.819Z"
   },
   {
    "duration": 413,
    "start_time": "2023-05-25T09:42:00.998Z"
   },
   {
    "duration": 62,
    "start_time": "2023-05-25T09:42:01.414Z"
   },
   {
    "duration": 15,
    "start_time": "2023-05-25T09:42:01.478Z"
   },
   {
    "duration": 92,
    "start_time": "2023-05-25T09:42:01.494Z"
   },
   {
    "duration": 47140,
    "start_time": "2023-05-25T09:42:01.588Z"
   },
   {
    "duration": 190,
    "start_time": "2023-05-25T09:42:48.730Z"
   },
   {
    "duration": 22,
    "start_time": "2023-05-25T09:42:48.922Z"
   },
   {
    "duration": 11183,
    "start_time": "2023-05-25T09:42:48.946Z"
   },
   {
    "duration": 6,
    "start_time": "2023-05-25T09:43:00.130Z"
   },
   {
    "duration": 128,
    "start_time": "2023-05-25T09:43:00.138Z"
   },
   {
    "duration": 23,
    "start_time": "2023-05-25T09:43:00.267Z"
   },
   {
    "duration": 35,
    "start_time": "2023-05-25T09:43:00.291Z"
   },
   {
    "duration": 25,
    "start_time": "2023-05-25T09:43:00.328Z"
   },
   {
    "duration": 18799,
    "start_time": "2023-05-25T09:43:00.355Z"
   },
   {
    "duration": 197,
    "start_time": "2023-05-25T09:43:19.156Z"
   },
   {
    "duration": 72,
    "start_time": "2023-05-25T09:43:19.355Z"
   },
   {
    "duration": 329,
    "start_time": "2023-05-25T09:43:19.430Z"
   },
   {
    "duration": 3387,
    "start_time": "2023-05-25T09:43:19.761Z"
   },
   {
    "duration": 76,
    "start_time": "2023-05-25T09:43:23.149Z"
   },
   {
    "duration": 5,
    "start_time": "2023-05-25T09:43:23.226Z"
   },
   {
    "duration": 271,
    "start_time": "2023-05-25T09:43:23.232Z"
   },
   {
    "duration": 68,
    "start_time": "2023-05-25T09:43:23.504Z"
   },
   {
    "duration": 125,
    "start_time": "2023-05-25T09:43:23.574Z"
   },
   {
    "duration": 738,
    "start_time": "2023-05-25T09:43:23.701Z"
   },
   {
    "duration": 5889,
    "start_time": "2023-05-25T09:43:24.441Z"
   },
   {
    "duration": 407,
    "start_time": "2023-05-25T09:43:30.331Z"
   },
   {
    "duration": 5,
    "start_time": "2023-05-25T09:43:30.740Z"
   },
   {
    "duration": 131,
    "start_time": "2023-05-25T09:43:30.746Z"
   },
   {
    "duration": 162034,
    "start_time": "2023-05-25T09:43:30.879Z"
   },
   {
    "duration": 662,
    "start_time": "2023-05-25T09:50:53.329Z"
   },
   {
    "duration": 5,
    "start_time": "2023-05-25T09:51:44.730Z"
   },
   {
    "duration": 124,
    "start_time": "2023-05-25T09:58:36.878Z"
   },
   {
    "duration": 3,
    "start_time": "2023-05-25T09:59:29.356Z"
   },
   {
    "duration": 8,
    "start_time": "2023-05-25T09:59:36.566Z"
   },
   {
    "duration": 4,
    "start_time": "2023-05-25T10:00:16.795Z"
   },
   {
    "duration": 8,
    "start_time": "2023-05-25T10:00:18.548Z"
   },
   {
    "duration": 4,
    "start_time": "2023-05-25T10:00:47.853Z"
   },
   {
    "duration": 15,
    "start_time": "2023-05-25T10:00:49.113Z"
   },
   {
    "duration": 4,
    "start_time": "2023-05-25T10:01:02.874Z"
   },
   {
    "duration": 11,
    "start_time": "2023-05-25T10:01:05.452Z"
   },
   {
    "duration": 3,
    "start_time": "2023-05-25T10:01:14.084Z"
   },
   {
    "duration": 9,
    "start_time": "2023-05-25T10:01:15.133Z"
   },
   {
    "duration": 4,
    "start_time": "2023-05-25T10:01:33.673Z"
   },
   {
    "duration": 9,
    "start_time": "2023-05-25T10:01:34.314Z"
   },
   {
    "duration": 3,
    "start_time": "2023-05-25T10:01:52.813Z"
   },
   {
    "duration": 3,
    "start_time": "2023-05-25T10:02:09.134Z"
   },
   {
    "duration": 10,
    "start_time": "2023-05-25T10:02:10.637Z"
   },
   {
    "duration": 4,
    "start_time": "2023-05-25T10:02:21.452Z"
   },
   {
    "duration": 9,
    "start_time": "2023-05-25T10:02:21.924Z"
   },
   {
    "duration": 4,
    "start_time": "2023-05-25T10:02:33.786Z"
   },
   {
    "duration": 10,
    "start_time": "2023-05-25T10:02:34.337Z"
   },
   {
    "duration": 3,
    "start_time": "2023-05-25T10:02:59.932Z"
   },
   {
    "duration": 11,
    "start_time": "2023-05-25T10:03:00.893Z"
   },
   {
    "duration": 3,
    "start_time": "2023-05-25T10:03:11.194Z"
   },
   {
    "duration": 9,
    "start_time": "2023-05-25T10:03:11.994Z"
   },
   {
    "duration": 4,
    "start_time": "2023-05-25T10:03:21.364Z"
   },
   {
    "duration": 9,
    "start_time": "2023-05-25T10:03:21.916Z"
   },
   {
    "duration": 3,
    "start_time": "2023-05-25T10:04:17.674Z"
   },
   {
    "duration": 5,
    "start_time": "2023-05-25T10:04:24.074Z"
   },
   {
    "duration": 3,
    "start_time": "2023-05-25T10:04:30.945Z"
   },
   {
    "duration": 3,
    "start_time": "2023-05-25T10:05:58.475Z"
   },
   {
    "duration": 3,
    "start_time": "2023-05-25T10:06:09.692Z"
   },
   {
    "duration": 14,
    "start_time": "2023-05-25T10:06:10.334Z"
   },
   {
    "duration": 9,
    "start_time": "2023-05-25T10:10:37.353Z"
   },
   {
    "duration": 254,
    "start_time": "2023-05-25T10:11:18.300Z"
   },
   {
    "duration": 223,
    "start_time": "2023-05-25T10:11:34.363Z"
   },
   {
    "duration": 125,
    "start_time": "2023-05-25T10:36:14.447Z"
   },
   {
    "duration": 158,
    "start_time": "2023-05-25T10:37:00.467Z"
   },
   {
    "duration": 567,
    "start_time": "2023-05-25T10:37:47.112Z"
   },
   {
    "duration": 4,
    "start_time": "2023-05-25T10:39:51.584Z"
   },
   {
    "duration": 3273,
    "start_time": "2023-05-25T10:40:07.306Z"
   },
   {
    "duration": 7,
    "start_time": "2023-05-25T10:40:10.582Z"
   },
   {
    "duration": 822,
    "start_time": "2023-05-25T10:40:10.590Z"
   },
   {
    "duration": 668,
    "start_time": "2023-05-25T10:40:11.413Z"
   },
   {
    "duration": 94,
    "start_time": "2023-05-25T10:40:12.084Z"
   },
   {
    "duration": 413,
    "start_time": "2023-05-25T10:40:12.180Z"
   },
   {
    "duration": 8939,
    "start_time": "2023-05-25T10:40:12.595Z"
   },
   {
    "duration": 8,
    "start_time": "2023-05-25T10:40:21.536Z"
   },
   {
    "duration": 616,
    "start_time": "2023-05-25T10:40:21.546Z"
   },
   {
    "duration": 834,
    "start_time": "2023-05-25T10:40:22.164Z"
   },
   {
    "duration": 48,
    "start_time": "2023-05-25T10:40:23.000Z"
   },
   {
    "duration": 19,
    "start_time": "2023-05-25T10:40:23.050Z"
   },
   {
    "duration": 329,
    "start_time": "2023-05-25T10:40:23.072Z"
   },
   {
    "duration": 458,
    "start_time": "2023-05-25T10:40:23.404Z"
   },
   {
    "duration": 12,
    "start_time": "2023-05-25T10:40:23.864Z"
   },
   {
    "duration": 17,
    "start_time": "2023-05-25T10:40:23.878Z"
   },
   {
    "duration": 54,
    "start_time": "2023-05-25T10:40:23.897Z"
   },
   {
    "duration": 102,
    "start_time": "2023-05-25T10:40:23.953Z"
   },
   {
    "duration": 133,
    "start_time": "2023-05-25T10:40:24.056Z"
   },
   {
    "duration": 119,
    "start_time": "2023-05-25T10:40:24.191Z"
   },
   {
    "duration": 327,
    "start_time": "2023-05-25T10:40:24.312Z"
   },
   {
    "duration": 361,
    "start_time": "2023-05-25T10:40:24.641Z"
   },
   {
    "duration": 121,
    "start_time": "2023-05-25T10:40:25.004Z"
   },
   {
    "duration": 86,
    "start_time": "2023-05-25T10:40:25.127Z"
   },
   {
    "duration": 7,
    "start_time": "2023-05-25T10:40:25.224Z"
   },
   {
    "duration": 17,
    "start_time": "2023-05-25T10:40:25.233Z"
   },
   {
    "duration": 9,
    "start_time": "2023-05-25T10:40:25.252Z"
   },
   {
    "duration": 32,
    "start_time": "2023-05-25T10:40:25.263Z"
   },
   {
    "duration": 24,
    "start_time": "2023-05-25T10:40:25.326Z"
   },
   {
    "duration": 14,
    "start_time": "2023-05-25T10:40:25.352Z"
   },
   {
    "duration": 7,
    "start_time": "2023-05-25T10:40:25.368Z"
   },
   {
    "duration": 67,
    "start_time": "2023-05-25T10:40:25.377Z"
   },
   {
    "duration": 26,
    "start_time": "2023-05-25T10:40:25.446Z"
   },
   {
    "duration": 12,
    "start_time": "2023-05-25T10:40:25.473Z"
   },
   {
    "duration": 4,
    "start_time": "2023-05-25T10:40:25.487Z"
   },
   {
    "duration": 506,
    "start_time": "2023-05-25T10:40:25.493Z"
   },
   {
    "duration": 54,
    "start_time": "2023-05-25T10:40:26.001Z"
   },
   {
    "duration": 2,
    "start_time": "2023-05-25T10:40:26.057Z"
   },
   {
    "duration": 218,
    "start_time": "2023-05-25T10:40:26.060Z"
   },
   {
    "duration": 16,
    "start_time": "2023-05-25T10:40:26.280Z"
   },
   {
    "duration": 332,
    "start_time": "2023-05-25T10:40:26.302Z"
   },
   {
    "duration": 11,
    "start_time": "2023-05-25T10:40:26.635Z"
   },
   {
    "duration": 35,
    "start_time": "2023-05-25T10:40:26.648Z"
   },
   {
    "duration": 53,
    "start_time": "2023-05-25T10:40:26.684Z"
   },
   {
    "duration": 326,
    "start_time": "2023-05-25T10:40:26.739Z"
   },
   {
    "duration": 65,
    "start_time": "2023-05-25T10:40:27.067Z"
   },
   {
    "duration": 11,
    "start_time": "2023-05-25T10:40:27.133Z"
   },
   {
    "duration": 46,
    "start_time": "2023-05-25T10:40:27.145Z"
   },
   {
    "duration": 3068,
    "start_time": "2023-05-25T10:41:14.664Z"
   },
   {
    "duration": 2069,
    "start_time": "2023-05-25T10:41:17.734Z"
   },
   {
    "duration": 1064,
    "start_time": "2023-05-25T10:41:19.805Z"
   },
   {
    "duration": 789,
    "start_time": "2023-05-25T10:41:20.871Z"
   },
   {
    "duration": 108,
    "start_time": "2023-05-25T10:41:21.662Z"
   },
   {
    "duration": 475,
    "start_time": "2023-05-25T10:41:21.772Z"
   },
   {
    "duration": 9148,
    "start_time": "2023-05-25T10:41:22.249Z"
   },
   {
    "duration": 7,
    "start_time": "2023-05-25T10:41:31.399Z"
   },
   {
    "duration": 716,
    "start_time": "2023-05-25T10:41:31.408Z"
   },
   {
    "duration": 992,
    "start_time": "2023-05-25T10:41:32.126Z"
   },
   {
    "duration": 30,
    "start_time": "2023-05-25T10:41:33.124Z"
   },
   {
    "duration": 18,
    "start_time": "2023-05-25T10:41:33.156Z"
   },
   {
    "duration": 331,
    "start_time": "2023-05-25T10:41:33.175Z"
   },
   {
    "duration": 476,
    "start_time": "2023-05-25T10:41:33.509Z"
   },
   {
    "duration": 12,
    "start_time": "2023-05-25T10:41:33.987Z"
   },
   {
    "duration": 34,
    "start_time": "2023-05-25T10:41:34.001Z"
   },
   {
    "duration": 46,
    "start_time": "2023-05-25T10:41:34.037Z"
   },
   {
    "duration": 173,
    "start_time": "2023-05-25T10:41:34.085Z"
   },
   {
    "duration": 191,
    "start_time": "2023-05-25T10:41:34.260Z"
   },
   {
    "duration": 164,
    "start_time": "2023-05-25T10:41:34.453Z"
   },
   {
    "duration": 363,
    "start_time": "2023-05-25T10:41:34.619Z"
   },
   {
    "duration": 346,
    "start_time": "2023-05-25T10:41:34.984Z"
   },
   {
    "duration": 138,
    "start_time": "2023-05-25T10:41:35.332Z"
   },
   {
    "duration": 80,
    "start_time": "2023-05-25T10:41:35.472Z"
   },
   {
    "duration": 6,
    "start_time": "2023-05-25T10:41:35.555Z"
   },
   {
    "duration": 53,
    "start_time": "2023-05-25T10:41:35.563Z"
   },
   {
    "duration": 38,
    "start_time": "2023-05-25T10:41:35.618Z"
   },
   {
    "duration": 92,
    "start_time": "2023-05-25T10:41:35.659Z"
   },
   {
    "duration": 93,
    "start_time": "2023-05-25T10:41:35.753Z"
   },
   {
    "duration": 90,
    "start_time": "2023-05-25T10:41:35.848Z"
   },
   {
    "duration": 77,
    "start_time": "2023-05-25T10:41:35.940Z"
   },
   {
    "duration": 119,
    "start_time": "2023-05-25T10:41:36.019Z"
   },
   {
    "duration": 29,
    "start_time": "2023-05-25T10:41:36.141Z"
   },
   {
    "duration": 37,
    "start_time": "2023-05-25T10:41:36.172Z"
   },
   {
    "duration": 28,
    "start_time": "2023-05-25T10:41:36.210Z"
   },
   {
    "duration": 585,
    "start_time": "2023-05-25T10:41:36.240Z"
   },
   {
    "duration": 48,
    "start_time": "2023-05-25T10:41:36.827Z"
   },
   {
    "duration": 54,
    "start_time": "2023-05-25T10:41:36.877Z"
   },
   {
    "duration": 264,
    "start_time": "2023-05-25T10:41:36.933Z"
   },
   {
    "duration": 35,
    "start_time": "2023-05-25T10:41:37.199Z"
   },
   {
    "duration": 359,
    "start_time": "2023-05-25T10:41:37.238Z"
   },
   {
    "duration": 10,
    "start_time": "2023-05-25T10:41:37.599Z"
   },
   {
    "duration": 117,
    "start_time": "2023-05-25T10:41:37.611Z"
   },
   {
    "duration": 223,
    "start_time": "2023-05-25T10:41:37.730Z"
   },
   {
    "duration": 402,
    "start_time": "2023-05-25T10:41:37.955Z"
   },
   {
    "duration": 68,
    "start_time": "2023-05-25T10:41:38.359Z"
   },
   {
    "duration": 11,
    "start_time": "2023-05-25T10:41:38.429Z"
   },
   {
    "duration": 81,
    "start_time": "2023-05-25T10:41:38.441Z"
   },
   {
    "duration": 54086,
    "start_time": "2023-05-25T10:41:38.524Z"
   },
   {
    "duration": 200,
    "start_time": "2023-05-25T10:42:32.611Z"
   },
   {
    "duration": 32,
    "start_time": "2023-05-25T10:42:32.814Z"
   },
   {
    "duration": 14398,
    "start_time": "2023-05-25T10:42:32.848Z"
   },
   {
    "duration": 6,
    "start_time": "2023-05-25T10:42:47.247Z"
   },
   {
    "duration": 115,
    "start_time": "2023-05-25T10:42:47.254Z"
   },
   {
    "duration": 21,
    "start_time": "2023-05-25T10:42:47.370Z"
   },
   {
    "duration": 33,
    "start_time": "2023-05-25T10:42:47.393Z"
   },
   {
    "duration": 24,
    "start_time": "2023-05-25T10:42:47.428Z"
   },
   {
    "duration": 19003,
    "start_time": "2023-05-25T10:42:47.453Z"
   },
   {
    "duration": 268,
    "start_time": "2023-05-25T10:43:06.457Z"
   },
   {
    "duration": 94,
    "start_time": "2023-05-25T10:43:06.732Z"
   },
   {
    "duration": 221,
    "start_time": "2023-05-25T10:43:06.827Z"
   },
   {
    "duration": 3281,
    "start_time": "2023-05-25T10:43:07.050Z"
   },
   {
    "duration": 61,
    "start_time": "2023-05-25T10:43:10.333Z"
   },
   {
    "duration": 4,
    "start_time": "2023-05-25T10:43:10.396Z"
   },
   {
    "duration": 270,
    "start_time": "2023-05-25T10:43:10.402Z"
   },
   {
    "duration": 72,
    "start_time": "2023-05-25T10:43:10.673Z"
   },
   {
    "duration": 124,
    "start_time": "2023-05-25T10:43:10.747Z"
   },
   {
    "duration": 773,
    "start_time": "2023-05-25T10:43:10.873Z"
   },
   {
    "duration": 8587,
    "start_time": "2023-05-25T10:43:11.648Z"
   },
   {
    "duration": 489,
    "start_time": "2023-05-25T10:43:20.237Z"
   },
   {
    "duration": 5,
    "start_time": "2023-05-25T10:43:20.729Z"
   },
   {
    "duration": 264,
    "start_time": "2023-05-25T10:43:20.735Z"
   },
   {
    "duration": 153,
    "start_time": "2023-05-25T10:43:21.001Z"
   },
   {
    "duration": 4,
    "start_time": "2023-05-25T10:43:21.156Z"
   },
   {
    "duration": 159072,
    "start_time": "2023-05-25T10:43:21.161Z"
   },
   {
    "duration": 673,
    "start_time": "2023-05-25T10:46:00.234Z"
   },
   {
    "duration": 4,
    "start_time": "2023-05-25T10:46:00.910Z"
   },
   {
    "duration": 331,
    "start_time": "2023-05-25T10:46:00.924Z"
   },
   {
    "duration": 261,
    "start_time": "2023-05-25T10:46:01.257Z"
   },
   {
    "duration": 8,
    "start_time": "2023-05-25T10:46:01.519Z"
   },
   {
    "duration": 55,
    "start_time": "2023-05-25T10:46:01.529Z"
   },
   {
    "duration": 79,
    "start_time": "2023-05-25T10:46:01.586Z"
   },
   {
    "duration": 10066,
    "start_time": "2023-05-25T11:32:54.644Z"
   },
   {
    "duration": 1295,
    "start_time": "2023-05-25T11:33:04.713Z"
   },
   {
    "duration": 2734,
    "start_time": "2023-05-25T11:33:06.009Z"
   },
   {
    "duration": 706,
    "start_time": "2023-05-25T11:33:08.745Z"
   },
   {
    "duration": 98,
    "start_time": "2023-05-25T11:33:09.453Z"
   },
   {
    "duration": 456,
    "start_time": "2023-05-25T11:33:09.552Z"
   },
   {
    "duration": 8889,
    "start_time": "2023-05-25T11:33:10.010Z"
   },
   {
    "duration": 7,
    "start_time": "2023-05-25T11:33:18.901Z"
   },
   {
    "duration": 596,
    "start_time": "2023-05-25T11:33:18.910Z"
   },
   {
    "duration": 902,
    "start_time": "2023-05-25T11:33:19.509Z"
   },
   {
    "duration": 38,
    "start_time": "2023-05-25T11:33:20.412Z"
   },
   {
    "duration": 31,
    "start_time": "2023-05-25T11:33:20.452Z"
   },
   {
    "duration": 317,
    "start_time": "2023-05-25T11:33:20.485Z"
   },
   {
    "duration": 420,
    "start_time": "2023-05-25T11:33:20.804Z"
   },
   {
    "duration": 14,
    "start_time": "2023-05-25T11:33:21.226Z"
   },
   {
    "duration": 33,
    "start_time": "2023-05-25T11:33:21.242Z"
   },
   {
    "duration": 34,
    "start_time": "2023-05-25T11:33:21.277Z"
   },
   {
    "duration": 95,
    "start_time": "2023-05-25T11:33:21.312Z"
   },
   {
    "duration": 120,
    "start_time": "2023-05-25T11:33:21.408Z"
   },
   {
    "duration": 128,
    "start_time": "2023-05-25T11:33:21.529Z"
   },
   {
    "duration": 343,
    "start_time": "2023-05-25T11:33:21.659Z"
   },
   {
    "duration": 353,
    "start_time": "2023-05-25T11:33:22.004Z"
   },
   {
    "duration": 101,
    "start_time": "2023-05-25T11:33:22.359Z"
   },
   {
    "duration": 76,
    "start_time": "2023-05-25T11:33:22.461Z"
   },
   {
    "duration": 5,
    "start_time": "2023-05-25T11:33:22.538Z"
   },
   {
    "duration": 36,
    "start_time": "2023-05-25T11:33:22.545Z"
   },
   {
    "duration": 14,
    "start_time": "2023-05-25T11:33:22.583Z"
   },
   {
    "duration": 25,
    "start_time": "2023-05-25T11:33:22.601Z"
   },
   {
    "duration": 29,
    "start_time": "2023-05-25T11:33:22.627Z"
   },
   {
    "duration": 30,
    "start_time": "2023-05-25T11:33:22.658Z"
   },
   {
    "duration": 11,
    "start_time": "2023-05-25T11:33:22.689Z"
   },
   {
    "duration": 152,
    "start_time": "2023-05-25T11:33:22.701Z"
   },
   {
    "duration": 33,
    "start_time": "2023-05-25T11:33:22.855Z"
   },
   {
    "duration": 13,
    "start_time": "2023-05-25T11:33:22.890Z"
   },
   {
    "duration": 16,
    "start_time": "2023-05-25T11:33:22.905Z"
   },
   {
    "duration": 446,
    "start_time": "2023-05-25T11:33:22.923Z"
   },
   {
    "duration": 49,
    "start_time": "2023-05-25T11:33:23.371Z"
   },
   {
    "duration": 2,
    "start_time": "2023-05-25T11:33:23.421Z"
   },
   {
    "duration": 129,
    "start_time": "2023-05-25T11:33:23.425Z"
   },
   {
    "duration": 20,
    "start_time": "2023-05-25T11:33:23.556Z"
   },
   {
    "duration": 303,
    "start_time": "2023-05-25T11:33:23.578Z"
   },
   {
    "duration": 11,
    "start_time": "2023-05-25T11:33:23.883Z"
   },
   {
    "duration": 34,
    "start_time": "2023-05-25T11:33:23.895Z"
   },
   {
    "duration": 59,
    "start_time": "2023-05-25T11:33:23.931Z"
   },
   {
    "duration": 413,
    "start_time": "2023-05-25T11:33:23.992Z"
   },
   {
    "duration": 69,
    "start_time": "2023-05-25T11:33:24.406Z"
   },
   {
    "duration": 891,
    "start_time": "2023-05-25T11:33:24.477Z"
   },
   {
    "duration": 558,
    "start_time": "2023-05-25T11:33:25.369Z"
   },
   {
    "duration": 2357,
    "start_time": "2023-05-25T11:35:17.537Z"
   },
   {
    "duration": 1917,
    "start_time": "2023-05-25T11:35:19.897Z"
   },
   {
    "duration": 3035,
    "start_time": "2023-05-25T11:35:21.816Z"
   },
   {
    "duration": 834,
    "start_time": "2023-05-25T11:35:24.854Z"
   },
   {
    "duration": 107,
    "start_time": "2023-05-25T11:35:25.690Z"
   },
   {
    "duration": 556,
    "start_time": "2023-05-25T11:35:25.799Z"
   },
   {
    "duration": 10041,
    "start_time": "2023-05-25T11:35:26.358Z"
   },
   {
    "duration": 8,
    "start_time": "2023-05-25T11:35:36.400Z"
   },
   {
    "duration": 659,
    "start_time": "2023-05-25T11:35:36.410Z"
   },
   {
    "duration": 928,
    "start_time": "2023-05-25T11:35:37.071Z"
   },
   {
    "duration": 29,
    "start_time": "2023-05-25T11:35:38.001Z"
   },
   {
    "duration": 21,
    "start_time": "2023-05-25T11:35:38.032Z"
   },
   {
    "duration": 305,
    "start_time": "2023-05-25T11:35:38.075Z"
   },
   {
    "duration": 489,
    "start_time": "2023-05-25T11:35:38.383Z"
   },
   {
    "duration": 13,
    "start_time": "2023-05-25T11:35:38.874Z"
   },
   {
    "duration": 21,
    "start_time": "2023-05-25T11:35:38.890Z"
   },
   {
    "duration": 35,
    "start_time": "2023-05-25T11:35:38.913Z"
   },
   {
    "duration": 130,
    "start_time": "2023-05-25T11:35:38.950Z"
   },
   {
    "duration": 105,
    "start_time": "2023-05-25T11:35:39.082Z"
   },
   {
    "duration": 125,
    "start_time": "2023-05-25T11:35:39.189Z"
   },
   {
    "duration": 328,
    "start_time": "2023-05-25T11:35:39.316Z"
   },
   {
    "duration": 325,
    "start_time": "2023-05-25T11:35:39.646Z"
   },
   {
    "duration": 114,
    "start_time": "2023-05-25T11:35:39.972Z"
   },
   {
    "duration": 88,
    "start_time": "2023-05-25T11:35:40.088Z"
   },
   {
    "duration": 5,
    "start_time": "2023-05-25T11:35:40.178Z"
   },
   {
    "duration": 26,
    "start_time": "2023-05-25T11:35:40.185Z"
   },
   {
    "duration": 6,
    "start_time": "2023-05-25T11:35:40.213Z"
   },
   {
    "duration": 26,
    "start_time": "2023-05-25T11:35:40.221Z"
   },
   {
    "duration": 41,
    "start_time": "2023-05-25T11:35:40.248Z"
   },
   {
    "duration": 24,
    "start_time": "2023-05-25T11:35:40.290Z"
   },
   {
    "duration": 7,
    "start_time": "2023-05-25T11:35:40.315Z"
   },
   {
    "duration": 36,
    "start_time": "2023-05-25T11:35:40.324Z"
   },
   {
    "duration": 33,
    "start_time": "2023-05-25T11:35:40.380Z"
   },
   {
    "duration": 12,
    "start_time": "2023-05-25T11:35:40.414Z"
   },
   {
    "duration": 4,
    "start_time": "2023-05-25T11:35:40.428Z"
   },
   {
    "duration": 628,
    "start_time": "2023-05-25T11:35:40.433Z"
   },
   {
    "duration": 60,
    "start_time": "2023-05-25T11:35:41.063Z"
   },
   {
    "duration": 3,
    "start_time": "2023-05-25T11:35:41.125Z"
   },
   {
    "duration": 134,
    "start_time": "2023-05-25T11:35:41.130Z"
   },
   {
    "duration": 22,
    "start_time": "2023-05-25T11:35:41.267Z"
   },
   {
    "duration": 341,
    "start_time": "2023-05-25T11:35:41.294Z"
   },
   {
    "duration": 12,
    "start_time": "2023-05-25T11:35:41.637Z"
   },
   {
    "duration": 47,
    "start_time": "2023-05-25T11:35:41.651Z"
   },
   {
    "duration": 31,
    "start_time": "2023-05-25T11:35:41.700Z"
   },
   {
    "duration": 369,
    "start_time": "2023-05-25T11:35:41.732Z"
   },
   {
    "duration": 56,
    "start_time": "2023-05-25T11:35:42.103Z"
   },
   {
    "duration": 22,
    "start_time": "2023-05-25T11:35:42.161Z"
   },
   {
    "duration": 57,
    "start_time": "2023-05-25T11:35:42.185Z"
   },
   {
    "duration": 6877,
    "start_time": "2023-05-25T16:33:56.679Z"
   },
   {
    "duration": 1342,
    "start_time": "2023-05-25T16:34:03.558Z"
   },
   {
    "duration": 1139,
    "start_time": "2023-05-25T16:34:04.901Z"
   },
   {
    "duration": 749,
    "start_time": "2023-05-25T16:34:06.043Z"
   },
   {
    "duration": 92,
    "start_time": "2023-05-25T16:34:06.793Z"
   },
   {
    "duration": 486,
    "start_time": "2023-05-25T16:34:06.887Z"
   },
   {
    "duration": 8841,
    "start_time": "2023-05-25T16:34:07.375Z"
   },
   {
    "duration": 7,
    "start_time": "2023-05-25T16:34:16.218Z"
   },
   {
    "duration": 648,
    "start_time": "2023-05-25T16:34:16.227Z"
   },
   {
    "duration": 902,
    "start_time": "2023-05-25T16:34:16.878Z"
   },
   {
    "duration": 34,
    "start_time": "2023-05-25T16:34:17.781Z"
   },
   {
    "duration": 17,
    "start_time": "2023-05-25T16:34:17.816Z"
   },
   {
    "duration": 318,
    "start_time": "2023-05-25T16:34:17.834Z"
   },
   {
    "duration": 433,
    "start_time": "2023-05-25T16:34:18.153Z"
   },
   {
    "duration": 18,
    "start_time": "2023-05-25T16:34:18.588Z"
   },
   {
    "duration": 16,
    "start_time": "2023-05-25T16:34:18.608Z"
   },
   {
    "duration": 35,
    "start_time": "2023-05-25T16:34:18.626Z"
   },
   {
    "duration": 99,
    "start_time": "2023-05-25T16:34:18.662Z"
   },
   {
    "duration": 102,
    "start_time": "2023-05-25T16:34:18.763Z"
   },
   {
    "duration": 121,
    "start_time": "2023-05-25T16:34:18.867Z"
   },
   {
    "duration": 321,
    "start_time": "2023-05-25T16:34:18.990Z"
   },
   {
    "duration": 316,
    "start_time": "2023-05-25T16:34:19.312Z"
   },
   {
    "duration": 95,
    "start_time": "2023-05-25T16:34:19.630Z"
   },
   {
    "duration": 77,
    "start_time": "2023-05-25T16:34:19.728Z"
   },
   {
    "duration": 6,
    "start_time": "2023-05-25T16:34:19.807Z"
   },
   {
    "duration": 17,
    "start_time": "2023-05-25T16:34:19.814Z"
   },
   {
    "duration": 7,
    "start_time": "2023-05-25T16:34:19.832Z"
   },
   {
    "duration": 23,
    "start_time": "2023-05-25T16:34:19.843Z"
   },
   {
    "duration": 51,
    "start_time": "2023-05-25T16:34:19.867Z"
   },
   {
    "duration": 14,
    "start_time": "2023-05-25T16:34:19.920Z"
   },
   {
    "duration": 7,
    "start_time": "2023-05-25T16:34:19.935Z"
   },
   {
    "duration": 145,
    "start_time": "2023-05-25T16:34:19.944Z"
   },
   {
    "duration": 37,
    "start_time": "2023-05-25T16:34:20.090Z"
   },
   {
    "duration": 12,
    "start_time": "2023-05-25T16:34:20.128Z"
   },
   {
    "duration": 11,
    "start_time": "2023-05-25T16:34:20.142Z"
   },
   {
    "duration": 443,
    "start_time": "2023-05-25T16:34:20.155Z"
   },
   {
    "duration": 47,
    "start_time": "2023-05-25T16:34:20.599Z"
   },
   {
    "duration": 2,
    "start_time": "2023-05-25T16:34:20.648Z"
   },
   {
    "duration": 111,
    "start_time": "2023-05-25T16:34:20.652Z"
   },
   {
    "duration": 15,
    "start_time": "2023-05-25T16:34:20.765Z"
   },
   {
    "duration": 316,
    "start_time": "2023-05-25T16:34:20.781Z"
   },
   {
    "duration": 11,
    "start_time": "2023-05-25T16:34:21.099Z"
   },
   {
    "duration": 35,
    "start_time": "2023-05-25T16:34:21.111Z"
   },
   {
    "duration": 28,
    "start_time": "2023-05-25T16:34:21.147Z"
   },
   {
    "duration": 340,
    "start_time": "2023-05-25T16:34:21.196Z"
   },
   {
    "duration": 64,
    "start_time": "2023-05-25T16:34:21.538Z"
   },
   {
    "duration": 10,
    "start_time": "2023-05-25T16:34:21.604Z"
   },
   {
    "duration": 52,
    "start_time": "2023-05-25T16:34:21.615Z"
   },
   {
    "duration": 56606,
    "start_time": "2023-05-25T16:34:21.669Z"
   },
   {
    "duration": 481,
    "start_time": "2023-05-25T16:35:18.276Z"
   },
   {
    "duration": 22,
    "start_time": "2023-05-25T16:35:18.758Z"
   },
   {
    "duration": 11835,
    "start_time": "2023-05-25T16:35:18.782Z"
   },
   {
    "duration": 5,
    "start_time": "2023-05-25T16:35:30.619Z"
   },
   {
    "duration": 128,
    "start_time": "2023-05-25T16:35:30.626Z"
   },
   {
    "duration": 21,
    "start_time": "2023-05-25T16:35:30.756Z"
   },
   {
    "duration": 57,
    "start_time": "2023-05-25T16:35:30.779Z"
   },
   {
    "duration": 31,
    "start_time": "2023-05-25T16:35:30.838Z"
   },
   {
    "duration": 19049,
    "start_time": "2023-05-25T16:35:30.870Z"
   },
   {
    "duration": 198,
    "start_time": "2023-05-25T16:35:49.921Z"
   },
   {
    "duration": 95,
    "start_time": "2023-05-25T16:35:50.203Z"
   },
   {
    "duration": 236,
    "start_time": "2023-05-25T16:35:50.300Z"
   },
   {
    "duration": 3400,
    "start_time": "2023-05-25T16:35:50.538Z"
   },
   {
    "duration": 67,
    "start_time": "2023-05-25T16:35:53.940Z"
   },
   {
    "duration": 4,
    "start_time": "2023-05-25T16:35:54.009Z"
   },
   {
    "duration": 243,
    "start_time": "2023-05-25T16:35:54.014Z"
   },
   {
    "duration": 67,
    "start_time": "2023-05-25T16:35:54.258Z"
   },
   {
    "duration": 118,
    "start_time": "2023-05-25T16:35:54.327Z"
   },
   {
    "duration": 676,
    "start_time": "2023-05-25T16:35:54.447Z"
   },
   {
    "duration": 7673,
    "start_time": "2023-05-25T16:35:55.125Z"
   },
   {
    "duration": 410,
    "start_time": "2023-05-25T16:36:02.800Z"
   },
   {
    "duration": 4,
    "start_time": "2023-05-25T16:36:03.212Z"
   },
   {
    "duration": 314,
    "start_time": "2023-05-25T16:36:03.217Z"
   },
   {
    "duration": 134,
    "start_time": "2023-05-25T16:36:03.533Z"
   },
   {
    "duration": 3,
    "start_time": "2023-05-25T16:36:03.669Z"
   },
   {
    "duration": 156072,
    "start_time": "2023-05-25T16:36:03.674Z"
   },
   {
    "duration": 609,
    "start_time": "2023-05-25T16:38:39.748Z"
   },
   {
    "duration": 5,
    "start_time": "2023-05-25T16:38:40.359Z"
   },
   {
    "duration": 235,
    "start_time": "2023-05-25T16:38:40.366Z"
   },
   {
    "duration": 250,
    "start_time": "2023-05-25T16:38:40.603Z"
   },
   {
    "duration": 3,
    "start_time": "2023-05-25T16:38:40.855Z"
   },
   {
    "duration": 8,
    "start_time": "2023-05-25T16:38:40.860Z"
   },
   {
    "duration": 13,
    "start_time": "2023-05-25T16:38:40.873Z"
   },
   {
    "duration": 13566,
    "start_time": "2023-05-26T06:21:37.115Z"
   },
   {
    "duration": 1727,
    "start_time": "2023-05-26T06:21:50.684Z"
   },
   {
    "duration": 2070,
    "start_time": "2023-05-26T06:21:52.414Z"
   },
   {
    "duration": 973,
    "start_time": "2023-05-26T06:21:54.487Z"
   },
   {
    "duration": 121,
    "start_time": "2023-05-26T06:21:55.462Z"
   },
   {
    "duration": 780,
    "start_time": "2023-05-26T06:21:55.586Z"
   },
   {
    "duration": 11654,
    "start_time": "2023-05-26T06:21:56.376Z"
   },
   {
    "duration": 26,
    "start_time": "2023-05-26T06:22:08.032Z"
   },
   {
    "duration": 894,
    "start_time": "2023-05-26T06:22:08.063Z"
   },
   {
    "duration": 1140,
    "start_time": "2023-05-26T06:22:08.962Z"
   },
   {
    "duration": 44,
    "start_time": "2023-05-26T06:22:10.105Z"
   },
   {
    "duration": 61,
    "start_time": "2023-05-26T06:22:10.152Z"
   },
   {
    "duration": 512,
    "start_time": "2023-05-26T06:22:10.215Z"
   },
   {
    "duration": 717,
    "start_time": "2023-05-26T06:22:10.730Z"
   },
   {
    "duration": 20,
    "start_time": "2023-05-26T06:22:11.450Z"
   },
   {
    "duration": 150,
    "start_time": "2023-05-26T06:22:11.472Z"
   },
   {
    "duration": 129,
    "start_time": "2023-05-26T06:22:11.624Z"
   },
   {
    "duration": 203,
    "start_time": "2023-05-26T06:22:11.760Z"
   },
   {
    "duration": 141,
    "start_time": "2023-05-26T06:22:11.968Z"
   },
   {
    "duration": 213,
    "start_time": "2023-05-26T06:22:12.111Z"
   },
   {
    "duration": 537,
    "start_time": "2023-05-26T06:22:12.326Z"
   },
   {
    "duration": 491,
    "start_time": "2023-05-26T06:22:12.868Z"
   },
   {
    "duration": 208,
    "start_time": "2023-05-26T06:22:13.361Z"
   },
   {
    "duration": 90,
    "start_time": "2023-05-26T06:22:13.571Z"
   },
   {
    "duration": 7,
    "start_time": "2023-05-26T06:22:13.666Z"
   },
   {
    "duration": 39,
    "start_time": "2023-05-26T06:22:13.674Z"
   },
   {
    "duration": 12,
    "start_time": "2023-05-26T06:22:13.716Z"
   },
   {
    "duration": 83,
    "start_time": "2023-05-26T06:22:13.735Z"
   },
   {
    "duration": 87,
    "start_time": "2023-05-26T06:22:13.822Z"
   },
   {
    "duration": 21,
    "start_time": "2023-05-26T06:22:13.911Z"
   },
   {
    "duration": 48,
    "start_time": "2023-05-26T06:22:13.934Z"
   },
   {
    "duration": 95,
    "start_time": "2023-05-26T06:22:13.985Z"
   },
   {
    "duration": 36,
    "start_time": "2023-05-26T06:22:14.082Z"
   },
   {
    "duration": 31,
    "start_time": "2023-05-26T06:22:14.120Z"
   },
   {
    "duration": 69,
    "start_time": "2023-05-26T06:22:14.153Z"
   },
   {
    "duration": 674,
    "start_time": "2023-05-26T06:22:14.225Z"
   },
   {
    "duration": 81,
    "start_time": "2023-05-26T06:22:14.901Z"
   },
   {
    "duration": 2,
    "start_time": "2023-05-26T06:22:14.984Z"
   },
   {
    "duration": 344,
    "start_time": "2023-05-26T06:22:14.989Z"
   },
   {
    "duration": 27,
    "start_time": "2023-05-26T06:22:15.335Z"
   },
   {
    "duration": 482,
    "start_time": "2023-05-26T06:22:15.364Z"
   },
   {
    "duration": 29,
    "start_time": "2023-05-26T06:22:15.849Z"
   },
   {
    "duration": 61,
    "start_time": "2023-05-26T06:22:15.879Z"
   },
   {
    "duration": 62,
    "start_time": "2023-05-26T06:22:15.942Z"
   },
   {
    "duration": 443,
    "start_time": "2023-05-26T06:22:16.006Z"
   },
   {
    "duration": 233,
    "start_time": "2023-05-26T06:22:57.123Z"
   },
   {
    "duration": 85,
    "start_time": "2023-05-26T06:23:57.285Z"
   },
   {
    "duration": 2710,
    "start_time": "2023-05-26T06:24:11.517Z"
   },
   {
    "duration": 10,
    "start_time": "2023-05-26T06:24:14.230Z"
   },
   {
    "duration": 1059,
    "start_time": "2023-05-26T06:24:14.241Z"
   },
   {
    "duration": 807,
    "start_time": "2023-05-26T06:24:15.302Z"
   },
   {
    "duration": 105,
    "start_time": "2023-05-26T06:24:16.111Z"
   },
   {
    "duration": 557,
    "start_time": "2023-05-26T06:24:16.217Z"
   },
   {
    "duration": 11478,
    "start_time": "2023-05-26T06:24:16.776Z"
   },
   {
    "duration": 10,
    "start_time": "2023-05-26T06:24:28.257Z"
   },
   {
    "duration": 740,
    "start_time": "2023-05-26T06:24:28.269Z"
   },
   {
    "duration": 1029,
    "start_time": "2023-05-26T06:24:29.013Z"
   },
   {
    "duration": 44,
    "start_time": "2023-05-26T06:24:30.044Z"
   },
   {
    "duration": 106,
    "start_time": "2023-05-26T06:24:30.090Z"
   },
   {
    "duration": 477,
    "start_time": "2023-05-26T06:24:30.197Z"
   },
   {
    "duration": 538,
    "start_time": "2023-05-26T06:24:30.676Z"
   },
   {
    "duration": 18,
    "start_time": "2023-05-26T06:24:31.216Z"
   },
   {
    "duration": 109,
    "start_time": "2023-05-26T06:24:31.250Z"
   },
   {
    "duration": 78,
    "start_time": "2023-05-26T06:24:31.361Z"
   },
   {
    "duration": 234,
    "start_time": "2023-05-26T06:24:31.441Z"
   },
   {
    "duration": 206,
    "start_time": "2023-05-26T06:24:31.682Z"
   },
   {
    "duration": 181,
    "start_time": "2023-05-26T06:24:31.890Z"
   },
   {
    "duration": 423,
    "start_time": "2023-05-26T06:24:32.073Z"
   },
   {
    "duration": 530,
    "start_time": "2023-05-26T06:24:32.497Z"
   },
   {
    "duration": 165,
    "start_time": "2023-05-26T06:24:33.029Z"
   },
   {
    "duration": 91,
    "start_time": "2023-05-26T06:24:33.196Z"
   },
   {
    "duration": 5,
    "start_time": "2023-05-26T06:24:33.289Z"
   },
   {
    "duration": 73,
    "start_time": "2023-05-26T06:24:33.296Z"
   },
   {
    "duration": 39,
    "start_time": "2023-05-26T06:24:33.371Z"
   },
   {
    "duration": 89,
    "start_time": "2023-05-26T06:24:33.414Z"
   },
   {
    "duration": 73,
    "start_time": "2023-05-26T06:24:33.505Z"
   },
   {
    "duration": 54,
    "start_time": "2023-05-26T06:24:33.580Z"
   },
   {
    "duration": 50,
    "start_time": "2023-05-26T06:24:33.636Z"
   },
   {
    "duration": 76,
    "start_time": "2023-05-26T06:24:33.688Z"
   },
   {
    "duration": 30,
    "start_time": "2023-05-26T06:24:33.766Z"
   },
   {
    "duration": 21,
    "start_time": "2023-05-26T06:24:33.798Z"
   },
   {
    "duration": 16,
    "start_time": "2023-05-26T06:24:33.821Z"
   },
   {
    "duration": 581,
    "start_time": "2023-05-26T06:24:33.839Z"
   },
   {
    "duration": 74,
    "start_time": "2023-05-26T06:24:34.422Z"
   },
   {
    "duration": 3,
    "start_time": "2023-05-26T06:24:34.497Z"
   },
   {
    "duration": 141,
    "start_time": "2023-05-26T06:24:34.502Z"
   },
   {
    "duration": 25,
    "start_time": "2023-05-26T06:24:34.645Z"
   },
   {
    "duration": 395,
    "start_time": "2023-05-26T06:24:34.675Z"
   },
   {
    "duration": 11,
    "start_time": "2023-05-26T06:24:35.071Z"
   },
   {
    "duration": 58,
    "start_time": "2023-05-26T06:24:35.084Z"
   },
   {
    "duration": 41,
    "start_time": "2023-05-26T06:24:35.144Z"
   },
   {
    "duration": 528,
    "start_time": "2023-05-26T06:24:35.187Z"
   },
   {
    "duration": 51,
    "start_time": "2023-05-26T06:24:48.480Z"
   },
   {
    "duration": 82,
    "start_time": "2023-05-26T06:25:24.638Z"
   },
   {
    "duration": 30,
    "start_time": "2023-05-26T06:25:36.095Z"
   },
   {
    "duration": 37,
    "start_time": "2023-05-26T06:26:04.716Z"
   },
   {
    "duration": 18,
    "start_time": "2023-05-26T06:26:19.201Z"
   },
   {
    "duration": 80,
    "start_time": "2023-05-26T06:28:14.164Z"
   },
   {
    "duration": 2581,
    "start_time": "2023-05-26T06:31:37.277Z"
   },
   {
    "duration": 11,
    "start_time": "2023-05-26T06:31:39.863Z"
   },
   {
    "duration": 957,
    "start_time": "2023-05-26T06:31:39.876Z"
   },
   {
    "duration": 885,
    "start_time": "2023-05-26T06:31:40.834Z"
   },
   {
    "duration": 109,
    "start_time": "2023-05-26T06:31:41.721Z"
   },
   {
    "duration": 531,
    "start_time": "2023-05-26T06:31:41.832Z"
   },
   {
    "duration": 10983,
    "start_time": "2023-05-26T06:31:42.365Z"
   },
   {
    "duration": 11,
    "start_time": "2023-05-26T06:31:53.349Z"
   },
   {
    "duration": 811,
    "start_time": "2023-05-26T06:31:53.362Z"
   },
   {
    "duration": 1044,
    "start_time": "2023-05-26T06:31:54.175Z"
   },
   {
    "duration": 43,
    "start_time": "2023-05-26T06:31:55.221Z"
   },
   {
    "duration": 22,
    "start_time": "2023-05-26T06:31:55.266Z"
   },
   {
    "duration": 362,
    "start_time": "2023-05-26T06:31:55.290Z"
   },
   {
    "duration": 524,
    "start_time": "2023-05-26T06:31:55.657Z"
   },
   {
    "duration": 13,
    "start_time": "2023-05-26T06:31:56.183Z"
   },
   {
    "duration": 17,
    "start_time": "2023-05-26T06:31:56.197Z"
   },
   {
    "duration": 56,
    "start_time": "2023-05-26T06:31:56.216Z"
   },
   {
    "duration": 123,
    "start_time": "2023-05-26T06:31:56.274Z"
   },
   {
    "duration": 143,
    "start_time": "2023-05-26T06:31:56.400Z"
   },
   {
    "duration": 155,
    "start_time": "2023-05-26T06:31:56.545Z"
   },
   {
    "duration": 412,
    "start_time": "2023-05-26T06:31:56.702Z"
   },
   {
    "duration": 399,
    "start_time": "2023-05-26T06:31:57.116Z"
   },
   {
    "duration": 138,
    "start_time": "2023-05-26T06:31:57.517Z"
   },
   {
    "duration": 79,
    "start_time": "2023-05-26T06:31:57.662Z"
   },
   {
    "duration": 13,
    "start_time": "2023-05-26T06:31:57.743Z"
   },
   {
    "duration": 38,
    "start_time": "2023-05-26T06:31:57.757Z"
   },
   {
    "duration": 14,
    "start_time": "2023-05-26T06:31:57.796Z"
   },
   {
    "duration": 48,
    "start_time": "2023-05-26T06:31:57.811Z"
   },
   {
    "duration": 48,
    "start_time": "2023-05-26T06:31:57.861Z"
   },
   {
    "duration": 15,
    "start_time": "2023-05-26T06:31:57.911Z"
   },
   {
    "duration": 14,
    "start_time": "2023-05-26T06:31:57.928Z"
   },
   {
    "duration": 66,
    "start_time": "2023-05-26T06:31:57.944Z"
   },
   {
    "duration": 25,
    "start_time": "2023-05-26T06:31:58.011Z"
   },
   {
    "duration": 20,
    "start_time": "2023-05-26T06:31:58.038Z"
   },
   {
    "duration": 32,
    "start_time": "2023-05-26T06:31:58.060Z"
   },
   {
    "duration": 600,
    "start_time": "2023-05-26T06:31:58.094Z"
   },
   {
    "duration": 70,
    "start_time": "2023-05-26T06:31:58.696Z"
   },
   {
    "duration": 3,
    "start_time": "2023-05-26T06:31:58.768Z"
   },
   {
    "duration": 146,
    "start_time": "2023-05-26T06:31:58.773Z"
   },
   {
    "duration": 33,
    "start_time": "2023-05-26T06:31:58.921Z"
   },
   {
    "duration": 373,
    "start_time": "2023-05-26T06:31:58.959Z"
   },
   {
    "duration": 22,
    "start_time": "2023-05-26T06:31:59.334Z"
   },
   {
    "duration": 53,
    "start_time": "2023-05-26T06:31:59.358Z"
   },
   {
    "duration": 50,
    "start_time": "2023-05-26T06:31:59.413Z"
   },
   {
    "duration": 356,
    "start_time": "2023-05-26T06:31:59.465Z"
   },
   {
    "duration": 85,
    "start_time": "2023-05-26T06:31:59.823Z"
   },
   {
    "duration": 48,
    "start_time": "2023-05-26T06:31:59.909Z"
   },
   {
    "duration": 14,
    "start_time": "2023-05-26T06:31:59.958Z"
   },
   {
    "duration": 62,
    "start_time": "2023-05-26T06:31:59.974Z"
   },
   {
    "duration": 44929,
    "start_time": "2023-05-26T06:32:00.039Z"
   },
   {
    "duration": 161,
    "start_time": "2023-05-26T06:32:44.970Z"
   },
   {
    "duration": 35,
    "start_time": "2023-05-26T06:32:45.133Z"
   },
   {
    "duration": 12324,
    "start_time": "2023-05-26T06:32:45.169Z"
   },
   {
    "duration": 7,
    "start_time": "2023-05-26T06:32:57.495Z"
   },
   {
    "duration": 116,
    "start_time": "2023-05-26T06:32:57.504Z"
   },
   {
    "duration": 38,
    "start_time": "2023-05-26T06:32:57.622Z"
   },
   {
    "duration": 41,
    "start_time": "2023-05-26T06:32:57.663Z"
   },
   {
    "duration": 6,
    "start_time": "2023-05-26T06:32:57.707Z"
   },
   {
    "duration": 33443,
    "start_time": "2023-05-26T06:32:57.715Z"
   },
   {
    "duration": 204,
    "start_time": "2023-05-26T06:33:31.159Z"
   },
   {
    "duration": 16,
    "start_time": "2023-05-26T06:33:31.451Z"
   },
   {
    "duration": 330,
    "start_time": "2023-05-26T06:33:31.469Z"
   },
   {
    "duration": 2954,
    "start_time": "2023-05-26T06:33:31.801Z"
   },
   {
    "duration": 53,
    "start_time": "2023-05-26T06:33:34.758Z"
   },
   {
    "duration": 5,
    "start_time": "2023-05-26T06:33:34.812Z"
   },
   {
    "duration": 307,
    "start_time": "2023-05-26T06:33:34.818Z"
   },
   {
    "duration": 90,
    "start_time": "2023-05-26T06:33:35.127Z"
   },
   {
    "duration": 145,
    "start_time": "2023-05-26T06:33:35.219Z"
   },
   {
    "duration": 707,
    "start_time": "2023-05-26T06:33:35.366Z"
   },
   {
    "duration": 661192,
    "start_time": "2023-05-26T06:33:36.074Z"
   },
   {
    "duration": 143,
    "start_time": "2023-05-26T06:44:37.270Z"
   },
   {
    "duration": 11,
    "start_time": "2023-05-26T06:44:37.415Z"
   },
   {
    "duration": 0,
    "start_time": "2023-05-26T06:44:37.427Z"
   },
   {
    "duration": 0,
    "start_time": "2023-05-26T06:44:37.429Z"
   },
   {
    "duration": 0,
    "start_time": "2023-05-26T06:44:37.430Z"
   },
   {
    "duration": 0,
    "start_time": "2023-05-26T06:44:37.431Z"
   },
   {
    "duration": 0,
    "start_time": "2023-05-26T06:44:37.433Z"
   },
   {
    "duration": 0,
    "start_time": "2023-05-26T06:44:37.433Z"
   },
   {
    "duration": 0,
    "start_time": "2023-05-26T06:44:37.435Z"
   },
   {
    "duration": 0,
    "start_time": "2023-05-26T06:44:37.436Z"
   },
   {
    "duration": 0,
    "start_time": "2023-05-26T06:44:37.437Z"
   },
   {
    "duration": 0,
    "start_time": "2023-05-26T06:44:37.439Z"
   },
   {
    "duration": 0,
    "start_time": "2023-05-26T06:44:37.440Z"
   },
   {
    "duration": 27025,
    "start_time": "2023-05-26T06:44:47.036Z"
   },
   {
    "duration": 2508,
    "start_time": "2023-05-26T06:45:34.676Z"
   },
   {
    "duration": 1432,
    "start_time": "2023-05-26T06:45:37.186Z"
   },
   {
    "duration": 973,
    "start_time": "2023-05-26T06:45:38.619Z"
   },
   {
    "duration": 870,
    "start_time": "2023-05-26T06:45:39.594Z"
   },
   {
    "duration": 108,
    "start_time": "2023-05-26T06:45:40.468Z"
   },
   {
    "duration": 553,
    "start_time": "2023-05-26T06:45:40.577Z"
   },
   {
    "duration": 11619,
    "start_time": "2023-05-26T06:45:41.132Z"
   },
   {
    "duration": 16,
    "start_time": "2023-05-26T06:45:52.753Z"
   },
   {
    "duration": 791,
    "start_time": "2023-05-26T06:45:52.778Z"
   },
   {
    "duration": 1134,
    "start_time": "2023-05-26T06:45:53.579Z"
   },
   {
    "duration": 67,
    "start_time": "2023-05-26T06:45:54.715Z"
   },
   {
    "duration": 18,
    "start_time": "2023-05-26T06:45:54.784Z"
   },
   {
    "duration": 382,
    "start_time": "2023-05-26T06:45:54.805Z"
   },
   {
    "duration": 571,
    "start_time": "2023-05-26T06:45:55.190Z"
   },
   {
    "duration": 19,
    "start_time": "2023-05-26T06:45:55.763Z"
   },
   {
    "duration": 39,
    "start_time": "2023-05-26T06:45:55.783Z"
   },
   {
    "duration": 50,
    "start_time": "2023-05-26T06:45:55.824Z"
   },
   {
    "duration": 126,
    "start_time": "2023-05-26T06:45:55.875Z"
   },
   {
    "duration": 140,
    "start_time": "2023-05-26T06:45:56.003Z"
   },
   {
    "duration": 213,
    "start_time": "2023-05-26T06:45:56.146Z"
   },
   {
    "duration": 405,
    "start_time": "2023-05-26T06:45:56.361Z"
   },
   {
    "duration": 489,
    "start_time": "2023-05-26T06:45:56.768Z"
   },
   {
    "duration": 144,
    "start_time": "2023-05-26T06:45:57.259Z"
   },
   {
    "duration": 90,
    "start_time": "2023-05-26T06:45:57.405Z"
   },
   {
    "duration": 6,
    "start_time": "2023-05-26T06:45:57.497Z"
   },
   {
    "duration": 42,
    "start_time": "2023-05-26T06:45:57.505Z"
   },
   {
    "duration": 14,
    "start_time": "2023-05-26T06:45:57.554Z"
   },
   {
    "duration": 57,
    "start_time": "2023-05-26T06:45:57.576Z"
   },
   {
    "duration": 41,
    "start_time": "2023-05-26T06:45:57.635Z"
   },
   {
    "duration": 29,
    "start_time": "2023-05-26T06:45:57.680Z"
   },
   {
    "duration": 15,
    "start_time": "2023-05-26T06:45:57.711Z"
   },
   {
    "duration": 60,
    "start_time": "2023-05-26T06:45:57.728Z"
   },
   {
    "duration": 35,
    "start_time": "2023-05-26T06:45:57.790Z"
   },
   {
    "duration": 42,
    "start_time": "2023-05-26T06:45:57.827Z"
   },
   {
    "duration": 9,
    "start_time": "2023-05-26T06:45:57.877Z"
   },
   {
    "duration": 714,
    "start_time": "2023-05-26T06:45:57.890Z"
   },
   {
    "duration": 81,
    "start_time": "2023-05-26T06:45:58.606Z"
   },
   {
    "duration": 3,
    "start_time": "2023-05-26T06:45:58.689Z"
   },
   {
    "duration": 135,
    "start_time": "2023-05-26T06:45:58.694Z"
   },
   {
    "duration": 20,
    "start_time": "2023-05-26T06:45:58.831Z"
   },
   {
    "duration": 405,
    "start_time": "2023-05-26T06:45:58.853Z"
   },
   {
    "duration": 14,
    "start_time": "2023-05-26T06:45:59.259Z"
   },
   {
    "duration": 53,
    "start_time": "2023-05-26T06:45:59.275Z"
   },
   {
    "duration": 50,
    "start_time": "2023-05-26T06:45:59.330Z"
   },
   {
    "duration": 417,
    "start_time": "2023-05-26T06:45:59.387Z"
   },
   {
    "duration": 79,
    "start_time": "2023-05-26T06:45:59.806Z"
   },
   {
    "duration": 25,
    "start_time": "2023-05-26T06:45:59.888Z"
   },
   {
    "duration": 33,
    "start_time": "2023-05-26T06:45:59.915Z"
   },
   {
    "duration": 56,
    "start_time": "2023-05-26T06:45:59.950Z"
   },
   {
    "duration": 46074,
    "start_time": "2023-05-26T06:46:00.008Z"
   },
   {
    "duration": 165,
    "start_time": "2023-05-26T06:46:46.084Z"
   },
   {
    "duration": 37,
    "start_time": "2023-05-26T06:46:46.259Z"
   },
   {
    "duration": 12285,
    "start_time": "2023-05-26T06:46:46.298Z"
   },
   {
    "duration": 7,
    "start_time": "2023-05-26T06:46:58.585Z"
   },
   {
    "duration": 126,
    "start_time": "2023-05-26T06:46:58.594Z"
   },
   {
    "duration": 37,
    "start_time": "2023-05-26T06:46:58.723Z"
   },
   {
    "duration": 47,
    "start_time": "2023-05-26T06:46:58.762Z"
   },
   {
    "duration": 8,
    "start_time": "2023-05-26T06:46:58.811Z"
   },
   {
    "duration": 51577,
    "start_time": "2023-05-26T06:46:58.820Z"
   },
   {
    "duration": 254,
    "start_time": "2023-05-26T06:47:50.400Z"
   },
   {
    "duration": 22,
    "start_time": "2023-05-26T06:47:50.659Z"
   },
   {
    "duration": 378,
    "start_time": "2023-05-26T06:47:50.693Z"
   },
   {
    "duration": 3322,
    "start_time": "2023-05-26T06:47:51.079Z"
   },
   {
    "duration": 75,
    "start_time": "2023-05-26T06:47:54.403Z"
   },
   {
    "duration": 7,
    "start_time": "2023-05-26T06:47:54.480Z"
   },
   {
    "duration": 321,
    "start_time": "2023-05-26T06:47:54.489Z"
   },
   {
    "duration": 100,
    "start_time": "2023-05-26T06:47:54.812Z"
   },
   {
    "duration": 163,
    "start_time": "2023-05-26T06:47:54.914Z"
   },
   {
    "duration": 851,
    "start_time": "2023-05-26T06:47:55.078Z"
   },
   {
    "duration": 256425,
    "start_time": "2023-05-26T06:48:04.691Z"
   },
   {
    "duration": 29066,
    "start_time": "2023-05-26T06:52:39.689Z"
   },
   {
    "duration": 2650,
    "start_time": "2023-05-26T06:53:18.446Z"
   },
   {
    "duration": 1503,
    "start_time": "2023-05-26T06:53:21.099Z"
   },
   {
    "duration": 1116,
    "start_time": "2023-05-26T06:53:22.604Z"
   },
   {
    "duration": 963,
    "start_time": "2023-05-26T06:53:23.722Z"
   },
   {
    "duration": 115,
    "start_time": "2023-05-26T06:53:24.689Z"
   },
   {
    "duration": 598,
    "start_time": "2023-05-26T06:53:24.806Z"
   },
   {
    "duration": 12047,
    "start_time": "2023-05-26T06:53:25.407Z"
   },
   {
    "duration": 12,
    "start_time": "2023-05-26T06:53:37.456Z"
   },
   {
    "duration": 820,
    "start_time": "2023-05-26T06:53:37.469Z"
   },
   {
    "duration": 1306,
    "start_time": "2023-05-26T06:53:38.294Z"
   },
   {
    "duration": 31,
    "start_time": "2023-05-26T06:53:39.604Z"
   },
   {
    "duration": 36,
    "start_time": "2023-05-26T06:53:39.637Z"
   },
   {
    "duration": 531,
    "start_time": "2023-05-26T06:53:39.675Z"
   },
   {
    "duration": 680,
    "start_time": "2023-05-26T06:53:40.210Z"
   },
   {
    "duration": 14,
    "start_time": "2023-05-26T06:53:40.893Z"
   },
   {
    "duration": 25,
    "start_time": "2023-05-26T06:53:40.909Z"
   },
   {
    "duration": 98,
    "start_time": "2023-05-26T06:53:40.936Z"
   },
   {
    "duration": 146,
    "start_time": "2023-05-26T06:53:41.036Z"
   },
   {
    "duration": 193,
    "start_time": "2023-05-26T06:53:41.186Z"
   },
   {
    "duration": 156,
    "start_time": "2023-05-26T06:53:41.381Z"
   },
   {
    "duration": 516,
    "start_time": "2023-05-26T06:53:41.545Z"
   },
   {
    "duration": 557,
    "start_time": "2023-05-26T06:53:42.072Z"
   },
   {
    "duration": 196,
    "start_time": "2023-05-26T06:53:42.631Z"
   },
   {
    "duration": 113,
    "start_time": "2023-05-26T06:53:42.829Z"
   },
   {
    "duration": 9,
    "start_time": "2023-05-26T06:53:42.944Z"
   },
   {
    "duration": 78,
    "start_time": "2023-05-26T06:53:42.955Z"
   },
   {
    "duration": 28,
    "start_time": "2023-05-26T06:53:43.036Z"
   },
   {
    "duration": 118,
    "start_time": "2023-05-26T06:53:43.071Z"
   },
   {
    "duration": 76,
    "start_time": "2023-05-26T06:53:43.199Z"
   },
   {
    "duration": 63,
    "start_time": "2023-05-26T06:53:43.278Z"
   },
   {
    "duration": 13,
    "start_time": "2023-05-26T06:53:43.344Z"
   },
   {
    "duration": 127,
    "start_time": "2023-05-26T06:53:43.359Z"
   },
   {
    "duration": 45,
    "start_time": "2023-05-26T06:53:43.491Z"
   },
   {
    "duration": 28,
    "start_time": "2023-05-26T06:53:43.538Z"
   },
   {
    "duration": 30,
    "start_time": "2023-05-26T06:53:43.571Z"
   },
   {
    "duration": 990,
    "start_time": "2023-05-26T06:53:43.603Z"
   },
   {
    "duration": 171,
    "start_time": "2023-05-26T06:53:44.596Z"
   },
   {
    "duration": 31,
    "start_time": "2023-05-26T06:53:44.769Z"
   },
   {
    "duration": 176,
    "start_time": "2023-05-26T06:53:44.802Z"
   },
   {
    "duration": 22,
    "start_time": "2023-05-26T06:53:44.980Z"
   },
   {
    "duration": 483,
    "start_time": "2023-05-26T06:53:45.009Z"
   },
   {
    "duration": 13,
    "start_time": "2023-05-26T06:53:45.495Z"
   },
   {
    "duration": 59,
    "start_time": "2023-05-26T06:53:45.510Z"
   },
   {
    "duration": 36,
    "start_time": "2023-05-26T06:53:45.571Z"
   },
   {
    "duration": 444,
    "start_time": "2023-05-26T06:53:45.609Z"
   },
   {
    "duration": 77,
    "start_time": "2023-05-26T06:53:46.058Z"
   },
   {
    "duration": 34,
    "start_time": "2023-05-26T06:53:46.137Z"
   },
   {
    "duration": 34,
    "start_time": "2023-05-26T06:53:46.175Z"
   },
   {
    "duration": 75,
    "start_time": "2023-05-26T06:53:46.211Z"
   },
   {
    "duration": 47772,
    "start_time": "2023-05-26T06:53:46.289Z"
   },
   {
    "duration": 161,
    "start_time": "2023-05-26T06:54:34.063Z"
   },
   {
    "duration": 51,
    "start_time": "2023-05-26T06:54:34.226Z"
   },
   {
    "duration": 14609,
    "start_time": "2023-05-26T06:54:34.279Z"
   },
   {
    "duration": 7,
    "start_time": "2023-05-26T06:54:48.890Z"
   },
   {
    "duration": 142,
    "start_time": "2023-05-26T06:54:48.899Z"
   },
   {
    "duration": 44,
    "start_time": "2023-05-26T06:54:49.043Z"
   },
   {
    "duration": 39,
    "start_time": "2023-05-26T06:54:49.090Z"
   },
   {
    "duration": 22,
    "start_time": "2023-05-26T06:54:49.131Z"
   },
   {
    "duration": 66233,
    "start_time": "2023-05-26T06:54:49.155Z"
   },
   {
    "duration": 257,
    "start_time": "2023-05-26T06:55:55.391Z"
   },
   {
    "duration": 8,
    "start_time": "2023-05-26T06:55:55.651Z"
   },
   {
    "duration": 415,
    "start_time": "2023-05-26T06:55:55.662Z"
   },
   {
    "duration": 3049,
    "start_time": "2023-05-26T06:55:56.079Z"
   },
   {
    "duration": 62,
    "start_time": "2023-05-26T06:55:59.130Z"
   },
   {
    "duration": 5,
    "start_time": "2023-05-26T06:55:59.193Z"
   },
   {
    "duration": 294,
    "start_time": "2023-05-26T06:55:59.199Z"
   },
   {
    "duration": 96,
    "start_time": "2023-05-26T06:55:59.495Z"
   },
   {
    "duration": 141,
    "start_time": "2023-05-26T06:55:59.593Z"
   },
   {
    "duration": 749,
    "start_time": "2023-05-26T06:55:59.736Z"
   },
   {
    "duration": 780626,
    "start_time": "2023-05-26T06:56:00.487Z"
   },
   {
    "duration": 104,
    "start_time": "2023-05-26T07:09:01.115Z"
   },
   {
    "duration": 11,
    "start_time": "2023-05-26T07:09:01.221Z"
   },
   {
    "duration": 0,
    "start_time": "2023-05-26T07:09:01.234Z"
   },
   {
    "duration": 0,
    "start_time": "2023-05-26T07:09:01.236Z"
   },
   {
    "duration": 0,
    "start_time": "2023-05-26T07:09:01.237Z"
   },
   {
    "duration": 0,
    "start_time": "2023-05-26T07:09:01.238Z"
   },
   {
    "duration": 0,
    "start_time": "2023-05-26T07:09:01.239Z"
   },
   {
    "duration": 0,
    "start_time": "2023-05-26T07:09:01.240Z"
   },
   {
    "duration": 0,
    "start_time": "2023-05-26T07:09:01.242Z"
   },
   {
    "duration": 0,
    "start_time": "2023-05-26T07:09:01.242Z"
   },
   {
    "duration": 0,
    "start_time": "2023-05-26T07:09:01.244Z"
   },
   {
    "duration": 0,
    "start_time": "2023-05-26T07:09:01.245Z"
   },
   {
    "duration": 0,
    "start_time": "2023-05-26T07:09:01.246Z"
   },
   {
    "duration": 22,
    "start_time": "2023-05-26T07:10:14.917Z"
   },
   {
    "duration": 44150,
    "start_time": "2023-05-26T07:10:55.775Z"
   },
   {
    "duration": 11304,
    "start_time": "2023-05-26T07:13:50.084Z"
   },
   {
    "duration": 5,
    "start_time": "2023-05-26T07:14:12.475Z"
   },
   {
    "duration": 196802,
    "start_time": "2023-05-26T07:14:13.523Z"
   },
   {
    "duration": 9,
    "start_time": "2023-05-26T07:46:19.628Z"
   },
   {
    "duration": 843,
    "start_time": "2023-05-26T07:46:23.683Z"
   },
   {
    "duration": 15,
    "start_time": "2023-05-26T07:46:27.156Z"
   },
   {
    "duration": 2443,
    "start_time": "2023-05-26T08:17:09.186Z"
   },
   {
    "duration": 9,
    "start_time": "2023-05-26T08:17:11.631Z"
   },
   {
    "duration": 916,
    "start_time": "2023-05-26T08:17:11.641Z"
   },
   {
    "duration": 777,
    "start_time": "2023-05-26T08:17:12.561Z"
   },
   {
    "duration": 91,
    "start_time": "2023-05-26T08:17:13.346Z"
   },
   {
    "duration": 426,
    "start_time": "2023-05-26T08:17:13.446Z"
   },
   {
    "duration": 9327,
    "start_time": "2023-05-26T08:17:13.873Z"
   },
   {
    "duration": 7,
    "start_time": "2023-05-26T08:17:23.202Z"
   },
   {
    "duration": 681,
    "start_time": "2023-05-26T08:17:23.210Z"
   },
   {
    "duration": 919,
    "start_time": "2023-05-26T08:17:23.894Z"
   },
   {
    "duration": 45,
    "start_time": "2023-05-26T08:17:24.815Z"
   },
   {
    "duration": 39,
    "start_time": "2023-05-26T08:17:24.862Z"
   },
   {
    "duration": 295,
    "start_time": "2023-05-26T08:17:24.902Z"
   },
   {
    "duration": 449,
    "start_time": "2023-05-26T08:17:25.199Z"
   },
   {
    "duration": 12,
    "start_time": "2023-05-26T08:17:25.650Z"
   },
   {
    "duration": 18,
    "start_time": "2023-05-26T08:17:25.663Z"
   },
   {
    "duration": 37,
    "start_time": "2023-05-26T08:17:25.682Z"
   },
   {
    "duration": 108,
    "start_time": "2023-05-26T08:17:25.721Z"
   },
   {
    "duration": 119,
    "start_time": "2023-05-26T08:17:25.831Z"
   },
   {
    "duration": 131,
    "start_time": "2023-05-26T08:17:25.952Z"
   },
   {
    "duration": 363,
    "start_time": "2023-05-26T08:17:26.085Z"
   },
   {
    "duration": 360,
    "start_time": "2023-05-26T08:17:26.449Z"
   },
   {
    "duration": 111,
    "start_time": "2023-05-26T08:17:26.811Z"
   },
   {
    "duration": 81,
    "start_time": "2023-05-26T08:17:26.924Z"
   },
   {
    "duration": 6,
    "start_time": "2023-05-26T08:17:27.007Z"
   },
   {
    "duration": 32,
    "start_time": "2023-05-26T08:17:27.014Z"
   },
   {
    "duration": 8,
    "start_time": "2023-05-26T08:17:27.048Z"
   },
   {
    "duration": 36,
    "start_time": "2023-05-26T08:17:27.060Z"
   },
   {
    "duration": 36,
    "start_time": "2023-05-26T08:17:27.098Z"
   },
   {
    "duration": 19,
    "start_time": "2023-05-26T08:17:27.136Z"
   },
   {
    "duration": 9,
    "start_time": "2023-05-26T08:17:27.157Z"
   },
   {
    "duration": 53,
    "start_time": "2023-05-26T08:17:27.167Z"
   },
   {
    "duration": 42,
    "start_time": "2023-05-26T08:17:27.222Z"
   },
   {
    "duration": 12,
    "start_time": "2023-05-26T08:17:27.266Z"
   },
   {
    "duration": 4,
    "start_time": "2023-05-26T08:17:27.280Z"
   },
   {
    "duration": 563,
    "start_time": "2023-05-26T08:17:27.286Z"
   },
   {
    "duration": 54,
    "start_time": "2023-05-26T08:17:27.852Z"
   },
   {
    "duration": 2,
    "start_time": "2023-05-26T08:17:27.908Z"
   },
   {
    "duration": 236,
    "start_time": "2023-05-26T08:17:27.912Z"
   },
   {
    "duration": 16,
    "start_time": "2023-05-26T08:17:28.150Z"
   },
   {
    "duration": 348,
    "start_time": "2023-05-26T08:17:28.167Z"
   },
   {
    "duration": 11,
    "start_time": "2023-05-26T08:17:28.516Z"
   },
   {
    "duration": 44,
    "start_time": "2023-05-26T08:17:28.529Z"
   },
   {
    "duration": 30,
    "start_time": "2023-05-26T08:17:28.574Z"
   },
   {
    "duration": 378,
    "start_time": "2023-05-26T08:17:28.605Z"
   },
   {
    "duration": 76,
    "start_time": "2023-05-26T08:17:28.985Z"
   },
   {
    "duration": 25,
    "start_time": "2023-05-26T08:17:29.063Z"
   },
   {
    "duration": 8,
    "start_time": "2023-05-26T08:17:29.090Z"
   },
   {
    "duration": 60,
    "start_time": "2023-05-26T08:17:29.100Z"
   },
   {
    "duration": 52,
    "start_time": "2023-05-26T08:27:51.812Z"
   },
   {
    "duration": 2247,
    "start_time": "2023-05-26T08:29:06.844Z"
   },
   {
    "duration": 2217,
    "start_time": "2023-05-26T08:29:09.093Z"
   },
   {
    "duration": 1315,
    "start_time": "2023-05-26T08:29:11.312Z"
   },
   {
    "duration": 852,
    "start_time": "2023-05-26T08:29:12.630Z"
   },
   {
    "duration": 112,
    "start_time": "2023-05-26T08:29:13.484Z"
   },
   {
    "duration": 527,
    "start_time": "2023-05-26T08:29:13.598Z"
   },
   {
    "duration": 9372,
    "start_time": "2023-05-26T08:29:14.127Z"
   },
   {
    "duration": 7,
    "start_time": "2023-05-26T08:29:23.501Z"
   },
   {
    "duration": 718,
    "start_time": "2023-05-26T08:29:23.510Z"
   },
   {
    "duration": 1024,
    "start_time": "2023-05-26T08:29:24.231Z"
   },
   {
    "duration": 34,
    "start_time": "2023-05-26T08:29:25.257Z"
   },
   {
    "duration": 73,
    "start_time": "2023-05-26T08:29:25.292Z"
   },
   {
    "duration": 397,
    "start_time": "2023-05-26T08:29:25.367Z"
   },
   {
    "duration": 518,
    "start_time": "2023-05-26T08:29:25.766Z"
   },
   {
    "duration": 12,
    "start_time": "2023-05-26T08:29:26.286Z"
   },
   {
    "duration": 74,
    "start_time": "2023-05-26T08:29:26.299Z"
   },
   {
    "duration": 88,
    "start_time": "2023-05-26T08:29:26.375Z"
   },
   {
    "duration": 137,
    "start_time": "2023-05-26T08:29:26.465Z"
   },
   {
    "duration": 169,
    "start_time": "2023-05-26T08:29:26.604Z"
   },
   {
    "duration": 148,
    "start_time": "2023-05-26T08:29:26.776Z"
   },
   {
    "duration": 381,
    "start_time": "2023-05-26T08:29:26.926Z"
   },
   {
    "duration": 405,
    "start_time": "2023-05-26T08:29:27.309Z"
   },
   {
    "duration": 110,
    "start_time": "2023-05-26T08:29:27.715Z"
   },
   {
    "duration": 78,
    "start_time": "2023-05-26T08:29:27.827Z"
   },
   {
    "duration": 5,
    "start_time": "2023-05-26T08:29:27.907Z"
   },
   {
    "duration": 25,
    "start_time": "2023-05-26T08:29:27.913Z"
   },
   {
    "duration": 14,
    "start_time": "2023-05-26T08:29:27.947Z"
   },
   {
    "duration": 33,
    "start_time": "2023-05-26T08:29:27.966Z"
   },
   {
    "duration": 47,
    "start_time": "2023-05-26T08:29:28.001Z"
   },
   {
    "duration": 19,
    "start_time": "2023-05-26T08:29:28.050Z"
   },
   {
    "duration": 21,
    "start_time": "2023-05-26T08:29:28.070Z"
   },
   {
    "duration": 166,
    "start_time": "2023-05-26T08:29:28.093Z"
   },
   {
    "duration": 31,
    "start_time": "2023-05-26T08:29:28.261Z"
   },
   {
    "duration": 16,
    "start_time": "2023-05-26T08:29:28.294Z"
   },
   {
    "duration": 14,
    "start_time": "2023-05-26T08:29:28.311Z"
   },
   {
    "duration": 528,
    "start_time": "2023-05-26T08:29:28.327Z"
   },
   {
    "duration": 52,
    "start_time": "2023-05-26T08:29:28.856Z"
   },
   {
    "duration": 3,
    "start_time": "2023-05-26T08:29:28.910Z"
   },
   {
    "duration": 125,
    "start_time": "2023-05-26T08:29:28.914Z"
   },
   {
    "duration": 18,
    "start_time": "2023-05-26T08:29:29.041Z"
   },
   {
    "duration": 328,
    "start_time": "2023-05-26T08:29:29.061Z"
   },
   {
    "duration": 10,
    "start_time": "2023-05-26T08:29:29.391Z"
   },
   {
    "duration": 68,
    "start_time": "2023-05-26T08:29:29.402Z"
   },
   {
    "duration": 30,
    "start_time": "2023-05-26T08:29:29.471Z"
   },
   {
    "duration": 367,
    "start_time": "2023-05-26T08:29:29.502Z"
   },
   {
    "duration": 87,
    "start_time": "2023-05-26T08:29:29.871Z"
   },
   {
    "duration": 10,
    "start_time": "2023-05-26T08:29:29.960Z"
   },
   {
    "duration": 57,
    "start_time": "2023-05-26T08:29:29.972Z"
   },
   {
    "duration": 48361,
    "start_time": "2023-05-26T08:29:30.031Z"
   },
   {
    "duration": 158,
    "start_time": "2023-05-26T08:30:18.394Z"
   },
   {
    "duration": 25,
    "start_time": "2023-05-26T08:30:18.553Z"
   },
   {
    "duration": 13485,
    "start_time": "2023-05-26T08:30:18.580Z"
   },
   {
    "duration": 13703,
    "start_time": "2023-05-26T08:30:32.066Z"
   },
   {
    "duration": 7,
    "start_time": "2023-05-26T08:30:45.771Z"
   },
   {
    "duration": 117,
    "start_time": "2023-05-26T08:30:45.780Z"
   },
   {
    "duration": 22,
    "start_time": "2023-05-26T08:30:45.899Z"
   },
   {
    "duration": 44,
    "start_time": "2023-05-26T08:30:45.922Z"
   },
   {
    "duration": 18,
    "start_time": "2023-05-26T08:30:45.968Z"
   },
   {
    "duration": 15185,
    "start_time": "2023-05-26T08:30:45.988Z"
   },
   {
    "duration": 271,
    "start_time": "2023-05-26T08:31:01.175Z"
   },
   {
    "duration": 92,
    "start_time": "2023-05-26T08:31:01.455Z"
   },
   {
    "duration": 309,
    "start_time": "2023-05-26T08:31:01.549Z"
   },
   {
    "duration": 2791,
    "start_time": "2023-05-26T08:31:01.860Z"
   },
   {
    "duration": 55,
    "start_time": "2023-05-26T08:31:04.653Z"
   },
   {
    "duration": 5,
    "start_time": "2023-05-26T08:31:04.709Z"
   },
   {
    "duration": 284,
    "start_time": "2023-05-26T08:31:04.715Z"
   },
   {
    "duration": 84,
    "start_time": "2023-05-26T08:31:05.001Z"
   },
   {
    "duration": 137,
    "start_time": "2023-05-26T08:31:05.087Z"
   },
   {
    "duration": 807,
    "start_time": "2023-05-26T08:31:05.225Z"
   },
   {
    "duration": 17,
    "start_time": "2023-05-26T08:31:06.034Z"
   },
   {
    "duration": 24,
    "start_time": "2023-05-26T08:31:06.053Z"
   },
   {
    "duration": 12186,
    "start_time": "2023-05-26T08:31:06.079Z"
   },
   {
    "duration": 289,
    "start_time": "2023-05-26T08:31:18.266Z"
   },
   {
    "duration": 5,
    "start_time": "2023-05-26T08:31:18.557Z"
   },
   {
    "duration": 327,
    "start_time": "2023-05-26T08:31:18.564Z"
   },
   {
    "duration": 141,
    "start_time": "2023-05-26T08:31:18.893Z"
   },
   {
    "duration": 11,
    "start_time": "2023-05-26T08:31:19.036Z"
   },
   {
    "duration": 171442,
    "start_time": "2023-05-26T08:31:19.048Z"
   },
   {
    "duration": 334,
    "start_time": "2023-05-26T08:34:10.492Z"
   },
   {
    "duration": 4,
    "start_time": "2023-05-26T08:34:10.828Z"
   },
   {
    "duration": 282,
    "start_time": "2023-05-26T08:34:10.834Z"
   },
   {
    "duration": 253,
    "start_time": "2023-05-26T08:34:11.121Z"
   },
   {
    "duration": 3,
    "start_time": "2023-05-26T08:34:11.376Z"
   },
   {
    "duration": 22,
    "start_time": "2023-05-26T08:34:11.381Z"
   },
   {
    "duration": 25,
    "start_time": "2023-05-26T08:34:11.405Z"
   },
   {
    "duration": 4619,
    "start_time": "2023-05-26T08:34:11.432Z"
   },
   {
    "duration": 5,
    "start_time": "2023-05-26T08:34:16.053Z"
   },
   {
    "duration": 11,
    "start_time": "2023-05-26T08:43:42.402Z"
   },
   {
    "duration": 87,
    "start_time": "2023-05-26T08:45:06.764Z"
   },
   {
    "duration": 2226,
    "start_time": "2023-05-26T08:45:59.412Z"
   },
   {
    "duration": 2327,
    "start_time": "2023-05-26T08:46:51.563Z"
   },
   {
    "duration": 2300,
    "start_time": "2023-05-26T08:46:53.893Z"
   },
   {
    "duration": 1251,
    "start_time": "2023-05-26T08:46:56.195Z"
   },
   {
    "duration": 920,
    "start_time": "2023-05-26T08:46:57.448Z"
   },
   {
    "duration": 781,
    "start_time": "2023-05-26T08:46:58.369Z"
   },
   {
    "duration": 110,
    "start_time": "2023-05-26T08:46:59.152Z"
   },
   {
    "duration": 526,
    "start_time": "2023-05-26T08:46:59.264Z"
   },
   {
    "duration": 9180,
    "start_time": "2023-05-26T08:46:59.792Z"
   },
   {
    "duration": 9,
    "start_time": "2023-05-26T08:47:08.975Z"
   },
   {
    "duration": 608,
    "start_time": "2023-05-26T08:47:08.988Z"
   },
   {
    "duration": 1025,
    "start_time": "2023-05-26T08:47:09.598Z"
   },
   {
    "duration": 40,
    "start_time": "2023-05-26T08:47:10.625Z"
   },
   {
    "duration": 19,
    "start_time": "2023-05-26T08:47:10.667Z"
   },
   {
    "duration": 321,
    "start_time": "2023-05-26T08:47:10.688Z"
   },
   {
    "duration": 488,
    "start_time": "2023-05-26T08:47:11.011Z"
   },
   {
    "duration": 14,
    "start_time": "2023-05-26T08:47:11.501Z"
   },
   {
    "duration": 36,
    "start_time": "2023-05-26T08:47:11.517Z"
   },
   {
    "duration": 82,
    "start_time": "2023-05-26T08:47:11.555Z"
   },
   {
    "duration": 92,
    "start_time": "2023-05-26T08:47:11.639Z"
   },
   {
    "duration": 126,
    "start_time": "2023-05-26T08:47:11.733Z"
   },
   {
    "duration": 138,
    "start_time": "2023-05-26T08:47:11.862Z"
   },
   {
    "duration": 370,
    "start_time": "2023-05-26T08:47:12.002Z"
   },
   {
    "duration": 419,
    "start_time": "2023-05-26T08:47:12.374Z"
   },
   {
    "duration": 111,
    "start_time": "2023-05-26T08:47:12.795Z"
   },
   {
    "duration": 82,
    "start_time": "2023-05-26T08:47:12.908Z"
   },
   {
    "duration": 7,
    "start_time": "2023-05-26T08:47:12.992Z"
   },
   {
    "duration": 28,
    "start_time": "2023-05-26T08:47:13.001Z"
   },
   {
    "duration": 15,
    "start_time": "2023-05-26T08:47:13.040Z"
   },
   {
    "duration": 31,
    "start_time": "2023-05-26T08:47:13.058Z"
   },
   {
    "duration": 32,
    "start_time": "2023-05-26T08:47:13.092Z"
   },
   {
    "duration": 31,
    "start_time": "2023-05-26T08:47:13.126Z"
   },
   {
    "duration": 9,
    "start_time": "2023-05-26T08:47:13.159Z"
   },
   {
    "duration": 157,
    "start_time": "2023-05-26T08:47:13.169Z"
   },
   {
    "duration": 41,
    "start_time": "2023-05-26T08:47:13.328Z"
   },
   {
    "duration": 12,
    "start_time": "2023-05-26T08:47:13.371Z"
   },
   {
    "duration": 6,
    "start_time": "2023-05-26T08:47:13.385Z"
   },
   {
    "duration": 505,
    "start_time": "2023-05-26T08:47:13.393Z"
   },
   {
    "duration": 58,
    "start_time": "2023-05-26T08:47:13.900Z"
   },
   {
    "duration": 3,
    "start_time": "2023-05-26T08:47:13.959Z"
   },
   {
    "duration": 138,
    "start_time": "2023-05-26T08:47:13.963Z"
   },
   {
    "duration": 15,
    "start_time": "2023-05-26T08:47:14.103Z"
   },
   {
    "duration": 354,
    "start_time": "2023-05-26T08:47:14.120Z"
   },
   {
    "duration": 11,
    "start_time": "2023-05-26T08:47:14.475Z"
   },
   {
    "duration": 60,
    "start_time": "2023-05-26T08:47:14.487Z"
   },
   {
    "duration": 31,
    "start_time": "2023-05-26T08:47:14.549Z"
   },
   {
    "duration": 385,
    "start_time": "2023-05-26T08:47:14.581Z"
   },
   {
    "duration": 89,
    "start_time": "2023-05-26T08:47:14.968Z"
   },
   {
    "duration": 11,
    "start_time": "2023-05-26T08:47:15.058Z"
   },
   {
    "duration": 72,
    "start_time": "2023-05-26T08:47:15.071Z"
   },
   {
    "duration": 42038,
    "start_time": "2023-05-26T08:47:15.144Z"
   },
   {
    "duration": 165,
    "start_time": "2023-05-26T08:47:57.184Z"
   },
   {
    "duration": 26,
    "start_time": "2023-05-26T08:47:57.351Z"
   },
   {
    "duration": 13168,
    "start_time": "2023-05-26T08:47:57.379Z"
   },
   {
    "duration": 13316,
    "start_time": "2023-05-26T08:48:10.549Z"
   },
   {
    "duration": 5,
    "start_time": "2023-05-26T08:48:23.867Z"
   },
   {
    "duration": 176,
    "start_time": "2023-05-26T08:48:23.873Z"
   },
   {
    "duration": 22,
    "start_time": "2023-05-26T08:48:24.050Z"
   },
   {
    "duration": 26,
    "start_time": "2023-05-26T08:48:24.073Z"
   },
   {
    "duration": 10,
    "start_time": "2023-05-26T08:48:24.100Z"
   },
   {
    "duration": 15858,
    "start_time": "2023-05-26T08:48:24.111Z"
   },
   {
    "duration": 182,
    "start_time": "2023-05-26T08:48:39.971Z"
   },
   {
    "duration": 91,
    "start_time": "2023-05-26T08:48:40.157Z"
   },
   {
    "duration": 350,
    "start_time": "2023-05-26T08:48:40.250Z"
   },
   {
    "duration": 2755,
    "start_time": "2023-05-26T08:48:40.601Z"
   },
   {
    "duration": 53,
    "start_time": "2023-05-26T08:48:43.358Z"
   },
   {
    "duration": 14,
    "start_time": "2023-05-26T08:48:43.413Z"
   },
   {
    "duration": 272,
    "start_time": "2023-05-26T08:48:43.429Z"
   },
   {
    "duration": 87,
    "start_time": "2023-05-26T08:48:43.702Z"
   },
   {
    "duration": 133,
    "start_time": "2023-05-26T08:48:43.790Z"
   },
   {
    "duration": 764,
    "start_time": "2023-05-26T08:48:43.925Z"
   },
   {
    "duration": 15,
    "start_time": "2023-05-26T08:48:44.691Z"
   },
   {
    "duration": 33,
    "start_time": "2023-05-26T08:48:44.708Z"
   },
   {
    "duration": 6619,
    "start_time": "2023-05-26T08:48:44.745Z"
   },
   {
    "duration": 289,
    "start_time": "2023-05-26T08:48:51.366Z"
   },
   {
    "duration": 5,
    "start_time": "2023-05-26T08:48:51.656Z"
   },
   {
    "duration": 352,
    "start_time": "2023-05-26T08:48:51.663Z"
   },
   {
    "duration": 146,
    "start_time": "2023-05-26T08:48:52.017Z"
   },
   {
    "duration": 4,
    "start_time": "2023-05-26T08:48:52.165Z"
   },
   {
    "duration": 171666,
    "start_time": "2023-05-26T08:48:52.171Z"
   },
   {
    "duration": 358,
    "start_time": "2023-05-26T08:51:43.839Z"
   },
   {
    "duration": 5,
    "start_time": "2023-05-26T08:51:44.199Z"
   },
   {
    "duration": 281,
    "start_time": "2023-05-26T08:51:44.209Z"
   },
   {
    "duration": 167,
    "start_time": "2023-05-26T08:51:44.493Z"
   },
   {
    "duration": 3,
    "start_time": "2023-05-26T08:51:44.662Z"
   },
   {
    "duration": 11,
    "start_time": "2023-05-26T08:51:44.667Z"
   },
   {
    "duration": 13,
    "start_time": "2023-05-26T08:51:44.680Z"
   },
   {
    "duration": 3661,
    "start_time": "2023-05-26T08:51:44.694Z"
   },
   {
    "duration": 5,
    "start_time": "2023-05-26T08:51:48.358Z"
   },
   {
    "duration": 142,
    "start_time": "2023-05-26T08:53:57.666Z"
   },
   {
    "duration": 120,
    "start_time": "2023-05-26T08:57:35.030Z"
   },
   {
    "duration": 8,
    "start_time": "2023-05-26T08:58:15.553Z"
   },
   {
    "duration": 7,
    "start_time": "2023-05-26T08:59:41.091Z"
   },
   {
    "duration": 52,
    "start_time": "2023-05-26T10:34:38.368Z"
   },
   {
    "duration": 6634,
    "start_time": "2023-05-26T10:34:46.229Z"
   },
   {
    "duration": 1615,
    "start_time": "2023-05-26T10:34:52.865Z"
   },
   {
    "duration": 892,
    "start_time": "2023-05-26T10:34:54.482Z"
   },
   {
    "duration": 1071,
    "start_time": "2023-05-26T10:34:55.376Z"
   },
   {
    "duration": 96,
    "start_time": "2023-05-26T10:34:56.448Z"
   },
   {
    "duration": 411,
    "start_time": "2023-05-26T10:34:56.546Z"
   },
   {
    "duration": 8366,
    "start_time": "2023-05-26T10:34:56.959Z"
   },
   {
    "duration": 7,
    "start_time": "2023-05-26T10:35:05.327Z"
   },
   {
    "duration": 591,
    "start_time": "2023-05-26T10:35:05.335Z"
   },
   {
    "duration": 840,
    "start_time": "2023-05-26T10:35:05.929Z"
   },
   {
    "duration": 44,
    "start_time": "2023-05-26T10:35:06.771Z"
   },
   {
    "duration": 16,
    "start_time": "2023-05-26T10:35:06.816Z"
   },
   {
    "duration": 313,
    "start_time": "2023-05-26T10:35:06.833Z"
   },
   {
    "duration": 395,
    "start_time": "2023-05-26T10:35:07.147Z"
   },
   {
    "duration": 11,
    "start_time": "2023-05-26T10:35:07.544Z"
   },
   {
    "duration": 30,
    "start_time": "2023-05-26T10:35:07.557Z"
   },
   {
    "duration": 150,
    "start_time": "2023-05-26T10:35:07.589Z"
   },
   {
    "duration": 204,
    "start_time": "2023-05-26T10:35:07.741Z"
   },
   {
    "duration": 255,
    "start_time": "2023-05-26T10:35:07.947Z"
   },
   {
    "duration": 262,
    "start_time": "2023-05-26T10:35:08.206Z"
   },
   {
    "duration": 419,
    "start_time": "2023-05-26T10:35:08.470Z"
   },
   {
    "duration": 416,
    "start_time": "2023-05-26T10:35:08.891Z"
   },
   {
    "duration": 216,
    "start_time": "2023-05-26T10:35:09.308Z"
   },
   {
    "duration": 64,
    "start_time": "2023-05-26T10:35:09.525Z"
   },
   {
    "duration": 16,
    "start_time": "2023-05-26T10:35:09.591Z"
   },
   {
    "duration": 13,
    "start_time": "2023-05-26T10:35:09.609Z"
   },
   {
    "duration": 7,
    "start_time": "2023-05-26T10:35:09.624Z"
   },
   {
    "duration": 36,
    "start_time": "2023-05-26T10:35:09.635Z"
   },
   {
    "duration": 108,
    "start_time": "2023-05-26T10:35:09.673Z"
   },
   {
    "duration": 29,
    "start_time": "2023-05-26T10:35:09.783Z"
   },
   {
    "duration": 9,
    "start_time": "2023-05-26T10:35:09.814Z"
   },
   {
    "duration": 47,
    "start_time": "2023-05-26T10:35:09.825Z"
   },
   {
    "duration": 53,
    "start_time": "2023-05-26T10:35:09.874Z"
   },
   {
    "duration": 12,
    "start_time": "2023-05-26T10:35:09.929Z"
   },
   {
    "duration": 10,
    "start_time": "2023-05-26T10:35:09.942Z"
   },
   {
    "duration": 284,
    "start_time": "2023-05-26T10:35:09.954Z"
   },
   {
    "duration": 40,
    "start_time": "2023-05-26T10:35:10.240Z"
   },
   {
    "duration": 2,
    "start_time": "2023-05-26T10:35:10.282Z"
   },
   {
    "duration": 133,
    "start_time": "2023-05-26T10:35:10.286Z"
   },
   {
    "duration": 16,
    "start_time": "2023-05-26T10:35:10.421Z"
   },
   {
    "duration": 294,
    "start_time": "2023-05-26T10:35:10.438Z"
   },
   {
    "duration": 11,
    "start_time": "2023-05-26T10:35:10.733Z"
   },
   {
    "duration": 35,
    "start_time": "2023-05-26T10:35:10.746Z"
   },
   {
    "duration": 46,
    "start_time": "2023-05-26T10:35:10.783Z"
   },
   {
    "duration": 319,
    "start_time": "2023-05-26T10:35:10.831Z"
   },
   {
    "duration": 90,
    "start_time": "2023-05-26T10:35:11.152Z"
   },
   {
    "duration": 7,
    "start_time": "2023-05-26T10:35:11.243Z"
   },
   {
    "duration": 35,
    "start_time": "2023-05-26T10:35:11.252Z"
   },
   {
    "duration": 2173,
    "start_time": "2023-05-26T10:35:11.288Z"
   },
   {
    "duration": 293,
    "start_time": "2023-05-26T10:35:13.463Z"
   },
   {
    "duration": 26,
    "start_time": "2023-05-26T10:35:13.758Z"
   },
   {
    "duration": 523,
    "start_time": "2023-05-26T10:35:13.785Z"
   },
   {
    "duration": 485,
    "start_time": "2023-05-26T10:35:14.310Z"
   },
   {
    "duration": 11,
    "start_time": "2023-05-26T10:35:14.797Z"
   },
   {
    "duration": 480,
    "start_time": "2023-05-26T10:35:17.129Z"
   }
  ],
  "kernelspec": {
   "display_name": "Python 3 (ipykernel)",
   "language": "python",
   "name": "python3"
  },
  "language_info": {
   "codemirror_mode": {
    "name": "ipython",
    "version": 3
   },
   "file_extension": ".py",
   "mimetype": "text/x-python",
   "name": "python",
   "nbconvert_exporter": "python",
   "pygments_lexer": "ipython3",
   "version": "3.9.5"
  },
  "toc": {
   "base_numbering": 1,
   "nav_menu": {
    "height": "287px",
    "width": "382px"
   },
   "number_sections": true,
   "sideBar": true,
   "skip_h1_title": true,
   "title_cell": "Table of Contents",
   "title_sidebar": "Contents",
   "toc_cell": true,
   "toc_position": {
    "height": "calc(100% - 180px)",
    "left": "10px",
    "top": "150px",
    "width": "285px"
   },
   "toc_section_display": true,
   "toc_window_display": true
  }
 },
 "nbformat": 4,
 "nbformat_minor": 2
}
