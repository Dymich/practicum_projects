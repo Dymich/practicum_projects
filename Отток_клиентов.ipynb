{
  "cells": [
    {
      "cell_type": "markdown",
      "metadata": {
        "id": "07BBHjjqlShf"
      },
      "source": [
        "# Отток клиентов"
      ]
    },
    {
      "cell_type": "markdown",
      "metadata": {
        "id": "vhokozDnlShf"
      },
      "source": [
        "Из «Бета-Банка» стали уходить клиенты. Каждый месяц. Немного, но заметно. Банковские маркетологи посчитали: сохранять текущих клиентов дешевле, чем привлекать новых.\n",
        "\n",
        "Нужно спрогнозировать, уйдёт клиент из банка в ближайшее время или нет. Вам предоставлены исторические данные о поведении клиентов и расторжении договоров с банком.\n",
        "\n",
        "Постройте модель с предельно большим значением *F1*-меры. Чтобы сдать проект успешно, нужно довести метрику до 0.59. Проверьте *F1*-меру на тестовой выборке самостоятельно.\n",
        "\n",
        "Дополнительно измеряйте *AUC-ROC*, сравнивайте её значение с *F1*-мерой.\n",
        "\n",
        "Источник данных: [https://www.kaggle.com/barelydedicated/bank-customer-churn-modeling](https://www.kaggle.com/barelydedicated/bank-customer-churn-modeling)"
      ]
    },
    {
      "cell_type": "markdown",
      "metadata": {
        "id": "om1wlD3tlShg"
      },
      "source": [
        "## Подготовка данных"
      ]
    },
    {
      "cell_type": "markdown",
      "metadata": {
        "id": "z-SPTTZRlShg"
      },
      "source": [
        "### Импорт библиотек"
      ]
    },
    {
      "cell_type": "code",
      "execution_count": null,
      "metadata": {
        "id": "vsWkg8CtlShh",
        "outputId": "947bbbf4-b222-4c63-8d2f-59f469498f00"
      },
      "outputs": [
        {
          "name": "stdout",
          "output_type": "stream",
          "text": [
            "Requirement already satisfied: scikit-learn==1.1.3 in /opt/conda/lib/python3.9/site-packages (1.1.3)\n",
            "Requirement already satisfied: numpy>=1.17.3 in /opt/conda/lib/python3.9/site-packages (from scikit-learn==1.1.3) (1.21.1)\n",
            "Requirement already satisfied: threadpoolctl>=2.0.0 in /opt/conda/lib/python3.9/site-packages (from scikit-learn==1.1.3) (3.1.0)\n",
            "Requirement already satisfied: scipy>=1.3.2 in /opt/conda/lib/python3.9/site-packages (from scikit-learn==1.1.3) (1.9.1)\n",
            "Requirement already satisfied: joblib>=1.0.0 in /opt/conda/lib/python3.9/site-packages (from scikit-learn==1.1.3) (1.1.0)\n"
          ]
        }
      ],
      "source": [
        "!pip install scikit-learn==1.1.3"
      ]
    },
    {
      "cell_type": "code",
      "execution_count": null,
      "metadata": {
        "id": "cjQ7THLslShi",
        "outputId": "32ab00e8-818e-404d-e418-87b29ee2a41b"
      },
      "outputs": [
        {
          "name": "stdout",
          "output_type": "stream",
          "text": [
            "Collecting imblearn\n",
            "  Downloading imblearn-0.0-py2.py3-none-any.whl (1.9 kB)\n",
            "Collecting imbalanced-learn\n",
            "  Downloading imbalanced_learn-0.10.1-py3-none-any.whl (226 kB)\n",
            "\u001b[K     |████████████████████████████████| 226 kB 1.0 MB/s eta 0:00:01\n",
            "\u001b[?25hRequirement already satisfied: scikit-learn>=1.0.2 in /opt/conda/lib/python3.9/site-packages (from imbalanced-learn->imblearn) (1.1.3)\n",
            "Requirement already satisfied: numpy>=1.17.3 in /opt/conda/lib/python3.9/site-packages (from imbalanced-learn->imblearn) (1.21.1)\n",
            "Requirement already satisfied: threadpoolctl>=2.0.0 in /opt/conda/lib/python3.9/site-packages (from imbalanced-learn->imblearn) (3.1.0)\n",
            "Collecting joblib>=1.1.1\n",
            "  Downloading joblib-1.2.0-py3-none-any.whl (297 kB)\n",
            "\u001b[K     |████████████████████████████████| 297 kB 1.4 MB/s eta 0:00:01\n",
            "\u001b[?25hRequirement already satisfied: scipy>=1.3.2 in /opt/conda/lib/python3.9/site-packages (from imbalanced-learn->imblearn) (1.9.1)\n",
            "Installing collected packages: joblib, imbalanced-learn, imblearn\n",
            "  Attempting uninstall: joblib\n",
            "    Found existing installation: joblib 1.1.0\n",
            "    Uninstalling joblib-1.1.0:\n",
            "      Successfully uninstalled joblib-1.1.0\n",
            "Successfully installed imbalanced-learn-0.10.1 imblearn-0.0 joblib-1.2.0\n"
          ]
        }
      ],
      "source": [
        "!pip install imblearn"
      ]
    },
    {
      "cell_type": "code",
      "execution_count": null,
      "metadata": {
        "id": "yBR-J1hOlShj"
      },
      "outputs": [],
      "source": [
        "import pandas as pd\n",
        "import numpy as np\n",
        "\n",
        "from sklearn.tree import DecisionTreeClassifier\n",
        "from sklearn.ensemble import RandomForestClassifier\n",
        "from sklearn.linear_model import LogisticRegression\n",
        "\n",
        "from sklearn.model_selection import train_test_split\n",
        "\n",
        "from sklearn.utils import shuffle\n",
        "\n",
        "from sklearn.preprocessing import StandardScaler, OrdinalEncoder, OneHotEncoder\n",
        "\n",
        "from sklearn.metrics import accuracy_score, f1_score, roc_auc_score, roc_curve, precision_score, recall_score, confusion_matrix\n",
        "\n",
        "from sklearn.dummy import DummyClassifier\n",
        "\n",
        "from tqdm import tqdm\n",
        "\n",
        "import matplotlib.pyplot as plt\n",
        "import seaborn as sns\n",
        "\n",
        "from imblearn.over_sampling import SMOTE\n",
        "\n",
        "%matplotlib inline\n",
        "import warnings\n",
        "warnings.filterwarnings(\"ignore\")\n"
      ]
    },
    {
      "cell_type": "markdown",
      "metadata": {
        "id": "wg0zP87ZlShj"
      },
      "source": [
        "### Исследование данных"
      ]
    },
    {
      "cell_type": "code",
      "execution_count": null,
      "metadata": {
        "id": "9TtrhOpFlShj",
        "outputId": "b2134653-ff7d-4282-c8d6-c07e5819de3d"
      },
      "outputs": [
        {
          "data": {
            "text/html": [
              "<div>\n",
              "<style scoped>\n",
              "    .dataframe tbody tr th:only-of-type {\n",
              "        vertical-align: middle;\n",
              "    }\n",
              "\n",
              "    .dataframe tbody tr th {\n",
              "        vertical-align: top;\n",
              "    }\n",
              "\n",
              "    .dataframe thead th {\n",
              "        text-align: right;\n",
              "    }\n",
              "</style>\n",
              "<table border=\"1\" class=\"dataframe\">\n",
              "  <thead>\n",
              "    <tr style=\"text-align: right;\">\n",
              "      <th></th>\n",
              "      <th>RowNumber</th>\n",
              "      <th>CustomerId</th>\n",
              "      <th>Surname</th>\n",
              "      <th>CreditScore</th>\n",
              "      <th>Geography</th>\n",
              "      <th>Gender</th>\n",
              "      <th>Age</th>\n",
              "      <th>Tenure</th>\n",
              "      <th>Balance</th>\n",
              "      <th>NumOfProducts</th>\n",
              "      <th>HasCrCard</th>\n",
              "      <th>IsActiveMember</th>\n",
              "      <th>EstimatedSalary</th>\n",
              "      <th>Exited</th>\n",
              "    </tr>\n",
              "  </thead>\n",
              "  <tbody>\n",
              "    <tr>\n",
              "      <th>0</th>\n",
              "      <td>1</td>\n",
              "      <td>15634602</td>\n",
              "      <td>Hargrave</td>\n",
              "      <td>619</td>\n",
              "      <td>France</td>\n",
              "      <td>Female</td>\n",
              "      <td>42</td>\n",
              "      <td>2.0</td>\n",
              "      <td>0.00</td>\n",
              "      <td>1</td>\n",
              "      <td>1</td>\n",
              "      <td>1</td>\n",
              "      <td>101348.88</td>\n",
              "      <td>1</td>\n",
              "    </tr>\n",
              "    <tr>\n",
              "      <th>1</th>\n",
              "      <td>2</td>\n",
              "      <td>15647311</td>\n",
              "      <td>Hill</td>\n",
              "      <td>608</td>\n",
              "      <td>Spain</td>\n",
              "      <td>Female</td>\n",
              "      <td>41</td>\n",
              "      <td>1.0</td>\n",
              "      <td>83807.86</td>\n",
              "      <td>1</td>\n",
              "      <td>0</td>\n",
              "      <td>1</td>\n",
              "      <td>112542.58</td>\n",
              "      <td>0</td>\n",
              "    </tr>\n",
              "    <tr>\n",
              "      <th>2</th>\n",
              "      <td>3</td>\n",
              "      <td>15619304</td>\n",
              "      <td>Onio</td>\n",
              "      <td>502</td>\n",
              "      <td>France</td>\n",
              "      <td>Female</td>\n",
              "      <td>42</td>\n",
              "      <td>8.0</td>\n",
              "      <td>159660.80</td>\n",
              "      <td>3</td>\n",
              "      <td>1</td>\n",
              "      <td>0</td>\n",
              "      <td>113931.57</td>\n",
              "      <td>1</td>\n",
              "    </tr>\n",
              "    <tr>\n",
              "      <th>3</th>\n",
              "      <td>4</td>\n",
              "      <td>15701354</td>\n",
              "      <td>Boni</td>\n",
              "      <td>699</td>\n",
              "      <td>France</td>\n",
              "      <td>Female</td>\n",
              "      <td>39</td>\n",
              "      <td>1.0</td>\n",
              "      <td>0.00</td>\n",
              "      <td>2</td>\n",
              "      <td>0</td>\n",
              "      <td>0</td>\n",
              "      <td>93826.63</td>\n",
              "      <td>0</td>\n",
              "    </tr>\n",
              "    <tr>\n",
              "      <th>4</th>\n",
              "      <td>5</td>\n",
              "      <td>15737888</td>\n",
              "      <td>Mitchell</td>\n",
              "      <td>850</td>\n",
              "      <td>Spain</td>\n",
              "      <td>Female</td>\n",
              "      <td>43</td>\n",
              "      <td>2.0</td>\n",
              "      <td>125510.82</td>\n",
              "      <td>1</td>\n",
              "      <td>1</td>\n",
              "      <td>1</td>\n",
              "      <td>79084.10</td>\n",
              "      <td>0</td>\n",
              "    </tr>\n",
              "    <tr>\n",
              "      <th>5</th>\n",
              "      <td>6</td>\n",
              "      <td>15574012</td>\n",
              "      <td>Chu</td>\n",
              "      <td>645</td>\n",
              "      <td>Spain</td>\n",
              "      <td>Male</td>\n",
              "      <td>44</td>\n",
              "      <td>8.0</td>\n",
              "      <td>113755.78</td>\n",
              "      <td>2</td>\n",
              "      <td>1</td>\n",
              "      <td>0</td>\n",
              "      <td>149756.71</td>\n",
              "      <td>1</td>\n",
              "    </tr>\n",
              "    <tr>\n",
              "      <th>6</th>\n",
              "      <td>7</td>\n",
              "      <td>15592531</td>\n",
              "      <td>Bartlett</td>\n",
              "      <td>822</td>\n",
              "      <td>France</td>\n",
              "      <td>Male</td>\n",
              "      <td>50</td>\n",
              "      <td>7.0</td>\n",
              "      <td>0.00</td>\n",
              "      <td>2</td>\n",
              "      <td>1</td>\n",
              "      <td>1</td>\n",
              "      <td>10062.80</td>\n",
              "      <td>0</td>\n",
              "    </tr>\n",
              "    <tr>\n",
              "      <th>7</th>\n",
              "      <td>8</td>\n",
              "      <td>15656148</td>\n",
              "      <td>Obinna</td>\n",
              "      <td>376</td>\n",
              "      <td>Germany</td>\n",
              "      <td>Female</td>\n",
              "      <td>29</td>\n",
              "      <td>4.0</td>\n",
              "      <td>115046.74</td>\n",
              "      <td>4</td>\n",
              "      <td>1</td>\n",
              "      <td>0</td>\n",
              "      <td>119346.88</td>\n",
              "      <td>1</td>\n",
              "    </tr>\n",
              "    <tr>\n",
              "      <th>8</th>\n",
              "      <td>9</td>\n",
              "      <td>15792365</td>\n",
              "      <td>He</td>\n",
              "      <td>501</td>\n",
              "      <td>France</td>\n",
              "      <td>Male</td>\n",
              "      <td>44</td>\n",
              "      <td>4.0</td>\n",
              "      <td>142051.07</td>\n",
              "      <td>2</td>\n",
              "      <td>0</td>\n",
              "      <td>1</td>\n",
              "      <td>74940.50</td>\n",
              "      <td>0</td>\n",
              "    </tr>\n",
              "    <tr>\n",
              "      <th>9</th>\n",
              "      <td>10</td>\n",
              "      <td>15592389</td>\n",
              "      <td>H?</td>\n",
              "      <td>684</td>\n",
              "      <td>France</td>\n",
              "      <td>Male</td>\n",
              "      <td>27</td>\n",
              "      <td>2.0</td>\n",
              "      <td>134603.88</td>\n",
              "      <td>1</td>\n",
              "      <td>1</td>\n",
              "      <td>1</td>\n",
              "      <td>71725.73</td>\n",
              "      <td>0</td>\n",
              "    </tr>\n",
              "  </tbody>\n",
              "</table>\n",
              "</div>"
            ],
            "text/plain": [
              "   RowNumber  CustomerId   Surname  CreditScore Geography  Gender  Age  \\\n",
              "0          1    15634602  Hargrave          619    France  Female   42   \n",
              "1          2    15647311      Hill          608     Spain  Female   41   \n",
              "2          3    15619304      Onio          502    France  Female   42   \n",
              "3          4    15701354      Boni          699    France  Female   39   \n",
              "4          5    15737888  Mitchell          850     Spain  Female   43   \n",
              "5          6    15574012       Chu          645     Spain    Male   44   \n",
              "6          7    15592531  Bartlett          822    France    Male   50   \n",
              "7          8    15656148    Obinna          376   Germany  Female   29   \n",
              "8          9    15792365        He          501    France    Male   44   \n",
              "9         10    15592389        H?          684    France    Male   27   \n",
              "\n",
              "   Tenure    Balance  NumOfProducts  HasCrCard  IsActiveMember  \\\n",
              "0     2.0       0.00              1          1               1   \n",
              "1     1.0   83807.86              1          0               1   \n",
              "2     8.0  159660.80              3          1               0   \n",
              "3     1.0       0.00              2          0               0   \n",
              "4     2.0  125510.82              1          1               1   \n",
              "5     8.0  113755.78              2          1               0   \n",
              "6     7.0       0.00              2          1               1   \n",
              "7     4.0  115046.74              4          1               0   \n",
              "8     4.0  142051.07              2          0               1   \n",
              "9     2.0  134603.88              1          1               1   \n",
              "\n",
              "   EstimatedSalary  Exited  \n",
              "0        101348.88       1  \n",
              "1        112542.58       0  \n",
              "2        113931.57       1  \n",
              "3         93826.63       0  \n",
              "4         79084.10       0  \n",
              "5        149756.71       1  \n",
              "6         10062.80       0  \n",
              "7        119346.88       1  \n",
              "8         74940.50       0  \n",
              "9         71725.73       0  "
            ]
          },
          "execution_count": 3,
          "metadata": {},
          "output_type": "execute_result"
        }
      ],
      "source": [
        "try:\n",
        "    df = pd.read_csv('/datasets/Churn.csv')\n",
        "except:\n",
        "    df = pd.read_csv('https://code.s3.yandex.net/datasets/Churn.csv')\n",
        "df.head(10)"
      ]
    },
    {
      "cell_type": "code",
      "execution_count": null,
      "metadata": {
        "id": "FyZrm3PvlShk",
        "outputId": "6d101e83-8e43-4005-88e0-2f97b43d5985"
      },
      "outputs": [
        {
          "name": "stdout",
          "output_type": "stream",
          "text": [
            "<class 'pandas.core.frame.DataFrame'>\n",
            "RangeIndex: 10000 entries, 0 to 9999\n",
            "Data columns (total 14 columns):\n",
            " #   Column           Non-Null Count  Dtype  \n",
            "---  ------           --------------  -----  \n",
            " 0   RowNumber        10000 non-null  int64  \n",
            " 1   CustomerId       10000 non-null  int64  \n",
            " 2   Surname          10000 non-null  object \n",
            " 3   CreditScore      10000 non-null  int64  \n",
            " 4   Geography        10000 non-null  object \n",
            " 5   Gender           10000 non-null  object \n",
            " 6   Age              10000 non-null  int64  \n",
            " 7   Tenure           9091 non-null   float64\n",
            " 8   Balance          10000 non-null  float64\n",
            " 9   NumOfProducts    10000 non-null  int64  \n",
            " 10  HasCrCard        10000 non-null  int64  \n",
            " 11  IsActiveMember   10000 non-null  int64  \n",
            " 12  EstimatedSalary  10000 non-null  float64\n",
            " 13  Exited           10000 non-null  int64  \n",
            "dtypes: float64(3), int64(8), object(3)\n",
            "memory usage: 1.1+ MB\n"
          ]
        }
      ],
      "source": [
        "df.info()"
      ]
    },
    {
      "cell_type": "code",
      "execution_count": null,
      "metadata": {
        "id": "kG2D0bwdlShk",
        "outputId": "e470cd61-c9ad-4582-8102-c07cb4292170"
      },
      "outputs": [
        {
          "data": {
            "text/plain": [
              "0"
            ]
          },
          "execution_count": 5,
          "metadata": {},
          "output_type": "execute_result"
        }
      ],
      "source": [
        "df.duplicated().sum()"
      ]
    },
    {
      "cell_type": "markdown",
      "metadata": {
        "id": "ZB--SoeslShk"
      },
      "source": [
        "Данные содержат 14 колонок и 10000 записей.\n",
        "\n",
        "    -есть пропущенные значения в столбце `Tenure` (какая-то системная ошибка) - ришим, что с ними делать после исследования датасета;\n",
        "    -явные дубликаты не найдены\n",
        "    -ненужные столбцы (RowNumber, CustomerId, Surname) - удалим их."
      ]
    },
    {
      "cell_type": "markdown",
      "metadata": {
        "id": "DWWBozmWlShk"
      },
      "source": [
        "<div class=\"paragraph\"><strong>Признаки</strong></div>\n",
        "<ul>\n",
        "<li><em>RowNumber &mdash;</em> индекс строки в данных</li>\n",
        "<li><em>CustomerId</em> &mdash; уникальный идентификатор клиента</li>\n",
        "<li><em>Surname &mdash;</em> фамилия</li>\n",
        "<li><em>CreditScore &mdash;</em> кредитный рейтинг</li>\n",
        "<li><em>Geography &mdash;</em> страна проживания</li>\n",
        "<li><em>Gender &mdash;</em> пол</li>\n",
        "<li><em>Age &mdash;</em> возраст</li>\n",
        "<li><em>Tenure &mdash;</em> сколько лет человек является клиентом банка</li>\n",
        "<li><em>Balance &mdash;</em> баланс на счёте</li>\n",
        "<li><em>NumOfProducts &mdash;</em> количество продуктов банка, используемых клиентом</li>\n",
        "<li><em>HasCrCard &mdash;</em> наличие кредитной карты</li>\n",
        "<li><em>IsActiveMember &mdash;</em> активность клиента</li>\n",
        "<li><em>EstimatedSalary &mdash;</em> предполагаемая зарплата</li>\n",
        "</ul>\n",
        "\n",
        "<div class=\"paragraph\"><strong>Целевой признак</strong></div>\n",
        "<ul>\n",
        "<li><em>Exited</em> &mdash; факт ухода клиента</li>\n",
        "</ul>"
      ]
    },
    {
      "cell_type": "markdown",
      "metadata": {
        "id": "uD3VmcOmlShl"
      },
      "source": [
        "### Работа с пропусками и удаление столбцов"
      ]
    },
    {
      "cell_type": "code",
      "execution_count": null,
      "metadata": {
        "id": "DBtRMmgGlShl",
        "outputId": "2504f4bf-bc70-4c7a-df04-1140c47b0a3a"
      },
      "outputs": [
        {
          "name": "stdout",
          "output_type": "stream",
          "text": [
            "Пропуски в столце \"Tenure\" составляют 9.09 % от общего количества данных\n"
          ]
        }
      ],
      "source": [
        "print('Пропуски в столце \"Tenure\" составляют', ((df.Tenure.isna().sum() / len(df.Tenure)).round(4) * 100), '% от общего количества данных')"
      ]
    },
    {
      "cell_type": "code",
      "execution_count": null,
      "metadata": {
        "id": "wDqoGTjSlShl",
        "outputId": "3ec4dad9-c379-4ec0-ba8a-cb6cd52d23ab"
      },
      "outputs": [
        {
          "data": {
            "text/html": [
              "<div>\n",
              "<style scoped>\n",
              "    .dataframe tbody tr th:only-of-type {\n",
              "        vertical-align: middle;\n",
              "    }\n",
              "\n",
              "    .dataframe tbody tr th {\n",
              "        vertical-align: top;\n",
              "    }\n",
              "\n",
              "    .dataframe thead th {\n",
              "        text-align: right;\n",
              "    }\n",
              "</style>\n",
              "<table border=\"1\" class=\"dataframe\">\n",
              "  <thead>\n",
              "    <tr style=\"text-align: right;\">\n",
              "      <th></th>\n",
              "      <th>RowNumber</th>\n",
              "      <th>CustomerId</th>\n",
              "      <th>Surname</th>\n",
              "      <th>CreditScore</th>\n",
              "      <th>Geography</th>\n",
              "      <th>Gender</th>\n",
              "      <th>Age</th>\n",
              "      <th>Tenure</th>\n",
              "      <th>Balance</th>\n",
              "      <th>NumOfProducts</th>\n",
              "      <th>HasCrCard</th>\n",
              "      <th>IsActiveMember</th>\n",
              "      <th>EstimatedSalary</th>\n",
              "      <th>Exited</th>\n",
              "    </tr>\n",
              "  </thead>\n",
              "  <tbody>\n",
              "    <tr>\n",
              "      <th>30</th>\n",
              "      <td>31</td>\n",
              "      <td>15589475</td>\n",
              "      <td>Azikiwe</td>\n",
              "      <td>591</td>\n",
              "      <td>Spain</td>\n",
              "      <td>Female</td>\n",
              "      <td>39</td>\n",
              "      <td>NaN</td>\n",
              "      <td>0.00</td>\n",
              "      <td>3</td>\n",
              "      <td>1</td>\n",
              "      <td>0</td>\n",
              "      <td>140469.38</td>\n",
              "      <td>1</td>\n",
              "    </tr>\n",
              "    <tr>\n",
              "      <th>48</th>\n",
              "      <td>49</td>\n",
              "      <td>15766205</td>\n",
              "      <td>Yin</td>\n",
              "      <td>550</td>\n",
              "      <td>Germany</td>\n",
              "      <td>Male</td>\n",
              "      <td>38</td>\n",
              "      <td>NaN</td>\n",
              "      <td>103391.38</td>\n",
              "      <td>1</td>\n",
              "      <td>0</td>\n",
              "      <td>1</td>\n",
              "      <td>90878.13</td>\n",
              "      <td>0</td>\n",
              "    </tr>\n",
              "    <tr>\n",
              "      <th>51</th>\n",
              "      <td>52</td>\n",
              "      <td>15768193</td>\n",
              "      <td>Trevisani</td>\n",
              "      <td>585</td>\n",
              "      <td>Germany</td>\n",
              "      <td>Male</td>\n",
              "      <td>36</td>\n",
              "      <td>NaN</td>\n",
              "      <td>146050.97</td>\n",
              "      <td>2</td>\n",
              "      <td>0</td>\n",
              "      <td>0</td>\n",
              "      <td>86424.57</td>\n",
              "      <td>0</td>\n",
              "    </tr>\n",
              "    <tr>\n",
              "      <th>53</th>\n",
              "      <td>54</td>\n",
              "      <td>15702298</td>\n",
              "      <td>Parkhill</td>\n",
              "      <td>655</td>\n",
              "      <td>Germany</td>\n",
              "      <td>Male</td>\n",
              "      <td>41</td>\n",
              "      <td>NaN</td>\n",
              "      <td>125561.97</td>\n",
              "      <td>1</td>\n",
              "      <td>0</td>\n",
              "      <td>0</td>\n",
              "      <td>164040.94</td>\n",
              "      <td>1</td>\n",
              "    </tr>\n",
              "    <tr>\n",
              "      <th>60</th>\n",
              "      <td>61</td>\n",
              "      <td>15651280</td>\n",
              "      <td>Hunter</td>\n",
              "      <td>742</td>\n",
              "      <td>Germany</td>\n",
              "      <td>Male</td>\n",
              "      <td>35</td>\n",
              "      <td>NaN</td>\n",
              "      <td>136857.00</td>\n",
              "      <td>1</td>\n",
              "      <td>0</td>\n",
              "      <td>0</td>\n",
              "      <td>84509.57</td>\n",
              "      <td>0</td>\n",
              "    </tr>\n",
              "    <tr>\n",
              "      <th>...</th>\n",
              "      <td>...</td>\n",
              "      <td>...</td>\n",
              "      <td>...</td>\n",
              "      <td>...</td>\n",
              "      <td>...</td>\n",
              "      <td>...</td>\n",
              "      <td>...</td>\n",
              "      <td>...</td>\n",
              "      <td>...</td>\n",
              "      <td>...</td>\n",
              "      <td>...</td>\n",
              "      <td>...</td>\n",
              "      <td>...</td>\n",
              "      <td>...</td>\n",
              "    </tr>\n",
              "    <tr>\n",
              "      <th>9944</th>\n",
              "      <td>9945</td>\n",
              "      <td>15703923</td>\n",
              "      <td>Cameron</td>\n",
              "      <td>744</td>\n",
              "      <td>Germany</td>\n",
              "      <td>Male</td>\n",
              "      <td>41</td>\n",
              "      <td>NaN</td>\n",
              "      <td>190409.34</td>\n",
              "      <td>2</td>\n",
              "      <td>1</td>\n",
              "      <td>1</td>\n",
              "      <td>138361.48</td>\n",
              "      <td>0</td>\n",
              "    </tr>\n",
              "    <tr>\n",
              "      <th>9956</th>\n",
              "      <td>9957</td>\n",
              "      <td>15707861</td>\n",
              "      <td>Nucci</td>\n",
              "      <td>520</td>\n",
              "      <td>France</td>\n",
              "      <td>Female</td>\n",
              "      <td>46</td>\n",
              "      <td>NaN</td>\n",
              "      <td>85216.61</td>\n",
              "      <td>1</td>\n",
              "      <td>1</td>\n",
              "      <td>0</td>\n",
              "      <td>117369.52</td>\n",
              "      <td>1</td>\n",
              "    </tr>\n",
              "    <tr>\n",
              "      <th>9964</th>\n",
              "      <td>9965</td>\n",
              "      <td>15642785</td>\n",
              "      <td>Douglas</td>\n",
              "      <td>479</td>\n",
              "      <td>France</td>\n",
              "      <td>Male</td>\n",
              "      <td>34</td>\n",
              "      <td>NaN</td>\n",
              "      <td>117593.48</td>\n",
              "      <td>2</td>\n",
              "      <td>0</td>\n",
              "      <td>0</td>\n",
              "      <td>113308.29</td>\n",
              "      <td>0</td>\n",
              "    </tr>\n",
              "    <tr>\n",
              "      <th>9985</th>\n",
              "      <td>9986</td>\n",
              "      <td>15586914</td>\n",
              "      <td>Nepean</td>\n",
              "      <td>659</td>\n",
              "      <td>France</td>\n",
              "      <td>Male</td>\n",
              "      <td>36</td>\n",
              "      <td>NaN</td>\n",
              "      <td>123841.49</td>\n",
              "      <td>2</td>\n",
              "      <td>1</td>\n",
              "      <td>0</td>\n",
              "      <td>96833.00</td>\n",
              "      <td>0</td>\n",
              "    </tr>\n",
              "    <tr>\n",
              "      <th>9999</th>\n",
              "      <td>10000</td>\n",
              "      <td>15628319</td>\n",
              "      <td>Walker</td>\n",
              "      <td>792</td>\n",
              "      <td>France</td>\n",
              "      <td>Female</td>\n",
              "      <td>28</td>\n",
              "      <td>NaN</td>\n",
              "      <td>130142.79</td>\n",
              "      <td>1</td>\n",
              "      <td>1</td>\n",
              "      <td>0</td>\n",
              "      <td>38190.78</td>\n",
              "      <td>0</td>\n",
              "    </tr>\n",
              "  </tbody>\n",
              "</table>\n",
              "<p>909 rows × 14 columns</p>\n",
              "</div>"
            ],
            "text/plain": [
              "      RowNumber  CustomerId    Surname  CreditScore Geography  Gender  Age  \\\n",
              "30           31    15589475    Azikiwe          591     Spain  Female   39   \n",
              "48           49    15766205        Yin          550   Germany    Male   38   \n",
              "51           52    15768193  Trevisani          585   Germany    Male   36   \n",
              "53           54    15702298   Parkhill          655   Germany    Male   41   \n",
              "60           61    15651280     Hunter          742   Germany    Male   35   \n",
              "...         ...         ...        ...          ...       ...     ...  ...   \n",
              "9944       9945    15703923    Cameron          744   Germany    Male   41   \n",
              "9956       9957    15707861      Nucci          520    France  Female   46   \n",
              "9964       9965    15642785    Douglas          479    France    Male   34   \n",
              "9985       9986    15586914     Nepean          659    France    Male   36   \n",
              "9999      10000    15628319     Walker          792    France  Female   28   \n",
              "\n",
              "      Tenure    Balance  NumOfProducts  HasCrCard  IsActiveMember  \\\n",
              "30       NaN       0.00              3          1               0   \n",
              "48       NaN  103391.38              1          0               1   \n",
              "51       NaN  146050.97              2          0               0   \n",
              "53       NaN  125561.97              1          0               0   \n",
              "60       NaN  136857.00              1          0               0   \n",
              "...      ...        ...            ...        ...             ...   \n",
              "9944     NaN  190409.34              2          1               1   \n",
              "9956     NaN   85216.61              1          1               0   \n",
              "9964     NaN  117593.48              2          0               0   \n",
              "9985     NaN  123841.49              2          1               0   \n",
              "9999     NaN  130142.79              1          1               0   \n",
              "\n",
              "      EstimatedSalary  Exited  \n",
              "30          140469.38       1  \n",
              "48           90878.13       0  \n",
              "51           86424.57       0  \n",
              "53          164040.94       1  \n",
              "60           84509.57       0  \n",
              "...               ...     ...  \n",
              "9944        138361.48       0  \n",
              "9956        117369.52       1  \n",
              "9964        113308.29       0  \n",
              "9985         96833.00       0  \n",
              "9999         38190.78       0  \n",
              "\n",
              "[909 rows x 14 columns]"
            ]
          },
          "execution_count": 7,
          "metadata": {},
          "output_type": "execute_result"
        }
      ],
      "source": [
        "df.query('Tenure.isna() == True')"
      ]
    },
    {
      "cell_type": "markdown",
      "metadata": {
        "id": "xV250u-nlShl"
      },
      "source": [
        "Посмотрим на матрицу корреляции Пирсона, возможно пропуски можно заменить по другим столбцам."
      ]
    },
    {
      "cell_type": "code",
      "execution_count": null,
      "metadata": {
        "id": "4nl1fTVIlShl",
        "outputId": "9f0a5a83-5ed7-49fd-da13-c80d2c0e6b02"
      },
      "outputs": [
        {
          "data": {
            "image/png": "[encoded data removed]",
            "text/plain": [
              "<Figure size 1080x576 with 2 Axes>"
            ]
          },
          "metadata": {
            "needs_background": "light"
          },
          "output_type": "display_data"
        }
      ],
      "source": [
        "plt.figure(figsize = (15,8))\n",
        "corr = df.corr()\n",
        "sns.heatmap(corr,\n",
        "            xticklabels=corr.columns.values,\n",
        "            yticklabels=corr.columns.values,\n",
        "            annot=True\n",
        "            )\n",
        "plt.title('Матрица корреляции признаков')\n",
        "plt.show()"
      ]
    },
    {
      "cell_type": "markdown",
      "metadata": {
        "id": "kh6foTbxlShm"
      },
      "source": [
        "Корреляция с другими столбцами слабая. Мультиколлинеарность не обнаружена."
      ]
    },
    {
      "cell_type": "markdown",
      "metadata": {
        "id": "WCFJ1yCDlShm"
      },
      "source": [
        "Посмотрим на уникальные значения в столбце `Tenure`"
      ]
    },
    {
      "cell_type": "code",
      "execution_count": null,
      "metadata": {
        "id": "gSM9SHkUlShm",
        "outputId": "e798e4e9-d2cd-4657-bdce-2cba10dee902"
      },
      "outputs": [
        {
          "data": {
            "text/plain": [
              "array([ 0.,  1.,  2.,  3.,  4.,  5.,  6.,  7.,  8.,  9., 10., nan])"
            ]
          },
          "execution_count": 9,
          "metadata": {},
          "output_type": "execute_result"
        }
      ],
      "source": [
        "df['Tenure'].sort_values().unique()"
      ]
    },
    {
      "cell_type": "code",
      "execution_count": null,
      "metadata": {
        "id": "upyf6eQWlShm",
        "outputId": "bba97311-e5d5-4287-c64b-dfe9eda5a865"
      },
      "outputs": [
        {
          "data": {
            "text/plain": [
              "0    7963\n",
              "1    2037\n",
              "Name: Exited, dtype: int64"
            ]
          },
          "execution_count": 10,
          "metadata": {},
          "output_type": "execute_result"
        }
      ],
      "source": [
        "df['Exited'].value_counts()"
      ]
    },
    {
      "cell_type": "code",
      "execution_count": null,
      "metadata": {
        "id": "IAvm4usflShm",
        "outputId": "25fda075-d792-4af2-eaca-6ffa790b1f74"
      },
      "outputs": [
        {
          "data": {
            "image/png": "[encoded data removed]",
            "text/plain": [
              "<Figure size 432x288 with 1 Axes>"
            ]
          },
          "metadata": {
            "needs_background": "light"
          },
          "output_type": "display_data"
        }
      ],
      "source": [
        "df['Exited'].plot(kind ='hist', bins=2)\n",
        "plt.title('Распределение классов целевого признака')\n",
        "plt.show()"
      ]
    },
    {
      "cell_type": "code",
      "execution_count": null,
      "metadata": {
        "id": "78VVngBalShn",
        "outputId": "88a4e0f4-a392-4122-c194-078e464a435f"
      },
      "outputs": [
        {
          "data": {
            "text/html": [
              "<div>\n",
              "<style scoped>\n",
              "    .dataframe tbody tr th:only-of-type {\n",
              "        vertical-align: middle;\n",
              "    }\n",
              "\n",
              "    .dataframe tbody tr th {\n",
              "        vertical-align: top;\n",
              "    }\n",
              "\n",
              "    .dataframe thead th {\n",
              "        text-align: right;\n",
              "    }\n",
              "</style>\n",
              "<table border=\"1\" class=\"dataframe\">\n",
              "  <thead>\n",
              "    <tr style=\"text-align: right;\">\n",
              "      <th></th>\n",
              "      <th>CustomerId</th>\n",
              "    </tr>\n",
              "    <tr>\n",
              "      <th>Exited</th>\n",
              "      <th></th>\n",
              "    </tr>\n",
              "  </thead>\n",
              "  <tbody>\n",
              "    <tr>\n",
              "      <th>0</th>\n",
              "      <td>726</td>\n",
              "    </tr>\n",
              "    <tr>\n",
              "      <th>1</th>\n",
              "      <td>183</td>\n",
              "    </tr>\n",
              "  </tbody>\n",
              "</table>\n",
              "</div>"
            ],
            "text/plain": [
              "        CustomerId\n",
              "Exited            \n",
              "0              726\n",
              "1              183"
            ]
          },
          "execution_count": 12,
          "metadata": {},
          "output_type": "execute_result"
        }
      ],
      "source": [
        "exited_nan = df.query('Tenure.isna() == True').groupby(['Exited']).agg({'CustomerId':'count'})\n",
        "exited_nan"
      ]
    },
    {
      "cell_type": "markdown",
      "metadata": {
        "id": "wHpgT1eNlShn"
      },
      "source": [
        "Пропусков в данных всего 9%, распределены пропуски по отношению к целевому признаку примерно также, как и во всем датасете.\n",
        "Удалим пропуски."
      ]
    },
    {
      "cell_type": "code",
      "execution_count": null,
      "metadata": {
        "id": "a0aCPqutlShn",
        "outputId": "1a003682-1f38-4ab8-80a7-b013c587d10f"
      },
      "outputs": [
        {
          "data": {
            "text/plain": [
              "0"
            ]
          },
          "execution_count": 13,
          "metadata": {},
          "output_type": "execute_result"
        }
      ],
      "source": [
        "df = df.dropna(subset=['Tenure'])\n",
        "df['Tenure'].isna().sum()"
      ]
    },
    {
      "cell_type": "code",
      "execution_count": null,
      "metadata": {
        "id": "_FIRpEm3lShn",
        "outputId": "c4e96226-5959-4348-fe75-1177bdb900ae"
      },
      "outputs": [
        {
          "data": {
            "text/plain": [
              "(9091, 14)"
            ]
          },
          "execution_count": 14,
          "metadata": {},
          "output_type": "execute_result"
        }
      ],
      "source": [
        "df.shape"
      ]
    },
    {
      "cell_type": "markdown",
      "metadata": {
        "id": "N5QEHHpElSho"
      },
      "source": [
        "Удалим ненужные столбцы"
      ]
    },
    {
      "cell_type": "code",
      "execution_count": null,
      "metadata": {
        "id": "zTNsfyADlSho",
        "outputId": "20e6d08b-21bc-4209-9551-3ae5427bd4a1"
      },
      "outputs": [
        {
          "name": "stdout",
          "output_type": "stream",
          "text": [
            "<class 'pandas.core.frame.DataFrame'>\n",
            "Int64Index: 9091 entries, 0 to 9998\n",
            "Data columns (total 11 columns):\n",
            " #   Column           Non-Null Count  Dtype  \n",
            "---  ------           --------------  -----  \n",
            " 0   CreditScore      9091 non-null   int64  \n",
            " 1   Geography        9091 non-null   object \n",
            " 2   Gender           9091 non-null   object \n",
            " 3   Age              9091 non-null   int64  \n",
            " 4   Tenure           9091 non-null   float64\n",
            " 5   Balance          9091 non-null   float64\n",
            " 6   NumOfProducts    9091 non-null   int64  \n",
            " 7   HasCrCard        9091 non-null   int64  \n",
            " 8   IsActiveMember   9091 non-null   int64  \n",
            " 9   EstimatedSalary  9091 non-null   float64\n",
            " 10  Exited           9091 non-null   int64  \n",
            "dtypes: float64(3), int64(6), object(2)\n",
            "memory usage: 852.3+ KB\n"
          ]
        }
      ],
      "source": [
        "df = df.drop(columns=['RowNumber', 'Surname', 'CustomerId'], axis=1)\n",
        "df.info()"
      ]
    },
    {
      "cell_type": "markdown",
      "metadata": {
        "id": "Lvv5ETg0lSho"
      },
      "source": [
        "### Подготовка данных для машинного обучения"
      ]
    },
    {
      "cell_type": "markdown",
      "metadata": {
        "id": "DoJddTKolSho"
      },
      "source": [
        "Используем метод OHE (drop_first=True позволит не попасть в дамми-ловушку)"
      ]
    },
    {
      "cell_type": "markdown",
      "metadata": {
        "id": "BZkQmxS8lSht"
      },
      "source": [
        "Разделим данные на обучающую, валидационную и тестовую выборки в соотношении 3:1:1"
      ]
    },
    {
      "cell_type": "code",
      "execution_count": null,
      "metadata": {
        "id": "xKwnW4tIlSht",
        "outputId": "57df710a-aad8-4c46-8e16-b1d5b4da2375"
      },
      "outputs": [
        {
          "name": "stdout",
          "output_type": "stream",
          "text": [
            "Размер обучающей выборки: (5454, 10)\n",
            "Размер валидационной выборки: (1818, 10)\n",
            "Размер тестовой выборки: (1819, 10)\n"
          ]
        }
      ],
      "source": [
        "target = df['Exited']\n",
        "features = df.drop('Exited', axis=1)\n",
        "features_train, features_test, target_train, target_test = train_test_split(features, target,\n",
        "                                                                            test_size=0.4,\n",
        "                                                                            random_state=12345,\n",
        "                                                                            stratify=target)\n",
        "\n",
        "features_valid, features_test, target_valid, target_test = train_test_split(features_test,\n",
        "                                                                            target_test,\n",
        "                                                                            test_size=0.5,\n",
        "                                                                            random_state=12345,\n",
        "                                                                            stratify=target_test)\n",
        "\n",
        "print('Размер обучающей выборки:', features_train.shape)\n",
        "print('Размер валидационной выборки:', features_valid.shape)\n",
        "print('Размер тестовой выборки:', features_test.shape)"
      ]
    },
    {
      "cell_type": "markdown",
      "metadata": {
        "id": "LhHH3_bClSht"
      },
      "source": [
        "Воспользуемся OHE кодированием категориальных признаков"
      ]
    },
    {
      "cell_type": "code",
      "execution_count": null,
      "metadata": {
        "id": "6sK61RKClSht",
        "outputId": "2d4d3b3a-c93a-40ac-9c79-d53ac0dfd98c"
      },
      "outputs": [
        {
          "name": "stdout",
          "output_type": "stream",
          "text": [
            "['Geography', 'Gender']\n"
          ]
        }
      ],
      "source": [
        "ohe_features = features_train.select_dtypes(include='object').columns.to_list() # создадим список признаков\n",
        "print(ohe_features)"
      ]
    },
    {
      "cell_type": "code",
      "execution_count": null,
      "metadata": {
        "id": "e_Wvd6vPlShu",
        "outputId": "f42a4f7d-3c72-4326-d342-c8ba25f6cd3f"
      },
      "outputs": [
        {
          "data": {
            "text/html": [
              "<style>#sk-container-id-1 {color: black;background-color: white;}#sk-container-id-1 pre{padding: 0;}#sk-container-id-1 div.sk-toggleable {background-color: white;}#sk-container-id-1 label.sk-toggleable__label {cursor: pointer;display: block;width: 100%;margin-bottom: 0;padding: 0.3em;box-sizing: border-box;text-align: center;}#sk-container-id-1 label.sk-toggleable__label-arrow:before {content: \"▸\";float: left;margin-right: 0.25em;color: #696969;}#sk-container-id-1 label.sk-toggleable__label-arrow:hover:before {color: black;}#sk-container-id-1 div.sk-estimator:hover label.sk-toggleable__label-arrow:before {color: black;}#sk-container-id-1 div.sk-toggleable__content {max-height: 0;max-width: 0;overflow: hidden;text-align: left;background-color: #f0f8ff;}#sk-container-id-1 div.sk-toggleable__content pre {margin: 0.2em;color: black;border-radius: 0.25em;background-color: #f0f8ff;}#sk-container-id-1 input.sk-toggleable__control:checked~div.sk-toggleable__content {max-height: 200px;max-width: 100%;overflow: auto;}#sk-container-id-1 input.sk-toggleable__control:checked~label.sk-toggleable__label-arrow:before {content: \"▾\";}#sk-container-id-1 div.sk-estimator input.sk-toggleable__control:checked~label.sk-toggleable__label {background-color: #d4ebff;}#sk-container-id-1 div.sk-label input.sk-toggleable__control:checked~label.sk-toggleable__label {background-color: #d4ebff;}#sk-container-id-1 input.sk-hidden--visually {border: 0;clip: rect(1px 1px 1px 1px);clip: rect(1px, 1px, 1px, 1px);height: 1px;margin: -1px;overflow: hidden;padding: 0;position: absolute;width: 1px;}#sk-container-id-1 div.sk-estimator {font-family: monospace;background-color: #f0f8ff;border: 1px dotted black;border-radius: 0.25em;box-sizing: border-box;margin-bottom: 0.5em;}#sk-container-id-1 div.sk-estimator:hover {background-color: #d4ebff;}#sk-container-id-1 div.sk-parallel-item::after {content: \"\";width: 100%;border-bottom: 1px solid gray;flex-grow: 1;}#sk-container-id-1 div.sk-label:hover label.sk-toggleable__label {background-color: #d4ebff;}#sk-container-id-1 div.sk-serial::before {content: \"\";position: absolute;border-left: 1px solid gray;box-sizing: border-box;top: 0;bottom: 0;left: 50%;z-index: 0;}#sk-container-id-1 div.sk-serial {display: flex;flex-direction: column;align-items: center;background-color: white;padding-right: 0.2em;padding-left: 0.2em;position: relative;}#sk-container-id-1 div.sk-item {position: relative;z-index: 1;}#sk-container-id-1 div.sk-parallel {display: flex;align-items: stretch;justify-content: center;background-color: white;position: relative;}#sk-container-id-1 div.sk-item::before, #sk-container-id-1 div.sk-parallel-item::before {content: \"\";position: absolute;border-left: 1px solid gray;box-sizing: border-box;top: 0;bottom: 0;left: 50%;z-index: -1;}#sk-container-id-1 div.sk-parallel-item {display: flex;flex-direction: column;z-index: 1;position: relative;background-color: white;}#sk-container-id-1 div.sk-parallel-item:first-child::after {align-self: flex-end;width: 50%;}#sk-container-id-1 div.sk-parallel-item:last-child::after {align-self: flex-start;width: 50%;}#sk-container-id-1 div.sk-parallel-item:only-child::after {width: 0;}#sk-container-id-1 div.sk-dashed-wrapped {border: 1px dashed gray;margin: 0 0.4em 0.5em 0.4em;box-sizing: border-box;padding-bottom: 0.4em;background-color: white;}#sk-container-id-1 div.sk-label label {font-family: monospace;font-weight: bold;display: inline-block;line-height: 1.2em;}#sk-container-id-1 div.sk-label-container {text-align: center;}#sk-container-id-1 div.sk-container {/* jupyter's `normalize.less` sets `[hidden] { display: none; }` but bootstrap.min.css set `[hidden] { display: none !important; }` so we also need the `!important` here to be able to override the default hidden behavior on the sphinx rendered scikit-learn.org. See: https://github.com/scikit-learn/scikit-learn/issues/21755 */display: inline-block !important;position: relative;}#sk-container-id-1 div.sk-text-repr-fallback {display: none;}</style><div id=\"sk-container-id-1\" class=\"sk-top-container\"><div class=\"sk-text-repr-fallback\"><pre>OneHotEncoder(drop=&#x27;first&#x27;, handle_unknown=&#x27;ignore&#x27;, sparse=False)</pre><b>In a Jupyter environment, please rerun this cell to show the HTML representation or trust the notebook. <br />On GitHub, the HTML representation is unable to render, please try loading this page with nbviewer.org.</b></div><div class=\"sk-container\" hidden><div class=\"sk-item\"><div class=\"sk-estimator sk-toggleable\"><input class=\"sk-toggleable__control sk-hidden--visually\" id=\"sk-estimator-id-1\" type=\"checkbox\" checked><label for=\"sk-estimator-id-1\" class=\"sk-toggleable__label sk-toggleable__label-arrow\">OneHotEncoder</label><div class=\"sk-toggleable__content\"><pre>OneHotEncoder(drop=&#x27;first&#x27;, handle_unknown=&#x27;ignore&#x27;, sparse=False)</pre></div></div></div></div></div>"
            ],
            "text/plain": [
              "OneHotEncoder(drop='first', handle_unknown='ignore', sparse=False)"
            ]
          },
          "execution_count": 20,
          "metadata": {},
          "output_type": "execute_result"
        }
      ],
      "source": [
        "encoder_ohe = OneHotEncoder(drop='first', handle_unknown='ignore', sparse=False)\n",
        "encoder_ohe.fit(features_train[ohe_features])"
      ]
    },
    {
      "cell_type": "code",
      "execution_count": null,
      "metadata": {
        "id": "FpqwNGjzlShu"
      },
      "outputs": [],
      "source": [
        "features_train[\n",
        "    encoder_ohe.get_feature_names_out()\n",
        "] = encoder_ohe.transform(features_train[ohe_features])"
      ]
    },
    {
      "cell_type": "code",
      "execution_count": null,
      "metadata": {
        "id": "IZNgO_r-lShu"
      },
      "outputs": [],
      "source": [
        "features_train = features_train.drop(ohe_features, axis=1)"
      ]
    },
    {
      "cell_type": "code",
      "execution_count": null,
      "metadata": {
        "id": "LDpGSbEVlShu",
        "outputId": "2c609646-39a4-4f28-bd25-ae26f5d35153"
      },
      "outputs": [
        {
          "data": {
            "text/html": [
              "<div>\n",
              "<style scoped>\n",
              "    .dataframe tbody tr th:only-of-type {\n",
              "        vertical-align: middle;\n",
              "    }\n",
              "\n",
              "    .dataframe tbody tr th {\n",
              "        vertical-align: top;\n",
              "    }\n",
              "\n",
              "    .dataframe thead th {\n",
              "        text-align: right;\n",
              "    }\n",
              "</style>\n",
              "<table border=\"1\" class=\"dataframe\">\n",
              "  <thead>\n",
              "    <tr style=\"text-align: right;\">\n",
              "      <th></th>\n",
              "      <th>CreditScore</th>\n",
              "      <th>Age</th>\n",
              "      <th>Tenure</th>\n",
              "      <th>Balance</th>\n",
              "      <th>NumOfProducts</th>\n",
              "      <th>HasCrCard</th>\n",
              "      <th>IsActiveMember</th>\n",
              "      <th>EstimatedSalary</th>\n",
              "      <th>Geography_Germany</th>\n",
              "      <th>Geography_Spain</th>\n",
              "      <th>Gender_Male</th>\n",
              "    </tr>\n",
              "  </thead>\n",
              "  <tbody>\n",
              "    <tr>\n",
              "      <th>9723</th>\n",
              "      <td>526</td>\n",
              "      <td>32</td>\n",
              "      <td>7.0</td>\n",
              "      <td>125540.05</td>\n",
              "      <td>1</td>\n",
              "      <td>0</td>\n",
              "      <td>0</td>\n",
              "      <td>86786.41</td>\n",
              "      <td>0.0</td>\n",
              "      <td>0.0</td>\n",
              "      <td>1.0</td>\n",
              "    </tr>\n",
              "    <tr>\n",
              "      <th>1224</th>\n",
              "      <td>500</td>\n",
              "      <td>47</td>\n",
              "      <td>8.0</td>\n",
              "      <td>128486.11</td>\n",
              "      <td>1</td>\n",
              "      <td>1</td>\n",
              "      <td>0</td>\n",
              "      <td>179227.12</td>\n",
              "      <td>0.0</td>\n",
              "      <td>1.0</td>\n",
              "      <td>0.0</td>\n",
              "    </tr>\n",
              "    <tr>\n",
              "      <th>8377</th>\n",
              "      <td>802</td>\n",
              "      <td>40</td>\n",
              "      <td>4.0</td>\n",
              "      <td>0.00</td>\n",
              "      <td>2</td>\n",
              "      <td>1</td>\n",
              "      <td>1</td>\n",
              "      <td>81908.09</td>\n",
              "      <td>0.0</td>\n",
              "      <td>1.0</td>\n",
              "      <td>1.0</td>\n",
              "    </tr>\n",
              "    <tr>\n",
              "      <th>8014</th>\n",
              "      <td>731</td>\n",
              "      <td>39</td>\n",
              "      <td>2.0</td>\n",
              "      <td>126816.18</td>\n",
              "      <td>1</td>\n",
              "      <td>1</td>\n",
              "      <td>1</td>\n",
              "      <td>74850.93</td>\n",
              "      <td>0.0</td>\n",
              "      <td>1.0</td>\n",
              "      <td>0.0</td>\n",
              "    </tr>\n",
              "    <tr>\n",
              "      <th>2491</th>\n",
              "      <td>612</td>\n",
              "      <td>26</td>\n",
              "      <td>4.0</td>\n",
              "      <td>0.00</td>\n",
              "      <td>2</td>\n",
              "      <td>1</td>\n",
              "      <td>1</td>\n",
              "      <td>179780.74</td>\n",
              "      <td>0.0</td>\n",
              "      <td>1.0</td>\n",
              "      <td>0.0</td>\n",
              "    </tr>\n",
              "  </tbody>\n",
              "</table>\n",
              "</div>"
            ],
            "text/plain": [
              "      CreditScore  Age  Tenure    Balance  NumOfProducts  HasCrCard  \\\n",
              "9723          526   32     7.0  125540.05              1          0   \n",
              "1224          500   47     8.0  128486.11              1          1   \n",
              "8377          802   40     4.0       0.00              2          1   \n",
              "8014          731   39     2.0  126816.18              1          1   \n",
              "2491          612   26     4.0       0.00              2          1   \n",
              "\n",
              "      IsActiveMember  EstimatedSalary  Geography_Germany  Geography_Spain  \\\n",
              "9723               0         86786.41                0.0              0.0   \n",
              "1224               0        179227.12                0.0              1.0   \n",
              "8377               1         81908.09                0.0              1.0   \n",
              "8014               1         74850.93                0.0              1.0   \n",
              "2491               1        179780.74                0.0              1.0   \n",
              "\n",
              "      Gender_Male  \n",
              "9723          1.0  \n",
              "1224          0.0  \n",
              "8377          1.0  \n",
              "8014          0.0  \n",
              "2491          0.0  "
            ]
          },
          "execution_count": 24,
          "metadata": {},
          "output_type": "execute_result"
        }
      ],
      "source": [
        "features_train.head(5)"
      ]
    },
    {
      "cell_type": "markdown",
      "metadata": {
        "id": "8hAd1QIRlShu"
      },
      "source": [
        "Трансформируем валидационную выборку"
      ]
    },
    {
      "cell_type": "code",
      "execution_count": null,
      "metadata": {
        "id": "mYs3LPkZlShu",
        "outputId": "4c6ee17d-d293-4ef2-ce1d-46efa5ce9397"
      },
      "outputs": [
        {
          "data": {
            "text/html": [
              "<div>\n",
              "<style scoped>\n",
              "    .dataframe tbody tr th:only-of-type {\n",
              "        vertical-align: middle;\n",
              "    }\n",
              "\n",
              "    .dataframe tbody tr th {\n",
              "        vertical-align: top;\n",
              "    }\n",
              "\n",
              "    .dataframe thead th {\n",
              "        text-align: right;\n",
              "    }\n",
              "</style>\n",
              "<table border=\"1\" class=\"dataframe\">\n",
              "  <thead>\n",
              "    <tr style=\"text-align: right;\">\n",
              "      <th></th>\n",
              "      <th>CreditScore</th>\n",
              "      <th>Age</th>\n",
              "      <th>Tenure</th>\n",
              "      <th>Balance</th>\n",
              "      <th>NumOfProducts</th>\n",
              "      <th>HasCrCard</th>\n",
              "      <th>IsActiveMember</th>\n",
              "      <th>EstimatedSalary</th>\n",
              "      <th>Geography_Germany</th>\n",
              "      <th>Geography_Spain</th>\n",
              "      <th>Gender_Male</th>\n",
              "    </tr>\n",
              "  </thead>\n",
              "  <tbody>\n",
              "    <tr>\n",
              "      <th>7493</th>\n",
              "      <td>610</td>\n",
              "      <td>37</td>\n",
              "      <td>10.0</td>\n",
              "      <td>140363.95</td>\n",
              "      <td>2</td>\n",
              "      <td>1</td>\n",
              "      <td>1</td>\n",
              "      <td>129563.86</td>\n",
              "      <td>0.0</td>\n",
              "      <td>1.0</td>\n",
              "      <td>0.0</td>\n",
              "    </tr>\n",
              "    <tr>\n",
              "      <th>5460</th>\n",
              "      <td>661</td>\n",
              "      <td>41</td>\n",
              "      <td>5.0</td>\n",
              "      <td>122552.48</td>\n",
              "      <td>2</td>\n",
              "      <td>0</td>\n",
              "      <td>1</td>\n",
              "      <td>120646.40</td>\n",
              "      <td>1.0</td>\n",
              "      <td>0.0</td>\n",
              "      <td>1.0</td>\n",
              "    </tr>\n",
              "    <tr>\n",
              "      <th>9126</th>\n",
              "      <td>753</td>\n",
              "      <td>51</td>\n",
              "      <td>4.0</td>\n",
              "      <td>79811.72</td>\n",
              "      <td>2</td>\n",
              "      <td>0</td>\n",
              "      <td>1</td>\n",
              "      <td>68260.27</td>\n",
              "      <td>0.0</td>\n",
              "      <td>1.0</td>\n",
              "      <td>1.0</td>\n",
              "    </tr>\n",
              "    <tr>\n",
              "      <th>9801</th>\n",
              "      <td>569</td>\n",
              "      <td>30</td>\n",
              "      <td>3.0</td>\n",
              "      <td>139528.23</td>\n",
              "      <td>1</td>\n",
              "      <td>1</td>\n",
              "      <td>1</td>\n",
              "      <td>33230.37</td>\n",
              "      <td>0.0</td>\n",
              "      <td>1.0</td>\n",
              "      <td>0.0</td>\n",
              "    </tr>\n",
              "    <tr>\n",
              "      <th>9101</th>\n",
              "      <td>597</td>\n",
              "      <td>38</td>\n",
              "      <td>6.0</td>\n",
              "      <td>115702.67</td>\n",
              "      <td>2</td>\n",
              "      <td>1</td>\n",
              "      <td>1</td>\n",
              "      <td>25059.05</td>\n",
              "      <td>0.0</td>\n",
              "      <td>1.0</td>\n",
              "      <td>1.0</td>\n",
              "    </tr>\n",
              "  </tbody>\n",
              "</table>\n",
              "</div>"
            ],
            "text/plain": [
              "      CreditScore  Age  Tenure    Balance  NumOfProducts  HasCrCard  \\\n",
              "7493          610   37    10.0  140363.95              2          1   \n",
              "5460          661   41     5.0  122552.48              2          0   \n",
              "9126          753   51     4.0   79811.72              2          0   \n",
              "9801          569   30     3.0  139528.23              1          1   \n",
              "9101          597   38     6.0  115702.67              2          1   \n",
              "\n",
              "      IsActiveMember  EstimatedSalary  Geography_Germany  Geography_Spain  \\\n",
              "7493               1        129563.86                0.0              1.0   \n",
              "5460               1        120646.40                1.0              0.0   \n",
              "9126               1         68260.27                0.0              1.0   \n",
              "9801               1         33230.37                0.0              1.0   \n",
              "9101               1         25059.05                0.0              1.0   \n",
              "\n",
              "      Gender_Male  \n",
              "7493          0.0  \n",
              "5460          1.0  \n",
              "9126          1.0  \n",
              "9801          0.0  \n",
              "9101          1.0  "
            ]
          },
          "execution_count": 25,
          "metadata": {},
          "output_type": "execute_result"
        }
      ],
      "source": [
        "features_valid[\n",
        "    encoder_ohe.get_feature_names_out()\n",
        "] = encoder_ohe.transform(features_valid[ohe_features])\n",
        "\n",
        "features_valid = features_valid.drop(ohe_features, axis=1)\n",
        "features_valid.head()"
      ]
    },
    {
      "cell_type": "markdown",
      "metadata": {
        "id": "bFICmOnWlShv"
      },
      "source": [
        "Трансформируем тестовую выборку"
      ]
    },
    {
      "cell_type": "code",
      "execution_count": null,
      "metadata": {
        "id": "FDiRVP7wlShv",
        "outputId": "b206df35-7586-4414-9159-4fe889cc2b4d"
      },
      "outputs": [
        {
          "data": {
            "text/html": [
              "<div>\n",
              "<style scoped>\n",
              "    .dataframe tbody tr th:only-of-type {\n",
              "        vertical-align: middle;\n",
              "    }\n",
              "\n",
              "    .dataframe tbody tr th {\n",
              "        vertical-align: top;\n",
              "    }\n",
              "\n",
              "    .dataframe thead th {\n",
              "        text-align: right;\n",
              "    }\n",
              "</style>\n",
              "<table border=\"1\" class=\"dataframe\">\n",
              "  <thead>\n",
              "    <tr style=\"text-align: right;\">\n",
              "      <th></th>\n",
              "      <th>CreditScore</th>\n",
              "      <th>Age</th>\n",
              "      <th>Tenure</th>\n",
              "      <th>Balance</th>\n",
              "      <th>NumOfProducts</th>\n",
              "      <th>HasCrCard</th>\n",
              "      <th>IsActiveMember</th>\n",
              "      <th>EstimatedSalary</th>\n",
              "      <th>Geography_Germany</th>\n",
              "      <th>Geography_Spain</th>\n",
              "      <th>Gender_Male</th>\n",
              "    </tr>\n",
              "  </thead>\n",
              "  <tbody>\n",
              "    <tr>\n",
              "      <th>4126</th>\n",
              "      <td>675</td>\n",
              "      <td>32</td>\n",
              "      <td>10.0</td>\n",
              "      <td>0.00</td>\n",
              "      <td>2</td>\n",
              "      <td>1</td>\n",
              "      <td>0</td>\n",
              "      <td>191545.65</td>\n",
              "      <td>0.0</td>\n",
              "      <td>1.0</td>\n",
              "      <td>1.0</td>\n",
              "    </tr>\n",
              "    <tr>\n",
              "      <th>5145</th>\n",
              "      <td>784</td>\n",
              "      <td>38</td>\n",
              "      <td>1.0</td>\n",
              "      <td>138515.02</td>\n",
              "      <td>1</td>\n",
              "      <td>1</td>\n",
              "      <td>1</td>\n",
              "      <td>171768.76</td>\n",
              "      <td>1.0</td>\n",
              "      <td>0.0</td>\n",
              "      <td>1.0</td>\n",
              "    </tr>\n",
              "    <tr>\n",
              "      <th>9253</th>\n",
              "      <td>644</td>\n",
              "      <td>49</td>\n",
              "      <td>10.0</td>\n",
              "      <td>0.00</td>\n",
              "      <td>2</td>\n",
              "      <td>1</td>\n",
              "      <td>1</td>\n",
              "      <td>145089.64</td>\n",
              "      <td>0.0</td>\n",
              "      <td>1.0</td>\n",
              "      <td>1.0</td>\n",
              "    </tr>\n",
              "    <tr>\n",
              "      <th>6757</th>\n",
              "      <td>717</td>\n",
              "      <td>36</td>\n",
              "      <td>2.0</td>\n",
              "      <td>102989.83</td>\n",
              "      <td>2</td>\n",
              "      <td>0</td>\n",
              "      <td>1</td>\n",
              "      <td>49185.57</td>\n",
              "      <td>0.0</td>\n",
              "      <td>1.0</td>\n",
              "      <td>1.0</td>\n",
              "    </tr>\n",
              "    <tr>\n",
              "      <th>9739</th>\n",
              "      <td>677</td>\n",
              "      <td>25</td>\n",
              "      <td>3.0</td>\n",
              "      <td>0.00</td>\n",
              "      <td>2</td>\n",
              "      <td>1</td>\n",
              "      <td>0</td>\n",
              "      <td>179608.96</td>\n",
              "      <td>0.0</td>\n",
              "      <td>0.0</td>\n",
              "      <td>0.0</td>\n",
              "    </tr>\n",
              "  </tbody>\n",
              "</table>\n",
              "</div>"
            ],
            "text/plain": [
              "      CreditScore  Age  Tenure    Balance  NumOfProducts  HasCrCard  \\\n",
              "4126          675   32    10.0       0.00              2          1   \n",
              "5145          784   38     1.0  138515.02              1          1   \n",
              "9253          644   49    10.0       0.00              2          1   \n",
              "6757          717   36     2.0  102989.83              2          0   \n",
              "9739          677   25     3.0       0.00              2          1   \n",
              "\n",
              "      IsActiveMember  EstimatedSalary  Geography_Germany  Geography_Spain  \\\n",
              "4126               0        191545.65                0.0              1.0   \n",
              "5145               1        171768.76                1.0              0.0   \n",
              "9253               1        145089.64                0.0              1.0   \n",
              "6757               1         49185.57                0.0              1.0   \n",
              "9739               0        179608.96                0.0              0.0   \n",
              "\n",
              "      Gender_Male  \n",
              "4126          1.0  \n",
              "5145          1.0  \n",
              "9253          1.0  \n",
              "6757          1.0  \n",
              "9739          0.0  "
            ]
          },
          "execution_count": 26,
          "metadata": {},
          "output_type": "execute_result"
        }
      ],
      "source": [
        "features_test[\n",
        "    encoder_ohe.get_feature_names_out()\n",
        "] = encoder_ohe.transform(features_test[ohe_features])\n",
        "\n",
        "features_test = features_test.drop(ohe_features, axis=1)\n",
        "features_test.head()"
      ]
    },
    {
      "cell_type": "markdown",
      "metadata": {
        "id": "fCVL9QEVlShv"
      },
      "source": [
        "Масштабируем признаки"
      ]
    },
    {
      "cell_type": "code",
      "execution_count": null,
      "metadata": {
        "id": "KvNaWB5ZlShv",
        "outputId": "de62cca9-f482-4564-8469-59638cdbaab1"
      },
      "outputs": [
        {
          "data": {
            "text/plain": [
              "Index(['CreditScore', 'Geography', 'Gender', 'Age', 'Tenure', 'Balance',\n",
              "       'NumOfProducts', 'HasCrCard', 'IsActiveMember', 'EstimatedSalary',\n",
              "       'Exited'],\n",
              "      dtype='object')"
            ]
          },
          "execution_count": 27,
          "metadata": {},
          "output_type": "execute_result"
        }
      ],
      "source": [
        "df.columns"
      ]
    },
    {
      "cell_type": "code",
      "execution_count": null,
      "metadata": {
        "id": "wfDIYm6OlShv",
        "outputId": "191cac2a-c38d-4a11-ecc7-7fab5d44639b"
      },
      "outputs": [
        {
          "name": "stdout",
          "output_type": "stream",
          "text": [
            "(5454, 11)\n",
            "(1818, 11)\n",
            "(1819, 11)\n"
          ]
        }
      ],
      "source": [
        "numeric = ['CreditScore', 'Age', 'Tenure', 'Balance', 'NumOfProducts', 'EstimatedSalary']\n",
        "\n",
        "scaler = StandardScaler()\n",
        "scaler.fit(features_train[numeric])\n",
        "features_train[numeric] = scaler.transform(features_train[numeric])\n",
        "features_valid[numeric] = scaler.transform(features_valid[numeric])\n",
        "features_test[numeric] = scaler.transform(features_test[numeric])\n",
        "\n",
        "print(features_train.shape)\n",
        "print(features_valid.shape)\n",
        "print(features_test.shape)"
      ]
    },
    {
      "cell_type": "code",
      "execution_count": null,
      "metadata": {
        "id": "j7sjcPNvlShw",
        "outputId": "ac9a83b4-0b15-47b6-c714-5dad460df280"
      },
      "outputs": [
        {
          "data": {
            "text/html": [
              "<div>\n",
              "<style scoped>\n",
              "    .dataframe tbody tr th:only-of-type {\n",
              "        vertical-align: middle;\n",
              "    }\n",
              "\n",
              "    .dataframe tbody tr th {\n",
              "        vertical-align: top;\n",
              "    }\n",
              "\n",
              "    .dataframe thead th {\n",
              "        text-align: right;\n",
              "    }\n",
              "</style>\n",
              "<table border=\"1\" class=\"dataframe\">\n",
              "  <thead>\n",
              "    <tr style=\"text-align: right;\">\n",
              "      <th></th>\n",
              "      <th>CreditScore</th>\n",
              "      <th>Age</th>\n",
              "      <th>Tenure</th>\n",
              "      <th>Balance</th>\n",
              "      <th>NumOfProducts</th>\n",
              "      <th>HasCrCard</th>\n",
              "      <th>IsActiveMember</th>\n",
              "      <th>EstimatedSalary</th>\n",
              "      <th>Geography_Germany</th>\n",
              "      <th>Geography_Spain</th>\n",
              "      <th>Gender_Male</th>\n",
              "    </tr>\n",
              "  </thead>\n",
              "  <tbody>\n",
              "    <tr>\n",
              "      <th>9723</th>\n",
              "      <td>-1.292898</td>\n",
              "      <td>-0.660843</td>\n",
              "      <td>0.686341</td>\n",
              "      <td>0.786636</td>\n",
              "      <td>-0.910943</td>\n",
              "      <td>0</td>\n",
              "      <td>0</td>\n",
              "      <td>-0.223548</td>\n",
              "      <td>0.0</td>\n",
              "      <td>0.0</td>\n",
              "      <td>1.0</td>\n",
              "    </tr>\n",
              "    <tr>\n",
              "      <th>1224</th>\n",
              "      <td>-1.563714</td>\n",
              "      <td>0.778434</td>\n",
              "      <td>1.034232</td>\n",
              "      <td>0.833795</td>\n",
              "      <td>-0.910943</td>\n",
              "      <td>1</td>\n",
              "      <td>0</td>\n",
              "      <td>1.383021</td>\n",
              "      <td>0.0</td>\n",
              "      <td>1.0</td>\n",
              "      <td>0.0</td>\n",
              "    </tr>\n",
              "  </tbody>\n",
              "</table>\n",
              "</div>"
            ],
            "text/plain": [
              "      CreditScore       Age    Tenure   Balance  NumOfProducts  HasCrCard  \\\n",
              "9723    -1.292898 -0.660843  0.686341  0.786636      -0.910943          0   \n",
              "1224    -1.563714  0.778434  1.034232  0.833795      -0.910943          1   \n",
              "\n",
              "      IsActiveMember  EstimatedSalary  Geography_Germany  Geography_Spain  \\\n",
              "9723               0        -0.223548                0.0              0.0   \n",
              "1224               0         1.383021                0.0              1.0   \n",
              "\n",
              "      Gender_Male  \n",
              "9723          1.0  \n",
              "1224          0.0  "
            ]
          },
          "execution_count": 34,
          "metadata": {},
          "output_type": "execute_result"
        }
      ],
      "source": [
        "features_train.head(2)"
      ]
    },
    {
      "cell_type": "code",
      "execution_count": null,
      "metadata": {
        "id": "eo6QP8n1lShw",
        "outputId": "e5f9d61c-4cf3-4bba-fef8-98425563196d"
      },
      "outputs": [
        {
          "data": {
            "text/html": [
              "<div>\n",
              "<style scoped>\n",
              "    .dataframe tbody tr th:only-of-type {\n",
              "        vertical-align: middle;\n",
              "    }\n",
              "\n",
              "    .dataframe tbody tr th {\n",
              "        vertical-align: top;\n",
              "    }\n",
              "\n",
              "    .dataframe thead th {\n",
              "        text-align: right;\n",
              "    }\n",
              "</style>\n",
              "<table border=\"1\" class=\"dataframe\">\n",
              "  <thead>\n",
              "    <tr style=\"text-align: right;\">\n",
              "      <th></th>\n",
              "      <th>CreditScore</th>\n",
              "      <th>Age</th>\n",
              "      <th>Tenure</th>\n",
              "      <th>Balance</th>\n",
              "      <th>NumOfProducts</th>\n",
              "      <th>HasCrCard</th>\n",
              "      <th>IsActiveMember</th>\n",
              "      <th>EstimatedSalary</th>\n",
              "      <th>Geography_Germany</th>\n",
              "      <th>Geography_Spain</th>\n",
              "      <th>Gender_Male</th>\n",
              "    </tr>\n",
              "  </thead>\n",
              "  <tbody>\n",
              "    <tr>\n",
              "      <th>7493</th>\n",
              "      <td>-0.417955</td>\n",
              "      <td>-0.181084</td>\n",
              "      <td>1.730013</td>\n",
              "      <td>1.023931</td>\n",
              "      <td>0.789359</td>\n",
              "      <td>1</td>\n",
              "      <td>1</td>\n",
              "      <td>0.519901</td>\n",
              "      <td>0.0</td>\n",
              "      <td>1.0</td>\n",
              "      <td>0.0</td>\n",
              "    </tr>\n",
              "    <tr>\n",
              "      <th>5460</th>\n",
              "      <td>0.113260</td>\n",
              "      <td>0.202723</td>\n",
              "      <td>-0.009440</td>\n",
              "      <td>0.738812</td>\n",
              "      <td>0.789359</td>\n",
              "      <td>0</td>\n",
              "      <td>1</td>\n",
              "      <td>0.364920</td>\n",
              "      <td>1.0</td>\n",
              "      <td>0.0</td>\n",
              "      <td>1.0</td>\n",
              "    </tr>\n",
              "  </tbody>\n",
              "</table>\n",
              "</div>"
            ],
            "text/plain": [
              "      CreditScore       Age    Tenure   Balance  NumOfProducts  HasCrCard  \\\n",
              "7493    -0.417955 -0.181084  1.730013  1.023931       0.789359          1   \n",
              "5460     0.113260  0.202723 -0.009440  0.738812       0.789359          0   \n",
              "\n",
              "      IsActiveMember  EstimatedSalary  Geography_Germany  Geography_Spain  \\\n",
              "7493               1         0.519901                0.0              1.0   \n",
              "5460               1         0.364920                1.0              0.0   \n",
              "\n",
              "      Gender_Male  \n",
              "7493          0.0  \n",
              "5460          1.0  "
            ]
          },
          "execution_count": 35,
          "metadata": {},
          "output_type": "execute_result"
        }
      ],
      "source": [
        "features_valid.head(2)"
      ]
    },
    {
      "cell_type": "code",
      "execution_count": null,
      "metadata": {
        "id": "JIHJLFjblShw",
        "outputId": "dd3fd8fb-4da1-4ef5-8612-27d982d91573"
      },
      "outputs": [
        {
          "data": {
            "text/html": [
              "<div>\n",
              "<style scoped>\n",
              "    .dataframe tbody tr th:only-of-type {\n",
              "        vertical-align: middle;\n",
              "    }\n",
              "\n",
              "    .dataframe tbody tr th {\n",
              "        vertical-align: top;\n",
              "    }\n",
              "\n",
              "    .dataframe thead th {\n",
              "        text-align: right;\n",
              "    }\n",
              "</style>\n",
              "<table border=\"1\" class=\"dataframe\">\n",
              "  <thead>\n",
              "    <tr style=\"text-align: right;\">\n",
              "      <th></th>\n",
              "      <th>CreditScore</th>\n",
              "      <th>Age</th>\n",
              "      <th>Tenure</th>\n",
              "      <th>Balance</th>\n",
              "      <th>NumOfProducts</th>\n",
              "      <th>HasCrCard</th>\n",
              "      <th>IsActiveMember</th>\n",
              "      <th>EstimatedSalary</th>\n",
              "      <th>Geography_Germany</th>\n",
              "      <th>Geography_Spain</th>\n",
              "      <th>Gender_Male</th>\n",
              "    </tr>\n",
              "  </thead>\n",
              "  <tbody>\n",
              "    <tr>\n",
              "      <th>4126</th>\n",
              "      <td>0.259084</td>\n",
              "      <td>-0.660843</td>\n",
              "      <td>1.730013</td>\n",
              "      <td>-1.222967</td>\n",
              "      <td>0.789359</td>\n",
              "      <td>1</td>\n",
              "      <td>0</td>\n",
              "      <td>1.597110</td>\n",
              "      <td>0.0</td>\n",
              "      <td>1.0</td>\n",
              "      <td>1.0</td>\n",
              "    </tr>\n",
              "    <tr>\n",
              "      <th>5145</th>\n",
              "      <td>1.394426</td>\n",
              "      <td>-0.085132</td>\n",
              "      <td>-1.401003</td>\n",
              "      <td>0.994334</td>\n",
              "      <td>-0.910943</td>\n",
              "      <td>1</td>\n",
              "      <td>1</td>\n",
              "      <td>1.253399</td>\n",
              "      <td>1.0</td>\n",
              "      <td>0.0</td>\n",
              "      <td>1.0</td>\n",
              "    </tr>\n",
              "  </tbody>\n",
              "</table>\n",
              "</div>"
            ],
            "text/plain": [
              "      CreditScore       Age    Tenure   Balance  NumOfProducts  HasCrCard  \\\n",
              "4126     0.259084 -0.660843  1.730013 -1.222967       0.789359          1   \n",
              "5145     1.394426 -0.085132 -1.401003  0.994334      -0.910943          1   \n",
              "\n",
              "      IsActiveMember  EstimatedSalary  Geography_Germany  Geography_Spain  \\\n",
              "4126               0         1.597110                0.0              1.0   \n",
              "5145               1         1.253399                1.0              0.0   \n",
              "\n",
              "      Gender_Male  \n",
              "4126          1.0  \n",
              "5145          1.0  "
            ]
          },
          "execution_count": 36,
          "metadata": {},
          "output_type": "execute_result"
        }
      ],
      "source": [
        "features_test.head(2)"
      ]
    },
    {
      "cell_type": "markdown",
      "metadata": {
        "id": "RfOkjptqlShx"
      },
      "source": [
        "<div class=\"alert alert-info\">В процессе предобработки данные были разделены на 3 части в соотношении 3:1:1\n",
        "<p>Категориальные признаки кодированы с помощью OHE sklearn</p>\n",
        "<p>Произведено масштабирование численных признаков</p>\n",
        "</div>\n",
        "\n"
      ]
    },
    {
      "cell_type": "markdown",
      "metadata": {
        "id": "1f90pcNOlShx"
      },
      "source": [
        "### Обучение модели без учета дисбаланса классов"
      ]
    },
    {
      "cell_type": "markdown",
      "metadata": {
        "id": "0AJEWPoelShx"
      },
      "source": [
        "Дамми классифайр"
      ]
    },
    {
      "cell_type": "code",
      "execution_count": null,
      "metadata": {
        "id": "Bw4HtvqnlShx"
      },
      "outputs": [],
      "source": [
        "#dummy = DummyClassifier(strategy='most_frequent').fit(features_train, target_train)\n",
        "#dummy_pred = dummy.predict(features_valid)\n",
        "#print('Предсказанные метки: ', (np.unique(dummy_pred)))\n",
        "#print('Test score: ', accuracy_score(target_valid, dummy_pred))\n"
      ]
    },
    {
      "cell_type": "code",
      "execution_count": null,
      "metadata": {
        "id": "LbY6ONarlShx",
        "outputId": "418ecd3d-46fd-448e-f13b-a2e87aed5f7d"
      },
      "outputs": [
        {
          "name": "stdout",
          "output_type": "stream",
          "text": [
            "F1 дамми-модели: 0.33881278538812787\n"
          ]
        }
      ],
      "source": [
        "dummy_model = DummyClassifier(strategy='constant', constant=1).fit(features_train, target_train)\n",
        "print('F1 дамми-модели:', f1_score(dummy_model.predict(features_test), target_test))"
      ]
    },
    {
      "cell_type": "markdown",
      "metadata": {
        "id": "SFm3ob05lShy"
      },
      "source": [
        "Логистическая регрессия"
      ]
    },
    {
      "cell_type": "code",
      "execution_count": null,
      "metadata": {
        "id": "ltg4waCjlShy",
        "outputId": "ba615119-7ad3-4609-954e-4ad04cbf0878"
      },
      "outputs": [
        {
          "name": "stdout",
          "output_type": "stream",
          "text": [
            "F1: 0.3306772908366534\n",
            "F1 дамми-модели: 0.33881278538812787\n"
          ]
        }
      ],
      "source": [
        "LR = LogisticRegression(solver = 'liblinear').fit(features_train, target_train)\n",
        "predictions_valid_LR = LR.predict(features_valid)\n",
        "print('F1:', f1_score(target_valid, predictions_valid_LR))\n",
        "print('F1 дамми-модели:', f1_score(dummy_model.predict(features_test), target_test))"
      ]
    },
    {
      "cell_type": "markdown",
      "metadata": {
        "id": "AhxJvW9FlShy"
      },
      "source": [
        "Оценка точности при дисбалансе классов на фиктивной модели практически таккая же, как на модели регрессии. Надо балансировать."
      ]
    },
    {
      "cell_type": "markdown",
      "metadata": {
        "id": "kWpxTNxWlShy"
      },
      "source": [
        "Дерево решений"
      ]
    },
    {
      "cell_type": "code",
      "execution_count": null,
      "metadata": {
        "id": "nR8lUn5GlShz",
        "outputId": "4d74f37e-4669-4d93-e6c2-7d02e4751c44"
      },
      "outputs": [
        {
          "name": "stdout",
          "output_type": "stream",
          "text": [
            "F1 лучшей модели: 0.5815126050420169 DecisionTreeClassifier(max_depth=7, random_state=12345)\n",
            "F1 дамми-модели: 0.33881278538812787\n"
          ]
        }
      ],
      "source": [
        "best_model_dt = None\n",
        "best_result = 0\n",
        "for depth in range(1, 20):\n",
        "    model_dt = DecisionTreeClassifier(random_state=12345, max_depth=depth).fit(features_train, target_train)\n",
        "    predictions_valid_dt = model_dt.predict(features_valid)\n",
        "    result = f1_score(target_valid, predictions_valid_dt)\n",
        "    if result > best_result:\n",
        "        best_model_dt = model_dt\n",
        "        best_result = result\n",
        "print('F1 лучшей модели:', best_result, best_model_dt)\n",
        "print('F1 дамми-модели:', f1_score(dummy_model.predict(features_test), target_test))\n",
        ""
      ]
    },
    {
      "cell_type": "markdown",
      "metadata": {
        "id": "QqYXVc0LlShz"
      },
      "source": [
        "Случайный лес"
      ]
    },
    {
      "cell_type": "code",
      "execution_count": null,
      "metadata": {
        "id": "oc4DqJ5AlShz",
        "outputId": "fe32dd4a-4760-41e7-e0c0-1fdd9da7eb82"
      },
      "outputs": [
        {
          "name": "stderr",
          "output_type": "stream",
          "text": [
            "100%|██████████| 29/29 [06:00<00:00, 12.44s/it]"
          ]
        },
        {
          "name": "stdout",
          "output_type": "stream",
          "text": [
            "F1 лучшей модели: 0.6227347611202636 RandomForestClassifier(max_depth=19, n_estimators=130, random_state=12345)\n",
            "F1 дамми-модели: 0.33881278538812787\n"
          ]
        },
        {
          "name": "stderr",
          "output_type": "stream",
          "text": [
            "\n"
          ]
        }
      ],
      "source": [
        "best_model_RFC = None\n",
        "best_result_RFC = 0\n",
        "for depth in tqdm (range(1, 30)):\n",
        "    for est in range(10, 200, 10):\n",
        "        model_RFC = RandomForestClassifier(random_state=12345,\n",
        "                                           max_depth=depth,\n",
        "                                           n_estimators=est).fit(features_train, target_train)\n",
        "\n",
        "        predictions_valid_RFC = model_RFC.predict(features_valid)\n",
        "        result_RFC = f1_score(target_valid, predictions_valid_RFC)\n",
        "        if result_RFC > best_result_RFC:\n",
        "            best_model_RFC = model_RFC\n",
        "            best_result_RFC = result_RFC\n",
        "\n",
        "print('F1 лучшей модели:', best_result_RFC, best_model_RFC)\n",
        "print('F1 дамми-модели:', f1_score(dummy_model.predict(features_test), target_test))"
      ]
    },
    {
      "cell_type": "markdown",
      "metadata": {
        "id": "zGjPHiRklSh0"
      },
      "source": [
        "При дисблансе классов модели случайно леса и дерева решений показывают лучшую работу, нежели линейная регрессия."
      ]
    },
    {
      "cell_type": "markdown",
      "metadata": {
        "id": "YCPcGGPzlSh0"
      },
      "source": [
        "## Борьба с дисбалансом"
      ]
    },
    {
      "cell_type": "code",
      "execution_count": null,
      "metadata": {
        "id": "81p6sED-lSh0",
        "outputId": "148e8c12-2b44-41b2-9912-199dcd6b10af"
      },
      "outputs": [
        {
          "data": {
            "text/plain": [
              "0    4342\n",
              "1    1112\n",
              "Name: Exited, dtype: int64"
            ]
          },
          "execution_count": 48,
          "metadata": {},
          "output_type": "execute_result"
        }
      ],
      "source": [
        "target_train.value_counts()"
      ]
    },
    {
      "cell_type": "code",
      "execution_count": null,
      "metadata": {
        "id": "wlLth4OOlSh0",
        "outputId": "f3fb7032-4ac6-41b1-e44e-3903921e603e"
      },
      "outputs": [
        {
          "data": {
            "image/png": "[encoded data removed]",
            "text/plain": [
              "<Figure size 432x288 with 1 Axes>"
            ]
          },
          "metadata": {
            "needs_background": "light"
          },
          "output_type": "display_data"
        }
      ],
      "source": [
        "target_train.plot(kind ='hist', bins=2)\n",
        "plt.title('Дисбаланс классов в таргете')\n",
        "plt.show()"
      ]
    },
    {
      "cell_type": "markdown",
      "metadata": {
        "id": "XcTOgm9AlSh0"
      },
      "source": [
        "Ушедших клиентов в 4 раза меньше оставшихся"
      ]
    },
    {
      "cell_type": "markdown",
      "metadata": {
        "id": "dm_Xay3BlSh1"
      },
      "source": [
        "### Увеличение наименьшего класса"
      ]
    },
    {
      "cell_type": "markdown",
      "metadata": {
        "id": "uXid9x1glSh2"
      },
      "source": [
        "Используем SMOTE для увеличения класса"
      ]
    },
    {
      "cell_type": "code",
      "execution_count": null,
      "metadata": {
        "id": "KY-ddlJ9lSh2"
      },
      "outputs": [],
      "source": [
        "oversample = SMOTE(random_state=12345)\n",
        "features_train_up, target_train_up = oversample.fit_resample(features_train, target_train)"
      ]
    },
    {
      "cell_type": "code",
      "execution_count": null,
      "metadata": {
        "id": "dFeQG8i_lSh2",
        "outputId": "edd76b60-04d5-4aab-8068-e470dedcfe23"
      },
      "outputs": [
        {
          "name": "stdout",
          "output_type": "stream",
          "text": [
            "(8684, 11)\n",
            "(8684,)\n"
          ]
        },
        {
          "data": {
            "text/plain": [
              "0    4342\n",
              "1    4342\n",
              "Name: Exited, dtype: int64"
            ]
          },
          "execution_count": 56,
          "metadata": {},
          "output_type": "execute_result"
        }
      ],
      "source": [
        "print(features_train_up.shape)\n",
        "print(target_train_up.shape)\n",
        "target_train_up.value_counts()"
      ]
    },
    {
      "cell_type": "markdown",
      "metadata": {
        "id": "X7ZtDpAHlSh3"
      },
      "source": [
        "Логистическая регрессия"
      ]
    },
    {
      "cell_type": "code",
      "execution_count": null,
      "metadata": {
        "id": "rGqEA827lSh3",
        "outputId": "11f6f59e-5dcc-4e05-f279-c24a84c6eb75"
      },
      "outputs": [
        {
          "name": "stdout",
          "output_type": "stream",
          "text": [
            "roc_auc: 0.7858288456272573\n",
            "F1: 0.5004812319538018\n",
            "Test score:  0.7145214521452146\n"
          ]
        }
      ],
      "source": [
        "LR_b = LogisticRegression(solver = 'liblinear').fit(features_train_up, target_train_up)\n",
        "predictions_valid = LR_b.predict(features_valid)\n",
        "\n",
        "probabilities_valid = LR_b.predict_proba(features_valid)\n",
        "probabilities_one_valid = probabilities_valid[:, 1]\n",
        "\n",
        "\n",
        "print('roc_auc:', roc_auc_score(target_valid, probabilities_one_valid))\n",
        "print('F1:',f1_score(target_valid, predictions_valid))\n",
        "print('Test score: ', accuracy_score(target_valid, predictions_valid))"
      ]
    },
    {
      "cell_type": "code",
      "execution_count": null,
      "metadata": {
        "id": "YcvSSWD9lSh3",
        "outputId": "ec315846-caa1-479e-abda-351063989438"
      },
      "outputs": [
        {
          "data": {
            "image/png": "[encoded data removed]",
            "text/plain": [
              "<Figure size 432x288 with 1 Axes>"
            ]
          },
          "metadata": {
            "needs_background": "light"
          },
          "output_type": "display_data"
        }
      ],
      "source": [
        "fpr, tpr, thresholds = roc_curve(target_valid, probabilities_one_valid)\n",
        "\n",
        "plt.plot(fpr, tpr)\n",
        "plt.plot(fpr, tpr, color='red', label='ROC')\n",
        "plt.plot([0, 1], [0, 1], color='blue', linestyle='--')\n",
        "plt.xlim([0.0, 1.0])\n",
        "plt.ylim([0.0, 1.0])\n",
        "plt.xlabel('False Positive Rate')\n",
        "plt.ylabel('True Positive Rate')\n",
        "plt.title('ROC-кривая')\n",
        "plt.legend()\n",
        "plt.show()"
      ]
    },
    {
      "cell_type": "code",
      "execution_count": null,
      "metadata": {
        "id": "aq1GWmrFlSh3",
        "outputId": "05f2d954-3fba-47aa-8221-6dd423fb6d47"
      },
      "outputs": [
        {
          "name": "stdout",
          "output_type": "stream",
          "text": [
            "roc_auc: 0.8167032078638395\n",
            "F1 лучшей модели: 0.5893958076448829 DecisionTreeClassifier(max_depth=7, random_state=12345)\n"
          ]
        }
      ],
      "source": [
        "best_model_dt = None\n",
        "best_result = 0\n",
        "for depth in range(1, 20):\n",
        "    model_dt = DecisionTreeClassifier(random_state=12345, max_depth=depth).fit(features_train_up, target_train_up)\n",
        "    predictions_valid_dt = model_dt.predict(features_valid)\n",
        "    result = f1_score(target_valid, predictions_valid_dt)\n",
        "    if result > best_result:\n",
        "        best_model_dt = model_dt\n",
        "        best_result = result\n",
        "\n",
        "probabilities_valid = best_model_dt.predict_proba(features_valid)\n",
        "probabilities_one_valid = probabilities_valid[:, 1]\n",
        "\n",
        "\n",
        "print('roc_auc:', roc_auc_score(target_valid, probabilities_one_valid))\n",
        "print('F1 лучшей модели:', best_result, best_model_dt)"
      ]
    },
    {
      "cell_type": "code",
      "execution_count": null,
      "metadata": {
        "id": "rjspeT9zlSh4",
        "outputId": "102559ce-a30e-4066-b0ee-3d669f01fee8"
      },
      "outputs": [
        {
          "data": {
            "image/png": "[encoded data removed]",
            "text/plain": [
              "<Figure size 432x288 with 1 Axes>"
            ]
          },
          "metadata": {
            "needs_background": "light"
          },
          "output_type": "display_data"
        }
      ],
      "source": [
        "fpr, tpr, thresholds = roc_curve(target_valid, probabilities_one_valid)\n",
        "\n",
        "plt.plot(fpr, tpr)\n",
        "plt.plot(fpr, tpr, color='red', label='ROC')\n",
        "plt.plot([0, 1], [0, 1], color='blue', linestyle='--')\n",
        "plt.xlim([0.0, 1.0])\n",
        "plt.ylim([0.0, 1.0])\n",
        "plt.xlabel('False Positive Rate')\n",
        "plt.ylabel('True Positive Rate')\n",
        "plt.title('ROC-кривая')\n",
        "plt.legend()\n",
        "plt.show()"
      ]
    },
    {
      "cell_type": "markdown",
      "metadata": {
        "id": "YtMNbUDalSh4"
      },
      "source": [
        "Случайный лес"
      ]
    },
    {
      "cell_type": "code",
      "execution_count": null,
      "metadata": {
        "id": "pS3AvwW5lSh4",
        "outputId": "2e0232d7-3832-4b08-fc1d-b721706f1b62"
      },
      "outputs": [
        {
          "name": "stderr",
          "output_type": "stream",
          "text": [
            "100%|██████████| 9/9 [02:26<00:00, 16.29s/it]"
          ]
        },
        {
          "name": "stdout",
          "output_type": "stream",
          "text": [
            "roc_auc: 0.8689397340347255\n",
            "F1 лучшей модели: 0.6443298969072164 RandomForestClassifier(max_depth=9, n_estimators=20, random_state=12345)\n"
          ]
        },
        {
          "name": "stderr",
          "output_type": "stream",
          "text": [
            "\n"
          ]
        }
      ],
      "source": [
        "best_model_rf = None\n",
        "best_result = 0\n",
        "for est in tqdm(range(10, 100, 10)):\n",
        "    for depth in range(1, 30):\n",
        "        model_rf = RandomForestClassifier(n_estimators=est,\n",
        "                                          max_depth=depth,\n",
        "                                          random_state=12345).fit(features_train_up,\n",
        "                                                                  target_train_up)\n",
        "        pred_rf = model_rf.predict(features_valid)\n",
        "        result = f1_score(target_valid, pred_rf)\n",
        "        if result > best_result:\n",
        "            best_model_rf = model_rf\n",
        "            best_result = result\n",
        "\n",
        "probabilities_valid = best_model_rf.predict_proba(features_valid)\n",
        "probabilities_one_valid = probabilities_valid[:, 1]\n",
        "\n",
        "print('roc_auc:', roc_auc_score(target_valid, probabilities_one_valid))\n",
        "print('F1 лучшей модели:', best_result, best_model_rf)"
      ]
    },
    {
      "cell_type": "code",
      "execution_count": null,
      "metadata": {
        "id": "TXENGyZOlSh4",
        "outputId": "912ad0f6-c949-4b23-ad1c-240df164e1d4"
      },
      "outputs": [
        {
          "data": {
            "image/png": "[encoded data removed]",
            "text/plain": [
              "<Figure size 432x288 with 1 Axes>"
            ]
          },
          "metadata": {
            "needs_background": "light"
          },
          "output_type": "display_data"
        }
      ],
      "source": [
        "fpr, tpr, thresholds = roc_curve(target_valid, probabilities_one_valid)\n",
        "\n",
        "plt.plot(fpr, tpr)\n",
        "plt.plot(fpr, tpr, color='red', label='ROC')\n",
        "plt.plot([0, 1], [0, 1], color='blue', linestyle='--')\n",
        "plt.xlim([0.0, 1.0])\n",
        "plt.ylim([0.0, 1.0])\n",
        "plt.xlabel('False Positive Rate')\n",
        "plt.ylabel('True Positive Rate')\n",
        "plt.title('ROC-кривая')\n",
        "plt.legend()\n",
        "plt.show()"
      ]
    },
    {
      "cell_type": "markdown",
      "metadata": {
        "id": "aNph3TrqlSh4"
      },
      "source": [
        "### Уменьшение класса"
      ]
    },
    {
      "cell_type": "markdown",
      "metadata": {
        "id": "PvUoj4HOlSh5"
      },
      "source": [
        "Создадим функцию уменьшения класса"
      ]
    },
    {
      "cell_type": "code",
      "execution_count": null,
      "metadata": {
        "id": "P8StpoHMlSh5"
      },
      "outputs": [],
      "source": [
        "def downsample(features, target, fraction):\n",
        "    features_zeros = features[target == 0]\n",
        "    features_ones = features[target == 1]\n",
        "    target_zeros = target[target == 0]\n",
        "    target_ones = target[target == 1]\n",
        "\n",
        "    features_downsampled = pd.concat(\n",
        "        [features_zeros.sample(frac=fraction, random_state=12345)] + [features_ones])\n",
        "    target_downsampled = pd.concat(\n",
        "        [target_zeros.sample(frac=fraction, random_state=12345)] + [target_ones])\n",
        "\n",
        "    features_downsampled, target_downsampled = shuffle(\n",
        "        features_downsampled, target_downsampled, random_state=12345)\n",
        "\n",
        "    return features_downsampled, target_downsampled"
      ]
    },
    {
      "cell_type": "code",
      "execution_count": null,
      "metadata": {
        "id": "TMheqV7ilSh5",
        "outputId": "4a59b20c-3859-4a72-e9d5-3afeb052b74f"
      },
      "outputs": [
        {
          "name": "stdout",
          "output_type": "stream",
          "text": [
            "(2415, 11)\n",
            "(2415,)\n"
          ]
        },
        {
          "data": {
            "text/plain": [
              "0    1303\n",
              "1    1112\n",
              "Name: Exited, dtype: int64"
            ]
          },
          "execution_count": 66,
          "metadata": {},
          "output_type": "execute_result"
        }
      ],
      "source": [
        "features_downsampled, target_downsampled = downsample(features_train, target_train, 0.3)\n",
        "print(features_downsampled.shape)\n",
        "print(target_downsampled.shape)\n",
        "target_downsampled.value_counts()"
      ]
    },
    {
      "cell_type": "code",
      "execution_count": null,
      "metadata": {
        "id": "tT3gWmbQlSh8",
        "outputId": "c90a5680-4286-43c7-f205-8f202bda0a5a"
      },
      "outputs": [
        {
          "name": "stdout",
          "output_type": "stream",
          "text": [
            "roc_auc: 0.7910110517717669\n",
            "F1: 0.5138746145940392\n",
            "Test score:  0.7398239823982399\n"
          ]
        }
      ],
      "source": [
        "#Логистическая регрессия\n",
        "\n",
        "LR_d = LogisticRegression(solver = 'liblinear').fit(features_downsampled, target_downsampled)\n",
        "predictions_valid = LR_d.predict(features_valid)\n",
        "\n",
        "probabilities_valid = LR_d.predict_proba(features_valid)\n",
        "probabilities_one_valid = probabilities_valid[:, 1]\n",
        "\n",
        "print('roc_auc:', roc_auc_score(target_valid, probabilities_one_valid))\n",
        "print('F1:',f1_score(target_valid, predictions_valid))\n",
        "print('Test score: ', accuracy_score(target_valid, predictions_valid))"
      ]
    },
    {
      "cell_type": "code",
      "execution_count": null,
      "metadata": {
        "id": "bhXoqxnZlSh8",
        "outputId": "d68ee66a-a527-4ac9-ebdf-9fadf1c8c409"
      },
      "outputs": [
        {
          "data": {
            "image/png": "[encoded data removed]",
            "text/plain": [
              "<Figure size 432x288 with 1 Axes>"
            ]
          },
          "metadata": {
            "needs_background": "light"
          },
          "output_type": "display_data"
        }
      ],
      "source": [
        "fpr, tpr, thresholds = roc_curve(target_valid, probabilities_one_valid)\n",
        "\n",
        "plt.plot(fpr, tpr)\n",
        "plt.plot(fpr, tpr, color='red', label='ROC')\n",
        "plt.plot([0, 1], [0, 1], color='blue', linestyle='--')\n",
        "plt.xlim([0.0, 1.0])\n",
        "plt.ylim([0.0, 1.0])\n",
        "plt.xlabel('False Positive Rate')\n",
        "plt.ylabel('True Positive Rate')\n",
        "plt.title('ROC-кривая')\n",
        "plt.legend()\n",
        "plt.show()"
      ]
    },
    {
      "cell_type": "code",
      "execution_count": null,
      "metadata": {
        "id": "ErfMsHV3lSh8",
        "outputId": "d9dc7608-1b1e-4456-f67c-123c87be56de"
      },
      "outputs": [
        {
          "name": "stdout",
          "output_type": "stream",
          "text": [
            "roc_auc: 0.8403919625510163\n",
            "F1 лучшей модели: 0.5842450765864333 DecisionTreeClassifier(max_depth=6, random_state=12345)\n"
          ]
        }
      ],
      "source": [
        "# Дерево решений\n",
        "\n",
        "best_model_dt_d = None\n",
        "best_result = 0\n",
        "for depth in range(1, 20):\n",
        "    model_dt_d = DecisionTreeClassifier(random_state=12345, max_depth=depth).fit(features_downsampled, target_downsampled)\n",
        "    predictions_valid_dt_d = model_dt_d.predict(features_valid)\n",
        "    result = f1_score(target_valid, predictions_valid_dt_d)\n",
        "    if result > best_result:\n",
        "        best_model_dt_d = model_dt_d\n",
        "        best_result = result\n",
        "probabilities_valid = best_model_dt_d.predict_proba(features_valid)\n",
        "probabilities_one_valid = probabilities_valid[:, 1]\n",
        "\n",
        "print('roc_auc:', roc_auc_score(target_valid, probabilities_one_valid))\n",
        "print('F1 лучшей модели:', best_result, best_model_dt_d)"
      ]
    },
    {
      "cell_type": "code",
      "execution_count": null,
      "metadata": {
        "id": "7jP-yET2lSh9",
        "outputId": "c93cf0cc-509c-497e-fae3-755b64c6ef4d"
      },
      "outputs": [
        {
          "data": {
            "image/png": "[encoded data removed]",
            "text/plain": [
              "<Figure size 432x288 with 1 Axes>"
            ]
          },
          "metadata": {
            "needs_background": "light"
          },
          "output_type": "display_data"
        }
      ],
      "source": [
        "fpr, tpr, thresholds = roc_curve(target_valid, probabilities_one_valid)\n",
        "\n",
        "plt.plot(fpr, tpr)\n",
        "plt.plot(fpr, tpr, color='red', label='ROC')\n",
        "plt.plot([0, 1], [0, 1], color='blue', linestyle='--')\n",
        "plt.xlim([0.0, 1.0])\n",
        "plt.ylim([0.0, 1.0])\n",
        "plt.xlabel('False Positive Rate')\n",
        "plt.ylabel('True Positive Rate')\n",
        "plt.title('ROC-кривая')\n",
        "plt.legend()\n",
        "plt.show()"
      ]
    },
    {
      "cell_type": "code",
      "execution_count": null,
      "metadata": {
        "id": "WybpPMozlSh9",
        "outputId": "460ca9e7-e851-4d02-db6b-ac91c8bc81e0"
      },
      "outputs": [
        {
          "name": "stderr",
          "output_type": "stream",
          "text": [
            "100%|██████████| 9/9 [00:53<00:00,  5.91s/it]"
          ]
        },
        {
          "name": "stdout",
          "output_type": "stream",
          "text": [
            "roc_auc: 0.8779052114515207\n",
            "F1 лучшей модели: 0.6349206349206349 RandomForestClassifier(max_depth=12, n_estimators=80, random_state=12345)\n"
          ]
        },
        {
          "name": "stderr",
          "output_type": "stream",
          "text": [
            "\n"
          ]
        }
      ],
      "source": [
        "# Случайный лес\n",
        "\n",
        "best_model_rf_d = None\n",
        "best_result = 0\n",
        "for est in tqdm(range(10, 100, 10)):\n",
        "    for depth in range(1, 30):\n",
        "        model_rf_d = RandomForestClassifier(n_estimators=est,\n",
        "                                          max_depth=depth,\n",
        "                                          random_state=12345).fit(features_downsampled,\n",
        "                                                                  target_downsampled)\n",
        "        pred_rf_d = model_rf_d.predict(features_valid)\n",
        "        result = f1_score(target_valid, pred_rf_d)\n",
        "        if result > best_result:\n",
        "            best_model_rf_d = model_rf_d\n",
        "            best_result = result\n",
        "\n",
        "probabilities_valid = best_model_rf_d.predict_proba(features_valid)\n",
        "probabilities_one_valid = probabilities_valid[:, 1]\n",
        "\n",
        "print('roc_auc:', roc_auc_score(target_valid, probabilities_one_valid))\n",
        "print('F1 лучшей модели:', best_result, best_model_rf_d)"
      ]
    },
    {
      "cell_type": "code",
      "execution_count": null,
      "metadata": {
        "id": "N1YCqKnZlSh9",
        "outputId": "1e14a621-a08f-45bc-fa29-f7617c6fcafb"
      },
      "outputs": [
        {
          "data": {
            "image/png": "[encoded data removed]",
            "text/plain": [
              "<Figure size 432x288 with 1 Axes>"
            ]
          },
          "metadata": {
            "needs_background": "light"
          },
          "output_type": "display_data"
        }
      ],
      "source": [
        "fpr, tpr, thresholds = roc_curve(target_valid, probabilities_one_valid)\n",
        "\n",
        "plt.plot(fpr, tpr)\n",
        "plt.plot(fpr, tpr, color='red', label='ROC')\n",
        "plt.plot([0, 1], [0, 1], color='blue', linestyle='--')\n",
        "plt.xlim([0.0, 1.0])\n",
        "plt.ylim([0.0, 1.0])\n",
        "plt.xlabel('False Positive Rate')\n",
        "plt.ylabel('True Positive Rate')\n",
        "plt.title('ROC-кривая')\n",
        "plt.legend()\n",
        "plt.show()"
      ]
    },
    {
      "cell_type": "markdown",
      "metadata": {
        "id": "F6lgjn1FlSh9"
      },
      "source": [
        "### Взвешивание классов"
      ]
    },
    {
      "cell_type": "code",
      "execution_count": null,
      "metadata": {
        "id": "1J-utkNglSh9",
        "outputId": "1652d896-faf4-493e-a4a0-dc26871599d9"
      },
      "outputs": [
        {
          "name": "stdout",
          "output_type": "stream",
          "text": [
            "roc_auc: 0.790763304317698\n",
            "F1: 0.5065420560747663\n",
            "Test score:  0.7095709570957096\n"
          ]
        }
      ],
      "source": [
        "# Логистическая регрессия\n",
        "\n",
        "LR_balanced = LogisticRegression(solver = 'liblinear', class_weight='balanced').fit(features_train, target_train)\n",
        "predictions_valid_LR_balanced = LR_balanced.predict(features_valid)\n",
        "\n",
        "probabilities_valid = LR_balanced.predict_proba(features_valid)\n",
        "probabilities_one_valid = probabilities_valid[:, 1]\n",
        "\n",
        "print('roc_auc:', roc_auc_score(target_valid, probabilities_one_valid))\n",
        "print('F1:', f1_score(target_valid, predictions_valid_LR_balanced))\n",
        "print('Test score: ', accuracy_score(target_valid, predictions_valid_LR_balanced))"
      ]
    },
    {
      "cell_type": "code",
      "execution_count": null,
      "metadata": {
        "id": "cvDE8UyllSh-",
        "outputId": "bab53a7a-aef6-4f4e-b5ad-b873e6aa4664"
      },
      "outputs": [
        {
          "data": {
            "image/png": "[encoded data removed]",
            "text/plain": [
              "<Figure size 432x288 with 1 Axes>"
            ]
          },
          "metadata": {
            "needs_background": "light"
          },
          "output_type": "display_data"
        }
      ],
      "source": [
        "fpr, tpr, thresholds = roc_curve(target_valid, probabilities_one_valid)\n",
        "\n",
        "plt.plot(fpr, tpr)\n",
        "plt.plot(fpr, tpr, color='red', label='ROC')\n",
        "plt.plot([0, 1], [0, 1], color='blue', linestyle='--')\n",
        "plt.xlim([0.0, 1.0])\n",
        "plt.ylim([0.0, 1.0])\n",
        "plt.xlabel('False Positive Rate')\n",
        "plt.ylabel('True Positive Rate')\n",
        "plt.title('ROC-кривая')\n",
        "plt.legend()\n",
        "plt.show()"
      ]
    },
    {
      "cell_type": "code",
      "execution_count": null,
      "metadata": {
        "id": "0HV5D95GlSh-",
        "outputId": "c6ea9c19-ec81-4f82-b0ca-4e8c16bbde6c"
      },
      "outputs": [
        {
          "name": "stdout",
          "output_type": "stream",
          "text": [
            "roc_auc: 0.7056946521942414\n",
            "F1 лучшей модели: 0.583084577114428 DecisionTreeClassifier(class_weight='balanced', max_depth=6, random_state=12345)\n"
          ]
        }
      ],
      "source": [
        "# Дерево решений\n",
        "\n",
        "best_model_DTC_balanced = None\n",
        "best_result = 0\n",
        "for depth in range(1, 20):\n",
        "    DTC_balanced = DecisionTreeClassifier(random_state=12345,\n",
        "                                          max_depth=depth,\n",
        "                                          class_weight='balanced').fit(features_train,\n",
        "                                                                       target_train)\n",
        "    DTC_balanced_pred = DTC_balanced.predict(features_valid)\n",
        "    result = f1_score(target_valid, DTC_balanced_pred)\n",
        "    if result > best_result:\n",
        "        best_model_DTC_balanced = DTC_balanced\n",
        "        best_result = result\n",
        "\n",
        "probabilities_valid = DTC_balanced.predict_proba(features_valid)\n",
        "probabilities_one_valid = probabilities_valid[:, 1]\n",
        "\n",
        "\n",
        "print('roc_auc:', roc_auc_score(target_valid, probabilities_one_valid))\n",
        "print('F1 лучшей модели:', best_result, best_model_DTC_balanced)"
      ]
    },
    {
      "cell_type": "code",
      "execution_count": null,
      "metadata": {
        "id": "lPwELWyqlSh-",
        "outputId": "858cb33f-4c6f-48d7-ee17-ea9c972fece3"
      },
      "outputs": [
        {
          "data": {
            "image/png": "[encoded data removed]",
            "text/plain": [
              "<Figure size 432x288 with 1 Axes>"
            ]
          },
          "metadata": {
            "needs_background": "light"
          },
          "output_type": "display_data"
        }
      ],
      "source": [
        "fpr, tpr, thresholds = roc_curve(target_valid, probabilities_one_valid)\n",
        "\n",
        "plt.plot(fpr, tpr)\n",
        "plt.plot(fpr, tpr, color='red', label='ROC')\n",
        "plt.plot([0, 1], [0, 1], color='blue', linestyle='--')\n",
        "plt.xlim([0.0, 1.0])\n",
        "plt.ylim([0.0, 1.0])\n",
        "plt.xlabel('False Positive Rate')\n",
        "plt.ylabel('True Positive Rate')\n",
        "plt.title('ROC-кривая')\n",
        "plt.legend()\n",
        "plt.show()"
      ]
    },
    {
      "cell_type": "code",
      "execution_count": null,
      "metadata": {
        "id": "EyVDnyJilSh-",
        "outputId": "24b93bb2-1033-4a5c-e0fd-0fcf10a29890"
      },
      "outputs": [
        {
          "name": "stderr",
          "output_type": "stream",
          "text": [
            "100%|██████████| 9/9 [01:31<00:00, 10.16s/it]"
          ]
        },
        {
          "name": "stdout",
          "output_type": "stream",
          "text": [
            "roc_auc: 0.8676385942101605\n",
            "F1 лучшей модели: 0.6428571428571429 RandomForestClassifier(class_weight='balanced', max_depth=9, n_estimators=40,\n",
            "                       random_state=12345)\n"
          ]
        },
        {
          "name": "stderr",
          "output_type": "stream",
          "text": [
            "\n"
          ]
        }
      ],
      "source": [
        "# Случайный лес\n",
        "\n",
        "best_model_rf_balanced = None\n",
        "best_result = 0\n",
        "for est in tqdm(range(10, 100, 10)):\n",
        "    for depth in range(1, 30):\n",
        "        model_rf_balanced = RandomForestClassifier(n_estimators=est,\n",
        "                                          max_depth=depth,\n",
        "                                          random_state=12345,\n",
        "                                          class_weight='balanced').fit(features_train,\n",
        "                                                                  target_train)\n",
        "        pred_rf_balanced = model_rf_balanced.predict(features_valid)\n",
        "        result = f1_score(target_valid, pred_rf_balanced)\n",
        "        if result > best_result:\n",
        "            best_model_rf_balanced = model_rf_balanced\n",
        "            best_result = result\n",
        "\n",
        "probabilities_valid = model_rf_balanced.predict_proba(features_valid)\n",
        "probabilities_one_valid = probabilities_valid[:, 1]\n",
        "\n",
        "\n",
        "print('roc_auc:', roc_auc_score(target_valid, probabilities_one_valid))\n",
        "print('F1 лучшей модели:', best_result, best_model_rf_balanced)"
      ]
    },
    {
      "cell_type": "code",
      "execution_count": null,
      "metadata": {
        "id": "LVP2DsANlSh-",
        "outputId": "bbca9186-1ca4-4d0a-b6be-2aa4802b97ad"
      },
      "outputs": [
        {
          "data": {
            "image/png": "[encoded data removed]",
            "text/plain": [
              "<Figure size 432x288 with 1 Axes>"
            ]
          },
          "metadata": {
            "needs_background": "light"
          },
          "output_type": "display_data"
        }
      ],
      "source": [
        "fpr, tpr, thresholds = roc_curve(target_valid, probabilities_one_valid)\n",
        "\n",
        "plt.plot(fpr, tpr)\n",
        "plt.plot(fpr, tpr, color='red', label='ROC')\n",
        "plt.plot([0, 1], [0, 1], color='blue', linestyle='--')\n",
        "plt.xlim([0.0, 1.0])\n",
        "plt.ylim([0.0, 1.0])\n",
        "plt.xlabel('False Positive Rate')\n",
        "plt.ylabel('True Positive Rate')\n",
        "plt.title('ROC-кривая')\n",
        "plt.legend()\n",
        "plt.show()"
      ]
    },
    {
      "cell_type": "markdown",
      "metadata": {
        "id": "OfAH2bMtlSh_"
      },
      "source": [
        "<p>Борьба с дисбалансом велась долго, но уверенно, в результате мы получили следующие данные:</p>\n",
        "<p><strong>Увеличение наименьшего класса:</strong></p>\n",
        "<p><em>Логистическая регрессия</em></p>\n",
        "<pre>roc_auc: 0.790767029843323\n",
        "F1: 0.5050878815911193</pre>\n",
        "<p><em>Дерево решений</em></p>\n",
        "<pre>roc_auc: 0.8347040163029001\n",
        "F1 лучшей модели: 0.5825049701789264 DecisionTreeClassifier(max_depth=6, random_state=12345)</pre>\n",
        "<p><em>Случайный лес</em></p>\n",
        "<pre>roc_auc: 0.8689397340347255\n",
        "F1 лучшей модели: 0.6443298969072164 RandomForestClassifier(max_depth=12, n_estimators=20, random_state=12345)</pre>\n",
        "<p><em><strong>Уменьшение класса:</strong></em></p>\n",
        "<p><em>Логистическая регрессия</em></p>\n",
        "<pre>roc_auc: 0.7910110517717669\n",
        "F1: 0.5138746145940392</pre>\n",
        "<p><em>Дерево решений</em></p>\n",
        "<pre>roc_auc: 0.8403919625510163\n",
        "F1 лучшей модели: 0.5842450765864333 DecisionTreeClassifier(max_depth=6, random_state=12345)</pre>\n",
        "<p><em>Случайный лес</em></p>\n",
        "<pre>roc_auc: 0.8779052114515207\n",
        "F1 лучшей модели: 0.6349206349206349 RandomForestClassifier(max_depth=12, n_estimators=80, random_state=12345)</pre>\n",
        "<p><em><strong>Взвешивание классов:</strong></em></p>\n",
        "<p><em>Логистическая регрессия</em></p>\n",
        "<pre>roc_auc: 0.790763304317698\n",
        "F1: 0.5065420560747663</pre>\n",
        "<p><em>Дерево решений</em></p>\n",
        "<pre>roc_auc: 0.6922613381715493\n",
        "F1 лучшей модели: 0.583084577114428 DecisionTreeClassifier(class_weight='balanced', max_depth=6, random_state=12345)</pre>\n",
        "<p><em>Случайный лес</em></p>\n",
        "<pre>roc_auc: 0.8638311070213118\n",
        "F1 лучшей модели: 0.6463878326996199 RandomForestClassifier(class_weight='balanced', max_depth=9, n_estimators=50,\n",
        "                       random_state=12345)</pre>\n",
        "<pre><br /><br />Лучший результат на валидационной выборке получились у Случайного леса с параметрами roc_auc: 0.8638311070213118\n",
        "F1 лучшей модели: 0.6463878326996199 RandomForestClassifier(class_weight='balanced', max_depth=9, n_estimators=50,\n",
        "                       random_state=12345) <br /><br />Испробуем его на тестовой выборке</pre>\n",
        "<pre><br /><br /><br /></pre>"
      ]
    },
    {
      "cell_type": "markdown",
      "metadata": {
        "id": "MZvUbog0lSh_"
      },
      "source": [
        "## Тестирование модели"
      ]
    },
    {
      "cell_type": "markdown",
      "metadata": {
        "id": "3cwbcGeLlSh_"
      },
      "source": [
        "Объеденим обучающую и валидационную выборки для тестирования модели"
      ]
    },
    {
      "cell_type": "code",
      "execution_count": null,
      "metadata": {
        "id": "4ttOraY8lSh_"
      },
      "outputs": [],
      "source": [
        "features_super = pd.concat([features_valid, features_train])\n",
        "target_super = pd.concat([target_valid, target_train])\n",
        "features_super, target_super = shuffle(features_super, target_super, random_state=12345)"
      ]
    },
    {
      "cell_type": "markdown",
      "metadata": {
        "id": "FfA4e7VklSiA"
      },
      "source": [
        "Обучим и затестим модель"
      ]
    },
    {
      "cell_type": "code",
      "execution_count": null,
      "metadata": {
        "id": "UROWAJEalSiA",
        "outputId": "591f9824-4414-44c8-f8e4-9eacf2006079"
      },
      "outputs": [
        {
          "name": "stdout",
          "output_type": "stream",
          "text": [
            "RandomForestClassifier(class_weight='balanced', max_depth=9, n_estimators=40,\n",
            "                       random_state=12345)\n",
            "roc_auc: 0.8546410328960105\n",
            "F1: 0.6051948051948053\n",
            "F1 дамми-модели: 0.33881278538812787\n",
            "Recall 0.628032345013477\n"
          ]
        }
      ],
      "source": [
        "best_model_rf_balanced.fit(features_super, target_super)\n",
        "predictions_test = best_model_rf_balanced.predict(features_test)\n",
        "\n",
        "probabilities_valid = best_model_rf_balanced.predict_proba(features_test)\n",
        "probabilities_one_valid = probabilities_valid[:, 1]\n",
        "\n",
        "print(best_model_rf_balanced)\n",
        "print('roc_auc:', roc_auc_score(target_test, probabilities_one_valid))\n",
        "print('F1:', f1_score(target_test, predictions_test))\n",
        "print('F1 дамми-модели:', f1_score(dummy_model.predict(features_test), target_test))\n",
        "print('Recall', recall_score(target_test, predictions_test))"
      ]
    },
    {
      "cell_type": "markdown",
      "metadata": {
        "id": "y1ZuiDIwlSiA"
      },
      "source": [
        "По метрике recall понятно, что модель верно детектирует долю в 62,8% от всех клиентов на отток. Но и это уже не плохо."
      ]
    },
    {
      "cell_type": "code",
      "execution_count": null,
      "metadata": {
        "id": "Bv6o-OPVlSiA",
        "outputId": "7a47e69e-6b7e-4b05-e1f4-ccc16dabf6c2"
      },
      "outputs": [
        {
          "data": {
            "text/plain": [
              "array([[1282,  166],\n",
              "       [ 138,  233]])"
            ]
          },
          "execution_count": 86,
          "metadata": {},
          "output_type": "execute_result"
        }
      ],
      "source": [
        "confusion_matrix(target_test, predictions_test)"
      ]
    },
    {
      "cell_type": "markdown",
      "metadata": {
        "id": "hGn_g-gQlSiA"
      },
      "source": [
        "Посмотрим на график ROC-кривой. Созданная модель довольно сильно отличается от случайной."
      ]
    },
    {
      "cell_type": "code",
      "execution_count": null,
      "metadata": {
        "id": "Qo-3SgPxlSiB",
        "outputId": "8727671d-6b4a-4020-d7fd-c0f89abcddfa"
      },
      "outputs": [
        {
          "data": {
            "image/png": "[encoded data removed]",
            "text/plain": [
              "<Figure size 432x288 with 1 Axes>"
            ]
          },
          "metadata": {
            "needs_background": "light"
          },
          "output_type": "display_data"
        }
      ],
      "source": [
        "fpr, tpr, thresholds = roc_curve(target_test, probabilities_one_valid)\n",
        "\n",
        "plt.plot(fpr, tpr)\n",
        "plt.plot(fpr, tpr, color='red', label='roc_auc')\n",
        "plt.plot([0, 1], [0, 1], color='blue', linestyle='--', label='случайная модель')\n",
        "plt.xlim([0.0, 1.0])\n",
        "plt.ylim([0.0, 1.0])\n",
        "plt.xlabel('False Positive Rate')\n",
        "plt.ylabel('True Positive Rate')\n",
        "plt.title('ROC-кривая')\n",
        "plt.legend()\n",
        "plt.show()"
      ]
    },
    {
      "cell_type": "markdown",
      "metadata": {
        "id": "dphZ5BkclSiB"
      },
      "source": [
        "Взглянем на важность признаков нашей модели"
      ]
    },
    {
      "cell_type": "code",
      "execution_count": null,
      "metadata": {
        "id": "xplmU57PlSiB",
        "outputId": "8c213963-ab32-4249-d406-d25e3c53aae1"
      },
      "outputs": [
        {
          "data": {
            "image/png": "[encoded data removed]",
            "text/plain": [
              "<Figure size 432x288 with 1 Axes>"
            ]
          },
          "metadata": {
            "needs_background": "light"
          },
          "output_type": "display_data"
        }
      ],
      "source": [
        "features=features_test.columns\n",
        "importances = best_model_rf_balanced.feature_importances_\n",
        "indices = np.argsort(importances)\n",
        "\n",
        "plt.figure()\n",
        "plt.title('Важность признаков')\n",
        "plt.barh(range(len(indices)), importances[indices])\n",
        "plt.yticks(range(len(indices)), features[indices])\n",
        "plt.xlabel('оценочная шкала')\n",
        "plt.show()"
      ]
    },
    {
      "cell_type": "markdown",
      "metadata": {
        "id": "y1gqZu95lSiB"
      },
      "source": [
        "## Вывод"
      ]
    },
    {
      "cell_type": "markdown",
      "metadata": {
        "id": "q6jnY8I4lSiB"
      },
      "source": [
        "<div class=\"paragraph\">Из &laquo;Бета-Банка&raquo; стали уходить клиенты. Каждый месяц. Немного, но заметно. Банковские маркетологи посчитали: сохранять текущих клиентов дешевле, чем привлекать новых.</div>\n",
        "<div class=\"paragraph\">В нашем распоряжении исторические данные о поведении клиентов и расторжении договоров с банком. Необходимо простроить модель машинного обучения с предельно большим значением <em>F1</em>-меры и спрогнозировать, уйдёт клиент из банка в ближайшее время или нет.</div>\n",
        "<div class=\"paragraph\">&nbsp;</div>\n",
        "<div class=\"paragraph\">\n",
        "<p>Данные содержат 14 колонок и 10000 записей.</p>\n",
        "<p>В ходе исследования данных были удалены пропущенные значения в столбце `Tenure` и удалены ненужные столбцы (RowNumber, CustomerId, Surname), мультиколлинеарность не обнаружена.</p>\n",
        "<p>Присутствует дисбаланс целевого признака.</p>\n",
        "<p>Было проведено обучение моделей Логистической регрессии, Случайного леса и Дерева решений.</p>\n",
        "<p>Вначале без учета дисбаланса классов:</p>\n",
        "<p>Линейная регрессия дала дала показания близкие к константной модели, Случайный лес и Дерево решений справились лучше.</p>\n",
        "<p>В ходе борьбы с дисбалансом классов, были обучены модели с использованием увеличения наименьшего класса, уменьшения наибольшего класса и взвешивания классов.&nbsp;</p>\n",
        "<p>Лучший результат на валидационной выборке получился у Случайного леса с параметрами roc_auc: 0.8638311070213118<br />F1 лучшей модели: 0.6463878326996199 RandomForestClassifier(class_weight='balanced', max_depth=9, n_estimators=50,<br />random_state=12345)</p>\n",
        "<p>Его и использовали для тестирование модели, объеденив при этом обучающую и валидационную выборки для лучшего обучения тестовой модели.</p>\n",
        "<p>Метрики показали следующие результаты:</p>\n",
        "<pre>roc_auc: 0.8537084332325654\n",
        "F1: 0.6064516129032258<br />F1 дамми-модели: 0.33881278538812787\n",
        "Recall 0.628032345013477</pre>\n",
        "<pre>По сравнению с дамми-моделью видно, что наша модель показывает лучшие результаты.<br />По метрике recall понятно, что модель верно детектирует долю в 62,8% от всех клиентов на отток. Но и это уже не плохо.<br /><br />Метрика F1 больше 0.59. Ура!</pre>\n",
        "<p>&nbsp;</p>\n",
        "</div>"
      ]
    }
  ],
  "metadata": {
    "ExecuteTimeLog": [
      {
        "duration": 1568,
        "start_time": "2023-04-04T07:55:04.037Z"
      },
      {
        "duration": 7,
        "start_time": "2023-04-04T07:58:29.916Z"
      },
      {
        "duration": 7,
        "start_time": "2023-04-04T08:00:55.043Z"
      },
      {
        "duration": 19,
        "start_time": "2023-04-04T08:01:08.959Z"
      },
      {
        "duration": 5,
        "start_time": "2023-04-04T08:01:59.238Z"
      },
      {
        "duration": 79,
        "start_time": "2023-04-04T08:03:03.566Z"
      },
      {
        "duration": 96,
        "start_time": "2023-04-04T08:03:12.422Z"
      },
      {
        "duration": 92,
        "start_time": "2023-04-04T08:03:21.750Z"
      },
      {
        "duration": 15,
        "start_time": "2023-04-04T08:03:40.831Z"
      },
      {
        "duration": 6,
        "start_time": "2023-04-04T08:05:54.184Z"
      },
      {
        "duration": 113,
        "start_time": "2023-04-04T08:06:23.768Z"
      },
      {
        "duration": 19,
        "start_time": "2023-04-04T08:14:20.750Z"
      },
      {
        "duration": 27,
        "start_time": "2023-04-04T08:14:35.084Z"
      },
      {
        "duration": 27,
        "start_time": "2023-04-04T08:15:52.906Z"
      },
      {
        "duration": 10,
        "start_time": "2023-04-04T08:18:29.382Z"
      },
      {
        "duration": 13,
        "start_time": "2023-04-04T08:18:35.541Z"
      },
      {
        "duration": 10,
        "start_time": "2023-04-04T08:18:43.245Z"
      },
      {
        "duration": 10,
        "start_time": "2023-04-04T08:18:50.320Z"
      },
      {
        "duration": 10,
        "start_time": "2023-04-04T08:19:05.345Z"
      },
      {
        "duration": 10,
        "start_time": "2023-04-04T08:19:10.933Z"
      },
      {
        "duration": 25,
        "start_time": "2023-04-04T08:19:20.685Z"
      },
      {
        "duration": 14,
        "start_time": "2023-04-04T08:19:36.335Z"
      },
      {
        "duration": 13,
        "start_time": "2023-04-04T08:19:43.342Z"
      },
      {
        "duration": 14,
        "start_time": "2023-04-04T08:23:16.421Z"
      },
      {
        "duration": 63,
        "start_time": "2023-04-04T08:30:13.449Z"
      },
      {
        "duration": 307,
        "start_time": "2023-04-04T08:30:57.235Z"
      },
      {
        "duration": 18,
        "start_time": "2023-04-04T08:32:11.917Z"
      },
      {
        "duration": 276,
        "start_time": "2023-04-04T08:35:02.220Z"
      },
      {
        "duration": 102,
        "start_time": "2023-04-04T08:36:34.453Z"
      },
      {
        "duration": 16,
        "start_time": "2023-04-04T08:37:28.212Z"
      },
      {
        "duration": 24,
        "start_time": "2023-04-04T08:38:29.607Z"
      },
      {
        "duration": 962,
        "start_time": "2023-04-04T08:38:56.639Z"
      },
      {
        "duration": 1145,
        "start_time": "2023-04-04T08:40:51.631Z"
      },
      {
        "duration": 887,
        "start_time": "2023-04-04T08:41:11.925Z"
      },
      {
        "duration": 902,
        "start_time": "2023-04-04T08:41:26.307Z"
      },
      {
        "duration": 33,
        "start_time": "2023-04-04T08:54:39.838Z"
      },
      {
        "duration": 23,
        "start_time": "2023-04-04T08:54:48.431Z"
      },
      {
        "duration": 38,
        "start_time": "2023-04-04T08:54:52.198Z"
      },
      {
        "duration": 23,
        "start_time": "2023-04-04T08:54:56.007Z"
      },
      {
        "duration": 21,
        "start_time": "2023-04-04T08:55:00.334Z"
      },
      {
        "duration": 22,
        "start_time": "2023-04-04T08:55:03.710Z"
      },
      {
        "duration": 28,
        "start_time": "2023-04-04T08:55:07.357Z"
      },
      {
        "duration": 22,
        "start_time": "2023-04-04T08:55:11.206Z"
      },
      {
        "duration": 25,
        "start_time": "2023-04-04T08:55:15.943Z"
      },
      {
        "duration": 22,
        "start_time": "2023-04-04T08:55:21.809Z"
      },
      {
        "duration": 9,
        "start_time": "2023-04-04T08:55:28.142Z"
      },
      {
        "duration": 10,
        "start_time": "2023-04-04T09:01:29.626Z"
      },
      {
        "duration": 6,
        "start_time": "2023-04-04T09:01:49.032Z"
      },
      {
        "duration": 5,
        "start_time": "2023-04-04T09:03:12.016Z"
      },
      {
        "duration": 25,
        "start_time": "2023-04-04T09:11:30.140Z"
      },
      {
        "duration": 5,
        "start_time": "2023-04-04T09:15:10.507Z"
      },
      {
        "duration": 6,
        "start_time": "2023-04-04T09:15:36.008Z"
      },
      {
        "duration": 6,
        "start_time": "2023-04-04T09:25:25.235Z"
      },
      {
        "duration": 10,
        "start_time": "2023-04-04T09:27:36.948Z"
      },
      {
        "duration": 23,
        "start_time": "2023-04-04T09:27:44.531Z"
      },
      {
        "duration": 121,
        "start_time": "2023-04-04T09:27:57.235Z"
      },
      {
        "duration": 15,
        "start_time": "2023-04-04T09:28:04.406Z"
      },
      {
        "duration": 12,
        "start_time": "2023-04-04T09:28:15.564Z"
      },
      {
        "duration": 12,
        "start_time": "2023-04-04T09:28:20.807Z"
      },
      {
        "duration": 17,
        "start_time": "2023-04-04T09:29:26.371Z"
      },
      {
        "duration": 12,
        "start_time": "2023-04-04T09:29:35.635Z"
      },
      {
        "duration": 17,
        "start_time": "2023-04-04T09:29:54.748Z"
      },
      {
        "duration": 13,
        "start_time": "2023-04-04T09:30:04.228Z"
      },
      {
        "duration": 12,
        "start_time": "2023-04-04T09:30:14.644Z"
      },
      {
        "duration": 16,
        "start_time": "2023-04-04T09:30:23.717Z"
      },
      {
        "duration": 14,
        "start_time": "2023-04-04T09:30:48.916Z"
      },
      {
        "duration": 6,
        "start_time": "2023-04-04T09:33:33.809Z"
      },
      {
        "duration": 10,
        "start_time": "2023-04-04T09:33:41.638Z"
      },
      {
        "duration": 13,
        "start_time": "2023-04-04T09:34:35.806Z"
      },
      {
        "duration": 27,
        "start_time": "2023-04-04T09:34:47.411Z"
      },
      {
        "duration": 11,
        "start_time": "2023-04-04T09:36:12.623Z"
      },
      {
        "duration": 18,
        "start_time": "2023-04-04T09:36:18.776Z"
      },
      {
        "duration": 5,
        "start_time": "2023-04-04T09:37:38.441Z"
      },
      {
        "duration": 1406,
        "start_time": "2023-04-04T09:37:47.215Z"
      },
      {
        "duration": 12,
        "start_time": "2023-04-04T10:02:52.662Z"
      },
      {
        "duration": 11,
        "start_time": "2023-04-04T10:05:56.156Z"
      },
      {
        "duration": 11,
        "start_time": "2023-04-04T10:06:04.869Z"
      },
      {
        "duration": 5,
        "start_time": "2023-04-04T10:06:08.461Z"
      },
      {
        "duration": 16,
        "start_time": "2023-04-04T10:21:47.324Z"
      },
      {
        "duration": 17,
        "start_time": "2023-04-04T10:21:54.019Z"
      },
      {
        "duration": 60,
        "start_time": "2023-04-04T10:21:56.467Z"
      },
      {
        "duration": 15,
        "start_time": "2023-04-04T10:21:57.931Z"
      },
      {
        "duration": 13,
        "start_time": "2023-04-04T10:22:02.587Z"
      },
      {
        "duration": 25,
        "start_time": "2023-04-04T10:22:04.217Z"
      },
      {
        "duration": 1270,
        "start_time": "2023-04-04T10:22:07.572Z"
      },
      {
        "duration": 13,
        "start_time": "2023-04-04T10:22:28.987Z"
      },
      {
        "duration": 6,
        "start_time": "2023-04-04T10:22:29.620Z"
      },
      {
        "duration": 14,
        "start_time": "2023-04-04T10:22:30.922Z"
      },
      {
        "duration": 10,
        "start_time": "2023-04-04T10:23:02.054Z"
      },
      {
        "duration": 5,
        "start_time": "2023-04-04T10:23:02.956Z"
      },
      {
        "duration": 14,
        "start_time": "2023-04-04T10:23:07.539Z"
      },
      {
        "duration": 20,
        "start_time": "2023-04-04T10:35:56.665Z"
      },
      {
        "duration": 17,
        "start_time": "2023-04-04T10:36:24.341Z"
      },
      {
        "duration": 14,
        "start_time": "2023-04-04T10:36:41.963Z"
      },
      {
        "duration": 19,
        "start_time": "2023-04-04T10:36:51.563Z"
      },
      {
        "duration": 4,
        "start_time": "2023-04-04T10:37:02.579Z"
      },
      {
        "duration": 18,
        "start_time": "2023-04-04T10:46:15.775Z"
      },
      {
        "duration": 14,
        "start_time": "2023-04-04T10:47:34.441Z"
      },
      {
        "duration": 10,
        "start_time": "2023-04-04T10:48:20.916Z"
      },
      {
        "duration": 4,
        "start_time": "2023-04-04T10:49:40.977Z"
      },
      {
        "duration": 30,
        "start_time": "2023-04-04T10:53:00.317Z"
      },
      {
        "duration": 29,
        "start_time": "2023-04-04T10:53:38.548Z"
      },
      {
        "duration": 22,
        "start_time": "2023-04-04T10:59:18.389Z"
      },
      {
        "duration": 117,
        "start_time": "2023-04-04T10:59:44.574Z"
      },
      {
        "duration": 26,
        "start_time": "2023-04-04T10:59:54.502Z"
      },
      {
        "duration": 185,
        "start_time": "2023-04-04T11:00:12.206Z"
      },
      {
        "duration": 22,
        "start_time": "2023-04-04T11:00:21.087Z"
      },
      {
        "duration": 19,
        "start_time": "2023-04-04T11:05:08.345Z"
      },
      {
        "duration": 6,
        "start_time": "2023-04-04T11:05:44.480Z"
      },
      {
        "duration": 151,
        "start_time": "2023-04-04T11:05:50.343Z"
      },
      {
        "duration": 37,
        "start_time": "2023-04-04T11:07:47.427Z"
      },
      {
        "duration": 30,
        "start_time": "2023-04-04T11:08:02.906Z"
      },
      {
        "duration": 161,
        "start_time": "2023-04-04T11:08:05.433Z"
      },
      {
        "duration": 438,
        "start_time": "2023-04-04T11:11:03.859Z"
      },
      {
        "duration": 442,
        "start_time": "2023-04-04T11:11:21.138Z"
      },
      {
        "duration": 96,
        "start_time": "2023-04-04T11:11:49.602Z"
      },
      {
        "duration": 506,
        "start_time": "2023-04-04T11:12:18.694Z"
      },
      {
        "duration": 3121,
        "start_time": "2023-04-04T11:17:10.414Z"
      },
      {
        "duration": 6118,
        "start_time": "2023-04-04T11:17:58.350Z"
      },
      {
        "duration": 9575,
        "start_time": "2023-04-04T11:18:14.583Z"
      },
      {
        "duration": 10543,
        "start_time": "2023-04-04T11:19:30.480Z"
      },
      {
        "duration": 3436,
        "start_time": "2023-04-04T11:20:34.823Z"
      },
      {
        "duration": 2922,
        "start_time": "2023-04-04T11:21:07.720Z"
      },
      {
        "duration": 17,
        "start_time": "2023-04-04T11:21:21.683Z"
      },
      {
        "duration": 2962,
        "start_time": "2023-04-04T11:21:26.791Z"
      },
      {
        "duration": 3310,
        "start_time": "2023-04-04T11:21:39.097Z"
      },
      {
        "duration": 10693,
        "start_time": "2023-04-04T11:22:58.016Z"
      },
      {
        "duration": 10361,
        "start_time": "2023-04-04T11:23:22.225Z"
      },
      {
        "duration": 3277,
        "start_time": "2023-04-04T11:23:54.034Z"
      },
      {
        "duration": 503,
        "start_time": "2023-04-04T11:26:19.433Z"
      },
      {
        "duration": 2954,
        "start_time": "2023-04-04T11:27:16.018Z"
      },
      {
        "duration": 2828,
        "start_time": "2023-04-04T11:27:35.294Z"
      },
      {
        "duration": 2917,
        "start_time": "2023-04-04T11:28:11.698Z"
      },
      {
        "duration": 2988,
        "start_time": "2023-04-04T11:28:50.201Z"
      },
      {
        "duration": 2854,
        "start_time": "2023-04-04T11:29:08.093Z"
      },
      {
        "duration": 12239,
        "start_time": "2023-04-04T11:29:24.582Z"
      },
      {
        "duration": 2982,
        "start_time": "2023-04-04T11:29:45.926Z"
      },
      {
        "duration": 4,
        "start_time": "2023-04-04T11:34:02.765Z"
      },
      {
        "duration": 6,
        "start_time": "2023-04-04T11:34:35.485Z"
      },
      {
        "duration": 11,
        "start_time": "2023-04-04T11:35:35.149Z"
      },
      {
        "duration": 7,
        "start_time": "2023-04-04T11:35:51.622Z"
      },
      {
        "duration": 7,
        "start_time": "2023-04-04T11:36:06.996Z"
      },
      {
        "duration": 16,
        "start_time": "2023-04-04T11:40:43.883Z"
      },
      {
        "duration": 15,
        "start_time": "2023-04-04T11:40:59.168Z"
      },
      {
        "duration": 26,
        "start_time": "2023-04-04T11:41:45.482Z"
      },
      {
        "duration": 28,
        "start_time": "2023-04-04T11:42:07.720Z"
      },
      {
        "duration": 4,
        "start_time": "2023-04-04T11:42:29.924Z"
      },
      {
        "duration": 4,
        "start_time": "2023-04-04T11:46:15.032Z"
      },
      {
        "duration": 21,
        "start_time": "2023-04-04T11:47:12.911Z"
      },
      {
        "duration": 5,
        "start_time": "2023-04-04T11:47:24.119Z"
      },
      {
        "duration": 21,
        "start_time": "2023-04-04T11:47:25.299Z"
      },
      {
        "duration": 6,
        "start_time": "2023-04-04T11:47:47.137Z"
      },
      {
        "duration": 6,
        "start_time": "2023-04-04T11:47:52.640Z"
      },
      {
        "duration": 14,
        "start_time": "2023-04-04T11:47:53.360Z"
      },
      {
        "duration": 112,
        "start_time": "2023-04-04T11:51:11.387Z"
      },
      {
        "duration": 3501,
        "start_time": "2023-04-04T11:51:34.716Z"
      },
      {
        "duration": 83,
        "start_time": "2023-04-04T11:52:57.814Z"
      },
      {
        "duration": 83,
        "start_time": "2023-04-04T11:54:28.411Z"
      },
      {
        "duration": 6,
        "start_time": "2023-04-04T11:54:33.895Z"
      },
      {
        "duration": 50,
        "start_time": "2023-04-04T11:54:33.903Z"
      },
      {
        "duration": 14,
        "start_time": "2023-04-04T11:54:33.955Z"
      },
      {
        "duration": 9,
        "start_time": "2023-04-04T11:54:33.971Z"
      },
      {
        "duration": 25,
        "start_time": "2023-04-04T11:54:33.990Z"
      },
      {
        "duration": 1040,
        "start_time": "2023-04-04T11:54:34.016Z"
      },
      {
        "duration": 6,
        "start_time": "2023-04-04T11:54:35.058Z"
      },
      {
        "duration": 13,
        "start_time": "2023-04-04T11:54:35.066Z"
      },
      {
        "duration": 22,
        "start_time": "2023-04-04T11:54:35.089Z"
      },
      {
        "duration": 8,
        "start_time": "2023-04-04T11:54:35.113Z"
      },
      {
        "duration": 24,
        "start_time": "2023-04-04T11:54:35.123Z"
      },
      {
        "duration": 31,
        "start_time": "2023-04-04T11:54:35.149Z"
      },
      {
        "duration": 22,
        "start_time": "2023-04-04T11:54:35.182Z"
      },
      {
        "duration": 4,
        "start_time": "2023-04-04T11:54:35.207Z"
      },
      {
        "duration": 31,
        "start_time": "2023-04-04T11:54:35.214Z"
      },
      {
        "duration": 5,
        "start_time": "2023-04-04T11:54:35.246Z"
      },
      {
        "duration": 41,
        "start_time": "2023-04-04T11:54:35.253Z"
      },
      {
        "duration": 95,
        "start_time": "2023-04-04T11:54:35.296Z"
      },
      {
        "duration": 523,
        "start_time": "2023-04-04T11:54:35.394Z"
      },
      {
        "duration": 10046,
        "start_time": "2023-04-04T11:54:35.919Z"
      },
      {
        "duration": 3302,
        "start_time": "2023-04-04T11:54:45.966Z"
      },
      {
        "duration": 6,
        "start_time": "2023-04-04T11:54:49.270Z"
      },
      {
        "duration": 4,
        "start_time": "2023-04-04T11:54:49.290Z"
      },
      {
        "duration": 28,
        "start_time": "2023-04-04T11:54:49.296Z"
      },
      {
        "duration": 547,
        "start_time": "2023-04-04T11:58:00.791Z"
      },
      {
        "duration": 28,
        "start_time": "2023-04-04T11:59:48.353Z"
      },
      {
        "duration": 589,
        "start_time": "2023-04-04T12:00:54.961Z"
      },
      {
        "duration": 14337,
        "start_time": "2023-04-04T12:01:55.259Z"
      },
      {
        "duration": 3400,
        "start_time": "2023-04-04T12:04:02.099Z"
      },
      {
        "duration": 14668,
        "start_time": "2023-04-04T12:05:27.249Z"
      },
      {
        "duration": 3345,
        "start_time": "2023-04-04T12:05:48.264Z"
      },
      {
        "duration": 14388,
        "start_time": "2023-04-04T12:06:41.729Z"
      },
      {
        "duration": 3351,
        "start_time": "2023-04-04T12:06:59.704Z"
      },
      {
        "duration": 13989,
        "start_time": "2023-04-04T12:08:03.340Z"
      },
      {
        "duration": 14584,
        "start_time": "2023-04-04T12:09:22.893Z"
      },
      {
        "duration": 14475,
        "start_time": "2023-04-04T12:09:50.496Z"
      },
      {
        "duration": 34668,
        "start_time": "2023-04-04T12:10:17.795Z"
      },
      {
        "duration": 9,
        "start_time": "2023-04-04T12:14:11.013Z"
      },
      {
        "duration": 54,
        "start_time": "2023-04-04T12:14:11.025Z"
      },
      {
        "duration": 20,
        "start_time": "2023-04-04T12:14:11.081Z"
      },
      {
        "duration": 6,
        "start_time": "2023-04-04T12:14:11.103Z"
      },
      {
        "duration": 26,
        "start_time": "2023-04-04T12:14:11.111Z"
      },
      {
        "duration": 1100,
        "start_time": "2023-04-04T12:14:11.139Z"
      },
      {
        "duration": 6,
        "start_time": "2023-04-04T12:14:12.241Z"
      },
      {
        "duration": 7,
        "start_time": "2023-04-04T12:14:12.249Z"
      },
      {
        "duration": 38,
        "start_time": "2023-04-04T12:14:12.258Z"
      },
      {
        "duration": 10,
        "start_time": "2023-04-04T12:14:12.299Z"
      },
      {
        "duration": 13,
        "start_time": "2023-04-04T12:14:12.311Z"
      },
      {
        "duration": 21,
        "start_time": "2023-04-04T12:14:12.326Z"
      },
      {
        "duration": 44,
        "start_time": "2023-04-04T12:14:12.350Z"
      },
      {
        "duration": 4,
        "start_time": "2023-04-04T12:14:12.397Z"
      },
      {
        "duration": 18,
        "start_time": "2023-04-04T12:14:12.403Z"
      },
      {
        "duration": 5,
        "start_time": "2023-04-04T12:14:12.423Z"
      },
      {
        "duration": 63,
        "start_time": "2023-04-04T12:14:12.430Z"
      },
      {
        "duration": 153,
        "start_time": "2023-04-04T12:14:44.641Z"
      },
      {
        "duration": 84,
        "start_time": "2023-04-04T12:14:53.406Z"
      },
      {
        "duration": 474,
        "start_time": "2023-04-04T12:15:06.645Z"
      },
      {
        "duration": 10434,
        "start_time": "2023-04-04T12:15:20.357Z"
      },
      {
        "duration": 3306,
        "start_time": "2023-04-04T12:15:43.905Z"
      },
      {
        "duration": 70,
        "start_time": "2023-04-04T12:18:43.222Z"
      },
      {
        "duration": 445,
        "start_time": "2023-04-04T12:18:46.901Z"
      },
      {
        "duration": 10522,
        "start_time": "2023-04-04T12:19:20.526Z"
      },
      {
        "duration": 3327,
        "start_time": "2023-04-04T12:19:34.015Z"
      },
      {
        "duration": 10544,
        "start_time": "2023-04-04T12:21:28.952Z"
      },
      {
        "duration": 10539,
        "start_time": "2023-04-04T12:21:59.009Z"
      },
      {
        "duration": 66,
        "start_time": "2023-04-04T12:22:59.625Z"
      },
      {
        "duration": 7,
        "start_time": "2023-04-04T12:23:20.410Z"
      },
      {
        "duration": 58,
        "start_time": "2023-04-04T12:23:20.419Z"
      },
      {
        "duration": 14,
        "start_time": "2023-04-04T12:23:20.478Z"
      },
      {
        "duration": 4,
        "start_time": "2023-04-04T12:23:20.494Z"
      },
      {
        "duration": 26,
        "start_time": "2023-04-04T12:23:20.500Z"
      },
      {
        "duration": 1051,
        "start_time": "2023-04-04T12:23:20.528Z"
      },
      {
        "duration": 13,
        "start_time": "2023-04-04T12:23:21.581Z"
      },
      {
        "duration": 6,
        "start_time": "2023-04-04T12:23:21.595Z"
      },
      {
        "duration": 18,
        "start_time": "2023-04-04T12:23:21.602Z"
      },
      {
        "duration": 8,
        "start_time": "2023-04-04T12:23:21.623Z"
      },
      {
        "duration": 4,
        "start_time": "2023-04-04T12:23:21.633Z"
      },
      {
        "duration": 14,
        "start_time": "2023-04-04T12:23:21.639Z"
      },
      {
        "duration": 53,
        "start_time": "2023-04-04T12:23:21.654Z"
      },
      {
        "duration": 4,
        "start_time": "2023-04-04T12:23:21.709Z"
      },
      {
        "duration": 33,
        "start_time": "2023-04-04T12:23:21.715Z"
      },
      {
        "duration": 5,
        "start_time": "2023-04-04T12:23:21.750Z"
      },
      {
        "duration": 53,
        "start_time": "2023-04-04T12:23:21.757Z"
      },
      {
        "duration": 32,
        "start_time": "2023-04-04T12:23:27.582Z"
      },
      {
        "duration": 29,
        "start_time": "2023-04-04T12:24:10.659Z"
      },
      {
        "duration": 28,
        "start_time": "2023-04-04T12:24:19.562Z"
      },
      {
        "duration": 472,
        "start_time": "2023-04-04T12:24:27.624Z"
      },
      {
        "duration": 10836,
        "start_time": "2023-04-04T12:24:53.329Z"
      },
      {
        "duration": 7,
        "start_time": "2023-04-04T12:32:03.416Z"
      },
      {
        "duration": 54,
        "start_time": "2023-04-04T12:32:03.426Z"
      },
      {
        "duration": 15,
        "start_time": "2023-04-04T12:32:03.482Z"
      },
      {
        "duration": 15,
        "start_time": "2023-04-04T12:32:03.499Z"
      },
      {
        "duration": 50,
        "start_time": "2023-04-04T12:32:03.517Z"
      },
      {
        "duration": 1020,
        "start_time": "2023-04-04T12:32:03.569Z"
      },
      {
        "duration": 7,
        "start_time": "2023-04-04T12:32:04.591Z"
      },
      {
        "duration": 7,
        "start_time": "2023-04-04T12:32:04.600Z"
      },
      {
        "duration": 33,
        "start_time": "2023-04-04T12:32:04.608Z"
      },
      {
        "duration": 17,
        "start_time": "2023-04-04T12:32:04.643Z"
      },
      {
        "duration": 4,
        "start_time": "2023-04-04T12:32:04.662Z"
      },
      {
        "duration": 28,
        "start_time": "2023-04-04T12:32:04.668Z"
      },
      {
        "duration": 19,
        "start_time": "2023-04-04T12:32:04.697Z"
      },
      {
        "duration": 4,
        "start_time": "2023-04-04T12:32:04.718Z"
      },
      {
        "duration": 19,
        "start_time": "2023-04-04T12:32:04.723Z"
      },
      {
        "duration": 4,
        "start_time": "2023-04-04T12:32:04.744Z"
      },
      {
        "duration": 29,
        "start_time": "2023-04-04T12:32:04.790Z"
      },
      {
        "duration": 81,
        "start_time": "2023-04-04T12:32:04.821Z"
      },
      {
        "duration": 445,
        "start_time": "2023-04-04T12:32:09.606Z"
      },
      {
        "duration": 10358,
        "start_time": "2023-04-04T12:32:40.733Z"
      },
      {
        "duration": 446,
        "start_time": "2023-04-04T12:37:49.297Z"
      },
      {
        "duration": 449,
        "start_time": "2023-04-04T12:38:41.804Z"
      },
      {
        "duration": 10189,
        "start_time": "2023-04-04T12:39:31.439Z"
      },
      {
        "duration": 10415,
        "start_time": "2023-04-04T12:40:17.323Z"
      },
      {
        "duration": 10082,
        "start_time": "2023-04-04T12:42:18.748Z"
      },
      {
        "duration": 9975,
        "start_time": "2023-04-04T12:43:40.746Z"
      },
      {
        "duration": 424,
        "start_time": "2023-04-04T12:49:14.080Z"
      },
      {
        "duration": 9021,
        "start_time": "2023-04-04T12:50:31.541Z"
      },
      {
        "duration": 6223,
        "start_time": "2023-04-04T12:50:50.760Z"
      },
      {
        "duration": 10263,
        "start_time": "2023-04-04T12:50:59.630Z"
      },
      {
        "duration": 10180,
        "start_time": "2023-04-04T12:52:07.126Z"
      },
      {
        "duration": 17600,
        "start_time": "2023-04-04T12:52:26.638Z"
      },
      {
        "duration": 18024,
        "start_time": "2023-04-04T12:53:01.829Z"
      },
      {
        "duration": 3822,
        "start_time": "2023-04-04T12:53:19.855Z"
      },
      {
        "duration": 3287,
        "start_time": "2023-04-04T12:56:12.409Z"
      },
      {
        "duration": 7602,
        "start_time": "2023-04-04T12:56:25.497Z"
      },
      {
        "duration": 13816,
        "start_time": "2023-04-04T12:56:43.899Z"
      },
      {
        "duration": 32,
        "start_time": "2023-04-04T12:58:17.927Z"
      },
      {
        "duration": 6,
        "start_time": "2023-04-04T12:58:52.562Z"
      },
      {
        "duration": 59,
        "start_time": "2023-04-04T12:58:52.570Z"
      },
      {
        "duration": 16,
        "start_time": "2023-04-04T12:58:52.631Z"
      },
      {
        "duration": 13,
        "start_time": "2023-04-04T12:58:52.649Z"
      },
      {
        "duration": 42,
        "start_time": "2023-04-04T12:58:52.665Z"
      },
      {
        "duration": 1040,
        "start_time": "2023-04-04T12:58:52.709Z"
      },
      {
        "duration": 8,
        "start_time": "2023-04-04T12:58:53.751Z"
      },
      {
        "duration": 6,
        "start_time": "2023-04-04T12:58:53.760Z"
      },
      {
        "duration": 33,
        "start_time": "2023-04-04T12:58:53.768Z"
      },
      {
        "duration": 10,
        "start_time": "2023-04-04T12:58:53.803Z"
      },
      {
        "duration": 19,
        "start_time": "2023-04-04T12:58:53.815Z"
      },
      {
        "duration": 19,
        "start_time": "2023-04-04T12:58:53.836Z"
      },
      {
        "duration": 19,
        "start_time": "2023-04-04T12:58:53.857Z"
      },
      {
        "duration": 13,
        "start_time": "2023-04-04T12:58:53.878Z"
      },
      {
        "duration": 19,
        "start_time": "2023-04-04T12:58:53.893Z"
      },
      {
        "duration": 5,
        "start_time": "2023-04-04T12:58:53.915Z"
      },
      {
        "duration": 38,
        "start_time": "2023-04-04T12:58:53.921Z"
      },
      {
        "duration": 41,
        "start_time": "2023-04-04T12:58:53.961Z"
      },
      {
        "duration": 624,
        "start_time": "2023-04-04T12:58:54.004Z"
      },
      {
        "duration": 16770,
        "start_time": "2023-04-04T12:58:54.630Z"
      },
      {
        "duration": 13924,
        "start_time": "2023-04-04T12:59:11.402Z"
      },
      {
        "duration": 6,
        "start_time": "2023-04-04T12:59:25.328Z"
      },
      {
        "duration": 10,
        "start_time": "2023-04-04T12:59:25.336Z"
      },
      {
        "duration": 28,
        "start_time": "2023-04-04T12:59:25.349Z"
      },
      {
        "duration": 47,
        "start_time": "2023-04-04T12:59:25.379Z"
      },
      {
        "duration": 561,
        "start_time": "2023-04-04T12:59:40.345Z"
      },
      {
        "duration": 23417,
        "start_time": "2023-04-04T13:00:33.418Z"
      },
      {
        "duration": 13635,
        "start_time": "2023-04-04T13:01:41.179Z"
      },
      {
        "duration": 12,
        "start_time": "2023-04-04T13:03:49.708Z"
      },
      {
        "duration": 18912,
        "start_time": "2023-04-04T13:06:09.932Z"
      },
      {
        "duration": 18419,
        "start_time": "2023-04-04T13:08:07.430Z"
      },
      {
        "duration": 18827,
        "start_time": "2023-04-04T13:10:45.579Z"
      },
      {
        "duration": 88,
        "start_time": "2023-04-04T13:15:18.703Z"
      },
      {
        "duration": 564,
        "start_time": "2023-04-04T13:15:34.319Z"
      },
      {
        "duration": 6417,
        "start_time": "2023-04-04T13:15:48.378Z"
      },
      {
        "duration": 23774,
        "start_time": "2023-04-04T13:16:12.641Z"
      },
      {
        "duration": 4174,
        "start_time": "2023-04-04T13:17:48.450Z"
      },
      {
        "duration": 4086,
        "start_time": "2023-04-04T13:20:50.442Z"
      },
      {
        "duration": 107181,
        "start_time": "2023-04-04T13:21:36.243Z"
      },
      {
        "duration": 105688,
        "start_time": "2023-04-04T13:25:57.349Z"
      },
      {
        "duration": 1808,
        "start_time": "2023-04-05T06:55:06.328Z"
      },
      {
        "duration": 126,
        "start_time": "2023-04-05T06:55:12.974Z"
      },
      {
        "duration": 28,
        "start_time": "2023-04-05T06:55:15.937Z"
      },
      {
        "duration": 5,
        "start_time": "2023-04-05T06:55:24.467Z"
      },
      {
        "duration": 24,
        "start_time": "2023-04-05T06:55:26.298Z"
      },
      {
        "duration": 912,
        "start_time": "2023-04-05T06:55:32.274Z"
      },
      {
        "duration": 6,
        "start_time": "2023-04-05T06:55:42.017Z"
      },
      {
        "duration": 5,
        "start_time": "2023-04-05T06:55:43.270Z"
      },
      {
        "duration": 11,
        "start_time": "2023-04-05T06:55:48.186Z"
      },
      {
        "duration": 12,
        "start_time": "2023-04-05T06:55:56.668Z"
      },
      {
        "duration": 3,
        "start_time": "2023-04-05T06:55:57.571Z"
      },
      {
        "duration": 12,
        "start_time": "2023-04-05T06:55:59.106Z"
      },
      {
        "duration": 37,
        "start_time": "2023-04-05T06:56:04.434Z"
      },
      {
        "duration": 22,
        "start_time": "2023-04-05T06:56:07.138Z"
      },
      {
        "duration": 208,
        "start_time": "2023-04-05T06:56:51.357Z"
      },
      {
        "duration": 18,
        "start_time": "2023-04-05T06:57:11.685Z"
      },
      {
        "duration": 4,
        "start_time": "2023-04-05T06:57:20.871Z"
      },
      {
        "duration": 30,
        "start_time": "2023-04-05T06:57:24.484Z"
      },
      {
        "duration": 19,
        "start_time": "2023-04-05T06:57:35.968Z"
      },
      {
        "duration": 446,
        "start_time": "2023-04-05T06:57:37.618Z"
      },
      {
        "duration": 17153,
        "start_time": "2023-04-05T06:57:44.779Z"
      },
      {
        "duration": 8574,
        "start_time": "2023-04-05T06:58:24.798Z"
      },
      {
        "duration": 13435,
        "start_time": "2023-04-05T06:58:43.465Z"
      },
      {
        "duration": 6,
        "start_time": "2023-04-05T07:09:00.075Z"
      },
      {
        "duration": 5,
        "start_time": "2023-04-05T07:13:38.484Z"
      },
      {
        "duration": 8,
        "start_time": "2023-04-05T07:13:52.274Z"
      },
      {
        "duration": 24,
        "start_time": "2023-04-05T07:14:36.033Z"
      },
      {
        "duration": 8,
        "start_time": "2023-04-05T07:14:52.129Z"
      },
      {
        "duration": 29,
        "start_time": "2023-04-05T07:15:29.290Z"
      },
      {
        "duration": 17,
        "start_time": "2023-04-05T07:15:33.640Z"
      },
      {
        "duration": 484,
        "start_time": "2023-04-05T07:16:11.424Z"
      },
      {
        "duration": 458,
        "start_time": "2023-04-05T07:16:33.276Z"
      },
      {
        "duration": 19357,
        "start_time": "2023-04-05T07:16:41.088Z"
      },
      {
        "duration": 17295,
        "start_time": "2023-04-05T07:17:46.018Z"
      },
      {
        "duration": 5,
        "start_time": "2023-04-05T07:18:21.707Z"
      },
      {
        "duration": 5,
        "start_time": "2023-04-05T07:18:23.495Z"
      },
      {
        "duration": 19,
        "start_time": "2023-04-05T07:18:25.618Z"
      },
      {
        "duration": 158,
        "start_time": "2023-04-05T07:18:28.232Z"
      },
      {
        "duration": 61,
        "start_time": "2023-04-05T07:19:01.592Z"
      },
      {
        "duration": 8,
        "start_time": "2023-04-05T07:19:04.895Z"
      },
      {
        "duration": 14,
        "start_time": "2023-04-05T07:26:58.025Z"
      },
      {
        "duration": 288,
        "start_time": "2023-04-05T07:30:34.531Z"
      },
      {
        "duration": 8723,
        "start_time": "2023-04-05T07:33:24.467Z"
      },
      {
        "duration": 69,
        "start_time": "2023-04-05T07:34:14.030Z"
      },
      {
        "duration": 12,
        "start_time": "2023-04-05T07:34:14.868Z"
      },
      {
        "duration": 2820,
        "start_time": "2023-04-05T07:34:26.771Z"
      },
      {
        "duration": 0,
        "start_time": "2023-04-05T07:34:29.594Z"
      },
      {
        "duration": 0,
        "start_time": "2023-04-05T07:34:29.595Z"
      },
      {
        "duration": 0,
        "start_time": "2023-04-05T07:34:29.596Z"
      },
      {
        "duration": 0,
        "start_time": "2023-04-05T07:34:29.598Z"
      },
      {
        "duration": 0,
        "start_time": "2023-04-05T07:34:29.599Z"
      },
      {
        "duration": 0,
        "start_time": "2023-04-05T07:34:29.600Z"
      },
      {
        "duration": 0,
        "start_time": "2023-04-05T07:34:29.601Z"
      },
      {
        "duration": 0,
        "start_time": "2023-04-05T07:34:29.603Z"
      },
      {
        "duration": 0,
        "start_time": "2023-04-05T07:34:29.604Z"
      },
      {
        "duration": 0,
        "start_time": "2023-04-05T07:34:29.605Z"
      },
      {
        "duration": 0,
        "start_time": "2023-04-05T07:34:29.606Z"
      },
      {
        "duration": 0,
        "start_time": "2023-04-05T07:34:29.607Z"
      },
      {
        "duration": 0,
        "start_time": "2023-04-05T07:34:29.608Z"
      },
      {
        "duration": 0,
        "start_time": "2023-04-05T07:34:29.609Z"
      },
      {
        "duration": 0,
        "start_time": "2023-04-05T07:34:29.611Z"
      },
      {
        "duration": 0,
        "start_time": "2023-04-05T07:34:29.612Z"
      },
      {
        "duration": 0,
        "start_time": "2023-04-05T07:34:29.613Z"
      },
      {
        "duration": 0,
        "start_time": "2023-04-05T07:34:29.614Z"
      },
      {
        "duration": 0,
        "start_time": "2023-04-05T07:34:29.615Z"
      },
      {
        "duration": 0,
        "start_time": "2023-04-05T07:34:29.616Z"
      },
      {
        "duration": 0,
        "start_time": "2023-04-05T07:34:29.617Z"
      },
      {
        "duration": 0,
        "start_time": "2023-04-05T07:34:29.618Z"
      },
      {
        "duration": 0,
        "start_time": "2023-04-05T07:34:29.619Z"
      },
      {
        "duration": 0,
        "start_time": "2023-04-05T07:34:29.620Z"
      },
      {
        "duration": 0,
        "start_time": "2023-04-05T07:34:29.622Z"
      },
      {
        "duration": 0,
        "start_time": "2023-04-05T07:34:29.623Z"
      },
      {
        "duration": 0,
        "start_time": "2023-04-05T07:34:29.624Z"
      },
      {
        "duration": 0,
        "start_time": "2023-04-05T07:34:29.625Z"
      },
      {
        "duration": 0,
        "start_time": "2023-04-05T07:34:29.640Z"
      },
      {
        "duration": 0,
        "start_time": "2023-04-05T07:34:29.641Z"
      },
      {
        "duration": 2877,
        "start_time": "2023-04-05T07:34:57.588Z"
      },
      {
        "duration": 65,
        "start_time": "2023-04-05T07:35:05.035Z"
      },
      {
        "duration": 12,
        "start_time": "2023-04-05T07:35:08.219Z"
      },
      {
        "duration": 17,
        "start_time": "2023-04-05T07:35:14.036Z"
      },
      {
        "duration": 31,
        "start_time": "2023-04-05T07:35:14.923Z"
      },
      {
        "duration": 943,
        "start_time": "2023-04-05T07:35:18.395Z"
      },
      {
        "duration": 6,
        "start_time": "2023-04-05T07:35:23.132Z"
      },
      {
        "duration": 5,
        "start_time": "2023-04-05T07:35:23.883Z"
      },
      {
        "duration": 13,
        "start_time": "2023-04-05T07:35:24.718Z"
      },
      {
        "duration": 8,
        "start_time": "2023-04-05T07:35:28.587Z"
      },
      {
        "duration": 3,
        "start_time": "2023-04-05T07:35:29.188Z"
      },
      {
        "duration": 15,
        "start_time": "2023-04-05T07:35:32.996Z"
      },
      {
        "duration": 22,
        "start_time": "2023-04-05T07:35:38.124Z"
      },
      {
        "duration": 3,
        "start_time": "2023-04-05T07:35:40.084Z"
      },
      {
        "duration": 15,
        "start_time": "2023-04-05T07:35:43.567Z"
      },
      {
        "duration": 5,
        "start_time": "2023-04-05T07:35:46.379Z"
      },
      {
        "duration": 41,
        "start_time": "2023-04-05T07:35:49.436Z"
      },
      {
        "duration": 41,
        "start_time": "2023-04-05T07:35:53.435Z"
      },
      {
        "duration": 7,
        "start_time": "2023-04-05T07:35:56.780Z"
      },
      {
        "duration": 496,
        "start_time": "2023-04-05T07:41:02.678Z"
      },
      {
        "duration": 17510,
        "start_time": "2023-04-05T07:41:06.502Z"
      },
      {
        "duration": 13410,
        "start_time": "2023-04-05T07:41:30.871Z"
      },
      {
        "duration": 6,
        "start_time": "2023-04-05T07:41:46.701Z"
      },
      {
        "duration": 4,
        "start_time": "2023-04-05T07:41:52.471Z"
      },
      {
        "duration": 11,
        "start_time": "2023-04-05T07:41:54.927Z"
      },
      {
        "duration": 45,
        "start_time": "2023-04-05T07:41:59.510Z"
      },
      {
        "duration": 6,
        "start_time": "2023-04-05T07:42:07.874Z"
      },
      {
        "duration": 650,
        "start_time": "2023-04-05T07:42:22.925Z"
      },
      {
        "duration": 15233,
        "start_time": "2023-04-05T07:42:27.975Z"
      },
      {
        "duration": 24427,
        "start_time": "2023-04-05T07:43:18.377Z"
      },
      {
        "duration": 4490,
        "start_time": "2023-04-05T07:43:46.475Z"
      },
      {
        "duration": 109025,
        "start_time": "2023-04-05T07:44:01.200Z"
      },
      {
        "duration": 10,
        "start_time": "2023-04-05T07:51:34.765Z"
      },
      {
        "duration": 21,
        "start_time": "2023-04-05T07:52:50.596Z"
      },
      {
        "duration": 8,
        "start_time": "2023-04-05T07:53:27.668Z"
      },
      {
        "duration": 2665,
        "start_time": "2023-04-05T07:53:31.211Z"
      },
      {
        "duration": 35,
        "start_time": "2023-04-05T07:53:46.138Z"
      },
      {
        "duration": 14,
        "start_time": "2023-04-05T07:54:27.882Z"
      },
      {
        "duration": 9,
        "start_time": "2023-04-05T07:55:04.107Z"
      },
      {
        "duration": 129,
        "start_time": "2023-04-05T07:57:43.277Z"
      },
      {
        "duration": 27,
        "start_time": "2023-04-05T07:59:34.732Z"
      },
      {
        "duration": 35,
        "start_time": "2023-04-05T07:59:54.740Z"
      },
      {
        "duration": 4,
        "start_time": "2023-04-05T08:15:32.201Z"
      },
      {
        "duration": 14,
        "start_time": "2023-04-05T08:16:16.323Z"
      },
      {
        "duration": 16,
        "start_time": "2023-04-05T08:17:44.884Z"
      },
      {
        "duration": 296,
        "start_time": "2023-04-05T08:19:52.464Z"
      },
      {
        "duration": 48300,
        "start_time": "2023-04-05T08:23:35.102Z"
      },
      {
        "duration": 93,
        "start_time": "2023-04-05T08:28:38.664Z"
      },
      {
        "duration": 107846,
        "start_time": "2023-04-05T08:28:45.864Z"
      },
      {
        "duration": 7,
        "start_time": "2023-04-05T08:31:45.210Z"
      },
      {
        "duration": 6,
        "start_time": "2023-04-05T08:32:03.834Z"
      },
      {
        "duration": 14,
        "start_time": "2023-04-05T08:33:41.588Z"
      },
      {
        "duration": 13,
        "start_time": "2023-04-05T08:33:49.807Z"
      },
      {
        "duration": 7,
        "start_time": "2023-04-05T08:50:07.184Z"
      },
      {
        "duration": 17,
        "start_time": "2023-04-05T08:50:47.681Z"
      },
      {
        "duration": 14,
        "start_time": "2023-04-05T08:50:52.191Z"
      },
      {
        "duration": 17,
        "start_time": "2023-04-05T08:50:56.878Z"
      },
      {
        "duration": 18,
        "start_time": "2023-04-05T08:51:00.673Z"
      },
      {
        "duration": 22,
        "start_time": "2023-04-05T08:51:04.866Z"
      },
      {
        "duration": 14,
        "start_time": "2023-04-05T08:51:08.577Z"
      },
      {
        "duration": 13,
        "start_time": "2023-04-05T08:51:13.299Z"
      },
      {
        "duration": 17,
        "start_time": "2023-04-05T08:51:17.215Z"
      },
      {
        "duration": 7,
        "start_time": "2023-04-05T08:51:40.581Z"
      },
      {
        "duration": 64,
        "start_time": "2023-04-05T08:51:40.589Z"
      },
      {
        "duration": 19,
        "start_time": "2023-04-05T08:51:40.655Z"
      },
      {
        "duration": 4,
        "start_time": "2023-04-05T08:51:40.676Z"
      },
      {
        "duration": 32,
        "start_time": "2023-04-05T08:51:40.681Z"
      },
      {
        "duration": 974,
        "start_time": "2023-04-05T08:51:40.714Z"
      },
      {
        "duration": 8,
        "start_time": "2023-04-05T08:51:41.690Z"
      },
      {
        "duration": 12,
        "start_time": "2023-04-05T08:51:41.699Z"
      },
      {
        "duration": 47,
        "start_time": "2023-04-05T08:51:41.713Z"
      },
      {
        "duration": 8,
        "start_time": "2023-04-05T08:51:41.763Z"
      },
      {
        "duration": 10,
        "start_time": "2023-04-05T08:51:41.772Z"
      },
      {
        "duration": 15,
        "start_time": "2023-04-05T08:51:41.783Z"
      },
      {
        "duration": 18,
        "start_time": "2023-04-05T08:51:41.800Z"
      },
      {
        "duration": 4,
        "start_time": "2023-04-05T08:51:41.820Z"
      },
      {
        "duration": 44,
        "start_time": "2023-04-05T08:51:41.826Z"
      },
      {
        "duration": 6,
        "start_time": "2023-04-05T08:51:41.872Z"
      },
      {
        "duration": 24,
        "start_time": "2023-04-05T08:51:41.880Z"
      },
      {
        "duration": 144,
        "start_time": "2023-04-05T08:51:41.906Z"
      },
      {
        "duration": 19,
        "start_time": "2023-04-05T08:51:42.056Z"
      },
      {
        "duration": 517,
        "start_time": "2023-04-05T08:51:42.080Z"
      },
      {
        "duration": 18363,
        "start_time": "2023-04-05T08:51:42.598Z"
      },
      {
        "duration": 14108,
        "start_time": "2023-04-05T08:52:00.963Z"
      },
      {
        "duration": 8,
        "start_time": "2023-04-05T08:52:15.074Z"
      },
      {
        "duration": 10,
        "start_time": "2023-04-05T08:52:15.084Z"
      },
      {
        "duration": 16,
        "start_time": "2023-04-05T08:52:15.096Z"
      },
      {
        "duration": 60,
        "start_time": "2023-04-05T08:52:15.114Z"
      },
      {
        "duration": 78,
        "start_time": "2023-04-05T08:52:15.175Z"
      },
      {
        "duration": 686,
        "start_time": "2023-04-05T08:52:15.258Z"
      },
      {
        "duration": 25112,
        "start_time": "2023-04-05T08:52:15.947Z"
      },
      {
        "duration": 4431,
        "start_time": "2023-04-05T08:52:41.064Z"
      },
      {
        "duration": 110044,
        "start_time": "2023-04-05T08:52:45.496Z"
      },
      {
        "duration": 8,
        "start_time": "2023-04-05T08:54:35.554Z"
      },
      {
        "duration": 20,
        "start_time": "2023-04-05T08:54:35.563Z"
      },
      {
        "duration": 62,
        "start_time": "2023-04-05T08:54:35.585Z"
      },
      {
        "duration": 334,
        "start_time": "2023-04-05T08:54:35.654Z"
      },
      {
        "duration": 45214,
        "start_time": "2023-04-05T08:54:35.990Z"
      },
      {
        "duration": 12,
        "start_time": "2023-04-05T08:55:38.411Z"
      },
      {
        "duration": 44747,
        "start_time": "2023-04-05T08:56:11.206Z"
      },
      {
        "duration": 466,
        "start_time": "2023-04-05T09:09:09.377Z"
      },
      {
        "duration": 12,
        "start_time": "2023-04-05T09:14:51.496Z"
      },
      {
        "duration": 205,
        "start_time": "2023-04-05T09:15:30.080Z"
      },
      {
        "duration": 82835,
        "start_time": "2023-04-05T09:18:41.189Z"
      },
      {
        "duration": 113,
        "start_time": "2023-04-05T09:29:22.664Z"
      },
      {
        "duration": 108,
        "start_time": "2023-04-05T09:30:36.108Z"
      },
      {
        "duration": 15,
        "start_time": "2023-04-05T09:30:41.100Z"
      },
      {
        "duration": 108,
        "start_time": "2023-04-05T09:31:14.670Z"
      },
      {
        "duration": 148,
        "start_time": "2023-04-05T09:31:24.770Z"
      },
      {
        "duration": 130,
        "start_time": "2023-04-05T09:31:42.093Z"
      },
      {
        "duration": 108,
        "start_time": "2023-04-05T09:32:02.208Z"
      },
      {
        "duration": 129,
        "start_time": "2023-04-05T09:32:08.679Z"
      },
      {
        "duration": 127,
        "start_time": "2023-04-05T09:32:21.171Z"
      },
      {
        "duration": 479,
        "start_time": "2023-04-05T09:33:49.384Z"
      },
      {
        "duration": 142,
        "start_time": "2023-04-05T09:33:50.979Z"
      },
      {
        "duration": 82596,
        "start_time": "2023-04-05T09:34:08.879Z"
      },
      {
        "duration": 161,
        "start_time": "2023-04-05T09:36:00.987Z"
      },
      {
        "duration": 52,
        "start_time": "2023-04-05T09:38:33.129Z"
      },
      {
        "duration": 135,
        "start_time": "2023-04-05T09:38:48.218Z"
      },
      {
        "duration": 132,
        "start_time": "2023-04-05T09:42:09.418Z"
      },
      {
        "duration": 6,
        "start_time": "2023-04-05T09:42:37.087Z"
      },
      {
        "duration": 199,
        "start_time": "2023-04-05T09:42:49.516Z"
      },
      {
        "duration": 42,
        "start_time": "2023-04-05T09:52:18.309Z"
      },
      {
        "duration": 589,
        "start_time": "2023-04-05T09:53:34.376Z"
      },
      {
        "duration": 337,
        "start_time": "2023-04-05T09:53:54.871Z"
      },
      {
        "duration": 25251,
        "start_time": "2023-04-05T09:55:20.034Z"
      },
      {
        "duration": 153,
        "start_time": "2023-04-05T09:55:54.985Z"
      },
      {
        "duration": 4701,
        "start_time": "2023-04-05T09:56:48.074Z"
      },
      {
        "duration": 166,
        "start_time": "2023-04-05T09:57:06.374Z"
      },
      {
        "duration": 4969,
        "start_time": "2023-04-05T09:57:44.592Z"
      },
      {
        "duration": 110657,
        "start_time": "2023-04-05T09:58:00.833Z"
      },
      {
        "duration": 181,
        "start_time": "2023-04-05T10:00:04.129Z"
      },
      {
        "duration": 28,
        "start_time": "2023-04-05T10:00:46.884Z"
      },
      {
        "duration": 158,
        "start_time": "2023-04-05T10:01:02.547Z"
      },
      {
        "duration": 338,
        "start_time": "2023-04-05T10:01:30.923Z"
      },
      {
        "duration": 167,
        "start_time": "2023-04-05T10:01:41.271Z"
      },
      {
        "duration": 55408,
        "start_time": "2023-04-05T10:02:09.219Z"
      },
      {
        "duration": 220,
        "start_time": "2023-04-05T10:03:29.168Z"
      },
      {
        "duration": 87401,
        "start_time": "2023-04-05T10:15:29.117Z"
      },
      {
        "duration": 82366,
        "start_time": "2023-04-05T10:18:19.827Z"
      },
      {
        "duration": 181,
        "start_time": "2023-04-05T10:19:53.435Z"
      },
      {
        "duration": 677,
        "start_time": "2023-04-05T10:26:50.519Z"
      },
      {
        "duration": 21744,
        "start_time": "2023-04-05T10:27:27.609Z"
      },
      {
        "duration": 6928,
        "start_time": "2023-04-05T10:27:55.549Z"
      },
      {
        "duration": 15309,
        "start_time": "2023-04-05T10:28:21.287Z"
      },
      {
        "duration": 189,
        "start_time": "2023-04-05T10:39:03.772Z"
      },
      {
        "duration": 153,
        "start_time": "2023-04-05T10:39:42.386Z"
      },
      {
        "duration": 310,
        "start_time": "2023-04-05T10:42:05.205Z"
      },
      {
        "duration": 148,
        "start_time": "2023-04-05T10:42:18.780Z"
      },
      {
        "duration": 83,
        "start_time": "2023-04-05T10:44:29.290Z"
      },
      {
        "duration": 148,
        "start_time": "2023-04-05T10:44:54.085Z"
      },
      {
        "duration": 14,
        "start_time": "2023-04-05T10:49:37.577Z"
      },
      {
        "duration": 71,
        "start_time": "2023-04-05T10:50:20.615Z"
      },
      {
        "duration": 168,
        "start_time": "2023-04-05T10:50:26.538Z"
      },
      {
        "duration": 12,
        "start_time": "2023-04-05T10:54:35.720Z"
      },
      {
        "duration": 8,
        "start_time": "2023-04-05T10:54:56.497Z"
      },
      {
        "duration": 365,
        "start_time": "2023-04-05T10:55:20.992Z"
      },
      {
        "duration": 8,
        "start_time": "2023-04-05T11:00:28.109Z"
      },
      {
        "duration": 76,
        "start_time": "2023-04-05T11:00:28.119Z"
      },
      {
        "duration": 13,
        "start_time": "2023-04-05T11:00:28.196Z"
      },
      {
        "duration": 5,
        "start_time": "2023-04-05T11:00:28.211Z"
      },
      {
        "duration": 20,
        "start_time": "2023-04-05T11:00:28.218Z"
      },
      {
        "duration": 935,
        "start_time": "2023-04-05T11:00:28.239Z"
      },
      {
        "duration": 6,
        "start_time": "2023-04-05T11:00:29.175Z"
      },
      {
        "duration": 5,
        "start_time": "2023-04-05T11:00:29.183Z"
      },
      {
        "duration": 12,
        "start_time": "2023-04-05T11:00:29.190Z"
      },
      {
        "duration": 7,
        "start_time": "2023-04-05T11:00:29.204Z"
      },
      {
        "duration": 48,
        "start_time": "2023-04-05T11:00:29.213Z"
      },
      {
        "duration": 15,
        "start_time": "2023-04-05T11:00:29.262Z"
      },
      {
        "duration": 21,
        "start_time": "2023-04-05T11:00:29.279Z"
      },
      {
        "duration": 3,
        "start_time": "2023-04-05T11:00:29.302Z"
      },
      {
        "duration": 18,
        "start_time": "2023-04-05T11:00:29.307Z"
      },
      {
        "duration": 4,
        "start_time": "2023-04-05T11:00:29.326Z"
      },
      {
        "duration": 43,
        "start_time": "2023-04-05T11:00:29.340Z"
      },
      {
        "duration": 63,
        "start_time": "2023-04-05T11:00:29.385Z"
      },
      {
        "duration": 9,
        "start_time": "2023-04-05T11:00:29.450Z"
      },
      {
        "duration": 576,
        "start_time": "2023-04-05T11:00:29.461Z"
      },
      {
        "duration": 12396,
        "start_time": "2023-04-05T11:00:30.057Z"
      },
      {
        "duration": 0,
        "start_time": "2023-04-05T11:00:42.465Z"
      },
      {
        "duration": 0,
        "start_time": "2023-04-05T11:00:42.466Z"
      },
      {
        "duration": 0,
        "start_time": "2023-04-05T11:00:42.467Z"
      },
      {
        "duration": 0,
        "start_time": "2023-04-05T11:00:42.467Z"
      },
      {
        "duration": 0,
        "start_time": "2023-04-05T11:00:42.468Z"
      },
      {
        "duration": 0,
        "start_time": "2023-04-05T11:00:42.468Z"
      },
      {
        "duration": 0,
        "start_time": "2023-04-05T11:00:42.468Z"
      },
      {
        "duration": 0,
        "start_time": "2023-04-05T11:00:42.469Z"
      },
      {
        "duration": 0,
        "start_time": "2023-04-05T11:00:42.472Z"
      },
      {
        "duration": 0,
        "start_time": "2023-04-05T11:00:42.473Z"
      },
      {
        "duration": 0,
        "start_time": "2023-04-05T11:00:42.474Z"
      },
      {
        "duration": 0,
        "start_time": "2023-04-05T11:00:42.475Z"
      },
      {
        "duration": 0,
        "start_time": "2023-04-05T11:00:42.475Z"
      },
      {
        "duration": 0,
        "start_time": "2023-04-05T11:00:42.477Z"
      },
      {
        "duration": 0,
        "start_time": "2023-04-05T11:00:42.478Z"
      },
      {
        "duration": 0,
        "start_time": "2023-04-05T11:00:42.480Z"
      },
      {
        "duration": 0,
        "start_time": "2023-04-05T11:00:42.482Z"
      },
      {
        "duration": 0,
        "start_time": "2023-04-05T11:00:42.483Z"
      },
      {
        "duration": 0,
        "start_time": "2023-04-05T11:00:42.484Z"
      },
      {
        "duration": 0,
        "start_time": "2023-04-05T11:00:42.485Z"
      },
      {
        "duration": 0,
        "start_time": "2023-04-05T11:00:42.486Z"
      },
      {
        "duration": 0,
        "start_time": "2023-04-05T11:00:42.487Z"
      },
      {
        "duration": 0,
        "start_time": "2023-04-05T11:00:42.488Z"
      },
      {
        "duration": 0,
        "start_time": "2023-04-05T11:00:42.489Z"
      },
      {
        "duration": 0,
        "start_time": "2023-04-05T11:00:42.490Z"
      },
      {
        "duration": 0,
        "start_time": "2023-04-05T11:00:42.491Z"
      },
      {
        "duration": 0,
        "start_time": "2023-04-05T11:00:42.492Z"
      },
      {
        "duration": 0,
        "start_time": "2023-04-05T11:00:42.493Z"
      },
      {
        "duration": 0,
        "start_time": "2023-04-05T11:00:42.494Z"
      },
      {
        "duration": 0,
        "start_time": "2023-04-05T11:00:42.495Z"
      },
      {
        "duration": 0,
        "start_time": "2023-04-05T11:00:42.496Z"
      },
      {
        "duration": 7,
        "start_time": "2023-04-05T11:01:12.790Z"
      },
      {
        "duration": 115,
        "start_time": "2023-04-05T11:01:12.799Z"
      },
      {
        "duration": 11,
        "start_time": "2023-04-05T11:01:12.916Z"
      },
      {
        "duration": 5,
        "start_time": "2023-04-05T11:01:12.930Z"
      },
      {
        "duration": 41,
        "start_time": "2023-04-05T11:01:12.936Z"
      },
      {
        "duration": 916,
        "start_time": "2023-04-05T11:01:12.979Z"
      },
      {
        "duration": 7,
        "start_time": "2023-04-05T11:01:13.897Z"
      },
      {
        "duration": 14,
        "start_time": "2023-04-05T11:01:13.905Z"
      },
      {
        "duration": 44,
        "start_time": "2023-04-05T11:01:13.921Z"
      },
      {
        "duration": 9,
        "start_time": "2023-04-05T11:01:13.978Z"
      },
      {
        "duration": 4,
        "start_time": "2023-04-05T11:01:13.989Z"
      },
      {
        "duration": 13,
        "start_time": "2023-04-05T11:01:13.995Z"
      },
      {
        "duration": 17,
        "start_time": "2023-04-05T11:01:14.010Z"
      },
      {
        "duration": 31,
        "start_time": "2023-04-05T11:01:14.029Z"
      },
      {
        "duration": 19,
        "start_time": "2023-04-05T11:01:14.070Z"
      },
      {
        "duration": 4,
        "start_time": "2023-04-05T11:01:14.091Z"
      },
      {
        "duration": 31,
        "start_time": "2023-04-05T11:01:14.097Z"
      },
      {
        "duration": 121,
        "start_time": "2023-04-05T11:01:14.130Z"
      },
      {
        "duration": 98,
        "start_time": "2023-04-05T11:01:14.255Z"
      },
      {
        "duration": 458,
        "start_time": "2023-04-05T11:01:14.366Z"
      },
      {
        "duration": 17715,
        "start_time": "2023-04-05T11:01:14.826Z"
      },
      {
        "duration": 13927,
        "start_time": "2023-04-05T11:01:32.543Z"
      },
      {
        "duration": 6,
        "start_time": "2023-04-05T11:01:46.471Z"
      },
      {
        "duration": 4,
        "start_time": "2023-04-05T11:01:46.478Z"
      },
      {
        "duration": 19,
        "start_time": "2023-04-05T11:01:46.483Z"
      },
      {
        "duration": 160,
        "start_time": "2023-04-05T11:01:46.504Z"
      },
      {
        "duration": 209,
        "start_time": "2023-04-05T11:01:46.666Z"
      },
      {
        "duration": 6,
        "start_time": "2023-04-05T11:01:46.878Z"
      },
      {
        "duration": 601,
        "start_time": "2023-04-05T11:01:46.886Z"
      },
      {
        "duration": 193,
        "start_time": "2023-04-05T11:01:47.489Z"
      },
      {
        "duration": 25505,
        "start_time": "2023-04-05T11:01:47.684Z"
      },
      {
        "duration": 4629,
        "start_time": "2023-04-05T11:02:13.191Z"
      },
      {
        "duration": 226,
        "start_time": "2023-04-05T11:02:17.823Z"
      },
      {
        "duration": 108664,
        "start_time": "2023-04-05T11:02:18.051Z"
      },
      {
        "duration": 167,
        "start_time": "2023-04-05T11:04:06.717Z"
      },
      {
        "duration": 6,
        "start_time": "2023-04-05T11:04:06.886Z"
      },
      {
        "duration": 17,
        "start_time": "2023-04-05T11:04:06.894Z"
      },
      {
        "duration": 48,
        "start_time": "2023-04-05T11:04:06.913Z"
      },
      {
        "duration": 320,
        "start_time": "2023-04-05T11:04:06.965Z"
      },
      {
        "duration": 250,
        "start_time": "2023-04-05T11:04:07.286Z"
      },
      {
        "duration": 132,
        "start_time": "2023-04-05T11:04:07.540Z"
      },
      {
        "duration": 45694,
        "start_time": "2023-04-05T11:04:07.674Z"
      },
      {
        "duration": 139,
        "start_time": "2023-04-05T11:04:53.371Z"
      },
      {
        "duration": 147,
        "start_time": "2023-04-05T11:04:53.511Z"
      },
      {
        "duration": 233,
        "start_time": "2023-04-05T11:04:53.665Z"
      },
      {
        "duration": 474,
        "start_time": "2023-04-05T11:04:53.899Z"
      },
      {
        "duration": 129,
        "start_time": "2023-04-05T11:04:54.375Z"
      },
      {
        "duration": 80769,
        "start_time": "2023-04-05T11:04:54.505Z"
      },
      {
        "duration": 145,
        "start_time": "2023-04-05T11:06:15.275Z"
      },
      {
        "duration": 8,
        "start_time": "2023-04-05T11:06:15.422Z"
      },
      {
        "duration": 371,
        "start_time": "2023-04-05T11:06:15.450Z"
      },
      {
        "duration": 398,
        "start_time": "2023-04-05T11:12:12.971Z"
      },
      {
        "duration": 82220,
        "start_time": "2023-04-05T11:13:24.900Z"
      },
      {
        "duration": 12,
        "start_time": "2023-04-05T11:20:02.034Z"
      },
      {
        "duration": 80,
        "start_time": "2023-04-05T11:20:02.055Z"
      },
      {
        "duration": 32,
        "start_time": "2023-04-05T11:20:02.137Z"
      },
      {
        "duration": 15,
        "start_time": "2023-04-05T11:20:02.179Z"
      },
      {
        "duration": 40,
        "start_time": "2023-04-05T11:20:02.196Z"
      },
      {
        "duration": 1100,
        "start_time": "2023-04-05T11:20:02.237Z"
      },
      {
        "duration": 25,
        "start_time": "2023-04-05T11:20:03.338Z"
      },
      {
        "duration": 9,
        "start_time": "2023-04-05T11:20:03.364Z"
      },
      {
        "duration": 15,
        "start_time": "2023-04-05T11:20:03.375Z"
      },
      {
        "duration": 8,
        "start_time": "2023-04-05T11:20:03.391Z"
      },
      {
        "duration": 15,
        "start_time": "2023-04-05T11:20:03.401Z"
      },
      {
        "duration": 63,
        "start_time": "2023-04-05T11:20:03.418Z"
      },
      {
        "duration": 25,
        "start_time": "2023-04-05T11:20:03.485Z"
      },
      {
        "duration": 3,
        "start_time": "2023-04-05T11:20:03.512Z"
      },
      {
        "duration": 19,
        "start_time": "2023-04-05T11:20:03.517Z"
      },
      {
        "duration": 16,
        "start_time": "2023-04-05T11:20:03.537Z"
      },
      {
        "duration": 57,
        "start_time": "2023-04-05T11:20:03.554Z"
      },
      {
        "duration": 56,
        "start_time": "2023-04-05T11:20:03.613Z"
      },
      {
        "duration": 94,
        "start_time": "2023-04-05T11:20:03.683Z"
      },
      {
        "duration": 494,
        "start_time": "2023-04-05T11:20:03.783Z"
      },
      {
        "duration": 19157,
        "start_time": "2023-04-05T11:20:04.281Z"
      },
      {
        "duration": 16673,
        "start_time": "2023-04-05T11:20:23.440Z"
      },
      {
        "duration": 12,
        "start_time": "2023-04-05T11:20:40.115Z"
      },
      {
        "duration": 35,
        "start_time": "2023-04-05T11:20:40.130Z"
      },
      {
        "duration": 34,
        "start_time": "2023-04-05T11:20:40.176Z"
      },
      {
        "duration": 46,
        "start_time": "2023-04-05T11:20:40.211Z"
      },
      {
        "duration": 339,
        "start_time": "2023-04-05T11:20:40.258Z"
      },
      {
        "duration": 11,
        "start_time": "2023-04-05T11:20:40.602Z"
      },
      {
        "duration": 645,
        "start_time": "2023-04-05T11:20:40.618Z"
      },
      {
        "duration": 156,
        "start_time": "2023-04-05T11:20:41.265Z"
      },
      {
        "duration": 31913,
        "start_time": "2023-04-05T11:20:41.424Z"
      },
      {
        "duration": 5722,
        "start_time": "2023-04-05T11:21:13.339Z"
      },
      {
        "duration": 225,
        "start_time": "2023-04-05T11:21:19.062Z"
      },
      {
        "duration": 124572,
        "start_time": "2023-04-05T11:21:19.292Z"
      },
      {
        "duration": 152,
        "start_time": "2023-04-05T11:23:23.868Z"
      },
      {
        "duration": 5,
        "start_time": "2023-04-05T11:23:24.022Z"
      },
      {
        "duration": 64,
        "start_time": "2023-04-05T11:23:24.029Z"
      },
      {
        "duration": 155,
        "start_time": "2023-04-05T11:23:24.098Z"
      },
      {
        "duration": 300,
        "start_time": "2023-04-05T11:23:24.258Z"
      },
      {
        "duration": 313,
        "start_time": "2023-04-05T11:23:24.562Z"
      },
      {
        "duration": 210,
        "start_time": "2023-04-05T11:23:24.882Z"
      },
      {
        "duration": 50932,
        "start_time": "2023-04-05T11:23:25.098Z"
      },
      {
        "duration": 149,
        "start_time": "2023-04-05T11:24:16.032Z"
      },
      {
        "duration": 98,
        "start_time": "2023-04-05T11:24:16.184Z"
      },
      {
        "duration": 241,
        "start_time": "2023-04-05T11:24:16.294Z"
      },
      {
        "duration": 529,
        "start_time": "2023-04-05T11:24:16.537Z"
      },
      {
        "duration": 136,
        "start_time": "2023-04-05T11:24:17.070Z"
      },
      {
        "duration": 87817,
        "start_time": "2023-04-05T11:24:17.208Z"
      },
      {
        "duration": 163,
        "start_time": "2023-04-05T11:25:45.026Z"
      },
      {
        "duration": 7,
        "start_time": "2023-04-05T11:25:45.191Z"
      },
      {
        "duration": 410,
        "start_time": "2023-04-05T11:25:45.200Z"
      },
      {
        "duration": 367,
        "start_time": "2023-04-05T11:38:30.566Z"
      },
      {
        "duration": 14,
        "start_time": "2023-04-05T11:38:58.879Z"
      },
      {
        "duration": 143,
        "start_time": "2023-04-05T11:39:10.525Z"
      },
      {
        "duration": 200,
        "start_time": "2023-04-05T11:40:34.410Z"
      },
      {
        "duration": 373,
        "start_time": "2023-04-05T11:40:52.425Z"
      },
      {
        "duration": 146,
        "start_time": "2023-04-05T11:40:55.384Z"
      },
      {
        "duration": 9,
        "start_time": "2023-04-05T11:58:31.385Z"
      },
      {
        "duration": 16,
        "start_time": "2023-04-05T11:58:36.736Z"
      },
      {
        "duration": 151,
        "start_time": "2023-04-05T12:51:54.013Z"
      },
      {
        "duration": 151,
        "start_time": "2023-04-05T12:52:04.905Z"
      },
      {
        "duration": 351,
        "start_time": "2023-04-05T12:52:11.728Z"
      },
      {
        "duration": 157,
        "start_time": "2023-04-05T12:52:29.882Z"
      },
      {
        "duration": 102,
        "start_time": "2023-04-05T12:53:11.650Z"
      },
      {
        "duration": 144,
        "start_time": "2023-04-05T12:53:23.353Z"
      },
      {
        "duration": 158,
        "start_time": "2023-04-05T12:54:43.388Z"
      },
      {
        "duration": 10,
        "start_time": "2023-04-05T12:55:34.174Z"
      },
      {
        "duration": 147,
        "start_time": "2023-04-05T12:55:37.980Z"
      },
      {
        "duration": 7,
        "start_time": "2023-04-05T13:00:36.874Z"
      },
      {
        "duration": 117,
        "start_time": "2023-04-05T13:02:07.959Z"
      },
      {
        "duration": 19,
        "start_time": "2023-04-05T13:02:18.704Z"
      },
      {
        "duration": 9,
        "start_time": "2023-04-05T13:02:31.361Z"
      },
      {
        "duration": 65,
        "start_time": "2023-04-05T13:02:31.372Z"
      },
      {
        "duration": 16,
        "start_time": "2023-04-05T13:02:31.439Z"
      },
      {
        "duration": 15,
        "start_time": "2023-04-05T13:02:31.458Z"
      },
      {
        "duration": 13,
        "start_time": "2023-04-05T13:02:31.475Z"
      },
      {
        "duration": 37,
        "start_time": "2023-04-05T13:02:31.490Z"
      },
      {
        "duration": 846,
        "start_time": "2023-04-05T13:02:31.540Z"
      },
      {
        "duration": 9,
        "start_time": "2023-04-05T13:02:32.387Z"
      },
      {
        "duration": 8,
        "start_time": "2023-04-05T13:02:32.398Z"
      },
      {
        "duration": 206,
        "start_time": "2023-04-05T13:02:32.409Z"
      },
      {
        "duration": 11,
        "start_time": "2023-04-05T13:02:34.920Z"
      },
      {
        "duration": 191,
        "start_time": "2023-04-05T13:02:52.783Z"
      },
      {
        "duration": 1339,
        "start_time": "2023-04-05T13:03:13.816Z"
      },
      {
        "duration": 105,
        "start_time": "2023-04-05T13:03:24.312Z"
      },
      {
        "duration": 142,
        "start_time": "2023-04-05T13:03:29.729Z"
      },
      {
        "duration": 134,
        "start_time": "2023-04-05T13:03:38.815Z"
      },
      {
        "duration": 1153,
        "start_time": "2023-04-05T13:03:58.417Z"
      },
      {
        "duration": 1272,
        "start_time": "2023-04-05T13:04:03.089Z"
      },
      {
        "duration": 1193,
        "start_time": "2023-04-05T13:04:06.705Z"
      },
      {
        "duration": 11,
        "start_time": "2023-04-05T13:04:15.178Z"
      },
      {
        "duration": 1225,
        "start_time": "2023-04-05T13:04:19.185Z"
      },
      {
        "duration": 153,
        "start_time": "2023-04-05T13:04:36.009Z"
      },
      {
        "duration": 135,
        "start_time": "2023-04-05T13:05:15.228Z"
      },
      {
        "duration": 117,
        "start_time": "2023-04-05T13:05:22.577Z"
      },
      {
        "duration": 6,
        "start_time": "2023-04-05T13:05:51.065Z"
      },
      {
        "duration": 72,
        "start_time": "2023-04-05T13:05:51.073Z"
      },
      {
        "duration": 16,
        "start_time": "2023-04-05T13:05:51.146Z"
      },
      {
        "duration": 18,
        "start_time": "2023-04-05T13:05:51.163Z"
      },
      {
        "duration": 12,
        "start_time": "2023-04-05T13:05:51.183Z"
      },
      {
        "duration": 25,
        "start_time": "2023-04-05T13:05:51.196Z"
      },
      {
        "duration": 854,
        "start_time": "2023-04-05T13:05:51.222Z"
      },
      {
        "duration": 7,
        "start_time": "2023-04-05T13:05:52.079Z"
      },
      {
        "duration": 6,
        "start_time": "2023-04-05T13:05:52.088Z"
      },
      {
        "duration": 164,
        "start_time": "2023-04-05T13:05:52.096Z"
      },
      {
        "duration": 13,
        "start_time": "2023-04-05T13:05:52.262Z"
      },
      {
        "duration": 9,
        "start_time": "2023-04-05T13:05:52.277Z"
      },
      {
        "duration": 4,
        "start_time": "2023-04-05T13:05:52.288Z"
      },
      {
        "duration": 12,
        "start_time": "2023-04-05T13:05:52.294Z"
      },
      {
        "duration": 51,
        "start_time": "2023-04-05T13:05:52.308Z"
      },
      {
        "duration": 5,
        "start_time": "2023-04-05T13:05:52.361Z"
      },
      {
        "duration": 21,
        "start_time": "2023-04-05T13:05:52.368Z"
      },
      {
        "duration": 3,
        "start_time": "2023-04-05T13:05:52.392Z"
      },
      {
        "duration": 51,
        "start_time": "2023-04-05T13:05:52.397Z"
      },
      {
        "duration": 106,
        "start_time": "2023-04-05T13:05:52.458Z"
      },
      {
        "duration": 78,
        "start_time": "2023-04-05T13:05:52.567Z"
      },
      {
        "duration": 443,
        "start_time": "2023-04-05T13:05:52.646Z"
      },
      {
        "duration": 17180,
        "start_time": "2023-04-05T13:05:53.091Z"
      },
      {
        "duration": 13248,
        "start_time": "2023-04-05T13:06:10.273Z"
      },
      {
        "duration": 108,
        "start_time": "2023-04-05T13:07:12.894Z"
      },
      {
        "duration": 5,
        "start_time": "2023-04-05T13:07:40.633Z"
      },
      {
        "duration": 144,
        "start_time": "2023-04-05T13:13:05.199Z"
      },
      {
        "duration": 139,
        "start_time": "2023-04-05T13:13:24.412Z"
      },
      {
        "duration": 167,
        "start_time": "2023-04-05T13:14:30.037Z"
      },
      {
        "duration": 9,
        "start_time": "2023-04-05T13:15:00.346Z"
      },
      {
        "duration": 99,
        "start_time": "2023-04-05T13:15:00.358Z"
      },
      {
        "duration": 12,
        "start_time": "2023-04-05T13:15:00.459Z"
      },
      {
        "duration": 43,
        "start_time": "2023-04-05T13:15:00.473Z"
      },
      {
        "duration": 41,
        "start_time": "2023-04-05T13:15:00.519Z"
      },
      {
        "duration": 67,
        "start_time": "2023-04-05T13:15:00.562Z"
      },
      {
        "duration": 903,
        "start_time": "2023-04-05T13:15:00.631Z"
      },
      {
        "duration": 12,
        "start_time": "2023-04-05T13:15:01.535Z"
      },
      {
        "duration": 78,
        "start_time": "2023-04-05T13:15:01.549Z"
      },
      {
        "duration": 145,
        "start_time": "2023-04-05T13:15:01.628Z"
      },
      {
        "duration": 12,
        "start_time": "2023-04-05T13:15:01.774Z"
      },
      {
        "duration": 43,
        "start_time": "2023-04-05T13:15:01.787Z"
      },
      {
        "duration": 27,
        "start_time": "2023-04-05T13:15:01.831Z"
      },
      {
        "duration": 19,
        "start_time": "2023-04-05T13:15:01.861Z"
      },
      {
        "duration": 15,
        "start_time": "2023-04-05T13:15:01.882Z"
      },
      {
        "duration": 21,
        "start_time": "2023-04-05T13:15:01.899Z"
      },
      {
        "duration": 43,
        "start_time": "2023-04-05T13:15:01.922Z"
      },
      {
        "duration": 13,
        "start_time": "2023-04-05T13:15:01.967Z"
      },
      {
        "duration": 34,
        "start_time": "2023-04-05T13:15:01.981Z"
      },
      {
        "duration": 50,
        "start_time": "2023-04-05T13:15:02.017Z"
      },
      {
        "duration": 19,
        "start_time": "2023-04-05T13:15:02.143Z"
      },
      {
        "duration": 529,
        "start_time": "2023-04-05T13:15:02.163Z"
      },
      {
        "duration": 16609,
        "start_time": "2023-04-05T13:15:02.693Z"
      },
      {
        "duration": 13510,
        "start_time": "2023-04-05T13:15:19.303Z"
      },
      {
        "duration": 5,
        "start_time": "2023-04-05T13:15:32.814Z"
      },
      {
        "duration": 124,
        "start_time": "2023-04-05T13:15:32.821Z"
      },
      {
        "duration": 4,
        "start_time": "2023-04-05T13:15:32.954Z"
      },
      {
        "duration": 22,
        "start_time": "2023-04-05T13:15:32.959Z"
      },
      {
        "duration": 68,
        "start_time": "2023-04-05T13:15:32.982Z"
      },
      {
        "duration": 239,
        "start_time": "2023-04-05T13:15:33.051Z"
      },
      {
        "duration": 532,
        "start_time": "2023-04-05T13:15:33.292Z"
      },
      {
        "duration": 133,
        "start_time": "2023-04-05T13:15:33.825Z"
      },
      {
        "duration": 22507,
        "start_time": "2023-04-05T13:15:33.959Z"
      },
      {
        "duration": 4045,
        "start_time": "2023-04-05T13:15:56.467Z"
      },
      {
        "duration": 146,
        "start_time": "2023-04-05T13:16:00.514Z"
      },
      {
        "duration": 102608,
        "start_time": "2023-04-05T13:16:00.662Z"
      },
      {
        "duration": 135,
        "start_time": "2023-04-05T13:17:43.272Z"
      },
      {
        "duration": 5,
        "start_time": "2023-04-05T13:17:43.409Z"
      },
      {
        "duration": 14,
        "start_time": "2023-04-05T13:17:43.416Z"
      },
      {
        "duration": 116,
        "start_time": "2023-04-05T13:17:43.445Z"
      },
      {
        "duration": 219,
        "start_time": "2023-04-05T13:17:43.565Z"
      },
      {
        "duration": 223,
        "start_time": "2023-04-05T13:17:43.785Z"
      },
      {
        "duration": 139,
        "start_time": "2023-04-05T13:17:44.011Z"
      },
      {
        "duration": 43857,
        "start_time": "2023-04-05T13:17:44.151Z"
      },
      {
        "duration": 148,
        "start_time": "2023-04-05T13:18:28.010Z"
      },
      {
        "duration": 104,
        "start_time": "2023-04-05T13:18:28.160Z"
      },
      {
        "duration": 212,
        "start_time": "2023-04-05T13:18:28.265Z"
      },
      {
        "duration": 453,
        "start_time": "2023-04-05T13:18:28.479Z"
      },
      {
        "duration": 141,
        "start_time": "2023-04-05T13:18:28.934Z"
      },
      {
        "duration": 75921,
        "start_time": "2023-04-05T13:18:29.076Z"
      },
      {
        "duration": 146,
        "start_time": "2023-04-05T13:19:44.999Z"
      },
      {
        "duration": 14,
        "start_time": "2023-04-05T13:19:45.146Z"
      },
      {
        "duration": 350,
        "start_time": "2023-04-05T13:19:45.162Z"
      },
      {
        "duration": 139,
        "start_time": "2023-04-05T13:19:45.514Z"
      },
      {
        "duration": 155,
        "start_time": "2023-04-05T13:19:45.654Z"
      },
      {
        "duration": 3987,
        "start_time": "2023-04-05T14:30:37.394Z"
      },
      {
        "duration": 165,
        "start_time": "2023-04-05T14:30:41.384Z"
      },
      {
        "duration": 23,
        "start_time": "2023-04-05T14:30:41.551Z"
      },
      {
        "duration": 73,
        "start_time": "2023-04-05T14:30:41.577Z"
      },
      {
        "duration": 21,
        "start_time": "2023-04-05T14:30:41.653Z"
      },
      {
        "duration": 87,
        "start_time": "2023-04-05T14:30:41.676Z"
      },
      {
        "duration": 2876,
        "start_time": "2023-04-05T14:30:41.766Z"
      },
      {
        "duration": 8,
        "start_time": "2023-04-05T14:30:44.644Z"
      },
      {
        "duration": 28,
        "start_time": "2023-04-05T14:30:44.653Z"
      },
      {
        "duration": 371,
        "start_time": "2023-04-05T14:30:44.683Z"
      },
      {
        "duration": 19,
        "start_time": "2023-04-05T14:30:45.057Z"
      },
      {
        "duration": 98,
        "start_time": "2023-04-05T14:30:45.078Z"
      },
      {
        "duration": 16,
        "start_time": "2023-04-05T14:30:45.178Z"
      },
      {
        "duration": 99,
        "start_time": "2023-04-05T14:30:45.196Z"
      },
      {
        "duration": 62,
        "start_time": "2023-04-05T14:30:45.298Z"
      },
      {
        "duration": 78,
        "start_time": "2023-04-05T14:30:45.366Z"
      },
      {
        "duration": 220,
        "start_time": "2023-04-05T14:30:45.452Z"
      },
      {
        "duration": 67,
        "start_time": "2023-04-05T14:30:45.674Z"
      },
      {
        "duration": 90,
        "start_time": "2023-04-05T14:30:45.747Z"
      },
      {
        "duration": 185,
        "start_time": "2023-04-05T14:30:45.851Z"
      },
      {
        "duration": 11,
        "start_time": "2023-04-05T14:30:46.037Z"
      },
      {
        "duration": 1110,
        "start_time": "2023-04-05T14:30:46.050Z"
      },
      {
        "duration": 42817,
        "start_time": "2023-04-05T14:30:47.162Z"
      },
      {
        "duration": 31790,
        "start_time": "2023-04-05T14:31:29.981Z"
      },
      {
        "duration": 7,
        "start_time": "2023-04-05T14:32:01.774Z"
      },
      {
        "duration": 303,
        "start_time": "2023-04-05T14:32:01.834Z"
      },
      {
        "duration": 6,
        "start_time": "2023-04-05T14:32:02.138Z"
      },
      {
        "duration": 87,
        "start_time": "2023-04-05T14:32:02.150Z"
      },
      {
        "duration": 116,
        "start_time": "2023-04-05T14:32:02.243Z"
      },
      {
        "duration": 328,
        "start_time": "2023-04-05T14:32:02.534Z"
      },
      {
        "duration": 1287,
        "start_time": "2023-04-05T14:32:02.863Z"
      },
      {
        "duration": 323,
        "start_time": "2023-04-05T14:32:04.157Z"
      },
      {
        "duration": 57343,
        "start_time": "2023-04-05T14:32:04.534Z"
      },
      {
        "duration": 10107,
        "start_time": "2023-04-05T14:33:01.938Z"
      },
      {
        "duration": 380,
        "start_time": "2023-04-05T14:33:12.056Z"
      },
      {
        "duration": 224006,
        "start_time": "2023-04-05T14:33:12.441Z"
      },
      {
        "duration": 168,
        "start_time": "2023-04-05T14:36:56.448Z"
      },
      {
        "duration": 5,
        "start_time": "2023-04-05T14:36:56.617Z"
      },
      {
        "duration": 27,
        "start_time": "2023-04-05T14:36:56.624Z"
      },
      {
        "duration": 97,
        "start_time": "2023-04-05T14:36:56.654Z"
      },
      {
        "duration": 297,
        "start_time": "2023-04-05T14:36:56.753Z"
      },
      {
        "duration": 312,
        "start_time": "2023-04-05T14:36:57.054Z"
      },
      {
        "duration": 159,
        "start_time": "2023-04-05T14:36:57.368Z"
      },
      {
        "duration": 50723,
        "start_time": "2023-04-05T14:36:57.540Z"
      },
      {
        "duration": 161,
        "start_time": "2023-04-05T14:37:48.265Z"
      },
      {
        "duration": 201,
        "start_time": "2023-04-05T14:37:48.433Z"
      },
      {
        "duration": 178,
        "start_time": "2023-04-05T14:37:48.637Z"
      },
      {
        "duration": 491,
        "start_time": "2023-04-05T14:37:48.817Z"
      },
      {
        "duration": 170,
        "start_time": "2023-04-05T14:37:49.310Z"
      },
      {
        "duration": 86803,
        "start_time": "2023-04-05T14:37:49.482Z"
      },
      {
        "duration": 171,
        "start_time": "2023-04-05T14:39:16.287Z"
      },
      {
        "duration": 8,
        "start_time": "2023-04-05T14:39:16.461Z"
      },
      {
        "duration": 485,
        "start_time": "2023-04-05T14:39:16.471Z"
      },
      {
        "duration": 322,
        "start_time": "2023-04-05T14:39:16.958Z"
      },
      {
        "duration": 201,
        "start_time": "2023-04-05T14:39:17.282Z"
      },
      {
        "duration": 61,
        "start_time": "2023-04-05T15:22:01.206Z"
      },
      {
        "duration": 1648,
        "start_time": "2023-04-05T15:22:08.832Z"
      },
      {
        "duration": 204,
        "start_time": "2023-04-05T15:22:10.483Z"
      },
      {
        "duration": 15,
        "start_time": "2023-04-05T15:22:10.688Z"
      },
      {
        "duration": 13,
        "start_time": "2023-04-05T15:22:10.706Z"
      },
      {
        "duration": 7,
        "start_time": "2023-04-05T15:22:10.721Z"
      },
      {
        "duration": 47,
        "start_time": "2023-04-05T15:22:10.731Z"
      },
      {
        "duration": 1061,
        "start_time": "2023-04-05T15:22:13.178Z"
      },
      {
        "duration": 1117,
        "start_time": "2023-04-05T15:22:25.430Z"
      },
      {
        "duration": 159,
        "start_time": "2023-04-05T15:22:58.506Z"
      },
      {
        "duration": 136,
        "start_time": "2023-04-05T15:24:00.429Z"
      },
      {
        "duration": 7268,
        "start_time": "2023-04-05T15:27:59.628Z"
      },
      {
        "duration": 8,
        "start_time": "2023-04-05T15:29:57.766Z"
      },
      {
        "duration": 54,
        "start_time": "2023-04-05T15:30:00.512Z"
      },
      {
        "duration": 17,
        "start_time": "2023-04-05T15:30:03.030Z"
      },
      {
        "duration": 18,
        "start_time": "2023-04-05T15:30:05.317Z"
      },
      {
        "duration": 4,
        "start_time": "2023-04-05T15:30:12.470Z"
      },
      {
        "duration": 24,
        "start_time": "2023-04-05T15:30:13.343Z"
      },
      {
        "duration": 1048,
        "start_time": "2023-04-05T15:30:16.493Z"
      },
      {
        "duration": 6,
        "start_time": "2023-04-05T15:30:25.701Z"
      },
      {
        "duration": 6,
        "start_time": "2023-04-05T15:30:26.677Z"
      },
      {
        "duration": 148,
        "start_time": "2023-04-05T15:30:38.805Z"
      },
      {
        "duration": 16,
        "start_time": "2023-04-05T15:30:43.085Z"
      },
      {
        "duration": 9,
        "start_time": "2023-04-05T15:30:50.564Z"
      },
      {
        "duration": 7,
        "start_time": "2023-04-05T15:30:54.533Z"
      },
      {
        "duration": 15,
        "start_time": "2023-04-05T15:30:58.484Z"
      },
      {
        "duration": 9,
        "start_time": "2023-04-05T15:42:19.331Z"
      },
      {
        "duration": 110,
        "start_time": "2023-04-05T15:45:18.935Z"
      },
      {
        "duration": 11,
        "start_time": "2023-04-05T15:45:25.925Z"
      },
      {
        "duration": 18,
        "start_time": "2023-04-05T15:45:59.420Z"
      },
      {
        "duration": 6,
        "start_time": "2023-04-05T15:46:04.796Z"
      },
      {
        "duration": 16,
        "start_time": "2023-04-05T15:49:15.118Z"
      },
      {
        "duration": 2438,
        "start_time": "2023-04-05T15:50:18.214Z"
      },
      {
        "duration": 1260,
        "start_time": "2023-04-05T15:50:20.655Z"
      },
      {
        "duration": 72,
        "start_time": "2023-04-05T15:50:21.918Z"
      },
      {
        "duration": 19,
        "start_time": "2023-04-05T15:50:21.992Z"
      },
      {
        "duration": 15,
        "start_time": "2023-04-05T15:50:22.014Z"
      },
      {
        "duration": 5,
        "start_time": "2023-04-05T15:50:22.032Z"
      },
      {
        "duration": 48,
        "start_time": "2023-04-05T15:50:22.040Z"
      },
      {
        "duration": 1005,
        "start_time": "2023-04-05T15:50:22.090Z"
      },
      {
        "duration": 8,
        "start_time": "2023-04-05T15:50:23.098Z"
      },
      {
        "duration": 10,
        "start_time": "2023-04-05T15:50:23.108Z"
      },
      {
        "duration": 159,
        "start_time": "2023-04-05T15:50:23.119Z"
      },
      {
        "duration": 14,
        "start_time": "2023-04-05T15:50:23.280Z"
      },
      {
        "duration": 30,
        "start_time": "2023-04-05T15:50:23.297Z"
      },
      {
        "duration": 19,
        "start_time": "2023-04-05T15:50:23.331Z"
      },
      {
        "duration": 35,
        "start_time": "2023-04-05T15:50:23.352Z"
      },
      {
        "duration": 3,
        "start_time": "2023-04-05T15:50:23.390Z"
      },
      {
        "duration": 12,
        "start_time": "2023-04-05T15:50:23.395Z"
      },
      {
        "duration": 54,
        "start_time": "2023-04-05T15:50:23.409Z"
      },
      {
        "duration": 21,
        "start_time": "2023-04-05T15:50:23.465Z"
      },
      {
        "duration": 10,
        "start_time": "2023-04-05T15:50:25.974Z"
      },
      {
        "duration": 19,
        "start_time": "2023-04-05T15:51:40.160Z"
      },
      {
        "duration": 5,
        "start_time": "2023-04-05T15:52:11.151Z"
      },
      {
        "duration": 22,
        "start_time": "2023-04-05T15:53:39.440Z"
      },
      {
        "duration": 28,
        "start_time": "2023-04-05T15:53:55.306Z"
      },
      {
        "duration": 19,
        "start_time": "2023-04-05T15:57:33.664Z"
      },
      {
        "duration": 21,
        "start_time": "2023-04-05T15:58:36.466Z"
      },
      {
        "duration": 4,
        "start_time": "2023-04-05T16:00:34.035Z"
      },
      {
        "duration": 30,
        "start_time": "2023-04-05T16:00:35.978Z"
      },
      {
        "duration": 40,
        "start_time": "2023-04-05T16:01:07.711Z"
      },
      {
        "duration": 41,
        "start_time": "2023-04-05T16:01:10.405Z"
      },
      {
        "duration": 41,
        "start_time": "2023-04-05T16:01:35.799Z"
      },
      {
        "duration": 42,
        "start_time": "2023-04-05T16:02:01.293Z"
      },
      {
        "duration": 24,
        "start_time": "2023-04-05T16:02:28.572Z"
      },
      {
        "duration": 13,
        "start_time": "2023-04-05T16:02:34.005Z"
      },
      {
        "duration": 13,
        "start_time": "2023-04-05T16:02:48.438Z"
      },
      {
        "duration": 15,
        "start_time": "2023-04-05T16:03:01.557Z"
      },
      {
        "duration": 5,
        "start_time": "2023-04-05T16:10:27.246Z"
      },
      {
        "duration": 8,
        "start_time": "2023-04-05T16:10:42.080Z"
      },
      {
        "duration": 103,
        "start_time": "2023-04-05T16:12:26.417Z"
      },
      {
        "duration": 7,
        "start_time": "2023-04-05T16:12:30.903Z"
      },
      {
        "duration": 46,
        "start_time": "2023-04-05T16:12:40.505Z"
      },
      {
        "duration": 6,
        "start_time": "2023-04-05T16:13:29.944Z"
      },
      {
        "duration": 509,
        "start_time": "2023-04-05T16:13:41.995Z"
      },
      {
        "duration": 18469,
        "start_time": "2023-04-05T16:14:01.379Z"
      },
      {
        "duration": 158,
        "start_time": "2023-04-05T16:15:51.490Z"
      },
      {
        "duration": 117,
        "start_time": "2023-04-05T16:15:56.055Z"
      },
      {
        "duration": 360903,
        "start_time": "2023-04-05T16:16:01.700Z"
      },
      {
        "duration": 8,
        "start_time": "2023-04-05T16:22:24.851Z"
      },
      {
        "duration": 125,
        "start_time": "2023-04-05T16:22:25.764Z"
      },
      {
        "duration": 4816,
        "start_time": "2023-04-05T16:24:18.082Z"
      },
      {
        "duration": 64,
        "start_time": "2023-04-05T16:25:41.547Z"
      },
      {
        "duration": 48,
        "start_time": "2023-04-05T16:29:12.145Z"
      },
      {
        "duration": 22,
        "start_time": "2023-04-05T16:29:54.470Z"
      },
      {
        "duration": 8,
        "start_time": "2023-04-05T16:30:19.256Z"
      },
      {
        "duration": 20,
        "start_time": "2023-04-05T16:30:31.959Z"
      },
      {
        "duration": 21,
        "start_time": "2023-04-05T16:31:22.217Z"
      },
      {
        "duration": 74,
        "start_time": "2023-04-05T16:31:48.063Z"
      },
      {
        "duration": 157,
        "start_time": "2023-04-05T16:31:51.552Z"
      },
      {
        "duration": 844,
        "start_time": "2023-04-05T16:32:01.344Z"
      },
      {
        "duration": 169,
        "start_time": "2023-04-05T16:32:05.081Z"
      },
      {
        "duration": 11515,
        "start_time": "2023-04-05T16:32:16.778Z"
      },
      {
        "duration": 146635,
        "start_time": "2023-04-05T16:33:39.855Z"
      },
      {
        "duration": 180,
        "start_time": "2023-04-05T16:36:27.778Z"
      },
      {
        "duration": 192,
        "start_time": "2023-04-05T16:39:52.212Z"
      },
      {
        "duration": 14,
        "start_time": "2023-04-05T16:39:54.439Z"
      },
      {
        "duration": 16,
        "start_time": "2023-04-05T16:39:56.164Z"
      },
      {
        "duration": 159,
        "start_time": "2023-04-05T16:39:57.612Z"
      },
      {
        "duration": 149,
        "start_time": "2023-04-05T16:40:00.260Z"
      },
      {
        "duration": 241,
        "start_time": "2023-04-05T16:40:02.493Z"
      },
      {
        "duration": 170,
        "start_time": "2023-04-05T16:40:06.715Z"
      },
      {
        "duration": 53211,
        "start_time": "2023-04-05T16:40:09.165Z"
      },
      {
        "duration": 210,
        "start_time": "2023-04-05T16:41:09.093Z"
      },
      {
        "duration": 88,
        "start_time": "2023-04-05T16:41:22.668Z"
      },
      {
        "duration": 163,
        "start_time": "2023-04-05T16:41:23.341Z"
      },
      {
        "duration": 524,
        "start_time": "2023-04-05T16:41:24.043Z"
      },
      {
        "duration": 410,
        "start_time": "2023-04-05T16:41:27.647Z"
      },
      {
        "duration": 91517,
        "start_time": "2023-04-05T16:41:28.947Z"
      },
      {
        "duration": 10,
        "start_time": "2023-04-05T16:44:22.357Z"
      },
      {
        "duration": 339,
        "start_time": "2023-04-05T16:44:25.740Z"
      },
      {
        "duration": 218,
        "start_time": "2023-04-05T16:44:33.474Z"
      },
      {
        "duration": 216,
        "start_time": "2023-04-05T16:44:37.355Z"
      },
      {
        "duration": 75,
        "start_time": "2023-04-05T16:46:23.245Z"
      },
      {
        "duration": 367,
        "start_time": "2023-04-05T16:46:50.757Z"
      },
      {
        "duration": 349,
        "start_time": "2023-04-05T16:50:26.514Z"
      },
      {
        "duration": 17,
        "start_time": "2023-04-05T16:52:16.441Z"
      },
      {
        "duration": 6,
        "start_time": "2023-04-05T16:53:07.490Z"
      },
      {
        "duration": 404,
        "start_time": "2023-04-05T16:59:44.775Z"
      }
    ],
    "kernelspec": {
      "display_name": "Python 3 (ipykernel)",
      "language": "python",
      "name": "python3"
    },
    "language_info": {
      "codemirror_mode": {
        "name": "ipython",
        "version": 3
      },
      "file_extension": ".py",
      "mimetype": "text/x-python",
      "name": "python",
      "nbconvert_exporter": "python",
      "pygments_lexer": "ipython3",
      "version": "3.9.5"
    },
    "toc": {
      "base_numbering": 1,
      "nav_menu": {
        "height": "359px",
        "width": "354px"
      },
      "number_sections": true,
      "sideBar": true,
      "skip_h1_title": true,
      "title_cell": "Содержание",
      "title_sidebar": "Contents",
      "toc_cell": true,
      "toc_position": {},
      "toc_section_display": true,
      "toc_window_display": true
    },
    "colab": {
      "provenance": []
    }
  },
  "nbformat": 4,
  "nbformat_minor": 0
}